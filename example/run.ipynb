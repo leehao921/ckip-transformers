{
 "cells": [
  {
   "cell_type": "code",
   "execution_count": 79,
   "source": [
    "from ckip_transformers.nlp import CkipWordSegmenter, CkipPosTagger, CkipNerChunker\n",
    "import pandas as pd\n",
    "from pandas import ExcelWriter\n",
    "from collections import Counter\n",
    "import math\n",
    "print(\"Initializing drivers ... WS\")\n",
    "ws_driver = CkipWordSegmenter(level=2)\n",
    "print(\"Initializing drivers ... POS\")\n",
    "pos_driver = CkipPosTagger(level=2)\n",
    "print(\"Initializing drivers ... NER\")\n",
    "ner_driver = CkipNerChunker(level=2)\n",
    "print(\"Initializing drivers ... done\")\n",
    "print()\n",
    "def init(fileName):\n",
    "    global ws_driver,pos_driver,ner_driver,result,filename\n",
    "\n",
    "    filename = \"./_target/\"+fileName+\".xls\"\n",
    "    result=\"./_target/\"+fileName+\"reslut.xls\"\n",
    "    file = pd.read_excel(filename)\n",
    "\n",
    "    #//print(file.head(1))\n",
    "    data_with_index = file.set_index(\"公開/公告號\")\n",
    "    for i in data_with_index.index:\n",
    "        if('A' in i):\n",
    "            data_with_index=data_with_index.drop(i)\n",
    "    #print(data_with_index.head(1))\n",
    "    # * filter of the 公開專利 -> the 公開 one is pretty useless\n",
    "    file =data_with_index\n",
    "    print(fileName+str(len(file)))\n",
    "    return file"
   ],
   "outputs": [
    {
     "output_type": "stream",
     "name": "stdout",
     "text": [
      "Initializing drivers ... WS\n",
      "Initializing drivers ... POS\n",
      "Initializing drivers ... NER\n",
      "Initializing drivers ... done\n",
      "\n"
     ]
    }
   ],
   "metadata": {}
  },
  {
   "cell_type": "code",
   "execution_count": 80,
   "source": [
    "def run_file (file):\n",
    "    var=file[\"摘要\"]\n",
    "    name=file[\"專利名稱\"]\n",
    "    global sort_key,sort_words,sent_cnt,TF_IDF\n",
    "    sort_key=[]\n",
    "    sort_words=[]\n",
    "    sent_cnt=[]\n",
    "    TF_IDF=[]\n",
    "    for i in range (len(file)) :\n",
    "        text =[var[i]]\n",
    "        self_list=[]## get combine word \n",
    "        common_list=[]## get the most common word\n",
    "        sent_cnt.append(0)\n",
    "        # * Run pipeline\n",
    "        # //print(\"Running pipeline ... WS\")\n",
    "        ws = ws_driver(text)\n",
    "        # //print(\"Running pipeline ... POS\")\n",
    "        pos = pos_driver(ws)\n",
    "        # // print(\"Running pipeline ... NER\")\n",
    "        \n",
    "        ner = ner_driver(text)\n",
    "        \n",
    "        # //print(\"Running pipeline ... done\")\n",
    "        \n",
    "        print()\n",
    "        def pack_ws_pos_sentece(sentence_ws, sentence_pos):\n",
    "            assert len(sentence_ws) == len(sentence_pos)\n",
    "            res = []\n",
    "            #TODO 字詞的組合 根據屬性表將名詞-> 專有名詞 來增加字詞的特殊性\n",
    "            pre_pos=''\n",
    "            pre_ws=''\n",
    "            \n",
    "            for word_ws, word_pos in zip(sentence_ws, sentence_pos):\n",
    "                #! 寫的好爛... 可以透過語言結構做優化\n",
    "                res.append(f\"{word_ws}({word_pos})\")\n",
    "                \n",
    "                if(word_pos==\"Na\" or \"V\" in word_pos):\n",
    "                    common_list.append(word_ws)\n",
    "                    \n",
    "                if((word_pos == \"Na\"or word_pos==\"VC\") and pre_pos!='' ):\n",
    "                # * use \n",
    "                    Nb=f\"{pre_ws}{word_ws}\"\n",
    "                    # // print(Nb)\n",
    "                    self_list.append(pre_ws+word_ws)\n",
    "                    # //res.append(f\"{Nb}(Nb)\")\n",
    "                    pre_pos=\"\"\n",
    "                    pre_ws=\"\"\n",
    "                        \n",
    "                else :\n",
    "                    #* memorizing\n",
    "                    if(word_pos==\"VC\" or word_pos==\"VD\" or word_pos==\"Na\" or word_pos==\"Nb\"):\n",
    "                        pre_pos=word_pos\n",
    "                        pre_ws=word_ws\n",
    "                        \n",
    "                    else :\n",
    "                        pre_pos=''\n",
    "                        pre_ws=''\n",
    "                        # //res.append(f\"{word_ws}({word_pos})\")\n",
    "                if(word_pos==\"PERIODCATEGORY\" or word_pos==\"SEMICOLONCATEGORY\"):\n",
    "                    sent_cnt[i]+=1\n",
    "                    # //print(\"add \"+str(sent_cnt[i]))\n",
    "\n",
    "        # *zip指標的標記\n",
    "        for sentence, sentence_ws, sentence_pos, sentence_ner in zip(text, ws, pos, ner):\n",
    "            # //print(pos)\n",
    "            pack_ws_pos_sentece(sentence_ws, sentence_pos)\n",
    "        sort_key.append(Counter(self_list).most_common(20))\n",
    "        sort_words.append(Counter(common_list).most_common(20))\n",
    "        print(name[i])\n",
    "        # print(\"done\")\n",
    "        # # //print(sentence)\n",
    "        # print(\"------------\")\n",
    "        \n",
    "        # print(sort_key[i])\n",
    "        # print(\"------------\")\n",
    "        # print(sort_words[i])\n",
    "        \n",
    "        temp=[]\n",
    "        # print(sort_key[i])\n",
    "        for words in sort_key[i]:\n",
    "            _TF=((words[1])/len(self_list))\n",
    "            _IDF=math.log(sent_cnt[i]/words[1])\n",
    "\n",
    "            # print(_IDF)\n",
    "            # print(_TF)\n",
    "            temp_num=float(\"{:.2f}\".format(_TF*_IDF))\n",
    "            temp.append((words[0],temp_num))\n",
    "        temp.sort(reverse=True)    \n",
    "        TF_IDF.append(temp)\n",
    "        # print(TF_IDF)\n",
    "\n",
    "        # _TF_IDF=float(\"{:.2f}\".format(_TF*_IDF))\n",
    "        # *for entity in sentence_ner:\n",
    "        #//     print(entity)\n",
    "        print()\n",
    "        del text\n",
    "        del self_list,common_list \n",
    "    return "
   ],
   "outputs": [],
   "metadata": {
    "scrolled": true
   }
  },
  {
   "cell_type": "code",
   "execution_count": 81,
   "source": [
    "def file_done(file):\n",
    "    #* date format\n",
    "    ori_time=file[\"申請日\"]\n",
    "    date=[]\n",
    "    for i in ori_time:\n",
    "        s=str(i)\n",
    "        date.append(s[0:4]+'/'+s[4:6]+'/'+s[6:8])\n",
    "        #//(datetime(year=int(), month=int(s[4:6]), day=int(s[6:8])))\n",
    "    #//print((date))\n",
    "\n",
    "    #* export back to the file \n",
    "    print(len(TF_IDF))\n",
    "\n",
    "    bank ={\n",
    "            # \"ID\":file.index,\n",
    "            \"申請日\":date,\n",
    "            \"名稱\":file[\"專利名稱\"],\n",
    "            \"申請人\":file[\"申請人\"],\n",
    "            \"IPC\":file[\"IPC\"],\n",
    "            \"引用專利\":file[\"引用專利\"],\n",
    "            \"被參考次數\":file[\"被參考次數\"],    \n",
    "            \"專利摘要\":file[\"摘要\"],\n",
    "            \"摘要關鍵字\":sort_key,\n",
    "            \"摘要常用字\":sort_words,\n",
    "            \"TF_IDF\":TF_IDF,\n",
    "            }\n",
    "    # //print (pd.DataFrame(bank))\n",
    "    pd.DataFrame(bank).drop_duplicates(subset =\"名稱\",keep = False, inplace = True)\n",
    "    pd.DataFrame(bank).to_excel(result)\n",
    "    return \n",
    "#// bank ={\"名稱\":name,\n",
    "#//         \"KEY\":sort_key,\n",
    "#//         \"WORD\":sort_words\n",
    "#//         }\n",
    "#// print (pd.DataFrame(bank))"
   ],
   "outputs": [],
   "metadata": {}
  },
  {
   "cell_type": "code",
   "execution_count": 83,
   "source": [
    "\n",
    "#for i in [\"中信金控\",\"兆豐金控\",\"台新金控\",\"台灣金融控股\",\"國泰金控\",\"第一金控\",\"玉山金控\",\"土地銀行\",\"富邦金控\",\"開發金\"]:\n",
    "for i in [\"玉山金控\",\"土地銀行\",\"富邦金控\"]:\n",
    "    file=init(i)\n",
    "    run_file(file)\n",
    "    file_done(file)\n",
    "    print(i+\" is done\")"
   ],
   "outputs": [
    {
     "output_type": "stream",
     "name": "stderr",
     "text": [
      "Tokenization: 100%|██████████| 1/1 [00:00<00:00, 1058.10it/s]\n",
      "Inference:   0%|          | 0/1 [00:00<?, ?it/s]"
     ]
    },
    {
     "output_type": "stream",
     "name": "stdout",
     "text": [
      "74\n"
     ]
    },
    {
     "output_type": "stream",
     "name": "stderr",
     "text": [
      "Inference: 100%|██████████| 1/1 [00:00<00:00,  1.71it/s]\n",
      "Tokenization: 100%|██████████| 1/1 [00:00<00:00, 1224.97it/s]\n",
      "Inference: 100%|██████████| 1/1 [00:00<00:00,  1.00it/s]\n",
      "Tokenization: 100%|██████████| 1/1 [00:00<00:00, 1620.67it/s]\n",
      "Inference: 100%|██████████| 1/1 [00:00<00:00,  1.90it/s]\n",
      "Tokenization: 100%|██████████| 1/1 [00:00<00:00, 3246.37it/s]\n",
      "Inference:   0%|          | 0/1 [00:00<?, ?it/s]"
     ]
    },
    {
     "output_type": "stream",
     "name": "stdout",
     "text": [
      "Running pipeline ... done\n",
      "\n",
      "語音通訊管理系統\n",
      "\n"
     ]
    },
    {
     "output_type": "stream",
     "name": "stderr",
     "text": [
      "Inference: 100%|██████████| 1/1 [00:00<00:00,  2.29it/s]\n",
      "Tokenization: 100%|██████████| 1/1 [00:00<00:00, 1453.33it/s]\n",
      "Inference: 100%|██████████| 1/1 [00:01<00:00,  1.46s/it]\n",
      "Tokenization: 100%|██████████| 1/1 [00:00<00:00, 1432.48it/s]\n",
      "Inference: 100%|██████████| 1/1 [00:00<00:00,  1.51it/s]\n",
      "Tokenization: 100%|██████████| 1/1 [00:00<00:00, 1240.92it/s]\n",
      "Inference:   0%|          | 0/1 [00:00<?, ?it/s]"
     ]
    },
    {
     "output_type": "stream",
     "name": "stdout",
     "text": [
      "Running pipeline ... done\n",
      "\n",
      "服務系統\n",
      "\n"
     ]
    },
    {
     "output_type": "stream",
     "name": "stderr",
     "text": [
      "Inference: 100%|██████████| 1/1 [00:00<00:00,  1.26it/s]\n",
      "Tokenization: 100%|██████████| 1/1 [00:00<00:00, 1329.84it/s]\n",
      "Inference: 100%|██████████| 1/1 [00:00<00:00,  1.11it/s]\n",
      "Tokenization: 100%|██████████| 1/1 [00:00<00:00, 835.35it/s]\n",
      "Inference: 100%|██████████| 1/1 [00:00<00:00,  1.49it/s]\n",
      "Tokenization: 100%|██████████| 1/1 [00:00<00:00, 2187.95it/s]\n",
      "Inference:   0%|          | 0/1 [00:00<?, ?it/s]"
     ]
    },
    {
     "output_type": "stream",
     "name": "stdout",
     "text": [
      "Running pipeline ... done\n",
      "\n",
      "金融服務處理系統\n",
      "\n"
     ]
    },
    {
     "output_type": "stream",
     "name": "stderr",
     "text": [
      "Inference: 100%|██████████| 1/1 [00:00<00:00,  1.85it/s]\n",
      "Tokenization: 100%|██████████| 1/1 [00:00<00:00, 896.79it/s]\n",
      "Inference: 100%|██████████| 1/1 [00:00<00:00,  1.03it/s]\n",
      "Tokenization: 100%|██████████| 1/1 [00:00<00:00, 2486.25it/s]\n",
      "Inference: 100%|██████████| 1/1 [00:00<00:00,  2.04it/s]\n",
      "Tokenization: 100%|██████████| 1/1 [00:00<00:00, 2611.65it/s]\n",
      "Inference:   0%|          | 0/1 [00:00<?, ?it/s]"
     ]
    },
    {
     "output_type": "stream",
     "name": "stdout",
     "text": [
      "Running pipeline ... done\n",
      "\n",
      "數位帳戶管理系統DIGITAL ACCOUNT MANAGEMENT SYSTEM\n",
      "\n"
     ]
    },
    {
     "output_type": "stream",
     "name": "stderr",
     "text": [
      "Inference: 100%|██████████| 1/1 [00:00<00:00,  2.23it/s]\n",
      "Tokenization: 100%|██████████| 1/1 [00:00<00:00, 2189.09it/s]\n",
      "Inference: 100%|██████████| 1/1 [00:00<00:00,  1.11it/s]\n",
      "Tokenization: 100%|██████████| 1/1 [00:00<00:00, 2458.56it/s]\n",
      "Inference: 100%|██████████| 1/1 [00:00<00:00,  1.99it/s]\n",
      "Tokenization: 100%|██████████| 1/1 [00:00<00:00, 2732.45it/s]\n",
      "Inference:   0%|          | 0/1 [00:00<?, ?it/s]"
     ]
    },
    {
     "output_type": "stream",
     "name": "stdout",
     "text": [
      "Running pipeline ... done\n",
      "\n",
      "設備綁定驗證方法及系統METHOD AND SYSTEM FOR AUTHENTICATION WITH DEVICE BINDING\n",
      "\n"
     ]
    },
    {
     "output_type": "stream",
     "name": "stderr",
     "text": [
      "Inference: 100%|██████████| 1/1 [00:00<00:00,  2.03it/s]\n",
      "Tokenization: 100%|██████████| 1/1 [00:00<00:00, 2293.22it/s]\n",
      "Inference: 100%|██████████| 1/1 [00:00<00:00,  1.08it/s]\n",
      "Tokenization: 100%|██████████| 1/1 [00:00<00:00, 1567.38it/s]\n",
      "Inference: 100%|██████████| 1/1 [00:00<00:00,  1.95it/s]\n",
      "Tokenization: 100%|██████████| 1/1 [00:00<00:00, 694.42it/s]\n",
      "Inference:   0%|          | 0/1 [00:00<?, ?it/s]"
     ]
    },
    {
     "output_type": "stream",
     "name": "stdout",
     "text": [
      "Running pipeline ... done\n",
      "\n",
      "金融服務申請審核系統SYSTEM FOR EXAMINING FINANCIAL SERVICE APPLICATION\n",
      "\n"
     ]
    },
    {
     "output_type": "stream",
     "name": "stderr",
     "text": [
      "Inference: 100%|██████████| 1/1 [00:00<00:00,  1.63it/s]\n",
      "Tokenization: 100%|██████████| 1/1 [00:00<00:00, 1287.39it/s]\n",
      "Inference: 100%|██████████| 1/1 [00:00<00:00,  1.18it/s]\n",
      "Tokenization: 100%|██████████| 1/1 [00:00<00:00, 2066.16it/s]\n",
      "Inference: 100%|██████████| 1/1 [00:00<00:00,  1.54it/s]\n",
      "Tokenization: 100%|██████████| 1/1 [00:00<00:00, 372.73it/s]\n",
      "Inference:   0%|          | 0/1 [00:00<?, ?it/s]"
     ]
    },
    {
     "output_type": "stream",
     "name": "stdout",
     "text": [
      "Running pipeline ... done\n",
      "\n",
      "投資系統Investment system\n",
      "\n"
     ]
    },
    {
     "output_type": "stream",
     "name": "stderr",
     "text": [
      "Inference: 100%|██████████| 1/1 [00:03<00:00,  3.95s/it]\n",
      "Tokenization: 100%|██████████| 1/1 [00:00<00:00, 566.87it/s]\n",
      "Inference: 100%|██████████| 1/1 [00:25<00:00, 25.85s/it]\n",
      "Tokenization: 100%|██████████| 1/1 [00:00<00:00, 102.58it/s]\n",
      "Inference: 100%|██████████| 1/1 [00:04<00:00,  4.04s/it]\n",
      "Tokenization: 100%|██████████| 1/1 [00:00<00:00, 672.92it/s]\n",
      "Inference:   0%|          | 0/1 [00:00<?, ?it/s]"
     ]
    },
    {
     "output_type": "stream",
     "name": "stdout",
     "text": [
      "Running pipeline ... done\n",
      "\n",
      "交易點數捐贈系統SYSTEM FOR REWARDS POINT DONATION\n",
      "\n"
     ]
    },
    {
     "output_type": "stream",
     "name": "stderr",
     "text": [
      "Inference: 100%|██████████| 1/1 [00:00<00:00,  1.29it/s]\n",
      "Tokenization: 100%|██████████| 1/1 [00:00<00:00, 643.59it/s]\n",
      "Inference: 100%|██████████| 1/1 [00:01<00:00,  1.45s/it]\n",
      "Tokenization: 100%|██████████| 1/1 [00:00<00:00, 2221.56it/s]\n",
      "Inference: 100%|██████████| 1/1 [00:00<00:00,  1.71it/s]\n",
      "Tokenization: 100%|██████████| 1/1 [00:00<00:00, 2313.46it/s]\n",
      "Inference:   0%|          | 0/1 [00:00<?, ?it/s]"
     ]
    },
    {
     "output_type": "stream",
     "name": "stdout",
     "text": [
      "Running pipeline ... done\n",
      "\n",
      "交易系統、自動櫃員機及無卡交易方法TRANSACTION SYSTEM, AUTOMATED TELLER MACHINE AND METHOD FOR CARD-LESS TRANSACTION\n",
      "\n"
     ]
    },
    {
     "output_type": "stream",
     "name": "stderr",
     "text": [
      "Inference: 100%|██████████| 1/1 [00:00<00:00,  1.70it/s]\n",
      "Tokenization: 100%|██████████| 1/1 [00:00<00:00, 1412.22it/s]\n",
      "Inference: 100%|██████████| 1/1 [00:00<00:00,  1.25it/s]\n",
      "Tokenization: 100%|██████████| 1/1 [00:00<00:00, 2451.38it/s]\n",
      "Inference: 100%|██████████| 1/1 [00:00<00:00,  1.86it/s]\n",
      "Tokenization: 100%|██████████| 1/1 [00:00<00:00, 2046.00it/s]\n",
      "Inference:   0%|          | 0/1 [00:00<?, ?it/s]"
     ]
    },
    {
     "output_type": "stream",
     "name": "stdout",
     "text": [
      "Running pipeline ... done\n",
      "\n",
      "金融操作評分系統Financial operation grading system\n",
      "\n"
     ]
    },
    {
     "output_type": "stream",
     "name": "stderr",
     "text": [
      "Inference: 100%|██████████| 1/1 [00:00<00:00,  1.66it/s]\n",
      "Tokenization: 100%|██████████| 1/1 [00:00<00:00, 388.07it/s]\n",
      "Inference: 100%|██████████| 1/1 [00:00<00:00,  1.51it/s]\n",
      "Tokenization: 100%|██████████| 1/1 [00:00<00:00, 1125.99it/s]\n",
      "Inference: 100%|██████████| 1/1 [00:00<00:00,  1.65it/s]\n",
      "Tokenization: 100%|██████████| 1/1 [00:00<00:00, 682.67it/s]\n",
      "Inference:   0%|          | 0/1 [00:00<?, ?it/s]"
     ]
    },
    {
     "output_type": "stream",
     "name": "stdout",
     "text": [
      "Running pipeline ... done\n",
      "\n",
      "線上交易處理系統Online transaction processing system\n",
      "\n"
     ]
    },
    {
     "output_type": "stream",
     "name": "stderr",
     "text": [
      "Inference: 100%|██████████| 1/1 [00:03<00:00,  3.91s/it]\n",
      "Tokenization: 100%|██████████| 1/1 [00:00<00:00, 467.49it/s]\n",
      "Inference: 100%|██████████| 1/1 [00:11<00:00, 11.73s/it]\n",
      "Tokenization: 100%|██████████| 1/1 [00:00<00:00, 302.29it/s]\n",
      "Inference: 100%|██████████| 1/1 [00:03<00:00,  3.84s/it]\n",
      "Tokenization: 100%|██████████| 1/1 [00:00<00:00, 419.47it/s]\n",
      "Inference:   0%|          | 0/1 [00:00<?, ?it/s]"
     ]
    },
    {
     "output_type": "stream",
     "name": "stdout",
     "text": [
      "Running pipeline ... done\n",
      "\n",
      "人格特質分析系統SYSTEM FOR ANALYZING PERSONALITY TRAIT\n",
      "\n"
     ]
    },
    {
     "output_type": "stream",
     "name": "stderr",
     "text": [
      "Inference: 100%|██████████| 1/1 [00:02<00:00,  2.70s/it]\n",
      "Tokenization: 100%|██████████| 1/1 [00:00<00:00, 1042.58it/s]\n",
      "Inference: 100%|██████████| 1/1 [00:10<00:00, 10.37s/it]\n",
      "Tokenization: 100%|██████████| 1/1 [00:00<00:00, 689.17it/s]\n",
      "Inference: 100%|██████████| 1/1 [00:02<00:00,  2.75s/it]\n",
      "Tokenization: 100%|██████████| 1/1 [00:00<00:00, 3144.16it/s]\n",
      "Inference:   0%|          | 0/1 [00:00<?, ?it/s]"
     ]
    },
    {
     "output_type": "stream",
     "name": "stdout",
     "text": [
      "Running pipeline ... done\n",
      "\n",
      "跨伺服器申請服務的系統SYSTEM FOR APPLYING SERVICES ACROSS SERVERS\n",
      "\n"
     ]
    },
    {
     "output_type": "stream",
     "name": "stderr",
     "text": [
      "Inference: 100%|██████████| 1/1 [00:00<00:00,  1.84it/s]\n",
      "Tokenization: 100%|██████████| 1/1 [00:00<00:00, 2859.10it/s]\n",
      "Inference: 100%|██████████| 1/1 [00:00<00:00,  1.29it/s]\n",
      "Tokenization: 100%|██████████| 1/1 [00:00<00:00, 1347.35it/s]\n",
      "Inference: 100%|██████████| 1/1 [00:00<00:00,  1.97it/s]\n",
      "Tokenization: 100%|██████████| 1/1 [00:00<00:00, 669.27it/s]\n",
      "Inference:   0%|          | 0/1 [00:00<?, ?it/s]"
     ]
    },
    {
     "output_type": "stream",
     "name": "stdout",
     "text": [
      "Running pipeline ... done\n",
      "\n",
      "行動簽到系統Mobile sign-in system\n",
      "\n"
     ]
    },
    {
     "output_type": "stream",
     "name": "stderr",
     "text": [
      "Inference: 100%|██████████| 1/1 [00:03<00:00,  3.79s/it]\n",
      "Tokenization: 100%|██████████| 1/1 [00:00<00:00, 583.03it/s]\n",
      "Inference: 100%|██████████| 1/1 [00:17<00:00, 17.80s/it]\n",
      "Tokenization: 100%|██████████| 1/1 [00:00<00:00, 244.08it/s]\n",
      "Inference: 100%|██████████| 1/1 [00:04<00:00,  4.11s/it]\n",
      "Tokenization: 100%|██████████| 1/1 [00:00<00:00, 2053.01it/s]\n",
      "Inference:   0%|          | 0/1 [00:00<?, ?it/s]"
     ]
    },
    {
     "output_type": "stream",
     "name": "stdout",
     "text": [
      "Running pipeline ... done\n",
      "\n",
      "客戶資料管理系統CLIENT DATA MANAGEMENT SYSTEM\n",
      "\n"
     ]
    },
    {
     "output_type": "stream",
     "name": "stderr",
     "text": [
      "Inference: 100%|██████████| 1/1 [00:00<00:00,  1.67it/s]\n",
      "Tokenization: 100%|██████████| 1/1 [00:00<00:00, 2786.91it/s]\n",
      "Inference: 100%|██████████| 1/1 [00:01<00:00,  1.37s/it]\n",
      "Tokenization: 100%|██████████| 1/1 [00:00<00:00, 2866.92it/s]\n",
      "Inference: 100%|██████████| 1/1 [00:00<00:00,  1.73it/s]\n",
      "Tokenization: 100%|██████████| 1/1 [00:00<00:00, 1462.45it/s]\n",
      "Inference:   0%|          | 0/1 [00:00<?, ?it/s]"
     ]
    },
    {
     "output_type": "stream",
     "name": "stdout",
     "text": [
      "Running pipeline ... done\n",
      "\n",
      "使用代碼驗證的資料傳輸方法與系統DATA TRANSMISSION METHOD WITH CODE VERIFICATION AND SYSTEM THEREOF\n",
      "\n"
     ]
    },
    {
     "output_type": "stream",
     "name": "stderr",
     "text": [
      "Inference: 100%|██████████| 1/1 [00:00<00:00,  1.68it/s]\n",
      "Tokenization: 100%|██████████| 1/1 [00:00<00:00, 1326.47it/s]\n",
      "Inference: 100%|██████████| 1/1 [00:01<00:00,  1.05s/it]\n",
      "Tokenization: 100%|██████████| 1/1 [00:00<00:00, 1757.88it/s]\n",
      "Inference: 100%|██████████| 1/1 [00:00<00:00,  1.56it/s]\n",
      "Tokenization: 100%|██████████| 1/1 [00:00<00:00, 448.97it/s]\n",
      "Inference:   0%|          | 0/1 [00:00<?, ?it/s]"
     ]
    },
    {
     "output_type": "stream",
     "name": "stdout",
     "text": [
      "Running pipeline ... done\n",
      "\n",
      "行動支付管理方法及系統METHOD AND SYSTEM FOR MOBILE PAYMENT MANAGEMENT\n",
      "\n"
     ]
    },
    {
     "output_type": "stream",
     "name": "stderr",
     "text": [
      "Inference: 100%|██████████| 1/1 [00:02<00:00,  2.53s/it]\n",
      "Tokenization: 100%|██████████| 1/1 [00:00<00:00, 743.54it/s]\n",
      "Inference: 100%|██████████| 1/1 [00:08<00:00,  8.65s/it]\n",
      "Tokenization: 100%|██████████| 1/1 [00:00<00:00, 715.39it/s]\n",
      "Inference: 100%|██████████| 1/1 [00:02<00:00,  2.73s/it]\n",
      "Tokenization: 100%|██████████| 1/1 [00:00<00:00, 2213.35it/s]\n",
      "Inference:   0%|          | 0/1 [00:00<?, ?it/s]"
     ]
    },
    {
     "output_type": "stream",
     "name": "stdout",
     "text": [
      "Running pipeline ... done\n",
      "\n",
      "智能金融商品推薦系統INTELLIGENT RECOMMENDATION SYSTEM FOR FINANCIAL PRODUCT\n",
      "\n"
     ]
    },
    {
     "output_type": "stream",
     "name": "stderr",
     "text": [
      "Inference: 100%|██████████| 1/1 [00:00<00:00,  1.89it/s]\n",
      "Tokenization: 100%|██████████| 1/1 [00:00<00:00, 699.75it/s]\n",
      "Inference: 100%|██████████| 1/1 [00:00<00:00,  1.61it/s]\n",
      "Tokenization: 100%|██████████| 1/1 [00:00<00:00, 2232.20it/s]\n",
      "Inference: 100%|██████████| 1/1 [00:00<00:00,  2.07it/s]\n",
      "Tokenization: 100%|██████████| 1/1 [00:00<00:00, 343.04it/s]\n",
      "Inference:   0%|          | 0/1 [00:00<?, ?it/s]"
     ]
    },
    {
     "output_type": "stream",
     "name": "stdout",
     "text": [
      "Running pipeline ... done\n",
      "\n",
      "動態影像檢核方法、服務系統及電腦程式產品METHOD FOR DYNAMIC IMAGE EXAMINATION, SERVICE SYSTEM AND COMPUTER PROGRAM PRODUCT\n",
      "\n"
     ]
    },
    {
     "output_type": "stream",
     "name": "stderr",
     "text": [
      "Inference: 100%|██████████| 1/1 [00:03<00:00,  3.63s/it]\n",
      "Tokenization: 100%|██████████| 1/1 [00:00<00:00, 729.95it/s]\n",
      "Inference: 100%|██████████| 1/1 [00:19<00:00, 19.86s/it]\n",
      "Tokenization: 100%|██████████| 1/1 [00:00<00:00, 216.02it/s]\n",
      "Inference: 100%|██████████| 1/1 [00:04<00:00,  4.06s/it]\n",
      "Tokenization: 100%|██████████| 1/1 [00:00<00:00, 2410.52it/s]\n",
      "Inference:   0%|          | 0/1 [00:00<?, ?it/s]"
     ]
    },
    {
     "output_type": "stream",
     "name": "stdout",
     "text": [
      "Running pipeline ... done\n",
      "\n",
      "簽核流程管理系統SIGNING PROCESS MANAGEMENT SYSTEM\n",
      "\n"
     ]
    },
    {
     "output_type": "stream",
     "name": "stderr",
     "text": [
      "Inference: 100%|██████████| 1/1 [00:00<00:00,  1.53it/s]\n",
      "Tokenization: 100%|██████████| 1/1 [00:00<00:00, 1173.23it/s]\n",
      "Inference: 100%|██████████| 1/1 [00:00<00:00,  1.07it/s]\n",
      "Tokenization: 100%|██████████| 1/1 [00:00<00:00, 1356.94it/s]\n",
      "Inference: 100%|██████████| 1/1 [00:00<00:00,  1.41it/s]\n",
      "Tokenization: 100%|██████████| 1/1 [00:00<00:00, 400.33it/s]\n",
      "Inference:   0%|          | 0/1 [00:00<?, ?it/s]"
     ]
    },
    {
     "output_type": "stream",
     "name": "stdout",
     "text": [
      "Running pipeline ... done\n",
      "\n",
      "資料處理系統Data processing system\n",
      "\n"
     ]
    },
    {
     "output_type": "stream",
     "name": "stderr",
     "text": [
      "Inference: 100%|██████████| 1/1 [00:04<00:00,  4.05s/it]\n",
      "Tokenization: 100%|██████████| 1/1 [00:00<00:00, 379.95it/s]\n",
      "Inference: 100%|██████████| 1/1 [00:11<00:00, 11.81s/it]\n",
      "Tokenization: 100%|██████████| 1/1 [00:00<00:00, 220.17it/s]\n",
      "Inference: 100%|██████████| 1/1 [00:03<00:00,  3.86s/it]\n",
      "Tokenization: 100%|██████████| 1/1 [00:00<00:00, 2126.93it/s]\n",
      "Inference:   0%|          | 0/1 [00:00<?, ?it/s]"
     ]
    },
    {
     "output_type": "stream",
     "name": "stdout",
     "text": [
      "Running pipeline ... done\n",
      "\n",
      "轉移服務綁定設備的系統SYSTEM FOR TRANSFERRING SERVICE-BOUND DEVICE\n",
      "\n"
     ]
    },
    {
     "output_type": "stream",
     "name": "stderr",
     "text": [
      "Inference: 100%|██████████| 1/1 [00:00<00:00,  1.75it/s]\n",
      "Tokenization: 100%|██████████| 1/1 [00:00<00:00, 1194.62it/s]\n",
      "Inference: 100%|██████████| 1/1 [00:00<00:00,  1.05it/s]\n",
      "Tokenization: 100%|██████████| 1/1 [00:00<00:00, 2150.93it/s]\n",
      "Inference: 100%|██████████| 1/1 [00:00<00:00,  1.80it/s]\n",
      "Tokenization: 100%|██████████| 1/1 [00:00<00:00, 663.55it/s]\n",
      "Inference:   0%|          | 0/1 [00:00<?, ?it/s]"
     ]
    },
    {
     "output_type": "stream",
     "name": "stdout",
     "text": [
      "Running pipeline ... done\n",
      "\n",
      "交易檢核系統Transaction verification system\n",
      "\n"
     ]
    },
    {
     "output_type": "stream",
     "name": "stderr",
     "text": [
      "Inference: 100%|██████████| 1/1 [00:03<00:00,  3.86s/it]\n",
      "Tokenization: 100%|██████████| 1/1 [00:00<00:00, 798.61it/s]\n",
      "Inference: 100%|██████████| 1/1 [00:13<00:00, 13.39s/it]\n",
      "Tokenization: 100%|██████████| 1/1 [00:00<00:00, 307.01it/s]\n",
      "Inference: 100%|██████████| 1/1 [00:03<00:00,  3.75s/it]\n",
      "Tokenization: 100%|██████████| 1/1 [00:00<00:00, 594.18it/s]\n",
      "Inference:   0%|          | 0/1 [00:00<?, ?it/s]"
     ]
    },
    {
     "output_type": "stream",
     "name": "stdout",
     "text": [
      "Running pipeline ... done\n",
      "\n",
      "具非接觸式認證的金融交易裝置與系統FINANCIAL TRANSACTION DEVICE AND SYSTEM WITH NON-CONTACT AUTHENTICATION FUNCTION\n",
      "\n"
     ]
    },
    {
     "output_type": "stream",
     "name": "stderr",
     "text": [
      "Inference: 100%|██████████| 1/1 [00:03<00:00,  3.73s/it]\n",
      "Tokenization: 100%|██████████| 1/1 [00:00<00:00, 758.19it/s]\n",
      "Inference: 100%|██████████| 1/1 [00:22<00:00, 22.55s/it]\n",
      "Tokenization: 100%|██████████| 1/1 [00:00<00:00, 141.60it/s]\n",
      "Inference: 100%|██████████| 1/1 [00:03<00:00,  3.95s/it]\n",
      "Tokenization: 100%|██████████| 1/1 [00:00<00:00, 578.68it/s]\n",
      "Inference:   0%|          | 0/1 [00:00<?, ?it/s]"
     ]
    },
    {
     "output_type": "stream",
     "name": "stdout",
     "text": [
      "Running pipeline ... done\n",
      "\n",
      "姓名比對系統NAME COMPARISON SYSTEM\n",
      "\n"
     ]
    },
    {
     "output_type": "stream",
     "name": "stderr",
     "text": [
      "Inference: 100%|██████████| 1/1 [00:00<00:00,  1.69it/s]\n",
      "Tokenization: 100%|██████████| 1/1 [00:00<00:00, 721.54it/s]\n",
      "Inference: 100%|██████████| 1/1 [00:00<00:00,  1.46it/s]\n",
      "Tokenization: 100%|██████████| 1/1 [00:00<00:00, 636.95it/s]\n",
      "Inference: 100%|██████████| 1/1 [00:00<00:00,  1.79it/s]\n",
      "Tokenization: 100%|██████████| 1/1 [00:00<00:00, 1723.21it/s]\n",
      "Inference:   0%|          | 0/1 [00:00<?, ?it/s]"
     ]
    },
    {
     "output_type": "stream",
     "name": "stdout",
     "text": [
      "Running pipeline ... done\n",
      "\n",
      "金融服務處理系統Financial services processing system\n",
      "\n"
     ]
    },
    {
     "output_type": "stream",
     "name": "stderr",
     "text": [
      "Inference: 100%|██████████| 1/1 [00:00<00:00,  1.66it/s]\n",
      "Tokenization: 100%|██████████| 1/1 [00:00<00:00, 1348.22it/s]\n",
      "Inference: 100%|██████████| 1/1 [00:00<00:00,  1.40it/s]\n",
      "Tokenization: 100%|██████████| 1/1 [00:00<00:00, 667.14it/s]\n",
      "Inference: 100%|██████████| 1/1 [00:00<00:00,  1.63it/s]\n",
      "Tokenization: 100%|██████████| 1/1 [00:00<00:00, 314.06it/s]\n",
      "Inference:   0%|          | 0/1 [00:00<?, ?it/s]"
     ]
    },
    {
     "output_type": "stream",
     "name": "stdout",
     "text": [
      "Running pipeline ... done\n",
      "\n",
      "儲物系統Storage system\n",
      "\n"
     ]
    },
    {
     "output_type": "stream",
     "name": "stderr",
     "text": [
      "Inference: 100%|██████████| 1/1 [00:02<00:00,  2.65s/it]\n",
      "Tokenization: 100%|██████████| 1/1 [00:00<00:00, 429.57it/s]\n",
      "Inference: 100%|██████████| 1/1 [00:17<00:00, 17.73s/it]\n",
      "Tokenization: 100%|██████████| 1/1 [00:00<00:00, 271.21it/s]\n",
      "Inference: 100%|██████████| 1/1 [00:02<00:00,  2.74s/it]\n",
      "Tokenization: 100%|██████████| 1/1 [00:00<00:00, 630.44it/s]\n",
      "Inference:   0%|          | 0/1 [00:00<?, ?it/s]"
     ]
    },
    {
     "output_type": "stream",
     "name": "stdout",
     "text": [
      "Running pipeline ... done\n",
      "\n",
      "自我交易管控系統SYSTEM FOR SELF-MANAGEMENT TRANSACTION\n",
      "\n"
     ]
    },
    {
     "output_type": "stream",
     "name": "stderr",
     "text": [
      "Inference: 100%|██████████| 1/1 [00:03<00:00,  3.77s/it]\n",
      "Tokenization: 100%|██████████| 1/1 [00:00<00:00, 900.07it/s]\n",
      "Inference: 100%|██████████| 1/1 [00:23<00:00, 23.55s/it]\n",
      "Tokenization: 100%|██████████| 1/1 [00:00<00:00, 67.22it/s]\n",
      "Inference: 100%|██████████| 1/1 [00:03<00:00,  3.80s/it]\n",
      "Tokenization: 100%|██████████| 1/1 [00:00<00:00, 489.02it/s]\n",
      "Inference:   0%|          | 0/1 [00:00<?, ?it/s]"
     ]
    },
    {
     "output_type": "stream",
     "name": "stdout",
     "text": [
      "Running pipeline ... done\n",
      "\n",
      "設備綁定驗證系統SYSTEM FOR AUTHENTICATION WITH DEVICE BINDING\n",
      "\n"
     ]
    },
    {
     "output_type": "stream",
     "name": "stderr",
     "text": [
      "Inference: 100%|██████████| 1/1 [00:00<00:00,  2.07it/s]\n",
      "Tokenization: 100%|██████████| 1/1 [00:00<00:00, 339.32it/s]\n",
      "Inference: 100%|██████████| 1/1 [00:00<00:00,  1.13it/s]\n",
      "Tokenization: 100%|██████████| 1/1 [00:00<00:00, 556.42it/s]\n",
      "Inference: 100%|██████████| 1/1 [00:00<00:00,  2.24it/s]\n",
      "Tokenization: 100%|██████████| 1/1 [00:00<00:00, 435.73it/s]\n",
      "Inference:   0%|          | 0/1 [00:00<?, ?it/s]"
     ]
    },
    {
     "output_type": "stream",
     "name": "stdout",
     "text": [
      "Running pipeline ... done\n",
      "\n",
      "異常帳戶自動化偵測方法及系統METHOD AND SYSTEM FOR AUTOMATICALLY DETECTING UNUSUAL BANKING ACCOUNT\n",
      "\n"
     ]
    },
    {
     "output_type": "stream",
     "name": "stderr",
     "text": [
      "Inference: 100%|██████████| 1/1 [00:02<00:00,  2.47s/it]\n",
      "Tokenization: 100%|██████████| 1/1 [00:00<00:00, 576.38it/s]\n",
      "Inference: 100%|██████████| 1/1 [00:20<00:00, 20.40s/it]\n",
      "Tokenization: 100%|██████████| 1/1 [00:00<00:00, 199.56it/s]\n",
      "Inference: 100%|██████████| 1/1 [00:02<00:00,  2.46s/it]\n",
      "Tokenization: 100%|██████████| 1/1 [00:00<00:00, 488.51it/s]\n",
      "Inference:   0%|          | 0/1 [00:00<?, ?it/s]"
     ]
    },
    {
     "output_type": "stream",
     "name": "stdout",
     "text": [
      "Running pipeline ... done\n",
      "\n",
      "支付方式建議系統SYSTEM FOR SUGGESTING PAYMENT TYPE\n",
      "\n"
     ]
    },
    {
     "output_type": "stream",
     "name": "stderr",
     "text": [
      "Inference: 100%|██████████| 1/1 [00:00<00:00,  2.03it/s]\n",
      "Tokenization: 100%|██████████| 1/1 [00:00<00:00, 250.30it/s]\n",
      "Inference: 100%|██████████| 1/1 [00:01<00:00,  1.16s/it]\n",
      "Tokenization: 100%|██████████| 1/1 [00:00<00:00, 724.66it/s]\n",
      "Inference: 100%|██████████| 1/1 [00:00<00:00,  2.03it/s]\n",
      "Tokenization: 100%|██████████| 1/1 [00:00<00:00, 440.16it/s]\n",
      "Inference:   0%|          | 0/1 [00:00<?, ?it/s]"
     ]
    },
    {
     "output_type": "stream",
     "name": "stdout",
     "text": [
      "Running pipeline ... done\n",
      "\n",
      "視覺化呈現自動提款機佈點營運狀態的方法METHOD FOR VISUALIZING OPERATIONAL PERFORMANCE OF AUTOMATED TELLER MACHINE\n",
      "\n"
     ]
    },
    {
     "output_type": "stream",
     "name": "stderr",
     "text": [
      "Inference: 100%|██████████| 1/1 [00:03<00:00,  3.68s/it]\n",
      "Tokenization: 100%|██████████| 1/1 [00:00<00:00, 350.64it/s]\n",
      "Inference: 100%|██████████| 1/1 [00:14<00:00, 14.83s/it]\n",
      "Tokenization: 100%|██████████| 1/1 [00:00<00:00, 315.86it/s]\n",
      "Inference: 100%|██████████| 1/1 [00:03<00:00,  3.60s/it]\n",
      "Tokenization: 100%|██████████| 1/1 [00:00<00:00, 416.64it/s]\n",
      "Inference:   0%|          | 0/1 [00:00<?, ?it/s]"
     ]
    },
    {
     "output_type": "stream",
     "name": "stdout",
     "text": [
      "Running pipeline ... done\n",
      "\n",
      "影像簽章系統IMAGE SIGNATURE SYSTEM\n",
      "\n"
     ]
    },
    {
     "output_type": "stream",
     "name": "stderr",
     "text": [
      "Inference: 100%|██████████| 1/1 [00:03<00:00,  3.63s/it]\n",
      "Tokenization: 100%|██████████| 1/1 [00:00<00:00, 448.44it/s]\n",
      "Inference: 100%|██████████| 1/1 [00:26<00:00, 27.00s/it]\n",
      "Tokenization: 100%|██████████| 1/1 [00:00<00:00, 83.00it/s]\n",
      "Inference: 100%|██████████| 1/1 [00:03<00:00,  3.71s/it]\n",
      "Tokenization: 100%|██████████| 1/1 [00:00<00:00, 1929.30it/s]\n",
      "Inference:   0%|          | 0/1 [00:00<?, ?it/s]"
     ]
    },
    {
     "output_type": "stream",
     "name": "stdout",
     "text": [
      "Running pipeline ... done\n",
      "\n",
      "智能型貸款審核系統SYSTEM FOR INTELLIGENTLY PROCESSING LOAN APPLICATION\n",
      "\n"
     ]
    },
    {
     "output_type": "stream",
     "name": "stderr",
     "text": [
      "Inference: 100%|██████████| 1/1 [00:00<00:00,  1.76it/s]\n",
      "Tokenization: 100%|██████████| 1/1 [00:00<00:00, 595.87it/s]\n",
      "Inference: 100%|██████████| 1/1 [00:01<00:00,  1.05s/it]\n",
      "Tokenization: 100%|██████████| 1/1 [00:00<00:00, 730.59it/s]\n",
      "Inference: 100%|██████████| 1/1 [00:00<00:00,  1.77it/s]\n",
      "Tokenization: 100%|██████████| 1/1 [00:00<00:00, 378.21it/s]\n",
      "Inference:   0%|          | 0/1 [00:00<?, ?it/s]"
     ]
    },
    {
     "output_type": "stream",
     "name": "stdout",
     "text": [
      "Running pipeline ... done\n",
      "\n",
      "多路徑文件傳輸方法與系統METHOD AND SYSTEM FOR TRANSFERRING FILES WITH MULTIPLE TRANSMISSION PATHS\n",
      "\n"
     ]
    },
    {
     "output_type": "stream",
     "name": "stderr",
     "text": [
      "Inference: 100%|██████████| 1/1 [00:03<00:00,  3.69s/it]\n",
      "Tokenization: 100%|██████████| 1/1 [00:00<00:00, 473.34it/s]\n",
      "Inference: 100%|██████████| 1/1 [00:21<00:00, 21.07s/it]\n",
      "Tokenization: 100%|██████████| 1/1 [00:00<00:00, 121.41it/s]\n",
      "Inference: 100%|██████████| 1/1 [00:03<00:00,  3.78s/it]\n",
      "Tokenization: 100%|██████████| 1/1 [00:00<00:00, 646.47it/s]\n",
      "Inference:   0%|          | 0/1 [00:00<?, ?it/s]"
     ]
    },
    {
     "output_type": "stream",
     "name": "stdout",
     "text": [
      "Running pipeline ... done\n",
      "\n",
      "身分識別系統IDENTITY IDENTIFICATION SYSTEM\n",
      "\n"
     ]
    },
    {
     "output_type": "stream",
     "name": "stderr",
     "text": [
      "Inference: 100%|██████████| 1/1 [00:03<00:00,  3.70s/it]\n",
      "Tokenization: 100%|██████████| 1/1 [00:00<00:00, 436.27it/s]\n",
      "Inference: 100%|██████████| 1/1 [00:25<00:00, 25.94s/it]\n",
      "Tokenization: 100%|██████████| 1/1 [00:00<00:00, 76.75it/s]\n",
      "Inference: 100%|██████████| 1/1 [00:04<00:00,  4.01s/it]\n",
      "Tokenization: 100%|██████████| 1/1 [00:00<00:00, 1027.51it/s]\n",
      "Inference:   0%|          | 0/1 [00:00<?, ?it/s]"
     ]
    },
    {
     "output_type": "stream",
     "name": "stdout",
     "text": [
      "Running pipeline ... done\n",
      "\n",
      "利用不同電腦程序驗證金融服務存取權限的系統SYSTEM FOR VERIFYING FINANCIAL SERVICE ACCESS PRIVILEGE USING DIFFERENT COMPUTER SEQUENCES\n",
      "\n"
     ]
    },
    {
     "output_type": "stream",
     "name": "stderr",
     "text": [
      "Inference: 100%|██████████| 1/1 [00:00<00:00,  1.55it/s]\n",
      "Tokenization: 100%|██████████| 1/1 [00:00<00:00, 617.72it/s]\n",
      "Inference: 100%|██████████| 1/1 [00:01<00:00,  1.16s/it]\n",
      "Tokenization: 100%|██████████| 1/1 [00:00<00:00, 2462.89it/s]\n",
      "Inference: 100%|██████████| 1/1 [00:00<00:00,  1.67it/s]\n",
      "Tokenization: 100%|██████████| 1/1 [00:00<00:00, 1890.18it/s]\n",
      "Inference:   0%|          | 0/1 [00:00<?, ?it/s]"
     ]
    },
    {
     "output_type": "stream",
     "name": "stdout",
     "text": [
      "Running pipeline ... done\n",
      "\n",
      "模擬真人操作之電子裝置Electronic device simulating the operation of a real person\n",
      "\n"
     ]
    },
    {
     "output_type": "stream",
     "name": "stderr",
     "text": [
      "Inference: 100%|██████████| 1/1 [00:00<00:00,  1.99it/s]\n",
      "Tokenization: 100%|██████████| 1/1 [00:00<00:00, 1155.77it/s]\n",
      "Inference: 100%|██████████| 1/1 [00:00<00:00,  1.22it/s]\n",
      "Tokenization: 100%|██████████| 1/1 [00:00<00:00, 2589.08it/s]\n",
      "Inference: 100%|██████████| 1/1 [00:00<00:00,  2.02it/s]\n",
      "Tokenization: 100%|██████████| 1/1 [00:00<00:00, 603.58it/s]\n",
      "Inference:   0%|          | 0/1 [00:00<?, ?it/s]"
     ]
    },
    {
     "output_type": "stream",
     "name": "stdout",
     "text": [
      "Running pipeline ... done\n",
      "\n",
      "檢測真人操作之電子裝置Electronic device for detecting real human being operation\n",
      "\n"
     ]
    },
    {
     "output_type": "stream",
     "name": "stderr",
     "text": [
      "Inference: 100%|██████████| 1/1 [00:03<00:00,  3.71s/it]\n",
      "Tokenization: 100%|██████████| 1/1 [00:00<00:00, 825.81it/s]\n",
      "Inference: 100%|██████████| 1/1 [00:09<00:00,  9.64s/it]\n",
      "Tokenization: 100%|██████████| 1/1 [00:00<00:00, 387.00it/s]\n",
      "Inference: 100%|██████████| 1/1 [00:04<00:00,  4.05s/it]\n",
      "Tokenization: 100%|██████████| 1/1 [00:00<00:00, 397.00it/s]\n",
      "Inference:   0%|          | 0/1 [00:00<?, ?it/s]"
     ]
    },
    {
     "output_type": "stream",
     "name": "stdout",
     "text": [
      "Running pipeline ... done\n",
      "\n",
      "投資項目評分系統SYSTEM FOR SCORING INVESTMENT ITEM\n",
      "\n"
     ]
    },
    {
     "output_type": "stream",
     "name": "stderr",
     "text": [
      "Inference: 100%|██████████| 1/1 [00:04<00:00,  4.14s/it]\n",
      "Tokenization: 100%|██████████| 1/1 [00:00<00:00, 751.94it/s]\n",
      "Inference: 100%|██████████| 1/1 [00:23<00:00, 23.94s/it]\n",
      "Tokenization: 100%|██████████| 1/1 [00:00<00:00, 86.94it/s]\n",
      "Inference: 100%|██████████| 1/1 [00:03<00:00,  3.71s/it]\n",
      "Tokenization: 100%|██████████| 1/1 [00:00<00:00, 2637.93it/s]\n",
      "Inference:   0%|          | 0/1 [00:00<?, ?it/s]"
     ]
    },
    {
     "output_type": "stream",
     "name": "stdout",
     "text": [
      "Running pipeline ... done\n",
      "\n",
      "通過外部系統提領現金的系統SYSTEM FOR WITHDRAWING CASH VIA EXTERNAL SYSTEM\n",
      "\n"
     ]
    },
    {
     "output_type": "stream",
     "name": "stderr",
     "text": [
      "Inference: 100%|██████████| 1/1 [00:00<00:00,  1.80it/s]\n",
      "Tokenization: 100%|██████████| 1/1 [00:00<00:00, 1463.98it/s]\n",
      "Inference: 100%|██████████| 1/1 [00:00<00:00,  1.42it/s]\n",
      "Tokenization: 100%|██████████| 1/1 [00:00<00:00, 2341.88it/s]\n",
      "Inference: 100%|██████████| 1/1 [00:00<00:00,  1.67it/s]\n",
      "Tokenization: 100%|██████████| 1/1 [00:00<00:00, 405.68it/s]\n",
      "Inference:   0%|          | 0/1 [00:00<?, ?it/s]"
     ]
    },
    {
     "output_type": "stream",
     "name": "stdout",
     "text": [
      "Running pipeline ... done\n",
      "\n",
      "信用卡綁定方法及交易系統METHOD OF BINDING A CREDIT CARD AND TRANSACTION SYSTEM\n",
      "\n"
     ]
    },
    {
     "output_type": "stream",
     "name": "stderr",
     "text": [
      "Inference: 100%|██████████| 1/1 [00:03<00:00,  3.69s/it]\n",
      "Tokenization: 100%|██████████| 1/1 [00:00<00:00, 897.75it/s]\n",
      "Inference: 100%|██████████| 1/1 [00:08<00:00,  8.86s/it]\n",
      "Tokenization: 100%|██████████| 1/1 [00:00<00:00, 616.18it/s]\n",
      "Inference: 100%|██████████| 1/1 [00:03<00:00,  3.68s/it]\n",
      "Tokenization: 100%|██████████| 1/1 [00:00<00:00, 661.04it/s]\n",
      "Inference:   0%|          | 0/1 [00:00<?, ?it/s]"
     ]
    },
    {
     "output_type": "stream",
     "name": "stdout",
     "text": [
      "Running pipeline ... done\n",
      "\n",
      "使用感測元件及認證碼核驗身分的身分認證系統IDENTITY VERIFICATION SYSTEM USING SENSING ELEMENT AND VERIFICATION CODE TO VERIFY IDENTITY\n",
      "\n"
     ]
    },
    {
     "output_type": "stream",
     "name": "stderr",
     "text": [
      "Inference: 100%|██████████| 1/1 [00:03<00:00,  3.74s/it]\n",
      "Tokenization: 100%|██████████| 1/1 [00:00<00:00, 769.74it/s]\n",
      "Inference: 100%|██████████| 1/1 [00:15<00:00, 15.99s/it]\n",
      "Tokenization: 100%|██████████| 1/1 [00:00<00:00, 259.07it/s]\n",
      "Inference: 100%|██████████| 1/1 [00:03<00:00,  3.73s/it]\n",
      "Tokenization: 100%|██████████| 1/1 [00:00<00:00, 2785.06it/s]\n",
      "Inference:   0%|          | 0/1 [00:00<?, ?it/s]"
     ]
    },
    {
     "output_type": "stream",
     "name": "stdout",
     "text": [
      "Running pipeline ... done\n",
      "\n",
      "跨平台授權存取資源的授權存取系統AUTHORIZATION SYSTEM FOR CROSS-PLATFORM AUTHORIZING ACCESS TO RESOURCES\n",
      "\n"
     ]
    },
    {
     "output_type": "stream",
     "name": "stderr",
     "text": [
      "Inference: 100%|██████████| 1/1 [00:00<00:00,  1.85it/s]\n",
      "Tokenization: 100%|██████████| 1/1 [00:00<00:00, 1726.76it/s]\n",
      "Inference: 100%|██████████| 1/1 [00:00<00:00,  1.39it/s]\n",
      "Tokenization: 100%|██████████| 1/1 [00:00<00:00, 2538.92it/s]\n",
      "Inference: 100%|██████████| 1/1 [00:00<00:00,  1.91it/s]\n",
      "Tokenization: 100%|██████████| 1/1 [00:00<00:00, 2841.67it/s]\n",
      "Inference:   0%|          | 0/1 [00:00<?, ?it/s]"
     ]
    },
    {
     "output_type": "stream",
     "name": "stdout",
     "text": [
      "Running pipeline ... done\n",
      "\n",
      "電子交易系統Electronic transaction system\n",
      "\n"
     ]
    },
    {
     "output_type": "stream",
     "name": "stderr",
     "text": [
      "Inference: 100%|██████████| 1/1 [00:00<00:00,  2.02it/s]\n",
      "Tokenization: 100%|██████████| 1/1 [00:00<00:00, 2114.06it/s]\n",
      "Inference: 100%|██████████| 1/1 [00:00<00:00,  1.66it/s]\n",
      "Tokenization: 100%|██████████| 1/1 [00:00<00:00, 2746.76it/s]\n",
      "Inference: 100%|██████████| 1/1 [00:00<00:00,  2.06it/s]\n",
      "Tokenization: 100%|██████████| 1/1 [00:00<00:00, 409.16it/s]\n",
      "Inference:   0%|          | 0/1 [00:00<?, ?it/s]"
     ]
    },
    {
     "output_type": "stream",
     "name": "stdout",
     "text": [
      "Running pipeline ... done\n",
      "\n",
      "線上交易處理系統Online transaction processing system\n",
      "\n"
     ]
    },
    {
     "output_type": "stream",
     "name": "stderr",
     "text": [
      "Inference: 100%|██████████| 1/1 [00:03<00:00,  3.78s/it]\n",
      "Tokenization: 100%|██████████| 1/1 [00:00<00:00, 431.02it/s]\n",
      "Inference: 100%|██████████| 1/1 [00:20<00:00, 20.80s/it]\n",
      "Tokenization: 100%|██████████| 1/1 [00:00<00:00, 264.27it/s]\n",
      "Inference: 100%|██████████| 1/1 [00:03<00:00,  3.78s/it]\n",
      "Tokenization: 100%|██████████| 1/1 [00:00<00:00, 1763.79it/s]\n",
      "Inference:   0%|          | 0/1 [00:00<?, ?it/s]"
     ]
    },
    {
     "output_type": "stream",
     "name": "stdout",
     "text": [
      "Running pipeline ... done\n",
      "\n",
      "以互動式信息存取金融服務的系統SYSTEM FOR ACCESSING FINANCIAL SERVICE VIA INTERACTIVE MESSAGE\n",
      "\n"
     ]
    },
    {
     "output_type": "stream",
     "name": "stderr",
     "text": [
      "Inference: 100%|██████████| 1/1 [00:00<00:00,  1.71it/s]\n",
      "Tokenization: 100%|██████████| 1/1 [00:00<00:00, 2000.14it/s]\n",
      "Inference: 100%|██████████| 1/1 [00:00<00:00,  1.40it/s]\n",
      "Tokenization: 100%|██████████| 1/1 [00:00<00:00, 1557.48it/s]\n",
      "Inference: 100%|██████████| 1/1 [00:00<00:00,  1.78it/s]\n",
      "Tokenization: 100%|██████████| 1/1 [00:00<00:00, 1898.73it/s]\n",
      "Inference:   0%|          | 0/1 [00:00<?, ?it/s]"
     ]
    },
    {
     "output_type": "stream",
     "name": "stdout",
     "text": [
      "Running pipeline ... done\n",
      "\n",
      "影像通訊系統及服務系統Image communication system and service system\n",
      "\n"
     ]
    },
    {
     "output_type": "stream",
     "name": "stderr",
     "text": [
      "Inference: 100%|██████████| 1/1 [00:00<00:00,  1.82it/s]\n",
      "Tokenization: 100%|██████████| 1/1 [00:00<00:00, 945.30it/s]\n",
      "Inference: 100%|██████████| 1/1 [00:01<00:00,  1.05s/it]\n",
      "Tokenization: 100%|██████████| 1/1 [00:00<00:00, 2246.55it/s]\n",
      "Inference: 100%|██████████| 1/1 [00:00<00:00,  1.81it/s]\n",
      "Tokenization: 100%|██████████| 1/1 [00:00<00:00, 1321.04it/s]\n",
      "Inference:   0%|          | 0/1 [00:00<?, ?it/s]"
     ]
    },
    {
     "output_type": "stream",
     "name": "stdout",
     "text": [
      "Running pipeline ... done\n",
      "\n",
      "交易服務系統、交易紀錄產生暨備份系統及交易紀錄產生系統Transaction service system, transaction record generation and backup system, and transaction record generation system\n",
      "\n"
     ]
    },
    {
     "output_type": "stream",
     "name": "stderr",
     "text": [
      "Inference: 100%|██████████| 1/1 [00:00<00:00,  1.25it/s]\n",
      "Tokenization: 100%|██████████| 1/1 [00:00<00:00, 1103.76it/s]\n",
      "Inference: 100%|██████████| 1/1 [00:01<00:00,  1.27s/it]\n",
      "Tokenization: 100%|██████████| 1/1 [00:00<00:00, 1193.60it/s]\n",
      "Inference: 100%|██████████| 1/1 [00:00<00:00,  1.73it/s]\n",
      "Tokenization: 100%|██████████| 1/1 [00:00<00:00, 654.54it/s]\n",
      "Inference:   0%|          | 0/1 [00:00<?, ?it/s]"
     ]
    },
    {
     "output_type": "stream",
     "name": "stdout",
     "text": [
      "Running pipeline ... done\n",
      "\n",
      "授信額度管理方法與系統MANAGEMENT METHOD AND SYSTEM FOR CREDIT LINE\n",
      "\n"
     ]
    },
    {
     "output_type": "stream",
     "name": "stderr",
     "text": [
      "Inference: 100%|██████████| 1/1 [00:03<00:00,  3.63s/it]\n",
      "Tokenization: 100%|██████████| 1/1 [00:00<00:00, 847.51it/s]\n",
      "Inference: 100%|██████████| 1/1 [00:12<00:00, 12.90s/it]\n",
      "Tokenization: 100%|██████████| 1/1 [00:00<00:00, 266.59it/s]\n",
      "Inference: 100%|██████████| 1/1 [00:03<00:00,  3.60s/it]\n",
      "Tokenization: 100%|██████████| 1/1 [00:00<00:00, 637.82it/s]\n",
      "Inference:   0%|          | 0/1 [00:00<?, ?it/s]"
     ]
    },
    {
     "output_type": "stream",
     "name": "stdout",
     "text": [
      "Running pipeline ... done\n",
      "\n",
      "使用代碼驗證的資料傳輸系統DATA TRANSMISSION SYSTEM WITH CODE VERIFICATION\n",
      "\n"
     ]
    },
    {
     "output_type": "stream",
     "name": "stderr",
     "text": [
      "Inference: 100%|██████████| 1/1 [00:03<00:00,  3.61s/it]\n",
      "Tokenization: 100%|██████████| 1/1 [00:00<00:00, 285.48it/s]\n",
      "Inference: 100%|██████████| 1/1 [00:12<00:00, 12.35s/it]\n",
      "Tokenization: 100%|██████████| 1/1 [00:00<00:00, 309.41it/s]\n",
      "Inference: 100%|██████████| 1/1 [00:03<00:00,  3.76s/it]\n",
      "Tokenization: 100%|██████████| 1/1 [00:00<00:00, 306.85it/s]\n",
      "Inference:   0%|          | 0/1 [00:00<?, ?it/s]"
     ]
    },
    {
     "output_type": "stream",
     "name": "stdout",
     "text": [
      "Running pipeline ... done\n",
      "\n",
      "線上金融服務系統ONLINE FINANCIAL SERVICE SYSTEM\n",
      "\n"
     ]
    },
    {
     "output_type": "stream",
     "name": "stderr",
     "text": [
      "Inference: 100%|██████████| 1/1 [00:03<00:00,  3.72s/it]\n",
      "Tokenization: 100%|██████████| 1/1 [00:00<00:00, 523.83it/s]\n",
      "Inference: 100%|██████████| 1/1 [00:10<00:00, 10.59s/it]\n",
      "Tokenization: 100%|██████████| 1/1 [00:00<00:00, 290.79it/s]\n",
      "Inference: 100%|██████████| 1/1 [00:03<00:00,  3.74s/it]\n",
      "Tokenization: 100%|██████████| 1/1 [00:00<00:00, 2202.89it/s]\n",
      "Inference:   0%|          | 0/1 [00:00<?, ?it/s]"
     ]
    },
    {
     "output_type": "stream",
     "name": "stdout",
     "text": [
      "Running pipeline ... done\n",
      "\n",
      "行動支付管理系統SYSTEM FOR MOBILE PAYMENT MANAGEMENT\n",
      "\n"
     ]
    },
    {
     "output_type": "stream",
     "name": "stderr",
     "text": [
      "Inference: 100%|██████████| 1/1 [00:00<00:00,  1.64it/s]\n",
      "Tokenization: 100%|██████████| 1/1 [00:00<00:00, 2037.06it/s]\n",
      "Inference: 100%|██████████| 1/1 [00:01<00:00,  1.06s/it]\n",
      "Tokenization: 100%|██████████| 1/1 [00:00<00:00, 2123.70it/s]\n",
      "Inference: 100%|██████████| 1/1 [00:00<00:00,  1.76it/s]\n",
      "Tokenization: 100%|██████████| 1/1 [00:00<00:00, 654.03it/s]\n",
      "Inference:   0%|          | 0/1 [00:00<?, ?it/s]"
     ]
    },
    {
     "output_type": "stream",
     "name": "stdout",
     "text": [
      "Running pipeline ... done\n",
      "\n",
      "生物特徵交易系統Biometric transaction system\n",
      "\n"
     ]
    },
    {
     "output_type": "stream",
     "name": "stderr",
     "text": [
      "Inference: 100%|██████████| 1/1 [00:02<00:00,  2.46s/it]\n",
      "Tokenization: 100%|██████████| 1/1 [00:00<00:00, 550.94it/s]\n",
      "Inference: 100%|██████████| 1/1 [00:08<00:00,  8.26s/it]\n",
      "Tokenization: 100%|██████████| 1/1 [00:00<00:00, 519.74it/s]\n",
      "Inference: 100%|██████████| 1/1 [00:02<00:00,  2.48s/it]\n",
      "Tokenization: 100%|██████████| 1/1 [00:00<00:00, 640.94it/s]\n",
      "Inference:   0%|          | 0/1 [00:00<?, ?it/s]"
     ]
    },
    {
     "output_type": "stream",
     "name": "stdout",
     "text": [
      "Running pipeline ... done\n",
      "\n",
      "即時動態調整金融服務內容的系統SYSTEM FOR DYNAMICALLY ADJUSTING FINANCIAL SERVICE CONTENT IN REAL TIME\n",
      "\n"
     ]
    },
    {
     "output_type": "stream",
     "name": "stderr",
     "text": [
      "Inference: 100%|██████████| 1/1 [00:00<00:00,  1.74it/s]\n",
      "Tokenization: 100%|██████████| 1/1 [00:00<00:00, 927.53it/s]\n",
      "Inference: 100%|██████████| 1/1 [00:01<00:00,  1.21s/it]\n",
      "Tokenization: 100%|██████████| 1/1 [00:00<00:00, 290.52it/s]\n",
      "Inference: 100%|██████████| 1/1 [00:00<00:00,  1.28it/s]\n",
      "Tokenization: 100%|██████████| 1/1 [00:00<00:00, 1084.92it/s]\n",
      "Inference:   0%|          | 0/1 [00:00<?, ?it/s]"
     ]
    },
    {
     "output_type": "stream",
     "name": "stdout",
     "text": [
      "Running pipeline ... done\n",
      "\n",
      "網名過濾方法DOMAIN NAME FILTERING METHOD\n",
      "\n"
     ]
    },
    {
     "output_type": "stream",
     "name": "stderr",
     "text": [
      "Inference: 100%|██████████| 1/1 [00:00<00:00,  1.47it/s]\n",
      "Tokenization: 100%|██████████| 1/1 [00:00<00:00, 2387.20it/s]\n",
      "Inference: 100%|██████████| 1/1 [00:00<00:00,  1.02it/s]\n",
      "Tokenization: 100%|██████████| 1/1 [00:00<00:00, 2492.16it/s]\n",
      "Inference: 100%|██████████| 1/1 [00:00<00:00,  1.77it/s]\n",
      "Tokenization: 100%|██████████| 1/1 [00:00<00:00, 1580.37it/s]\n",
      "Inference:   0%|          | 0/1 [00:00<?, ?it/s]"
     ]
    },
    {
     "output_type": "stream",
     "name": "stdout",
     "text": [
      "Running pipeline ... done\n",
      "\n",
      "信用卡核發系統Credit card issuing system\n",
      "\n"
     ]
    },
    {
     "output_type": "stream",
     "name": "stderr",
     "text": [
      "Inference: 100%|██████████| 1/1 [00:00<00:00,  1.50it/s]\n",
      "Tokenization: 100%|██████████| 1/1 [00:00<00:00, 834.02it/s]\n",
      "Inference: 100%|██████████| 1/1 [00:00<00:00,  1.00it/s]\n",
      "Tokenization: 100%|██████████| 1/1 [00:00<00:00, 2709.50it/s]\n",
      "Inference: 100%|██████████| 1/1 [00:00<00:00,  1.72it/s]\n",
      "Tokenization: 100%|██████████| 1/1 [00:00<00:00, 658.45it/s]\n",
      "Inference:   0%|          | 0/1 [00:00<?, ?it/s]"
     ]
    },
    {
     "output_type": "stream",
     "name": "stdout",
     "text": [
      "Running pipeline ... done\n",
      "\n",
      "自動化服務系統身分驗證方法及其伺服端AUTOMATIC SERVICE SYSTEM IDENTITY VERIFICATION METHOD AND ITS SERVER\n",
      "\n"
     ]
    },
    {
     "output_type": "stream",
     "name": "stderr",
     "text": [
      "Inference: 100%|██████████| 1/1 [00:02<00:00,  2.54s/it]\n",
      "Tokenization: 100%|██████████| 1/1 [00:00<00:00, 307.23it/s]\n",
      "Inference: 100%|██████████| 1/1 [00:08<00:00,  8.18s/it]\n",
      "Tokenization: 100%|██████████| 1/1 [00:00<00:00, 794.23it/s]\n",
      "Inference: 100%|██████████| 1/1 [00:02<00:00,  2.40s/it]\n",
      "Tokenization: 100%|██████████| 1/1 [00:00<00:00, 697.77it/s]\n",
      "Inference:   0%|          | 0/1 [00:00<?, ?it/s]"
     ]
    },
    {
     "output_type": "stream",
     "name": "stdout",
     "text": [
      "Running pipeline ... done\n",
      "\n",
      "語音觸發金融服務的系統SYSTEM OF TRIGGERING FINANCIAL SERVICE WITH VOICE\n",
      "\n"
     ]
    },
    {
     "output_type": "stream",
     "name": "stderr",
     "text": [
      "Inference: 100%|██████████| 1/1 [00:03<00:00,  3.57s/it]\n",
      "Tokenization: 100%|██████████| 1/1 [00:00<00:00, 888.06it/s]\n",
      "Inference: 100%|██████████| 1/1 [00:24<00:00, 24.84s/it]\n",
      "Tokenization: 100%|██████████| 1/1 [00:00<00:00, 69.31it/s]\n",
      "Inference: 100%|██████████| 1/1 [00:03<00:00,  4.00s/it]\n",
      "Tokenization: 100%|██████████| 1/1 [00:00<00:00, 570.11it/s]\n",
      "Inference:   0%|          | 0/1 [00:00<?, ?it/s]"
     ]
    },
    {
     "output_type": "stream",
     "name": "stdout",
     "text": [
      "Running pipeline ... done\n",
      "\n",
      "語音指令處理系統SYSTEM FOR PROCESSING VOICE COMMAND\n",
      "\n"
     ]
    },
    {
     "output_type": "stream",
     "name": "stderr",
     "text": [
      "Inference: 100%|██████████| 1/1 [00:03<00:00,  3.60s/it]\n",
      "Tokenization: 100%|██████████| 1/1 [00:00<00:00, 861.96it/s]\n",
      "Inference: 100%|██████████| 1/1 [00:24<00:00, 24.29s/it]\n",
      "Tokenization: 100%|██████████| 1/1 [00:00<00:00, 72.21it/s]\n",
      "Inference: 100%|██████████| 1/1 [00:03<00:00,  3.59s/it]\n",
      "Tokenization: 100%|██████████| 1/1 [00:00<00:00, 2087.76it/s]\n",
      "Inference:   0%|          | 0/1 [00:00<?, ?it/s]"
     ]
    },
    {
     "output_type": "stream",
     "name": "stdout",
     "text": [
      "Running pipeline ... done\n",
      "\n",
      "多路徑文件傳輸系統SYSTEM FOR TRANSFERRING FILES WITH MULTIPLE TRANSMISSION PATHS\n",
      "\n"
     ]
    },
    {
     "output_type": "stream",
     "name": "stderr",
     "text": [
      "Inference: 100%|██████████| 1/1 [00:00<00:00,  1.73it/s]\n",
      "Tokenization: 100%|██████████| 1/1 [00:00<00:00, 1754.20it/s]\n",
      "Inference: 100%|██████████| 1/1 [00:00<00:00,  1.23it/s]\n",
      "Tokenization: 100%|██████████| 1/1 [00:00<00:00, 1776.49it/s]\n",
      "Inference: 100%|██████████| 1/1 [00:00<00:00,  1.74it/s]\n",
      "Tokenization: 100%|██████████| 1/1 [00:00<00:00, 2145.42it/s]\n",
      "Inference:   0%|          | 0/1 [00:00<?, ?it/s]"
     ]
    },
    {
     "output_type": "stream",
     "name": "stdout",
     "text": [
      "Running pipeline ... done\n",
      "\n",
      "電子交易方法及系統METHOD AND SYSTEM FOR ELECTRICAL TRANSACTION\n",
      "\n"
     ]
    },
    {
     "output_type": "stream",
     "name": "stderr",
     "text": [
      "Inference: 100%|██████████| 1/1 [00:00<00:00,  1.78it/s]\n",
      "Tokenization: 100%|██████████| 1/1 [00:00<00:00, 1269.08it/s]\n",
      "Inference: 100%|██████████| 1/1 [00:00<00:00,  1.33it/s]\n",
      "Tokenization: 100%|██████████| 1/1 [00:00<00:00, 1808.67it/s]\n",
      "Inference: 100%|██████████| 1/1 [00:00<00:00,  1.77it/s]\n",
      "Tokenization: 100%|██████████| 1/1 [00:00<00:00, 1795.51it/s]\n",
      "Inference:   0%|          | 0/1 [00:00<?, ?it/s]"
     ]
    },
    {
     "output_type": "stream",
     "name": "stdout",
     "text": [
      "Running pipeline ... done\n",
      "\n",
      "資訊安全防護方法INFORMATION SECURITY PROTECTION METHOD\n",
      "\n"
     ]
    },
    {
     "output_type": "stream",
     "name": "stderr",
     "text": [
      "Inference: 100%|██████████| 1/1 [00:00<00:00,  2.08it/s]\n",
      "Tokenization: 100%|██████████| 1/1 [00:00<00:00, 2101.35it/s]\n",
      "Inference: 100%|██████████| 1/1 [00:00<00:00,  1.31it/s]\n",
      "Tokenization: 100%|██████████| 1/1 [00:00<00:00, 1192.92it/s]\n",
      "Inference: 100%|██████████| 1/1 [00:00<00:00,  2.09it/s]\n",
      "Tokenization: 100%|██████████| 1/1 [00:00<00:00, 2105.57it/s]\n",
      "Inference:   0%|          | 0/1 [00:00<?, ?it/s]"
     ]
    },
    {
     "output_type": "stream",
     "name": "stdout",
     "text": [
      "Running pipeline ... done\n",
      "\n",
      "利用活體及人臉辨識執行無卡交易的交易系統及自動櫃員機Trading system and automated teller machine using living body and face recognition to carry out card-free transaction\n",
      "\n"
     ]
    },
    {
     "output_type": "stream",
     "name": "stderr",
     "text": [
      "Inference: 100%|██████████| 1/1 [00:00<00:00,  1.82it/s]\n",
      "Tokenization: 100%|██████████| 1/1 [00:00<00:00, 1276.80it/s]\n",
      "Inference: 100%|██████████| 1/1 [00:00<00:00,  1.29it/s]\n",
      "Tokenization: 100%|██████████| 1/1 [00:00<00:00, 1377.44it/s]\n",
      "Inference: 100%|██████████| 1/1 [00:00<00:00,  1.81it/s]\n",
      "Tokenization: 100%|██████████| 1/1 [00:00<00:00, 2169.84it/s]\n",
      "Inference:   0%|          | 0/1 [00:00<?, ?it/s]"
     ]
    },
    {
     "output_type": "stream",
     "name": "stdout",
     "text": [
      "Running pipeline ... done\n",
      "\n",
      "利用活體及人臉辨識進行無卡交易開通的交易系統及自動櫃員機Trading system using living body and face recognition to carry out provisioning for card-free transaction and automated teller machine\n",
      "\n"
     ]
    },
    {
     "output_type": "stream",
     "name": "stderr",
     "text": [
      "Inference: 100%|██████████| 1/1 [00:00<00:00,  1.84it/s]\n",
      "Tokenization: 100%|██████████| 1/1 [00:00<00:00, 549.35it/s]\n",
      "Inference: 100%|██████████| 1/1 [00:00<00:00,  1.20it/s]\n",
      "Tokenization: 100%|██████████| 1/1 [00:00<00:00, 2410.52it/s]\n",
      "Inference: 100%|██████████| 1/1 [00:00<00:00,  1.84it/s]\n",
      "Tokenization: 100%|██████████| 1/1 [00:00<00:00, 2666.44it/s]\n",
      "Inference:   0%|          | 0/1 [00:00<?, ?it/s]"
     ]
    },
    {
     "output_type": "stream",
     "name": "stdout",
     "text": [
      "Running pipeline ... done\n",
      "\n",
      "電子文件的驗證方法AUTHENTICATION METHOD OF ELECTRONIC DOCUMENT\n",
      "\n"
     ]
    },
    {
     "output_type": "stream",
     "name": "stderr",
     "text": [
      "Inference: 100%|██████████| 1/1 [00:00<00:00,  1.87it/s]\n",
      "Tokenization: 100%|██████████| 1/1 [00:00<00:00, 2462.89it/s]\n",
      "Inference: 100%|██████████| 1/1 [00:00<00:00,  1.48it/s]\n",
      "Tokenization: 100%|██████████| 1/1 [00:00<00:00, 573.78it/s]\n",
      "Inference: 100%|██████████| 1/1 [00:00<00:00,  1.85it/s]\n",
      "Tokenization: 100%|██████████| 1/1 [00:00<00:00, 1422.76it/s]\n",
      "Inference:   0%|          | 0/1 [00:00<?, ?it/s]"
     ]
    },
    {
     "output_type": "stream",
     "name": "stdout",
     "text": [
      "Running pipeline ... done\n",
      "\n",
      "交易系統TRANSACTION SYSTEM\n",
      "\n"
     ]
    },
    {
     "output_type": "stream",
     "name": "stderr",
     "text": [
      "Inference: 100%|██████████| 1/1 [00:00<00:00,  1.70it/s]\n",
      "Tokenization: 100%|██████████| 1/1 [00:00<00:00, 1133.90it/s]\n",
      "Inference: 100%|██████████| 1/1 [00:00<00:00,  1.02it/s]\n",
      "Tokenization: 100%|██████████| 1/1 [00:00<00:00, 1855.07it/s]\n",
      "Inference: 100%|██████████| 1/1 [00:00<00:00,  1.92it/s]\n",
      "Tokenization: 100%|██████████| 1/1 [00:00<00:00, 2651.27it/s]\n",
      "Inference:   0%|          | 0/1 [00:00<?, ?it/s]"
     ]
    },
    {
     "output_type": "stream",
     "name": "stdout",
     "text": [
      "Running pipeline ... done\n",
      "\n",
      "金融資訊互動推薦系統及其互動推薦方法\n",
      "\n"
     ]
    },
    {
     "output_type": "stream",
     "name": "stderr",
     "text": [
      "Inference: 100%|██████████| 1/1 [00:00<00:00,  1.73it/s]\n",
      "Tokenization: 100%|██████████| 1/1 [00:00<00:00, 2212.19it/s]\n",
      "Inference: 100%|██████████| 1/1 [00:00<00:00,  1.04it/s]\n",
      "Tokenization: 100%|██████████| 1/1 [00:00<00:00, 2659.67it/s]\n",
      "Inference: 100%|██████████| 1/1 [00:00<00:00,  1.66it/s]\n",
      "Tokenization: 100%|██████████| 1/1 [00:00<00:00, 1580.37it/s]\n",
      "Inference:   0%|          | 0/1 [00:00<?, ?it/s]"
     ]
    },
    {
     "output_type": "stream",
     "name": "stdout",
     "text": [
      "Running pipeline ... done\n",
      "\n",
      "自動化意圖萃取裝置及其方法\n",
      "\n"
     ]
    },
    {
     "output_type": "stream",
     "name": "stderr",
     "text": [
      "Inference: 100%|██████████| 1/1 [00:00<00:00,  1.73it/s]\n",
      "Tokenization: 100%|██████████| 1/1 [00:00<00:00, 1779.51it/s]\n",
      "Inference: 100%|██████████| 1/1 [00:00<00:00,  1.56it/s]\n",
      "Tokenization: 100%|██████████| 1/1 [00:00<00:00, 1474.27it/s]\n",
      "Inference: 100%|██████████| 1/1 [00:00<00:00,  1.76it/s]\n",
      "Tokenization: 100%|██████████| 1/1 [00:00<00:00, 5343.06it/s]\n",
      "Inference:   0%|          | 0/1 [00:00<?, ?it/s]"
     ]
    },
    {
     "output_type": "stream",
     "name": "stdout",
     "text": [
      "Running pipeline ... done\n",
      "\n",
      "相關於網路交易的客戶信用資訊管理系統\n",
      "\n"
     ]
    },
    {
     "output_type": "stream",
     "name": "stderr",
     "text": [
      "Inference: 100%|██████████| 1/1 [00:00<00:00,  4.35it/s]\n",
      "Tokenization: 100%|██████████| 1/1 [00:00<00:00, 4044.65it/s]\n",
      "Inference: 100%|██████████| 1/1 [00:00<00:00,  3.20it/s]\n",
      "Tokenization: 100%|██████████| 1/1 [00:00<00:00, 5077.85it/s]\n",
      "Inference: 100%|██████████| 1/1 [00:00<00:00,  4.44it/s]\n",
      "Tokenization: 100%|██████████| 1/1 [00:00<00:00, 1706.39it/s]\n",
      "Inference:   0%|          | 0/1 [00:00<?, ?it/s]"
     ]
    },
    {
     "output_type": "stream",
     "name": "stdout",
     "text": [
      "Running pipeline ... done\n",
      "\n",
      "端點存取過程中的資訊管控方法、主機設備及系統INFORMATION MANAGEMENT METHOD, HOST DEVICE AND SYSTEM FOR DATA PROTECTION IN ACCESSING PROCESS\n",
      "\n"
     ]
    },
    {
     "output_type": "stream",
     "name": "stderr",
     "text": [
      "Inference: 100%|██████████| 1/1 [00:00<00:00,  1.73it/s]\n",
      "Tokenization: 100%|██████████| 1/1 [00:00<00:00, 1508.20it/s]\n",
      "Inference: 100%|██████████| 1/1 [00:00<00:00,  1.14it/s]\n",
      "Tokenization: 100%|██████████| 1/1 [00:00<00:00, 2413.29it/s]\n",
      "Inference: 100%|██████████| 1/1 [00:00<00:00,  1.65it/s]\n",
      "Tokenization: 100%|██████████| 1/1 [00:00<00:00, 1094.26it/s]\n",
      "Inference:   0%|          | 0/1 [00:00<?, ?it/s]"
     ]
    },
    {
     "output_type": "stream",
     "name": "stdout",
     "text": [
      "Running pipeline ... done\n",
      "\n",
      "監控可疑交易的方法METHOD OF MONITORING SUSPICIOUS TRANSACTIONS\n",
      "\n"
     ]
    },
    {
     "output_type": "stream",
     "name": "stderr",
     "text": [
      "Inference: 100%|██████████| 1/1 [00:01<00:00,  1.12s/it]\n",
      "Tokenization: 100%|██████████| 1/1 [00:00<00:00, 1027.51it/s]\n",
      "Inference: 100%|██████████| 1/1 [00:01<00:00,  1.93s/it]\n",
      "Tokenization: 100%|██████████| 1/1 [00:00<00:00, 1540.89it/s]\n",
      "Inference: 100%|██████████| 1/1 [00:01<00:00,  1.11s/it]\n",
      "Tokenization: 100%|██████████| 1/1 [00:00<00:00, 3650.40it/s]\n",
      "Inference:   0%|          | 0/1 [00:00<?, ?it/s]"
     ]
    },
    {
     "output_type": "stream",
     "name": "stdout",
     "text": [
      "Running pipeline ... done\n",
      "\n",
      "以通信網路建立個人收款機制之方法\n",
      "\n"
     ]
    },
    {
     "output_type": "stream",
     "name": "stderr",
     "text": [
      "Inference: 100%|██████████| 1/1 [00:00<00:00,  2.80it/s]\n",
      "Tokenization: 100%|██████████| 1/1 [00:00<00:00, 646.77it/s]\n",
      "Inference: 100%|██████████| 1/1 [00:00<00:00,  1.76it/s]\n",
      "Tokenization: 100%|██████████| 1/1 [00:00<00:00, 3323.54it/s]\n",
      "Inference: 100%|██████████| 1/1 [00:00<00:00,  2.81it/s]\n",
      "<ipython-input-81-48a7f93a7c58>:29: FutureWarning: As the xlwt package is no longer maintained, the xlwt engine will be removed in a future version of pandas. This is the only engine in pandas that supports writing in the xls format. Install openpyxl and write to an xlsx file instead. You can set the option io.excel.xls.writer to 'xlwt' to silence this warning. While this option is deprecated and will also raise a warning, it can be globally set and the warning suppressed.\n",
      "  pd.DataFrame(bank).to_excel(result)\n",
      "Tokenization: 100%|██████████| 1/1 [00:00<00:00, 1804.78it/s]\n",
      "Inference:   0%|          | 0/1 [00:00<?, ?it/s]"
     ]
    },
    {
     "output_type": "stream",
     "name": "stdout",
     "text": [
      "Running pipeline ... done\n",
      "\n",
      "裝飾物構造Ornament structure\n",
      "\n",
      "74\n",
      "                   申請日                                                 名稱  \\\n",
      "公開/公告號                                                                      \n",
      "TWM613783   2021/04/01                                           語音通訊管理系統   \n",
      "TWM613629   2021/02/25                                               服務系統   \n",
      "TWM612354   2021/02/02                                           金融服務處理系統   \n",
      "TWM612133   2020/12/14          數位帳戶管理系統DIGITAL ACCOUNT MANAGEMENT SYSTEM   \n",
      "TWI727566   2019/12/26  設備綁定驗證方法及系統METHOD AND SYSTEM FOR AUTHENTICATIO...   \n",
      "...                ...                                                ...   \n",
      "TWI626613B  2017/01/04                                 相關於網路交易的客戶信用資訊管理系統   \n",
      "TWI608379B  2015/12/31  端點存取過程中的資訊管控方法、主機設備及系統INFORMATION MANAGEMENT M...   \n",
      "TWI584215B  2015/12/31  監控可疑交易的方法METHOD OF MONITORING SUSPICIOUS TRANS...   \n",
      "TWI314305B  2006/04/26                                   以通信網路建立個人收款機制之方法   \n",
      "TWM349690U  2008/09/17                            裝飾物構造Ornament structure   \n",
      "\n",
      "                                                        申請人  \\\n",
      "公開/公告號                                                        \n",
      "TWM613783    玉山商業銀行股份有限公司; E.SUN COMMERCIAL BANK, LTD. (TW)   \n",
      "TWM613629    玉山商業銀行股份有限公司; E.SUN COMMERCIAL BANK, LTD. (TW)   \n",
      "TWM612354    玉山商業銀行股份有限公司; E.SUN COMMERCIAL BANK, LTD. (TW)   \n",
      "TWM612133                                 玉山商業銀行股份有限公司 (TW)   \n",
      "TWI727566   玉山商業銀行股份有限公司; E. SUN COMMERCIAL BANK, LTD. (TW)   \n",
      "...                                                     ...   \n",
      "TWI626613B   玉山商業銀行股份有限公司; E.SUN COMMERCIAL BANK, LTD. (TW)   \n",
      "TWI608379B  玉山商業銀行股份有限公司; E. SUN COMMERCIAL BANK, LTD. (TW)   \n",
      "TWI584215B  玉山商業銀行股份有限公司; E. SUN COMMERCIAL BANK, LTD. (TW)   \n",
      "TWI314305B   玉山商業銀行股份有限公司; E. SUN COMMERCIAL BANK LTD. (TW)   \n",
      "TWM349690U   玉山商業銀行股份有限公司; E. SUN COMMERCIAL BANK LTD. (TW)   \n",
      "\n",
      "                                                          IPC  \\\n",
      "公開/公告號                                                          \n",
      "TWM613783            G06Q 40/02(2012.01); G06Q 40/04(2012.01)   \n",
      "TWM613629            G06Q 40/02(2012.01); G10L 15/28(2013.01)   \n",
      "TWM612354                                 G06Q 40/02(2012.01)   \n",
      "TWM612133                                 G06Q 40/02(2012.01)   \n",
      "TWI727566            G06Q 20/40(2012.01); G06Q 40/02(2012.01)   \n",
      "...                                                       ...   \n",
      "TWI626613B  G06Q 40/02(2012.01); G06Q 10/10(2012.01); G06F...   \n",
      "TWI608379B           G06F 21/60(2013.01); G06Q 40/00(2012.01)   \n",
      "TWI584215B                                G06Q 40/04(2012.01)   \n",
      "TWI314305B           G07F 19/00(2006.01); G06Q 40/04(2012.01)   \n",
      "TWM349690U                                A44C 25/00(2006.01)   \n",
      "\n",
      "                                                         引用專利  被參考次數  \\\n",
      "公開/公告號                                                                 \n",
      "TWM613783                                                 NaN    NaN   \n",
      "TWM613629                                                 NaN    NaN   \n",
      "TWM612354                                                 NaN    NaN   \n",
      "TWM612133                                                 NaN    NaN   \n",
      "TWI727566   TWM601847U; TW201824108A; TW201828212A; TW2019...    NaN   \n",
      "...                                                       ...    ...   \n",
      "TWI626613B  CN105761143A; CN106230808A; US2016/0330035A1; ...    NaN   \n",
      "TWI608379B  TW201426393A; CN101110097A; CN102902900A; US20...    NaN   \n",
      "TWI584215B  TWI367452; TW200921542A; US7905396B2; US2005/0...    2.0   \n",
      "TWI314305B  TW476037; TWI251159; TW200535741A; JP2003-2566...    NaN   \n",
      "TWM349690U                                                NaN    NaN   \n",
      "\n",
      "                                                         專利摘要  \\\n",
      "公開/公告號                                                          \n",
      "TWM613783   ﻿一種語音通訊管理系統根據一第一通話服務請求從該等服務方通話裝置中選出一目標服務方通話裝置，...   \n",
      "TWM613629   ﻿一種服務系統，儲存有一語意分析模型，並用於獲得一通話語音資料、根據該通話語音資料獲得一對應...   \n",
      "TWM612354   ﻿一種金融服務處理系統，用於根據多筆交易歷史資料將多個使用者帳戶分群以建立多個使用者帳戶群組...   \n",
      "TWM612133   ﻿說明書提出一種無卡取得服務方法與數位帳戶管理系統，提出一伺服系統，其中運行無卡取得服務方法...   \n",
      "TWI727566   ﻿一種設備綁定驗證方法與系統，方法應用於一驗證伺服器，當驗證伺服器接收驗證請求時，可以根據驗...   \n",
      "...                                                       ...   \n",
      "TWI626613B  ﻿一種適於對多個服務端提供客戶信用資訊管理服務的客戶信用資訊管理系統包含一區塊鏈系統的多個節...   \n",
      "TWI608379B  ﻿一種端點存取過程中的資訊管控方法，包括下述步驟：使用預定規則檢核一將要寫入一儲存裝置的電子...   \n",
      "TWI584215B  ﻿於一種監控可疑交易的方法，根據一包含多個分別對應於多個風險因子之多筆顧客資訊中資料部分之評...   \n",
      "TWI314305B  一種以通信網路建立個人收款機制之方法,包括:一、收款人線上向金融機構申設一網路收款機,由該網...   \n",
      "TWM349690U  本創作係有關一種裝飾物構造,包括一底座,一固持於底座之支架,複數自該支架向外延伸之分枝,以及...   \n",
      "\n",
      "                                                        摘要關鍵字  \\\n",
      "公開/公告號                                                          \n",
      "TWM613783       [(目標服務方, 3), (語音通訊, 3), (管理系統, 2), (資料輸出, 1)]   \n",
      "TWM613629   [(語音資料, 3), (服務資訊, 3), (語意分析, 2), (文字資料, 2), (...   \n",
      "TWM612354   [(使用者, 8), (帳戶群組, 6), (交易歷史, 2), (操作項目, 2), (回...   \n",
      "TWM612133   [(金融服務, 4), (服務驗證碼, 4), (卡取得, 2), (提供用戶, 2), (...   \n",
      "TWI727566   [(綁定設備, 3), (使用者, 2), (比對結果, 2), (設備綁定, 1), (方...   \n",
      "...                                                       ...   \n",
      "TWI626613B  [(區塊鏈位址, 3), (客戶信用, 2), (提供客戶, 1), (信用資訊, 1), ...   \n",
      "TWI608379B  [(電子資料, 2), (端點存取, 1), (規則檢核, 1), (儲存裝置, 1), (...   \n",
      "TWI584215B  [(風險等級, 3), (顧客資訊, 2), (風險因子, 1), (權重資料, 1), (...   \n",
      "TWI314305B  [(網路收款機, 6), (金融機構, 3), (通訊事項, 3), (電子郵件, 2), ...   \n",
      "TWM349690U  [(裝飾物構造, 1), (金屬製物件, 1), (附著物吸附, 1), (美化效果, 1)...   \n",
      "\n",
      "                                                        摘要常用字  \\\n",
      "公開/公告號                                                          \n",
      "TWM613783   [(裝置, 5), (語音, 4), (服務, 4), (請求, 4), (服務方, 4),...   \n",
      "TWM613629   [(服務, 6), (分析, 5), (資料, 5), (獲得, 3), (語音, 3), ...   \n",
      "TWM612354   [(使用, 8), (者, 8), (帳戶, 8), (群組, 6), (指定, 3), (...   \n",
      "TWM612133   [(服務, 13), (取得, 6), (系統, 6), (金融, 4), (裝置, 4),...   \n",
      "TWI727566   [(驗證, 11), (設備, 5), (綁定, 5), (伺服器, 5), (結果, 4)...   \n",
      "...                                                       ...   \n",
      "TWI626613B  [(客戶, 9), (區塊鏈, 5), (資訊, 4), (信用, 3), (管理, 3),...   \n",
      "TWI608379B  [(資料, 4), (寫入, 2), (電子, 2), (申請, 2), (端點, 1), ...   \n",
      "TWI584215B  [(交易, 11), (可疑, 7), (風險, 4), (顧客, 4), (判定, 4),...   \n",
      "TWI314305B  [(收款人, 11), (收款, 9), (網路, 8), (資料, 8), (專屬, 7)...   \n",
      "TWM349690U  [(支架, 5), (分枝, 4), (述, 4), (附著物, 4), (具有, 3), ...   \n",
      "\n",
      "                                                       TF_IDF  \n",
      "公開/公告號                                                         \n",
      "TWM613783   [(資料輸出, 0.12), (語音通訊, 0.0), (管理系統, 0.09), (目標服...  \n",
      "TWM613629   [(進行意圖, 0.0), (語音資料, -0.18), (語意分析, -0.08), (服...  \n",
      "TWM612354   [(金融服務, 0.0), (資料決定出, 0.0), (處理系統, 0.0), (目標門檻...  \n",
      "TWM612133   [(金融服務, -0.26), (說明書提出, 0.0), (系統審核, 0.0), (系統...  \n",
      "TWI727566   [(資料集比對, 0.0), (資料庫記載, 0.0), (設備綁定, 0.0), (綁定設...  \n",
      "...                                                       ...  \n",
      "TWI626613B  [(資訊管理, 0.05), (網路交易, 0.05), (管理服務, 0.05), (管理...  \n",
      "TWI608379B  [(電子資料, -0.23), (規則檢核, 0.0), (端點存取, 0.0), (寫入權...  \n",
      "TWI584215B  [(風險等級, -0.12), (風險因子, 0.07), (顧客資訊, 0.0), (選擇...  \n",
      "TWI314305B  [(電子郵件, 0.07), (金融機構, 0.08), (通訊事項, 0.08), (網路...  \n",
      "TWM349690U  [(附著物吸附, 0.14), (金屬製物件, 0.14), (裝飾物構造, 0.14), ...  \n",
      "\n",
      "[74 rows x 10 columns]\n",
      "玉山金控 is done\n",
      "270\n"
     ]
    },
    {
     "output_type": "stream",
     "name": "stderr",
     "text": [
      "Inference: 100%|██████████| 1/1 [00:00<00:00,  1.66it/s]\n",
      "Tokenization: 100%|██████████| 1/1 [00:00<00:00, 1772.74it/s]\n",
      "Inference: 100%|██████████| 1/1 [00:00<00:00,  1.01it/s]\n",
      "Tokenization: 100%|██████████| 1/1 [00:00<00:00, 2425.86it/s]\n",
      "Inference: 100%|██████████| 1/1 [00:00<00:00,  1.45it/s]\n",
      "Tokenization: 100%|██████████| 1/1 [00:00<00:00, 2309.64it/s]\n",
      "Inference:   0%|          | 0/1 [00:00<?, ?it/s]"
     ]
    },
    {
     "output_type": "stream",
     "name": "stdout",
     "text": [
      "Running pipeline ... done\n",
      "\n",
      "跨行金融交易整合系統Interbank financial transaction integration system\n",
      "\n"
     ]
    },
    {
     "output_type": "stream",
     "name": "stderr",
     "text": [
      "Inference: 100%|██████████| 1/1 [00:00<00:00,  2.34it/s]\n",
      "Tokenization: 100%|██████████| 1/1 [00:00<00:00, 2702.52it/s]\n",
      "Inference: 100%|██████████| 1/1 [00:00<00:00,  1.13it/s]\n",
      "Tokenization: 100%|██████████| 1/1 [00:00<00:00, 880.42it/s]\n",
      "Inference: 100%|██████████| 1/1 [00:00<00:00,  2.38it/s]\n",
      "Tokenization: 100%|██████████| 1/1 [00:00<00:00, 2933.08it/s]\n",
      "Inference:   0%|          | 0/1 [00:00<?, ?it/s]"
     ]
    },
    {
     "output_type": "stream",
     "name": "stdout",
     "text": [
      "Running pipeline ... done\n",
      "\n",
      "上市櫃授信戶股價變動預警系統Early warning system for stock price changes of listed credit account\n",
      "\n"
     ]
    },
    {
     "output_type": "stream",
     "name": "stderr",
     "text": [
      "Inference: 100%|██████████| 1/1 [00:00<00:00,  2.16it/s]\n",
      "Tokenization: 100%|██████████| 1/1 [00:00<00:00, 2321.14it/s]\n",
      "Inference: 100%|██████████| 1/1 [00:00<00:00,  1.43it/s]\n",
      "Tokenization: 100%|██████████| 1/1 [00:00<00:00, 707.78it/s]\n",
      "Inference: 100%|██████████| 1/1 [00:00<00:00,  2.07it/s]\n",
      "Tokenization: 100%|██████████| 1/1 [00:00<00:00, 2331.46it/s]\n",
      "Inference:   0%|          | 0/1 [00:00<?, ?it/s]"
     ]
    },
    {
     "output_type": "stream",
     "name": "stdout",
     "text": [
      "Running pipeline ... done\n",
      "\n",
      "員工平時考核系統Staff performance assessment system\n",
      "\n"
     ]
    },
    {
     "output_type": "stream",
     "name": "stderr",
     "text": [
      "Inference: 100%|██████████| 1/1 [00:00<00:00,  2.79it/s]\n",
      "Tokenization: 100%|██████████| 1/1 [00:00<00:00, 2398.12it/s]\n",
      "Inference: 100%|██████████| 1/1 [00:00<00:00,  1.40it/s]\n",
      "Tokenization: 100%|██████████| 1/1 [00:00<00:00, 2723.57it/s]\n",
      "Inference: 100%|██████████| 1/1 [00:00<00:00,  2.83it/s]\n",
      "Tokenization: 100%|██████████| 1/1 [00:00<00:00, 1987.82it/s]\n",
      "Inference:   0%|          | 0/1 [00:00<?, ?it/s]"
     ]
    },
    {
     "output_type": "stream",
     "name": "stdout",
     "text": [
      "Running pipeline ... done\n",
      "\n",
      "不動產買賣價金信託出入帳管理及通知系統Real estate transaction price billing and crediting management and notification system\n",
      "\n"
     ]
    },
    {
     "output_type": "stream",
     "name": "stderr",
     "text": [
      "Inference: 100%|██████████| 1/1 [00:00<00:00,  2.82it/s]\n",
      "Tokenization: 100%|██████████| 1/1 [00:00<00:00, 2221.56it/s]\n",
      "Inference: 100%|██████████| 1/1 [00:00<00:00,  1.37it/s]\n",
      "Tokenization: 100%|██████████| 1/1 [00:00<00:00, 3236.35it/s]\n",
      "Inference: 100%|██████████| 1/1 [00:00<00:00,  2.82it/s]\n",
      "Tokenization: 100%|██████████| 1/1 [00:00<00:00, 1952.66it/s]\n",
      "Inference:   0%|          | 0/1 [00:00<?, ?it/s]"
     ]
    },
    {
     "output_type": "stream",
     "name": "stdout",
     "text": [
      "Running pipeline ... done\n",
      "\n",
      "金融資產證券化會計結帳自動化作業系統Automated operation system for financial asset securitization accounting checkout\n",
      "\n"
     ]
    },
    {
     "output_type": "stream",
     "name": "stderr",
     "text": [
      "Inference: 100%|██████████| 1/1 [00:00<00:00,  1.76it/s]\n",
      "Tokenization: 100%|██████████| 1/1 [00:00<00:00, 1579.18it/s]\n",
      "Inference: 100%|██████████| 1/1 [00:01<00:00,  1.08s/it]\n",
      "Tokenization: 100%|██████████| 1/1 [00:00<00:00, 1506.57it/s]\n",
      "Inference: 100%|██████████| 1/1 [00:00<00:00,  1.62it/s]\n",
      "Tokenization: 100%|██████████| 1/1 [00:00<00:00, 671.52it/s]\n",
      "Inference:   0%|          | 0/1 [00:00<?, ?it/s]"
     ]
    },
    {
     "output_type": "stream",
     "name": "stdout",
     "text": [
      "Running pipeline ... done\n",
      "\n",
      "法令遵循風險自評問卷系統Legal compliance risk self-assessment questionnaire system\n",
      "\n"
     ]
    },
    {
     "output_type": "stream",
     "name": "stderr",
     "text": [
      "Inference: 100%|██████████| 1/1 [00:00<00:00,  1.80it/s]\n",
      "Tokenization: 100%|██████████| 1/1 [00:00<00:00, 1984.06it/s]\n",
      "Inference: 100%|██████████| 1/1 [00:01<00:00,  1.19s/it]\n",
      "Tokenization: 100%|██████████| 1/1 [00:00<00:00, 2409.13it/s]\n",
      "Inference: 100%|██████████| 1/1 [00:00<00:00,  1.80it/s]\n",
      "Tokenization: 100%|██████████| 1/1 [00:00<00:00, 2618.17it/s]\n",
      "Inference:   0%|          | 0/1 [00:00<?, ?it/s]"
     ]
    },
    {
     "output_type": "stream",
     "name": "stdout",
     "text": [
      "Running pipeline ... done\n",
      "\n",
      "專案貸款申請資格自動判別系統Automatic identification system for project loan application qualification\n",
      "\n"
     ]
    },
    {
     "output_type": "stream",
     "name": "stderr",
     "text": [
      "Inference: 100%|██████████| 1/1 [00:00<00:00,  1.74it/s]\n",
      "Tokenization: 100%|██████████| 1/1 [00:00<00:00, 2651.27it/s]\n",
      "Inference: 100%|██████████| 1/1 [00:00<00:00,  1.05it/s]\n",
      "Tokenization: 100%|██████████| 1/1 [00:00<00:00, 2192.53it/s]\n",
      "Inference: 100%|██████████| 1/1 [00:00<00:00,  1.73it/s]\n",
      "Tokenization: 100%|██████████| 1/1 [00:00<00:00, 2262.30it/s]\n",
      "Inference:   0%|          | 0/1 [00:00<?, ?it/s]"
     ]
    },
    {
     "output_type": "stream",
     "name": "stdout",
     "text": [
      "Running pipeline ... done\n",
      "\n",
      "物聯網設備管理系統IoT device management system\n",
      "\n"
     ]
    },
    {
     "output_type": "stream",
     "name": "stderr",
     "text": [
      "Inference: 100%|██████████| 1/1 [00:00<00:00,  1.71it/s]\n",
      "Tokenization: 100%|██████████| 1/1 [00:00<00:00, 1552.87it/s]\n",
      "Inference: 100%|██████████| 1/1 [00:00<00:00,  1.34it/s]\n",
      "Tokenization: 100%|██████████| 1/1 [00:00<00:00, 1146.30it/s]\n",
      "Inference: 100%|██████████| 1/1 [00:00<00:00,  1.80it/s]\n",
      "Tokenization: 100%|██████████| 1/1 [00:00<00:00, 2507.06it/s]\n",
      "Inference:   0%|          | 0/1 [00:00<?, ?it/s]"
     ]
    },
    {
     "output_type": "stream",
     "name": "stdout",
     "text": [
      "Running pipeline ... done\n",
      "\n",
      "採購契約要項適法性分析及檢核系統Legality analysis and inspection system of essential item in purchase contract\n",
      "\n"
     ]
    },
    {
     "output_type": "stream",
     "name": "stderr",
     "text": [
      "Inference: 100%|██████████| 1/1 [00:00<00:00,  2.16it/s]\n",
      "Tokenization: 100%|██████████| 1/1 [00:00<00:00, 2931.03it/s]\n",
      "Inference: 100%|██████████| 1/1 [00:00<00:00,  1.16it/s]\n",
      "Tokenization: 100%|██████████| 1/1 [00:00<00:00, 1543.73it/s]\n",
      "Inference: 100%|██████████| 1/1 [00:00<00:00,  2.14it/s]\n",
      "Tokenization: 100%|██████████| 1/1 [00:00<00:00, 1257.66it/s]\n",
      "Inference:   0%|          | 0/1 [00:00<?, ?it/s]"
     ]
    },
    {
     "output_type": "stream",
     "name": "stdout",
     "text": [
      "Running pipeline ... done\n",
      "\n",
      "紓困貸款自動調帳系統Automatically checking balance system for relief loan\n",
      "\n"
     ]
    },
    {
     "output_type": "stream",
     "name": "stderr",
     "text": [
      "Inference: 100%|██████████| 1/1 [00:00<00:00,  1.75it/s]\n",
      "Tokenization: 100%|██████████| 1/1 [00:00<00:00, 2087.76it/s]\n",
      "Inference: 100%|██████████| 1/1 [00:01<00:00,  1.17s/it]\n",
      "Tokenization: 100%|██████████| 1/1 [00:00<00:00, 1314.01it/s]\n",
      "Inference: 100%|██████████| 1/1 [00:00<00:00,  1.51it/s]\n",
      "Tokenization: 100%|██████████| 1/1 [00:00<00:00, 1376.08it/s]\n",
      "Inference:   0%|          | 0/1 [00:00<?, ?it/s]"
     ]
    },
    {
     "output_type": "stream",
     "name": "stdout",
     "text": [
      "Running pipeline ... done\n",
      "\n",
      "業務查核實習作業管理系統Business review practice operation management system\n",
      "\n"
     ]
    },
    {
     "output_type": "stream",
     "name": "stderr",
     "text": [
      "Inference: 100%|██████████| 1/1 [00:00<00:00,  1.39it/s]\n",
      "Tokenization: 100%|██████████| 1/1 [00:00<00:00, 1186.17it/s]\n",
      "Inference: 100%|██████████| 1/1 [00:00<00:00,  1.07it/s]\n",
      "Tokenization: 100%|██████████| 1/1 [00:00<00:00, 657.93it/s]\n",
      "Inference: 100%|██████████| 1/1 [00:00<00:00,  1.62it/s]\n",
      "Tokenization: 100%|██████████| 1/1 [00:00<00:00, 932.90it/s]\n",
      "Inference:   0%|          | 0/1 [00:00<?, ?it/s]"
     ]
    },
    {
     "output_type": "stream",
     "name": "stdout",
     "text": [
      "Running pipeline ... done\n",
      "\n",
      "法拍資訊自動導入資產評估系統Asset evaluation system capable of importing foreclosure information automatically\n",
      "\n"
     ]
    },
    {
     "output_type": "stream",
     "name": "stderr",
     "text": [
      "Inference: 100%|██████████| 1/1 [00:00<00:00,  2.06it/s]\n",
      "Tokenization: 100%|██████████| 1/1 [00:00<00:00, 640.94it/s]\n",
      "Inference: 100%|██████████| 1/1 [00:00<00:00,  1.32it/s]\n",
      "Tokenization: 100%|██████████| 1/1 [00:00<00:00, 910.02it/s]\n",
      "Inference: 100%|██████████| 1/1 [00:00<00:00,  2.09it/s]\n",
      "Tokenization: 100%|██████████| 1/1 [00:00<00:00, 2159.79it/s]\n",
      "Inference:   0%|          | 0/1 [00:00<?, ?it/s]"
     ]
    },
    {
     "output_type": "stream",
     "name": "stdout",
     "text": [
      "Running pipeline ... done\n",
      "\n",
      "會員紅利點數交易兌換共享系統TRANSACTION EXCHANGE SHARING SYSTEM OF MEMBER BONUS POINTS\n",
      "\n"
     ]
    },
    {
     "output_type": "stream",
     "name": "stderr",
     "text": [
      "Inference: 100%|██████████| 1/1 [00:00<00:00,  1.99it/s]\n",
      "Tokenization: 100%|██████████| 1/1 [00:00<00:00, 660.83it/s]\n",
      "Inference: 100%|██████████| 1/1 [00:00<00:00,  1.04it/s]\n",
      "Tokenization: 100%|██████████| 1/1 [00:00<00:00, 677.48it/s]\n",
      "Inference: 100%|██████████| 1/1 [00:00<00:00,  2.04it/s]\n",
      "Tokenization: 100%|██████████| 1/1 [00:00<00:00, 2212.19it/s]\n",
      "Inference:   0%|          | 0/1 [00:00<?, ?it/s]"
     ]
    },
    {
     "output_type": "stream",
     "name": "stdout",
     "text": [
      "Running pipeline ... done\n",
      "\n",
      "逾欠戶預警系統ARREARS EARLY WARNING SYSTEM\n",
      "\n"
     ]
    },
    {
     "output_type": "stream",
     "name": "stderr",
     "text": [
      "Inference: 100%|██████████| 1/1 [00:00<00:00,  1.69it/s]\n",
      "Tokenization: 100%|██████████| 1/1 [00:00<00:00, 375.83it/s]\n",
      "Inference: 100%|██████████| 1/1 [00:01<00:00,  1.04s/it]\n",
      "Tokenization: 100%|██████████| 1/1 [00:00<00:00, 787.51it/s]\n",
      "Inference: 100%|██████████| 1/1 [00:00<00:00,  1.89it/s]\n",
      "Tokenization: 100%|██████████| 1/1 [00:00<00:00, 808.31it/s]\n",
      "Inference:   0%|          | 0/1 [00:00<?, ?it/s]"
     ]
    },
    {
     "output_type": "stream",
     "name": "stdout",
     "text": [
      "Running pipeline ... done\n",
      "\n",
      "證劵交易跟單檢核系統Securities transaction documentary handling review system\n",
      "\n"
     ]
    },
    {
     "output_type": "stream",
     "name": "stderr",
     "text": [
      "Inference: 100%|██████████| 1/1 [00:00<00:00,  1.74it/s]\n",
      "Tokenization: 100%|██████████| 1/1 [00:00<00:00, 818.40it/s]\n",
      "Inference: 100%|██████████| 1/1 [00:01<00:00,  1.05s/it]\n",
      "Tokenization: 100%|██████████| 1/1 [00:00<00:00, 689.17it/s]\n",
      "Inference: 100%|██████████| 1/1 [00:00<00:00,  1.72it/s]\n",
      "Tokenization: 100%|██████████| 1/1 [00:00<00:00, 2922.86it/s]\n",
      "Inference:   0%|          | 0/1 [00:00<?, ?it/s]"
     ]
    },
    {
     "output_type": "stream",
     "name": "stdout",
     "text": [
      "Running pipeline ... done\n",
      "\n",
      "未完成盡職審查暨高風險客戶的交易管控系統Incomplete due diligence and high-risk customer transaction control system\n",
      "\n"
     ]
    },
    {
     "output_type": "stream",
     "name": "stderr",
     "text": [
      "Inference: 100%|██████████| 1/1 [00:00<00:00,  1.98it/s]\n",
      "Tokenization: 100%|██████████| 1/1 [00:00<00:00, 2364.32it/s]\n",
      "Inference: 100%|██████████| 1/1 [00:00<00:00,  1.08it/s]\n",
      "Tokenization: 100%|██████████| 1/1 [00:00<00:00, 2739.58it/s]\n",
      "Inference: 100%|██████████| 1/1 [00:00<00:00,  1.95it/s]\n",
      "Tokenization: 100%|██████████| 1/1 [00:00<00:00, 2589.08it/s]\n",
      "Inference:   0%|          | 0/1 [00:00<?, ?it/s]"
     ]
    },
    {
     "output_type": "stream",
     "name": "stdout",
     "text": [
      "Running pipeline ... done\n",
      "\n",
      "智能化防搶通報系統Intelligent anti-robbing notification system\n",
      "\n"
     ]
    },
    {
     "output_type": "stream",
     "name": "stderr",
     "text": [
      "Inference: 100%|██████████| 1/1 [00:00<00:00,  1.70it/s]\n",
      "Tokenization: 100%|██████████| 1/1 [00:00<00:00, 2165.36it/s]\n",
      "Inference: 100%|██████████| 1/1 [00:00<00:00,  1.22it/s]\n",
      "Tokenization: 100%|██████████| 1/1 [00:00<00:00, 1655.86it/s]\n",
      "Inference: 100%|██████████| 1/1 [00:00<00:00,  1.65it/s]\n",
      "Tokenization: 100%|██████████| 1/1 [00:00<00:00, 1980.31it/s]\n",
      "Inference:   0%|          | 0/1 [00:00<?, ?it/s]"
     ]
    },
    {
     "output_type": "stream",
     "name": "stdout",
     "text": [
      "Running pipeline ... done\n",
      "\n",
      "整合多元支付服務應用系統Integrated multiple payment service application systems\n",
      "\n"
     ]
    },
    {
     "output_type": "stream",
     "name": "stderr",
     "text": [
      "Inference: 100%|██████████| 1/1 [00:00<00:00,  1.79it/s]\n",
      "Tokenization: 100%|██████████| 1/1 [00:00<00:00, 1543.73it/s]\n",
      "Inference: 100%|██████████| 1/1 [00:01<00:00,  1.46s/it]\n",
      "Tokenization: 100%|██████████| 1/1 [00:00<00:00, 2579.52it/s]\n",
      "Inference: 100%|██████████| 1/1 [00:00<00:00,  1.74it/s]\n",
      "Tokenization: 100%|██████████| 1/1 [00:00<00:00, 2332.76it/s]\n",
      "Inference:   0%|          | 0/1 [00:00<?, ?it/s]"
     ]
    },
    {
     "output_type": "stream",
     "name": "stdout",
     "text": [
      "Running pipeline ... done\n",
      "\n",
      "證券詢價圈購管理系統Securities bookbuilding management system\n",
      "\n"
     ]
    },
    {
     "output_type": "stream",
     "name": "stderr",
     "text": [
      "Inference: 100%|██████████| 1/1 [00:00<00:00,  1.88it/s]\n",
      "Tokenization: 100%|██████████| 1/1 [00:00<00:00, 2481.84it/s]\n",
      "Inference: 100%|██████████| 1/1 [00:00<00:00,  1.17it/s]\n",
      "Tokenization: 100%|██████████| 1/1 [00:00<00:00, 2770.35it/s]\n",
      "Inference: 100%|██████████| 1/1 [00:00<00:00,  1.91it/s]\n",
      "Tokenization: 100%|██████████| 1/1 [00:00<00:00, 2688.66it/s]\n",
      "Inference:   0%|          | 0/1 [00:00<?, ?it/s]"
     ]
    },
    {
     "output_type": "stream",
     "name": "stdout",
     "text": [
      "Running pipeline ... done\n",
      "\n",
      "徵信審案人才評選系統Credit investigation talent selection system\n",
      "\n"
     ]
    },
    {
     "output_type": "stream",
     "name": "stderr",
     "text": [
      "Inference: 100%|██████████| 1/1 [00:00<00:00,  1.76it/s]\n",
      "Tokenization: 100%|██████████| 1/1 [00:00<00:00, 3204.20it/s]\n",
      "Inference: 100%|██████████| 1/1 [00:00<00:00,  1.32it/s]\n",
      "Tokenization: 100%|██████████| 1/1 [00:00<00:00, 487.60it/s]\n",
      "Inference: 100%|██████████| 1/1 [00:00<00:00,  1.80it/s]\n",
      "Tokenization: 100%|██████████| 1/1 [00:00<00:00, 2922.86it/s]\n",
      "Inference:   0%|          | 0/1 [00:00<?, ?it/s]"
     ]
    },
    {
     "output_type": "stream",
     "name": "stdout",
     "text": [
      "Running pipeline ... done\n",
      "\n",
      "即時財務比率分析系統Real-time financial ratio analysis system\n",
      "\n"
     ]
    },
    {
     "output_type": "stream",
     "name": "stderr",
     "text": [
      "Inference: 100%|██████████| 1/1 [00:00<00:00,  2.01it/s]\n",
      "Tokenization: 100%|██████████| 1/1 [00:00<00:00, 2410.52it/s]\n",
      "Inference: 100%|██████████| 1/1 [00:01<00:00,  1.38s/it]\n",
      "Tokenization: 100%|██████████| 1/1 [00:00<00:00, 2341.88it/s]\n",
      "Inference: 100%|██████████| 1/1 [00:00<00:00,  2.03it/s]\n",
      "Tokenization: 100%|██████████| 1/1 [00:00<00:00, 3236.35it/s]\n",
      "Inference:   0%|          | 0/1 [00:00<?, ?it/s]"
     ]
    },
    {
     "output_type": "stream",
     "name": "stdout",
     "text": [
      "Running pipeline ... done\n",
      "\n",
      "雲端報到確認系統Cloud check-in confirmation system\n",
      "\n"
     ]
    },
    {
     "output_type": "stream",
     "name": "stderr",
     "text": [
      "Inference: 100%|██████████| 1/1 [00:00<00:00,  2.25it/s]\n",
      "Tokenization: 100%|██████████| 1/1 [00:00<00:00, 2168.72it/s]\n",
      "Inference: 100%|██████████| 1/1 [00:00<00:00,  1.29it/s]\n",
      "Tokenization: 100%|██████████| 1/1 [00:00<00:00, 3084.05it/s]\n",
      "Inference: 100%|██████████| 1/1 [00:00<00:00,  2.22it/s]\n",
      "Tokenization: 100%|██████████| 1/1 [00:00<00:00, 976.56it/s]\n",
      "Inference:   0%|          | 0/1 [00:00<?, ?it/s]"
     ]
    },
    {
     "output_type": "stream",
     "name": "stdout",
     "text": [
      "Running pipeline ... done\n",
      "\n",
      "聯貸授信案件模組分析系統Modular analysis system for joint loan credit cases\n",
      "\n"
     ]
    },
    {
     "output_type": "stream",
     "name": "stderr",
     "text": [
      "Inference: 100%|██████████| 1/1 [00:00<00:00,  1.74it/s]\n",
      "Tokenization: 100%|██████████| 1/1 [00:00<00:00, 2104.52it/s]\n",
      "Inference: 100%|██████████| 1/1 [00:01<00:00,  1.05s/it]\n",
      "Tokenization: 100%|██████████| 1/1 [00:00<00:00, 544.93it/s]\n",
      "Inference: 100%|██████████| 1/1 [00:00<00:00,  1.72it/s]\n",
      "Tokenization: 100%|██████████| 1/1 [00:00<00:00, 2993.79it/s]\n",
      "Inference:   0%|          | 0/1 [00:00<?, ?it/s]"
     ]
    },
    {
     "output_type": "stream",
     "name": "stdout",
     "text": [
      "Running pipeline ... done\n",
      "\n",
      "保險代理業務批次發查防制洗錢系統Batch inspection of insurance agency business and money-laundering prevention system\n",
      "\n"
     ]
    },
    {
     "output_type": "stream",
     "name": "stderr",
     "text": [
      "Inference: 100%|██████████| 1/1 [00:00<00:00,  2.11it/s]\n",
      "Tokenization: 100%|██████████| 1/1 [00:00<00:00, 1254.65it/s]\n",
      "Inference: 100%|██████████| 1/1 [00:00<00:00,  1.08it/s]\n",
      "Tokenization: 100%|██████████| 1/1 [00:00<00:00, 2702.52it/s]\n",
      "Inference: 100%|██████████| 1/1 [00:00<00:00,  2.13it/s]\n",
      "Tokenization: 100%|██████████| 1/1 [00:00<00:00, 2091.92it/s]\n",
      "Inference:   0%|          | 0/1 [00:00<?, ?it/s]"
     ]
    },
    {
     "output_type": "stream",
     "name": "stdout",
     "text": [
      "Running pipeline ... done\n",
      "\n",
      "交易異常評估系統Transaction abnormality evaluation system\n",
      "\n"
     ]
    },
    {
     "output_type": "stream",
     "name": "stderr",
     "text": [
      "Inference: 100%|██████████| 1/1 [00:00<00:00,  1.80it/s]\n",
      "Tokenization: 100%|██████████| 1/1 [00:00<00:00, 595.53it/s]\n",
      "Inference: 100%|██████████| 1/1 [00:00<00:00,  1.41it/s]\n",
      "Tokenization: 100%|██████████| 1/1 [00:00<00:00, 1655.21it/s]\n",
      "Inference: 100%|██████████| 1/1 [00:00<00:00,  1.84it/s]\n",
      "Tokenization: 100%|██████████| 1/1 [00:00<00:00, 4185.93it/s]\n",
      "Inference:   0%|          | 0/1 [00:00<?, ?it/s]"
     ]
    },
    {
     "output_type": "stream",
     "name": "stdout",
     "text": [
      "Running pipeline ... done\n",
      "\n",
      "作業風險最低資本要求即時計算系統Operational risk minimum capital requirement real-time calculation system\n",
      "\n"
     ]
    },
    {
     "output_type": "stream",
     "name": "stderr",
     "text": [
      "Inference: 100%|██████████| 1/1 [00:00<00:00,  3.14it/s]\n",
      "Tokenization: 100%|██████████| 1/1 [00:00<00:00, 2122.62it/s]\n",
      "Inference: 100%|██████████| 1/1 [00:00<00:00,  2.05it/s]\n",
      "Tokenization: 100%|██████████| 1/1 [00:00<00:00, 2603.54it/s]\n",
      "Inference: 100%|██████████| 1/1 [00:00<00:00,  3.14it/s]\n",
      "Tokenization: 100%|██████████| 1/1 [00:00<00:00, 4332.96it/s]\n",
      "Inference:   0%|          | 0/1 [00:00<?, ?it/s]"
     ]
    },
    {
     "output_type": "stream",
     "name": "stdout",
     "text": [
      "Running pipeline ... done\n",
      "\n",
      "帳戶連動開戶系統Account linking and opening system\n",
      "\n"
     ]
    },
    {
     "output_type": "stream",
     "name": "stderr",
     "text": [
      "Inference: 100%|██████████| 1/1 [00:00<00:00,  3.64it/s]\n",
      "Tokenization: 100%|██████████| 1/1 [00:00<00:00, 3557.51it/s]\n",
      "Inference: 100%|██████████| 1/1 [00:00<00:00,  1.90it/s]\n",
      "Tokenization: 100%|██████████| 1/1 [00:00<00:00, 3068.25it/s]\n",
      "Inference: 100%|██████████| 1/1 [00:00<00:00,  3.68it/s]\n",
      "Tokenization: 100%|██████████| 1/1 [00:00<00:00, 2087.76it/s]\n",
      "Inference:   0%|          | 0/1 [00:00<?, ?it/s]"
     ]
    },
    {
     "output_type": "stream",
     "name": "stdout",
     "text": [
      "Running pipeline ... done\n",
      "\n",
      "營運資訊管理系統Operational information management system\n",
      "\n"
     ]
    },
    {
     "output_type": "stream",
     "name": "stderr",
     "text": [
      "Inference: 100%|██████████| 1/1 [00:00<00:00,  1.79it/s]\n",
      "Tokenization: 100%|██████████| 1/1 [00:00<00:00, 2763.05it/s]\n",
      "Inference: 100%|██████████| 1/1 [00:01<00:00,  1.20s/it]\n",
      "Tokenization: 100%|██████████| 1/1 [00:00<00:00, 2222.74it/s]\n",
      "Inference: 100%|██████████| 1/1 [00:00<00:00,  1.74it/s]\n",
      "Tokenization: 100%|██████████| 1/1 [00:00<00:00, 3068.25it/s]\n",
      "Inference:   0%|          | 0/1 [00:00<?, ?it/s]"
     ]
    },
    {
     "output_type": "stream",
     "name": "stdout",
     "text": [
      "Running pipeline ... done\n",
      "\n",
      "證劵關聯戶管理系統Securities related account management system\n",
      "\n"
     ]
    },
    {
     "output_type": "stream",
     "name": "stderr",
     "text": [
      "Inference: 100%|██████████| 1/1 [00:00<00:00,  2.06it/s]\n",
      "Tokenization: 100%|██████████| 1/1 [00:00<00:00, 604.54it/s]\n",
      "Inference: 100%|██████████| 1/1 [00:00<00:00,  1.30it/s]\n",
      "Tokenization: 100%|██████████| 1/1 [00:00<00:00, 2481.84it/s]\n",
      "Inference: 100%|██████████| 1/1 [00:00<00:00,  2.10it/s]\n",
      "Tokenization: 100%|██████████| 1/1 [00:00<00:00, 1565.04it/s]\n",
      "Inference:   0%|          | 0/1 [00:00<?, ?it/s]"
     ]
    },
    {
     "output_type": "stream",
     "name": "stdout",
     "text": [
      "Running pipeline ... done\n",
      "\n",
      "差旅費線上請核自動入帳系統Online verification request and automatic crediting system for travel expenses\n",
      "\n"
     ]
    },
    {
     "output_type": "stream",
     "name": "stderr",
     "text": [
      "Inference: 100%|██████████| 1/1 [00:00<00:00,  1.89it/s]\n",
      "Tokenization: 100%|██████████| 1/1 [00:00<00:00, 2700.78it/s]\n",
      "Inference: 100%|██████████| 1/1 [00:00<00:00,  1.00it/s]\n",
      "Tokenization: 100%|██████████| 1/1 [00:00<00:00, 2639.59it/s]\n",
      "Inference: 100%|██████████| 1/1 [00:00<00:00,  1.86it/s]\n",
      "Tokenization: 100%|██████████| 1/1 [00:00<00:00, 1872.46it/s]\n",
      "Inference:   0%|          | 0/1 [00:00<?, ?it/s]"
     ]
    },
    {
     "output_type": "stream",
     "name": "stdout",
     "text": [
      "Running pipeline ... done\n",
      "\n",
      "建築業融資核貸系統Construction industry financing and loan origination system\n",
      "\n"
     ]
    },
    {
     "output_type": "stream",
     "name": "stderr",
     "text": [
      "Inference: 100%|██████████| 1/1 [00:00<00:00,  1.65it/s]\n",
      "Tokenization: 100%|██████████| 1/1 [00:00<00:00, 2061.08it/s]\n",
      "Inference: 100%|██████████| 1/1 [00:00<00:00,  1.03it/s]\n",
      "Tokenization: 100%|██████████| 1/1 [00:00<00:00, 1592.37it/s]\n",
      "Inference: 100%|██████████| 1/1 [00:00<00:00,  1.78it/s]\n",
      "Tokenization: 100%|██████████| 1/1 [00:00<00:00, 2032.12it/s]\n",
      "Inference:   0%|          | 0/1 [00:00<?, ?it/s]"
     ]
    },
    {
     "output_type": "stream",
     "name": "stdout",
     "text": [
      "Running pipeline ... done\n",
      "\n",
      "安全監控即時警示系統Security monitoring real-time warning system\n",
      "\n"
     ]
    },
    {
     "output_type": "stream",
     "name": "stderr",
     "text": [
      "Inference: 100%|██████████| 1/1 [00:00<00:00,  1.76it/s]\n",
      "Tokenization: 100%|██████████| 1/1 [00:00<00:00, 2519.10it/s]\n",
      "Inference: 100%|██████████| 1/1 [00:00<00:00,  1.16it/s]\n",
      "Tokenization: 100%|██████████| 1/1 [00:00<00:00, 2030.16it/s]\n",
      "Inference: 100%|██████████| 1/1 [00:00<00:00,  1.76it/s]\n",
      "Tokenization: 100%|██████████| 1/1 [00:00<00:00, 2082.57it/s]\n",
      "Inference:   0%|          | 0/1 [00:00<?, ?it/s]"
     ]
    },
    {
     "output_type": "stream",
     "name": "stdout",
     "text": [
      "Running pipeline ... done\n",
      "\n",
      "稽核工作手冊管理系統Audit workbook management system\n",
      "\n"
     ]
    },
    {
     "output_type": "stream",
     "name": "stderr",
     "text": [
      "Inference: 100%|██████████| 1/1 [00:00<00:00,  1.61it/s]\n",
      "Tokenization: 100%|██████████| 1/1 [00:00<00:00, 695.92it/s]\n",
      "Inference: 100%|██████████| 1/1 [00:01<00:00,  1.13s/it]\n",
      "Tokenization: 100%|██████████| 1/1 [00:00<00:00, 2278.27it/s]\n",
      "Inference: 100%|██████████| 1/1 [00:00<00:00,  1.61it/s]\n",
      "Tokenization: 100%|██████████| 1/1 [00:00<00:00, 2164.24it/s]\n",
      "Inference:   0%|          | 0/1 [00:00<?, ?it/s]"
     ]
    },
    {
     "output_type": "stream",
     "name": "stdout",
     "text": [
      "Running pipeline ... done\n",
      "\n",
      "企業弱點掃描追蹤管理系統Enterprise vulnerability scanning and tracking management system\n",
      "\n"
     ]
    },
    {
     "output_type": "stream",
     "name": "stderr",
     "text": [
      "Inference: 100%|██████████| 1/1 [00:00<00:00,  1.76it/s]\n",
      "Tokenization: 100%|██████████| 1/1 [00:00<00:00, 2000.14it/s]\n",
      "Inference: 100%|██████████| 1/1 [00:01<00:00,  1.21s/it]\n",
      "Tokenization: 100%|██████████| 1/1 [00:00<00:00, 2123.70it/s]\n",
      "Inference: 100%|██████████| 1/1 [00:00<00:00,  1.77it/s]\n",
      "Tokenization: 100%|██████████| 1/1 [00:00<00:00, 2732.45it/s]\n",
      "Inference:   0%|          | 0/1 [00:00<?, ?it/s]"
     ]
    },
    {
     "output_type": "stream",
     "name": "stdout",
     "text": [
      "Running pipeline ... done\n",
      "\n",
      "群組關聯性用戶管理系統Group correlation subscriber management system\n",
      "\n"
     ]
    },
    {
     "output_type": "stream",
     "name": "stderr",
     "text": [
      "Inference: 100%|██████████| 1/1 [00:00<00:00,  1.76it/s]\n",
      "Tokenization: 100%|██████████| 1/1 [00:00<00:00, 1953.56it/s]\n",
      "Inference: 100%|██████████| 1/1 [00:01<00:00,  1.05s/it]\n",
      "Tokenization: 100%|██████████| 1/1 [00:00<00:00, 1444.82it/s]\n",
      "Inference: 100%|██████████| 1/1 [00:00<00:00,  1.84it/s]\n",
      "Tokenization: 100%|██████████| 1/1 [00:00<00:00, 2739.58it/s]\n",
      "Inference:   0%|          | 0/1 [00:00<?, ?it/s]"
     ]
    },
    {
     "output_type": "stream",
     "name": "stdout",
     "text": [
      "Running pipeline ... done\n",
      "\n",
      "聯合授信個案資料表檢查系統Syndication loan case data table inspection system\n",
      "\n"
     ]
    },
    {
     "output_type": "stream",
     "name": "stderr",
     "text": [
      "Inference: 100%|██████████| 1/1 [00:00<00:00,  1.96it/s]\n",
      "Tokenization: 100%|██████████| 1/1 [00:00<00:00, 290.52it/s]\n",
      "Inference: 100%|██████████| 1/1 [00:00<00:00,  1.04it/s]\n",
      "Tokenization: 100%|██████████| 1/1 [00:00<00:00, 2624.72it/s]\n",
      "Inference: 100%|██████████| 1/1 [00:00<00:00,  2.25it/s]\n",
      "Tokenization: 100%|██████████| 1/1 [00:00<00:00, 2859.10it/s]\n",
      "Inference:   0%|          | 0/1 [00:00<?, ?it/s]"
     ]
    },
    {
     "output_type": "stream",
     "name": "stdout",
     "text": [
      "Running pipeline ... done\n",
      "\n",
      "金融法規報表整合管理系統Financial regulation report integrated management system\n",
      "\n"
     ]
    },
    {
     "output_type": "stream",
     "name": "stderr",
     "text": [
      "Inference: 100%|██████████| 1/1 [00:00<00:00,  2.04it/s]\n",
      "Tokenization: 100%|██████████| 1/1 [00:00<00:00, 630.15it/s]\n",
      "Inference: 100%|██████████| 1/1 [00:00<00:00,  1.35it/s]\n",
      "Tokenization: 100%|██████████| 1/1 [00:00<00:00, 2057.04it/s]\n",
      "Inference: 100%|██████████| 1/1 [00:00<00:00,  2.03it/s]\n",
      "Tokenization: 100%|██████████| 1/1 [00:00<00:00, 2087.76it/s]\n",
      "Inference:   0%|          | 0/1 [00:00<?, ?it/s]"
     ]
    },
    {
     "output_type": "stream",
     "name": "stdout",
     "text": [
      "Running pipeline ... done\n",
      "\n",
      "振興三倍券兌付系統Triple stimulus voucher cashing system\n",
      "\n"
     ]
    },
    {
     "output_type": "stream",
     "name": "stderr",
     "text": [
      "Inference: 100%|██████████| 1/1 [00:00<00:00,  1.76it/s]\n",
      "Tokenization: 100%|██████████| 1/1 [00:00<00:00, 611.59it/s]\n",
      "Inference: 100%|██████████| 1/1 [00:00<00:00,  1.00it/s]\n",
      "Tokenization: 100%|██████████| 1/1 [00:00<00:00, 1736.05it/s]\n",
      "Inference: 100%|██████████| 1/1 [00:00<00:00,  1.78it/s]\n",
      "Tokenization: 100%|██████████| 1/1 [00:00<00:00, 2232.20it/s]\n",
      "Inference:   0%|          | 0/1 [00:00<?, ?it/s]"
     ]
    },
    {
     "output_type": "stream",
     "name": "stdout",
     "text": [
      "Running pipeline ... done\n",
      "\n",
      "客戶訊息發送監控系統Customer message transmission monitoring system\n",
      "\n"
     ]
    },
    {
     "output_type": "stream",
     "name": "stderr",
     "text": [
      "Inference: 100%|██████████| 1/1 [00:00<00:00,  1.79it/s]\n",
      "Tokenization: 100%|██████████| 1/1 [00:00<00:00, 1805.55it/s]\n",
      "Inference: 100%|██████████| 1/1 [00:00<00:00,  1.12it/s]\n",
      "Tokenization: 100%|██████████| 1/1 [00:00<00:00, 2700.78it/s]\n",
      "Inference: 100%|██████████| 1/1 [00:00<00:00,  1.78it/s]\n",
      "Tokenization: 100%|██████████| 1/1 [00:00<00:00, 1440.85it/s]\n",
      "Inference:   0%|          | 0/1 [00:00<?, ?it/s]"
     ]
    },
    {
     "output_type": "stream",
     "name": "stdout",
     "text": [
      "Running pipeline ... done\n",
      "\n",
      "隨身碟使用身分驗證整合控管之系統Integrated control system for flash drive using identity verification\n",
      "\n"
     ]
    },
    {
     "output_type": "stream",
     "name": "stderr",
     "text": [
      "Inference: 100%|██████████| 1/1 [00:00<00:00,  1.82it/s]\n",
      "Tokenization: 100%|██████████| 1/1 [00:00<00:00, 1302.17it/s]\n",
      "Inference: 100%|██████████| 1/1 [00:00<00:00,  1.45it/s]\n",
      "Tokenization: 100%|██████████| 1/1 [00:00<00:00, 2421.65it/s]\n",
      "Inference: 100%|██████████| 1/1 [00:00<00:00,  1.84it/s]\n",
      "Tokenization: 100%|██████████| 1/1 [00:00<00:00, 2299.51it/s]\n",
      "Inference:   0%|          | 0/1 [00:00<?, ?it/s]"
     ]
    },
    {
     "output_type": "stream",
     "name": "stdout",
     "text": [
      "Running pipeline ... done\n",
      "\n",
      "通匯往來銀行授權電文管理系統Authorized message management system for correspondent bank\n",
      "\n"
     ]
    },
    {
     "output_type": "stream",
     "name": "stderr",
     "text": [
      "Inference: 100%|██████████| 1/1 [00:00<00:00,  1.76it/s]\n",
      "Tokenization: 100%|██████████| 1/1 [00:00<00:00, 1661.11it/s]\n",
      "Inference: 100%|██████████| 1/1 [00:00<00:00,  1.09it/s]\n",
      "Tokenization: 100%|██████████| 1/1 [00:00<00:00, 899.29it/s]\n",
      "Inference: 100%|██████████| 1/1 [00:00<00:00,  1.74it/s]\n",
      "Tokenization: 100%|██████████| 1/1 [00:00<00:00, 1703.62it/s]\n",
      "Inference:   0%|          | 0/1 [00:00<?, ?it/s]"
     ]
    },
    {
     "output_type": "stream",
     "name": "stdout",
     "text": [
      "Running pipeline ... done\n",
      "\n",
      "不動產估價警示系統Warning system for real estate valuation\n",
      "\n"
     ]
    },
    {
     "output_type": "stream",
     "name": "stderr",
     "text": [
      "Inference: 100%|██████████| 1/1 [00:00<00:00,  2.69it/s]\n",
      "Tokenization: 100%|██████████| 1/1 [00:00<00:00, 2227.46it/s]\n",
      "Inference: 100%|██████████| 1/1 [00:00<00:00,  1.72it/s]\n",
      "Tokenization: 100%|██████████| 1/1 [00:00<00:00, 3663.15it/s]\n",
      "Inference: 100%|██████████| 1/1 [00:00<00:00,  2.74it/s]\n",
      "Tokenization: 100%|██████████| 1/1 [00:00<00:00, 1873.29it/s]\n",
      "Inference:   0%|          | 0/1 [00:00<?, ?it/s]"
     ]
    },
    {
     "output_type": "stream",
     "name": "stdout",
     "text": [
      "Running pipeline ... done\n",
      "\n",
      "外匯交易自動產製及檢核系統Automatic production and verification system for foreign exchange transactions\n",
      "\n"
     ]
    },
    {
     "output_type": "stream",
     "name": "stderr",
     "text": [
      "Inference: 100%|██████████| 1/1 [00:00<00:00,  1.94it/s]\n",
      "Tokenization: 100%|██████████| 1/1 [00:00<00:00, 1773.49it/s]\n",
      "Inference: 100%|██████████| 1/1 [00:00<00:00,  1.15it/s]\n",
      "Tokenization: 100%|██████████| 1/1 [00:00<00:00, 2582.70it/s]\n",
      "Inference: 100%|██████████| 1/1 [00:00<00:00,  1.93it/s]\n",
      "Tokenization: 100%|██████████| 1/1 [00:00<00:00, 3050.40it/s]\n",
      "Inference:   0%|          | 0/1 [00:00<?, ?it/s]"
     ]
    },
    {
     "output_type": "stream",
     "name": "stdout",
     "text": [
      "Running pipeline ... done\n",
      "\n",
      "授信契約自動產製系統Credit contract automatic production system\n",
      "\n"
     ]
    },
    {
     "output_type": "stream",
     "name": "stderr",
     "text": [
      "Inference: 100%|██████████| 1/1 [00:00<00:00,  2.15it/s]\n",
      "Tokenization: 100%|██████████| 1/1 [00:00<00:00, 3355.44it/s]\n",
      "Inference: 100%|██████████| 1/1 [00:00<00:00,  1.52it/s]\n",
      "Tokenization: 100%|██████████| 1/1 [00:00<00:00, 2142.14it/s]\n",
      "Inference: 100%|██████████| 1/1 [00:00<00:00,  2.18it/s]\n",
      "Tokenization: 100%|██████████| 1/1 [00:00<00:00, 2688.66it/s]\n",
      "Inference:   0%|          | 0/1 [00:00<?, ?it/s]"
     ]
    },
    {
     "output_type": "stream",
     "name": "stdout",
     "text": [
      "Running pipeline ... done\n",
      "\n",
      "群體智慧規章管理系統Group wisdom regulation management system\n",
      "\n"
     ]
    },
    {
     "output_type": "stream",
     "name": "stderr",
     "text": [
      "Inference: 100%|██████████| 1/1 [00:00<00:00,  1.80it/s]\n",
      "Tokenization: 100%|██████████| 1/1 [00:00<00:00, 1909.11it/s]\n",
      "Inference: 100%|██████████| 1/1 [00:00<00:00,  1.06it/s]\n",
      "Tokenization: 100%|██████████| 1/1 [00:00<00:00, 1457.87it/s]\n",
      "Inference: 100%|██████████| 1/1 [00:00<00:00,  1.76it/s]\n",
      "Tokenization: 100%|██████████| 1/1 [00:00<00:00, 2164.24it/s]\n",
      "Inference:   0%|          | 0/1 [00:00<?, ?it/s]"
     ]
    },
    {
     "output_type": "stream",
     "name": "stdout",
     "text": [
      "Running pipeline ... done\n",
      "\n",
      "電子錢包共享管理系統Electronic wallet sharing management system\n",
      "\n"
     ]
    },
    {
     "output_type": "stream",
     "name": "stderr",
     "text": [
      "Inference: 100%|██████████| 1/1 [00:00<00:00,  1.64it/s]\n",
      "Tokenization: 100%|██████████| 1/1 [00:00<00:00, 2652.94it/s]\n",
      "Inference: 100%|██████████| 1/1 [00:01<00:00,  1.74s/it]\n",
      "Tokenization: 100%|██████████| 1/1 [00:00<00:00, 2150.93it/s]\n",
      "Inference: 100%|██████████| 1/1 [00:00<00:00,  1.25it/s]\n",
      "Tokenization: 100%|██████████| 1/1 [00:00<00:00, 1880.01it/s]\n",
      "Inference:   0%|          | 0/1 [00:00<?, ?it/s]"
     ]
    },
    {
     "output_type": "stream",
     "name": "stdout",
     "text": [
      "Running pipeline ... done\n",
      "\n",
      "門禁記錄線上簽核管控系統Entrance control record online sign-off management and control system\n",
      "\n"
     ]
    },
    {
     "output_type": "stream",
     "name": "stderr",
     "text": [
      "Inference: 100%|██████████| 1/1 [00:00<00:00,  1.79it/s]\n",
      "Tokenization: 100%|██████████| 1/1 [00:00<00:00, 1804.78it/s]\n",
      "Inference: 100%|██████████| 1/1 [00:00<00:00,  1.04it/s]\n",
      "Tokenization: 100%|██████████| 1/1 [00:00<00:00, 1074.09it/s]\n",
      "Inference: 100%|██████████| 1/1 [00:00<00:00,  1.60it/s]\n",
      "Tokenization: 100%|██████████| 1/1 [00:00<00:00, 2136.68it/s]\n",
      "Inference:   0%|          | 0/1 [00:00<?, ?it/s]"
     ]
    },
    {
     "output_type": "stream",
     "name": "stdout",
     "text": [
      "Running pipeline ... done\n",
      "\n",
      "銀行承兌匯票發行試算裝置Trial calculation device for issuing bank acceptance bill\n",
      "\n"
     ]
    },
    {
     "output_type": "stream",
     "name": "stderr",
     "text": [
      "Inference: 100%|██████████| 1/1 [00:00<00:00,  1.69it/s]\n",
      "Tokenization: 100%|██████████| 1/1 [00:00<00:00, 2037.06it/s]\n",
      "Inference: 100%|██████████| 1/1 [00:00<00:00,  1.18it/s]\n",
      "Tokenization: 100%|██████████| 1/1 [00:00<00:00, 2605.16it/s]\n",
      "Inference: 100%|██████████| 1/1 [00:00<00:00,  1.57it/s]\n",
      "Tokenization: 100%|██████████| 1/1 [00:00<00:00, 1418.91it/s]\n",
      "Inference:   0%|          | 0/1 [00:00<?, ?it/s]"
     ]
    },
    {
     "output_type": "stream",
     "name": "stdout",
     "text": [
      "Running pipeline ... done\n",
      "\n",
      "回饋金自動預約入帳作業系統Automatic booking credit operating system for feedback fund\n",
      "\n"
     ]
    },
    {
     "output_type": "stream",
     "name": "stderr",
     "text": [
      "Inference: 100%|██████████| 1/1 [00:00<00:00,  1.82it/s]\n",
      "Tokenization: 100%|██████████| 1/1 [00:00<00:00, 748.45it/s]\n",
      "Inference: 100%|██████████| 1/1 [00:01<00:00,  1.06s/it]\n",
      "Tokenization: 100%|██████████| 1/1 [00:00<00:00, 2933.08it/s]\n",
      "Inference: 100%|██████████| 1/1 [00:00<00:00,  1.83it/s]\n",
      "Tokenization: 100%|██████████| 1/1 [00:00<00:00, 1574.44it/s]\n",
      "Inference:   0%|          | 0/1 [00:00<?, ?it/s]"
     ]
    },
    {
     "output_type": "stream",
     "name": "stdout",
     "text": [
      "Running pipeline ... done\n",
      "\n",
      "銀行私人借貸金流系統Bank private loan money flow system\n",
      "\n"
     ]
    },
    {
     "output_type": "stream",
     "name": "stderr",
     "text": [
      "Inference: 100%|██████████| 1/1 [00:00<00:00,  1.38it/s]\n",
      "Tokenization: 100%|██████████| 1/1 [00:00<00:00, 2445.66it/s]\n",
      "Inference: 100%|██████████| 1/1 [00:01<00:00,  1.28s/it]\n",
      "Tokenization: 100%|██████████| 1/1 [00:00<00:00, 782.52it/s]\n",
      "Inference: 100%|██████████| 1/1 [00:00<00:00,  1.79it/s]\n",
      "Tokenization: 100%|██████████| 1/1 [00:00<00:00, 1996.34it/s]\n",
      "Inference:   0%|          | 0/1 [00:00<?, ?it/s]"
     ]
    },
    {
     "output_type": "stream",
     "name": "stdout",
     "text": [
      "Running pipeline ... done\n",
      "\n",
      "數位營運指標分析平台系統Digital operation index analysis platform system\n",
      "\n"
     ]
    },
    {
     "output_type": "stream",
     "name": "stderr",
     "text": [
      "Inference: 100%|██████████| 1/1 [00:00<00:00,  1.75it/s]\n",
      "Tokenization: 100%|██████████| 1/1 [00:00<00:00, 2603.54it/s]\n",
      "Inference: 100%|██████████| 1/1 [00:01<00:00,  1.01s/it]\n",
      "Tokenization: 100%|██████████| 1/1 [00:00<00:00, 2505.56it/s]\n",
      "Inference: 100%|██████████| 1/1 [00:00<00:00,  1.71it/s]\n",
      "Tokenization: 100%|██████████| 1/1 [00:00<00:00, 2139.95it/s]\n",
      "Inference:   0%|          | 0/1 [00:00<?, ?it/s]"
     ]
    },
    {
     "output_type": "stream",
     "name": "stdout",
     "text": [
      "Running pipeline ... done\n",
      "\n",
      "工作站事件線上簽核管理系統Station event online sign-off management system\n",
      "\n"
     ]
    },
    {
     "output_type": "stream",
     "name": "stderr",
     "text": [
      "Inference: 100%|██████████| 1/1 [00:00<00:00,  1.68it/s]\n",
      "Tokenization: 100%|██████████| 1/1 [00:00<00:00, 2659.67it/s]\n",
      "Inference: 100%|██████████| 1/1 [00:01<00:00,  1.11s/it]\n",
      "Tokenization: 100%|██████████| 1/1 [00:00<00:00, 1885.93it/s]\n",
      "Inference: 100%|██████████| 1/1 [00:00<00:00,  1.70it/s]\n",
      "Tokenization: 100%|██████████| 1/1 [00:00<00:00, 2198.27it/s]\n",
      "Inference:   0%|          | 0/1 [00:00<?, ?it/s]"
     ]
    },
    {
     "output_type": "stream",
     "name": "stdout",
     "text": [
      "Running pipeline ... done\n",
      "\n",
      "銀行流動性覆蓋比率即時估算系統Real-time estimation system for bank liquidity coverage ratio\n",
      "\n"
     ]
    },
    {
     "output_type": "stream",
     "name": "stderr",
     "text": [
      "Inference: 100%|██████████| 1/1 [00:00<00:00,  1.77it/s]\n",
      "Tokenization: 100%|██████████| 1/1 [00:00<00:00, 1383.35it/s]\n",
      "Inference: 100%|██████████| 1/1 [00:01<00:00,  1.11s/it]\n",
      "Tokenization: 100%|██████████| 1/1 [00:00<00:00, 2605.16it/s]\n",
      "Inference: 100%|██████████| 1/1 [00:00<00:00,  1.76it/s]\n",
      "Tokenization: 100%|██████████| 1/1 [00:00<00:00, 2294.48it/s]\n",
      "Inference:   0%|          | 0/1 [00:00<?, ?it/s]"
     ]
    },
    {
     "output_type": "stream",
     "name": "stdout",
     "text": [
      "Running pipeline ... done\n",
      "\n",
      "授信戶利率條款控管系統Credit granting client interest rate article control system\n",
      "\n"
     ]
    },
    {
     "output_type": "stream",
     "name": "stderr",
     "text": [
      "Inference: 100%|██████████| 1/1 [00:00<00:00,  1.86it/s]\n",
      "Tokenization: 100%|██████████| 1/1 [00:00<00:00, 2074.33it/s]\n",
      "Inference: 100%|██████████| 1/1 [00:00<00:00,  1.20it/s]\n",
      "Tokenization: 100%|██████████| 1/1 [00:00<00:00, 1706.39it/s]\n",
      "Inference: 100%|██████████| 1/1 [00:00<00:00,  1.69it/s]\n",
      "Tokenization: 100%|██████████| 1/1 [00:00<00:00, 1648.06it/s]\n",
      "Inference:   0%|          | 0/1 [00:00<?, ?it/s]"
     ]
    },
    {
     "output_type": "stream",
     "name": "stdout",
     "text": [
      "Running pipeline ... done\n",
      "\n",
      "境外分行外匯電文系統Foreign exchange message system of overseas branches\n",
      "\n"
     ]
    },
    {
     "output_type": "stream",
     "name": "stderr",
     "text": [
      "Inference: 100%|██████████| 1/1 [00:00<00:00,  1.68it/s]\n",
      "Tokenization: 100%|██████████| 1/1 [00:00<00:00, 1379.25it/s]\n",
      "Inference: 100%|██████████| 1/1 [00:00<00:00,  1.04it/s]\n",
      "Tokenization: 100%|██████████| 1/1 [00:00<00:00, 2445.66it/s]\n",
      "Inference: 100%|██████████| 1/1 [00:00<00:00,  1.68it/s]\n",
      "Tokenization: 100%|██████████| 1/1 [00:00<00:00, 1733.18it/s]\n",
      "Inference:   0%|          | 0/1 [00:00<?, ?it/s]"
     ]
    },
    {
     "output_type": "stream",
     "name": "stdout",
     "text": [
      "Running pipeline ... done\n",
      "\n",
      "資安宣導課程管理作業系統Information security advocacy course management operation system\n",
      "\n"
     ]
    },
    {
     "output_type": "stream",
     "name": "stderr",
     "text": [
      "Inference: 100%|██████████| 1/1 [00:00<00:00,  1.29it/s]\n",
      "Tokenization: 100%|██████████| 1/1 [00:00<00:00, 1733.18it/s]\n",
      "Inference: 100%|██████████| 1/1 [00:01<00:00,  1.50s/it]\n",
      "Tokenization: 100%|██████████| 1/1 [00:00<00:00, 2058.05it/s]\n",
      "Inference: 100%|██████████| 1/1 [00:00<00:00,  1.28it/s]\n",
      "Tokenization: 100%|██████████| 1/1 [00:00<00:00, 2826.35it/s]\n",
      "Inference:   0%|          | 0/1 [00:00<?, ?it/s]"
     ]
    },
    {
     "output_type": "stream",
     "name": "stdout",
     "text": [
      "Running pipeline ... done\n",
      "\n",
      "不動產估價分析系統\n",
      "\n"
     ]
    },
    {
     "output_type": "stream",
     "name": "stderr",
     "text": [
      "Inference: 100%|██████████| 1/1 [00:00<00:00,  1.81it/s]\n",
      "Tokenization: 100%|██████████| 1/1 [00:00<00:00, 2000.14it/s]\n",
      "Inference: 100%|██████████| 1/1 [00:00<00:00,  1.23it/s]\n",
      "Tokenization: 100%|██████████| 1/1 [00:00<00:00, 1926.64it/s]\n",
      "Inference: 100%|██████████| 1/1 [00:00<00:00,  1.80it/s]\n",
      "Tokenization: 100%|██████████| 1/1 [00:00<00:00, 660.00it/s]\n",
      "Inference:   0%|          | 0/1 [00:00<?, ?it/s]"
     ]
    },
    {
     "output_type": "stream",
     "name": "stdout",
     "text": [
      "Running pipeline ... done\n",
      "\n",
      "公益信託受益人管理系統Beneficiary management system for public trusts\n",
      "\n"
     ]
    },
    {
     "output_type": "stream",
     "name": "stderr",
     "text": [
      "Inference: 100%|██████████| 1/1 [00:00<00:00,  1.47it/s]\n",
      "Tokenization: 100%|██████████| 1/1 [00:00<00:00, 1858.35it/s]\n",
      "Inference: 100%|██████████| 1/1 [00:01<00:00,  1.04s/it]\n",
      "Tokenization: 100%|██████████| 1/1 [00:00<00:00, 1911.72it/s]\n",
      "Inference: 100%|██████████| 1/1 [00:00<00:00,  1.45it/s]\n",
      "Tokenization: 100%|██████████| 1/1 [00:00<00:00, 2427.26it/s]\n",
      "Inference:   0%|          | 0/1 [00:00<?, ?it/s]"
     ]
    },
    {
     "output_type": "stream",
     "name": "stdout",
     "text": [
      "Running pipeline ... done\n",
      "\n",
      "行為模式信評系統BEHAVIORAL MODEL CREDIT ASSESSMENT SYSTEM\n",
      "\n"
     ]
    },
    {
     "output_type": "stream",
     "name": "stderr",
     "text": [
      "Inference: 100%|██████████| 1/1 [00:00<00:00,  1.97it/s]\n",
      "Tokenization: 100%|██████████| 1/1 [00:00<00:00, 1326.47it/s]\n",
      "Inference: 100%|██████████| 1/1 [00:00<00:00,  1.10it/s]\n",
      "Tokenization: 100%|██████████| 1/1 [00:00<00:00, 2557.50it/s]\n",
      "Inference: 100%|██████████| 1/1 [00:00<00:00,  1.92it/s]\n",
      "Tokenization: 100%|██████████| 1/1 [00:00<00:00, 2874.78it/s]\n",
      "Inference:   0%|          | 0/1 [00:00<?, ?it/s]"
     ]
    },
    {
     "output_type": "stream",
     "name": "stdout",
     "text": [
      "Running pipeline ... done\n",
      "\n",
      "證券買賣損益試算系統Trial calculation system for securities trading profit and loss\n",
      "\n"
     ]
    },
    {
     "output_type": "stream",
     "name": "stderr",
     "text": [
      "Inference: 100%|██████████| 1/1 [00:00<00:00,  1.88it/s]\n",
      "Tokenization: 100%|██████████| 1/1 [00:00<00:00, 2033.11it/s]\n",
      "Inference: 100%|██████████| 1/1 [00:00<00:00,  1.01it/s]\n",
      "Tokenization: 100%|██████████| 1/1 [00:00<00:00, 2847.46it/s]\n",
      "Inference: 100%|██████████| 1/1 [00:00<00:00,  1.85it/s]\n",
      "Tokenization: 100%|██████████| 1/1 [00:00<00:00, 3387.97it/s]\n",
      "Inference:   0%|          | 0/1 [00:00<?, ?it/s]"
     ]
    },
    {
     "output_type": "stream",
     "name": "stdout",
     "text": [
      "Running pipeline ... done\n",
      "\n",
      "虛擬分行作業系統VIRTUAL BRANCH OPERATING SYSTEM\n",
      "\n"
     ]
    },
    {
     "output_type": "stream",
     "name": "stderr",
     "text": [
      "Inference: 100%|██████████| 1/1 [00:00<00:00,  2.45it/s]\n",
      "Tokenization: 100%|██████████| 1/1 [00:00<00:00, 2075.36it/s]\n",
      "Inference: 100%|██████████| 1/1 [00:00<00:00,  1.48it/s]\n",
      "Tokenization: 100%|██████████| 1/1 [00:00<00:00, 2985.27it/s]\n",
      "Inference: 100%|██████████| 1/1 [00:00<00:00,  2.41it/s]\n",
      "Tokenization: 100%|██████████| 1/1 [00:00<00:00, 2192.53it/s]\n",
      "Inference:   0%|          | 0/1 [00:00<?, ?it/s]"
     ]
    },
    {
     "output_type": "stream",
     "name": "stdout",
     "text": [
      "Running pipeline ... done\n",
      "\n",
      "證券定期定額買入系統Securities regular fixed purchase system\n",
      "\n"
     ]
    },
    {
     "output_type": "stream",
     "name": "stderr",
     "text": [
      "Inference: 100%|██████████| 1/1 [00:00<00:00,  1.69it/s]\n",
      "Tokenization: 100%|██████████| 1/1 [00:00<00:00, 2890.63it/s]\n",
      "Inference: 100%|██████████| 1/1 [00:00<00:00,  1.17it/s]\n",
      "Tokenization: 100%|██████████| 1/1 [00:00<00:00, 2557.50it/s]\n",
      "Inference: 100%|██████████| 1/1 [00:00<00:00,  1.59it/s]\n",
      "Tokenization: 100%|██████████| 1/1 [00:00<00:00, 2495.12it/s]\n",
      "Inference:   0%|          | 0/1 [00:00<?, ?it/s]"
     ]
    },
    {
     "output_type": "stream",
     "name": "stdout",
     "text": [
      "Running pipeline ... done\n",
      "\n",
      "電子表單作業系統Electronic forms operating system\n",
      "\n"
     ]
    },
    {
     "output_type": "stream",
     "name": "stderr",
     "text": [
      "Inference: 100%|██████████| 1/1 [00:00<00:00,  2.15it/s]\n",
      "Tokenization: 100%|██████████| 1/1 [00:00<00:00, 2118.34it/s]\n",
      "Inference: 100%|██████████| 1/1 [00:00<00:00,  1.15it/s]\n",
      "Tokenization: 100%|██████████| 1/1 [00:00<00:00, 1324.38it/s]\n",
      "Inference: 100%|██████████| 1/1 [00:00<00:00,  2.23it/s]\n",
      "Tokenization: 100%|██████████| 1/1 [00:00<00:00, 2128.01it/s]\n",
      "Inference:   0%|          | 0/1 [00:00<?, ?it/s]"
     ]
    },
    {
     "output_type": "stream",
     "name": "stdout",
     "text": [
      "Running pipeline ... done\n",
      "\n",
      "都市更新融資商機開發系統Urban renewal financing business opportunity development system\n",
      "\n"
     ]
    },
    {
     "output_type": "stream",
     "name": "stderr",
     "text": [
      "Inference: 100%|██████████| 1/1 [00:00<00:00,  1.87it/s]\n",
      "Tokenization: 100%|██████████| 1/1 [00:00<00:00, 2183.40it/s]\n",
      "Inference: 100%|██████████| 1/1 [00:00<00:00,  1.30it/s]\n",
      "Tokenization: 100%|██████████| 1/1 [00:00<00:00, 2597.09it/s]\n",
      "Inference: 100%|██████████| 1/1 [00:00<00:00,  1.87it/s]\n",
      "Tokenization: 100%|██████████| 1/1 [00:00<00:00, 3050.40it/s]\n",
      "Inference:   0%|          | 0/1 [00:00<?, ?it/s]"
     ]
    },
    {
     "output_type": "stream",
     "name": "stdout",
     "text": [
      "Running pipeline ... done\n",
      "\n",
      "估價報告系統Valuation report system\n",
      "\n"
     ]
    },
    {
     "output_type": "stream",
     "name": "stderr",
     "text": [
      "Inference: 100%|██████████| 1/1 [00:00<00:00,  2.02it/s]\n",
      "Tokenization: 100%|██████████| 1/1 [00:00<00:00, 2283.24it/s]\n",
      "Inference: 100%|██████████| 1/1 [00:00<00:00,  1.12it/s]\n",
      "Tokenization: 100%|██████████| 1/1 [00:00<00:00, 2525.17it/s]\n",
      "Inference: 100%|██████████| 1/1 [00:00<00:00,  2.02it/s]\n",
      "Tokenization: 100%|██████████| 1/1 [00:00<00:00, 2739.58it/s]\n",
      "Inference:   0%|          | 0/1 [00:00<?, ?it/s]"
     ]
    },
    {
     "output_type": "stream",
     "name": "stdout",
     "text": [
      "Running pipeline ... done\n",
      "\n",
      "外匯電子化整批交易系統Electronic foreign exchange batch trading system\n",
      "\n"
     ]
    },
    {
     "output_type": "stream",
     "name": "stderr",
     "text": [
      "Inference: 100%|██████████| 1/1 [00:00<00:00,  1.90it/s]\n",
      "Tokenization: 100%|██████████| 1/1 [00:00<00:00, 2387.20it/s]\n",
      "Inference: 100%|██████████| 1/1 [00:00<00:00,  1.25it/s]\n",
      "Tokenization: 100%|██████████| 1/1 [00:00<00:00, 1975.65it/s]\n",
      "Inference: 100%|██████████| 1/1 [00:00<00:00,  1.83it/s]\n",
      "Tokenization: 100%|██████████| 1/1 [00:00<00:00, 3663.15it/s]\n",
      "Inference:   0%|          | 0/1 [00:00<?, ?it/s]"
     ]
    },
    {
     "output_type": "stream",
     "name": "stdout",
     "text": [
      "Running pipeline ... done\n",
      "\n",
      "利用簡訊帳單產生條碼之繳費暨自動銷帳系統Barcode payment and automatic sales billing system using SMS billing\n",
      "\n"
     ]
    },
    {
     "output_type": "stream",
     "name": "stderr",
     "text": [
      "Inference: 100%|██████████| 1/1 [00:00<00:00,  2.83it/s]\n",
      "Tokenization: 100%|██████████| 1/1 [00:00<00:00, 3675.99it/s]\n",
      "Inference: 100%|██████████| 1/1 [00:00<00:00,  2.20it/s]\n",
      "Tokenization: 100%|██████████| 1/1 [00:00<00:00, 3457.79it/s]\n",
      "Inference: 100%|██████████| 1/1 [00:00<00:00,  2.86it/s]\n",
      "Tokenization: 100%|██████████| 1/1 [00:00<00:00, 2222.74it/s]\n",
      "Inference:   0%|          | 0/1 [00:00<?, ?it/s]"
     ]
    },
    {
     "output_type": "stream",
     "name": "stdout",
     "text": [
      "Running pipeline ... done\n",
      "\n",
      "存出保證回庫作業管理系統Deposit guarantee return operation management system\n",
      "\n"
     ]
    },
    {
     "output_type": "stream",
     "name": "stderr",
     "text": [
      "Inference: 100%|██████████| 1/1 [00:00<00:00,  1.82it/s]\n",
      "Tokenization: 100%|██████████| 1/1 [00:00<00:00, 1782.53it/s]\n",
      "Inference: 100%|██████████| 1/1 [00:00<00:00,  1.06it/s]\n",
      "Tokenization: 100%|██████████| 1/1 [00:00<00:00, 1663.09it/s]\n",
      "Inference: 100%|██████████| 1/1 [00:00<00:00,  1.82it/s]\n",
      "Tokenization: 100%|██████████| 1/1 [00:00<00:00, 2732.45it/s]\n",
      "Inference:   0%|          | 0/1 [00:00<?, ?it/s]"
     ]
    },
    {
     "output_type": "stream",
     "name": "stdout",
     "text": [
      "Running pipeline ... done\n",
      "\n",
      "實價導入預警複查系統Selling price based early-warning re-examination system\n",
      "\n"
     ]
    },
    {
     "output_type": "stream",
     "name": "stderr",
     "text": [
      "Inference: 100%|██████████| 1/1 [00:00<00:00,  1.74it/s]\n",
      "Tokenization: 100%|██████████| 1/1 [00:00<00:00, 2253.79it/s]\n",
      "Inference: 100%|██████████| 1/1 [00:00<00:00,  1.32it/s]\n",
      "Tokenization: 100%|██████████| 1/1 [00:00<00:00, 1239.09it/s]\n",
      "Inference: 100%|██████████| 1/1 [00:00<00:00,  1.73it/s]\n",
      "Tokenization: 100%|██████████| 1/1 [00:00<00:00, 2680.07it/s]\n",
      "Inference:   0%|          | 0/1 [00:00<?, ?it/s]"
     ]
    },
    {
     "output_type": "stream",
     "name": "stdout",
     "text": [
      "Running pipeline ... done\n",
      "\n",
      "伺服主機組態設定管理系統Servo host configuration setting management system\n",
      "\n"
     ]
    },
    {
     "output_type": "stream",
     "name": "stderr",
     "text": [
      "Inference: 100%|██████████| 1/1 [00:00<00:00,  1.76it/s]\n",
      "Tokenization: 100%|██████████| 1/1 [00:00<00:00, 1468.59it/s]\n",
      "Inference: 100%|██████████| 1/1 [00:00<00:00,  1.04it/s]\n",
      "Tokenization: 100%|██████████| 1/1 [00:00<00:00, 2457.12it/s]\n",
      "Inference: 100%|██████████| 1/1 [00:00<00:00,  1.66it/s]\n",
      "Tokenization: 100%|██████████| 1/1 [00:00<00:00, 1453.33it/s]\n",
      "Inference:   0%|          | 0/1 [00:00<?, ?it/s]"
     ]
    },
    {
     "output_type": "stream",
     "name": "stdout",
     "text": [
      "Running pipeline ... done\n",
      "\n",
      "逾期因子分析系統Overdue factor analysis system\n",
      "\n"
     ]
    },
    {
     "output_type": "stream",
     "name": "stderr",
     "text": [
      "Inference: 100%|██████████| 1/1 [00:00<00:00,  2.05it/s]\n",
      "Tokenization: 100%|██████████| 1/1 [00:00<00:00, 2041.02it/s]\n",
      "Inference: 100%|██████████| 1/1 [00:00<00:00,  1.31it/s]\n",
      "Tokenization: 100%|██████████| 1/1 [00:00<00:00, 2652.94it/s]\n",
      "Inference: 100%|██████████| 1/1 [00:00<00:00,  2.06it/s]\n",
      "Tokenization: 100%|██████████| 1/1 [00:00<00:00, 2652.94it/s]\n",
      "Inference:   0%|          | 0/1 [00:00<?, ?it/s]"
     ]
    },
    {
     "output_type": "stream",
     "name": "stdout",
     "text": [
      "Running pipeline ... done\n",
      "\n",
      "會員紅利點數交易兌換共享系統Member bonus point transaction exchange sharing system\n",
      "\n"
     ]
    },
    {
     "output_type": "stream",
     "name": "stderr",
     "text": [
      "Inference: 100%|██████████| 1/1 [00:00<00:00,  1.71it/s]\n",
      "Tokenization: 100%|██████████| 1/1 [00:00<00:00, 987.13it/s]\n",
      "Inference: 100%|██████████| 1/1 [00:00<00:00,  1.10it/s]\n",
      "Tokenization: 100%|██████████| 1/1 [00:00<00:00, 2501.08it/s]\n",
      "Inference: 100%|██████████| 1/1 [00:00<00:00,  1.73it/s]\n",
      "Tokenization: 100%|██████████| 1/1 [00:00<00:00, 2187.95it/s]\n",
      "Inference:   0%|          | 0/1 [00:00<?, ?it/s]"
     ]
    },
    {
     "output_type": "stream",
     "name": "stdout",
     "text": [
      "Running pipeline ... done\n",
      "\n",
      "具網路語音身份驗證機制之行動銀行系統Mobile banking system with network voice identity verification mechanism\n",
      "\n"
     ]
    },
    {
     "output_type": "stream",
     "name": "stderr",
     "text": [
      "Inference: 100%|██████████| 1/1 [00:00<00:00,  2.54it/s]\n",
      "Tokenization: 100%|██████████| 1/1 [00:00<00:00, 1875.81it/s]\n",
      "Inference: 100%|██████████| 1/1 [00:00<00:00,  1.40it/s]\n",
      "Tokenization: 100%|██████████| 1/1 [00:00<00:00, 2531.26it/s]\n",
      "Inference: 100%|██████████| 1/1 [00:00<00:00,  2.51it/s]\n",
      "Tokenization: 100%|██████████| 1/1 [00:00<00:00, 1479.47it/s]\n",
      "Inference:   0%|          | 0/1 [00:00<?, ?it/s]"
     ]
    },
    {
     "output_type": "stream",
     "name": "stdout",
     "text": [
      "Running pipeline ... done\n",
      "\n",
      "企業融資核貸系統Corporate finance credit review system\n",
      "\n"
     ]
    },
    {
     "output_type": "stream",
     "name": "stderr",
     "text": [
      "Inference: 100%|██████████| 1/1 [00:00<00:00,  1.97it/s]\n",
      "Tokenization: 100%|██████████| 1/1 [00:00<00:00, 2590.68it/s]\n",
      "Inference: 100%|██████████| 1/1 [00:00<00:00,  1.28it/s]\n",
      "Tokenization: 100%|██████████| 1/1 [00:00<00:00, 3068.25it/s]\n",
      "Inference: 100%|██████████| 1/1 [00:00<00:00,  1.99it/s]\n",
      "Tokenization: 100%|██████████| 1/1 [00:00<00:00, 981.35it/s]\n",
      "Inference:   0%|          | 0/1 [00:00<?, ?it/s]"
     ]
    },
    {
     "output_type": "stream",
     "name": "stdout",
     "text": [
      "Running pipeline ... done\n",
      "\n",
      "土地建築融資資訊整合平台系統Land and building financing information integration platform system\n",
      "\n"
     ]
    },
    {
     "output_type": "stream",
     "name": "stderr",
     "text": [
      "Inference: 100%|██████████| 1/1 [00:00<00:00,  1.74it/s]\n",
      "Tokenization: 100%|██████████| 1/1 [00:00<00:00, 902.39it/s]\n",
      "Inference: 100%|██████████| 1/1 [00:00<00:00,  1.15it/s]\n",
      "Tokenization: 100%|██████████| 1/1 [00:00<00:00, 2493.64it/s]\n",
      "Inference: 100%|██████████| 1/1 [00:00<00:00,  1.85it/s]\n",
      "Tokenization: 100%|██████████| 1/1 [00:00<00:00, 2054.02it/s]\n",
      "Inference:   0%|          | 0/1 [00:00<?, ?it/s]"
     ]
    },
    {
     "output_type": "stream",
     "name": "stdout",
     "text": [
      "Running pipeline ... done\n",
      "\n",
      "利率與費率報核審查系統Interest rate and fee rate reporting and auditing system\n",
      "\n"
     ]
    },
    {
     "output_type": "stream",
     "name": "stderr",
     "text": [
      "Inference: 100%|██████████| 1/1 [00:00<00:00,  1.73it/s]\n",
      "Tokenization: 100%|██████████| 1/1 [00:00<00:00, 1512.55it/s]\n",
      "Inference: 100%|██████████| 1/1 [00:00<00:00,  1.05it/s]\n",
      "Tokenization: 100%|██████████| 1/1 [00:00<00:00, 2032.12it/s]\n",
      "Inference: 100%|██████████| 1/1 [00:00<00:00,  1.59it/s]\n",
      "Tokenization: 100%|██████████| 1/1 [00:00<00:00, 1730.32it/s]\n",
      "Inference:   0%|          | 0/1 [00:00<?, ?it/s]"
     ]
    },
    {
     "output_type": "stream",
     "name": "stdout",
     "text": [
      "Running pipeline ... done\n",
      "\n",
      "語音指令執行金融業務之系統System for executing financial business by voice command\n",
      "\n"
     ]
    },
    {
     "output_type": "stream",
     "name": "stderr",
     "text": [
      "Inference: 100%|██████████| 1/1 [00:00<00:00,  1.58it/s]\n",
      "Tokenization: 100%|██████████| 1/1 [00:00<00:00, 1360.46it/s]\n",
      "Inference: 100%|██████████| 1/1 [00:01<00:00,  1.02s/it]\n",
      "Tokenization: 100%|██████████| 1/1 [00:00<00:00, 2387.20it/s]\n",
      "Inference: 100%|██████████| 1/1 [00:00<00:00,  1.51it/s]\n",
      "Tokenization: 100%|██████████| 1/1 [00:00<00:00, 1845.27it/s]\n",
      "Inference:   0%|          | 0/1 [00:00<?, ?it/s]"
     ]
    },
    {
     "output_type": "stream",
     "name": "stdout",
     "text": [
      "Running pipeline ... done\n",
      "\n",
      "擴增實境簽章系統Augmented reality signing system\n",
      "\n"
     ]
    },
    {
     "output_type": "stream",
     "name": "stderr",
     "text": [
      "Inference: 100%|██████████| 1/1 [00:00<00:00,  2.30it/s]\n",
      "Tokenization: 100%|██████████| 1/1 [00:00<00:00, 659.27it/s]\n",
      "Inference: 100%|██████████| 1/1 [00:00<00:00,  1.02it/s]\n",
      "Tokenization: 100%|██████████| 1/1 [00:00<00:00, 1494.76it/s]\n",
      "Inference: 100%|██████████| 1/1 [00:00<00:00,  2.47it/s]\n",
      "Tokenization: 100%|██████████| 1/1 [00:00<00:00, 2246.55it/s]\n",
      "Inference:   0%|          | 0/1 [00:00<?, ?it/s]"
     ]
    },
    {
     "output_type": "stream",
     "name": "stdout",
     "text": [
      "Running pipeline ... done\n",
      "\n",
      "稽核工作底稿管理系統Audit work paper management system\n",
      "\n"
     ]
    },
    {
     "output_type": "stream",
     "name": "stderr",
     "text": [
      "Inference: 100%|██████████| 1/1 [00:00<00:00,  1.89it/s]\n",
      "Tokenization: 100%|██████████| 1/1 [00:00<00:00, 1795.51it/s]\n",
      "Inference: 100%|██████████| 1/1 [00:00<00:00,  1.35it/s]\n",
      "Tokenization: 100%|██████████| 1/1 [00:00<00:00, 2770.35it/s]\n",
      "Inference: 100%|██████████| 1/1 [00:00<00:00,  1.84it/s]\n",
      "Tokenization: 100%|██████████| 1/1 [00:00<00:00, 2906.66it/s]\n",
      "Inference:   0%|          | 0/1 [00:00<?, ?it/s]"
     ]
    },
    {
     "output_type": "stream",
     "name": "stdout",
     "text": [
      "Running pipeline ... done\n",
      "\n",
      "計算電子支付機構貢獻度系統System for calculating contribution of electronic payment mechanism\n",
      "\n"
     ]
    },
    {
     "output_type": "stream",
     "name": "stderr",
     "text": [
      "Inference: 100%|██████████| 1/1 [00:00<00:00,  2.10it/s]\n",
      "Tokenization: 100%|██████████| 1/1 [00:00<00:00, 2183.40it/s]\n",
      "Inference: 100%|██████████| 1/1 [00:00<00:00,  1.53it/s]\n",
      "Tokenization: 100%|██████████| 1/1 [00:00<00:00, 2624.72it/s]\n",
      "Inference: 100%|██████████| 1/1 [00:00<00:00,  2.10it/s]\n",
      "Tokenization: 100%|██████████| 1/1 [00:00<00:00, 2847.46it/s]\n",
      "Inference:   0%|          | 0/1 [00:00<?, ?it/s]"
     ]
    },
    {
     "output_type": "stream",
     "name": "stdout",
     "text": [
      "Running pipeline ... done\n",
      "\n",
      "債券投資信用評等控管系統Credit rating control system of bond investment\n",
      "\n"
     ]
    },
    {
     "output_type": "stream",
     "name": "stderr",
     "text": [
      "Inference: 100%|██████████| 1/1 [00:00<00:00,  1.84it/s]\n",
      "Tokenization: 100%|██████████| 1/1 [00:00<00:00, 2299.51it/s]\n",
      "Inference: 100%|██████████| 1/1 [00:00<00:00,  1.21it/s]\n",
      "Tokenization: 100%|██████████| 1/1 [00:00<00:00, 2525.17it/s]\n",
      "Inference: 100%|██████████| 1/1 [00:00<00:00,  1.87it/s]\n",
      "Tokenization: 100%|██████████| 1/1 [00:00<00:00, 2849.39it/s]\n",
      "Inference:   0%|          | 0/1 [00:00<?, ?it/s]"
     ]
    },
    {
     "output_type": "stream",
     "name": "stdout",
     "text": [
      "Running pipeline ... done\n",
      "\n",
      "重點客戶往來對象優惠自動識別系統Automatic recognition system for key customer deals\n",
      "\n"
     ]
    },
    {
     "output_type": "stream",
     "name": "stderr",
     "text": [
      "Inference: 100%|██████████| 1/1 [00:00<00:00,  1.79it/s]\n",
      "Tokenization: 100%|██████████| 1/1 [00:00<00:00, 1587.55it/s]\n",
      "Inference: 100%|██████████| 1/1 [00:01<00:00,  1.22s/it]\n",
      "Tokenization: 100%|██████████| 1/1 [00:00<00:00, 2748.56it/s]\n",
      "Inference: 100%|██████████| 1/1 [00:00<00:00,  1.80it/s]\n",
      "Tokenization: 100%|██████████| 1/1 [00:00<00:00, 2118.34it/s]\n",
      "Inference:   0%|          | 0/1 [00:00<?, ?it/s]"
     ]
    },
    {
     "output_type": "stream",
     "name": "stdout",
     "text": [
      "Running pipeline ... done\n",
      "\n",
      "虛擬帳戶驗證系統Virtual account verification system\n",
      "\n"
     ]
    },
    {
     "output_type": "stream",
     "name": "stderr",
     "text": [
      "Inference: 100%|██████████| 1/1 [00:00<00:00,  1.67it/s]\n",
      "Tokenization: 100%|██████████| 1/1 [00:00<00:00, 2074.33it/s]\n",
      "Inference: 100%|██████████| 1/1 [00:00<00:00,  1.02it/s]\n",
      "Tokenization: 100%|██████████| 1/1 [00:00<00:00, 1911.72it/s]\n",
      "Inference: 100%|██████████| 1/1 [00:00<00:00,  1.65it/s]\n",
      "Tokenization: 100%|██████████| 1/1 [00:00<00:00, 2227.46it/s]\n",
      "Inference:   0%|          | 0/1 [00:00<?, ?it/s]"
     ]
    },
    {
     "output_type": "stream",
     "name": "stdout",
     "text": [
      "Running pipeline ... done\n",
      "\n",
      "新開戶相關交易流程控制系統New account opening related transaction process control system\n",
      "\n"
     ]
    },
    {
     "output_type": "stream",
     "name": "stderr",
     "text": [
      "Inference: 100%|██████████| 1/1 [00:00<00:00,  1.73it/s]\n",
      "Tokenization: 100%|██████████| 1/1 [00:00<00:00, 1763.79it/s]\n",
      "Inference: 100%|██████████| 1/1 [00:00<00:00,  1.12it/s]\n",
      "Tokenization: 100%|██████████| 1/1 [00:00<00:00, 1865.79it/s]\n",
      "Inference: 100%|██████████| 1/1 [00:00<00:00,  1.71it/s]\n",
      "Tokenization: 100%|██████████| 1/1 [00:00<00:00, 1634.57it/s]\n",
      "Inference:   0%|          | 0/1 [00:00<?, ?it/s]"
     ]
    },
    {
     "output_type": "stream",
     "name": "stdout",
     "text": [
      "Running pipeline ... done\n",
      "\n",
      "人事資料轉換系統Personnel data conversion system\n",
      "\n"
     ]
    },
    {
     "output_type": "stream",
     "name": "stderr",
     "text": [
      "Inference: 100%|██████████| 1/1 [00:00<00:00,  1.73it/s]\n",
      "Tokenization: 100%|██████████| 1/1 [00:00<00:00, 1160.25it/s]\n",
      "Inference: 100%|██████████| 1/1 [00:01<00:00,  1.03s/it]\n",
      "Tokenization: 100%|██████████| 1/1 [00:00<00:00, 2298.25it/s]\n",
      "Inference: 100%|██████████| 1/1 [00:00<00:00,  1.73it/s]\n",
      "Tokenization: 100%|██████████| 1/1 [00:00<00:00, 1887.63it/s]\n",
      "Inference:   0%|          | 0/1 [00:00<?, ?it/s]"
     ]
    },
    {
     "output_type": "stream",
     "name": "stdout",
     "text": [
      "Running pipeline ... done\n",
      "\n",
      "行銷訊息管理系統Marketing message management system\n",
      "\n"
     ]
    },
    {
     "output_type": "stream",
     "name": "stderr",
     "text": [
      "Inference: 100%|██████████| 1/1 [00:00<00:00,  1.96it/s]\n",
      "Tokenization: 100%|██████████| 1/1 [00:00<00:00, 2319.86it/s]\n",
      "Inference: 100%|██████████| 1/1 [00:00<00:00,  1.32it/s]\n",
      "Tokenization: 100%|██████████| 1/1 [00:00<00:00, 2974.68it/s]\n",
      "Inference: 100%|██████████| 1/1 [00:00<00:00,  2.20it/s]\n",
      "Tokenization: 100%|██████████| 1/1 [00:00<00:00, 2071.26it/s]\n",
      "Inference:   0%|          | 0/1 [00:00<?, ?it/s]"
     ]
    },
    {
     "output_type": "stream",
     "name": "stdout",
     "text": [
      "Running pipeline ... done\n",
      "\n",
      "資料庫資源預警系統Database resource early warning system\n",
      "\n"
     ]
    },
    {
     "output_type": "stream",
     "name": "stderr",
     "text": [
      "Inference: 100%|██████████| 1/1 [00:00<00:00,  2.06it/s]\n",
      "Tokenization: 100%|██████████| 1/1 [00:00<00:00, 2247.75it/s]\n",
      "Inference: 100%|██████████| 1/1 [00:00<00:00,  1.39it/s]\n",
      "Tokenization: 100%|██████████| 1/1 [00:00<00:00, 3019.66it/s]\n",
      "Inference: 100%|██████████| 1/1 [00:00<00:00,  2.10it/s]\n",
      "Tokenization: 100%|██████████| 1/1 [00:00<00:00, 1834.78it/s]\n",
      "Inference:   0%|          | 0/1 [00:00<?, ?it/s]"
     ]
    },
    {
     "output_type": "stream",
     "name": "stdout",
     "text": [
      "Running pipeline ... done\n",
      "\n",
      "跨境資料傳輸管理系統Cross-border data transmission management system\n",
      "\n"
     ]
    },
    {
     "output_type": "stream",
     "name": "stderr",
     "text": [
      "Inference: 100%|██████████| 1/1 [00:00<00:00,  1.91it/s]\n",
      "Tokenization: 100%|██████████| 1/1 [00:00<00:00, 2245.34it/s]\n",
      "Inference: 100%|██████████| 1/1 [00:00<00:00,  1.16it/s]\n",
      "Tokenization: 100%|██████████| 1/1 [00:00<00:00, 2632.96it/s]\n",
      "Inference: 100%|██████████| 1/1 [00:00<00:00,  1.86it/s]\n",
      "Tokenization: 100%|██████████| 1/1 [00:00<00:00, 1766.77it/s]\n",
      "Inference:   0%|          | 0/1 [00:00<?, ?it/s]"
     ]
    },
    {
     "output_type": "stream",
     "name": "stdout",
     "text": [
      "Running pipeline ... done\n",
      "\n",
      "基金投資策略管理系統Funds investment strategy management system\n",
      "\n"
     ]
    },
    {
     "output_type": "stream",
     "name": "stderr",
     "text": [
      "Inference: 100%|██████████| 1/1 [00:00<00:00,  1.72it/s]\n",
      "Tokenization: 100%|██████████| 1/1 [00:00<00:00, 2582.70it/s]\n",
      "Inference: 100%|██████████| 1/1 [00:00<00:00,  1.24it/s]\n",
      "Tokenization: 100%|██████████| 1/1 [00:00<00:00, 2571.61it/s]\n",
      "Inference: 100%|██████████| 1/1 [00:00<00:00,  1.73it/s]\n",
      "Tokenization: 100%|██████████| 1/1 [00:00<00:00, 2659.67it/s]\n",
      "Inference:   0%|          | 0/1 [00:00<?, ?it/s]"
     ]
    },
    {
     "output_type": "stream",
     "name": "stdout",
     "text": [
      "Running pipeline ... done\n",
      "\n",
      "法令遵循法令條文宣導執行成果表填報作業系統Operating system for filling achievement form for implementing propaganda of decrees for regulatory compliance\n",
      "\n"
     ]
    },
    {
     "output_type": "stream",
     "name": "stderr",
     "text": [
      "Inference: 100%|██████████| 1/1 [00:00<00:00,  1.72it/s]\n",
      "Tokenization: 100%|██████████| 1/1 [00:00<00:00, 2304.56it/s]\n",
      "Inference: 100%|██████████| 1/1 [00:00<00:00,  1.17it/s]\n",
      "Tokenization: 100%|██████████| 1/1 [00:00<00:00, 1897.88it/s]\n",
      "Inference: 100%|██████████| 1/1 [00:00<00:00,  1.57it/s]\n",
      "Tokenization: 100%|██████████| 1/1 [00:00<00:00, 3039.35it/s]\n",
      "Inference:   0%|          | 0/1 [00:00<?, ?it/s]"
     ]
    },
    {
     "output_type": "stream",
     "name": "stdout",
     "text": [
      "Running pipeline ... done\n",
      "\n",
      "案件自動分派系統Automatic case dispatching system\n",
      "\n"
     ]
    },
    {
     "output_type": "stream",
     "name": "stderr",
     "text": [
      "Inference: 100%|██████████| 1/1 [00:00<00:00,  1.95it/s]\n",
      "Tokenization: 100%|██████████| 1/1 [00:00<00:00, 2122.62it/s]\n",
      "Inference: 100%|██████████| 1/1 [00:00<00:00,  1.69it/s]\n",
      "Tokenization: 100%|██████████| 1/1 [00:00<00:00, 2890.63it/s]\n",
      "Inference: 100%|██████████| 1/1 [00:00<00:00,  2.12it/s]\n",
      "Tokenization: 100%|██████████| 1/1 [00:00<00:00, 1569.72it/s]\n",
      "Inference:   0%|          | 0/1 [00:00<?, ?it/s]"
     ]
    },
    {
     "output_type": "stream",
     "name": "stdout",
     "text": [
      "Running pipeline ... done\n",
      "\n",
      "信用貸款線上自動徵信審核撥款系統Credit loan online automatic credit review and appropriation system\n",
      "\n"
     ]
    },
    {
     "output_type": "stream",
     "name": "stderr",
     "text": [
      "Inference: 100%|██████████| 1/1 [00:00<00:00,  1.78it/s]\n",
      "Tokenization: 100%|██████████| 1/1 [00:00<00:00, 1850.97it/s]\n",
      "Inference: 100%|██████████| 1/1 [00:00<00:00,  1.21it/s]\n",
      "Tokenization: 100%|██████████| 1/1 [00:00<00:00, 1837.99it/s]\n",
      "Inference: 100%|██████████| 1/1 [00:00<00:00,  1.75it/s]\n",
      "Tokenization: 100%|██████████| 1/1 [00:00<00:00, 2603.54it/s]\n",
      "Inference:   0%|          | 0/1 [00:00<?, ?it/s]"
     ]
    },
    {
     "output_type": "stream",
     "name": "stdout",
     "text": [
      "Running pipeline ... done\n",
      "\n",
      "簡式不動產買賣價金信託系統Simple real estate trading price trust system\n",
      "\n"
     ]
    },
    {
     "output_type": "stream",
     "name": "stderr",
     "text": [
      "Inference: 100%|██████████| 1/1 [00:00<00:00,  1.75it/s]\n",
      "Tokenization: 100%|██████████| 1/1 [00:00<00:00, 1483.66it/s]\n",
      "Inference: 100%|██████████| 1/1 [00:00<00:00,  1.22it/s]\n",
      "Tokenization: 100%|██████████| 1/1 [00:00<00:00, 2150.93it/s]\n",
      "Inference: 100%|██████████| 1/1 [00:00<00:00,  1.76it/s]\n",
      "Tokenization: 100%|██████████| 1/1 [00:00<00:00, 2563.76it/s]\n",
      "Inference:   0%|          | 0/1 [00:00<?, ?it/s]"
     ]
    },
    {
     "output_type": "stream",
     "name": "stdout",
     "text": [
      "Running pipeline ... done\n",
      "\n",
      "基金手續費智慧設定系統Intelligent fund fee setting system\n",
      "\n"
     ]
    },
    {
     "output_type": "stream",
     "name": "stderr",
     "text": [
      "Inference: 100%|██████████| 1/1 [00:00<00:00,  1.71it/s]\n",
      "Tokenization: 100%|██████████| 1/1 [00:00<00:00, 2434.30it/s]\n",
      "Inference: 100%|██████████| 1/1 [00:00<00:00,  1.02it/s]\n",
      "Tokenization: 100%|██████████| 1/1 [00:00<00:00, 2507.06it/s]\n",
      "Inference: 100%|██████████| 1/1 [00:00<00:00,  1.69it/s]\n",
      "Tokenization: 100%|██████████| 1/1 [00:00<00:00, 2906.66it/s]\n",
      "Inference:   0%|          | 0/1 [00:00<?, ?it/s]"
     ]
    },
    {
     "output_type": "stream",
     "name": "stdout",
     "text": [
      "Running pipeline ... done\n",
      "\n",
      "資訊安全監控管理及時告知追蹤作業系統Operating system to promptly inform and track for information security monitoring management\n",
      "\n"
     ]
    },
    {
     "output_type": "stream",
     "name": "stderr",
     "text": [
      "Inference: 100%|██████████| 1/1 [00:00<00:00,  1.75it/s]\n",
      "Tokenization: 100%|██████████| 1/1 [00:00<00:00, 2579.52it/s]\n",
      "Inference: 100%|██████████| 1/1 [00:00<00:00,  1.32it/s]\n",
      "Tokenization: 100%|██████████| 1/1 [00:00<00:00, 2226.28it/s]\n",
      "Inference: 100%|██████████| 1/1 [00:00<00:00,  1.89it/s]\n",
      "Tokenization: 100%|██████████| 1/1 [00:00<00:00, 2158.67it/s]\n",
      "Inference:   0%|          | 0/1 [00:00<?, ?it/s]"
     ]
    },
    {
     "output_type": "stream",
     "name": "stdout",
     "text": [
      "Running pipeline ... done\n",
      "\n",
      "連線入金機集中管理系統Centralized management system connected with deposit machines\n",
      "\n"
     ]
    },
    {
     "output_type": "stream",
     "name": "stderr",
     "text": [
      "Inference: 100%|██████████| 1/1 [00:00<00:00,  1.73it/s]\n",
      "Tokenization: 100%|██████████| 1/1 [00:00<00:00, 1264.87it/s]\n",
      "Inference: 100%|██████████| 1/1 [00:00<00:00,  1.20it/s]\n",
      "Tokenization: 100%|██████████| 1/1 [00:00<00:00, 2651.27it/s]\n",
      "Inference: 100%|██████████| 1/1 [00:00<00:00,  1.74it/s]\n",
      "Tokenization: 100%|██████████| 1/1 [00:00<00:00, 1173.89it/s]\n",
      "Inference:   0%|          | 0/1 [00:00<?, ?it/s]"
     ]
    },
    {
     "output_type": "stream",
     "name": "stdout",
     "text": [
      "Running pipeline ... done\n",
      "\n",
      "使用者身分查詢系統\n",
      "\n"
     ]
    },
    {
     "output_type": "stream",
     "name": "stderr",
     "text": [
      "Inference: 100%|██████████| 1/1 [00:00<00:00,  1.39it/s]\n",
      "Tokenization: 100%|██████████| 1/1 [00:00<00:00, 2304.56it/s]\n",
      "Inference: 100%|██████████| 1/1 [00:01<00:00,  1.18s/it]\n",
      "Tokenization: 100%|██████████| 1/1 [00:00<00:00, 956.95it/s]\n",
      "Inference: 100%|██████████| 1/1 [00:00<00:00,  1.40it/s]\n",
      "Tokenization: 100%|██████████| 1/1 [00:00<00:00, 1524.65it/s]\n",
      "Inference:   0%|          | 0/1 [00:00<?, ?it/s]"
     ]
    },
    {
     "output_type": "stream",
     "name": "stdout",
     "text": [
      "Running pipeline ... done\n",
      "\n",
      "估價運算系統Pricing computing system\n",
      "\n"
     ]
    },
    {
     "output_type": "stream",
     "name": "stderr",
     "text": [
      "Inference: 100%|██████████| 1/1 [00:00<00:00,  1.37it/s]\n",
      "Tokenization: 100%|██████████| 1/1 [00:00<00:00, 2545.09it/s]\n",
      "Inference: 100%|██████████| 1/1 [00:01<00:00,  1.51s/it]\n",
      "Tokenization: 100%|██████████| 1/1 [00:00<00:00, 2178.86it/s]\n",
      "Inference: 100%|██████████| 1/1 [00:00<00:00,  1.33it/s]\n",
      "Tokenization: 100%|██████████| 1/1 [00:00<00:00, 1407.96it/s]\n",
      "Inference:   0%|          | 0/1 [00:00<?, ?it/s]"
     ]
    },
    {
     "output_type": "stream",
     "name": "stdout",
     "text": [
      "Running pipeline ... done\n",
      "\n",
      "不動產估價區分系統Real estate valuation division system\n",
      "\n"
     ]
    },
    {
     "output_type": "stream",
     "name": "stderr",
     "text": [
      "Inference: 100%|██████████| 1/1 [00:00<00:00,  1.26it/s]\n",
      "Tokenization: 100%|██████████| 1/1 [00:00<00:00, 1227.12it/s]\n",
      "Inference: 100%|██████████| 1/1 [00:01<00:00,  1.50s/it]\n",
      "Tokenization: 100%|██████████| 1/1 [00:00<00:00, 1975.65it/s]\n",
      "Inference: 100%|██████████| 1/1 [00:00<00:00,  1.28it/s]\n",
      "Tokenization: 100%|██████████| 1/1 [00:00<00:00, 1891.03it/s]\n",
      "Inference:   0%|          | 0/1 [00:00<?, ?it/s]"
     ]
    },
    {
     "output_type": "stream",
     "name": "stdout",
     "text": [
      "Running pipeline ... done\n",
      "\n",
      "不動產估價分析系統Real estate appraisal analysis system\n",
      "\n"
     ]
    },
    {
     "output_type": "stream",
     "name": "stderr",
     "text": [
      "Inference: 100%|██████████| 1/1 [00:00<00:00,  1.38it/s]\n",
      "Tokenization: 100%|██████████| 1/1 [00:00<00:00, 1048.31it/s]\n",
      "Inference: 100%|██████████| 1/1 [00:01<00:00,  1.31s/it]\n",
      "Tokenization: 100%|██████████| 1/1 [00:00<00:00, 2232.20it/s]\n",
      "Inference: 100%|██████████| 1/1 [00:00<00:00,  1.37it/s]\n",
      "Tokenization: 100%|██████████| 1/1 [00:00<00:00, 1318.96it/s]\n",
      "Inference:   0%|          | 0/1 [00:00<?, ?it/s]"
     ]
    },
    {
     "output_type": "stream",
     "name": "stdout",
     "text": [
      "Running pipeline ... done\n",
      "\n",
      "不動產估價分類系統Real estate appraisal classification system\n",
      "\n"
     ]
    },
    {
     "output_type": "stream",
     "name": "stderr",
     "text": [
      "Inference: 100%|██████████| 1/1 [00:00<00:00,  1.60it/s]\n",
      "Tokenization: 100%|██████████| 1/1 [00:00<00:00, 2816.86it/s]\n",
      "Inference: 100%|██████████| 1/1 [00:01<00:00,  1.04s/it]\n",
      "Tokenization: 100%|██████████| 1/1 [00:00<00:00, 2398.12it/s]\n",
      "Inference: 100%|██████████| 1/1 [00:00<00:00,  1.56it/s]\n",
      "Tokenization: 100%|██████████| 1/1 [00:00<00:00, 1938.22it/s]\n",
      "Inference:   0%|          | 0/1 [00:00<?, ?it/s]"
     ]
    },
    {
     "output_type": "stream",
     "name": "stdout",
     "text": [
      "Running pipeline ... done\n",
      "\n",
      "具語音及臉部辨識之行動銀行系統Mobile banking system with voice and face recognition\n",
      "\n"
     ]
    },
    {
     "output_type": "stream",
     "name": "stderr",
     "text": [
      "Inference: 100%|██████████| 1/1 [00:00<00:00,  1.47it/s]\n",
      "Tokenization: 100%|██████████| 1/1 [00:00<00:00, 1303.79it/s]\n",
      "Inference: 100%|██████████| 1/1 [00:01<00:00,  1.23s/it]\n",
      "Tokenization: 100%|██████████| 1/1 [00:00<00:00, 2212.19it/s]\n",
      "Inference: 100%|██████████| 1/1 [00:00<00:00,  1.46it/s]\n",
      "Tokenization: 100%|██████████| 1/1 [00:00<00:00, 1029.78it/s]\n",
      "Inference:   0%|          | 0/1 [00:00<?, ?it/s]"
     ]
    },
    {
     "output_type": "stream",
     "name": "stdout",
     "text": [
      "Running pipeline ... done\n",
      "\n",
      "聯繫通報系統Contact notification system\n",
      "\n"
     ]
    },
    {
     "output_type": "stream",
     "name": "stderr",
     "text": [
      "Inference: 100%|██████████| 1/1 [00:00<00:00,  1.46it/s]\n",
      "Tokenization: 100%|██████████| 1/1 [00:00<00:00, 2501.08it/s]\n",
      "Inference: 100%|██████████| 1/1 [00:01<00:00,  1.21s/it]\n",
      "Tokenization: 100%|██████████| 1/1 [00:00<00:00, 2353.71it/s]\n",
      "Inference: 100%|██████████| 1/1 [00:00<00:00,  1.48it/s]\n",
      "Tokenization: 100%|██████████| 1/1 [00:00<00:00, 2252.58it/s]\n",
      "Inference:   0%|          | 0/1 [00:00<?, ?it/s]"
     ]
    },
    {
     "output_type": "stream",
     "name": "stdout",
     "text": [
      "Running pipeline ... done\n",
      "\n",
      "資金流向檢核系統Capital flow inspection system\n",
      "\n"
     ]
    },
    {
     "output_type": "stream",
     "name": "stderr",
     "text": [
      "Inference: 100%|██████████| 1/1 [00:00<00:00,  1.80it/s]\n",
      "Tokenization: 100%|██████████| 1/1 [00:00<00:00, 1745.44it/s]\n",
      "Inference: 100%|██████████| 1/1 [00:00<00:00,  1.16it/s]\n",
      "Tokenization: 100%|██████████| 1/1 [00:00<00:00, 2644.58it/s]\n",
      "Inference: 100%|██████████| 1/1 [00:00<00:00,  1.79it/s]\n",
      "Tokenization: 100%|██████████| 1/1 [00:00<00:00, 2371.00it/s]\n",
      "Inference:   0%|          | 0/1 [00:00<?, ?it/s]"
     ]
    },
    {
     "output_type": "stream",
     "name": "stdout",
     "text": [
      "Running pipeline ... done\n",
      "\n",
      "集團客戶額度管理系統Group customer quota management system\n",
      "\n"
     ]
    },
    {
     "output_type": "stream",
     "name": "stderr",
     "text": [
      "Inference: 100%|██████████| 1/1 [00:00<00:00,  2.09it/s]\n",
      "Tokenization: 100%|██████████| 1/1 [00:00<00:00, 2659.67it/s]\n",
      "Inference: 100%|██████████| 1/1 [00:00<00:00,  1.62it/s]\n",
      "Tokenization: 100%|██████████| 1/1 [00:00<00:00, 2841.67it/s]\n",
      "Inference: 100%|██████████| 1/1 [00:00<00:00,  2.15it/s]\n",
      "Tokenization: 100%|██████████| 1/1 [00:00<00:00, 1637.12it/s]\n",
      "Inference:   0%|          | 0/1 [00:00<?, ?it/s]"
     ]
    },
    {
     "output_type": "stream",
     "name": "stdout",
     "text": [
      "Running pipeline ... done\n",
      "\n",
      "多通路客戶資訊整合服務系統Multi-channel customer information integration service system\n",
      "\n"
     ]
    },
    {
     "output_type": "stream",
     "name": "stderr",
     "text": [
      "Inference: 100%|██████████| 1/1 [00:00<00:00,  1.95it/s]\n",
      "Tokenization: 100%|██████████| 1/1 [00:00<00:00, 2857.16it/s]\n",
      "Inference: 100%|██████████| 1/1 [00:01<00:00,  1.06s/it]\n",
      "Tokenization: 100%|██████████| 1/1 [00:00<00:00, 2922.86it/s]\n",
      "Inference: 100%|██████████| 1/1 [00:00<00:00,  1.91it/s]\n",
      "Tokenization: 100%|██████████| 1/1 [00:00<00:00, 2310.91it/s]\n",
      "Inference:   0%|          | 0/1 [00:00<?, ?it/s]"
     ]
    },
    {
     "output_type": "stream",
     "name": "stdout",
     "text": [
      "Running pipeline ... done\n",
      "\n",
      "虛擬化主機安全自動佈建平台Virtualized host security automatic deployment platform\n",
      "\n"
     ]
    },
    {
     "output_type": "stream",
     "name": "stderr",
     "text": [
      "Inference: 100%|██████████| 1/1 [00:00<00:00,  1.90it/s]\n",
      "Tokenization: 100%|██████████| 1/1 [00:00<00:00, 2833.99it/s]\n",
      "Inference: 100%|██████████| 1/1 [00:01<00:00,  1.06s/it]\n",
      "Tokenization: 100%|██████████| 1/1 [00:00<00:00, 2420.26it/s]\n",
      "Inference: 100%|██████████| 1/1 [00:00<00:00,  1.85it/s]\n",
      "Tokenization: 100%|██████████| 1/1 [00:00<00:00, 1379.25it/s]\n",
      "Inference:   0%|          | 0/1 [00:00<?, ?it/s]"
     ]
    },
    {
     "output_type": "stream",
     "name": "stdout",
     "text": [
      "Running pipeline ... done\n",
      "\n",
      "特店語音支付系統\n",
      "\n"
     ]
    },
    {
     "output_type": "stream",
     "name": "stderr",
     "text": [
      "Inference: 100%|██████████| 1/1 [00:00<00:00,  1.82it/s]\n",
      "Tokenization: 100%|██████████| 1/1 [00:00<00:00, 2403.61it/s]\n",
      "Inference: 100%|██████████| 1/1 [00:00<00:00,  1.13it/s]\n",
      "Tokenization: 100%|██████████| 1/1 [00:00<00:00, 2007.80it/s]\n",
      "Inference: 100%|██████████| 1/1 [00:00<00:00,  1.83it/s]\n",
      "Tokenization: 100%|██████████| 1/1 [00:00<00:00, 2763.05it/s]\n",
      "Inference:   0%|          | 0/1 [00:00<?, ?it/s]"
     ]
    },
    {
     "output_type": "stream",
     "name": "stdout",
     "text": [
      "Running pipeline ... done\n",
      "\n",
      "請獎作業子系統Award request sub-system\n",
      "\n"
     ]
    },
    {
     "output_type": "stream",
     "name": "stderr",
     "text": [
      "Inference: 100%|██████████| 1/1 [00:00<00:00,  1.81it/s]\n",
      "Tokenization: 100%|██████████| 1/1 [00:00<00:00, 2501.08it/s]\n",
      "Inference: 100%|██████████| 1/1 [00:00<00:00,  1.21it/s]\n",
      "Tokenization: 100%|██████████| 1/1 [00:00<00:00, 2050.00it/s]\n",
      "Inference: 100%|██████████| 1/1 [00:00<00:00,  1.64it/s]\n",
      "Tokenization: 100%|██████████| 1/1 [00:00<00:00, 2330.17it/s]\n",
      "Inference:   0%|          | 0/1 [00:00<?, ?it/s]"
     ]
    },
    {
     "output_type": "stream",
     "name": "stdout",
     "text": [
      "Running pipeline ... done\n",
      "\n",
      "信用加強保證金管理系統Credit enhancement margin management system\n",
      "\n"
     ]
    },
    {
     "output_type": "stream",
     "name": "stderr",
     "text": [
      "Inference: 100%|██████████| 1/1 [00:00<00:00,  1.64it/s]\n",
      "Tokenization: 100%|██████████| 1/1 [00:00<00:00, 652.81it/s]\n",
      "Inference: 100%|██████████| 1/1 [00:00<00:00,  1.13it/s]\n",
      "Tokenization: 100%|██████████| 1/1 [00:00<00:00, 1490.51it/s]\n",
      "Inference: 100%|██████████| 1/1 [00:00<00:00,  1.90it/s]\n",
      "Tokenization: 100%|██████████| 1/1 [00:00<00:00, 2267.19it/s]\n",
      "Inference:   0%|          | 0/1 [00:00<?, ?it/s]"
     ]
    },
    {
     "output_type": "stream",
     "name": "stdout",
     "text": [
      "Running pipeline ... done\n",
      "\n",
      "債券投資風險集中度控管系統Control and management system for bond investment risk concentration\n",
      "\n"
     ]
    },
    {
     "output_type": "stream",
     "name": "stderr",
     "text": [
      "Inference: 100%|██████████| 1/1 [00:00<00:00,  1.89it/s]\n",
      "Tokenization: 100%|██████████| 1/1 [00:00<00:00, 1791.67it/s]\n",
      "Inference: 100%|██████████| 1/1 [00:00<00:00,  1.01it/s]\n",
      "Tokenization: 100%|██████████| 1/1 [00:00<00:00, 2768.52it/s]\n",
      "Inference: 100%|██████████| 1/1 [00:00<00:00,  1.91it/s]\n",
      "Tokenization: 100%|██████████| 1/1 [00:00<00:00, 2083.61it/s]\n",
      "Inference:   0%|          | 0/1 [00:00<?, ?it/s]"
     ]
    },
    {
     "output_type": "stream",
     "name": "stdout",
     "text": [
      "Running pipeline ... done\n",
      "\n",
      "異常戶帳務自動追蹤入帳作業系統Automatic money entry tracking system for unusual account\n",
      "\n"
     ]
    },
    {
     "output_type": "stream",
     "name": "stderr",
     "text": [
      "Inference: 100%|██████████| 1/1 [00:00<00:00,  1.93it/s]\n",
      "Tokenization: 100%|██████████| 1/1 [00:00<00:00, 1488.40it/s]\n",
      "Inference: 100%|██████████| 1/1 [00:00<00:00,  1.18it/s]\n",
      "Tokenization: 100%|██████████| 1/1 [00:00<00:00, 2525.17it/s]\n",
      "Inference: 100%|██████████| 1/1 [00:00<00:00,  1.94it/s]\n",
      "Tokenization: 100%|██████████| 1/1 [00:00<00:00, 2941.31it/s]\n",
      "Inference:   0%|          | 0/1 [00:00<?, ?it/s]"
     ]
    },
    {
     "output_type": "stream",
     "name": "stdout",
     "text": [
      "Running pipeline ... done\n",
      "\n",
      "共享自動化設備現金存提款服務系統Shared automation equipment for cash deposit and withdrawal service system\n",
      "\n"
     ]
    },
    {
     "output_type": "stream",
     "name": "stderr",
     "text": [
      "Inference: 100%|██████████| 1/1 [00:00<00:00,  2.02it/s]\n",
      "Tokenization: 100%|██████████| 1/1 [00:00<00:00, 2364.32it/s]\n",
      "Inference: 100%|██████████| 1/1 [00:00<00:00,  1.06it/s]\n",
      "Tokenization: 100%|██████████| 1/1 [00:00<00:00, 1312.36it/s]\n",
      "Inference: 100%|██████████| 1/1 [00:00<00:00,  1.94it/s]\n",
      "Tokenization: 100%|██████████| 1/1 [00:00<00:00, 2145.42it/s]\n",
      "Inference:   0%|          | 0/1 [00:00<?, ?it/s]"
     ]
    },
    {
     "output_type": "stream",
     "name": "stdout",
     "text": [
      "Running pipeline ... done\n",
      "\n",
      "區域行動分行工作站Regional mobile branch workstation\n",
      "\n"
     ]
    },
    {
     "output_type": "stream",
     "name": "stderr",
     "text": [
      "Inference: 100%|██████████| 1/1 [00:00<00:00,  1.91it/s]\n",
      "Tokenization: 100%|██████████| 1/1 [00:00<00:00, 2160.90it/s]\n",
      "Inference: 100%|██████████| 1/1 [00:00<00:00,  1.19it/s]\n",
      "Tokenization: 100%|██████████| 1/1 [00:00<00:00, 2898.62it/s]\n",
      "Inference: 100%|██████████| 1/1 [00:00<00:00,  1.79it/s]\n",
      "Tokenization: 100%|██████████| 1/1 [00:00<00:00, 1736.05it/s]\n",
      "Inference:   0%|          | 0/1 [00:00<?, ?it/s]"
     ]
    },
    {
     "output_type": "stream",
     "name": "stdout",
     "text": [
      "Running pipeline ... done\n",
      "\n",
      "標準作業流程提案系統Standard operating procedure proposal system\n",
      "\n"
     ]
    },
    {
     "output_type": "stream",
     "name": "stderr",
     "text": [
      "Inference: 100%|██████████| 1/1 [00:00<00:00,  2.28it/s]\n",
      "Tokenization: 100%|██████████| 1/1 [00:00<00:00, 2302.03it/s]\n",
      "Inference: 100%|██████████| 1/1 [00:00<00:00,  1.09it/s]\n",
      "Tokenization: 100%|██████████| 1/1 [00:00<00:00, 2525.17it/s]\n",
      "Inference: 100%|██████████| 1/1 [00:00<00:00,  2.41it/s]\n",
      "Tokenization: 100%|██████████| 1/1 [00:00<00:00, 1281.88it/s]\n",
      "Inference:   0%|          | 0/1 [00:00<?, ?it/s]"
     ]
    },
    {
     "output_type": "stream",
     "name": "stdout",
     "text": [
      "Running pipeline ... done\n",
      "\n",
      "投資情緒分析系統Investment emotion analysis system\n",
      "\n"
     ]
    },
    {
     "output_type": "stream",
     "name": "stderr",
     "text": [
      "Inference: 100%|██████████| 1/1 [00:00<00:00,  1.69it/s]\n",
      "Tokenization: 100%|██████████| 1/1 [00:00<00:00, 1904.77it/s]\n",
      "Inference: 100%|██████████| 1/1 [00:01<00:00,  1.27s/it]\n",
      "Tokenization: 100%|██████████| 1/1 [00:00<00:00, 1190.21it/s]\n",
      "Inference: 100%|██████████| 1/1 [00:00<00:00,  1.71it/s]\n",
      "Tokenization: 100%|██████████| 1/1 [00:00<00:00, 3039.35it/s]\n",
      "Inference:   0%|          | 0/1 [00:00<?, ?it/s]"
     ]
    },
    {
     "output_type": "stream",
     "name": "stdout",
     "text": [
      "Running pipeline ... done\n",
      "\n",
      "融資性商業本票發行試算裝置Tentative calculation device for issuance of financing commercial paper\n",
      "\n"
     ]
    },
    {
     "output_type": "stream",
     "name": "stderr",
     "text": [
      "Inference: 100%|██████████| 1/1 [00:00<00:00,  2.15it/s]\n",
      "Tokenization: 100%|██████████| 1/1 [00:00<00:00, 2531.26it/s]\n",
      "Inference: 100%|██████████| 1/1 [00:00<00:00,  1.31it/s]\n",
      "Tokenization: 100%|██████████| 1/1 [00:00<00:00, 2914.74it/s]\n",
      "Inference: 100%|██████████| 1/1 [00:00<00:00,  2.08it/s]\n",
      "Tokenization: 100%|██████████| 1/1 [00:00<00:00, 1259.93it/s]\n",
      "Inference:   0%|          | 0/1 [00:00<?, ?it/s]"
     ]
    },
    {
     "output_type": "stream",
     "name": "stdout",
     "text": [
      "Running pipeline ... done\n",
      "\n",
      "消費憑證核銷系統Consumption certificate write-off system\n",
      "\n"
     ]
    },
    {
     "output_type": "stream",
     "name": "stderr",
     "text": [
      "Inference: 100%|██████████| 1/1 [00:00<00:00,  1.95it/s]\n",
      "Tokenization: 100%|██████████| 1/1 [00:00<00:00, 3460.65it/s]\n",
      "Inference: 100%|██████████| 1/1 [00:00<00:00,  1.07it/s]\n",
      "Tokenization: 100%|██████████| 1/1 [00:00<00:00, 2505.56it/s]\n",
      "Inference: 100%|██████████| 1/1 [00:00<00:00,  2.02it/s]\n",
      "Tokenization: 100%|██████████| 1/1 [00:00<00:00, 3104.59it/s]\n",
      "Inference:   0%|          | 0/1 [00:00<?, ?it/s]"
     ]
    },
    {
     "output_type": "stream",
     "name": "stdout",
     "text": [
      "Running pipeline ... done\n",
      "\n",
      "建築業授信信用風險集中度控管系統Control and management system for credit granting and credit risk concentration of building industry\n",
      "\n"
     ]
    },
    {
     "output_type": "stream",
     "name": "stderr",
     "text": [
      "Inference: 100%|██████████| 1/1 [00:00<00:00,  2.10it/s]\n",
      "Tokenization: 100%|██████████| 1/1 [00:00<00:00, 2792.48it/s]\n",
      "Inference: 100%|██████████| 1/1 [00:00<00:00,  1.20it/s]\n",
      "Tokenization: 100%|██████████| 1/1 [00:00<00:00, 2799.94it/s]\n",
      "Inference: 100%|██████████| 1/1 [00:00<00:00,  1.85it/s]\n",
      "Tokenization: 100%|██████████| 1/1 [00:00<00:00, 2457.12it/s]\n",
      "Inference:   0%|          | 0/1 [00:00<?, ?it/s]"
     ]
    },
    {
     "output_type": "stream",
     "name": "stdout",
     "text": [
      "Running pipeline ... done\n",
      "\n",
      "營業單位企業金融客戶營運狀況分析系統Operation condition analysis system for business unit corporate banking client\n",
      "\n"
     ]
    },
    {
     "output_type": "stream",
     "name": "stderr",
     "text": [
      "Inference: 100%|██████████| 1/1 [00:00<00:00,  1.93it/s]\n",
      "Tokenization: 100%|██████████| 1/1 [00:00<00:00, 2321.14it/s]\n",
      "Inference: 100%|██████████| 1/1 [00:00<00:00,  1.11it/s]\n",
      "Tokenization: 100%|██████████| 1/1 [00:00<00:00, 2949.58it/s]\n",
      "Inference: 100%|██████████| 1/1 [00:00<00:00,  1.96it/s]\n",
      "Tokenization: 100%|██████████| 1/1 [00:00<00:00, 2849.39it/s]\n",
      "Inference: 100%|██████████| 1/1 [00:00<00:00,  6.36it/s]\n",
      "Tokenization: 100%|██████████| 1/1 [00:00<00:00, 4951.95it/s]\n",
      "Inference:   0%|          | 0/1 [00:00<?, ?it/s]"
     ]
    },
    {
     "output_type": "stream",
     "name": "stdout",
     "text": [
      "Running pipeline ... done\n",
      "\n",
      "電子交易系統ELECTRONIC TRADING SYSTEM\n",
      "\n"
     ]
    },
    {
     "output_type": "stream",
     "name": "stderr",
     "text": [
      "Inference: 100%|██████████| 1/1 [00:00<00:00,  5.27it/s]\n",
      "Tokenization: 100%|██████████| 1/1 [00:00<00:00, 3518.71it/s]\n",
      "Inference: 100%|██████████| 1/1 [00:00<00:00,  6.54it/s]\n",
      "Tokenization: 100%|██████████| 1/1 [00:00<00:00, 1455.85it/s]\n",
      "Inference:   0%|          | 0/1 [00:00<?, ?it/s]"
     ]
    },
    {
     "output_type": "stream",
     "name": "stdout",
     "text": [
      "Running pipeline ... done\n",
      "\n",
      "高額貸款戶信用警示系統Credit warning system for clients with large loans\n",
      "\n"
     ]
    },
    {
     "output_type": "stream",
     "name": "stderr",
     "text": [
      "Inference: 100%|██████████| 1/1 [00:00<00:00,  2.47it/s]\n",
      "Tokenization: 100%|██████████| 1/1 [00:00<00:00, 1630.76it/s]\n",
      "Inference: 100%|██████████| 1/1 [00:00<00:00,  1.38it/s]\n",
      "Tokenization: 100%|██████████| 1/1 [00:00<00:00, 2555.94it/s]\n",
      "Inference: 100%|██████████| 1/1 [00:00<00:00,  2.44it/s]\n",
      "Tokenization: 100%|██████████| 1/1 [00:00<00:00, 2241.74it/s]\n",
      "Inference:   0%|          | 0/1 [00:00<?, ?it/s]"
     ]
    },
    {
     "output_type": "stream",
     "name": "stdout",
     "text": [
      "Running pipeline ... done\n",
      "\n",
      "證劵交易動態風險控管系統Dynamic risk control and management system for securities exchange\n",
      "\n"
     ]
    },
    {
     "output_type": "stream",
     "name": "stderr",
     "text": [
      "Inference: 100%|██████████| 1/1 [00:00<00:00,  2.43it/s]\n",
      "Tokenization: 100%|██████████| 1/1 [00:00<00:00, 2145.42it/s]\n",
      "Inference: 100%|██████████| 1/1 [00:00<00:00,  1.45it/s]\n",
      "Tokenization: 100%|██████████| 1/1 [00:00<00:00, 3137.10it/s]\n",
      "Inference: 100%|██████████| 1/1 [00:00<00:00,  2.42it/s]\n",
      "Tokenization: 100%|██████████| 1/1 [00:00<00:00, 2571.61it/s]\n",
      "Inference:   0%|          | 0/1 [00:00<?, ?it/s]"
     ]
    },
    {
     "output_type": "stream",
     "name": "stdout",
     "text": [
      "Running pipeline ... done\n",
      "\n",
      "基金投資管理系統Fund investment management system\n",
      "\n"
     ]
    },
    {
     "output_type": "stream",
     "name": "stderr",
     "text": [
      "Inference: 100%|██████████| 1/1 [00:00<00:00,  2.21it/s]\n",
      "Tokenization: 100%|██████████| 1/1 [00:00<00:00, 1515.28it/s]\n",
      "Inference: 100%|██████████| 1/1 [00:00<00:00,  1.47it/s]\n",
      "Tokenization: 100%|██████████| 1/1 [00:00<00:00, 2882.68it/s]\n",
      "Inference: 100%|██████████| 1/1 [00:00<00:00,  2.30it/s]\n",
      "Tokenization: 100%|██████████| 1/1 [00:00<00:00, 2337.96it/s]\n",
      "Inference:   0%|          | 0/1 [00:00<?, ?it/s]"
     ]
    },
    {
     "output_type": "stream",
     "name": "stdout",
     "text": [
      "Running pipeline ... done\n",
      "\n",
      "稽核工作績效考評系統Auditing performance evaluation system\n",
      "\n"
     ]
    },
    {
     "output_type": "stream",
     "name": "stderr",
     "text": [
      "Inference: 100%|██████████| 1/1 [00:00<00:00,  1.63it/s]\n",
      "Tokenization: 100%|██████████| 1/1 [00:00<00:00, 1355.63it/s]\n",
      "Inference: 100%|██████████| 1/1 [00:00<00:00,  1.12it/s]\n",
      "Tokenization: 100%|██████████| 1/1 [00:00<00:00, 2325.00it/s]\n",
      "Inference: 100%|██████████| 1/1 [00:00<00:00,  1.79it/s]\n",
      "Tokenization: 100%|██████████| 1/1 [00:00<00:00, 2985.27it/s]\n",
      "Inference:   0%|          | 0/1 [00:00<?, ?it/s]"
     ]
    },
    {
     "output_type": "stream",
     "name": "stdout",
     "text": [
      "Running pipeline ... done\n",
      "\n",
      "潛在客戶開發系統Potential clients development system\n",
      "\n"
     ]
    },
    {
     "output_type": "stream",
     "name": "stderr",
     "text": [
      "Inference: 100%|██████████| 1/1 [00:00<00:00,  2.01it/s]\n",
      "Tokenization: 100%|██████████| 1/1 [00:00<00:00, 1965.47it/s]\n",
      "Inference: 100%|██████████| 1/1 [00:00<00:00,  1.02it/s]\n",
      "Tokenization: 100%|██████████| 1/1 [00:00<00:00, 2914.74it/s]\n",
      "Inference: 100%|██████████| 1/1 [00:00<00:00,  1.97it/s]\n",
      "Tokenization: 100%|██████████| 1/1 [00:00<00:00, 2033.11it/s]\n",
      "Inference:   0%|          | 0/1 [00:00<?, ?it/s]"
     ]
    },
    {
     "output_type": "stream",
     "name": "stdout",
     "text": [
      "Running pipeline ... done\n",
      "\n",
      "逾欠戶預警系統Early warning system for client with overdue debt\n",
      "\n"
     ]
    },
    {
     "output_type": "stream",
     "name": "stderr",
     "text": [
      "Inference: 100%|██████████| 1/1 [00:00<00:00,  1.92it/s]\n",
      "Tokenization: 100%|██████████| 1/1 [00:00<00:00, 2109.81it/s]\n",
      "Inference: 100%|██████████| 1/1 [00:00<00:00,  1.36it/s]\n",
      "Tokenization: 100%|██████████| 1/1 [00:00<00:00, 2552.83it/s]\n",
      "Inference: 100%|██████████| 1/1 [00:00<00:00,  1.77it/s]\n",
      "Tokenization: 100%|██████████| 1/1 [00:00<00:00, 2398.12it/s]\n",
      "Inference:   0%|          | 0/1 [00:00<?, ?it/s]"
     ]
    },
    {
     "output_type": "stream",
     "name": "stdout",
     "text": [
      "Running pipeline ... done\n",
      "\n",
      "專業經理人指數建構系統Professional manager index construction system\n",
      "\n"
     ]
    },
    {
     "output_type": "stream",
     "name": "stderr",
     "text": [
      "Inference: 100%|██████████| 1/1 [00:00<00:00,  1.88it/s]\n",
      "Tokenization: 100%|██████████| 1/1 [00:00<00:00, 1795.51it/s]\n",
      "Inference: 100%|██████████| 1/1 [00:00<00:00,  1.34it/s]\n",
      "Tokenization: 100%|██████████| 1/1 [00:00<00:00, 2126.93it/s]\n",
      "Inference: 100%|██████████| 1/1 [00:00<00:00,  1.95it/s]\n",
      "Tokenization: 100%|██████████| 1/1 [00:00<00:00, 641.04it/s]\n",
      "Inference:   0%|          | 0/1 [00:00<?, ?it/s]"
     ]
    },
    {
     "output_type": "stream",
     "name": "stdout",
     "text": [
      "Running pipeline ... done\n",
      "\n",
      "信用保證代償帳務作業系統Accounting service operation system for credit guarantee compensation\n",
      "\n"
     ]
    },
    {
     "output_type": "stream",
     "name": "stderr",
     "text": [
      "Inference: 100%|██████████| 1/1 [00:00<00:00,  1.24it/s]\n",
      "Tokenization: 100%|██████████| 1/1 [00:00<00:00, 2208.69it/s]\n",
      "Inference: 100%|██████████| 1/1 [00:01<00:00,  1.73s/it]\n",
      "Tokenization: 100%|██████████| 1/1 [00:00<00:00, 2096.10it/s]\n",
      "Inference: 100%|██████████| 1/1 [00:00<00:00,  1.23it/s]\n",
      "Tokenization: 100%|██████████| 1/1 [00:00<00:00, 2864.96it/s]\n",
      "Inference:   0%|          | 0/1 [00:00<?, ?it/s]"
     ]
    },
    {
     "output_type": "stream",
     "name": "stdout",
     "text": [
      "Running pipeline ... done\n",
      "\n",
      "薪轉業務自動化作業系統Automatic operation system for payroll transfer business\n",
      "\n"
     ]
    },
    {
     "output_type": "stream",
     "name": "stderr",
     "text": [
      "Inference: 100%|██████████| 1/1 [00:00<00:00,  1.74it/s]\n",
      "Tokenization: 100%|██████████| 1/1 [00:00<00:00, 2531.26it/s]\n",
      "Inference: 100%|██████████| 1/1 [00:01<00:00,  1.22s/it]\n",
      "Tokenization: 100%|██████████| 1/1 [00:00<00:00, 2481.84it/s]\n",
      "Inference: 100%|██████████| 1/1 [00:00<00:00,  1.95it/s]\n",
      "Tokenization: 100%|██████████| 1/1 [00:00<00:00, 1980.31it/s]\n",
      "Inference:   0%|          | 0/1 [00:00<?, ?it/s]"
     ]
    },
    {
     "output_type": "stream",
     "name": "stdout",
     "text": [
      "Running pipeline ... done\n",
      "\n",
      "金融交易詐騙偵測防範系統Fraud detection system for financial transaction\n",
      "\n"
     ]
    },
    {
     "output_type": "stream",
     "name": "stderr",
     "text": [
      "Inference: 100%|██████████| 1/1 [00:00<00:00,  1.89it/s]\n",
      "Tokenization: 100%|██████████| 1/1 [00:00<00:00, 1149.12it/s]\n",
      "Inference: 100%|██████████| 1/1 [00:00<00:00,  1.38it/s]\n",
      "Tokenization: 100%|██████████| 1/1 [00:00<00:00, 2818.75it/s]\n",
      "Inference: 100%|██████████| 1/1 [00:00<00:00,  1.97it/s]\n",
      "Tokenization: 100%|██████████| 1/1 [00:00<00:00, 2156.45it/s]\n",
      "Inference:   0%|          | 0/1 [00:00<?, ?it/s]"
     ]
    },
    {
     "output_type": "stream",
     "name": "stdout",
     "text": [
      "Running pipeline ... done\n",
      "\n",
      "金融交易推播系統Financial transaction push technology system\n",
      "\n"
     ]
    },
    {
     "output_type": "stream",
     "name": "stderr",
     "text": [
      "Inference: 100%|██████████| 1/1 [00:00<00:00,  1.66it/s]\n",
      "Tokenization: 100%|██████████| 1/1 [00:00<00:00, 1683.11it/s]\n",
      "Inference: 100%|██████████| 1/1 [00:00<00:00,  1.11it/s]\n",
      "Tokenization: 100%|██████████| 1/1 [00:00<00:00, 2597.09it/s]\n",
      "Inference: 100%|██████████| 1/1 [00:00<00:00,  1.60it/s]\n",
      "Tokenization: 100%|██████████| 1/1 [00:00<00:00, 1576.81it/s]\n",
      "Inference:   0%|          | 0/1 [00:00<?, ?it/s]"
     ]
    },
    {
     "output_type": "stream",
     "name": "stdout",
     "text": [
      "Running pipeline ... done\n",
      "\n",
      "自動化金融作業系統Automatic financial operating system\n",
      "\n"
     ]
    },
    {
     "output_type": "stream",
     "name": "stderr",
     "text": [
      "Inference: 100%|██████████| 1/1 [00:00<00:00,  1.64it/s]\n",
      "Tokenization: 100%|██████████| 1/1 [00:00<00:00, 1136.67it/s]\n",
      "Inference: 100%|██████████| 1/1 [00:01<00:00,  1.22s/it]\n",
      "Tokenization: 100%|██████████| 1/1 [00:00<00:00, 2624.72it/s]\n",
      "Inference: 100%|██████████| 1/1 [00:00<00:00,  1.88it/s]\n",
      "Tokenization: 100%|██████████| 1/1 [00:00<00:00, 2104.52it/s]\n",
      "Inference:   0%|          | 0/1 [00:00<?, ?it/s]"
     ]
    },
    {
     "output_type": "stream",
     "name": "stdout",
     "text": [
      "Running pipeline ... done\n",
      "\n",
      "防制洗錢及打擊資恐內部控制制度聲明書作業系統Statement operation system for anti-money laundering/countering the financing of terrorism (AML/CFT) internal control system\n",
      "\n"
     ]
    },
    {
     "output_type": "stream",
     "name": "stderr",
     "text": [
      "Inference: 100%|██████████| 1/1 [00:00<00:00,  1.79it/s]\n",
      "Tokenization: 100%|██████████| 1/1 [00:00<00:00, 2425.86it/s]\n",
      "Inference: 100%|██████████| 1/1 [00:01<00:00,  1.20s/it]\n",
      "Tokenization: 100%|██████████| 1/1 [00:00<00:00, 2444.23it/s]\n",
      "Inference: 100%|██████████| 1/1 [00:00<00:00,  1.79it/s]\n",
      "Tokenization: 100%|██████████| 1/1 [00:00<00:00, 1715.46it/s]\n",
      "Inference:   0%|          | 0/1 [00:00<?, ?it/s]"
     ]
    },
    {
     "output_type": "stream",
     "name": "stdout",
     "text": [
      "Running pipeline ... done\n",
      "\n",
      "提款機之防詐騙監視系統Cash dispenser with fraud prevention monitoring system\n",
      "\n"
     ]
    },
    {
     "output_type": "stream",
     "name": "stderr",
     "text": [
      "Inference: 100%|██████████| 1/1 [00:00<00:00,  1.45it/s]\n",
      "Tokenization: 100%|██████████| 1/1 [00:00<00:00, 2213.35it/s]\n",
      "Inference: 100%|██████████| 1/1 [00:01<00:00,  1.39s/it]\n",
      "Tokenization: 100%|██████████| 1/1 [00:00<00:00, 1681.08it/s]\n",
      "Inference: 100%|██████████| 1/1 [00:00<00:00,  1.42it/s]\n",
      "Tokenization: 100%|██████████| 1/1 [00:00<00:00, 2659.67it/s]\n",
      "Inference:   0%|          | 0/1 [00:00<?, ?it/s]"
     ]
    },
    {
     "output_type": "stream",
     "name": "stdout",
     "text": [
      "Running pipeline ... done\n",
      "\n",
      "超商繳款單條碼產生系統Barcode generating system for convenience store payment slip\n",
      "\n"
     ]
    },
    {
     "output_type": "stream",
     "name": "stderr",
     "text": [
      "Inference: 100%|██████████| 1/1 [00:00<00:00,  1.77it/s]\n",
      "Tokenization: 100%|██████████| 1/1 [00:00<00:00, 2298.25it/s]\n",
      "Inference: 100%|██████████| 1/1 [00:00<00:00,  1.08it/s]\n",
      "Tokenization: 100%|██████████| 1/1 [00:00<00:00, 2657.99it/s]\n",
      "Inference: 100%|██████████| 1/1 [00:00<00:00,  1.76it/s]\n",
      "Tokenization: 100%|██████████| 1/1 [00:00<00:00, 3118.44it/s]\n",
      "Inference:   0%|          | 0/1 [00:00<?, ?it/s]"
     ]
    },
    {
     "output_type": "stream",
     "name": "stdout",
     "text": [
      "Running pipeline ... done\n",
      "\n",
      "不動產投資信託基金投資作業系統Investment operating system for real estate investment trust (REITs)\n",
      "\n"
     ]
    },
    {
     "output_type": "stream",
     "name": "stderr",
     "text": [
      "Inference: 100%|██████████| 1/1 [00:00<00:00,  2.28it/s]\n",
      "Tokenization: 100%|██████████| 1/1 [00:00<00:00, 2257.43it/s]\n",
      "Inference: 100%|██████████| 1/1 [00:00<00:00,  1.66it/s]\n",
      "Tokenization: 100%|██████████| 1/1 [00:00<00:00, 1372.03it/s]\n",
      "Inference: 100%|██████████| 1/1 [00:00<00:00,  2.29it/s]\n",
      "Tokenization: 100%|██████████| 1/1 [00:00<00:00, 572.44it/s]\n",
      "Inference:   0%|          | 0/1 [00:00<?, ?it/s]"
     ]
    },
    {
     "output_type": "stream",
     "name": "stdout",
     "text": [
      "Running pipeline ... done\n",
      "\n",
      "聯合授信案件期限調查系統Term investigation system for Syndicated Loan case\n",
      "\n"
     ]
    },
    {
     "output_type": "stream",
     "name": "stderr",
     "text": [
      "Inference: 100%|██████████| 1/1 [00:00<00:00,  1.32it/s]\n",
      "Tokenization: 100%|██████████| 1/1 [00:00<00:00, 1385.17it/s]\n",
      "Inference: 100%|██████████| 1/1 [00:01<00:00,  1.92s/it]\n",
      "Tokenization: 100%|██████████| 1/1 [00:00<00:00, 2097.15it/s]\n",
      "Inference: 100%|██████████| 1/1 [00:00<00:00,  1.28it/s]\n",
      "Tokenization: 100%|██████████| 1/1 [00:00<00:00, 1815.72it/s]\n",
      "Inference:   0%|          | 0/1 [00:00<?, ?it/s]"
     ]
    },
    {
     "output_type": "stream",
     "name": "stdout",
     "text": [
      "Running pipeline ... done\n",
      "\n",
      "網路銀行交易生活智能產生服務系統Smart service generating system for online banking transaction\n",
      "\n"
     ]
    },
    {
     "output_type": "stream",
     "name": "stderr",
     "text": [
      "Inference: 100%|██████████| 1/1 [00:00<00:00,  1.25it/s]\n",
      "Tokenization: 100%|██████████| 1/1 [00:00<00:00, 2049.00it/s]\n",
      "Inference: 100%|██████████| 1/1 [00:01<00:00,  1.60s/it]\n",
      "Tokenization: 100%|██████████| 1/1 [00:00<00:00, 1976.58it/s]\n",
      "Inference: 100%|██████████| 1/1 [00:00<00:00,  1.24it/s]\n",
      "Tokenization: 100%|██████████| 1/1 [00:00<00:00, 2126.93it/s]\n",
      "Inference:   0%|          | 0/1 [00:00<?, ?it/s]"
     ]
    },
    {
     "output_type": "stream",
     "name": "stdout",
     "text": [
      "Running pipeline ... done\n",
      "\n",
      "中央登錄公債結帳自動化檢核系統Automatic inspection system for closing Book-Entry Central Government Securities (CGS)\n",
      "\n"
     ]
    },
    {
     "output_type": "stream",
     "name": "stderr",
     "text": [
      "Inference: 100%|██████████| 1/1 [00:00<00:00,  1.55it/s]\n",
      "Tokenization: 100%|██████████| 1/1 [00:00<00:00, 2785.06it/s]\n",
      "Inference: 100%|██████████| 1/1 [00:01<00:00,  1.21s/it]\n",
      "Tokenization: 100%|██████████| 1/1 [00:00<00:00, 1864.96it/s]\n",
      "Inference: 100%|██████████| 1/1 [00:00<00:00,  1.52it/s]\n",
      "Tokenization: 100%|██████████| 1/1 [00:00<00:00, 1396.70it/s]\n",
      "Inference:   0%|          | 0/1 [00:00<?, ?it/s]"
     ]
    },
    {
     "output_type": "stream",
     "name": "stdout",
     "text": [
      "Running pipeline ... done\n",
      "\n",
      "整合式對帳單查詢系統Integrated bank statement inquiry system\n",
      "\n"
     ]
    },
    {
     "output_type": "stream",
     "name": "stderr",
     "text": [
      "Inference: 100%|██████████| 1/1 [00:01<00:00,  1.00s/it]\n",
      "Tokenization: 100%|██████████| 1/1 [00:00<00:00, 997.93it/s]\n",
      "Inference: 100%|██████████| 1/1 [00:01<00:00,  1.84s/it]\n",
      "Tokenization: 100%|██████████| 1/1 [00:00<00:00, 1873.29it/s]\n",
      "Inference: 100%|██████████| 1/1 [00:00<00:00,  1.07it/s]\n",
      "Tokenization: 100%|██████████| 1/1 [00:00<00:00, 1949.03it/s]\n",
      "Inference:   0%|          | 0/1 [00:00<?, ?it/s]"
     ]
    },
    {
     "output_type": "stream",
     "name": "stdout",
     "text": [
      "Running pipeline ... done\n",
      "\n",
      "識別卡交易電子化作業管理系統Electronic operation management system for identification card transaction\n",
      "\n"
     ]
    },
    {
     "output_type": "stream",
     "name": "stderr",
     "text": [
      "Inference: 100%|██████████| 1/1 [00:00<00:00,  1.39it/s]\n",
      "Tokenization: 100%|██████████| 1/1 [00:00<00:00, 1869.12it/s]\n",
      "Inference: 100%|██████████| 1/1 [00:01<00:00,  1.27s/it]\n",
      "Tokenization: 100%|██████████| 1/1 [00:00<00:00, 2155.35it/s]\n",
      "Inference: 100%|██████████| 1/1 [00:00<00:00,  1.37it/s]\n",
      "Tokenization: 100%|██████████| 1/1 [00:00<00:00, 2105.57it/s]\n",
      "Inference:   0%|          | 0/1 [00:00<?, ?it/s]"
     ]
    },
    {
     "output_type": "stream",
     "name": "stdout",
     "text": [
      "Running pipeline ... done\n",
      "\n",
      "信託人員實體服務證自動核發申請系統Automatic system for applying and issuing physical service certificate for trust personnel\n",
      "\n"
     ]
    },
    {
     "output_type": "stream",
     "name": "stderr",
     "text": [
      "Inference: 100%|██████████| 1/1 [00:00<00:00,  1.70it/s]\n",
      "Tokenization: 100%|██████████| 1/1 [00:00<00:00, 2208.69it/s]\n",
      "Inference: 100%|██████████| 1/1 [00:00<00:00,  1.35it/s]\n",
      "Tokenization: 100%|██████████| 1/1 [00:00<00:00, 1245.34it/s]\n",
      "Inference: 100%|██████████| 1/1 [00:00<00:00,  1.71it/s]\n",
      "Tokenization: 100%|██████████| 1/1 [00:00<00:00, 2951.66it/s]\n",
      "Inference:   0%|          | 0/1 [00:00<?, ?it/s]"
     ]
    },
    {
     "output_type": "stream",
     "name": "stdout",
     "text": [
      "Running pipeline ... done\n",
      "\n",
      "有價證券趨勢分析系統Securities trend analysis system\n",
      "\n"
     ]
    },
    {
     "output_type": "stream",
     "name": "stderr",
     "text": [
      "Inference: 100%|██████████| 1/1 [00:00<00:00,  2.06it/s]\n",
      "Tokenization: 100%|██████████| 1/1 [00:00<00:00, 3134.76it/s]\n",
      "Inference: 100%|██████████| 1/1 [00:00<00:00,  1.20it/s]\n",
      "Tokenization: 100%|██████████| 1/1 [00:00<00:00, 73.96it/s]\n",
      "Inference: 100%|██████████| 1/1 [00:00<00:00,  1.97it/s]\n",
      "Tokenization: 100%|██████████| 1/1 [00:00<00:00, 2651.27it/s]\n",
      "Inference:   0%|          | 0/1 [00:00<?, ?it/s]"
     ]
    },
    {
     "output_type": "stream",
     "name": "stdout",
     "text": [
      "Running pipeline ... done\n",
      "\n",
      "虛擬補摺系統VIRTUAL BANKBOOK SYSTEM\n",
      "\n"
     ]
    },
    {
     "output_type": "stream",
     "name": "stderr",
     "text": [
      "Inference: 100%|██████████| 1/1 [00:00<00:00,  1.65it/s]\n",
      "Tokenization: 100%|██████████| 1/1 [00:00<00:00, 1842.03it/s]\n",
      "Inference: 100%|██████████| 1/1 [00:00<00:00,  1.34it/s]\n",
      "Tokenization: 100%|██████████| 1/1 [00:00<00:00, 1402.78it/s]\n",
      "Inference: 100%|██████████| 1/1 [00:00<00:00,  1.59it/s]\n",
      "Tokenization: 100%|██████████| 1/1 [00:00<00:00, 1517.48it/s]\n",
      "Inference:   0%|          | 0/1 [00:00<?, ?it/s]"
     ]
    },
    {
     "output_type": "stream",
     "name": "stdout",
     "text": [
      "Running pipeline ... done\n",
      "\n",
      "有價證券價格評析系統Securities price analysis system\n",
      "\n"
     ]
    },
    {
     "output_type": "stream",
     "name": "stderr",
     "text": [
      "Inference: 100%|██████████| 1/1 [00:00<00:00,  1.60it/s]\n",
      "Tokenization: 100%|██████████| 1/1 [00:00<00:00, 1543.16it/s]\n",
      "Inference: 100%|██████████| 1/1 [00:01<00:00,  1.04s/it]\n",
      "Tokenization: 100%|██████████| 1/1 [00:00<00:00, 2201.73it/s]\n",
      "Inference: 100%|██████████| 1/1 [00:00<00:00,  1.60it/s]\n",
      "Tokenization: 100%|██████████| 1/1 [00:00<00:00, 1584.55it/s]\n",
      "Inference:   0%|          | 0/1 [00:00<?, ?it/s]"
     ]
    },
    {
     "output_type": "stream",
     "name": "stdout",
     "text": [
      "Running pipeline ... done\n",
      "\n",
      "外匯交易交割金額試算系統Foreign exchange transaction settlement amount calculation system\n",
      "\n"
     ]
    },
    {
     "output_type": "stream",
     "name": "stderr",
     "text": [
      "Inference: 100%|██████████| 1/1 [00:00<00:00,  1.58it/s]\n",
      "Tokenization: 100%|██████████| 1/1 [00:00<00:00, 1477.39it/s]\n",
      "Inference: 100%|██████████| 1/1 [00:00<00:00,  1.17it/s]\n",
      "Tokenization: 100%|██████████| 1/1 [00:00<00:00, 1242.76it/s]\n",
      "Inference: 100%|██████████| 1/1 [00:00<00:00,  1.53it/s]\n",
      "Tokenization: 100%|██████████| 1/1 [00:00<00:00, 228.78it/s]\n",
      "Inference:   0%|          | 0/1 [00:00<?, ?it/s]"
     ]
    },
    {
     "output_type": "stream",
     "name": "stdout",
     "text": [
      "Running pipeline ... done\n",
      "\n",
      "外匯匯款整合作業系統Integrated operation system of foreign exchange remittance\n",
      "\n"
     ]
    },
    {
     "output_type": "stream",
     "name": "stderr",
     "text": [
      "Inference: 100%|██████████| 1/1 [00:03<00:00,  3.97s/it]\n",
      "Tokenization: 100%|██████████| 1/1 [00:00<00:00, 630.53it/s]\n",
      "Inference: 100%|██████████| 1/1 [00:21<00:00, 21.26s/it]\n",
      "Tokenization: 100%|██████████| 1/1 [00:00<00:00, 79.16it/s]\n",
      "Inference: 100%|██████████| 1/1 [00:03<00:00,  3.62s/it]\n",
      "Tokenization: 100%|██████████| 1/1 [00:00<00:00, 1872.46it/s]\n",
      "Inference:   0%|          | 0/1 [00:00<?, ?it/s]"
     ]
    },
    {
     "output_type": "stream",
     "name": "stdout",
     "text": [
      "Running pipeline ... done\n",
      "\n",
      "行為模式信評系統BEHAVIORAL MODEL CREDIT ASSESSMENT SYSTEM\n",
      "\n"
     ]
    },
    {
     "output_type": "stream",
     "name": "stderr",
     "text": [
      "Inference: 100%|██████████| 1/1 [00:00<00:00,  1.56it/s]\n",
      "Tokenization: 100%|██████████| 1/1 [00:00<00:00, 1572.08it/s]\n",
      "Inference: 100%|██████████| 1/1 [00:00<00:00,  1.23it/s]\n",
      "Tokenization: 100%|██████████| 1/1 [00:00<00:00, 2455.68it/s]\n",
      "Inference: 100%|██████████| 1/1 [00:00<00:00,  1.78it/s]\n",
      "Tokenization: 100%|██████████| 1/1 [00:00<00:00, 2096.10it/s]\n",
      "Inference:   0%|          | 0/1 [00:00<?, ?it/s]"
     ]
    },
    {
     "output_type": "stream",
     "name": "stdout",
     "text": [
      "Running pipeline ... done\n",
      "\n",
      "授信風險管控系統Credit risk management and control system\n",
      "\n"
     ]
    },
    {
     "output_type": "stream",
     "name": "stderr",
     "text": [
      "Inference: 100%|██████████| 1/1 [00:00<00:00,  1.93it/s]\n",
      "Tokenization: 100%|██████████| 1/1 [00:00<00:00, 2221.56it/s]\n",
      "Inference: 100%|██████████| 1/1 [00:01<00:00,  1.06s/it]\n",
      "Tokenization: 100%|██████████| 1/1 [00:00<00:00, 2173.21it/s]\n",
      "Inference: 100%|██████████| 1/1 [00:00<00:00,  1.96it/s]\n",
      "Tokenization: 100%|██████████| 1/1 [00:00<00:00, 2083.61it/s]\n",
      "Inference:   0%|          | 0/1 [00:00<?, ?it/s]"
     ]
    },
    {
     "output_type": "stream",
     "name": "stdout",
     "text": [
      "Running pipeline ... done\n",
      "\n",
      "升遷考核作業系統Operating system for promotion evaluation\n",
      "\n"
     ]
    },
    {
     "output_type": "stream",
     "name": "stderr",
     "text": [
      "Inference: 100%|██████████| 1/1 [00:00<00:00,  1.58it/s]\n",
      "Tokenization: 100%|██████████| 1/1 [00:00<00:00, 2739.58it/s]\n",
      "Inference: 100%|██████████| 1/1 [00:01<00:00,  1.04s/it]\n",
      "Tokenization: 100%|██████████| 1/1 [00:00<00:00, 1520.23it/s]\n",
      "Inference: 100%|██████████| 1/1 [00:00<00:00,  1.75it/s]\n",
      "Tokenization: 100%|██████████| 1/1 [00:00<00:00, 2063.11it/s]\n",
      "Inference:   0%|          | 0/1 [00:00<?, ?it/s]"
     ]
    },
    {
     "output_type": "stream",
     "name": "stdout",
     "text": [
      "Running pipeline ... done\n",
      "\n",
      "電腦自行查核報告系統Computer self-checking report system\n",
      "\n"
     ]
    },
    {
     "output_type": "stream",
     "name": "stderr",
     "text": [
      "Inference: 100%|██████████| 1/1 [00:00<00:00,  2.59it/s]\n",
      "Tokenization: 100%|██████████| 1/1 [00:00<00:00, 1794.74it/s]\n",
      "Inference: 100%|██████████| 1/1 [00:00<00:00,  2.11it/s]\n",
      "Tokenization: 100%|██████████| 1/1 [00:00<00:00, 1779.51it/s]\n",
      "Inference: 100%|██████████| 1/1 [00:00<00:00,  2.66it/s]\n",
      "Tokenization: 100%|██████████| 1/1 [00:00<00:00, 1772.74it/s]\n",
      "Inference:   0%|          | 0/1 [00:00<?, ?it/s]"
     ]
    },
    {
     "output_type": "stream",
     "name": "stdout",
     "text": [
      "Running pipeline ... done\n",
      "\n",
      "電子扣押作業系統Electronic seizure operation system\n",
      "\n"
     ]
    },
    {
     "output_type": "stream",
     "name": "stderr",
     "text": [
      "Inference: 100%|██████████| 1/1 [00:00<00:00,  1.48it/s]\n",
      "Tokenization: 100%|██████████| 1/1 [00:00<00:00, 1981.25it/s]\n",
      "Inference: 100%|██████████| 1/1 [00:01<00:00,  1.19s/it]\n",
      "Tokenization: 100%|██████████| 1/1 [00:00<00:00, 1894.45it/s]\n",
      "Inference: 100%|██████████| 1/1 [00:00<00:00,  1.43it/s]\n",
      "Tokenization: 100%|██████████| 1/1 [00:00<00:00, 2090.88it/s]\n",
      "Inference:   0%|          | 0/1 [00:00<?, ?it/s]"
     ]
    },
    {
     "output_type": "stream",
     "name": "stdout",
     "text": [
      "Running pipeline ... done\n",
      "\n",
      "職務憑證作業管理系統Job voucher operation management system\n",
      "\n"
     ]
    },
    {
     "output_type": "stream",
     "name": "stderr",
     "text": [
      "Inference: 100%|██████████| 1/1 [00:00<00:00,  1.56it/s]\n",
      "Tokenization: 100%|██████████| 1/1 [00:00<00:00, 1641.61it/s]\n",
      "Inference: 100%|██████████| 1/1 [00:00<00:00,  1.05it/s]\n",
      "Tokenization: 100%|██████████| 1/1 [00:00<00:00, 2486.25it/s]\n",
      "Inference: 100%|██████████| 1/1 [00:00<00:00,  1.60it/s]\n",
      "Tokenization: 100%|██████████| 1/1 [00:00<00:00, 1789.38it/s]\n",
      "Inference:   0%|          | 0/1 [00:00<?, ?it/s]"
     ]
    },
    {
     "output_type": "stream",
     "name": "stdout",
     "text": [
      "Running pipeline ... done\n",
      "\n",
      "催理進度追蹤系統Overdue receivables progress tracking system\n",
      "\n"
     ]
    },
    {
     "output_type": "stream",
     "name": "stderr",
     "text": [
      "Inference: 100%|██████████| 1/1 [00:00<00:00,  3.20it/s]\n",
      "Tokenization: 100%|██████████| 1/1 [00:00<00:00, 1979.38it/s]\n",
      "Inference: 100%|██████████| 1/1 [00:00<00:00,  1.47it/s]\n",
      "Tokenization: 100%|██████████| 1/1 [00:00<00:00, 1394.38it/s]\n",
      "Inference: 100%|██████████| 1/1 [00:00<00:00,  3.14it/s]\n",
      "Tokenization: 100%|██████████| 1/1 [00:00<00:00, 3625.15it/s]\n",
      "Inference:   0%|          | 0/1 [00:00<?, ?it/s]"
     ]
    },
    {
     "output_type": "stream",
     "name": "stdout",
     "text": [
      "Running pipeline ... done\n",
      "\n",
      "金流整合系統Gold flow integration system\n",
      "\n"
     ]
    },
    {
     "output_type": "stream",
     "name": "stderr",
     "text": [
      "Inference: 100%|██████████| 1/1 [00:00<00:00,  3.35it/s]\n",
      "Tokenization: 100%|██████████| 1/1 [00:00<00:00, 2207.53it/s]\n",
      "Inference: 100%|██████████| 1/1 [00:00<00:00,  2.08it/s]\n",
      "Tokenization: 100%|██████████| 1/1 [00:00<00:00, 4382.76it/s]\n",
      "Inference: 100%|██████████| 1/1 [00:00<00:00,  3.31it/s]\n",
      "Tokenization: 100%|██████████| 1/1 [00:00<00:00, 1842.03it/s]\n",
      "Inference:   0%|          | 0/1 [00:00<?, ?it/s]"
     ]
    },
    {
     "output_type": "stream",
     "name": "stdout",
     "text": [
      "Running pipeline ... done\n",
      "\n",
      "債票券附買回獲利試算裝置Bonds and Transactions Instruments with buying back profit calculation device\n",
      "\n"
     ]
    },
    {
     "output_type": "stream",
     "name": "stderr",
     "text": [
      "Inference: 100%|██████████| 1/1 [00:00<00:00,  2.50it/s]\n",
      "Tokenization: 100%|██████████| 1/1 [00:00<00:00, 1603.33it/s]\n",
      "Inference: 100%|██████████| 1/1 [00:00<00:00,  1.05it/s]\n",
      "Tokenization: 100%|██████████| 1/1 [00:00<00:00, 2888.64it/s]\n",
      "Inference: 100%|██████████| 1/1 [00:00<00:00,  2.49it/s]\n",
      "Tokenization: 100%|██████████| 1/1 [00:00<00:00, 2651.27it/s]\n",
      "Inference:   0%|          | 0/1 [00:00<?, ?it/s]"
     ]
    },
    {
     "output_type": "stream",
     "name": "stdout",
     "text": [
      "Running pipeline ... done\n",
      "\n",
      "非交易性智慧帳務試算系統Non-trading smart account trial calculation system\n",
      "\n"
     ]
    },
    {
     "output_type": "stream",
     "name": "stderr",
     "text": [
      "Inference: 100%|██████████| 1/1 [00:00<00:00,  1.84it/s]\n",
      "Tokenization: 100%|██████████| 1/1 [00:00<00:00, 2439.97it/s]\n",
      "Inference: 100%|██████████| 1/1 [00:00<00:00,  1.02it/s]\n",
      "Tokenization: 100%|██████████| 1/1 [00:00<00:00, 2451.38it/s]\n",
      "Inference: 100%|██████████| 1/1 [00:00<00:00,  1.89it/s]\n",
      "Tokenization: 100%|██████████| 1/1 [00:00<00:00, 1996.34it/s]\n",
      "Inference:   0%|          | 0/1 [00:00<?, ?it/s]"
     ]
    },
    {
     "output_type": "stream",
     "name": "stdout",
     "text": [
      "Running pipeline ... done\n",
      "\n",
      "虛擬分行作業系統Virtual branch operating system\n",
      "\n"
     ]
    },
    {
     "output_type": "stream",
     "name": "stderr",
     "text": [
      "Inference: 100%|██████████| 1/1 [00:00<00:00,  1.68it/s]\n",
      "Tokenization: 100%|██████████| 1/1 [00:00<00:00, 1531.33it/s]\n",
      "Inference: 100%|██████████| 1/1 [00:00<00:00,  1.20it/s]\n",
      "Tokenization: 100%|██████████| 1/1 [00:00<00:00, 2666.44it/s]\n",
      "Inference: 100%|██████████| 1/1 [00:00<00:00,  1.51it/s]\n",
      "Tokenization: 100%|██████████| 1/1 [00:00<00:00, 3196.88it/s]\n",
      "Inference:   0%|          | 0/1 [00:00<?, ?it/s]"
     ]
    },
    {
     "output_type": "stream",
     "name": "stdout",
     "text": [
      "Running pipeline ... done\n",
      "\n",
      "帳密單一化登入系統Login system with single account/password\n",
      "\n"
     ]
    },
    {
     "output_type": "stream",
     "name": "stderr",
     "text": [
      "Inference: 100%|██████████| 1/1 [00:00<00:00,  2.05it/s]\n",
      "Tokenization: 100%|██████████| 1/1 [00:00<00:00, 1617.55it/s]\n",
      "Inference: 100%|██████████| 1/1 [00:01<00:00,  1.11s/it]\n",
      "Tokenization: 100%|██████████| 1/1 [00:00<00:00, 1127.50it/s]\n",
      "Inference: 100%|██████████| 1/1 [00:00<00:00,  2.15it/s]\n",
      "Tokenization: 100%|██████████| 1/1 [00:00<00:00, 4755.45it/s]\n",
      "Inference:   0%|          | 0/1 [00:00<?, ?it/s]"
     ]
    },
    {
     "output_type": "stream",
     "name": "stdout",
     "text": [
      "Running pipeline ... done\n",
      "\n",
      "小額採購款項核准系統Small procurement approval system\n",
      "\n"
     ]
    },
    {
     "output_type": "stream",
     "name": "stderr",
     "text": [
      "Inference: 100%|██████████| 1/1 [00:00<00:00,  3.51it/s]\n",
      "Tokenization: 100%|██████████| 1/1 [00:00<00:00, 1882.54it/s]\n",
      "Inference: 100%|██████████| 1/1 [00:00<00:00,  2.50it/s]\n",
      "Tokenization: 100%|██████████| 1/1 [00:00<00:00, 4132.32it/s]\n",
      "Inference: 100%|██████████| 1/1 [00:00<00:00,  3.56it/s]\n",
      "Tokenization: 100%|██████████| 1/1 [00:00<00:00, 2100.30it/s]\n",
      "Inference:   0%|          | 0/1 [00:00<?, ?it/s]"
     ]
    },
    {
     "output_type": "stream",
     "name": "stdout",
     "text": [
      "Running pipeline ... done\n",
      "\n",
      "授信戶債務表產生系統Credit card generation system\n",
      "\n"
     ]
    },
    {
     "output_type": "stream",
     "name": "stderr",
     "text": [
      "Inference: 100%|██████████| 1/1 [00:00<00:00,  1.73it/s]\n",
      "Tokenization: 100%|██████████| 1/1 [00:00<00:00, 2908.67it/s]\n",
      "Inference: 100%|██████████| 1/1 [00:01<00:00,  1.09s/it]\n",
      "Tokenization: 100%|██████████| 1/1 [00:00<00:00, 2207.53it/s]\n",
      "Inference: 100%|██████████| 1/1 [00:00<00:00,  1.77it/s]\n",
      "Tokenization: 100%|██████████| 1/1 [00:00<00:00, 1487.87it/s]\n",
      "Inference:   0%|          | 0/1 [00:00<?, ?it/s]"
     ]
    },
    {
     "output_type": "stream",
     "name": "stdout",
     "text": [
      "Running pipeline ... done\n",
      "\n",
      "借款轉期通知系統Loan transfer notification system\n",
      "\n"
     ]
    },
    {
     "output_type": "stream",
     "name": "stderr",
     "text": [
      "Inference: 100%|██████████| 1/1 [00:00<00:00,  1.77it/s]\n",
      "Tokenization: 100%|██████████| 1/1 [00:00<00:00, 2262.30it/s]\n",
      "Inference: 100%|██████████| 1/1 [00:01<00:00,  1.08s/it]\n",
      "Tokenization: 100%|██████████| 1/1 [00:00<00:00, 1661.77it/s]\n",
      "Inference: 100%|██████████| 1/1 [00:00<00:00,  1.63it/s]\n",
      "Tokenization: 100%|██████████| 1/1 [00:00<00:00, 2811.20it/s]\n",
      "Inference:   0%|          | 0/1 [00:00<?, ?it/s]"
     ]
    },
    {
     "output_type": "stream",
     "name": "stdout",
     "text": [
      "Running pipeline ... done\n",
      "\n",
      "聯貸貸後管理檢核系統Syndicated loan management and inspection system\n",
      "\n"
     ]
    },
    {
     "output_type": "stream",
     "name": "stderr",
     "text": [
      "Inference: 100%|██████████| 1/1 [00:00<00:00,  1.76it/s]\n",
      "Tokenization: 100%|██████████| 1/1 [00:00<00:00, 606.46it/s]\n",
      "Inference: 100%|██████████| 1/1 [00:00<00:00,  1.37it/s]\n",
      "Tokenization: 100%|██████████| 1/1 [00:00<00:00, 2480.37it/s]\n",
      "Inference: 100%|██████████| 1/1 [00:00<00:00,  1.89it/s]\n",
      "Tokenization: 100%|██████████| 1/1 [00:00<00:00, 929.38it/s]\n",
      "Inference:   0%|          | 0/1 [00:00<?, ?it/s]"
     ]
    },
    {
     "output_type": "stream",
     "name": "stdout",
     "text": [
      "Running pipeline ... done\n",
      "\n",
      "民營企業集團信用集中度風險控管系統Private enterprise group credit concentration risk control system\n",
      "\n"
     ]
    },
    {
     "output_type": "stream",
     "name": "stderr",
     "text": [
      "Inference: 100%|██████████| 1/1 [00:02<00:00,  2.47s/it]\n",
      "Tokenization: 100%|██████████| 1/1 [00:00<00:00, 1137.59it/s]\n",
      "Inference: 100%|██████████| 1/1 [00:05<00:00,  5.69s/it]\n",
      "Tokenization: 100%|██████████| 1/1 [00:00<00:00, 984.35it/s]\n",
      "Inference: 100%|██████████| 1/1 [00:02<00:00,  2.46s/it]\n",
      "Tokenization: 100%|██████████| 1/1 [00:00<00:00, 2755.78it/s]\n",
      "Inference:   0%|          | 0/1 [00:00<?, ?it/s]"
     ]
    },
    {
     "output_type": "stream",
     "name": "stdout",
     "text": [
      "Running pipeline ... done\n",
      "\n",
      "收取租金自動化作業系統AUTOMATED OPERATING SYSTEM FOR RENT COLLECTION\n",
      "\n"
     ]
    },
    {
     "output_type": "stream",
     "name": "stderr",
     "text": [
      "Inference: 100%|██████████| 1/1 [00:00<00:00,  1.73it/s]\n",
      "Tokenization: 100%|██████████| 1/1 [00:00<00:00, 2000.14it/s]\n",
      "Inference: 100%|██████████| 1/1 [00:00<00:00,  1.23it/s]\n",
      "Tokenization: 100%|██████████| 1/1 [00:00<00:00, 2584.29it/s]\n",
      "Inference: 100%|██████████| 1/1 [00:00<00:00,  1.75it/s]\n",
      "Tokenization: 100%|██████████| 1/1 [00:00<00:00, 2074.33it/s]\n",
      "Inference:   0%|          | 0/1 [00:00<?, ?it/s]"
     ]
    },
    {
     "output_type": "stream",
     "name": "stdout",
     "text": [
      "Running pipeline ... done\n",
      "\n",
      "契約申辦整合管理系統Contract application integration management system\n",
      "\n"
     ]
    },
    {
     "output_type": "stream",
     "name": "stderr",
     "text": [
      "Inference: 100%|██████████| 1/1 [00:00<00:00,  1.73it/s]\n",
      "Tokenization: 100%|██████████| 1/1 [00:00<00:00, 620.00it/s]\n",
      "Inference: 100%|██████████| 1/1 [00:01<00:00,  1.00s/it]\n",
      "Tokenization: 100%|██████████| 1/1 [00:00<00:00, 1438.87it/s]\n",
      "Inference: 100%|██████████| 1/1 [00:00<00:00,  1.59it/s]\n",
      "Tokenization: 100%|██████████| 1/1 [00:00<00:00, 2299.51it/s]\n",
      "Inference:   0%|          | 0/1 [00:00<?, ?it/s]"
     ]
    },
    {
     "output_type": "stream",
     "name": "stdout",
     "text": [
      "Running pipeline ... done\n",
      "\n",
      "檔案清查管理系統File inventory management system\n",
      "\n"
     ]
    },
    {
     "output_type": "stream",
     "name": "stderr",
     "text": [
      "Inference: 100%|██████████| 1/1 [00:00<00:00,  1.91it/s]\n",
      "Tokenization: 100%|██████████| 1/1 [00:00<00:00, 2183.40it/s]\n",
      "Inference: 100%|██████████| 1/1 [00:00<00:00,  1.16it/s]\n",
      "Tokenization: 100%|██████████| 1/1 [00:00<00:00, 1798.59it/s]\n",
      "Inference: 100%|██████████| 1/1 [00:00<00:00,  1.99it/s]\n",
      "Tokenization: 100%|██████████| 1/1 [00:00<00:00, 2375.03it/s]\n",
      "Inference:   0%|          | 0/1 [00:00<?, ?it/s]"
     ]
    },
    {
     "output_type": "stream",
     "name": "stdout",
     "text": [
      "Running pipeline ... done\n",
      "\n",
      "影像辨識行銷裝置Image recognition marketing device\n",
      "\n"
     ]
    },
    {
     "output_type": "stream",
     "name": "stderr",
     "text": [
      "Inference: 100%|██████████| 1/1 [00:00<00:00,  1.84it/s]\n",
      "Tokenization: 100%|██████████| 1/1 [00:00<00:00, 2814.97it/s]\n",
      "Inference: 100%|██████████| 1/1 [00:00<00:00,  1.13it/s]\n",
      "Tokenization: 100%|██████████| 1/1 [00:00<00:00, 2763.05it/s]\n",
      "Inference: 100%|██████████| 1/1 [00:00<00:00,  1.84it/s]\n",
      "Tokenization: 100%|██████████| 1/1 [00:00<00:00, 3688.92it/s]\n",
      "Inference:   0%|          | 0/1 [00:00<?, ?it/s]"
     ]
    },
    {
     "output_type": "stream",
     "name": "stdout",
     "text": [
      "Running pipeline ... done\n",
      "\n",
      "磁帶儲存控管系統Tape storage control system\n",
      "\n"
     ]
    },
    {
     "output_type": "stream",
     "name": "stderr",
     "text": [
      "Inference: 100%|██████████| 1/1 [00:00<00:00,  2.67it/s]\n",
      "Tokenization: 100%|██████████| 1/1 [00:00<00:00, 1685.81it/s]\n",
      "Inference: 100%|██████████| 1/1 [00:00<00:00,  1.17it/s]\n",
      "Tokenization: 100%|██████████| 1/1 [00:00<00:00, 2872.81it/s]\n",
      "Inference: 100%|██████████| 1/1 [00:00<00:00,  2.59it/s]\n",
      "Tokenization: 100%|██████████| 1/1 [00:00<00:00, 1602.10it/s]\n",
      "Inference:   0%|          | 0/1 [00:00<?, ?it/s]"
     ]
    },
    {
     "output_type": "stream",
     "name": "stdout",
     "text": [
      "Running pipeline ... done\n",
      "\n",
      "風險性資產即時估算資訊系統Risk asset real-time estimation information system\n",
      "\n"
     ]
    },
    {
     "output_type": "stream",
     "name": "stderr",
     "text": [
      "Inference: 100%|██████████| 1/1 [00:00<00:00,  1.71it/s]\n",
      "Tokenization: 100%|██████████| 1/1 [00:00<00:00, 1400.90it/s]\n",
      "Inference: 100%|██████████| 1/1 [00:01<00:00,  1.06s/it]\n",
      "Tokenization: 100%|██████████| 1/1 [00:00<00:00, 1709.17it/s]\n",
      "Inference: 100%|██████████| 1/1 [00:00<00:00,  1.74it/s]\n",
      "Tokenization: 100%|██████████| 1/1 [00:00<00:00, 2169.84it/s]\n",
      "Inference:   0%|          | 0/1 [00:00<?, ?it/s]"
     ]
    },
    {
     "output_type": "stream",
     "name": "stdout",
     "text": [
      "Running pipeline ... done\n",
      "\n",
      "外匯交易議價部位管理系統Forex trading bargaining position management system\n",
      "\n"
     ]
    },
    {
     "output_type": "stream",
     "name": "stderr",
     "text": [
      "Inference: 100%|██████████| 1/1 [00:00<00:00,  1.81it/s]\n",
      "Tokenization: 100%|██████████| 1/1 [00:00<00:00, 1751.28it/s]\n",
      "Inference: 100%|██████████| 1/1 [00:00<00:00,  1.13it/s]\n",
      "Tokenization: 100%|██████████| 1/1 [00:00<00:00, 2824.45it/s]\n",
      "Inference: 100%|██████████| 1/1 [00:00<00:00,  1.78it/s]\n",
      "Tokenization: 100%|██████████| 1/1 [00:00<00:00, 2659.67it/s]\n",
      "Inference:   0%|          | 0/1 [00:00<?, ?it/s]"
     ]
    },
    {
     "output_type": "stream",
     "name": "stdout",
     "text": [
      "Running pipeline ... done\n",
      "\n",
      "不動產抵押品現場影像管理系統Real estate collateral live image management system\n",
      "\n"
     ]
    },
    {
     "output_type": "stream",
     "name": "stderr",
     "text": [
      "Inference: 100%|██████████| 1/1 [00:00<00:00,  1.72it/s]\n",
      "Tokenization: 100%|██████████| 1/1 [00:00<00:00, 1981.25it/s]\n",
      "Inference: 100%|██████████| 1/1 [00:00<00:00,  1.34it/s]\n",
      "Tokenization: 100%|██████████| 1/1 [00:00<00:00, 2128.01it/s]\n",
      "Inference: 100%|██████████| 1/1 [00:00<00:00,  1.81it/s]\n",
      "Tokenization: 100%|██████████| 1/1 [00:00<00:00, 1103.76it/s]\n",
      "Inference:   0%|          | 0/1 [00:00<?, ?it/s]"
     ]
    },
    {
     "output_type": "stream",
     "name": "stdout",
     "text": [
      "Running pipeline ... done\n",
      "\n",
      "稽核作業查核意見輔助系統Audit operation check opinion assistant system\n",
      "\n"
     ]
    },
    {
     "output_type": "stream",
     "name": "stderr",
     "text": [
      "Inference: 100%|██████████| 1/1 [00:00<00:00,  1.86it/s]\n",
      "Tokenization: 100%|██████████| 1/1 [00:00<00:00, 2629.66it/s]\n",
      "Inference: 100%|██████████| 1/1 [00:00<00:00,  1.22it/s]\n",
      "Tokenization: 100%|██████████| 1/1 [00:00<00:00, 1801.68it/s]\n",
      "Inference: 100%|██████████| 1/1 [00:00<00:00,  1.84it/s]\n",
      "Tokenization: 100%|██████████| 1/1 [00:00<00:00, 2896.62it/s]\n",
      "Inference:   0%|          | 0/1 [00:00<?, ?it/s]"
     ]
    },
    {
     "output_type": "stream",
     "name": "stdout",
     "text": [
      "Running pipeline ... done\n",
      "\n",
      "自行評估作業系統Self-assessment operating system\n",
      "\n"
     ]
    },
    {
     "output_type": "stream",
     "name": "stderr",
     "text": [
      "Inference: 100%|██████████| 1/1 [00:00<00:00,  2.19it/s]\n",
      "Tokenization: 100%|██████████| 1/1 [00:00<00:00, 2681.78it/s]\n",
      "Inference: 100%|██████████| 1/1 [00:00<00:00,  1.50it/s]\n",
      "Tokenization: 100%|██████████| 1/1 [00:00<00:00, 2898.62it/s]\n",
      "Inference: 100%|██████████| 1/1 [00:00<00:00,  2.21it/s]\n",
      "Tokenization: 100%|██████████| 1/1 [00:00<00:00, 2859.10it/s]\n",
      "Inference:   0%|          | 0/1 [00:00<?, ?it/s]"
     ]
    },
    {
     "output_type": "stream",
     "name": "stdout",
     "text": [
      "Running pipeline ... done\n",
      "\n",
      "聯行往來媒體轉帳客戶端上傳文件製作系統Inter-bank media transfer client end upload file production system\n",
      "\n"
     ]
    },
    {
     "output_type": "stream",
     "name": "stderr",
     "text": [
      "Inference: 100%|██████████| 1/1 [00:00<00:00,  2.05it/s]\n",
      "Tokenization: 100%|██████████| 1/1 [00:00<00:00, 2201.73it/s]\n",
      "Inference: 100%|██████████| 1/1 [00:00<00:00,  1.16it/s]\n",
      "Tokenization: 100%|██████████| 1/1 [00:00<00:00, 2288.22it/s]\n",
      "Inference: 100%|██████████| 1/1 [00:00<00:00,  2.12it/s]\n",
      "Tokenization: 100%|██████████| 1/1 [00:00<00:00, 2087.76it/s]\n",
      "Inference:   0%|          | 0/1 [00:00<?, ?it/s]"
     ]
    },
    {
     "output_type": "stream",
     "name": "stdout",
     "text": [
      "Running pipeline ... done\n",
      "\n",
      "資產提存評估系統Asset reserve assessment system\n",
      "\n"
     ]
    },
    {
     "output_type": "stream",
     "name": "stderr",
     "text": [
      "Inference: 100%|██████████| 1/1 [00:00<00:00,  1.46it/s]\n",
      "Tokenization: 100%|██████████| 1/1 [00:00<00:00, 1851.79it/s]\n",
      "Inference: 100%|██████████| 1/1 [00:00<00:00,  1.13it/s]\n",
      "Tokenization: 100%|██████████| 1/1 [00:00<00:00, 2319.86it/s]\n",
      "Inference: 100%|██████████| 1/1 [00:00<00:00,  1.59it/s]\n",
      "Tokenization: 100%|██████████| 1/1 [00:00<00:00, 1890.18it/s]\n",
      "Inference:   0%|          | 0/1 [00:00<?, ?it/s]"
     ]
    },
    {
     "output_type": "stream",
     "name": "stdout",
     "text": [
      "Running pipeline ... done\n",
      "\n",
      "產品行銷系統Product marketing system\n",
      "\n"
     ]
    },
    {
     "output_type": "stream",
     "name": "stderr",
     "text": [
      "Inference: 100%|██████████| 1/1 [00:00<00:00,  2.02it/s]\n",
      "Tokenization: 100%|██████████| 1/1 [00:00<00:00, 2632.96it/s]\n",
      "Inference: 100%|██████████| 1/1 [00:01<00:00,  1.13s/it]\n",
      "Tokenization: 100%|██████████| 1/1 [00:00<00:00, 2933.08it/s]\n",
      "Inference: 100%|██████████| 1/1 [00:00<00:00,  2.08it/s]\n",
      "Tokenization: 100%|██████████| 1/1 [00:00<00:00, 3134.76it/s]\n",
      "Inference:   0%|          | 0/1 [00:00<?, ?it/s]"
     ]
    },
    {
     "output_type": "stream",
     "name": "stdout",
     "text": [
      "Running pipeline ... done\n",
      "\n",
      "法拍資訊比對系統Court auction information comparison system\n",
      "\n"
     ]
    },
    {
     "output_type": "stream",
     "name": "stderr",
     "text": [
      "Inference: 100%|██████████| 1/1 [00:00<00:00,  2.23it/s]\n",
      "Tokenization: 100%|██████████| 1/1 [00:00<00:00, 3287.07it/s]\n",
      "Inference: 100%|██████████| 1/1 [00:00<00:00,  1.28it/s]\n",
      "Tokenization: 100%|██████████| 1/1 [00:00<00:00, 2681.78it/s]\n",
      "Inference: 100%|██████████| 1/1 [00:00<00:00,  2.19it/s]\n",
      "Tokenization: 100%|██████████| 1/1 [00:00<00:00, 1602.10it/s]\n",
      "Inference:   0%|          | 0/1 [00:00<?, ?it/s]"
     ]
    },
    {
     "output_type": "stream",
     "name": "stdout",
     "text": [
      "Running pipeline ... done\n",
      "\n",
      "企金戶貢獻度定價分析系統Corporate finance contribution pricing analysis system\n",
      "\n"
     ]
    },
    {
     "output_type": "stream",
     "name": "stderr",
     "text": [
      "Inference: 100%|██████████| 1/1 [00:00<00:00,  1.79it/s]\n",
      "Tokenization: 100%|██████████| 1/1 [00:00<00:00, 1107.55it/s]\n",
      "Inference: 100%|██████████| 1/1 [00:01<00:00,  1.10s/it]\n",
      "Tokenization: 100%|██████████| 1/1 [00:00<00:00, 1258.04it/s]\n",
      "Inference: 100%|██████████| 1/1 [00:00<00:00,  1.78it/s]\n",
      "Tokenization: 100%|██████████| 1/1 [00:00<00:00, 1024.50it/s]\n",
      "Inference:   0%|          | 0/1 [00:00<?, ?it/s]"
     ]
    },
    {
     "output_type": "stream",
     "name": "stdout",
     "text": [
      "Running pipeline ... done\n",
      "\n",
      "消債清理作業系統Debt cleaning operation system\n",
      "\n"
     ]
    },
    {
     "output_type": "stream",
     "name": "stderr",
     "text": [
      "Inference: 100%|██████████| 1/1 [00:00<00:00,  1.65it/s]\n",
      "Tokenization: 100%|██████████| 1/1 [00:00<00:00, 3125.41it/s]\n",
      "Inference: 100%|██████████| 1/1 [00:01<00:00,  1.22s/it]\n",
      "Tokenization: 100%|██████████| 1/1 [00:00<00:00, 1197.35it/s]\n",
      "Inference: 100%|██████████| 1/1 [00:00<00:00,  1.27it/s]\n",
      "Tokenization: 100%|██████████| 1/1 [00:00<00:00, 1404.66it/s]\n",
      "Inference:   0%|          | 0/1 [00:00<?, ?it/s]"
     ]
    },
    {
     "output_type": "stream",
     "name": "stdout",
     "text": [
      "Running pipeline ... done\n",
      "\n",
      "交易大數據績效分析系統Transaction big data performance analysis system\n",
      "\n"
     ]
    },
    {
     "output_type": "stream",
     "name": "stderr",
     "text": [
      "Inference: 100%|██████████| 1/1 [00:00<00:00,  1.23it/s]\n",
      "Tokenization: 100%|██████████| 1/1 [00:00<00:00, 2136.68it/s]\n",
      "Inference: 100%|██████████| 1/1 [00:01<00:00,  1.44s/it]\n",
      "Tokenization: 100%|██████████| 1/1 [00:00<00:00, 836.85it/s]\n",
      "Inference: 100%|██████████| 1/1 [00:00<00:00,  1.48it/s]\n",
      "Tokenization: 100%|██████████| 1/1 [00:00<00:00, 1526.87it/s]\n",
      "Inference:   0%|          | 0/1 [00:00<?, ?it/s]"
     ]
    },
    {
     "output_type": "stream",
     "name": "stdout",
     "text": [
      "Running pipeline ... done\n",
      "\n",
      "線上自動化即時資料交換處理系統Online automated real-time data exchange processing system\n",
      "\n"
     ]
    },
    {
     "output_type": "stream",
     "name": "stderr",
     "text": [
      "Inference: 100%|██████████| 1/1 [00:00<00:00,  1.73it/s]\n",
      "Tokenization: 100%|██████████| 1/1 [00:00<00:00, 2409.13it/s]\n",
      "Inference: 100%|██████████| 1/1 [00:00<00:00,  1.06it/s]\n",
      "Tokenization: 100%|██████████| 1/1 [00:00<00:00, 2537.39it/s]\n",
      "Inference: 100%|██████████| 1/1 [00:00<00:00,  1.82it/s]\n",
      "Tokenization: 100%|██████████| 1/1 [00:00<00:00, 2074.33it/s]\n",
      "Inference:   0%|          | 0/1 [00:00<?, ?it/s]"
     ]
    },
    {
     "output_type": "stream",
     "name": "stdout",
     "text": [
      "Running pipeline ... done\n",
      "\n",
      "自動化設備特定時間通報系統Specific time notification system of automated equipment\n",
      "\n"
     ]
    },
    {
     "output_type": "stream",
     "name": "stderr",
     "text": [
      "Inference: 100%|██████████| 1/1 [00:00<00:00,  2.28it/s]\n",
      "Tokenization: 100%|██████████| 1/1 [00:00<00:00, 2232.20it/s]\n",
      "Inference: 100%|██████████| 1/1 [00:01<00:00,  1.17s/it]\n",
      "Tokenization: 100%|██████████| 1/1 [00:00<00:00, 2319.86it/s]\n",
      "Inference: 100%|██████████| 1/1 [00:00<00:00,  2.32it/s]\n",
      "Tokenization: 100%|██████████| 1/1 [00:00<00:00, 3692.17it/s]\n",
      "Inference:   0%|          | 0/1 [00:00<?, ?it/s]"
     ]
    },
    {
     "output_type": "stream",
     "name": "stdout",
     "text": [
      "Running pipeline ... done\n",
      "\n",
      "即時貸系統Instant loan system\n",
      "\n"
     ]
    },
    {
     "output_type": "stream",
     "name": "stderr",
     "text": [
      "Inference: 100%|██████████| 1/1 [00:00<00:00,  2.57it/s]\n",
      "Tokenization: 100%|██████████| 1/1 [00:00<00:00, 2525.17it/s]\n",
      "Inference: 100%|██████████| 1/1 [00:00<00:00,  2.15it/s]\n",
      "Tokenization: 100%|██████████| 1/1 [00:00<00:00, 3289.65it/s]\n",
      "Inference: 100%|██████████| 1/1 [00:00<00:00,  2.25it/s]\n",
      "Tokenization: 100%|██████████| 1/1 [00:00<00:00, 3313.04it/s]\n",
      "Inference:   0%|          | 0/1 [00:00<?, ?it/s]"
     ]
    },
    {
     "output_type": "stream",
     "name": "stdout",
     "text": [
      "Running pipeline ... done\n",
      "\n",
      "定期定額交易系統Regular fixed trading system\n",
      "\n"
     ]
    },
    {
     "output_type": "stream",
     "name": "stderr",
     "text": [
      "Inference: 100%|██████████| 1/1 [00:00<00:00,  2.15it/s]\n",
      "Tokenization: 100%|██████████| 1/1 [00:00<00:00, 2618.17it/s]\n",
      "Inference: 100%|██████████| 1/1 [00:00<00:00,  1.57it/s]\n",
      "Tokenization: 100%|██████████| 1/1 [00:00<00:00, 3146.51it/s]\n",
      "Inference: 100%|██████████| 1/1 [00:00<00:00,  2.23it/s]\n",
      "Tokenization: 100%|██████████| 1/1 [00:00<00:00, 1776.49it/s]\n",
      "Inference:   0%|          | 0/1 [00:00<?, ?it/s]"
     ]
    },
    {
     "output_type": "stream",
     "name": "stdout",
     "text": [
      "Running pipeline ... done\n",
      "\n",
      "外匯電文掃描黑名單控管系統Foreign exchange document scanning blacklist control system\n",
      "\n"
     ]
    },
    {
     "output_type": "stream",
     "name": "stderr",
     "text": [
      "Inference: 100%|██████████| 1/1 [00:00<00:00,  1.84it/s]\n",
      "Tokenization: 100%|██████████| 1/1 [00:00<00:00, 2674.94it/s]\n",
      "Inference: 100%|██████████| 1/1 [00:01<00:00,  1.07s/it]\n",
      "Tokenization: 100%|██████████| 1/1 [00:00<00:00, 1538.63it/s]\n",
      "Inference: 100%|██████████| 1/1 [00:00<00:00,  1.87it/s]\n",
      "Tokenization: 100%|██████████| 1/1 [00:00<00:00, 2799.94it/s]\n",
      "Inference:   0%|          | 0/1 [00:00<?, ?it/s]"
     ]
    },
    {
     "output_type": "stream",
     "name": "stdout",
     "text": [
      "Running pipeline ... done\n",
      "\n",
      "作業風險自評控管系統Operational risk self-evaluation control system\n",
      "\n"
     ]
    },
    {
     "output_type": "stream",
     "name": "stderr",
     "text": [
      "Inference: 100%|██████████| 1/1 [00:00<00:00,  1.81it/s]\n",
      "Tokenization: 100%|██████████| 1/1 [00:00<00:00, 2045.00it/s]\n",
      "Inference: 100%|██████████| 1/1 [00:00<00:00,  1.25it/s]\n",
      "Tokenization: 100%|██████████| 1/1 [00:00<00:00, 2519.10it/s]\n",
      "Inference: 100%|██████████| 1/1 [00:00<00:00,  1.83it/s]\n",
      "Tokenization: 100%|██████████| 1/1 [00:00<00:00, 1831.57it/s]\n",
      "Inference:   0%|          | 0/1 [00:00<?, ?it/s]"
     ]
    },
    {
     "output_type": "stream",
     "name": "stdout",
     "text": [
      "Running pipeline ... done\n",
      "\n",
      "勞保局代收代發轉檔自動化系統File conversion automation system for Labor Insurance Bureau sending and receiving operations\n",
      "\n"
     ]
    },
    {
     "output_type": "stream",
     "name": "stderr",
     "text": [
      "Inference: 100%|██████████| 1/1 [00:00<00:00,  1.72it/s]\n",
      "Tokenization: 100%|██████████| 1/1 [00:00<00:00, 2044.01it/s]\n",
      "Inference: 100%|██████████| 1/1 [00:00<00:00,  1.04it/s]\n",
      "Tokenization: 100%|██████████| 1/1 [00:00<00:00, 2618.17it/s]\n",
      "Inference: 100%|██████████| 1/1 [00:00<00:00,  1.57it/s]\n",
      "Tokenization: 100%|██████████| 1/1 [00:00<00:00, 2763.05it/s]\n",
      "Inference:   0%|          | 0/1 [00:00<?, ?it/s]"
     ]
    },
    {
     "output_type": "stream",
     "name": "stdout",
     "text": [
      "Running pipeline ... done\n",
      "\n",
      "定期定額理財系統Dollar-cost averaging investment financial system\n",
      "\n"
     ]
    },
    {
     "output_type": "stream",
     "name": "stderr",
     "text": [
      "Inference: 100%|██████████| 1/1 [00:00<00:00,  1.66it/s]\n",
      "Tokenization: 100%|██████████| 1/1 [00:00<00:00, 3248.88it/s]\n",
      "Inference: 100%|██████████| 1/1 [00:00<00:00,  1.06it/s]\n",
      "Tokenization: 100%|██████████| 1/1 [00:00<00:00, 2183.40it/s]\n",
      "Inference: 100%|██████████| 1/1 [00:00<00:00,  1.74it/s]\n",
      "Tokenization: 100%|██████████| 1/1 [00:00<00:00, 2794.34it/s]\n",
      "Inference:   0%|          | 0/1 [00:00<?, ?it/s]"
     ]
    },
    {
     "output_type": "stream",
     "name": "stdout",
     "text": [
      "Running pipeline ... done\n",
      "\n",
      "稽核作業查核輔助報表系統Auditing operation check auxiliary report system\n",
      "\n"
     ]
    },
    {
     "output_type": "stream",
     "name": "stderr",
     "text": [
      "Inference: 100%|██████████| 1/1 [00:00<00:00,  1.70it/s]\n",
      "Tokenization: 100%|██████████| 1/1 [00:00<00:00, 3010.99it/s]\n",
      "Inference: 100%|██████████| 1/1 [00:01<00:00,  1.04s/it]\n",
      "Tokenization: 100%|██████████| 1/1 [00:00<00:00, 2639.59it/s]\n",
      "Inference: 100%|██████████| 1/1 [00:00<00:00,  1.76it/s]\n",
      "Tokenization: 100%|██████████| 1/1 [00:00<00:00, 2278.27it/s]\n",
      "Inference:   0%|          | 0/1 [00:00<?, ?it/s]"
     ]
    },
    {
     "output_type": "stream",
     "name": "stdout",
     "text": [
      "Running pipeline ... done\n",
      "\n",
      "顧客滿意度調查系統Customer satisfaction survey system\n",
      "\n"
     ]
    },
    {
     "output_type": "stream",
     "name": "stderr",
     "text": [
      "Inference: 100%|██████████| 1/1 [00:00<00:00,  1.72it/s]\n",
      "Tokenization: 100%|██████████| 1/1 [00:00<00:00, 2016.49it/s]\n",
      "Inference: 100%|██████████| 1/1 [00:00<00:00,  1.15it/s]\n",
      "Tokenization: 100%|██████████| 1/1 [00:00<00:00, 1786.33it/s]\n",
      "Inference: 100%|██████████| 1/1 [00:00<00:00,  1.68it/s]\n",
      "Tokenization: 100%|██████████| 1/1 [00:00<00:00, 3021.83it/s]\n",
      "Inference:   0%|          | 0/1 [00:00<?, ?it/s]"
     ]
    },
    {
     "output_type": "stream",
     "name": "stdout",
     "text": [
      "Running pipeline ... done\n",
      "\n",
      "人員資格自動檢核及警示系統Personnel qualification automatic inspection and alarming system\n",
      "\n"
     ]
    },
    {
     "output_type": "stream",
     "name": "stderr",
     "text": [
      "Inference: 100%|██████████| 1/1 [00:00<00:00,  2.10it/s]\n",
      "Tokenization: 100%|██████████| 1/1 [00:00<00:00, 2016.49it/s]\n",
      "Inference: 100%|██████████| 1/1 [00:00<00:00,  1.16it/s]\n",
      "Tokenization: 100%|██████████| 1/1 [00:00<00:00, 1772.74it/s]\n",
      "Inference: 100%|██████████| 1/1 [00:00<00:00,  2.12it/s]\n",
      "Tokenization: 100%|██████████| 1/1 [00:00<00:00, 5526.09it/s]\n",
      "Inference:   0%|          | 0/1 [00:00<?, ?it/s]"
     ]
    },
    {
     "output_type": "stream",
     "name": "stdout",
     "text": [
      "Running pipeline ... done\n",
      "\n",
      "自辦課程時數維護系統Self-administered course hours maintenance system\n",
      "\n"
     ]
    },
    {
     "output_type": "stream",
     "name": "stderr",
     "text": [
      "Inference: 100%|██████████| 1/1 [00:00<00:00,  4.34it/s]\n",
      "Tokenization: 100%|██████████| 1/1 [00:00<00:00, 5315.97it/s]\n",
      "Inference: 100%|██████████| 1/1 [00:00<00:00,  3.00it/s]\n",
      "Tokenization: 100%|██████████| 1/1 [00:00<00:00, 3095.43it/s]\n",
      "Inference: 100%|██████████| 1/1 [00:00<00:00,  4.24it/s]\n",
      "Tokenization: 100%|██████████| 1/1 [00:00<00:00, 1780.26it/s]\n",
      "Inference:   0%|          | 0/1 [00:00<?, ?it/s]"
     ]
    },
    {
     "output_type": "stream",
     "name": "stdout",
     "text": [
      "Running pipeline ... done\n",
      "\n",
      "保管箱進出審核系統Safe deposit box entry and exit audit system\n",
      "\n"
     ]
    },
    {
     "output_type": "stream",
     "name": "stderr",
     "text": [
      "Inference: 100%|██████████| 1/1 [00:00<00:00,  1.82it/s]\n",
      "Tokenization: 100%|██████████| 1/1 [00:00<00:00, 3155.98it/s]\n",
      "Inference: 100%|██████████| 1/1 [00:00<00:00,  1.24it/s]\n",
      "Tokenization: 100%|██████████| 1/1 [00:00<00:00, 2058.05it/s]\n",
      "Inference: 100%|██████████| 1/1 [00:00<00:00,  1.78it/s]\n",
      "Tokenization: 100%|██████████| 1/1 [00:00<00:00, 2232.20it/s]\n",
      "Inference:   0%|          | 0/1 [00:00<?, ?it/s]"
     ]
    },
    {
     "output_type": "stream",
     "name": "stdout",
     "text": [
      "Running pipeline ... done\n",
      "\n",
      "員工年度考核系統Employee performance annual evaluation system\n",
      "\n"
     ]
    },
    {
     "output_type": "stream",
     "name": "stderr",
     "text": [
      "Inference: 100%|██████████| 1/1 [00:00<00:00,  1.75it/s]\n",
      "Tokenization: 100%|██████████| 1/1 [00:00<00:00, 1739.65it/s]\n",
      "Inference: 100%|██████████| 1/1 [00:00<00:00,  1.18it/s]\n",
      "Tokenization: 100%|██████████| 1/1 [00:00<00:00, 2499.59it/s]\n",
      "Inference: 100%|██████████| 1/1 [00:00<00:00,  1.79it/s]\n",
      "Tokenization: 100%|██████████| 1/1 [00:00<00:00, 2303.30it/s]\n",
      "Inference:   0%|          | 0/1 [00:00<?, ?it/s]"
     ]
    },
    {
     "output_type": "stream",
     "name": "stdout",
     "text": [
      "Running pipeline ... done\n",
      "\n",
      "徵授信系統推播通知及遙控平台E-loan system push notification and remote control platform\n",
      "\n"
     ]
    },
    {
     "output_type": "stream",
     "name": "stderr",
     "text": [
      "Inference: 100%|██████████| 1/1 [00:00<00:00,  1.72it/s]\n",
      "Tokenization: 100%|██████████| 1/1 [00:00<00:00, 1677.72it/s]\n",
      "Inference: 100%|██████████| 1/1 [00:00<00:00,  1.27it/s]\n",
      "Tokenization: 100%|██████████| 1/1 [00:00<00:00, 2753.98it/s]\n",
      "Inference: 100%|██████████| 1/1 [00:00<00:00,  1.72it/s]\n",
      "Tokenization: 100%|██████████| 1/1 [00:00<00:00, 2652.94it/s]\n",
      "Inference:   0%|          | 0/1 [00:00<?, ?it/s]"
     ]
    },
    {
     "output_type": "stream",
     "name": "stdout",
     "text": [
      "Running pipeline ... done\n",
      "\n",
      "非常態性覆審作業管理系統Unusual review job management system\n",
      "\n"
     ]
    },
    {
     "output_type": "stream",
     "name": "stderr",
     "text": [
      "Inference: 100%|██████████| 1/1 [00:00<00:00,  1.76it/s]\n",
      "Tokenization: 100%|██████████| 1/1 [00:00<00:00, 1515.28it/s]\n",
      "Inference: 100%|██████████| 1/1 [00:01<00:00,  1.16s/it]\n",
      "Tokenization: 100%|██████████| 1/1 [00:00<00:00, 864.27it/s]\n",
      "Inference: 100%|██████████| 1/1 [00:00<00:00,  1.41it/s]\n",
      "Tokenization: 100%|██████████| 1/1 [00:00<00:00, 1322.71it/s]\n",
      "Inference:   0%|          | 0/1 [00:00<?, ?it/s]"
     ]
    },
    {
     "output_type": "stream",
     "name": "stdout",
     "text": [
      "Running pipeline ... done\n",
      "\n",
      "機械設備動產抵押品監控系統Mechanical equipment movable property collateral monitoring system\n",
      "\n"
     ]
    },
    {
     "output_type": "stream",
     "name": "stderr",
     "text": [
      "Inference: 100%|██████████| 1/1 [00:00<00:00,  1.56it/s]\n",
      "Tokenization: 100%|██████████| 1/1 [00:00<00:00, 1538.63it/s]\n",
      "Inference: 100%|██████████| 1/1 [00:01<00:00,  1.19s/it]\n",
      "Tokenization: 100%|██████████| 1/1 [00:00<00:00, 1868.29it/s]\n",
      "Inference: 100%|██████████| 1/1 [00:00<00:00,  1.73it/s]\n",
      "Tokenization: 100%|██████████| 1/1 [00:00<00:00, 3163.13it/s]\n",
      "Inference:   0%|          | 0/1 [00:00<?, ?it/s]"
     ]
    },
    {
     "output_type": "stream",
     "name": "stdout",
     "text": [
      "Running pipeline ... done\n",
      "\n",
      "帳戶彙總查詢系統Account summary query system\n",
      "\n"
     ]
    },
    {
     "output_type": "stream",
     "name": "stderr",
     "text": [
      "Inference: 100%|██████████| 1/1 [00:00<00:00,  2.09it/s]\n",
      "Tokenization: 100%|██████████| 1/1 [00:00<00:00, 2136.68it/s]\n",
      "Inference: 100%|██████████| 1/1 [00:00<00:00,  1.38it/s]\n",
      "Tokenization: 100%|██████████| 1/1 [00:00<00:00, 2849.39it/s]\n",
      "Inference: 100%|██████████| 1/1 [00:00<00:00,  2.04it/s]\n",
      "Tokenization: 100%|██████████| 1/1 [00:00<00:00, 267.46it/s]\n",
      "Inference:   0%|          | 0/1 [00:00<?, ?it/s]"
     ]
    },
    {
     "output_type": "stream",
     "name": "stdout",
     "text": [
      "Running pipeline ... done\n",
      "\n",
      "票據及匯款集中式處理系統Centralized processing system for bill and remittance\n",
      "\n"
     ]
    },
    {
     "output_type": "stream",
     "name": "stderr",
     "text": [
      "Inference: 100%|██████████| 1/1 [00:02<00:00,  2.63s/it]\n",
      "Tokenization: 100%|██████████| 1/1 [00:00<00:00, 974.97it/s]\n",
      "Inference: 100%|██████████| 1/1 [00:19<00:00, 19.76s/it]\n",
      "Tokenization: 100%|██████████| 1/1 [00:00<00:00, 295.50it/s]\n",
      "Inference: 100%|██████████| 1/1 [00:02<00:00,  2.42s/it]\n",
      "Tokenization: 100%|██████████| 1/1 [00:00<00:00, 3597.17it/s]\n",
      "Inference:   0%|          | 0/1 [00:00<?, ?it/s]"
     ]
    },
    {
     "output_type": "stream",
     "name": "stdout",
     "text": [
      "Running pipeline ... done\n",
      "\n",
      "不動產投資作業系統REAL ESTATE INVESTMENT MANAGEMENT SYSTEM\n",
      "\n"
     ]
    },
    {
     "output_type": "stream",
     "name": "stderr",
     "text": [
      "Inference: 100%|██████████| 1/1 [00:00<00:00,  2.28it/s]\n",
      "Tokenization: 100%|██████████| 1/1 [00:00<00:00, 556.20it/s]\n",
      "Inference: 100%|██████████| 1/1 [00:00<00:00,  1.70it/s]\n",
      "Tokenization: 100%|██████████| 1/1 [00:00<00:00, 2755.78it/s]\n",
      "Inference: 100%|██████████| 1/1 [00:00<00:00,  2.36it/s]\n",
      "Tokenization: 100%|██████████| 1/1 [00:00<00:00, 2283.24it/s]\n",
      "Inference:   0%|          | 0/1 [00:00<?, ?it/s]"
     ]
    },
    {
     "output_type": "stream",
     "name": "stdout",
     "text": [
      "Running pipeline ... done\n",
      "\n",
      "資金交易中台額度控管系統Quota control system of fund transaction middle platform\n",
      "\n"
     ]
    },
    {
     "output_type": "stream",
     "name": "stderr",
     "text": [
      "Inference: 100%|██████████| 1/1 [00:00<00:00,  1.78it/s]\n",
      "Tokenization: 100%|██████████| 1/1 [00:00<00:00, 2866.92it/s]\n",
      "Inference: 100%|██████████| 1/1 [00:01<00:00,  1.10s/it]\n",
      "Tokenization: 100%|██████████| 1/1 [00:00<00:00, 2495.12it/s]\n",
      "Inference: 100%|██████████| 1/1 [00:00<00:00,  1.77it/s]\n",
      "Tokenization: 100%|██████████| 1/1 [00:00<00:00, 2193.67it/s]\n",
      "Inference:   0%|          | 0/1 [00:00<?, ?it/s]"
     ]
    },
    {
     "output_type": "stream",
     "name": "stdout",
     "text": [
      "Running pipeline ... done\n",
      "\n",
      "教育訓練管理系統Education and training management system\n",
      "\n"
     ]
    },
    {
     "output_type": "stream",
     "name": "stderr",
     "text": [
      "Inference: 100%|██████████| 1/1 [00:00<00:00,  1.50it/s]\n",
      "Tokenization: 100%|██████████| 1/1 [00:00<00:00, 2211.02it/s]\n",
      "Inference: 100%|██████████| 1/1 [00:00<00:00,  1.11it/s]\n",
      "Tokenization: 100%|██████████| 1/1 [00:00<00:00, 1605.17it/s]\n",
      "Inference: 100%|██████████| 1/1 [00:00<00:00,  1.85it/s]\n",
      "Tokenization: 100%|██████████| 1/1 [00:00<00:00, 2709.50it/s]\n",
      "Inference:   0%|          | 0/1 [00:00<?, ?it/s]"
     ]
    },
    {
     "output_type": "stream",
     "name": "stdout",
     "text": [
      "Running pipeline ... done\n",
      "\n",
      "投資理財管理系統Investment and financial management system\n",
      "\n"
     ]
    },
    {
     "output_type": "stream",
     "name": "stderr",
     "text": [
      "Inference: 100%|██████████| 1/1 [00:00<00:00,  1.74it/s]\n",
      "Tokenization: 100%|██████████| 1/1 [00:00<00:00, 1565.04it/s]\n",
      "Inference: 100%|██████████| 1/1 [00:01<00:00,  1.30s/it]\n",
      "Tokenization: 100%|██████████| 1/1 [00:00<00:00, 1406.07it/s]\n",
      "Inference: 100%|██████████| 1/1 [00:00<00:00,  1.75it/s]\n",
      "Tokenization: 100%|██████████| 1/1 [00:00<00:00, 2957.90it/s]\n",
      "Inference:   0%|          | 0/1 [00:00<?, ?it/s]"
     ]
    },
    {
     "output_type": "stream",
     "name": "stdout",
     "text": [
      "Running pipeline ... done\n",
      "\n",
      "利息補貼帳務系統Interest subsidy accounting system\n",
      "\n"
     ]
    },
    {
     "output_type": "stream",
     "name": "stderr",
     "text": [
      "Inference: 100%|██████████| 1/1 [00:00<00:00,  2.79it/s]\n",
      "Tokenization: 100%|██████████| 1/1 [00:00<00:00, 3355.44it/s]\n",
      "Inference: 100%|██████████| 1/1 [00:00<00:00,  1.35it/s]\n",
      "Tokenization: 100%|██████████| 1/1 [00:00<00:00, 3248.88it/s]\n",
      "Inference: 100%|██████████| 1/1 [00:00<00:00,  2.85it/s]\n",
      "Tokenization: 100%|██████████| 1/1 [00:00<00:00, 2746.76it/s]\n",
      "Inference:   0%|          | 0/1 [00:00<?, ?it/s]"
     ]
    },
    {
     "output_type": "stream",
     "name": "stdout",
     "text": [
      "Running pipeline ... done\n",
      "\n",
      "企業金融客戶開發系統Enterprise finance customer development system\n",
      "\n"
     ]
    },
    {
     "output_type": "stream",
     "name": "stderr",
     "text": [
      "Inference: 100%|██████████| 1/1 [00:00<00:00,  1.82it/s]\n",
      "Tokenization: 100%|██████████| 1/1 [00:00<00:00, 2207.53it/s]\n",
      "Inference: 100%|██████████| 1/1 [00:01<00:00,  1.17s/it]\n",
      "Tokenization: 100%|██████████| 1/1 [00:00<00:00, 1067.25it/s]\n",
      "Inference: 100%|██████████| 1/1 [00:00<00:00,  1.83it/s]\n",
      "Tokenization: 100%|██████████| 1/1 [00:00<00:00, 2049.00it/s]\n",
      "Inference:   0%|          | 0/1 [00:00<?, ?it/s]"
     ]
    },
    {
     "output_type": "stream",
     "name": "stdout",
     "text": [
      "Running pipeline ... done\n",
      "\n",
      "外勤行銷管理系統Field marketing management system\n",
      "\n"
     ]
    },
    {
     "output_type": "stream",
     "name": "stderr",
     "text": [
      "Inference: 100%|██████████| 1/1 [00:00<00:00,  1.39it/s]\n",
      "Tokenization: 100%|██████████| 1/1 [00:00<00:00, 2041.02it/s]\n",
      "Inference: 100%|██████████| 1/1 [00:01<00:00,  1.21s/it]\n",
      "Tokenization: 100%|██████████| 1/1 [00:00<00:00, 2122.62it/s]\n",
      "Inference: 100%|██████████| 1/1 [00:00<00:00,  1.49it/s]\n",
      "Tokenization: 100%|██████████| 1/1 [00:00<00:00, 2321.14it/s]\n",
      "Inference:   0%|          | 0/1 [00:00<?, ?it/s]"
     ]
    },
    {
     "output_type": "stream",
     "name": "stdout",
     "text": [
      "Running pipeline ... done\n",
      "\n",
      "貸款本息作業管理系統Loan principal and interest operation management system\n",
      "\n"
     ]
    },
    {
     "output_type": "stream",
     "name": "stderr",
     "text": [
      "Inference: 100%|██████████| 1/1 [00:00<00:00,  1.86it/s]\n",
      "Tokenization: 100%|██████████| 1/1 [00:00<00:00, 2551.28it/s]\n",
      "Inference: 100%|██████████| 1/1 [00:00<00:00,  1.11it/s]\n",
      "Tokenization: 100%|██████████| 1/1 [00:00<00:00, 2768.52it/s]\n",
      "Inference: 100%|██████████| 1/1 [00:00<00:00,  1.67it/s]\n",
      "Tokenization: 100%|██████████| 1/1 [00:00<00:00, 3021.83it/s]\n",
      "Inference:   0%|          | 0/1 [00:00<?, ?it/s]"
     ]
    },
    {
     "output_type": "stream",
     "name": "stdout",
     "text": [
      "Running pipeline ... done\n",
      "\n",
      "電子禮劵信託管理系統Electronic gifts trust management system\n",
      "\n"
     ]
    },
    {
     "output_type": "stream",
     "name": "stderr",
     "text": [
      "Inference: 100%|██████████| 1/1 [00:00<00:00,  2.13it/s]\n",
      "Tokenization: 100%|██████████| 1/1 [00:00<00:00, 2352.39it/s]\n",
      "Inference: 100%|██████████| 1/1 [00:00<00:00,  1.20it/s]\n",
      "Tokenization: 100%|██████████| 1/1 [00:00<00:00, 1623.18it/s]\n",
      "Inference: 100%|██████████| 1/1 [00:00<00:00,  2.24it/s]\n",
      "Tokenization: 100%|██████████| 1/1 [00:00<00:00, 3021.83it/s]\n",
      "Inference:   0%|          | 0/1 [00:00<?, ?it/s]"
     ]
    },
    {
     "output_type": "stream",
     "name": "stdout",
     "text": [
      "Running pipeline ... done\n",
      "\n",
      "消費投資系統Consumption investment system\n",
      "\n"
     ]
    },
    {
     "output_type": "stream",
     "name": "stderr",
     "text": [
      "Inference: 100%|██████████| 1/1 [00:00<00:00,  2.03it/s]\n",
      "Tokenization: 100%|██████████| 1/1 [00:00<00:00, 2335.36it/s]\n",
      "Inference: 100%|██████████| 1/1 [00:00<00:00,  1.21it/s]\n",
      "Tokenization: 100%|██████████| 1/1 [00:00<00:00, 2610.02it/s]\n",
      "Inference: 100%|██████████| 1/1 [00:00<00:00,  2.04it/s]\n",
      "Tokenization: 100%|██████████| 1/1 [00:00<00:00, 1788.62it/s]\n",
      "Inference:   0%|          | 0/1 [00:00<?, ?it/s]"
     ]
    },
    {
     "output_type": "stream",
     "name": "stdout",
     "text": [
      "Running pipeline ... done\n",
      "\n",
      "虛擬補摺系統Virtual passbook updating system\n",
      "\n"
     ]
    },
    {
     "output_type": "stream",
     "name": "stderr",
     "text": [
      "Inference: 100%|██████████| 1/1 [00:00<00:00,  2.23it/s]\n",
      "Tokenization: 100%|██████████| 1/1 [00:00<00:00, 3134.76it/s]\n",
      "Inference: 100%|██████████| 1/1 [00:00<00:00,  1.28it/s]\n",
      "Tokenization: 100%|██████████| 1/1 [00:00<00:00, 1869.12it/s]\n",
      "Inference: 100%|██████████| 1/1 [00:00<00:00,  2.18it/s]\n",
      "Tokenization: 100%|██████████| 1/1 [00:00<00:00, 2336.66it/s]\n",
      "Inference:   0%|          | 0/1 [00:00<?, ?it/s]"
     ]
    },
    {
     "output_type": "stream",
     "name": "stdout",
     "text": [
      "Running pipeline ... done\n",
      "\n",
      "機房操作輔助及作業自動化系統Control room manipulation assistance and operation automation system\n",
      "\n"
     ]
    },
    {
     "output_type": "stream",
     "name": "stderr",
     "text": [
      "Inference: 100%|██████████| 1/1 [00:00<00:00,  2.74it/s]\n",
      "Tokenization: 100%|██████████| 1/1 [00:00<00:00, 1908.24it/s]\n",
      "Inference: 100%|██████████| 1/1 [00:00<00:00,  1.65it/s]\n",
      "Tokenization: 100%|██████████| 1/1 [00:00<00:00, 2525.17it/s]\n",
      "Inference: 100%|██████████| 1/1 [00:00<00:00,  2.77it/s]\n",
      "Tokenization: 100%|██████████| 1/1 [00:00<00:00, 1170.94it/s]\n",
      "Inference:   0%|          | 0/1 [00:00<?, ?it/s]"
     ]
    },
    {
     "output_type": "stream",
     "name": "stdout",
     "text": [
      "Running pipeline ... done\n",
      "\n",
      "總分行端事件管理模組Event management module between head office and branches\n",
      "\n"
     ]
    },
    {
     "output_type": "stream",
     "name": "stderr",
     "text": [
      "Inference: 100%|██████████| 1/1 [00:00<00:00,  2.11it/s]\n",
      "Tokenization: 100%|██████████| 1/1 [00:00<00:00, 3084.05it/s]\n",
      "Inference: 100%|██████████| 1/1 [00:00<00:00,  1.43it/s]\n",
      "Tokenization: 100%|██████████| 1/1 [00:00<00:00, 2319.86it/s]\n",
      "Inference: 100%|██████████| 1/1 [00:00<00:00,  2.09it/s]\n",
      "Tokenization: 100%|██████████| 1/1 [00:00<00:00, 1908.24it/s]\n",
      "Inference:   0%|          | 0/1 [00:00<?, ?it/s]"
     ]
    },
    {
     "output_type": "stream",
     "name": "stdout",
     "text": [
      "Running pipeline ... done\n",
      "\n",
      "利用條碼之匯款及轉帳處理系統Remittance and account transfer processing system using barcode\n",
      "\n"
     ]
    },
    {
     "output_type": "stream",
     "name": "stderr",
     "text": [
      "Inference: 100%|██████████| 1/1 [00:00<00:00,  1.95it/s]\n",
      "Tokenization: 100%|██████████| 1/1 [00:00<00:00, 3054.85it/s]\n",
      "Inference: 100%|██████████| 1/1 [00:00<00:00,  1.03it/s]\n",
      "Tokenization: 100%|██████████| 1/1 [00:00<00:00, 2238.16it/s]\n",
      "Inference: 100%|██████████| 1/1 [00:00<00:00,  1.99it/s]\n",
      "Tokenization: 100%|██████████| 1/1 [00:00<00:00, 2874.78it/s]\n",
      "Inference:   0%|          | 0/1 [00:00<?, ?it/s]"
     ]
    },
    {
     "output_type": "stream",
     "name": "stdout",
     "text": [
      "Running pipeline ... done\n",
      "\n",
      "自動化服務設備地理資訊系統Geographic information system of automated service equipment\n",
      "\n"
     ]
    },
    {
     "output_type": "stream",
     "name": "stderr",
     "text": [
      "Inference: 100%|██████████| 1/1 [00:00<00:00,  1.90it/s]\n",
      "Tokenization: 100%|██████████| 1/1 [00:00<00:00, 1927.53it/s]\n",
      "Inference: 100%|██████████| 1/1 [00:01<00:00,  1.11s/it]\n",
      "Tokenization: 100%|██████████| 1/1 [00:00<00:00, 816.33it/s]\n",
      "Inference: 100%|██████████| 1/1 [00:00<00:00,  1.84it/s]\n",
      "Tokenization: 100%|██████████| 1/1 [00:00<00:00, 2673.23it/s]\n",
      "Inference:   0%|          | 0/1 [00:00<?, ?it/s]"
     ]
    },
    {
     "output_type": "stream",
     "name": "stdout",
     "text": [
      "Running pipeline ... done\n",
      "\n",
      "特店語音支付系統Authorized store voice payment system\n",
      "\n"
     ]
    },
    {
     "output_type": "stream",
     "name": "stderr",
     "text": [
      "Inference: 100%|██████████| 1/1 [00:00<00:00,  1.75it/s]\n",
      "Tokenization: 100%|██████████| 1/1 [00:00<00:00, 1298.95it/s]\n",
      "Inference: 100%|██████████| 1/1 [00:00<00:00,  1.05it/s]\n",
      "Tokenization: 100%|██████████| 1/1 [00:00<00:00, 2686.93it/s]\n",
      "Inference: 100%|██████████| 1/1 [00:00<00:00,  1.81it/s]\n",
      "Tokenization: 100%|██████████| 1/1 [00:00<00:00, 415.65it/s]\n",
      "Inference:   0%|          | 0/1 [00:00<?, ?it/s]"
     ]
    },
    {
     "output_type": "stream",
     "name": "stdout",
     "text": [
      "Running pipeline ... done\n",
      "\n",
      "信用卡額度自動調整系統Automatic adjustment system for credit card limit\n",
      "\n"
     ]
    },
    {
     "output_type": "stream",
     "name": "stderr",
     "text": [
      "Inference: 100%|██████████| 1/1 [00:04<00:00,  4.26s/it]\n",
      "Tokenization: 100%|██████████| 1/1 [00:00<00:00, 689.63it/s]\n",
      "Inference: 100%|██████████| 1/1 [00:25<00:00, 25.24s/it]\n",
      "Tokenization: 100%|██████████| 1/1 [00:00<00:00, 68.71it/s]\n",
      "Inference: 100%|██████████| 1/1 [00:03<00:00,  3.61s/it]\n",
      "Tokenization: 100%|██████████| 1/1 [00:00<00:00, 1075.46it/s]\n",
      "Inference:   0%|          | 0/1 [00:00<?, ?it/s]"
     ]
    },
    {
     "output_type": "stream",
     "name": "stdout",
     "text": [
      "Running pipeline ... done\n",
      "\n",
      "房貸線上增貸簡化徵信作業系統SIMPLIFIED ONLINE CREDIT CHECKING SYSTEM OF APPLYING FURTHER ADVANCE ON MORTGAGE\n",
      "\n"
     ]
    },
    {
     "output_type": "stream",
     "name": "stderr",
     "text": [
      "Inference: 100%|██████████| 1/1 [00:00<00:00,  1.68it/s]\n",
      "Tokenization: 100%|██████████| 1/1 [00:00<00:00, 1439.36it/s]\n",
      "Inference: 100%|██████████| 1/1 [00:00<00:00,  1.20it/s]\n",
      "Tokenization: 100%|██████████| 1/1 [00:00<00:00, 2048.00it/s]\n",
      "Inference: 100%|██████████| 1/1 [00:00<00:00,  1.73it/s]\n",
      "Tokenization: 100%|██████████| 1/1 [00:00<00:00, 1344.33it/s]\n",
      "Inference:   0%|          | 0/1 [00:00<?, ?it/s]"
     ]
    },
    {
     "output_type": "stream",
     "name": "stdout",
     "text": [
      "Running pipeline ... done\n",
      "\n",
      "使用者身分查詢系統User identity inquiry system\n",
      "\n"
     ]
    },
    {
     "output_type": "stream",
     "name": "stderr",
     "text": [
      "Inference: 100%|██████████| 1/1 [00:00<00:00,  1.83it/s]\n",
      "Tokenization: 100%|██████████| 1/1 [00:00<00:00, 1102.60it/s]\n",
      "Inference: 100%|██████████| 1/1 [00:01<00:00,  1.34s/it]\n",
      "Tokenization: 100%|██████████| 1/1 [00:00<00:00, 2341.88it/s]\n",
      "Inference: 100%|██████████| 1/1 [00:00<00:00,  1.86it/s]\n",
      "Tokenization: 100%|██████████| 1/1 [00:00<00:00, 596.97it/s]\n",
      "Inference:   0%|          | 0/1 [00:00<?, ?it/s]"
     ]
    },
    {
     "output_type": "stream",
     "name": "stdout",
     "text": [
      "Running pipeline ... done\n",
      "\n",
      "行事曆及行動銀行之整合系統Integration system for calendar and mobile bank\n",
      "\n"
     ]
    },
    {
     "output_type": "stream",
     "name": "stderr",
     "text": [
      "Inference: 100%|██████████| 1/1 [00:03<00:00,  3.81s/it]\n",
      "Tokenization: 100%|██████████| 1/1 [00:00<00:00, 785.60it/s]\n",
      "Inference: 100%|██████████| 1/1 [00:14<00:00, 14.01s/it]\n",
      "Tokenization: 100%|██████████| 1/1 [00:00<00:00, 395.73it/s]\n",
      "Inference: 100%|██████████| 1/1 [00:03<00:00,  3.60s/it]\n",
      "Tokenization: 100%|██████████| 1/1 [00:00<00:00, 1095.40it/s]\n",
      "Inference:   0%|          | 0/1 [00:00<?, ?it/s]"
     ]
    },
    {
     "output_type": "stream",
     "name": "stdout",
     "text": [
      "Running pipeline ... done\n",
      "\n",
      "聯貸作業管理系統SYNDICATED LOAN OPERATION MANAGEMENT SYSTEM\n",
      "\n"
     ]
    },
    {
     "output_type": "stream",
     "name": "stderr",
     "text": [
      "Inference: 100%|██████████| 1/1 [00:02<00:00,  2.47s/it]\n",
      "Tokenization: 100%|██████████| 1/1 [00:00<00:00, 1034.10it/s]\n",
      "Inference: 100%|██████████| 1/1 [00:10<00:00, 10.10s/it]\n",
      "Tokenization: 100%|██████████| 1/1 [00:00<00:00, 1050.15it/s]\n",
      "Inference: 100%|██████████| 1/1 [00:02<00:00,  2.87s/it]\n",
      "Tokenization: 100%|██████████| 1/1 [00:00<00:00, 211.67it/s]\n",
      "Inference:   0%|          | 0/1 [00:00<?, ?it/s]"
     ]
    },
    {
     "output_type": "stream",
     "name": "stdout",
     "text": [
      "Running pipeline ... done\n",
      "\n",
      "金融管理報表產製系統FINANCIAL MANAGEMENT STATEMENT GENERATING SYSTEM\n",
      "\n"
     ]
    },
    {
     "output_type": "stream",
     "name": "stderr",
     "text": [
      "Inference: 100%|██████████| 1/1 [00:02<00:00,  2.74s/it]\n",
      "Tokenization: 100%|██████████| 1/1 [00:00<00:00, 508.71it/s]\n",
      "Inference: 100%|██████████| 1/1 [00:12<00:00, 12.02s/it]\n",
      "Tokenization: 100%|██████████| 1/1 [00:00<00:00, 183.69it/s]\n",
      "Inference: 100%|██████████| 1/1 [00:02<00:00,  2.38s/it]\n",
      "Tokenization: 100%|██████████| 1/1 [00:00<00:00, 533.90it/s]\n",
      "Inference:   0%|          | 0/1 [00:00<?, ?it/s]"
     ]
    },
    {
     "output_type": "stream",
     "name": "stdout",
     "text": [
      "Running pipeline ... done\n",
      "\n",
      "員工請調作業系統EMPLOYEE POST-TRANSFER APPLICATION SYSTEM\n",
      "\n"
     ]
    },
    {
     "output_type": "stream",
     "name": "stderr",
     "text": [
      "Inference: 100%|██████████| 1/1 [00:02<00:00,  2.53s/it]\n",
      "Tokenization: 100%|██████████| 1/1 [00:00<00:00, 164.50it/s]\n",
      "Inference: 100%|██████████| 1/1 [00:06<00:00,  6.45s/it]\n",
      "Tokenization: 100%|██████████| 1/1 [00:00<00:00, 850.25it/s]\n",
      "Inference: 100%|██████████| 1/1 [00:03<00:00,  3.08s/it]\n",
      "Tokenization: 100%|██████████| 1/1 [00:00<00:00, 356.87it/s]\n",
      "Inference:   0%|          | 0/1 [00:00<?, ?it/s]"
     ]
    },
    {
     "output_type": "stream",
     "name": "stdout",
     "text": [
      "Running pipeline ... done\n",
      "\n",
      "連線交易測試系統ONLINE TRADING TEST SYSTEM\n",
      "\n"
     ]
    },
    {
     "output_type": "stream",
     "name": "stderr",
     "text": [
      "Inference: 100%|██████████| 1/1 [00:02<00:00,  2.50s/it]\n",
      "Tokenization: 100%|██████████| 1/1 [00:00<00:00, 826.63it/s]\n",
      "Inference: 100%|██████████| 1/1 [00:10<00:00, 10.80s/it]\n",
      "Tokenization: 100%|██████████| 1/1 [00:00<00:00, 332.85it/s]\n",
      "Inference: 100%|██████████| 1/1 [00:02<00:00,  2.43s/it]\n",
      "Tokenization: 100%|██████████| 1/1 [00:00<00:00, 4293.04it/s]\n",
      "Inference:   0%|          | 0/1 [00:00<?, ?it/s]"
     ]
    },
    {
     "output_type": "stream",
     "name": "stdout",
     "text": [
      "Running pipeline ... done\n",
      "\n",
      "智能產品行銷管理系統INTELLITGENT PRODUCT MARKETING MANAGEMENT SYSTEM\n",
      "\n"
     ]
    },
    {
     "output_type": "stream",
     "name": "stderr",
     "text": [
      "Inference: 100%|██████████| 1/1 [00:00<00:00,  3.04it/s]\n",
      "Tokenization: 100%|██████████| 1/1 [00:00<00:00, 2061.08it/s]\n",
      "Inference: 100%|██████████| 1/1 [00:00<00:00,  1.93it/s]\n",
      "Tokenization: 100%|██████████| 1/1 [00:00<00:00, 3010.99it/s]\n",
      "Inference: 100%|██████████| 1/1 [00:00<00:00,  3.08it/s]\n",
      "Tokenization: 100%|██████████| 1/1 [00:00<00:00, 630.91it/s]\n",
      "Inference:   0%|          | 0/1 [00:00<?, ?it/s]"
     ]
    },
    {
     "output_type": "stream",
     "name": "stdout",
     "text": [
      "Running pipeline ... done\n",
      "\n",
      "智慧理財服務系統Smart financial services system\n",
      "\n"
     ]
    },
    {
     "output_type": "stream",
     "name": "stderr",
     "text": [
      "Inference: 100%|██████████| 1/1 [00:03<00:00,  3.65s/it]\n",
      "Tokenization: 100%|██████████| 1/1 [00:00<00:00, 996.04it/s]\n",
      "Inference: 100%|██████████| 1/1 [00:18<00:00, 18.22s/it]\n",
      "Tokenization: 100%|██████████| 1/1 [00:00<00:00, 227.01it/s]\n",
      "Inference: 100%|██████████| 1/1 [00:03<00:00,  3.56s/it]\n",
      "Tokenization: 100%|██████████| 1/1 [00:00<00:00, 807.68it/s]\n",
      "Inference:   0%|          | 0/1 [00:00<?, ?it/s]"
     ]
    },
    {
     "output_type": "stream",
     "name": "stdout",
     "text": [
      "Running pipeline ... done\n",
      "\n",
      "具警示機制之監控系統MONITORING SYSTEM WITH WARNING WECHANISM\n",
      "\n"
     ]
    },
    {
     "output_type": "stream",
     "name": "stderr",
     "text": [
      "Inference: 100%|██████████| 1/1 [00:02<00:00,  2.46s/it]\n",
      "Tokenization: 100%|██████████| 1/1 [00:00<00:00, 910.42it/s]\n",
      "Inference: 100%|██████████| 1/1 [00:11<00:00, 11.31s/it]\n",
      "Tokenization: 100%|██████████| 1/1 [00:00<00:00, 418.72it/s]\n",
      "Inference: 100%|██████████| 1/1 [00:02<00:00,  2.41s/it]\n",
      "Tokenization: 100%|██████████| 1/1 [00:00<00:00, 590.00it/s]\n",
      "Inference:   0%|          | 0/1 [00:00<?, ?it/s]"
     ]
    },
    {
     "output_type": "stream",
     "name": "stdout",
     "text": [
      "Running pipeline ... done\n",
      "\n",
      "業務規章更新管理系統MANAGEMENT SYSTEM OF BANK RULES RENEWAL\n",
      "\n"
     ]
    },
    {
     "output_type": "stream",
     "name": "stderr",
     "text": [
      "Inference: 100%|██████████| 1/1 [00:03<00:00,  3.64s/it]\n",
      "Tokenization: 100%|██████████| 1/1 [00:00<00:00, 524.09it/s]\n",
      "Inference: 100%|██████████| 1/1 [00:19<00:00, 19.62s/it]\n",
      "Tokenization: 100%|██████████| 1/1 [00:00<00:00, 181.29it/s]\n",
      "Inference: 100%|██████████| 1/1 [00:03<00:00,  3.62s/it]\n",
      "Tokenization: 100%|██████████| 1/1 [00:00<00:00, 475.28it/s]\n",
      "Inference:   0%|          | 0/1 [00:00<?, ?it/s]"
     ]
    },
    {
     "output_type": "stream",
     "name": "stdout",
     "text": [
      "Running pipeline ... done\n",
      "\n",
      "交易市場金融服務系統FINANCIAL SERVICE SYSTEM FOR TRADING MARKET\n",
      "\n"
     ]
    },
    {
     "output_type": "stream",
     "name": "stderr",
     "text": [
      "Inference: 100%|██████████| 1/1 [00:03<00:00,  3.67s/it]\n",
      "Tokenization: 100%|██████████| 1/1 [00:00<00:00, 857.03it/s]\n",
      "Inference: 100%|██████████| 1/1 [00:19<00:00, 19.15s/it]\n",
      "Tokenization: 100%|██████████| 1/1 [00:00<00:00, 253.29it/s]\n",
      "Inference: 100%|██████████| 1/1 [00:03<00:00,  3.59s/it]\n",
      "Tokenization: 100%|██████████| 1/1 [00:00<00:00, 826.95it/s]\n",
      "Inference:   0%|          | 0/1 [00:00<?, ?it/s]"
     ]
    },
    {
     "output_type": "stream",
     "name": "stdout",
     "text": [
      "Running pipeline ... done\n",
      "\n",
      "出納津貼管理系統CASHIER ALLOWANCE MANAGEMENT SYSTEM\n",
      "\n"
     ]
    },
    {
     "output_type": "stream",
     "name": "stderr",
     "text": [
      "Inference: 100%|██████████| 1/1 [00:02<00:00,  2.44s/it]\n",
      "Tokenization: 100%|██████████| 1/1 [00:00<00:00, 861.25it/s]\n",
      "Inference: 100%|██████████| 1/1 [00:15<00:00, 15.58s/it]\n",
      "Tokenization: 100%|██████████| 1/1 [00:00<00:00, 296.02it/s]\n",
      "Inference: 100%|██████████| 1/1 [00:02<00:00,  2.43s/it]\n",
      "Tokenization: 100%|██████████| 1/1 [00:00<00:00, 920.81it/s]\n",
      "Inference:   0%|          | 0/1 [00:00<?, ?it/s]"
     ]
    },
    {
     "output_type": "stream",
     "name": "stdout",
     "text": [
      "Running pipeline ... done\n",
      "\n",
      "整合多憑證檢核功能之認證系統VERIFICATION SYSTEM FOR INTEGRATING THE PLURAL OF CERTIFICATE\n",
      "\n"
     ]
    },
    {
     "output_type": "stream",
     "name": "stderr",
     "text": [
      "Inference: 100%|██████████| 1/1 [00:02<00:00,  2.38s/it]\n",
      "Tokenization: 100%|██████████| 1/1 [00:00<00:00, 767.48it/s]\n",
      "Inference: 100%|██████████| 1/1 [00:19<00:00, 19.96s/it]\n",
      "Tokenization: 100%|██████████| 1/1 [00:00<00:00, 151.18it/s]\n",
      "Inference: 100%|██████████| 1/1 [00:03<00:00,  3.16s/it]\n",
      "Tokenization: 100%|██████████| 1/1 [00:00<00:00, 997.93it/s]\n",
      "Inference:   0%|          | 0/1 [00:00<?, ?it/s]"
     ]
    },
    {
     "output_type": "stream",
     "name": "stdout",
     "text": [
      "Running pipeline ... done\n",
      "\n",
      "資金通報系統FUND NOTIFYING SYSTEM\n",
      "\n"
     ]
    },
    {
     "output_type": "stream",
     "name": "stderr",
     "text": [
      "Inference: 100%|██████████| 1/1 [00:02<00:00,  2.59s/it]\n",
      "Tokenization: 100%|██████████| 1/1 [00:00<00:00, 1041.80it/s]\n",
      "Inference: 100%|██████████| 1/1 [00:04<00:00,  4.71s/it]\n",
      "Tokenization: 100%|██████████| 1/1 [00:00<00:00, 973.83it/s]\n",
      "Inference: 100%|██████████| 1/1 [00:02<00:00,  2.98s/it]\n",
      "Tokenization: 100%|██████████| 1/1 [00:00<00:00, 619.54it/s]\n",
      "Inference:   0%|          | 0/1 [00:00<?, ?it/s]"
     ]
    },
    {
     "output_type": "stream",
     "name": "stdout",
     "text": [
      "Running pipeline ... done\n",
      "\n",
      "網路櫃檯系統ELECTRONIC COUNTER SYSTEM\n",
      "\n"
     ]
    },
    {
     "output_type": "stream",
     "name": "stderr",
     "text": [
      "Inference: 100%|██████████| 1/1 [00:03<00:00,  3.80s/it]\n",
      "Tokenization: 100%|██████████| 1/1 [00:00<00:00, 583.76it/s]\n",
      "Inference: 100%|██████████| 1/1 [00:19<00:00, 19.80s/it]\n",
      "Tokenization: 100%|██████████| 1/1 [00:00<00:00, 120.23it/s]\n",
      "Inference: 100%|██████████| 1/1 [00:04<00:00,  4.57s/it]\n",
      "Tokenization: 100%|██████████| 1/1 [00:00<00:00, 479.84it/s]\n",
      "Inference:   0%|          | 0/1 [00:00<?, ?it/s]"
     ]
    },
    {
     "output_type": "stream",
     "name": "stdout",
     "text": [
      "Running pipeline ... done\n",
      "\n",
      "資金調撥系統FUNDS TRANSFER SYSTEM\n",
      "\n"
     ]
    },
    {
     "output_type": "stream",
     "name": "stderr",
     "text": [
      "Inference: 100%|██████████| 1/1 [00:02<00:00,  2.94s/it]\n",
      "Tokenization: 100%|██████████| 1/1 [00:00<00:00, 425.60it/s]\n",
      "Inference: 100%|██████████| 1/1 [00:10<00:00, 10.98s/it]\n",
      "Tokenization: 100%|██████████| 1/1 [00:00<00:00, 149.41it/s]\n",
      "Inference: 100%|██████████| 1/1 [00:03<00:00,  3.03s/it]\n",
      "Tokenization: 100%|██████████| 1/1 [00:00<00:00, 1242.39it/s]\n",
      "Inference:   0%|          | 0/1 [00:00<?, ?it/s]"
     ]
    },
    {
     "output_type": "stream",
     "name": "stdout",
     "text": [
      "Running pipeline ... done\n",
      "\n",
      "行動線上信用指定沖銷作業系統MOBILE ONLINE CREDIT OFFSETTING SYSTEM\n",
      "\n"
     ]
    },
    {
     "output_type": "stream",
     "name": "stderr",
     "text": [
      "Inference: 100%|██████████| 1/1 [00:02<00:00,  2.95s/it]\n",
      "Tokenization: 100%|██████████| 1/1 [00:00<00:00, 350.26it/s]\n",
      "Inference: 100%|██████████| 1/1 [00:08<00:00,  8.91s/it]\n",
      "Tokenization: 100%|██████████| 1/1 [00:00<00:00, 835.35it/s]\n",
      "Inference: 100%|██████████| 1/1 [00:02<00:00,  2.42s/it]\n",
      "Tokenization: 100%|██████████| 1/1 [00:00<00:00, 1279.14it/s]\n",
      "Inference:   0%|          | 0/1 [00:00<?, ?it/s]"
     ]
    },
    {
     "output_type": "stream",
     "name": "stdout",
     "text": [
      "Running pipeline ... done\n",
      "\n",
      "行動線上現金償還系統MOBILE ONLINE CASH REPAYMENT SYSTEM\n",
      "\n"
     ]
    },
    {
     "output_type": "stream",
     "name": "stderr",
     "text": [
      "Inference: 100%|██████████| 1/1 [00:02<00:00,  2.43s/it]\n",
      "Tokenization: 100%|██████████| 1/1 [00:00<00:00, 1058.37it/s]\n",
      "Inference: 100%|██████████| 1/1 [00:06<00:00,  6.82s/it]\n",
      "Tokenization: 100%|██████████| 1/1 [00:00<00:00, 619.27it/s]\n",
      "Inference: 100%|██████████| 1/1 [00:02<00:00,  2.75s/it]\n",
      "Tokenization: 100%|██████████| 1/1 [00:00<00:00, 218.67it/s]\n",
      "Inference:   0%|          | 0/1 [00:00<?, ?it/s]"
     ]
    },
    {
     "output_type": "stream",
     "name": "stdout",
     "text": [
      "Running pipeline ... done\n",
      "\n",
      "外勤活動管理系統FIELD ACTIVITY MANAGEMENT SYSTEM\n",
      "\n"
     ]
    },
    {
     "output_type": "stream",
     "name": "stderr",
     "text": [
      "Inference: 100%|██████████| 1/1 [00:04<00:00,  4.65s/it]\n",
      "Tokenization: 100%|██████████| 1/1 [00:00<00:00, 560.81it/s]\n",
      "Inference: 100%|██████████| 1/1 [00:10<00:00, 10.38s/it]\n",
      "Tokenization: 100%|██████████| 1/1 [00:00<00:00, 291.13it/s]\n",
      "Inference: 100%|██████████| 1/1 [00:03<00:00,  3.86s/it]\n",
      "Tokenization: 100%|██████████| 1/1 [00:00<00:00, 776.87it/s]\n",
      "Inference:   0%|          | 0/1 [00:00<?, ?it/s]"
     ]
    },
    {
     "output_type": "stream",
     "name": "stdout",
     "text": [
      "Running pipeline ... done\n",
      "\n",
      "代收現金增資股款業務資訊之自動化更新系統AUTOMATIC UPDATE SYSTEM FOR BUSINESS INFORMATION ON COLLECTION SERVICE OF CASH CAPITAL REPLENISHMENTS\n",
      "\n"
     ]
    },
    {
     "output_type": "stream",
     "name": "stderr",
     "text": [
      "Inference: 100%|██████████| 1/1 [00:02<00:00,  2.66s/it]\n",
      "Tokenization: 100%|██████████| 1/1 [00:00<00:00, 507.42it/s]\n",
      "Inference: 100%|██████████| 1/1 [00:25<00:00, 25.67s/it]\n",
      "Tokenization: 100%|██████████| 1/1 [00:00<00:00, 79.06it/s]\n",
      "Inference: 100%|██████████| 1/1 [00:02<00:00,  2.66s/it]\n",
      "Tokenization: 100%|██████████| 1/1 [00:00<00:00, 586.53it/s]\n",
      "Inference:   0%|          | 0/1 [00:00<?, ?it/s]"
     ]
    },
    {
     "output_type": "stream",
     "name": "stdout",
     "text": [
      "Running pipeline ... done\n",
      "\n",
      "可轉讓定期存單資料請核系統APPROVING SYSTEM OF NEGOTIABLE CERTIFICATES OF DEPOSIT\n",
      "\n"
     ]
    },
    {
     "output_type": "stream",
     "name": "stderr",
     "text": [
      "Inference: 100%|██████████| 1/1 [00:02<00:00,  2.65s/it]\n",
      "Tokenization: 100%|██████████| 1/1 [00:00<00:00, 866.77it/s]\n",
      "Inference: 100%|██████████| 1/1 [00:16<00:00, 16.30s/it]\n",
      "Tokenization: 100%|██████████| 1/1 [00:00<00:00, 302.29it/s]\n",
      "Inference: 100%|██████████| 1/1 [00:02<00:00,  2.79s/it]\n",
      "Tokenization: 100%|██████████| 1/1 [00:00<00:00, 580.04it/s]\n",
      "Inference:   0%|          | 0/1 [00:00<?, ?it/s]"
     ]
    },
    {
     "output_type": "stream",
     "name": "stdout",
     "text": [
      "Running pipeline ... done\n",
      "\n",
      "線上融資系統ONLINE FINANCING SYSTEM\n",
      "\n"
     ]
    },
    {
     "output_type": "stream",
     "name": "stderr",
     "text": [
      "Inference: 100%|██████████| 1/1 [00:04<00:00,  4.25s/it]\n",
      "Tokenization: 100%|██████████| 1/1 [00:00<00:00, 832.04it/s]\n",
      "Inference: 100%|██████████| 1/1 [00:16<00:00, 16.34s/it]\n",
      "Tokenization: 100%|██████████| 1/1 [00:00<00:00, 212.08it/s]\n",
      "Inference: 100%|██████████| 1/1 [00:04<00:00,  4.20s/it]\n",
      "Tokenization: 100%|██████████| 1/1 [00:00<00:00, 608.58it/s]\n",
      "Inference:   0%|          | 0/1 [00:00<?, ?it/s]"
     ]
    },
    {
     "output_type": "stream",
     "name": "stdout",
     "text": [
      "Running pipeline ... done\n",
      "\n",
      "提供線上取號及候號服務之系統SYSTEM FOR TAKING AND WAITING SERVICE NUMBER ONLINE\n",
      "\n"
     ]
    },
    {
     "output_type": "stream",
     "name": "stderr",
     "text": [
      "Inference: 100%|██████████| 1/1 [00:03<00:00,  3.11s/it]\n",
      "Tokenization: 100%|██████████| 1/1 [00:00<00:00, 566.34it/s]\n",
      "Inference: 100%|██████████| 1/1 [00:08<00:00,  8.14s/it]\n",
      "Tokenization: 100%|██████████| 1/1 [00:00<00:00, 564.05it/s]\n",
      "Inference: 100%|██████████| 1/1 [00:02<00:00,  2.74s/it]\n",
      "Tokenization: 100%|██████████| 1/1 [00:00<00:00, 637.34it/s]\n",
      "Inference:   0%|          | 0/1 [00:00<?, ?it/s]"
     ]
    },
    {
     "output_type": "stream",
     "name": "stdout",
     "text": [
      "Running pipeline ... done\n",
      "\n",
      "行動裝置及行動銀行系統MOBILE DEVICE AND MOBILE BANKING SYSTEM\n",
      "\n"
     ]
    },
    {
     "output_type": "stream",
     "name": "stderr",
     "text": [
      "Inference: 100%|██████████| 1/1 [00:04<00:00,  4.61s/it]\n",
      "Tokenization: 100%|██████████| 1/1 [00:00<00:00, 255.63it/s]\n",
      "Inference: 100%|██████████| 1/1 [00:30<00:00, 30.25s/it]\n",
      "Tokenization: 100%|██████████| 1/1 [00:00<00:00, 53.52it/s]\n",
      "Inference: 100%|██████████| 1/1 [00:05<00:00,  5.03s/it]\n",
      "Tokenization: 100%|██████████| 1/1 [00:00<00:00, 473.45it/s]\n",
      "Inference:   0%|          | 0/1 [00:00<?, ?it/s]"
     ]
    },
    {
     "output_type": "stream",
     "name": "stdout",
     "text": [
      "Running pipeline ... done\n",
      "\n",
      "特約商店作業管理系統MERCHANT OPERATION SYSTEM\n",
      "\n"
     ]
    },
    {
     "output_type": "stream",
     "name": "stderr",
     "text": [
      "Inference: 100%|██████████| 1/1 [00:03<00:00,  3.06s/it]\n",
      "Tokenization: 100%|██████████| 1/1 [00:00<00:00, 305.80it/s]\n",
      "Inference: 100%|██████████| 1/1 [00:09<00:00,  9.78s/it]\n",
      "Tokenization: 100%|██████████| 1/1 [00:00<00:00, 289.28it/s]\n",
      "Inference: 100%|██████████| 1/1 [00:03<00:00,  3.16s/it]\n",
      "Tokenization: 100%|██████████| 1/1 [00:00<00:00, 261.85it/s]\n",
      "Inference:   0%|          | 0/1 [00:00<?, ?it/s]"
     ]
    },
    {
     "output_type": "stream",
     "name": "stdout",
     "text": [
      "Running pipeline ... done\n",
      "\n",
      "債權證券化系統DEBT SECURITIZATION SYSTEM\n",
      "\n"
     ]
    },
    {
     "output_type": "stream",
     "name": "stderr",
     "text": [
      "Inference: 100%|██████████| 1/1 [00:05<00:00,  5.28s/it]\n",
      "Tokenization: 100%|██████████| 1/1 [00:00<00:00, 687.37it/s]\n",
      "Inference: 100%|██████████| 1/1 [00:11<00:00, 11.69s/it]\n",
      "Tokenization: 100%|██████████| 1/1 [00:00<00:00, 233.81it/s]\n",
      "Inference: 100%|██████████| 1/1 [00:05<00:00,  5.73s/it]\n",
      "Tokenization: 100%|██████████| 1/1 [00:00<00:00, 367.50it/s]\n",
      "Inference:   0%|          | 0/1 [00:00<?, ?it/s]"
     ]
    },
    {
     "output_type": "stream",
     "name": "stdout",
     "text": [
      "Running pipeline ... done\n",
      "\n",
      "定期定額即時扣款系統INSTANT DEBITING SYSTEM FOR PERIODIC INVESTMENT PLAN\n",
      "\n"
     ]
    },
    {
     "output_type": "stream",
     "name": "stderr",
     "text": [
      "Inference: 100%|██████████| 1/1 [00:03<00:00,  3.99s/it]\n",
      "Tokenization: 100%|██████████| 1/1 [00:00<00:00, 399.23it/s]\n",
      "Inference: 100%|██████████| 1/1 [00:21<00:00, 21.09s/it]\n",
      "Tokenization: 100%|██████████| 1/1 [00:00<00:00, 279.34it/s]\n",
      "Inference: 100%|██████████| 1/1 [00:03<00:00,  3.68s/it]\n",
      "Tokenization: 100%|██████████| 1/1 [00:00<00:00, 573.78it/s]\n",
      "Inference:   0%|          | 0/1 [00:00<?, ?it/s]"
     ]
    },
    {
     "output_type": "stream",
     "name": "stdout",
     "text": [
      "Running pipeline ... done\n",
      "\n",
      "外匯議價控管系統FOREIGN EXCHANGE BARGAINING SYSTEM\n",
      "\n"
     ]
    },
    {
     "output_type": "stream",
     "name": "stderr",
     "text": [
      "Inference: 100%|██████████| 1/1 [00:02<00:00,  2.46s/it]\n",
      "Tokenization: 100%|██████████| 1/1 [00:00<00:00, 412.87it/s]\n",
      "Inference: 100%|██████████| 1/1 [00:15<00:00, 15.12s/it]\n",
      "Tokenization: 100%|██████████| 1/1 [00:00<00:00, 188.83it/s]\n",
      "Inference: 100%|██████████| 1/1 [00:03<00:00,  3.28s/it]\n",
      "Tokenization: 100%|██████████| 1/1 [00:00<00:00, 1283.45it/s]\n",
      "Inference:   0%|          | 0/1 [00:00<?, ?it/s]"
     ]
    },
    {
     "output_type": "stream",
     "name": "stdout",
     "text": [
      "Running pipeline ... done\n",
      "\n",
      "作業風險關鍵風險指標之監控系統MONITORING SYSTEM OF OPERATIONAL RISK KEY RISK INDICATOR\n",
      "\n"
     ]
    },
    {
     "output_type": "stream",
     "name": "stderr",
     "text": [
      "Inference: 100%|██████████| 1/1 [00:01<00:00,  1.53s/it]\n",
      "Tokenization: 100%|██████████| 1/1 [00:00<00:00, 482.60it/s]\n",
      "Inference: 100%|██████████| 1/1 [00:03<00:00,  3.46s/it]\n",
      "Tokenization: 100%|██████████| 1/1 [00:00<00:00, 292.14it/s]\n",
      "Inference: 100%|██████████| 1/1 [00:01<00:00,  1.46s/it]\n",
      "Tokenization: 100%|██████████| 1/1 [00:00<00:00, 382.83it/s]\n",
      "Inference:   0%|          | 0/1 [00:00<?, ?it/s]"
     ]
    },
    {
     "output_type": "stream",
     "name": "stdout",
     "text": [
      "Running pipeline ... done\n",
      "\n",
      "網頁設計系統WEB DESIGN SYSTEM\n",
      "\n"
     ]
    },
    {
     "output_type": "stream",
     "name": "stderr",
     "text": [
      "Inference: 100%|██████████| 1/1 [00:02<00:00,  2.66s/it]\n",
      "Tokenization: 100%|██████████| 1/1 [00:00<00:00, 340.01it/s]\n",
      "Inference: 100%|██████████| 1/1 [00:08<00:00,  8.70s/it]\n",
      "Tokenization: 100%|██████████| 1/1 [00:00<00:00, 597.39it/s]\n",
      "Inference: 100%|██████████| 1/1 [00:03<00:00,  3.00s/it]\n",
      "Tokenization: 100%|██████████| 1/1 [00:00<00:00, 533.63it/s]\n",
      "Inference:   0%|          | 0/1 [00:00<?, ?it/s]"
     ]
    },
    {
     "output_type": "stream",
     "name": "stdout",
     "text": [
      "Running pipeline ... done\n",
      "\n",
      "迎賓服務系統HOSPITALITY SERVICE SYSTEM\n",
      "\n"
     ]
    },
    {
     "output_type": "stream",
     "name": "stderr",
     "text": [
      "Inference: 100%|██████████| 1/1 [00:02<00:00,  2.47s/it]\n",
      "Tokenization: 100%|██████████| 1/1 [00:00<00:00, 377.63it/s]\n",
      "Inference: 100%|██████████| 1/1 [00:07<00:00,  7.83s/it]\n",
      "Tokenization: 100%|██████████| 1/1 [00:00<00:00, 537.66it/s]\n",
      "Inference: 100%|██████████| 1/1 [00:02<00:00,  2.84s/it]\n",
      "Tokenization: 100%|██████████| 1/1 [00:00<00:00, 742.35it/s]\n",
      "Inference:   0%|          | 0/1 [00:00<?, ?it/s]"
     ]
    },
    {
     "output_type": "stream",
     "name": "stdout",
     "text": [
      "Running pipeline ... done\n",
      "\n",
      "自動櫃員機管理系統AUTOMATED TELLER MACHINE MANAGEMENT SYSTEM\n",
      "\n"
     ]
    },
    {
     "output_type": "stream",
     "name": "stderr",
     "text": [
      "Inference: 100%|██████████| 1/1 [00:02<00:00,  2.79s/it]\n",
      "Tokenization: 100%|██████████| 1/1 [00:00<00:00, 865.88it/s]\n",
      "Inference: 100%|██████████| 1/1 [00:17<00:00, 17.21s/it]\n",
      "Tokenization: 100%|██████████| 1/1 [00:00<00:00, 357.63it/s]\n",
      "Inference: 100%|██████████| 1/1 [00:02<00:00,  2.61s/it]\n",
      "Tokenization: 100%|██████████| 1/1 [00:00<00:00, 1334.92it/s]\n",
      "Inference:   0%|          | 0/1 [00:00<?, ?it/s]"
     ]
    },
    {
     "output_type": "stream",
     "name": "stdout",
     "text": [
      "Running pipeline ... done\n",
      "\n",
      "信用集中度風險控管系統RISK CONTROL SYSTEM OF CREDIT CONCENTRATION\n",
      "\n"
     ]
    },
    {
     "output_type": "stream",
     "name": "stderr",
     "text": [
      "Inference: 100%|██████████| 1/1 [00:01<00:00,  1.11s/it]\n",
      "Tokenization: 100%|██████████| 1/1 [00:00<00:00, 2132.34it/s]\n",
      "Inference: 100%|██████████| 1/1 [00:02<00:00,  2.50s/it]\n",
      "Tokenization: 100%|██████████| 1/1 [00:00<00:00, 1028.77it/s]\n",
      "Inference: 100%|██████████| 1/1 [00:01<00:00,  1.16s/it]\n",
      "Tokenization: 100%|██████████| 1/1 [00:00<00:00, 281.78it/s]\n",
      "Inference:   0%|          | 0/1 [00:00<?, ?it/s]"
     ]
    },
    {
     "output_type": "stream",
     "name": "stdout",
     "text": [
      "Running pipeline ... done\n",
      "\n",
      "繳費系統PAYMENT SYSTEM\n",
      "\n"
     ]
    },
    {
     "output_type": "stream",
     "name": "stderr",
     "text": [
      "Inference: 100%|██████████| 1/1 [00:03<00:00,  3.81s/it]\n",
      "Tokenization: 100%|██████████| 1/1 [00:00<00:00, 828.59it/s]\n",
      "Inference: 100%|██████████| 1/1 [00:17<00:00, 17.81s/it]\n",
      "Tokenization: 100%|██████████| 1/1 [00:00<00:00, 193.62it/s]\n",
      "Inference: 100%|██████████| 1/1 [00:03<00:00,  3.93s/it]\n",
      "Tokenization: 100%|██████████| 1/1 [00:00<00:00, 747.91it/s]\n",
      "Inference:   0%|          | 0/1 [00:00<?, ?it/s]"
     ]
    },
    {
     "output_type": "stream",
     "name": "stdout",
     "text": [
      "Running pipeline ... done\n",
      "\n",
      "電子交易系統ELECTRONIC TRADING SYSTEM\n",
      "\n"
     ]
    },
    {
     "output_type": "stream",
     "name": "stderr",
     "text": [
      "Inference: 100%|██████████| 1/1 [00:02<00:00,  2.56s/it]\n",
      "Tokenization: 100%|██████████| 1/1 [00:00<00:00, 416.51it/s]\n",
      "Inference: 100%|██████████| 1/1 [00:20<00:00, 20.79s/it]\n",
      "Tokenization: 100%|██████████| 1/1 [00:00<00:00, 223.16it/s]\n",
      "Inference: 100%|██████████| 1/1 [00:02<00:00,  2.52s/it]\n",
      "Tokenization: 100%|██████████| 1/1 [00:00<00:00, 755.87it/s]\n",
      "Inference:   0%|          | 0/1 [00:00<?, ?it/s]"
     ]
    },
    {
     "output_type": "stream",
     "name": "stdout",
     "text": [
      "Running pipeline ... done\n",
      "\n",
      "申貸作業批量處理系統BATCH LOAN APPLICATION DATA PROCESSING SYSTEM\n",
      "\n"
     ]
    },
    {
     "output_type": "stream",
     "name": "stderr",
     "text": [
      "Inference: 100%|██████████| 1/1 [00:02<00:00,  2.38s/it]\n",
      "Tokenization: 100%|██████████| 1/1 [00:00<00:00, 382.41it/s]\n",
      "Inference: 100%|██████████| 1/1 [00:09<00:00,  9.96s/it]\n",
      "Tokenization: 100%|██████████| 1/1 [00:00<00:00, 467.54it/s]\n",
      "Inference: 100%|██████████| 1/1 [00:02<00:00,  2.82s/it]\n",
      "Tokenization: 100%|██████████| 1/1 [00:00<00:00, 540.02it/s]\n",
      "Inference:   0%|          | 0/1 [00:00<?, ?it/s]"
     ]
    },
    {
     "output_type": "stream",
     "name": "stdout",
     "text": [
      "Running pipeline ... done\n",
      "\n",
      "繳費系統PAYMENT SYSTEM\n",
      "\n"
     ]
    },
    {
     "output_type": "stream",
     "name": "stderr",
     "text": [
      "Inference: 100%|██████████| 1/1 [00:03<00:00,  3.95s/it]\n",
      "Tokenization: 100%|██████████| 1/1 [00:00<00:00, 786.19it/s]\n",
      "Inference: 100%|██████████| 1/1 [00:18<00:00, 18.77s/it]\n",
      "Tokenization: 100%|██████████| 1/1 [00:00<00:00, 222.77it/s]\n",
      "Inference: 100%|██████████| 1/1 [00:04<00:00,  4.11s/it]\n",
      "Tokenization: 100%|██████████| 1/1 [00:00<00:00, 744.07it/s]\n",
      "Inference:   0%|          | 0/1 [00:00<?, ?it/s]"
     ]
    },
    {
     "output_type": "stream",
     "name": "stdout",
     "text": [
      "Running pipeline ... done\n",
      "\n",
      "多功能網路銀行交易系統MULTIFUNCTIONAL NETWORK BANK TRANSACTION SYSTEM\n",
      "\n"
     ]
    },
    {
     "output_type": "stream",
     "name": "stderr",
     "text": [
      "Inference: 100%|██████████| 1/1 [00:03<00:00,  3.26s/it]\n",
      "Tokenization: 100%|██████████| 1/1 [00:00<00:00, 301.31it/s]\n",
      "Inference: 100%|██████████| 1/1 [00:06<00:00,  6.97s/it]\n",
      "Tokenization: 100%|██████████| 1/1 [00:00<00:00, 240.55it/s]\n",
      "Inference: 100%|██████████| 1/1 [00:02<00:00,  2.86s/it]\n",
      "Tokenization: 100%|██████████| 1/1 [00:00<00:00, 176.46it/s]\n",
      "Inference:   0%|          | 0/1 [00:00<?, ?it/s]"
     ]
    },
    {
     "output_type": "stream",
     "name": "stdout",
     "text": [
      "Running pipeline ... done\n",
      "\n",
      "自動櫃員機設置地點之分析系統ANALYZING SYSTEM FOR AUTOMATED TELLER MACHINE DISPOSITION\n",
      "\n"
     ]
    },
    {
     "output_type": "stream",
     "name": "stderr",
     "text": [
      "Inference: 100%|██████████| 1/1 [00:05<00:00,  5.03s/it]\n",
      "Tokenization: 100%|██████████| 1/1 [00:00<00:00, 256.86it/s]\n",
      "Inference: 100%|██████████| 1/1 [00:21<00:00, 21.24s/it]\n",
      "Tokenization: 100%|██████████| 1/1 [00:00<00:00, 194.30it/s]\n",
      "Inference: 100%|██████████| 1/1 [00:03<00:00,  3.88s/it]\n",
      "Tokenization: 100%|██████████| 1/1 [00:00<00:00, 1202.15it/s]\n",
      "Inference:   0%|          | 0/1 [00:00<?, ?it/s]"
     ]
    },
    {
     "output_type": "stream",
     "name": "stdout",
     "text": [
      "Running pipeline ... done\n",
      "\n",
      "可事前審核之金融系統FINANCIAL SYSTEM FOR PRIOR VERIFICATION\n",
      "\n"
     ]
    },
    {
     "output_type": "stream",
     "name": "stderr",
     "text": [
      "Inference: 100%|██████████| 1/1 [00:03<00:00,  3.00s/it]\n",
      "Tokenization: 100%|██████████| 1/1 [00:00<00:00, 1131.46it/s]\n",
      "Inference: 100%|██████████| 1/1 [00:03<00:00,  3.05s/it]\n",
      "Tokenization: 100%|██████████| 1/1 [00:00<00:00, 450.42it/s]\n",
      "Inference: 100%|██████████| 1/1 [00:02<00:00,  2.64s/it]\n",
      "Tokenization: 100%|██████████| 1/1 [00:00<00:00, 461.88it/s]\n",
      "Inference:   0%|          | 0/1 [00:00<?, ?it/s]"
     ]
    },
    {
     "output_type": "stream",
     "name": "stdout",
     "text": [
      "Running pipeline ... done\n",
      "\n",
      "業務規章管理系統BANK RULES MANAGEMENT SYSTEM\n",
      "\n"
     ]
    },
    {
     "output_type": "stream",
     "name": "stderr",
     "text": [
      "Inference: 100%|██████████| 1/1 [00:02<00:00,  2.96s/it]\n",
      "Tokenization: 100%|██████████| 1/1 [00:00<00:00, 394.02it/s]\n",
      "Inference: 100%|██████████| 1/1 [00:13<00:00, 13.32s/it]\n",
      "Tokenization: 100%|██████████| 1/1 [00:00<00:00, 107.73it/s]\n",
      "Inference: 100%|██████████| 1/1 [00:02<00:00,  2.53s/it]\n",
      "Tokenization: 100%|██████████| 1/1 [00:00<00:00, 215.00it/s]\n",
      "Inference:   0%|          | 0/1 [00:00<?, ?it/s]"
     ]
    },
    {
     "output_type": "stream",
     "name": "stdout",
     "text": [
      "Running pipeline ... done\n",
      "\n",
      "財產標籤製作系統PROPERTY LABEL PRODUCING SYSTEM\n",
      "\n"
     ]
    },
    {
     "output_type": "stream",
     "name": "stderr",
     "text": [
      "Inference: 100%|██████████| 1/1 [00:02<00:00,  2.44s/it]\n",
      "Tokenization: 100%|██████████| 1/1 [00:00<00:00, 284.82it/s]\n",
      "Inference: 100%|██████████| 1/1 [00:15<00:00, 15.82s/it]\n",
      "Tokenization: 100%|██████████| 1/1 [00:00<00:00, 151.35it/s]\n",
      "Inference: 100%|██████████| 1/1 [00:02<00:00,  2.90s/it]\n",
      "Tokenization: 100%|██████████| 1/1 [00:00<00:00, 954.99it/s]\n",
      "Inference:   0%|          | 0/1 [00:00<?, ?it/s]"
     ]
    },
    {
     "output_type": "stream",
     "name": "stdout",
     "text": [
      "Running pipeline ... done\n",
      "\n",
      "客戶融資預測系統CUSTOMER FINANCING FORECASTING SYSTEM\n",
      "\n"
     ]
    },
    {
     "output_type": "stream",
     "name": "stderr",
     "text": [
      "Inference: 100%|██████████| 1/1 [00:02<00:00,  2.65s/it]\n",
      "Tokenization: 100%|██████████| 1/1 [00:00<00:00, 614.64it/s]\n",
      "Inference: 100%|██████████| 1/1 [00:05<00:00,  5.99s/it]\n",
      "Tokenization: 100%|██████████| 1/1 [00:00<00:00, 427.16it/s]\n",
      "Inference: 100%|██████████| 1/1 [00:02<00:00,  2.87s/it]\n",
      "Tokenization: 100%|██████████| 1/1 [00:00<00:00, 315.57it/s]\n",
      "Inference:   0%|          | 0/1 [00:00<?, ?it/s]"
     ]
    },
    {
     "output_type": "stream",
     "name": "stdout",
     "text": [
      "Running pipeline ... done\n",
      "\n",
      "預測銷售管理系統PREDICTIVE SALES MANAGEMENT SYSTEM\n",
      "\n"
     ]
    },
    {
     "output_type": "stream",
     "name": "stderr",
     "text": [
      "Inference: 100%|██████████| 1/1 [00:02<00:00,  2.69s/it]\n",
      "Tokenization: 100%|██████████| 1/1 [00:00<00:00, 114.43it/s]\n",
      "Inference: 100%|██████████| 1/1 [00:04<00:00,  4.17s/it]\n",
      "Tokenization: 100%|██████████| 1/1 [00:00<00:00, 191.86it/s]\n",
      "Inference: 100%|██████████| 1/1 [00:02<00:00,  2.61s/it]\n",
      "Tokenization: 100%|██████████| 1/1 [00:00<00:00, 492.12it/s]\n",
      "Inference:   0%|          | 0/1 [00:00<?, ?it/s]"
     ]
    },
    {
     "output_type": "stream",
     "name": "stdout",
     "text": [
      "Running pipeline ... done\n",
      "\n",
      "政策性貸款經理銀行系統POLICY LOAN MANAGER BANKING SYSTEM\n",
      "\n"
     ]
    },
    {
     "output_type": "stream",
     "name": "stderr",
     "text": [
      "Inference: 100%|██████████| 1/1 [00:02<00:00,  2.50s/it]\n",
      "Tokenization: 100%|██████████| 1/1 [00:00<00:00, 459.35it/s]\n",
      "Inference: 100%|██████████| 1/1 [00:05<00:00,  5.82s/it]\n",
      "Tokenization: 100%|██████████| 1/1 [00:00<00:00, 900.07it/s]\n",
      "Inference: 100%|██████████| 1/1 [00:02<00:00,  2.41s/it]\n",
      "Tokenization: 100%|██████████| 1/1 [00:00<00:00, 336.92it/s]\n",
      "Inference:   0%|          | 0/1 [00:00<?, ?it/s]"
     ]
    },
    {
     "output_type": "stream",
     "name": "stdout",
     "text": [
      "Running pipeline ... done\n",
      "\n",
      "國際金融卡交易自動化核銷系統INTERNATIONAL DEBIT CARD TRANSACTION AUTOMATED VERIFICATION SYSTEM\n",
      "\n"
     ]
    },
    {
     "output_type": "stream",
     "name": "stderr",
     "text": [
      "Inference: 100%|██████████| 1/1 [00:03<00:00,  3.64s/it]\n",
      "Tokenization: 100%|██████████| 1/1 [00:00<00:00, 558.05it/s]\n",
      "Inference: 100%|██████████| 1/1 [00:25<00:00, 25.30s/it]\n",
      "Tokenization: 100%|██████████| 1/1 [00:00<00:00, 71.93it/s]\n",
      "Inference: 100%|██████████| 1/1 [00:04<00:00,  4.02s/it]\n",
      "Tokenization: 100%|██████████| 1/1 [00:00<00:00, 366.96it/s]\n",
      "Inference:   0%|          | 0/1 [00:00<?, ?it/s]"
     ]
    },
    {
     "output_type": "stream",
     "name": "stdout",
     "text": [
      "Running pipeline ... done\n",
      "\n",
      "帳務查詢系統ACCOUNT INQUIRY SYSTEM\n",
      "\n"
     ]
    },
    {
     "output_type": "stream",
     "name": "stderr",
     "text": [
      "Inference: 100%|██████████| 1/1 [00:02<00:00,  2.62s/it]\n",
      "Tokenization: 100%|██████████| 1/1 [00:00<00:00, 336.11it/s]\n",
      "Inference: 100%|██████████| 1/1 [00:02<00:00,  2.96s/it]\n",
      "Tokenization: 100%|██████████| 1/1 [00:00<00:00, 557.38it/s]\n",
      "Inference: 100%|██████████| 1/1 [00:03<00:00,  3.00s/it]\n",
      "Tokenization: 100%|██████████| 1/1 [00:00<00:00, 250.00it/s]\n",
      "Inference:   0%|          | 0/1 [00:00<?, ?it/s]"
     ]
    },
    {
     "output_type": "stream",
     "name": "stdout",
     "text": [
      "Running pipeline ... done\n",
      "\n",
      "勞工紓困貸款申辦系統LABOR RELIEF LOAN APPLICATION SYSTEM\n",
      "\n"
     ]
    },
    {
     "output_type": "stream",
     "name": "stderr",
     "text": [
      "Inference: 100%|██████████| 1/1 [00:02<00:00,  2.84s/it]\n",
      "Tokenization: 100%|██████████| 1/1 [00:00<00:00, 478.04it/s]\n",
      "Inference: 100%|██████████| 1/1 [00:09<00:00,  9.24s/it]\n",
      "Tokenization: 100%|██████████| 1/1 [00:00<00:00, 135.48it/s]\n",
      "Inference: 100%|██████████| 1/1 [00:02<00:00,  2.53s/it]\n",
      "Tokenization: 100%|██████████| 1/1 [00:00<00:00, 368.70it/s]\n",
      "Inference:   0%|          | 0/1 [00:00<?, ?it/s]"
     ]
    },
    {
     "output_type": "stream",
     "name": "stdout",
     "text": [
      "Running pipeline ... done\n",
      "\n",
      "網路銀行交易系統NETWORK BANK TRANSACTION SYSTEM\n",
      "\n"
     ]
    },
    {
     "output_type": "stream",
     "name": "stderr",
     "text": [
      "Inference: 100%|██████████| 1/1 [00:02<00:00,  2.52s/it]\n",
      "Tokenization: 100%|██████████| 1/1 [00:00<00:00, 560.29it/s]\n",
      "Inference: 100%|██████████| 1/1 [00:10<00:00, 10.74s/it]\n",
      "Tokenization: 100%|██████████| 1/1 [00:00<00:00, 295.17it/s]\n",
      "Inference: 100%|██████████| 1/1 [00:02<00:00,  2.42s/it]\n",
      "Tokenization: 100%|██████████| 1/1 [00:00<00:00, 193.43it/s]\n",
      "Inference:   0%|          | 0/1 [00:00<?, ?it/s]"
     ]
    },
    {
     "output_type": "stream",
     "name": "stdout",
     "text": [
      "Running pipeline ... done\n",
      "\n",
      "貸款作業系統SYSTEM FOR PROCESSING LOANS\n",
      "\n"
     ]
    },
    {
     "output_type": "stream",
     "name": "stderr",
     "text": [
      "Inference: 100%|██████████| 1/1 [00:02<00:00,  2.40s/it]\n",
      "Tokenization: 100%|██████████| 1/1 [00:00<00:00, 261.31it/s]\n",
      "Inference: 100%|██████████| 1/1 [00:09<00:00,  9.08s/it]\n",
      "Tokenization: 100%|██████████| 1/1 [00:00<00:00, 389.08it/s]\n",
      "Inference: 100%|██████████| 1/1 [00:02<00:00,  2.92s/it]\n",
      "<ipython-input-81-48a7f93a7c58>:29: FutureWarning: As the xlwt package is no longer maintained, the xlwt engine will be removed in a future version of pandas. This is the only engine in pandas that supports writing in the xls format. Install openpyxl and write to an xlsx file instead. You can set the option io.excel.xls.writer to 'xlwt' to silence this warning. While this option is deprecated and will also raise a warning, it can be globally set and the warning suppressed.\n",
      "  pd.DataFrame(bank).to_excel(result)\n"
     ]
    },
    {
     "output_type": "stream",
     "name": "stdout",
     "text": [
      "Running pipeline ... done\n",
      "\n",
      "平面繭之形成方法及其裝置Formation process for planar cocoon and its device\n",
      "\n",
      "270\n",
      "                   申請日                                                 名稱  \\\n",
      "公開/公告號                                                                      \n",
      "TWM610648U  2020/09/15  跨行金融交易整合系統Interbank financial transaction inte...   \n",
      "TWM610213U  2020/10/15  上市櫃授信戶股價變動預警系統Early warning system for stock p...   \n",
      "TWM610182U  2020/09/29        員工平時考核系統Staff performance assessment system   \n",
      "TWM610174U  2020/09/24  不動產買賣價金信託出入帳管理及通知系統Real estate transaction pri...   \n",
      "TWM609796U  2020/10/15  金融資產證券化會計結帳自動化作業系統Automated operation system f...   \n",
      "...                ...                                                ...   \n",
      "TWM544681U  2016/12/23                       帳務查詢系統ACCOUNT INQUIRY SYSTEM   \n",
      "TWM544058U  2016/12/23     勞工紓困貸款申辦系統LABOR RELIEF LOAN APPLICATION SYSTEM   \n",
      "TWM539671U  2016/12/08            網路銀行交易系統NETWORK BANK TRANSACTION SYSTEM   \n",
      "TWM538627U  2016/11/28                  貸款作業系統SYSTEM FOR PROCESSING LOANS   \n",
      "TW259687B   1995/02/06  平面繭之形成方法及其裝置Formation process for planar cocoo...   \n",
      "\n",
      "                                                         申請人  \\\n",
      "公開/公告號                                                         \n",
      "TWM610648U  臺灣土地銀行股份有限公司; LAND BANK OF TAIWAN CO., LTD. (TW)   \n",
      "TWM610213U            臺灣土地銀行股份有限公司; LAND BANK OF TAIWAN (TW)   \n",
      "TWM610182U  臺灣土地銀行股份有限公司; LAND BANK OF TAIWAN CO., LTD. (TW)   \n",
      "TWM610174U            臺灣土地銀行股份有限公司; LAND BANK OF TAIWAN (TW)   \n",
      "TWM609796U            臺灣土地銀行股份有限公司; LAND BANK OF TAIWAN (TW)   \n",
      "...                                                      ...   \n",
      "TWM544681U            臺灣土地銀行股份有限公司; LAND BANK OF TAIWAN (TW)   \n",
      "TWM544058U            臺灣土地銀行股份有限公司; LAND BANK OF TAIWAN (TW)   \n",
      "TWM539671U            臺灣土地銀行股份有限公司; LAND BANK OF TAIWAN (TW)   \n",
      "TWM538627U            臺灣土地銀行股份有限公司; LAND BANK OF TAIWAN (TW)   \n",
      "TW259687B                 台灣土地銀行 何國華; HWANG, TSANN-CHYI (TW)   \n",
      "\n",
      "                                                          IPC 引用專利  被參考次數  \\\n",
      "公開/公告號                                                                      \n",
      "TWM610648U           G06Q 40/02(2012.01); G06Q 10/08(2012.01)  NaN    NaN   \n",
      "TWM610213U                                G06Q 40/04(2012.01)  NaN    NaN   \n",
      "TWM610182U                                G06Q 10/00(2012.01)  NaN    NaN   \n",
      "TWM610174U           G06Q 40/02(2012.01); G06Q 50/16(2012.01)  NaN    NaN   \n",
      "TWM609796U  G06Q 40/06(2012.01); G06Q 40/02(2012.01); G06F...  NaN    NaN   \n",
      "...                                                       ...  ...    ...   \n",
      "TWM544681U                                G06Q 40/02(2012.01)    0    NaN   \n",
      "TWM544058U                                G06Q 40/00(2012.01)    0    NaN   \n",
      "TWM539671U                                G06Q 40/04(2012.01)    0    NaN   \n",
      "TWM538627U                                G06Q 40/02(2012.01)    0    1.0   \n",
      "TW259687B                                 A01K 67/04(2006.01)    0    3.0   \n",
      "\n",
      "                                                         專利摘要  \\\n",
      "公開/公告號                                                          \n",
      "TWM610648U  ﻿本創作係關於一種跨行金融交易整合系統，包括與開放應用程式介面通訊連接的第一及第二伺服器。第...   \n",
      "TWM610213U  ﻿一種上市櫃授信戶股價變動預警系統，其包含運算控制單元、連接單元、風險判斷單元、預警管理單元...   \n",
      "TWM610182U  ﻿本創作公開了一種員工平時考核系統，可根據相關規範當作員工平時考核依據取得考核法規資訊，透過...   \n",
      "TWM610174U  ﻿一種不動產買賣價金信託出入帳管理及通知系統，其包含運算控制單元、不動產買賣契約建立單元、虛...   \n",
      "TWM609796U  ﻿一種金融資產證券化會計結帳自動化作業系統，其包含運算控制單元、連接單元、帳務資料輸入單元、...   \n",
      "...                                                       ...   \n",
      "TWM544681U  ﻿一種帳務查詢系統，包含電子裝置以及帳務裝置。電子裝置用以接收身分進行認證之資料，並於身分被...   \n",
      "TWM544058U  ﻿一種勞工紓困貸款申辦系統，包含有一申請裝置接收一客戶的一貸款申請資料，一資料處理裝置處理貸...   \n",
      "TWM539671U  ﻿一種網路銀行交易系統包含伺服器及電子裝置。伺服器用以運行網路銀行。電子裝置通信連接於伺服器...   \n",
      "TWM538627U  ﻿貸款作業系統運作於至少一電腦主機內，其包含輸入輸出介面、記憶體以及處理器。輸入輸出介面接收...   \n",
      "TW259687B   本發明係提供一種使蠶吐絲形成平面繭之方法為目的；其特徵包括：利用蠶向上爬行之特性，以可任意調...   \n",
      "\n",
      "                                                        摘要關鍵字  \\\n",
      "公開/公告號                                                          \n",
      "TWM610648U  [(儲存模組, 4), (金融資訊, 4), (金融交易, 3), (開放應用, 3), (...   \n",
      "TWM610213U  [(授信戶股價, 2), (預警系統, 2), (運算控制, 1), (預警管理, 1), ...   \n",
      "TWM610182U  [(人力資源端, 2), (考核作業, 2), (﻿本創作, 1), (考核系統, 1), ...   \n",
      "TWM610174U  [(不動產買賣, 4), (通知系統, 1), (運算控制, 1), (契約建立, 1), ...   \n",
      "TWM609796U  [(金融資產, 2), (作業系統, 2), (運算控制, 1), (帳務資料, 1), (...   \n",
      "...                                                       ...   \n",
      "TWM544681U  [(電子裝置, 3), (儲存裝置, 3), (接收身分, 1), (賦予身分, 1), (...   \n",
      "TWM544058U  [(審核系統, 2), (貸款申辦, 1), (裝置接收, 1), (資料處理, 1), (...   \n",
      "TWM539671U  [(使用者, 7), (電子裝置, 4), (進行交易, 2), (交易系統, 1), (檢...   \n",
      "TWM538627U  [(輸入輸出, 3), (貸款借戶, 3), (撥款資料, 2), (撥款金額, 2), (...   \n",
      "TW259687B   [(蠶吐絲, 1), (平面繭, 1), (利用蠶, 1), (蠶做, 1), (提高蠶絲,...   \n",
      "\n",
      "                                                        摘要常用字  \\\n",
      "公開/公告號                                                          \n",
      "TWM610648U  [(模組, 10), (金融, 7), (交易, 5), (介面, 5), (儲存, 5),...   \n",
      "TWM610213U  [(單元, 5), (授信戶, 4), (作業, 4), (上市櫃, 3), (預警, 3)...   \n",
      "TWM610182U  [(考核, 12), (作業, 5), (員工, 4), (裝置, 3), (法規, 2),...   \n",
      "TWM610174U  [(單元, 6), (不動產, 5), (買賣, 5), (價金, 3), (信託, 3),...   \n",
      "TWM609796U  [(作業, 6), (單元, 6), (帳務, 3), (金融, 2), (資產, 2), ...   \n",
      "...                                                       ...   \n",
      "TWM544681U  [(裝置, 10), (身分, 6), (儲存, 6), (帳務, 5), (認證, 5),...   \n",
      "TWM544058U  [(貸款, 5), (裝置, 4), (資料, 4), (系統, 3), (申請, 3), ...   \n",
      "TWM539671U  [(網路, 8), (使用, 8), (者, 8), (權限, 5), (交易, 4), (...   \n",
      "TWM538627U  [(資料, 6), (金額, 5), (貸款, 4), (撥款, 4), (資訊, 4), ...   \n",
      "TW259687B   [(使, 3), (蠶, 3), (吐絲, 3), (平面, 3), (發明, 2), (形...   \n",
      "\n",
      "                                                       TF_IDF  \n",
      "公開/公告號                                                         \n",
      "TWM610648U  [(開放應用, 0.05), (金融資訊, 0.03), (金融交易, 0.05), (進行...  \n",
      "TWM610213U  [(預警系統, 0.0), (預警管理, 0.06), (運算控制, 0.06), (管控作...  \n",
      "TWM610182U  [(﻿本創作, 0.0), (進行成績, 0.0), (裝置進行, 0.0), (裝置接收,...  \n",
      "TWM610174U  [(金流資訊, 0.04), (運算控制, 0.04), (通知系統, 0.04), (通知...  \n",
      "TWM609796U  [(金融資產, 0.0), (運算控制, 0.06), (管控作業, 0.06), (帳務資...  \n",
      "...                                                       ...  \n",
      "TWM544681U  [(電子裝置, 0.17), (賦予身分, 0.15), (讀取帳務, 0.15), (裝置...  \n",
      "TWM544058U  [(通知裝置, 0.06), (通知客戶, 0.06), (輸出裝置, 0.06), (資料...  \n",
      "TWM539671U  [(電子裝置, 0.09), (進行交易, 0.12), (讀卡機插入, 0.1), (檢核...  \n",
      "TWM538627U  [(電腦主機, 0.1), (輸入輸出, 0.12), (資料欄位, 0.1), (貸款借戶...  \n",
      "TW259687B   [(蠶吐絲, 0.22), (蠶做, 0.22), (提高蠶絲, 0.22), (平面繭, ...  \n",
      "\n",
      "[270 rows x 10 columns]\n"
     ]
    },
    {
     "output_type": "stream",
     "name": "stderr",
     "text": [
      "Tokenization: 100%|██████████| 1/1 [00:00<00:00, 575.03it/s]\n",
      "Inference:   0%|          | 0/1 [00:00<?, ?it/s]"
     ]
    },
    {
     "output_type": "stream",
     "name": "stdout",
     "text": [
      "土地銀行 is done\n",
      "118\n"
     ]
    },
    {
     "output_type": "stream",
     "name": "stderr",
     "text": [
      "Inference: 100%|██████████| 1/1 [00:00<00:00,  1.65it/s]\n",
      "Tokenization: 100%|██████████| 1/1 [00:00<00:00, 805.82it/s]\n",
      "Inference: 100%|██████████| 1/1 [00:00<00:00,  1.15it/s]\n",
      "Tokenization: 100%|██████████| 1/1 [00:00<00:00, 2251.37it/s]\n",
      "Inference: 100%|██████████| 1/1 [00:00<00:00,  2.09it/s]\n",
      "Tokenization: 100%|██████████| 1/1 [00:00<00:00, 1831.57it/s]\n",
      "Inference:   0%|          | 0/1 [00:00<?, ?it/s]"
     ]
    },
    {
     "output_type": "stream",
     "name": "stdout",
     "text": [
      "Running pipeline ... done\n",
      "\n",
      "推薦名單產製系統SYSTEMS FOR GENERATING RECOMMENDATION LIST\n",
      "\n"
     ]
    },
    {
     "output_type": "stream",
     "name": "stderr",
     "text": [
      "Inference: 100%|██████████| 1/1 [00:00<00:00,  1.72it/s]\n",
      "Tokenization: 100%|██████████| 1/1 [00:00<00:00, 652.40it/s]\n",
      "Inference: 100%|██████████| 1/1 [00:00<00:00,  1.38it/s]\n",
      "Tokenization: 100%|██████████| 1/1 [00:00<00:00, 1438.87it/s]\n",
      "Inference: 100%|██████████| 1/1 [00:00<00:00,  2.12it/s]\n",
      "Tokenization: 100%|██████████| 1/1 [00:00<00:00, 1748.36it/s]\n",
      "Inference:   0%|          | 0/1 [00:00<?, ?it/s]"
     ]
    },
    {
     "output_type": "stream",
     "name": "stdout",
     "text": [
      "Running pipeline ... done\n",
      "\n",
      "適於支付保險賠款的電子裝置ELECTRONIC DEVICE SUITABLE FOR PAYING INSURANCE INDEMNITIES\n",
      "\n"
     ]
    },
    {
     "output_type": "stream",
     "name": "stderr",
     "text": [
      "Inference: 100%|██████████| 1/1 [00:00<00:00,  1.97it/s]\n",
      "Tokenization: 100%|██████████| 1/1 [00:00<00:00, 3095.43it/s]\n",
      "Inference: 100%|██████████| 1/1 [00:00<00:00,  1.23it/s]\n",
      "Tokenization: 100%|██████████| 1/1 [00:00<00:00, 1451.32it/s]\n",
      "Inference: 100%|██████████| 1/1 [00:00<00:00,  1.72it/s]\n",
      "Tokenization: 100%|██████████| 1/1 [00:00<00:00, 2486.25it/s]\n",
      "Inference:   0%|          | 0/1 [00:00<?, ?it/s]"
     ]
    },
    {
     "output_type": "stream",
     "name": "stdout",
     "text": [
      "Running pipeline ... done\n",
      "\n",
      "適於分派理賠案件的電子裝置ELECTRONIC DEVICE SUITABLE FOR ASSIGNING CLAIM CASES\n",
      "\n"
     ]
    },
    {
     "output_type": "stream",
     "name": "stderr",
     "text": [
      "Inference: 100%|██████████| 1/1 [00:00<00:00,  2.38it/s]\n",
      "Tokenization: 100%|██████████| 1/1 [00:00<00:00, 1116.10it/s]\n",
      "Inference: 100%|██████████| 1/1 [00:00<00:00,  1.10it/s]\n",
      "Tokenization: 100%|██████████| 1/1 [00:00<00:00, 2341.88it/s]\n",
      "Inference: 100%|██████████| 1/1 [00:00<00:00,  2.08it/s]\n",
      "Tokenization: 100%|██████████| 1/1 [00:00<00:00, 531.13it/s]\n",
      "Inference:   0%|          | 0/1 [00:00<?, ?it/s]"
     ]
    },
    {
     "output_type": "stream",
     "name": "stdout",
     "text": [
      "Running pipeline ... done\n",
      "\n",
      "職業代碼推薦系統NUMERICAL JOB CODE RECOMMENDATION SYSTEM\n",
      "\n"
     ]
    },
    {
     "output_type": "stream",
     "name": "stderr",
     "text": [
      "Inference: 100%|██████████| 1/1 [00:04<00:00,  4.09s/it]\n",
      "Tokenization: 100%|██████████| 1/1 [00:00<00:00, 752.61it/s]\n",
      "Inference: 100%|██████████| 1/1 [00:07<00:00,  7.87s/it]\n",
      "Tokenization: 100%|██████████| 1/1 [00:00<00:00, 338.63it/s]\n",
      "Inference: 100%|██████████| 1/1 [00:04<00:00,  4.59s/it]\n",
      "Tokenization: 100%|██████████| 1/1 [00:00<00:00, 471.06it/s]\n",
      "Inference:   0%|          | 0/1 [00:00<?, ?it/s]"
     ]
    },
    {
     "output_type": "stream",
     "name": "stdout",
     "text": [
      "Running pipeline ... done\n",
      "\n",
      "基於區塊鏈之保險系統及其保險方法BLOCKCHAIN BASED INSURANCE SYSTEM AND METHOD THEREOF\n",
      "\n"
     ]
    },
    {
     "output_type": "stream",
     "name": "stderr",
     "text": [
      "Inference: 100%|██████████| 1/1 [00:00<00:00,  1.82it/s]\n",
      "Tokenization: 100%|██████████| 1/1 [00:00<00:00, 1407.01it/s]\n",
      "Inference: 100%|██████████| 1/1 [00:00<00:00,  1.16it/s]\n",
      "Tokenization: 100%|██████████| 1/1 [00:00<00:00, 1338.32it/s]\n",
      "Inference: 100%|██████████| 1/1 [00:00<00:00,  1.91it/s]\n",
      "Tokenization: 100%|██████████| 1/1 [00:00<00:00, 803.97it/s]\n",
      "Inference:   0%|          | 0/1 [00:00<?, ?it/s]"
     ]
    },
    {
     "output_type": "stream",
     "name": "stdout",
     "text": [
      "Running pipeline ... done\n",
      "\n",
      "績效管理分析系統PERFORMANCE MANAGEMENT ANALYZING SYSTEM\n",
      "\n"
     ]
    },
    {
     "output_type": "stream",
     "name": "stderr",
     "text": [
      "Inference: 100%|██████████| 1/1 [00:02<00:00,  2.61s/it]\n",
      "Tokenization: 100%|██████████| 1/1 [00:00<00:00, 477.33it/s]\n",
      "Inference: 100%|██████████| 1/1 [00:04<00:00,  4.72s/it]\n",
      "Tokenization: 100%|██████████| 1/1 [00:00<00:00, 504.00it/s]\n",
      "Inference: 100%|██████████| 1/1 [00:02<00:00,  2.86s/it]\n",
      "Tokenization: 100%|██████████| 1/1 [00:00<00:00, 513.94it/s]\n",
      "Inference:   0%|          | 0/1 [00:00<?, ?it/s]"
     ]
    },
    {
     "output_type": "stream",
     "name": "stdout",
     "text": [
      "Running pipeline ... done\n",
      "\n",
      "表單內容辨識系統及其方法A SYSTEM AND METHOD FOR IDENTIFYING THE CONTENT OF TABLE\n",
      "\n"
     ]
    },
    {
     "output_type": "stream",
     "name": "stderr",
     "text": [
      "Inference: 100%|██████████| 1/1 [00:04<00:00,  4.12s/it]\n",
      "Tokenization: 100%|██████████| 1/1 [00:00<00:00, 377.93it/s]\n",
      "Inference: 100%|██████████| 1/1 [00:20<00:00, 20.91s/it]\n",
      "Tokenization: 100%|██████████| 1/1 [00:00<00:00, 160.44it/s]\n",
      "Inference: 100%|██████████| 1/1 [00:03<00:00,  3.67s/it]\n",
      "Tokenization: 100%|██████████| 1/1 [00:00<00:00, 2702.52it/s]\n",
      "Inference:   0%|          | 0/1 [00:00<?, ?it/s]"
     ]
    },
    {
     "output_type": "stream",
     "name": "stdout",
     "text": [
      "Running pipeline ... done\n",
      "\n",
      "資產負債模擬分析系統ASSET AND LIABILITY SIMULATION ANALYSIS SYSTEM\n",
      "\n"
     ]
    },
    {
     "output_type": "stream",
     "name": "stderr",
     "text": [
      "Inference: 100%|██████████| 1/1 [00:00<00:00,  1.68it/s]\n",
      "Tokenization: 100%|██████████| 1/1 [00:00<00:00, 1736.05it/s]\n",
      "Inference: 100%|██████████| 1/1 [00:00<00:00,  1.47it/s]\n",
      "Tokenization: 100%|██████████| 1/1 [00:00<00:00, 802.74it/s]\n",
      "Inference: 100%|██████████| 1/1 [00:00<00:00,  1.77it/s]\n",
      "Tokenization: 100%|██████████| 1/1 [00:00<00:00, 969.11it/s]\n",
      "Inference:   0%|          | 0/1 [00:00<?, ?it/s]"
     ]
    },
    {
     "output_type": "stream",
     "name": "stdout",
     "text": [
      "Running pipeline ... done\n",
      "\n",
      "線上申購系統及金融商品線上申購方法\n",
      "\n"
     ]
    },
    {
     "output_type": "stream",
     "name": "stderr",
     "text": [
      "Inference: 100%|██████████| 1/1 [00:00<00:00,  1.61it/s]\n",
      "Tokenization: 100%|██████████| 1/1 [00:00<00:00, 472.54it/s]\n",
      "Inference: 100%|██████████| 1/1 [00:01<00:00,  1.77s/it]\n",
      "Tokenization: 100%|██████████| 1/1 [00:00<00:00, 467.12it/s]\n",
      "Inference: 100%|██████████| 1/1 [00:00<00:00,  1.40it/s]\n",
      "Tokenization: 100%|██████████| 1/1 [00:00<00:00, 1576.81it/s]\n",
      "Inference:   0%|          | 0/1 [00:00<?, ?it/s]"
     ]
    },
    {
     "output_type": "stream",
     "name": "stdout",
     "text": [
      "Running pipeline ... done\n",
      "\n",
      "跨行資金轉移系統Inter-bank fund transfer system\n",
      "\n"
     ]
    },
    {
     "output_type": "stream",
     "name": "stderr",
     "text": [
      "Inference: 100%|██████████| 1/1 [00:00<00:00,  1.56it/s]\n",
      "Tokenization: 100%|██████████| 1/1 [00:00<00:00, 803.81it/s]\n",
      "Inference: 100%|██████████| 1/1 [00:00<00:00,  1.12it/s]\n",
      "Tokenization: 100%|██████████| 1/1 [00:00<00:00, 1193.60it/s]\n",
      "Inference: 100%|██████████| 1/1 [00:00<00:00,  1.77it/s]\n",
      "Tokenization: 100%|██████████| 1/1 [00:00<00:00, 322.91it/s]\n",
      "Inference:   0%|          | 0/1 [00:00<?, ?it/s]"
     ]
    },
    {
     "output_type": "stream",
     "name": "stdout",
     "text": [
      "Running pipeline ... done\n",
      "\n",
      "區塊鏈金融交易系統Blockchain financial transaction system\n",
      "\n"
     ]
    },
    {
     "output_type": "stream",
     "name": "stderr",
     "text": [
      "Inference: 100%|██████████| 1/1 [00:03<00:00,  3.68s/it]\n",
      "Tokenization: 100%|██████████| 1/1 [00:00<00:00, 397.75it/s]\n",
      "Inference: 100%|██████████| 1/1 [00:22<00:00, 22.13s/it]\n",
      "Tokenization: 100%|██████████| 1/1 [00:00<00:00, 212.94it/s]\n",
      "Inference: 100%|██████████| 1/1 [00:03<00:00,  3.54s/it]\n",
      "Tokenization: 100%|██████████| 1/1 [00:00<00:00, 678.91it/s]\n",
      "Inference:   0%|          | 0/1 [00:00<?, ?it/s]"
     ]
    },
    {
     "output_type": "stream",
     "name": "stdout",
     "text": [
      "Running pipeline ... done\n",
      "\n",
      "智能客戶貼標裝置SMART CUSTOMER TAGGING DEVICE\n",
      "\n"
     ]
    },
    {
     "output_type": "stream",
     "name": "stderr",
     "text": [
      "Inference: 100%|██████████| 1/1 [00:00<00:00,  1.76it/s]\n",
      "Tokenization: 100%|██████████| 1/1 [00:00<00:00, 2468.69it/s]\n",
      "Inference: 100%|██████████| 1/1 [00:01<00:00,  1.01s/it]\n",
      "Tokenization: 100%|██████████| 1/1 [00:00<00:00, 2652.94it/s]\n",
      "Inference: 100%|██████████| 1/1 [00:00<00:00,  1.78it/s]\n",
      "Tokenization: 100%|██████████| 1/1 [00:00<00:00, 722.91it/s]\n",
      "Inference:   0%|          | 0/1 [00:00<?, ?it/s]"
     ]
    },
    {
     "output_type": "stream",
     "name": "stdout",
     "text": [
      "Running pipeline ... done\n",
      "\n",
      "證券行情監控系統Stock market monitoring system\n",
      "\n"
     ]
    },
    {
     "output_type": "stream",
     "name": "stderr",
     "text": [
      "Inference: 100%|██████████| 1/1 [00:00<00:00,  2.15it/s]\n",
      "Tokenization: 100%|██████████| 1/1 [00:00<00:00, 2421.65it/s]\n",
      "Inference: 100%|██████████| 1/1 [00:00<00:00,  1.43it/s]\n",
      "Tokenization: 100%|██████████| 1/1 [00:00<00:00, 2718.28it/s]\n",
      "Inference: 100%|██████████| 1/1 [00:00<00:00,  2.26it/s]\n",
      "Tokenization: 100%|██████████| 1/1 [00:00<00:00, 2839.75it/s]\n",
      "Inference:   0%|          | 0/1 [00:00<?, ?it/s]"
     ]
    },
    {
     "output_type": "stream",
     "name": "stdout",
     "text": [
      "Running pipeline ... done\n",
      "\n",
      "運用深度學習之長短期記憶模型輔助保險理賠系統及其方法SYSTEM AND METHOD FOR PROCESSING INSURANCE CLAIMS USING LONG SHORT-TERM MEMORY MODEL OF DEEP LEARNING\n",
      "\n"
     ]
    },
    {
     "output_type": "stream",
     "name": "stderr",
     "text": [
      "Inference: 100%|██████████| 1/1 [00:00<00:00,  1.86it/s]\n",
      "Tokenization: 100%|██████████| 1/1 [00:00<00:00, 502.01it/s]\n",
      "Inference: 100%|██████████| 1/1 [00:00<00:00,  1.18it/s]\n",
      "Tokenization: 100%|██████████| 1/1 [00:00<00:00, 2616.53it/s]\n",
      "Inference: 100%|██████████| 1/1 [00:00<00:00,  2.28it/s]\n",
      "Tokenization: 100%|██████████| 1/1 [00:00<00:00, 829.90it/s]\n",
      "Inference:   0%|          | 0/1 [00:00<?, ?it/s]"
     ]
    },
    {
     "output_type": "stream",
     "name": "stdout",
     "text": [
      "Running pipeline ... done\n",
      "\n",
      "車禍事故之定責與定損系統及方法CLAIM ADJUSTMENT AND DAMAGE ASSESSMENT SYSTEM AND METHOD FOR MOTOR ACCIDENT\n",
      "\n"
     ]
    },
    {
     "output_type": "stream",
     "name": "stderr",
     "text": [
      "Inference: 100%|██████████| 1/1 [00:02<00:00,  2.41s/it]\n",
      "Tokenization: 100%|██████████| 1/1 [00:00<00:00, 977.69it/s]\n",
      "Inference: 100%|██████████| 1/1 [00:05<00:00,  5.10s/it]\n",
      "Tokenization: 100%|██████████| 1/1 [00:00<00:00, 799.98it/s]\n",
      "Inference: 100%|██████████| 1/1 [00:02<00:00,  2.37s/it]\n",
      "Tokenization: 100%|██████████| 1/1 [00:00<00:00, 674.00it/s]\n",
      "Inference:   0%|          | 0/1 [00:00<?, ?it/s]"
     ]
    },
    {
     "output_type": "stream",
     "name": "stdout",
     "text": [
      "Running pipeline ... done\n",
      "\n",
      "語意分析裝置SEMANTIC ANALYSIS DEVICE\n",
      "\n"
     ]
    },
    {
     "output_type": "stream",
     "name": "stderr",
     "text": [
      "Inference: 100%|██████████| 1/1 [00:04<00:00,  4.13s/it]\n",
      "Tokenization: 100%|██████████| 1/1 [00:00<00:00, 947.01it/s]\n",
      "Inference: 100%|██████████| 1/1 [00:22<00:00, 22.14s/it]\n",
      "Tokenization: 100%|██████████| 1/1 [00:00<00:00, 319.57it/s]\n",
      "Inference: 100%|██████████| 1/1 [00:03<00:00,  3.86s/it]\n",
      "Tokenization: 100%|██████████| 1/1 [00:00<00:00, 2213.35it/s]\n",
      "Inference:   0%|          | 0/1 [00:00<?, ?it/s]"
     ]
    },
    {
     "output_type": "stream",
     "name": "stdout",
     "text": [
      "Running pipeline ... done\n",
      "\n",
      "特權帳號管理系統PRIVILEGED ACCOUNT MANAGEMENT SYSTEM\n",
      "\n"
     ]
    },
    {
     "output_type": "stream",
     "name": "stderr",
     "text": [
      "Inference: 100%|██████████| 1/1 [00:00<00:00,  1.86it/s]\n",
      "Tokenization: 100%|██████████| 1/1 [00:00<00:00, 2207.53it/s]\n",
      "Inference: 100%|██████████| 1/1 [00:00<00:00,  1.45it/s]\n",
      "Tokenization: 100%|██████████| 1/1 [00:00<00:00, 2375.03it/s]\n",
      "Inference: 100%|██████████| 1/1 [00:00<00:00,  1.94it/s]\n",
      "Tokenization: 100%|██████████| 1/1 [00:00<00:00, 2178.86it/s]\n",
      "Inference:   0%|          | 0/1 [00:00<?, ?it/s]"
     ]
    },
    {
     "output_type": "stream",
     "name": "stdout",
     "text": [
      "Running pipeline ... done\n",
      "\n",
      "具調節帳戶機制的證券投資系統Securities investment system with account adjustment mechanism\n",
      "\n"
     ]
    },
    {
     "output_type": "stream",
     "name": "stderr",
     "text": [
      "Inference: 100%|██████████| 1/1 [00:00<00:00,  1.80it/s]\n",
      "Tokenization: 100%|██████████| 1/1 [00:00<00:00, 2304.56it/s]\n",
      "Inference: 100%|██████████| 1/1 [00:00<00:00,  1.19it/s]\n",
      "Tokenization: 100%|██████████| 1/1 [00:00<00:00, 732.63it/s]\n",
      "Inference: 100%|██████████| 1/1 [00:00<00:00,  1.65it/s]\n",
      "Tokenization: 100%|██████████| 1/1 [00:00<00:00, 2746.76it/s]\n",
      "Inference:   0%|          | 0/1 [00:00<?, ?it/s]"
     ]
    },
    {
     "output_type": "stream",
     "name": "stdout",
     "text": [
      "Running pipeline ... done\n",
      "\n",
      "行動授權管理裝置及行動授權管理系統Mobile authorization management device and mobile authorization management system\n",
      "\n"
     ]
    },
    {
     "output_type": "stream",
     "name": "stderr",
     "text": [
      "Inference: 100%|██████████| 1/1 [00:00<00:00,  1.47it/s]\n",
      "Tokenization: 100%|██████████| 1/1 [00:00<00:00, 1647.41it/s]\n",
      "Inference: 100%|██████████| 1/1 [00:00<00:00,  1.15it/s]\n",
      "Tokenization: 100%|██████████| 1/1 [00:00<00:00, 1570.31it/s]\n",
      "Inference: 100%|██████████| 1/1 [00:00<00:00,  1.84it/s]\n",
      "Tokenization: 100%|██████████| 1/1 [00:00<00:00, 1173.56it/s]\n",
      "Inference:   0%|          | 0/1 [00:00<?, ?it/s]"
     ]
    },
    {
     "output_type": "stream",
     "name": "stdout",
     "text": [
      "Running pipeline ... done\n",
      "\n",
      "行動銀行系統Mobile banking system\n",
      "\n"
     ]
    },
    {
     "output_type": "stream",
     "name": "stderr",
     "text": [
      "Inference: 100%|██████████| 1/1 [00:00<00:00,  1.71it/s]\n",
      "Tokenization: 100%|██████████| 1/1 [00:00<00:00, 1666.39it/s]\n",
      "Inference: 100%|██████████| 1/1 [00:01<00:00,  1.04s/it]\n",
      "Tokenization: 100%|██████████| 1/1 [00:00<00:00, 1552.87it/s]\n",
      "Inference: 100%|██████████| 1/1 [00:00<00:00,  1.86it/s]\n",
      "Tokenization: 100%|██████████| 1/1 [00:00<00:00, 1657.83it/s]\n",
      "Inference:   0%|          | 0/1 [00:00<?, ?it/s]"
     ]
    },
    {
     "output_type": "stream",
     "name": "stdout",
     "text": [
      "Running pipeline ... done\n",
      "\n",
      "企業申貸評估系統Enterprise loan evaluation system\n",
      "\n"
     ]
    },
    {
     "output_type": "stream",
     "name": "stderr",
     "text": [
      "Inference: 100%|██████████| 1/1 [00:00<00:00,  1.41it/s]\n",
      "Tokenization: 100%|██████████| 1/1 [00:00<00:00, 794.98it/s]\n",
      "Inference: 100%|██████████| 1/1 [00:01<00:00,  1.09s/it]\n",
      "Tokenization: 100%|██████████| 1/1 [00:00<00:00, 1392.53it/s]\n",
      "Inference: 100%|██████████| 1/1 [00:00<00:00,  1.51it/s]\n",
      "Tokenization: 100%|██████████| 1/1 [00:00<00:00, 1160.25it/s]\n",
      "Inference:   0%|          | 0/1 [00:00<?, ?it/s]"
     ]
    },
    {
     "output_type": "stream",
     "name": "stdout",
     "text": [
      "Running pipeline ... done\n",
      "\n",
      "智慧獎勵系統Smart reward system\n",
      "\n"
     ]
    },
    {
     "output_type": "stream",
     "name": "stderr",
     "text": [
      "Inference: 100%|██████████| 1/1 [00:00<00:00,  1.69it/s]\n",
      "Tokenization: 100%|██████████| 1/1 [00:00<00:00, 1508.20it/s]\n",
      "Inference: 100%|██████████| 1/1 [00:00<00:00,  1.15it/s]\n",
      "Tokenization: 100%|██████████| 1/1 [00:00<00:00, 1472.72it/s]\n",
      "Inference: 100%|██████████| 1/1 [00:00<00:00,  1.75it/s]\n",
      "Tokenization: 100%|██████████| 1/1 [00:00<00:00, 718.45it/s]\n",
      "Inference:   0%|          | 0/1 [00:00<?, ?it/s]"
     ]
    },
    {
     "output_type": "stream",
     "name": "stdout",
     "text": [
      "Running pipeline ... done\n",
      "\n",
      "金融商品篩選並揭示回測結果方法及系統\n",
      "\n"
     ]
    },
    {
     "output_type": "stream",
     "name": "stderr",
     "text": [
      "Inference: 100%|██████████| 1/1 [00:04<00:00,  4.18s/it]\n",
      "Tokenization: 100%|██████████| 1/1 [00:00<00:00, 1044.92it/s]\n",
      "Inference: 100%|██████████| 1/1 [00:13<00:00, 13.29s/it]\n",
      "Tokenization: 100%|██████████| 1/1 [00:00<00:00, 351.11it/s]\n",
      "Inference: 100%|██████████| 1/1 [00:03<00:00,  3.65s/it]\n",
      "Tokenization: 100%|██████████| 1/1 [00:00<00:00, 2101.35it/s]\n",
      "Inference:   0%|          | 0/1 [00:00<?, ?it/s]"
     ]
    },
    {
     "output_type": "stream",
     "name": "stdout",
     "text": [
      "Running pipeline ... done\n",
      "\n",
      "資料去識別化系統DATA DE-IDENTIFICATION SYSTEM\n",
      "\n"
     ]
    },
    {
     "output_type": "stream",
     "name": "stderr",
     "text": [
      "Inference: 100%|██████████| 1/1 [00:00<00:00,  1.65it/s]\n",
      "Tokenization: 100%|██████████| 1/1 [00:00<00:00, 1869.95it/s]\n",
      "Inference: 100%|██████████| 1/1 [00:01<00:00,  1.01s/it]\n",
      "Tokenization: 100%|██████████| 1/1 [00:00<00:00, 1119.68it/s]\n",
      "Inference: 100%|██████████| 1/1 [00:00<00:00,  1.71it/s]\n",
      "Tokenization: 100%|██████████| 1/1 [00:00<00:00, 2481.84it/s]\n",
      "Inference:   0%|          | 0/1 [00:00<?, ?it/s]"
     ]
    },
    {
     "output_type": "stream",
     "name": "stdout",
     "text": [
      "Running pipeline ... done\n",
      "\n",
      "電子招標系統Electronic bidding system\n",
      "\n"
     ]
    },
    {
     "output_type": "stream",
     "name": "stderr",
     "text": [
      "Inference: 100%|██████████| 1/1 [00:00<00:00,  2.00it/s]\n",
      "Tokenization: 100%|██████████| 1/1 [00:00<00:00, 1995.39it/s]\n",
      "Inference: 100%|██████████| 1/1 [00:00<00:00,  1.19it/s]\n",
      "Tokenization: 100%|██████████| 1/1 [00:00<00:00, 2198.27it/s]\n",
      "Inference: 100%|██████████| 1/1 [00:00<00:00,  2.24it/s]\n",
      "Tokenization: 100%|██████████| 1/1 [00:00<00:00, 1647.41it/s]\n",
      "Inference:   0%|          | 0/1 [00:00<?, ?it/s]"
     ]
    },
    {
     "output_type": "stream",
     "name": "stdout",
     "text": [
      "Running pipeline ... done\n",
      "\n",
      "工程規劃管理系統ENGINEERING PLANNING MANAGEMENT SYSTEM\n",
      "\n"
     ]
    },
    {
     "output_type": "stream",
     "name": "stderr",
     "text": [
      "Inference: 100%|██████████| 1/1 [00:00<00:00,  1.58it/s]\n",
      "Tokenization: 100%|██████████| 1/1 [00:00<00:00, 1837.99it/s]\n",
      "Inference: 100%|██████████| 1/1 [00:00<00:00,  1.02it/s]\n",
      "Tokenization: 100%|██████████| 1/1 [00:00<00:00, 1140.07it/s]\n",
      "Inference: 100%|██████████| 1/1 [00:00<00:00,  1.74it/s]\n",
      "Tokenization: 100%|██████████| 1/1 [00:00<00:00, 2192.53it/s]\n",
      "Inference:   0%|          | 0/1 [00:00<?, ?it/s]"
     ]
    },
    {
     "output_type": "stream",
     "name": "stdout",
     "text": [
      "Running pipeline ... done\n",
      "\n",
      "企業財務曝險管理系統EXPOSURE MANAGEMENT SYSTEM OF CORPORATE FINANCE\n",
      "\n"
     ]
    },
    {
     "output_type": "stream",
     "name": "stderr",
     "text": [
      "Inference: 100%|██████████| 1/1 [00:00<00:00,  2.04it/s]\n",
      "Tokenization: 100%|██████████| 1/1 [00:00<00:00, 2252.58it/s]\n",
      "Inference: 100%|██████████| 1/1 [00:00<00:00,  1.09it/s]\n",
      "Tokenization: 100%|██████████| 1/1 [00:00<00:00, 2438.55it/s]\n",
      "Inference: 100%|██████████| 1/1 [00:00<00:00,  1.99it/s]\n",
      "Tokenization: 100%|██████████| 1/1 [00:00<00:00, 3663.15it/s]\n",
      "Inference:   0%|          | 0/1 [00:00<?, ?it/s]"
     ]
    },
    {
     "output_type": "stream",
     "name": "stdout",
     "text": [
      "Running pipeline ... done\n",
      "\n",
      "基於知識圖譜資料庫之商品推薦系統Commodity recommendation system based on knowledge graph database\n",
      "\n"
     ]
    },
    {
     "output_type": "stream",
     "name": "stderr",
     "text": [
      "Inference: 100%|██████████| 1/1 [00:00<00:00,  2.95it/s]\n",
      "Tokenization: 100%|██████████| 1/1 [00:00<00:00, 1926.64it/s]\n",
      "Inference: 100%|██████████| 1/1 [00:00<00:00,  2.16it/s]\n",
      "Tokenization: 100%|██████████| 1/1 [00:00<00:00, 2898.62it/s]\n",
      "Inference: 100%|██████████| 1/1 [00:00<00:00,  3.10it/s]\n",
      "Tokenization: 100%|██████████| 1/1 [00:00<00:00, 2319.86it/s]\n",
      "Inference:   0%|          | 0/1 [00:00<?, ?it/s]"
     ]
    },
    {
     "output_type": "stream",
     "name": "stdout",
     "text": [
      "Running pipeline ... done\n",
      "\n",
      "用於遠端現場事故影像與身份驗證的系統與方法METHOD AND SYSTEM FOR VERIFYING REMOTE ACCIDENT SCENE IMAGE AND IDENTITY\n",
      "\n"
     ]
    },
    {
     "output_type": "stream",
     "name": "stderr",
     "text": [
      "Inference: 100%|██████████| 1/1 [00:00<00:00,  2.24it/s]\n",
      "Tokenization: 100%|██████████| 1/1 [00:00<00:00, 2283.24it/s]\n",
      "Inference: 100%|██████████| 1/1 [00:00<00:00,  1.41it/s]\n",
      "Tokenization: 100%|██████████| 1/1 [00:00<00:00, 2610.02it/s]\n",
      "Inference: 100%|██████████| 1/1 [00:00<00:00,  2.26it/s]\n",
      "Tokenization: 100%|██████████| 1/1 [00:00<00:00, 2464.34it/s]\n",
      "Inference:   0%|          | 0/1 [00:00<?, ?it/s]"
     ]
    },
    {
     "output_type": "stream",
     "name": "stdout",
     "text": [
      "Running pipeline ... done\n",
      "\n",
      "文物件收發管理系統Document and article transceiving management system\n",
      "\n"
     ]
    },
    {
     "output_type": "stream",
     "name": "stderr",
     "text": [
      "Inference: 100%|██████████| 1/1 [00:00<00:00,  1.79it/s]\n",
      "Tokenization: 100%|██████████| 1/1 [00:00<00:00, 2091.92it/s]\n",
      "Inference: 100%|██████████| 1/1 [00:01<00:00,  1.25s/it]\n",
      "Tokenization: 100%|██████████| 1/1 [00:00<00:00, 2325.00it/s]\n",
      "Inference: 100%|██████████| 1/1 [00:00<00:00,  1.78it/s]\n",
      "Tokenization: 100%|██████████| 1/1 [00:00<00:00, 3368.92it/s]\n",
      "Inference:   0%|          | 0/1 [00:00<?, ?it/s]"
     ]
    },
    {
     "output_type": "stream",
     "name": "stdout",
     "text": [
      "Running pipeline ... done\n",
      "\n",
      "基於區塊鏈之保險系統BLOCKCHAIN BASED INSURANCE SYSTEM\n",
      "\n"
     ]
    },
    {
     "output_type": "stream",
     "name": "stderr",
     "text": [
      "Inference: 100%|██████████| 1/1 [00:00<00:00,  2.64it/s]\n",
      "Tokenization: 100%|██████████| 1/1 [00:00<00:00, 2562.19it/s]\n",
      "Inference: 100%|██████████| 1/1 [00:00<00:00,  1.73it/s]\n",
      "Tokenization: 100%|██████████| 1/1 [00:00<00:00, 3236.35it/s]\n",
      "Inference: 100%|██████████| 1/1 [00:00<00:00,  2.51it/s]\n",
      "Tokenization: 100%|██████████| 1/1 [00:00<00:00, 1916.08it/s]\n",
      "Inference:   0%|          | 0/1 [00:00<?, ?it/s]"
     ]
    },
    {
     "output_type": "stream",
     "name": "stdout",
     "text": [
      "Running pipeline ... done\n",
      "\n",
      "表單內容辨識系統Form content identification system\n",
      "\n"
     ]
    },
    {
     "output_type": "stream",
     "name": "stderr",
     "text": [
      "Inference: 100%|██████████| 1/1 [00:00<00:00,  1.87it/s]\n",
      "Tokenization: 100%|██████████| 1/1 [00:00<00:00, 1834.78it/s]\n",
      "Inference: 100%|██████████| 1/1 [00:00<00:00,  1.39it/s]\n",
      "Tokenization: 100%|██████████| 1/1 [00:00<00:00, 1750.54it/s]\n",
      "Inference: 100%|██████████| 1/1 [00:00<00:00,  1.89it/s]\n",
      "Tokenization: 100%|██████████| 1/1 [00:00<00:00, 1851.79it/s]\n",
      "Inference:   0%|          | 0/1 [00:00<?, ?it/s]"
     ]
    },
    {
     "output_type": "stream",
     "name": "stdout",
     "text": [
      "Running pipeline ... done\n",
      "\n",
      "租賃管理系統Lease management system\n",
      "\n"
     ]
    },
    {
     "output_type": "stream",
     "name": "stderr",
     "text": [
      "Inference: 100%|██████████| 1/1 [00:00<00:00,  1.39it/s]\n",
      "Tokenization: 100%|██████████| 1/1 [00:00<00:00, 1108.72it/s]\n",
      "Inference: 100%|██████████| 1/1 [00:01<00:00,  1.75s/it]\n",
      "Tokenization: 100%|██████████| 1/1 [00:00<00:00, 1250.17it/s]\n",
      "Inference: 100%|██████████| 1/1 [00:00<00:00,  1.35it/s]\n",
      "Tokenization: 100%|██████████| 1/1 [00:00<00:00, 2174.34it/s]\n",
      "Inference:   0%|          | 0/1 [00:00<?, ?it/s]"
     ]
    },
    {
     "output_type": "stream",
     "name": "stdout",
     "text": [
      "Running pipeline ... done\n",
      "\n",
      "商品裝箱建議系統Commodity packing suggestion system\n",
      "\n"
     ]
    },
    {
     "output_type": "stream",
     "name": "stderr",
     "text": [
      "Inference: 100%|██████████| 1/1 [00:00<00:00,  1.85it/s]\n",
      "Tokenization: 100%|██████████| 1/1 [00:00<00:00, 2381.77it/s]\n",
      "Inference: 100%|██████████| 1/1 [00:00<00:00,  1.30it/s]\n",
      "Tokenization: 100%|██████████| 1/1 [00:00<00:00, 2319.86it/s]\n",
      "Inference: 100%|██████████| 1/1 [00:00<00:00,  1.88it/s]\n",
      "Tokenization: 100%|██████████| 1/1 [00:00<00:00, 801.20it/s]\n",
      "Inference:   0%|          | 0/1 [00:00<?, ?it/s]"
     ]
    },
    {
     "output_type": "stream",
     "name": "stdout",
     "text": [
      "Running pipeline ... done\n",
      "\n",
      "分散式車險評估系統及其方法DECENTRALIZED VEHICLE RISK ASSESSMENT SYSTEM AND METHOD THEREOF\n",
      "\n"
     ]
    },
    {
     "output_type": "stream",
     "name": "stderr",
     "text": [
      "Inference: 100%|██████████| 1/1 [00:02<00:00,  2.59s/it]\n",
      "Tokenization: 100%|██████████| 1/1 [00:00<00:00, 775.86it/s]\n",
      "Inference: 100%|██████████| 1/1 [00:07<00:00,  7.09s/it]\n",
      "Tokenization: 100%|██████████| 1/1 [00:00<00:00, 1415.08it/s]\n",
      "Inference: 100%|██████████| 1/1 [00:02<00:00,  2.54s/it]\n",
      "Tokenization: 100%|██████████| 1/1 [00:00<00:00, 698.70it/s]\n",
      "Inference:   0%|          | 0/1 [00:00<?, ?it/s]"
     ]
    },
    {
     "output_type": "stream",
     "name": "stdout",
     "text": [
      "Running pipeline ... done\n",
      "\n",
      "基於選購商品之保險推薦與購買系統SYSTEM FOR RECOMMENDING AND PURCHASING INSURANCE BASED ON SELECTED GOODS\n",
      "\n"
     ]
    },
    {
     "output_type": "stream",
     "name": "stderr",
     "text": [
      "Inference: 100%|██████████| 1/1 [00:00<00:00,  1.37it/s]\n",
      "Tokenization: 100%|██████████| 1/1 [00:00<00:00, 655.36it/s]\n",
      "Inference: 100%|██████████| 1/1 [00:00<00:00,  1.07it/s]\n",
      "Tokenization: 100%|██████████| 1/1 [00:00<00:00, 2431.48it/s]\n",
      "Inference: 100%|██████████| 1/1 [00:00<00:00,  1.84it/s]\n",
      "Tokenization: 100%|██████████| 1/1 [00:00<00:00, 1626.33it/s]\n",
      "Inference:   0%|          | 0/1 [00:00<?, ?it/s]"
     ]
    },
    {
     "output_type": "stream",
     "name": "stdout",
     "text": [
      "Running pipeline ... done\n",
      "\n",
      "使用智能合約進行保險理賠之系統及其方法SYSTEM FOR USING SMART CONTRACTS FOR INSURANCE CLAIMS AND METHOD THEREOF\n",
      "\n"
     ]
    },
    {
     "output_type": "stream",
     "name": "stderr",
     "text": [
      "Inference: 100%|██████████| 1/1 [00:00<00:00,  1.47it/s]\n",
      "Tokenization: 100%|██████████| 1/1 [00:00<00:00, 1607.63it/s]\n",
      "Inference: 100%|██████████| 1/1 [00:01<00:00,  1.03s/it]\n",
      "Tokenization: 100%|██████████| 1/1 [00:00<00:00, 1922.23it/s]\n",
      "Inference: 100%|██████████| 1/1 [00:00<00:00,  1.65it/s]\n",
      "Tokenization: 100%|██████████| 1/1 [00:00<00:00, 2032.12it/s]\n",
      "Inference:   0%|          | 0/1 [00:00<?, ?it/s]"
     ]
    },
    {
     "output_type": "stream",
     "name": "stdout",
     "text": [
      "Running pipeline ... done\n",
      "\n",
      "依據使用者網路瀏覽紀錄的商品購買評估系統Product purchase evaluation system based on user web browsing history\n",
      "\n"
     ]
    },
    {
     "output_type": "stream",
     "name": "stderr",
     "text": [
      "Inference: 100%|██████████| 1/1 [00:00<00:00,  1.80it/s]\n",
      "Tokenization: 100%|██████████| 1/1 [00:00<00:00, 1639.04it/s]\n",
      "Inference: 100%|██████████| 1/1 [00:00<00:00,  1.10it/s]\n",
      "Tokenization: 100%|██████████| 1/1 [00:00<00:00, 1150.39it/s]\n",
      "Inference: 100%|██████████| 1/1 [00:00<00:00,  1.87it/s]\n",
      "Tokenization: 100%|██████████| 1/1 [00:00<00:00, 1760.83it/s]\n",
      "Inference:   0%|          | 0/1 [00:00<?, ?it/s]"
     ]
    },
    {
     "output_type": "stream",
     "name": "stdout",
     "text": [
      "Running pipeline ... done\n",
      "\n",
      "物資管理系統MATERIAL MANAGEMENT SYSTEM\n",
      "\n"
     ]
    },
    {
     "output_type": "stream",
     "name": "stderr",
     "text": [
      "Inference: 100%|██████████| 1/1 [00:00<00:00,  1.76it/s]\n",
      "Tokenization: 100%|██████████| 1/1 [00:00<00:00, 1964.55it/s]\n",
      "Inference: 100%|██████████| 1/1 [00:00<00:00,  1.06it/s]\n",
      "Tokenization: 100%|██████████| 1/1 [00:00<00:00, 1431.01it/s]\n",
      "Inference: 100%|██████████| 1/1 [00:00<00:00,  1.60it/s]\n",
      "Tokenization: 100%|██████████| 1/1 [00:00<00:00, 1834.78it/s]\n",
      "Inference:   0%|          | 0/1 [00:00<?, ?it/s]"
     ]
    },
    {
     "output_type": "stream",
     "name": "stdout",
     "text": [
      "Running pipeline ... done\n",
      "\n",
      "業務聯繫表單管理系統Business contact form management system\n",
      "\n"
     ]
    },
    {
     "output_type": "stream",
     "name": "stderr",
     "text": [
      "Inference: 100%|██████████| 1/1 [00:00<00:00,  1.55it/s]\n",
      "Tokenization: 100%|██████████| 1/1 [00:00<00:00, 1952.66it/s]\n",
      "Inference: 100%|██████████| 1/1 [00:01<00:00,  1.03s/it]\n",
      "Tokenization: 100%|██████████| 1/1 [00:00<00:00, 2232.20it/s]\n",
      "Inference: 100%|██████████| 1/1 [00:00<00:00,  1.62it/s]\n",
      "Tokenization: 100%|██████████| 1/1 [00:00<00:00, 2470.14it/s]\n",
      "Inference:   0%|          | 0/1 [00:00<?, ?it/s]"
     ]
    },
    {
     "output_type": "stream",
     "name": "stdout",
     "text": [
      "Running pipeline ... done\n",
      "\n",
      "文件請領作業與管理系統Document requesting operation and management system\n",
      "\n"
     ]
    },
    {
     "output_type": "stream",
     "name": "stderr",
     "text": [
      "Inference: 100%|██████████| 1/1 [00:00<00:00,  2.28it/s]\n",
      "Tokenization: 100%|██████████| 1/1 [00:00<00:00, 1569.72it/s]\n",
      "Inference: 100%|██████████| 1/1 [00:00<00:00,  1.36it/s]\n",
      "Tokenization: 100%|██████████| 1/1 [00:00<00:00, 2777.68it/s]\n",
      "Inference: 100%|██████████| 1/1 [00:00<00:00,  2.33it/s]\n",
      "Tokenization: 100%|██████████| 1/1 [00:00<00:00, 2247.75it/s]\n",
      "Inference:   0%|          | 0/1 [00:00<?, ?it/s]"
     ]
    },
    {
     "output_type": "stream",
     "name": "stdout",
     "text": [
      "Running pipeline ... done\n",
      "\n",
      "商品出貨系統Commodity shipping system\n",
      "\n"
     ]
    },
    {
     "output_type": "stream",
     "name": "stderr",
     "text": [
      "Inference: 100%|██████████| 1/1 [00:00<00:00,  1.79it/s]\n",
      "Tokenization: 100%|██████████| 1/1 [00:00<00:00, 657.83it/s]\n",
      "Inference: 100%|██████████| 1/1 [00:01<00:00,  1.07s/it]\n",
      "Tokenization: 100%|██████████| 1/1 [00:00<00:00, 2293.22it/s]\n",
      "Inference: 100%|██████████| 1/1 [00:00<00:00,  1.47it/s]\n",
      "Tokenization: 100%|██████████| 1/1 [00:00<00:00, 1080.17it/s]\n",
      "Inference:   0%|          | 0/1 [00:00<?, ?it/s]"
     ]
    },
    {
     "output_type": "stream",
     "name": "stdout",
     "text": [
      "Running pipeline ... done\n",
      "\n",
      "企業風險評估與保險規劃系統及方法RISK ASSESSMENT AND INSURANCE PLANNING SYSTEM AND METHOD FOR INSURANCE OF ENTERPRISE\n",
      "\n"
     ]
    },
    {
     "output_type": "stream",
     "name": "stderr",
     "text": [
      "Inference: 100%|██████████| 1/1 [00:00<00:00,  1.85it/s]\n",
      "Tokenization: 100%|██████████| 1/1 [00:00<00:00, 2128.01it/s]\n",
      "Inference: 100%|██████████| 1/1 [00:00<00:00,  1.43it/s]\n",
      "Tokenization: 100%|██████████| 1/1 [00:00<00:00, 2501.08it/s]\n",
      "Inference: 100%|██████████| 1/1 [00:00<00:00,  1.46it/s]\n",
      "Tokenization: 100%|██████████| 1/1 [00:00<00:00, 1831.57it/s]\n",
      "Inference:   0%|          | 0/1 [00:00<?, ?it/s]"
     ]
    },
    {
     "output_type": "stream",
     "name": "stdout",
     "text": [
      "Running pipeline ... done\n",
      "\n",
      "關係人查核系統Stakeholder review system\n",
      "\n"
     ]
    },
    {
     "output_type": "stream",
     "name": "stderr",
     "text": [
      "Inference: 100%|██████████| 1/1 [00:00<00:00,  1.50it/s]\n",
      "Tokenization: 100%|██████████| 1/1 [00:00<00:00, 1440.85it/s]\n",
      "Inference: 100%|██████████| 1/1 [00:00<00:00,  1.30it/s]\n",
      "Tokenization: 100%|██████████| 1/1 [00:00<00:00, 1046.22it/s]\n",
      "Inference: 100%|██████████| 1/1 [00:00<00:00,  1.91it/s]\n",
      "Tokenization: 100%|██████████| 1/1 [00:00<00:00, 608.31it/s]\n",
      "Inference:   0%|          | 0/1 [00:00<?, ?it/s]"
     ]
    },
    {
     "output_type": "stream",
     "name": "stdout",
     "text": [
      "Running pipeline ... done\n",
      "\n",
      "折價券管理系統及其方法COUPON MANAGEMENT SYSTEM AND METHOD THEREOF\n",
      "\n"
     ]
    },
    {
     "output_type": "stream",
     "name": "stderr",
     "text": [
      "Inference: 100%|██████████| 1/1 [00:02<00:00,  2.51s/it]\n",
      "Tokenization: 100%|██████████| 1/1 [00:00<00:00, 821.61it/s]\n",
      "Inference: 100%|██████████| 1/1 [00:04<00:00,  4.79s/it]\n",
      "Tokenization: 100%|██████████| 1/1 [00:00<00:00, 650.18it/s]\n",
      "Inference: 100%|██████████| 1/1 [00:02<00:00,  2.56s/it]\n",
      "Tokenization: 100%|██████████| 1/1 [00:00<00:00, 773.43it/s]\n",
      "Inference:   0%|          | 0/1 [00:00<?, ?it/s]"
     ]
    },
    {
     "output_type": "stream",
     "name": "stdout",
     "text": [
      "Running pipeline ... done\n",
      "\n",
      "運用深度學習技術之保險理賠系統SYSTEM FOR DEEP LEARNING BASED INSURANCE CLAIMING\n",
      "\n"
     ]
    },
    {
     "output_type": "stream",
     "name": "stderr",
     "text": [
      "Inference: 100%|██████████| 1/1 [00:02<00:00,  2.36s/it]\n",
      "Tokenization: 100%|██████████| 1/1 [00:00<00:00, 880.97it/s]\n",
      "Inference: 100%|██████████| 1/1 [00:06<00:00,  6.08s/it]\n",
      "Tokenization: 100%|██████████| 1/1 [00:00<00:00, 469.53it/s]\n",
      "Inference: 100%|██████████| 1/1 [00:02<00:00,  2.43s/it]\n",
      "Tokenization: 100%|██████████| 1/1 [00:00<00:00, 1141.93it/s]\n",
      "Inference:   0%|          | 0/1 [00:00<?, ?it/s]"
     ]
    },
    {
     "output_type": "stream",
     "name": "stdout",
     "text": [
      "Running pipeline ... done\n",
      "\n",
      "運用深度學習之長短期記憶模型輔助保險理賠系統SYSTEM FOR PROCESSING INSURANCE CLAIMS USING LONG-SHORT TERM MEMORY MODEL OF DEEP LEARNING\n",
      "\n"
     ]
    },
    {
     "output_type": "stream",
     "name": "stderr",
     "text": [
      "Inference: 100%|██████████| 1/1 [00:03<00:00,  3.04s/it]\n",
      "Tokenization: 100%|██████████| 1/1 [00:00<00:00, 918.39it/s]\n",
      "Inference: 100%|██████████| 1/1 [00:04<00:00,  4.36s/it]\n",
      "Tokenization: 100%|██████████| 1/1 [00:00<00:00, 482.66it/s]\n",
      "Inference: 100%|██████████| 1/1 [00:02<00:00,  2.65s/it]\n",
      "Tokenization: 100%|██████████| 1/1 [00:00<00:00, 573.38it/s]\n",
      "Inference:   0%|          | 0/1 [00:00<?, ?it/s]"
     ]
    },
    {
     "output_type": "stream",
     "name": "stdout",
     "text": [
      "Running pipeline ... done\n",
      "\n",
      "簽名驗證系統SIGNATURE VERIFICATION SYSTEM\n",
      "\n"
     ]
    },
    {
     "output_type": "stream",
     "name": "stderr",
     "text": [
      "Inference: 100%|██████████| 1/1 [00:02<00:00,  2.62s/it]\n",
      "Tokenization: 100%|██████████| 1/1 [00:00<00:00, 932.07it/s]\n",
      "Inference: 100%|██████████| 1/1 [00:04<00:00,  4.58s/it]\n",
      "Tokenization: 100%|██████████| 1/1 [00:00<00:00, 766.22it/s]\n",
      "Inference: 100%|██████████| 1/1 [00:02<00:00,  2.53s/it]\n",
      "Tokenization: 100%|██████████| 1/1 [00:00<00:00, 2857.16it/s]\n",
      "Inference:   0%|          | 0/1 [00:00<?, ?it/s]"
     ]
    },
    {
     "output_type": "stream",
     "name": "stdout",
     "text": [
      "Running pipeline ... done\n",
      "\n",
      "證件識別系統DOCUMENT VERIFICATION SYSTEM\n",
      "\n"
     ]
    },
    {
     "output_type": "stream",
     "name": "stderr",
     "text": [
      "Inference: 100%|██████████| 1/1 [00:00<00:00,  1.64it/s]\n",
      "Tokenization: 100%|██████████| 1/1 [00:00<00:00, 2197.12it/s]\n",
      "Inference: 100%|██████████| 1/1 [00:01<00:00,  1.22s/it]\n",
      "Tokenization: 100%|██████████| 1/1 [00:00<00:00, 2347.12it/s]\n",
      "Inference: 100%|██████████| 1/1 [00:00<00:00,  1.69it/s]\n",
      "Tokenization: 100%|██████████| 1/1 [00:00<00:00, 1062.93it/s]\n",
      "Inference:   0%|          | 0/1 [00:00<?, ?it/s]"
     ]
    },
    {
     "output_type": "stream",
     "name": "stdout",
     "text": [
      "Running pipeline ... done\n",
      "\n",
      "訊號廣播系統Signal broadcasting system\n",
      "\n"
     ]
    },
    {
     "output_type": "stream",
     "name": "stderr",
     "text": [
      "Inference: 100%|██████████| 1/1 [00:03<00:00,  3.01s/it]\n",
      "Tokenization: 100%|██████████| 1/1 [00:00<00:00, 508.40it/s]\n",
      "Inference: 100%|██████████| 1/1 [00:06<00:00,  6.33s/it]\n",
      "Tokenization: 100%|██████████| 1/1 [00:00<00:00, 1045.96it/s]\n",
      "Inference: 100%|██████████| 1/1 [00:02<00:00,  2.55s/it]\n",
      "Tokenization: 100%|██████████| 1/1 [00:00<00:00, 574.48it/s]\n",
      "Inference:   0%|          | 0/1 [00:00<?, ?it/s]"
     ]
    },
    {
     "output_type": "stream",
     "name": "stdout",
     "text": [
      "Running pipeline ... done\n",
      "\n",
      "基於上下文文意之保單辨識及提取系統A CONTEXT-BASED POLICY IDENTIFICATION AND EXTRACTION SYSTEM\n",
      "\n"
     ]
    },
    {
     "output_type": "stream",
     "name": "stderr",
     "text": [
      "Inference: 100%|██████████| 1/1 [00:03<00:00,  3.77s/it]\n",
      "Tokenization: 100%|██████████| 1/1 [00:00<00:00, 850.94it/s]\n",
      "Inference: 100%|██████████| 1/1 [00:20<00:00, 20.32s/it]\n",
      "Tokenization: 100%|██████████| 1/1 [00:00<00:00, 104.31it/s]\n",
      "Inference: 100%|██████████| 1/1 [00:03<00:00,  3.73s/it]\n",
      "Tokenization: 100%|██████████| 1/1 [00:00<00:00, 1381.52it/s]\n",
      "Inference:   0%|          | 0/1 [00:00<?, ?it/s]"
     ]
    },
    {
     "output_type": "stream",
     "name": "stdout",
     "text": [
      "Running pipeline ... done\n",
      "\n",
      "企業財務曝險管理系統EXPOSURE MANAGEMENT SYSTEM OF CORPORATE FINANCE\n",
      "\n"
     ]
    },
    {
     "output_type": "stream",
     "name": "stderr",
     "text": [
      "Inference: 100%|██████████| 1/1 [00:01<00:00,  1.36s/it]\n",
      "Tokenization: 100%|██████████| 1/1 [00:00<00:00, 548.85it/s]\n",
      "Inference: 100%|██████████| 1/1 [00:03<00:00,  3.22s/it]\n",
      "Tokenization: 100%|██████████| 1/1 [00:00<00:00, 1562.12it/s]\n",
      "Inference: 100%|██████████| 1/1 [00:01<00:00,  1.15s/it]\n",
      "Tokenization: 100%|██████████| 1/1 [00:00<00:00, 385.97it/s]\n",
      "Inference:   0%|          | 0/1 [00:00<?, ?it/s]"
     ]
    },
    {
     "output_type": "stream",
     "name": "stdout",
     "text": [
      "Running pipeline ... done\n",
      "\n",
      "法令遵循管理系統A REGULATORY COMPLIANCE MANAGEMENT SYSTEM\n",
      "\n"
     ]
    },
    {
     "output_type": "stream",
     "name": "stderr",
     "text": [
      "Inference: 100%|██████████| 1/1 [00:04<00:00,  4.16s/it]\n",
      "Tokenization: 100%|██████████| 1/1 [00:00<00:00, 696.73it/s]\n",
      "Inference: 100%|██████████| 1/1 [00:17<00:00, 17.91s/it]\n",
      "Tokenization: 100%|██████████| 1/1 [00:00<00:00, 240.26it/s]\n",
      "Inference: 100%|██████████| 1/1 [00:03<00:00,  3.86s/it]\n",
      "Tokenization: 100%|██████████| 1/1 [00:00<00:00, 2118.34it/s]\n",
      "Inference:   0%|          | 0/1 [00:00<?, ?it/s]"
     ]
    },
    {
     "output_type": "stream",
     "name": "stdout",
     "text": [
      "Running pipeline ... done\n",
      "\n",
      "理賠審核流程控制裝置DEVICE FOR CLAIMS REVIEWING PROCESS CONTROLLING\n",
      "\n"
     ]
    },
    {
     "output_type": "stream",
     "name": "stderr",
     "text": [
      "Inference: 100%|██████████| 1/1 [00:00<00:00,  1.70it/s]\n",
      "Tokenization: 100%|██████████| 1/1 [00:00<00:00, 2421.65it/s]\n",
      "Inference: 100%|██████████| 1/1 [00:01<00:00,  1.50s/it]\n",
      "Tokenization: 100%|██████████| 1/1 [00:00<00:00, 1259.17it/s]\n",
      "Inference: 100%|██████████| 1/1 [00:00<00:00,  1.70it/s]\n",
      "Tokenization: 100%|██████████| 1/1 [00:00<00:00, 3908.95it/s]\n",
      "Inference:   0%|          | 0/1 [00:00<?, ?it/s]"
     ]
    },
    {
     "output_type": "stream",
     "name": "stdout",
     "text": [
      "Running pipeline ... done\n",
      "\n",
      "使用智能合約完成投保之系統及其方法SYSTEM FOR INSURING BASED ON SMART CONTRACTS AND METHOD THEREOF\n",
      "\n"
     ]
    },
    {
     "output_type": "stream",
     "name": "stderr",
     "text": [
      "Inference: 100%|██████████| 1/1 [00:00<00:00,  2.70it/s]\n",
      "Tokenization: 100%|██████████| 1/1 [00:00<00:00, 1564.46it/s]\n",
      "Inference: 100%|██████████| 1/1 [00:00<00:00,  2.04it/s]\n",
      "Tokenization: 100%|██████████| 1/1 [00:00<00:00, 2449.94it/s]\n",
      "Inference: 100%|██████████| 1/1 [00:00<00:00,  2.72it/s]\n",
      "Tokenization: 100%|██████████| 1/1 [00:00<00:00, 1308.68it/s]\n",
      "Inference:   0%|          | 0/1 [00:00<?, ?it/s]"
     ]
    },
    {
     "output_type": "stream",
     "name": "stdout",
     "text": [
      "Running pipeline ... done\n",
      "\n",
      "報表產生系統Report generation system\n",
      "\n"
     ]
    },
    {
     "output_type": "stream",
     "name": "stderr",
     "text": [
      "Inference: 100%|██████████| 1/1 [00:00<00:00,  1.87it/s]\n",
      "Tokenization: 100%|██████████| 1/1 [00:00<00:00, 1261.07it/s]\n",
      "Inference: 100%|██████████| 1/1 [00:00<00:00,  1.08it/s]\n",
      "Tokenization: 100%|██████████| 1/1 [00:00<00:00, 1515.28it/s]\n",
      "Inference: 100%|██████████| 1/1 [00:00<00:00,  1.92it/s]\n",
      "Tokenization: 100%|██████████| 1/1 [00:00<00:00, 1612.57it/s]\n",
      "Inference:   0%|          | 0/1 [00:00<?, ?it/s]"
     ]
    },
    {
     "output_type": "stream",
     "name": "stdout",
     "text": [
      "Running pipeline ... done\n",
      "\n",
      "網路主機服務監控系統Network host service monitoring system\n",
      "\n"
     ]
    },
    {
     "output_type": "stream",
     "name": "stderr",
     "text": [
      "Inference: 100%|██████████| 1/1 [00:00<00:00,  1.72it/s]\n",
      "Tokenization: 100%|██████████| 1/1 [00:00<00:00, 2732.45it/s]\n",
      "Inference: 100%|██████████| 1/1 [00:01<00:00,  1.05s/it]\n",
      "Tokenization: 100%|██████████| 1/1 [00:00<00:00, 1175.20it/s]\n",
      "Inference: 100%|██████████| 1/1 [00:00<00:00,  1.15it/s]\n",
      "Tokenization: 100%|██████████| 1/1 [00:00<00:00, 172.18it/s]\n",
      "Inference:   0%|          | 0/1 [00:00<?, ?it/s]"
     ]
    },
    {
     "output_type": "stream",
     "name": "stdout",
     "text": [
      "Running pipeline ... done\n",
      "\n",
      "車輛保險系統VEHICLE INSURANCE SYSTEM\n",
      "\n"
     ]
    },
    {
     "output_type": "stream",
     "name": "stderr",
     "text": [
      "Inference: 100%|██████████| 1/1 [00:01<00:00,  1.02s/it]\n",
      "Tokenization: 100%|██████████| 1/1 [00:00<00:00, 411.33it/s]\n",
      "Inference: 100%|██████████| 1/1 [00:01<00:00,  1.88s/it]\n",
      "Tokenization: 100%|██████████| 1/1 [00:00<00:00, 229.52it/s]\n",
      "Inference: 100%|██████████| 1/1 [00:00<00:00,  1.42it/s]\n",
      "Tokenization: 100%|██████████| 1/1 [00:00<00:00, 540.85it/s]\n",
      "Inference:   0%|          | 0/1 [00:00<?, ?it/s]"
     ]
    },
    {
     "output_type": "stream",
     "name": "stdout",
     "text": [
      "Running pipeline ... done\n",
      "\n",
      "利用生物特徵辨識的登入方法、行動通訊裝置及電腦可讀取紀錄媒體\n",
      "\n"
     ]
    },
    {
     "output_type": "stream",
     "name": "stderr",
     "text": [
      "Inference: 100%|██████████| 1/1 [00:02<00:00,  2.70s/it]\n",
      "Tokenization: 100%|██████████| 1/1 [00:00<00:00, 1068.34it/s]\n",
      "Inference: 100%|██████████| 1/1 [00:08<00:00,  8.68s/it]\n",
      "Tokenization: 100%|██████████| 1/1 [00:00<00:00, 255.61it/s]\n",
      "Inference: 100%|██████████| 1/1 [00:03<00:00,  3.14s/it]\n",
      "Tokenization: 100%|██████████| 1/1 [00:00<00:00, 563.67it/s]\n",
      "Inference:   0%|          | 0/1 [00:00<?, ?it/s]"
     ]
    },
    {
     "output_type": "stream",
     "name": "stdout",
     "text": [
      "Running pipeline ... done\n",
      "\n",
      "用於遠端現場事故影像與身份驗證的系統SYSTEM FOR VERIFYING REMOTE ACCIDENT SCENE IMAGE AND IDENTITY\n",
      "\n"
     ]
    },
    {
     "output_type": "stream",
     "name": "stderr",
     "text": [
      "Inference: 100%|██████████| 1/1 [00:02<00:00,  2.71s/it]\n",
      "Tokenization: 100%|██████████| 1/1 [00:00<00:00, 1035.37it/s]\n",
      "Inference: 100%|██████████| 1/1 [00:14<00:00, 14.42s/it]\n",
      "Tokenization: 100%|██████████| 1/1 [00:00<00:00, 343.77it/s]\n",
      "Inference: 100%|██████████| 1/1 [00:02<00:00,  2.31s/it]\n",
      "Tokenization: 100%|██████████| 1/1 [00:00<00:00, 2849.39it/s]\n",
      "Inference:   0%|          | 0/1 [00:00<?, ?it/s]"
     ]
    },
    {
     "output_type": "stream",
     "name": "stdout",
     "text": [
      "Running pipeline ... done\n",
      "\n",
      "電子裝置ELECTRONIC DEVICE\n",
      "\n"
     ]
    },
    {
     "output_type": "stream",
     "name": "stderr",
     "text": [
      "Inference: 100%|██████████| 1/1 [00:00<00:00,  1.91it/s]\n",
      "Tokenization: 100%|██████████| 1/1 [00:00<00:00, 618.72it/s]\n",
      "Inference: 100%|██████████| 1/1 [00:00<00:00,  1.55it/s]\n",
      "Tokenization: 100%|██████████| 1/1 [00:00<00:00, 1504.41it/s]\n",
      "Inference: 100%|██████████| 1/1 [00:00<00:00,  2.01it/s]\n",
      "Tokenization: 100%|██████████| 1/1 [00:00<00:00, 524.35it/s]\n",
      "Inference:   0%|          | 0/1 [00:00<?, ?it/s]"
     ]
    },
    {
     "output_type": "stream",
     "name": "stdout",
     "text": [
      "Running pipeline ... done\n",
      "\n",
      "折價券管理系統Coupon management system\n",
      "\n"
     ]
    },
    {
     "output_type": "stream",
     "name": "stderr",
     "text": [
      "Inference: 100%|██████████| 1/1 [00:00<00:00,  1.61it/s]\n",
      "Tokenization: 100%|██████████| 1/1 [00:00<00:00, 1700.16it/s]\n",
      "Inference: 100%|██████████| 1/1 [00:01<00:00,  1.03s/it]\n",
      "Tokenization: 100%|██████████| 1/1 [00:00<00:00, 2240.55it/s]\n",
      "Inference: 100%|██████████| 1/1 [00:00<00:00,  1.68it/s]\n",
      "Tokenization: 100%|██████████| 1/1 [00:00<00:00, 641.04it/s]\n",
      "Inference:   0%|          | 0/1 [00:00<?, ?it/s]"
     ]
    },
    {
     "output_type": "stream",
     "name": "stdout",
     "text": [
      "Running pipeline ... done\n",
      "\n",
      "以歷史數據資料預先回測作為搜尋最佳選股條件的方法及選股系統\n",
      "\n"
     ]
    },
    {
     "output_type": "stream",
     "name": "stderr",
     "text": [
      "Inference: 100%|██████████| 1/1 [00:03<00:00,  3.49s/it]\n",
      "Tokenization: 100%|██████████| 1/1 [00:00<00:00, 921.42it/s]\n",
      "Inference: 100%|██████████| 1/1 [00:26<00:00, 26.67s/it]\n",
      "Tokenization: 100%|██████████| 1/1 [00:00<00:00, 55.59it/s]\n",
      "Inference: 100%|██████████| 1/1 [00:03<00:00,  3.72s/it]\n",
      "Tokenization: 100%|██████████| 1/1 [00:00<00:00, 293.51it/s]\n",
      "Inference:   0%|          | 0/1 [00:00<?, ?it/s]"
     ]
    },
    {
     "output_type": "stream",
     "name": "stdout",
     "text": [
      "Running pipeline ... done\n",
      "\n",
      "分散式車險評估系統DECENTRALIZED VEHICLE RISK ASSESSMENT SYSTEM\n",
      "\n"
     ]
    },
    {
     "output_type": "stream",
     "name": "stderr",
     "text": [
      "Inference: 100%|██████████| 1/1 [00:00<00:00,  1.66it/s]\n",
      "Tokenization: 100%|██████████| 1/1 [00:00<00:00, 875.64it/s]\n",
      "Inference: 100%|██████████| 1/1 [00:01<00:00,  1.01s/it]\n",
      "Tokenization: 100%|██████████| 1/1 [00:00<00:00, 382.41it/s]\n",
      "Inference: 100%|██████████| 1/1 [00:00<00:00,  1.88it/s]\n",
      "Tokenization: 100%|██████████| 1/1 [00:00<00:00, 956.95it/s]\n",
      "Inference:   0%|          | 0/1 [00:00<?, ?it/s]"
     ]
    },
    {
     "output_type": "stream",
     "name": "stdout",
     "text": [
      "Running pipeline ... done\n",
      "\n",
      "基於區塊鏈智能合約的應收帳款融資系統及其方法FINANCING SYSTEM FOR ACCOUNTS RECEIVABLE BASED ON BLOCKCHAIN SMART CONTRACT AND METHOD THEREOF\n",
      "\n"
     ]
    },
    {
     "output_type": "stream",
     "name": "stderr",
     "text": [
      "Inference: 100%|██████████| 1/1 [00:00<00:00,  2.15it/s]\n",
      "Tokenization: 100%|██████████| 1/1 [00:00<00:00, 855.63it/s]\n",
      "Inference: 100%|██████████| 1/1 [00:00<00:00,  1.43it/s]\n",
      "Tokenization: 100%|██████████| 1/1 [00:00<00:00, 614.64it/s]\n",
      "Inference: 100%|██████████| 1/1 [00:00<00:00,  2.04it/s]\n",
      "Tokenization: 100%|██████████| 1/1 [00:00<00:00, 1933.75it/s]\n",
      "Inference:   0%|          | 0/1 [00:00<?, ?it/s]"
     ]
    },
    {
     "output_type": "stream",
     "name": "stdout",
     "text": [
      "Running pipeline ... done\n",
      "\n",
      "具爭議救濟機制的KYC資料標記系統及其方法KNOW YOUR CUSTOMER (KYC) DATA MARKING SYSTEM WITH DISPUTE RELIEF MECHANISM AND METHOD THEREOF\n",
      "\n"
     ]
    },
    {
     "output_type": "stream",
     "name": "stderr",
     "text": [
      "Inference: 100%|██████████| 1/1 [00:00<00:00,  1.72it/s]\n",
      "Tokenization: 100%|██████████| 1/1 [00:00<00:00, 2101.35it/s]\n",
      "Inference: 100%|██████████| 1/1 [00:00<00:00,  1.48it/s]\n",
      "Tokenization: 100%|██████████| 1/1 [00:00<00:00, 569.18it/s]\n",
      "Inference: 100%|██████████| 1/1 [00:00<00:00,  1.80it/s]\n",
      "Tokenization: 100%|██████████| 1/1 [00:00<00:00, 932.69it/s]\n",
      "Inference:   0%|          | 0/1 [00:00<?, ?it/s]"
     ]
    },
    {
     "output_type": "stream",
     "name": "stdout",
     "text": [
      "Running pipeline ... done\n",
      "\n",
      "線上申購系統Online subscription system\n",
      "\n"
     ]
    },
    {
     "output_type": "stream",
     "name": "stderr",
     "text": [
      "Inference: 100%|██████████| 1/1 [00:00<00:00,  1.75it/s]\n",
      "Tokenization: 100%|██████████| 1/1 [00:00<00:00, 1864.96it/s]\n",
      "Inference: 100%|██████████| 1/1 [00:00<00:00,  1.22it/s]\n",
      "Tokenization: 100%|██████████| 1/1 [00:00<00:00, 749.12it/s]\n",
      "Inference: 100%|██████████| 1/1 [00:00<00:00,  1.80it/s]\n",
      "Tokenization: 100%|██████████| 1/1 [00:00<00:00, 2470.14it/s]\n",
      "Inference:   0%|          | 0/1 [00:00<?, ?it/s]"
     ]
    },
    {
     "output_type": "stream",
     "name": "stdout",
     "text": [
      "Running pipeline ... done\n",
      "\n",
      "利用行動裝置應用程式的電子交易認證方法及系統\n",
      "\n"
     ]
    },
    {
     "output_type": "stream",
     "name": "stderr",
     "text": [
      "Inference: 100%|██████████| 1/1 [00:00<00:00,  2.70it/s]\n",
      "Tokenization: 100%|██████████| 1/1 [00:00<00:00, 471.22it/s]\n",
      "Inference: 100%|██████████| 1/1 [00:00<00:00,  2.07it/s]\n",
      "Tokenization: 100%|██████████| 1/1 [00:00<00:00, 2777.68it/s]\n",
      "Inference: 100%|██████████| 1/1 [00:00<00:00,  2.71it/s]\n",
      "Tokenization: 100%|██████████| 1/1 [00:00<00:00, 684.00it/s]\n",
      "Inference:   0%|          | 0/1 [00:00<?, ?it/s]"
     ]
    },
    {
     "output_type": "stream",
     "name": "stdout",
     "text": [
      "Running pipeline ... done\n",
      "\n",
      "基於區塊鏈用以提供金融端聯網之系統及其方法SYSTEM AND METHOD BASED ON BLOCKCHAIN FOR PROVIDING FINANCIAL END NETWORKING\n",
      "\n"
     ]
    },
    {
     "output_type": "stream",
     "name": "stderr",
     "text": [
      "Inference: 100%|██████████| 1/1 [00:00<00:00,  1.99it/s]\n",
      "Tokenization: 100%|██████████| 1/1 [00:00<00:00, 781.21it/s]\n",
      "Inference: 100%|██████████| 1/1 [00:00<00:00,  1.46it/s]\n",
      "Tokenization: 100%|██████████| 1/1 [00:00<00:00, 517.37it/s]\n",
      "Inference: 100%|██████████| 1/1 [00:00<00:00,  1.95it/s]\n",
      "Tokenization: 100%|██████████| 1/1 [00:00<00:00, 1841.22it/s]\n",
      "Inference:   0%|          | 0/1 [00:00<?, ?it/s]"
     ]
    },
    {
     "output_type": "stream",
     "name": "stdout",
     "text": [
      "Running pipeline ... done\n",
      "\n",
      "具隱密性的KYC資料共享系統及其方法KNOW YOUR CUSTOMER (KYC) DATA SHARING SYSTEM WITH PRIVACY AND METHOD THEREOF\n",
      "\n"
     ]
    },
    {
     "output_type": "stream",
     "name": "stderr",
     "text": [
      "Inference: 100%|██████████| 1/1 [00:00<00:00,  2.47it/s]\n",
      "Tokenization: 100%|██████████| 1/1 [00:00<00:00, 812.53it/s]\n",
      "Inference: 100%|██████████| 1/1 [00:00<00:00,  1.98it/s]\n",
      "Tokenization: 100%|██████████| 1/1 [00:00<00:00, 674.33it/s]\n",
      "Inference: 100%|██████████| 1/1 [00:00<00:00,  2.57it/s]\n",
      "Tokenization: 100%|██████████| 1/1 [00:00<00:00, 2531.26it/s]\n",
      "Inference:   0%|          | 0/1 [00:00<?, ?it/s]"
     ]
    },
    {
     "output_type": "stream",
     "name": "stdout",
     "text": [
      "Running pipeline ... done\n",
      "\n",
      "具監管機制的帳聯網系統及其實施方法ACCOUNT NETWORK SYSTEM WITH A REGULATORY MECHANISM AND ITS IMPLEMENTING METHOD\n",
      "\n"
     ]
    },
    {
     "output_type": "stream",
     "name": "stderr",
     "text": [
      "Inference: 100%|██████████| 1/1 [00:00<00:00,  1.62it/s]\n",
      "Tokenization: 100%|██████████| 1/1 [00:00<00:00, 1135.13it/s]\n",
      "Inference: 100%|██████████| 1/1 [00:00<00:00,  1.16it/s]\n",
      "Tokenization: 100%|██████████| 1/1 [00:00<00:00, 2695.57it/s]\n",
      "Inference: 100%|██████████| 1/1 [00:00<00:00,  1.83it/s]\n",
      "Tokenization: 100%|██████████| 1/1 [00:00<00:00, 2499.59it/s]\n",
      "Inference:   0%|          | 0/1 [00:00<?, ?it/s]"
     ]
    },
    {
     "output_type": "stream",
     "name": "stdout",
     "text": [
      "Running pipeline ... done\n",
      "\n",
      "分散式集群服務系統及其動態資訊分派更新系統Decentralized cluster service system and dynamic information distribution update system thereof\n",
      "\n"
     ]
    },
    {
     "output_type": "stream",
     "name": "stderr",
     "text": [
      "Inference: 100%|██████████| 1/1 [00:00<00:00,  1.73it/s]\n",
      "Tokenization: 100%|██████████| 1/1 [00:00<00:00, 2371.00it/s]\n",
      "Inference: 100%|██████████| 1/1 [00:01<00:00,  1.19s/it]\n",
      "Tokenization: 100%|██████████| 1/1 [00:00<00:00, 972.93it/s]\n",
      "Inference: 100%|██████████| 1/1 [00:00<00:00,  1.76it/s]\n",
      "Tokenization: 100%|██████████| 1/1 [00:00<00:00, 618.81it/s]\n",
      "Inference:   0%|          | 0/1 [00:00<?, ?it/s]"
     ]
    },
    {
     "output_type": "stream",
     "name": "stdout",
     "text": [
      "Running pipeline ... done\n",
      "\n",
      "系統登入方法及登入驗證裝置LOGIN METHOD AND LOGIN AUTHENTICATION DEVICE\n",
      "\n"
     ]
    },
    {
     "output_type": "stream",
     "name": "stderr",
     "text": [
      "Inference: 100%|██████████| 1/1 [00:00<00:00,  1.86it/s]\n",
      "Tokenization: 100%|██████████| 1/1 [00:00<00:00, 2008.77it/s]\n",
      "Inference: 100%|██████████| 1/1 [00:00<00:00,  1.16it/s]\n",
      "Tokenization: 100%|██████████| 1/1 [00:00<00:00, 527.12it/s]\n",
      "Inference: 100%|██████████| 1/1 [00:00<00:00,  1.84it/s]\n",
      "Tokenization: 100%|██████████| 1/1 [00:00<00:00, 1788.62it/s]\n",
      "Inference:   0%|          | 0/1 [00:00<?, ?it/s]"
     ]
    },
    {
     "output_type": "stream",
     "name": "stdout",
     "text": [
      "Running pipeline ... done\n",
      "\n",
      "社群集體保險之風險評估系統A RISK EVALUATION SYSTEM FOR SOCIAL GROUP INSURANCE POLICY\n",
      "\n"
     ]
    },
    {
     "output_type": "stream",
     "name": "stderr",
     "text": [
      "Inference: 100%|██████████| 1/1 [00:00<00:00,  1.77it/s]\n",
      "Tokenization: 100%|██████████| 1/1 [00:00<00:00, 2272.10it/s]\n",
      "Inference: 100%|██████████| 1/1 [00:00<00:00,  1.00it/s]\n",
      "Tokenization: 100%|██████████| 1/1 [00:00<00:00, 2770.35it/s]\n",
      "Inference: 100%|██████████| 1/1 [00:00<00:00,  1.77it/s]\n",
      "Tokenization: 100%|██████████| 1/1 [00:00<00:00, 585.47it/s]\n",
      "Inference:   0%|          | 0/1 [00:00<?, ?it/s]"
     ]
    },
    {
     "output_type": "stream",
     "name": "stdout",
     "text": [
      "Running pipeline ... done\n",
      "\n",
      "社群集體保險之行動管理系統MOBILE MANAGEMENT SYSTEM OF SOCIAL GROUP INSURANCEPOLICY\n",
      "\n"
     ]
    },
    {
     "output_type": "stream",
     "name": "stderr",
     "text": [
      "Inference: 100%|██████████| 1/1 [00:03<00:00,  3.70s/it]\n",
      "Tokenization: 100%|██████████| 1/1 [00:00<00:00, 455.95it/s]\n",
      "Inference: 100%|██████████| 1/1 [00:08<00:00,  8.68s/it]\n",
      "Tokenization: 100%|██████████| 1/1 [00:00<00:00, 300.24it/s]\n",
      "Inference: 100%|██████████| 1/1 [00:03<00:00,  3.60s/it]\n",
      "Tokenization: 100%|██████████| 1/1 [00:00<00:00, 2618.17it/s]\n",
      "Inference:   0%|          | 0/1 [00:00<?, ?it/s]"
     ]
    },
    {
     "output_type": "stream",
     "name": "stdout",
     "text": [
      "Running pipeline ... done\n",
      "\n",
      "資訊管理系統SYSTEM FOR INFORMATION MANAGEMENT\n",
      "\n"
     ]
    },
    {
     "output_type": "stream",
     "name": "stderr",
     "text": [
      "Inference: 100%|██████████| 1/1 [00:00<00:00,  1.76it/s]\n",
      "Tokenization: 100%|██████████| 1/1 [00:00<00:00, 607.52it/s]\n",
      "Inference: 100%|██████████| 1/1 [00:01<00:00,  1.01s/it]\n",
      "Tokenization: 100%|██████████| 1/1 [00:00<00:00, 1342.18it/s]\n",
      "Inference: 100%|██████████| 1/1 [00:00<00:00,  1.65it/s]\n",
      "Tokenization: 100%|██████████| 1/1 [00:00<00:00, 3223.91it/s]\n",
      "Inference:   0%|          | 0/1 [00:00<?, ?it/s]"
     ]
    },
    {
     "output_type": "stream",
     "name": "stdout",
     "text": [
      "Running pipeline ... done\n",
      "\n",
      "視訊服務系統Video service system\n",
      "\n"
     ]
    },
    {
     "output_type": "stream",
     "name": "stderr",
     "text": [
      "Inference: 100%|██████████| 1/1 [00:00<00:00,  2.01it/s]\n",
      "Tokenization: 100%|██████████| 1/1 [00:00<00:00, 2097.15it/s]\n",
      "Inference: 100%|██████████| 1/1 [00:00<00:00,  1.55it/s]\n",
      "Tokenization: 100%|██████████| 1/1 [00:00<00:00, 2150.93it/s]\n",
      "Inference: 100%|██████████| 1/1 [00:00<00:00,  2.37it/s]\n",
      "Tokenization: 100%|██████████| 1/1 [00:00<00:00, 2866.92it/s]\n",
      "Inference:   0%|          | 0/1 [00:00<?, ?it/s]"
     ]
    },
    {
     "output_type": "stream",
     "name": "stdout",
     "text": [
      "Running pipeline ... done\n",
      "\n",
      "基於區塊鏈智能合約的KYC資料共享系統及其方法KNOW YOUR CUSTOMER (KYC) DATA SHARING SYSTEM BASED ON SMART CONTRACT ON BLOCKCHAIN AND METHOD THEREOF\n",
      "\n"
     ]
    },
    {
     "output_type": "stream",
     "name": "stderr",
     "text": [
      "Inference: 100%|██████████| 1/1 [00:00<00:00,  1.92it/s]\n",
      "Tokenization: 100%|██████████| 1/1 [00:00<00:00, 2136.68it/s]\n",
      "Inference: 100%|██████████| 1/1 [00:00<00:00,  1.43it/s]\n",
      "Tokenization: 100%|██████████| 1/1 [00:00<00:00, 1681.08it/s]\n",
      "Inference: 100%|██████████| 1/1 [00:00<00:00,  1.97it/s]\n",
      "Tokenization: 100%|██████████| 1/1 [00:00<00:00, 699.28it/s]\n",
      "Inference:   0%|          | 0/1 [00:00<?, ?it/s]"
     ]
    },
    {
     "output_type": "stream",
     "name": "stdout",
     "text": [
      "Running pipeline ... done\n",
      "\n",
      "設定金融軟體的主畫面的方法、電腦可讀取的記錄媒體及可設定金融軟體的主畫面的行動通訊裝置\n",
      "\n"
     ]
    },
    {
     "output_type": "stream",
     "name": "stderr",
     "text": [
      "Inference: 100%|██████████| 1/1 [00:00<00:00,  1.91it/s]\n",
      "Tokenization: 100%|██████████| 1/1 [00:00<00:00, 2187.95it/s]\n",
      "Inference: 100%|██████████| 1/1 [00:00<00:00,  1.10it/s]\n",
      "Tokenization: 100%|██████████| 1/1 [00:00<00:00, 868.57it/s]\n",
      "Inference: 100%|██████████| 1/1 [00:00<00:00,  1.44it/s]\n",
      "Tokenization: 100%|██████████| 1/1 [00:00<00:00, 2688.66it/s]\n",
      "Inference:   0%|          | 0/1 [00:00<?, ?it/s]"
     ]
    },
    {
     "output_type": "stream",
     "name": "stdout",
     "text": [
      "Running pipeline ... done\n",
      "\n",
      "依金融商品交易行動軟體的執行與連線狀況自動切換即時訊息通知模式的方法、行動裝置服務伺服端\n",
      "\n"
     ]
    },
    {
     "output_type": "stream",
     "name": "stderr",
     "text": [
      "Inference: 100%|██████████| 1/1 [00:00<00:00,  2.18it/s]\n",
      "Tokenization: 100%|██████████| 1/1 [00:00<00:00, 1466.54it/s]\n",
      "Inference: 100%|██████████| 1/1 [00:00<00:00,  1.49it/s]\n",
      "Tokenization: 100%|██████████| 1/1 [00:00<00:00, 2914.74it/s]\n",
      "Inference: 100%|██████████| 1/1 [00:00<00:00,  2.25it/s]\n",
      "Tokenization: 100%|██████████| 1/1 [00:00<00:00, 2065.14it/s]\n",
      "Inference:   0%|          | 0/1 [00:00<?, ?it/s]"
     ]
    },
    {
     "output_type": "stream",
     "name": "stdout",
     "text": [
      "Running pipeline ... done\n",
      "\n",
      "智能合約的實名帳戶建立系統及其方法REAL-NAME ACCOUNT GENERATING SYSTEM FOR SMART CONTRACT AND METHOD THEREOF\n",
      "\n"
     ]
    },
    {
     "output_type": "stream",
     "name": "stderr",
     "text": [
      "Inference: 100%|██████████| 1/1 [00:00<00:00,  2.32it/s]\n",
      "Tokenization: 100%|██████████| 1/1 [00:00<00:00, 645.08it/s]\n",
      "Inference: 100%|██████████| 1/1 [00:00<00:00,  1.19it/s]\n",
      "Tokenization: 100%|██████████| 1/1 [00:00<00:00, 3216.49it/s]\n",
      "Inference: 100%|██████████| 1/1 [00:00<00:00,  2.41it/s]\n",
      "Tokenization: 100%|██████████| 1/1 [00:00<00:00, 653.93it/s]\n",
      "Inference:   0%|          | 0/1 [00:00<?, ?it/s]"
     ]
    },
    {
     "output_type": "stream",
     "name": "stdout",
     "text": [
      "Running pipeline ... done\n",
      "\n",
      "車輛認證系統及其車輛認證之方法VEHICLE AUTHENTICATION SYSTEM AND VEHICLE AUTHENTICATION METHOD THEREOF\n",
      "\n"
     ]
    },
    {
     "output_type": "stream",
     "name": "stderr",
     "text": [
      "Inference: 100%|██████████| 1/1 [00:03<00:00,  3.68s/it]\n",
      "Tokenization: 100%|██████████| 1/1 [00:00<00:00, 843.42it/s]\n",
      "Inference: 100%|██████████| 1/1 [00:08<00:00,  8.94s/it]\n",
      "Tokenization: 100%|██████████| 1/1 [00:00<00:00, 253.75it/s]\n",
      "Inference: 100%|██████████| 1/1 [00:03<00:00,  3.67s/it]\n",
      "Tokenization: 100%|██████████| 1/1 [00:00<00:00, 2273.34it/s]\n",
      "Inference:   0%|          | 0/1 [00:00<?, ?it/s]"
     ]
    },
    {
     "output_type": "stream",
     "name": "stdout",
     "text": [
      "Running pipeline ... done\n",
      "\n",
      "車輛保險系統VEHICLE INSURANCE SYSTEM\n",
      "\n"
     ]
    },
    {
     "output_type": "stream",
     "name": "stderr",
     "text": [
      "Inference: 100%|██████████| 1/1 [00:00<00:00,  1.78it/s]\n",
      "Tokenization: 100%|██████████| 1/1 [00:00<00:00, 467.12it/s]\n",
      "Inference: 100%|██████████| 1/1 [00:00<00:00,  1.09it/s]\n",
      "Tokenization: 100%|██████████| 1/1 [00:00<00:00, 1169.31it/s]\n",
      "Inference: 100%|██████████| 1/1 [00:00<00:00,  1.73it/s]\n",
      "Tokenization: 100%|██████████| 1/1 [00:00<00:00, 2216.86it/s]\n",
      "Inference:   0%|          | 0/1 [00:00<?, ?it/s]"
     ]
    },
    {
     "output_type": "stream",
     "name": "stdout",
     "text": [
      "Running pipeline ... done\n",
      "\n",
      "分散式保險回饋系統DECENTRALIZED INSURANCE REWARD SYSTEM\n",
      "\n"
     ]
    },
    {
     "output_type": "stream",
     "name": "stderr",
     "text": [
      "Inference: 100%|██████████| 1/1 [00:00<00:00,  1.70it/s]\n",
      "Tokenization: 100%|██████████| 1/1 [00:00<00:00, 1076.29it/s]\n",
      "Inference: 100%|██████████| 1/1 [00:00<00:00,  1.06it/s]\n",
      "Tokenization: 100%|██████████| 1/1 [00:00<00:00, 957.82it/s]\n",
      "Inference: 100%|██████████| 1/1 [00:00<00:00,  1.67it/s]\n",
      "Tokenization: 100%|██████████| 1/1 [00:00<00:00, 1818.08it/s]\n",
      "Inference:   0%|          | 0/1 [00:00<?, ?it/s]"
     ]
    },
    {
     "output_type": "stream",
     "name": "stdout",
     "text": [
      "Running pipeline ... done\n",
      "\n",
      "具多重密鑰的KYC資料標記之爭議救濟系統及其方法KNOW YOUR CUSTOMER (KYC) DATA MARKING DISPUTE RELIEF SYSTEM WITH MULTIPLE SECRET KEY AND METHOD THEREOF\n",
      "\n"
     ]
    },
    {
     "output_type": "stream",
     "name": "stderr",
     "text": [
      "Inference: 100%|██████████| 1/1 [00:00<00:00,  1.76it/s]\n",
      "Tokenization: 100%|██████████| 1/1 [00:00<00:00, 1334.92it/s]\n",
      "Inference: 100%|██████████| 1/1 [00:00<00:00,  1.07it/s]\n",
      "Tokenization: 100%|██████████| 1/1 [00:00<00:00, 1473.24it/s]\n",
      "Inference: 100%|██████████| 1/1 [00:00<00:00,  1.84it/s]\n",
      "Tokenization: 100%|██████████| 1/1 [00:00<00:00, 2576.35it/s]\n",
      "Inference:   0%|          | 0/1 [00:00<?, ?it/s]"
     ]
    },
    {
     "output_type": "stream",
     "name": "stdout",
     "text": [
      "Running pipeline ... done\n",
      "\n",
      "資訊服務系統及其登入方法INFORMATION SERVICE SYSTEM AND LOGIN METHOD THEREOF\n",
      "\n"
     ]
    },
    {
     "output_type": "stream",
     "name": "stderr",
     "text": [
      "Inference: 100%|██████████| 1/1 [00:00<00:00,  2.47it/s]\n",
      "Tokenization: 100%|██████████| 1/1 [00:00<00:00, 3768.47it/s]\n",
      "Inference: 100%|██████████| 1/1 [00:00<00:00,  1.95it/s]\n",
      "Tokenization: 100%|██████████| 1/1 [00:00<00:00, 3289.65it/s]\n",
      "Inference: 100%|██████████| 1/1 [00:00<00:00,  2.66it/s]\n",
      "Tokenization: 100%|██████████| 1/1 [00:00<00:00, 2906.66it/s]\n",
      "Inference:   0%|          | 0/1 [00:00<?, ?it/s]"
     ]
    },
    {
     "output_type": "stream",
     "name": "stdout",
     "text": [
      "Running pipeline ... done\n",
      "\n",
      "分散式任務調度執行系統Distributed task scheduling execution system\n",
      "\n"
     ]
    },
    {
     "output_type": "stream",
     "name": "stderr",
     "text": [
      "Inference: 100%|██████████| 1/1 [00:00<00:00,  3.15it/s]\n",
      "Tokenization: 100%|██████████| 1/1 [00:00<00:00, 1557.48it/s]\n",
      "Inference: 100%|██████████| 1/1 [00:00<00:00,  1.63it/s]\n",
      "Tokenization: 100%|██████████| 1/1 [00:00<00:00, 3248.88it/s]\n",
      "Inference: 100%|██████████| 1/1 [00:00<00:00,  3.21it/s]\n",
      "Tokenization: 100%|██████████| 1/1 [00:00<00:00, 285.39it/s]\n",
      "Inference:   0%|          | 0/1 [00:00<?, ?it/s]"
     ]
    },
    {
     "output_type": "stream",
     "name": "stdout",
     "text": [
      "Running pipeline ... done\n",
      "\n",
      "自定義語音辨識結果的方法及行動裝置、電腦可讀取的紀錄媒體\n",
      "\n"
     ]
    },
    {
     "output_type": "stream",
     "name": "stderr",
     "text": [
      "Inference: 100%|██████████| 1/1 [00:00<00:00,  2.90it/s]\n",
      "Tokenization: 100%|██████████| 1/1 [00:00<00:00, 641.43it/s]\n",
      "Inference: 100%|██████████| 1/1 [00:00<00:00,  1.83it/s]\n",
      "Tokenization: 100%|██████████| 1/1 [00:00<00:00, 3151.24it/s]\n",
      "Inference: 100%|██████████| 1/1 [00:00<00:00,  2.92it/s]\n",
      "Tokenization: 100%|██████████| 1/1 [00:00<00:00, 1362.67it/s]\n",
      "Inference:   0%|          | 0/1 [00:00<?, ?it/s]"
     ]
    },
    {
     "output_type": "stream",
     "name": "stdout",
     "text": [
      "Running pipeline ... done\n",
      "\n",
      "顯示螢幕的圖形化操作介面\n",
      "\n"
     ]
    },
    {
     "output_type": "stream",
     "name": "stderr",
     "text": [
      "Inference: 100%|██████████| 1/1 [00:00<00:00,  2.00it/s]\n",
      "Tokenization: 100%|██████████| 1/1 [00:00<00:00, 1985.00it/s]\n",
      "Inference: 100%|██████████| 1/1 [00:00<00:00,  1.11it/s]\n",
      "Tokenization: 100%|██████████| 1/1 [00:00<00:00, 592.83it/s]\n",
      "Inference: 100%|██████████| 1/1 [00:00<00:00,  2.00it/s]\n",
      "Tokenization: 100%|██████████| 1/1 [00:00<00:00, 579.72it/s]\n",
      "Inference:   0%|          | 0/1 [00:00<?, ?it/s]"
     ]
    },
    {
     "output_type": "stream",
     "name": "stdout",
     "text": [
      "Running pipeline ... done\n",
      "\n",
      "基於實體資產授信虛擬貨幣之系統及其方法VIRTUAL CURRENCY CREDITING SYSTEM BASED ON PHYSICAL ASSETS AND METHOD THEREOF\n",
      "\n"
     ]
    },
    {
     "output_type": "stream",
     "name": "stderr",
     "text": [
      "Inference: 100%|██████████| 1/1 [00:03<00:00,  3.75s/it]\n",
      "Tokenization: 100%|██████████| 1/1 [00:00<00:00, 264.84it/s]\n",
      "Inference: 100%|██████████| 1/1 [00:23<00:00, 23.81s/it]\n",
      "Tokenization: 100%|██████████| 1/1 [00:00<00:00, 73.30it/s]\n",
      "Inference: 100%|██████████| 1/1 [00:03<00:00,  3.46s/it]\n",
      "Tokenization: 100%|██████████| 1/1 [00:00<00:00, 319.69it/s]\n",
      "Inference:   0%|          | 0/1 [00:00<?, ?it/s]"
     ]
    },
    {
     "output_type": "stream",
     "name": "stdout",
     "text": [
      "Running pipeline ... done\n",
      "\n",
      "社群集體保險之行動管理系統MOBILE MANAGEMENT SYSTEM OF SOCIAL GROUP INSURANCEPOLICY\n",
      "\n"
     ]
    },
    {
     "output_type": "stream",
     "name": "stderr",
     "text": [
      "Inference: 100%|██████████| 1/1 [00:03<00:00,  3.50s/it]\n",
      "Tokenization: 100%|██████████| 1/1 [00:00<00:00, 269.02it/s]\n",
      "Inference: 100%|██████████| 1/1 [00:25<00:00, 25.99s/it]\n",
      "Tokenization: 100%|██████████| 1/1 [00:00<00:00, 78.33it/s]\n",
      "Inference: 100%|██████████| 1/1 [00:03<00:00,  3.75s/it]\n",
      "Tokenization: 100%|██████████| 1/1 [00:00<00:00, 628.55it/s]\n",
      "Inference:   0%|          | 0/1 [00:00<?, ?it/s]"
     ]
    },
    {
     "output_type": "stream",
     "name": "stdout",
     "text": [
      "Running pipeline ... done\n",
      "\n",
      "分散式保險回饋系統DECENTRALIZED INSURANCE REWARD SYSTEM\n",
      "\n"
     ]
    },
    {
     "output_type": "stream",
     "name": "stderr",
     "text": [
      "Inference: 100%|██████████| 1/1 [00:03<00:00,  3.72s/it]\n",
      "Tokenization: 100%|██████████| 1/1 [00:00<00:00, 765.80it/s]\n",
      "Inference: 100%|██████████| 1/1 [00:11<00:00, 11.68s/it]\n",
      "Tokenization: 100%|██████████| 1/1 [00:00<00:00, 249.81it/s]\n",
      "Inference: 100%|██████████| 1/1 [00:03<00:00,  3.75s/it]\n",
      "Tokenization: 100%|██████████| 1/1 [00:00<00:00, 1859.18it/s]\n",
      "Inference:   0%|          | 0/1 [00:00<?, ?it/s]"
     ]
    },
    {
     "output_type": "stream",
     "name": "stdout",
     "text": [
      "Running pipeline ... done\n",
      "\n",
      "社群集體保險之風險評估系統A RISK EVALUATION SYSTEM FOR SOCIAL GROUP INSURANCE POLICY\n",
      "\n"
     ]
    },
    {
     "output_type": "stream",
     "name": "stderr",
     "text": [
      "Inference: 100%|██████████| 1/1 [00:00<00:00,  1.44it/s]\n",
      "Tokenization: 100%|██████████| 1/1 [00:00<00:00, 1963.63it/s]\n",
      "Inference: 100%|██████████| 1/1 [00:00<00:00,  1.01it/s]\n",
      "Tokenization: 100%|██████████| 1/1 [00:00<00:00, 1204.91it/s]\n",
      "Inference: 100%|██████████| 1/1 [00:00<00:00,  1.67it/s]\n",
      "Tokenization: 100%|██████████| 1/1 [00:00<00:00, 2208.69it/s]\n",
      "Inference:   0%|          | 0/1 [00:00<?, ?it/s]"
     ]
    },
    {
     "output_type": "stream",
     "name": "stdout",
     "text": [
      "Running pipeline ... done\n",
      "\n",
      "登入驗證裝置Login verification device\n",
      "\n"
     ]
    },
    {
     "output_type": "stream",
     "name": "stderr",
     "text": [
      "Inference: 100%|██████████| 1/1 [00:00<00:00,  1.66it/s]\n",
      "Tokenization: 100%|██████████| 1/1 [00:00<00:00, 1391.15it/s]\n",
      "Inference: 100%|██████████| 1/1 [00:01<00:00,  1.14s/it]\n",
      "Tokenization: 100%|██████████| 1/1 [00:00<00:00, 1346.05it/s]\n",
      "Inference: 100%|██████████| 1/1 [00:00<00:00,  1.69it/s]\n",
      "Tokenization: 100%|██████████| 1/1 [00:00<00:00, 312.31it/s]\n",
      "Inference:   0%|          | 0/1 [00:00<?, ?it/s]"
     ]
    },
    {
     "output_type": "stream",
     "name": "stdout",
     "text": [
      "Running pipeline ... done\n",
      "\n",
      "切換輸入模式的方法、行動通訊裝置及電腦可讀取媒體\n",
      "\n"
     ]
    },
    {
     "output_type": "stream",
     "name": "stderr",
     "text": [
      "Inference: 100%|██████████| 1/1 [00:03<00:00,  3.59s/it]\n",
      "Tokenization: 100%|██████████| 1/1 [00:00<00:00, 562.77it/s]\n",
      "Inference: 100%|██████████| 1/1 [00:19<00:00, 19.73s/it]\n",
      "Tokenization: 100%|██████████| 1/1 [00:00<00:00, 218.28it/s]\n",
      "Inference: 100%|██████████| 1/1 [00:03<00:00,  3.77s/it]\n",
      "Tokenization: 100%|██████████| 1/1 [00:00<00:00, 2966.27it/s]\n",
      "Inference:   0%|          | 0/1 [00:00<?, ?it/s]"
     ]
    },
    {
     "output_type": "stream",
     "name": "stdout",
     "text": [
      "Running pipeline ... done\n",
      "\n",
      "客戶分析系統COSTUMER ANALYSIS SYSTEM\n",
      "\n"
     ]
    },
    {
     "output_type": "stream",
     "name": "stderr",
     "text": [
      "Inference: 100%|██████████| 1/1 [00:00<00:00,  1.88it/s]\n",
      "Tokenization: 100%|██████████| 1/1 [00:00<00:00, 2603.54it/s]\n",
      "Inference: 100%|██████████| 1/1 [00:00<00:00,  1.41it/s]\n",
      "Tokenization: 100%|██████████| 1/1 [00:00<00:00, 2351.07it/s]\n",
      "Inference: 100%|██████████| 1/1 [00:00<00:00,  1.85it/s]\n",
      "Tokenization: 100%|██████████| 1/1 [00:00<00:00, 2105.57it/s]\n",
      "Inference:   0%|          | 0/1 [00:00<?, ?it/s]"
     ]
    },
    {
     "output_type": "stream",
     "name": "stdout",
     "text": [
      "Running pipeline ... done\n",
      "\n",
      "可設定金融軟體的主畫面的行動通訊裝置Mobile communication device capable of setting main picture of financial software\n",
      "\n"
     ]
    },
    {
     "output_type": "stream",
     "name": "stderr",
     "text": [
      "Inference: 100%|██████████| 1/1 [00:00<00:00,  1.34it/s]\n",
      "Tokenization: 100%|██████████| 1/1 [00:00<00:00, 805.05it/s]\n",
      "Inference: 100%|██████████| 1/1 [00:00<00:00,  1.10it/s]\n",
      "Tokenization: 100%|██████████| 1/1 [00:00<00:00, 1551.15it/s]\n",
      "Inference: 100%|██████████| 1/1 [00:00<00:00,  1.80it/s]\n",
      "Tokenization: 100%|██████████| 1/1 [00:00<00:00, 2177.73it/s]\n",
      "Inference:   0%|          | 0/1 [00:00<?, ?it/s]"
     ]
    },
    {
     "output_type": "stream",
     "name": "stdout",
     "text": [
      "Running pipeline ... done\n",
      "\n",
      "借券媒合交易系統SECURITIES LENDING AND BORROWING MATCHING SYSTEM\n",
      "\n"
     ]
    },
    {
     "output_type": "stream",
     "name": "stderr",
     "text": [
      "Inference: 100%|██████████| 1/1 [00:00<00:00,  1.84it/s]\n",
      "Tokenization: 100%|██████████| 1/1 [00:00<00:00, 1922.23it/s]\n",
      "Inference: 100%|██████████| 1/1 [00:00<00:00,  1.11it/s]\n",
      "Tokenization: 100%|██████████| 1/1 [00:00<00:00, 1159.93it/s]\n",
      "Inference: 100%|██████████| 1/1 [00:00<00:00,  1.83it/s]\n",
      "Tokenization: 100%|██████████| 1/1 [00:00<00:00, 2616.53it/s]\n",
      "Inference:   0%|          | 0/1 [00:00<?, ?it/s]"
     ]
    },
    {
     "output_type": "stream",
     "name": "stdout",
     "text": [
      "Running pipeline ... done\n",
      "\n",
      "車輛認證系統Vehicle certification system\n",
      "\n"
     ]
    },
    {
     "output_type": "stream",
     "name": "stderr",
     "text": [
      "Inference: 100%|██████████| 1/1 [00:00<00:00,  1.68it/s]\n",
      "Tokenization: 100%|██████████| 1/1 [00:00<00:00, 2309.64it/s]\n",
      "Inference: 100%|██████████| 1/1 [00:00<00:00,  1.31it/s]\n",
      "Tokenization: 100%|██████████| 1/1 [00:00<00:00, 1885.93it/s]\n",
      "Inference: 100%|██████████| 1/1 [00:00<00:00,  1.65it/s]\n",
      "Tokenization: 100%|██████████| 1/1 [00:00<00:00, 666.29it/s]\n",
      "Inference:   0%|          | 0/1 [00:00<?, ?it/s]"
     ]
    },
    {
     "output_type": "stream",
     "name": "stdout",
     "text": [
      "Running pipeline ... done\n",
      "\n",
      "利用行動裝置應用程式的電子交易認證系統Authentication system of electronic transaction utilizing mobile device application\n",
      "\n"
     ]
    },
    {
     "output_type": "stream",
     "name": "stderr",
     "text": [
      "Inference: 100%|██████████| 1/1 [00:00<00:00,  1.70it/s]\n",
      "Tokenization: 100%|██████████| 1/1 [00:00<00:00, 2392.64it/s]\n",
      "Inference: 100%|██████████| 1/1 [00:01<00:00,  1.19s/it]\n",
      "Tokenization: 100%|██████████| 1/1 [00:00<00:00, 430.10it/s]\n",
      "Inference: 100%|██████████| 1/1 [00:00<00:00,  1.56it/s]\n",
      "Tokenization: 100%|██████████| 1/1 [00:00<00:00, 2003.01it/s]\n",
      "Inference:   0%|          | 0/1 [00:00<?, ?it/s]"
     ]
    },
    {
     "output_type": "stream",
     "name": "stdout",
     "text": [
      "Running pipeline ... done\n",
      "\n",
      "可攜式電子裝置Portable electronic apparatus\n",
      "\n"
     ]
    },
    {
     "output_type": "stream",
     "name": "stderr",
     "text": [
      "Inference: 100%|██████████| 1/1 [00:00<00:00,  1.75it/s]\n",
      "Tokenization: 100%|██████████| 1/1 [00:00<00:00, 1416.52it/s]\n",
      "Inference: 100%|██████████| 1/1 [00:01<00:00,  1.46s/it]\n",
      "Tokenization: 100%|██████████| 1/1 [00:00<00:00, 1681.08it/s]\n",
      "Inference: 100%|██████████| 1/1 [00:00<00:00,  1.65it/s]\n",
      "Tokenization: 100%|██████████| 1/1 [00:00<00:00, 2015.52it/s]\n",
      "Inference:   0%|          | 0/1 [00:00<?, ?it/s]"
     ]
    },
    {
     "output_type": "stream",
     "name": "stdout",
     "text": [
      "Running pipeline ... done\n",
      "\n",
      "以語音操控金融軟體的方法及行動裝置、電腦可讀取的紀錄媒體\n",
      "\n"
     ]
    },
    {
     "output_type": "stream",
     "name": "stderr",
     "text": [
      "Inference: 100%|██████████| 1/1 [00:00<00:00,  1.63it/s]\n",
      "Tokenization: 100%|██████████| 1/1 [00:00<00:00, 1694.67it/s]\n",
      "Inference: 100%|██████████| 1/1 [00:01<00:00,  1.02s/it]\n",
      "Tokenization: 100%|██████████| 1/1 [00:00<00:00, 2341.88it/s]\n",
      "Inference: 100%|██████████| 1/1 [00:00<00:00,  1.66it/s]\n",
      "Tokenization: 100%|██████████| 1/1 [00:00<00:00, 2493.64it/s]\n",
      "Inference:   0%|          | 0/1 [00:00<?, ?it/s]"
     ]
    },
    {
     "output_type": "stream",
     "name": "stdout",
     "text": [
      "Running pipeline ... done\n",
      "\n",
      "利用可支援多組指紋辨識的Android行動裝置登入僅能接受文字型態密碼伺服器的方法,Android行動裝置及電腦可讀取的紀錄媒體\n",
      "\n"
     ]
    },
    {
     "output_type": "stream",
     "name": "stderr",
     "text": [
      "Inference: 100%|██████████| 1/1 [00:00<00:00,  1.71it/s]\n",
      "Tokenization: 100%|██████████| 1/1 [00:00<00:00, 2109.81it/s]\n",
      "Inference: 100%|██████████| 1/1 [00:01<00:00,  1.07s/it]\n",
      "Tokenization: 100%|██████████| 1/1 [00:00<00:00, 1716.16it/s]\n",
      "Inference: 100%|██████████| 1/1 [00:00<00:00,  1.70it/s]\n",
      "Tokenization: 100%|██████████| 1/1 [00:00<00:00, 3116.12it/s]\n",
      "Inference:   0%|          | 0/1 [00:00<?, ?it/s]"
     ]
    },
    {
     "output_type": "stream",
     "name": "stdout",
     "text": [
      "Running pipeline ... done\n",
      "\n",
      "金融商品交易方法與系統\n",
      "\n"
     ]
    },
    {
     "output_type": "stream",
     "name": "stderr",
     "text": [
      "Inference: 100%|██████████| 1/1 [00:00<00:00,  2.18it/s]\n",
      "Tokenization: 100%|██████████| 1/1 [00:00<00:00, 2445.66it/s]\n",
      "Inference: 100%|██████████| 1/1 [00:01<00:00,  1.19s/it]\n",
      "Tokenization: 100%|██████████| 1/1 [00:00<00:00, 2746.76it/s]\n",
      "Inference: 100%|██████████| 1/1 [00:00<00:00,  2.20it/s]\n",
      "Tokenization: 100%|██████████| 1/1 [00:00<00:00, 1971.93it/s]\n",
      "Inference:   0%|          | 0/1 [00:00<?, ?it/s]"
     ]
    },
    {
     "output_type": "stream",
     "name": "stdout",
     "text": [
      "Running pipeline ... done\n",
      "\n",
      "智能股票影像辨識及選股系統\n",
      "\n"
     ]
    },
    {
     "output_type": "stream",
     "name": "stderr",
     "text": [
      "Inference: 100%|██████████| 1/1 [00:00<00:00,  1.84it/s]\n",
      "Tokenization: 100%|██████████| 1/1 [00:00<00:00, 636.95it/s]\n",
      "Inference: 100%|██████████| 1/1 [00:00<00:00,  1.50it/s]\n",
      "Tokenization: 100%|██████████| 1/1 [00:00<00:00, 2590.68it/s]\n",
      "Inference: 100%|██████████| 1/1 [00:00<00:00,  2.03it/s]\n",
      "Tokenization: 100%|██████████| 1/1 [00:00<00:00, 2146.52it/s]\n",
      "Inference:   0%|          | 0/1 [00:00<?, ?it/s]"
     ]
    },
    {
     "output_type": "stream",
     "name": "stdout",
     "text": [
      "Running pipeline ... done\n",
      "\n",
      "基於執行名義中斷時效提醒之自動繕狀及自動傳送的系統Automatic documents assistance and automatic transmission system for reminding interruption of prescription based on entitlement foreclosure\n",
      "\n"
     ]
    },
    {
     "output_type": "stream",
     "name": "stderr",
     "text": [
      "Inference: 100%|██████████| 1/1 [00:00<00:00,  1.93it/s]\n",
      "Tokenization: 100%|██████████| 1/1 [00:00<00:00, 3013.15it/s]\n",
      "Inference: 100%|██████████| 1/1 [00:00<00:00,  1.41it/s]\n",
      "Tokenization: 100%|██████████| 1/1 [00:00<00:00, 2555.94it/s]\n",
      "Inference: 100%|██████████| 1/1 [00:00<00:00,  1.98it/s]\n",
      "Tokenization: 100%|██████████| 1/1 [00:00<00:00, 513.82it/s]\n",
      "Inference:   0%|          | 0/1 [00:00<?, ?it/s]"
     ]
    },
    {
     "output_type": "stream",
     "name": "stdout",
     "text": [
      "Running pipeline ... done\n",
      "\n",
      "跨裝置認證進行非約定帳戶轉帳之網路銀行系統Internet banking system for cross-device authentication to carry out non-predesignated account transfer\n",
      "\n"
     ]
    },
    {
     "output_type": "stream",
     "name": "stderr",
     "text": [
      "Inference: 100%|██████████| 1/1 [00:00<00:00,  2.14it/s]\n",
      "Tokenization: 100%|██████████| 1/1 [00:00<00:00, 656.59it/s]\n",
      "Inference: 100%|██████████| 1/1 [00:00<00:00,  1.44it/s]\n",
      "Tokenization: 100%|██████████| 1/1 [00:00<00:00, 499.50it/s]\n",
      "Inference: 100%|██████████| 1/1 [00:00<00:00,  1.96it/s]\n",
      "Tokenization: 100%|██████████| 1/1 [00:00<00:00, 2576.35it/s]\n",
      "Inference:   0%|          | 0/1 [00:00<?, ?it/s]"
     ]
    },
    {
     "output_type": "stream",
     "name": "stdout",
     "text": [
      "Running pipeline ... done\n",
      "\n",
      "訴訟收文智慧辨識影像作業系統Operation system for intelligent image identification of litigation receipts\n",
      "\n"
     ]
    },
    {
     "output_type": "stream",
     "name": "stderr",
     "text": [
      "Inference: 100%|██████████| 1/1 [00:00<00:00,  2.66it/s]\n",
      "Tokenization: 100%|██████████| 1/1 [00:00<00:00, 2090.88it/s]\n",
      "Inference: 100%|██████████| 1/1 [00:00<00:00,  1.57it/s]\n",
      "Tokenization: 100%|██████████| 1/1 [00:00<00:00, 3334.10it/s]\n",
      "Inference: 100%|██████████| 1/1 [00:00<00:00,  2.82it/s]\n",
      "Tokenization: 100%|██████████| 1/1 [00:00<00:00, 2755.78it/s]\n",
      "Inference:   0%|          | 0/1 [00:00<?, ?it/s]"
     ]
    },
    {
     "output_type": "stream",
     "name": "stdout",
     "text": [
      "Running pipeline ... done\n",
      "\n",
      "智能股利系統Smart dividend system\n",
      "\n"
     ]
    },
    {
     "output_type": "stream",
     "name": "stderr",
     "text": [
      "Inference: 100%|██████████| 1/1 [00:00<00:00,  2.68it/s]\n",
      "Tokenization: 100%|██████████| 1/1 [00:00<00:00, 3097.71it/s]\n",
      "Inference: 100%|██████████| 1/1 [00:00<00:00,  1.03it/s]\n",
      "Tokenization: 100%|██████████| 1/1 [00:00<00:00, 641.82it/s]\n",
      "Inference: 100%|██████████| 1/1 [00:00<00:00,  2.54it/s]\n",
      "Tokenization: 100%|██████████| 1/1 [00:00<00:00, 1763.05it/s]\n",
      "Inference:   0%|          | 0/1 [00:00<?, ?it/s]"
     ]
    },
    {
     "output_type": "stream",
     "name": "stdout",
     "text": [
      "Running pipeline ... done\n",
      "\n",
      "財報優選系統Financial report optimization system\n",
      "\n"
     ]
    },
    {
     "output_type": "stream",
     "name": "stderr",
     "text": [
      "Inference: 100%|██████████| 1/1 [00:00<00:00,  1.33it/s]\n",
      "Tokenization: 100%|██████████| 1/1 [00:00<00:00, 1158.97it/s]\n",
      "Inference: 100%|██████████| 1/1 [00:01<00:00,  1.52s/it]\n",
      "Tokenization: 100%|██████████| 1/1 [00:00<00:00, 2257.43it/s]\n",
      "Inference: 100%|██████████| 1/1 [00:00<00:00,  1.31it/s]\n",
      "Tokenization: 100%|██████████| 1/1 [00:00<00:00, 2169.84it/s]\n",
      "Inference:   0%|          | 0/1 [00:00<?, ?it/s]"
     ]
    },
    {
     "output_type": "stream",
     "name": "stdout",
     "text": [
      "Running pipeline ... done\n",
      "\n",
      "合理股票評價運算裝置Reasonable stock evaluation arithmetic device\n",
      "\n"
     ]
    },
    {
     "output_type": "stream",
     "name": "stderr",
     "text": [
      "Inference: 100%|██████████| 1/1 [00:00<00:00,  1.94it/s]\n",
      "Tokenization: 100%|██████████| 1/1 [00:00<00:00, 1059.17it/s]\n",
      "Inference: 100%|██████████| 1/1 [00:00<00:00,  1.17it/s]\n",
      "Tokenization: 100%|██████████| 1/1 [00:00<00:00, 1770.50it/s]\n",
      "Inference: 100%|██████████| 1/1 [00:00<00:00,  1.95it/s]\n",
      "Tokenization: 100%|██████████| 1/1 [00:00<00:00, 1876.65it/s]\n",
      "Inference:   0%|          | 0/1 [00:00<?, ?it/s]"
     ]
    },
    {
     "output_type": "stream",
     "name": "stdout",
     "text": [
      "Running pipeline ... done\n",
      "\n",
      "組合式快捷下單系統Combined type quick ordering system\n",
      "\n"
     ]
    },
    {
     "output_type": "stream",
     "name": "stderr",
     "text": [
      "Inference: 100%|██████████| 1/1 [00:00<00:00,  2.85it/s]\n",
      "Tokenization: 100%|██████████| 1/1 [00:00<00:00, 2359.00it/s]\n",
      "Inference: 100%|██████████| 1/1 [00:00<00:00,  1.54it/s]\n",
      "Tokenization: 100%|██████████| 1/1 [00:00<00:00, 3269.14it/s]\n",
      "Inference: 100%|██████████| 1/1 [00:00<00:00,  2.90it/s]\n",
      "Tokenization: 100%|██████████| 1/1 [00:00<00:00, 2212.19it/s]\n",
      "Inference:   0%|          | 0/1 [00:00<?, ?it/s]"
     ]
    },
    {
     "output_type": "stream",
     "name": "stdout",
     "text": [
      "Running pipeline ... done\n",
      "\n",
      "股票趨勢鎖利系統Stock trend profit securing system\n",
      "\n"
     ]
    },
    {
     "output_type": "stream",
     "name": "stderr",
     "text": [
      "Inference: 100%|██████████| 1/1 [00:00<00:00,  2.66it/s]\n",
      "Tokenization: 100%|██████████| 1/1 [00:00<00:00, 2348.43it/s]\n",
      "Inference: 100%|██████████| 1/1 [00:01<00:00,  1.05s/it]\n",
      "Tokenization: 100%|██████████| 1/1 [00:00<00:00, 3331.46it/s]\n",
      "Inference: 100%|██████████| 1/1 [00:00<00:00,  2.72it/s]\n",
      "Tokenization: 100%|██████████| 1/1 [00:00<00:00, 913.99it/s]\n",
      "Inference:   0%|          | 0/1 [00:00<?, ?it/s]"
     ]
    },
    {
     "output_type": "stream",
     "name": "stdout",
     "text": [
      "Running pipeline ... done\n",
      "\n",
      "股票健診系統Stock health check system\n",
      "\n"
     ]
    },
    {
     "output_type": "stream",
     "name": "stderr",
     "text": [
      "Inference: 100%|██████████| 1/1 [00:02<00:00,  2.49s/it]\n",
      "Tokenization: 100%|██████████| 1/1 [00:00<00:00, 1145.36it/s]\n",
      "Inference: 100%|██████████| 1/1 [00:06<00:00,  6.52s/it]\n",
      "Tokenization: 100%|██████████| 1/1 [00:00<00:00, 364.94it/s]\n",
      "Inference: 100%|██████████| 1/1 [00:02<00:00,  2.36s/it]\n",
      "Tokenization: 100%|██████████| 1/1 [00:00<00:00, 1567.38it/s]\n",
      "Inference:   0%|          | 0/1 [00:00<?, ?it/s]"
     ]
    },
    {
     "output_type": "stream",
     "name": "stdout",
     "text": [
      "Running pipeline ... done\n",
      "\n",
      "智能推播服務系統與裝置SMART PUSHING SERVICE SYSTEM AND DEVICE\n",
      "\n"
     ]
    },
    {
     "output_type": "stream",
     "name": "stderr",
     "text": [
      "Inference: 100%|██████████| 1/1 [00:01<00:00,  1.04s/it]\n",
      "Tokenization: 100%|██████████| 1/1 [00:00<00:00, 2158.67it/s]\n",
      "Inference: 100%|██████████| 1/1 [00:02<00:00,  2.58s/it]\n",
      "Tokenization: 100%|██████████| 1/1 [00:00<00:00, 1242.02it/s]\n",
      "Inference: 100%|██████████| 1/1 [00:01<00:00,  1.17s/it]\n",
      "Tokenization: 100%|██████████| 1/1 [00:00<00:00, 2065.14it/s]\n",
      "Inference:   0%|          | 0/1 [00:00<?, ?it/s]"
     ]
    },
    {
     "output_type": "stream",
     "name": "stdout",
     "text": [
      "Running pipeline ... done\n",
      "\n",
      "線上機器人客服系統ONLINE ROBOT CUSTOMER SERVICE SYSTEM\n",
      "\n"
     ]
    },
    {
     "output_type": "stream",
     "name": "stderr",
     "text": [
      "Inference: 100%|██████████| 1/1 [00:00<00:00,  1.94it/s]\n",
      "Tokenization: 100%|██████████| 1/1 [00:00<00:00, 838.36it/s]\n",
      "Inference: 100%|██████████| 1/1 [00:01<00:00,  1.27s/it]\n",
      "Tokenization: 100%|██████████| 1/1 [00:00<00:00, 2114.06it/s]\n",
      "Inference: 100%|██████████| 1/1 [00:00<00:00,  2.01it/s]\n",
      "Tokenization: 100%|██████████| 1/1 [00:00<00:00, 1012.14it/s]\n",
      "Inference:   0%|          | 0/1 [00:00<?, ?it/s]"
     ]
    },
    {
     "output_type": "stream",
     "name": "stdout",
     "text": [
      "Running pipeline ... done\n",
      "\n",
      "行動理財秘書系統Mobile financial management secretary system\n",
      "\n"
     ]
    },
    {
     "output_type": "stream",
     "name": "stderr",
     "text": [
      "Inference: 100%|██████████| 1/1 [00:00<00:00,  1.78it/s]\n",
      "Tokenization: 100%|██████████| 1/1 [00:00<00:00, 1992.54it/s]\n",
      "Inference: 100%|██████████| 1/1 [00:01<00:00,  1.06s/it]\n",
      "Tokenization: 100%|██████████| 1/1 [00:00<00:00, 1791.67it/s]\n",
      "Inference: 100%|██████████| 1/1 [00:00<00:00,  1.85it/s]"
     ]
    },
    {
     "output_type": "stream",
     "name": "stdout",
     "text": [
      "Running pipeline ... done\n",
      "\n",
      "雲端智能交易系統Cloud smart trading system\n",
      "\n",
      "118\n",
      "                    申請日                                                 名稱  \\\n",
      "公開/公告號                                                                       \n",
      "TWM614130    2021/04/06  推薦名單產製系統SYSTEMS FOR GENERATING RECOMMENDATION ...   \n",
      "TWM614128    2021/04/01  適於支付保險賠款的電子裝置ELECTRONIC DEVICE SUITABLE FOR PA...   \n",
      "TWM614127    2021/04/01  適於分派理賠案件的電子裝置ELECTRONIC DEVICE SUITABLE FOR AS...   \n",
      "TWM613667    2021/03/09   職業代碼推薦系統NUMERICAL JOB CODE RECOMMENDATION SYSTEM   \n",
      "TW202119399  2019/11/08  基於區塊鏈之保險系統及其保險方法BLOCKCHAIN BASED INSURANCE SYS...   \n",
      "...                 ...                                                ...   \n",
      "TWM579353U   2019/03/13                    股票健診系統Stock health check system   \n",
      "TWM573039U   2018/11/13  智能推播服務系統與裝置SMART PUSHING SERVICE SYSTEM AND DE...   \n",
      "TWM547715U   2017/05/08      線上機器人客服系統ONLINE ROBOT CUSTOMER SERVICE SYSTEM   \n",
      "TWM540337U   2016/12/28  行動理財秘書系統Mobile financial management secretary ...   \n",
      "TWM536384U   2016/11/04                 雲端智能交易系統Cloud smart trading system   \n",
      "\n",
      "                                                           申請人  \\\n",
      "公開/公告號                                                           \n",
      "TWM614130    富邦人壽保險股份有限公司; FUBON LIFE INSURANCE CO., LTD. (TW)   \n",
      "TWM614128         富邦產物保險股份有限公司; FUBON INSURANCE CO., LTD. (TW)   \n",
      "TWM614127         富邦產物保險股份有限公司; FUBON INSURANCE CO., LTD. (TW)   \n",
      "TWM613667    富邦人壽保險股份有限公司; FUBON LIFE INSURANCE CO., LTD. (TW)   \n",
      "TW202119399  富邦人壽保險股份有限公司; FUBON LIFE INSURANCE CO., LTD. (TW)   \n",
      "...                                                        ...   \n",
      "TWM579353U       日盛證券股份有限公司; JIH SUN SECURITIES CO., LTD. (TW)   \n",
      "TWM573039U   日盛國際商業銀行股份有限公司; JIH SUN INTERNATIONAL BANK, LT...   \n",
      "TWM547715U       日盛證券股份有限公司; JIH SUN SECURITIES CO., LTD. (TW)   \n",
      "TWM540337U       日盛證券股份有限公司; JIH SUN SECURITIES CO., LTD. (TW)   \n",
      "TWM536384U       日盛證券股份有限公司; JIH SUN SECURITIES CO., LTD. (TW)   \n",
      "\n",
      "                                                           IPC 引用專利  被參考次數  \\\n",
      "公開/公告號                                                                       \n",
      "TWM614130             G06Q 30/02(2012.01); G06Q 40/00(2012.01)  NaN    NaN   \n",
      "TWM614128             G06Q 20/08(2012.01); G06Q 40/08(2012.01)  NaN    NaN   \n",
      "TWM614127                                  G06Q 50/00(2012.01)  NaN    NaN   \n",
      "TWM613667    G06F 16/14(2019.01); G06F 21/30(2013.01); G06Q...  NaN    NaN   \n",
      "TW202119399  G10L 25/00(2013.01); G06Q 50/18(2012.01); G06Q...  NaN    NaN   \n",
      "...                                                        ...  ...    ...   \n",
      "TWM579353U            G06Q 40/04(2012.01); G06Q 40/06(2012.01)  NaN    NaN   \n",
      "TWM573039U                                 G06Q 40/04(2012.01)  NaN    1.0   \n",
      "TWM547715U                                 G06Q 40/06(2012.01)  NaN    4.0   \n",
      "TWM540337U                                 G06Q 40/04(2012.01)  NaN    3.0   \n",
      "TWM536384U                                 G06Q 40/00(2012.01)  NaN    1.0   \n",
      "\n",
      "                                                          專利摘要  \\\n",
      "公開/公告號                                                           \n",
      "TWM614130    ﻿一種推薦名單產製系統，系統包括一業務員資料庫、一登入模組、一名單模組、一第一客戶互動紀錄資...   \n",
      "TWM614128    ﻿提供一種適於支付保險賠款的電子裝置。所述電子裝置包括儲存媒體、收發器以及處理器。儲存媒體儲...   \n",
      "TWM614127    ﻿提供一種適於分派理賠案件的電子裝置。所述電子裝置包括收發器、儲存媒體以及處理器。儲存媒體儲...   \n",
      "TWM613667    ﻿一種職業代碼推薦系統，系統包括一資料接收模組、一斷詞模組、一比對模組、一資料輸出模組以及多...   \n",
      "TW202119399  一種基於區塊鏈之保險系統，包括平台單元、身分驗證單元、終端區塊鏈單元、儲存單元、合約管理單元...   \n",
      "...                                                        ...   \n",
      "TWM579353U   ﻿本創作係揭露一種股票健診系統，包括：處理器，進行資料運算以供系統使用，並進行系統之資訊協調...   \n",
      "TWM573039U   ﻿本新型提出一種安裝有應用程式的智能推播服務裝置，其包括至少一處理器，組態以：接收並顯示來自...   \n",
      "TWM547715U   ﻿本創作係一種線上機器人客服系統，包含：輸入模組，接收客戶端裝置輸入的輸入資料；連結模組，連...   \n",
      "TWM540337U   ﻿本新型提出一種行動理財秘書系統，其包含：操控和顯示單元、處理器、資訊主動推播模組、交易通知...   \n",
      "TWM536384U   ﻿本新型提出一種智能交易系統，其與交易所電腦通訊連接。智能交易系統包含：操控和顯示單元、處理...   \n",
      "\n",
      "                                                         摘要關鍵字  \\\n",
      "公開/公告號                                                           \n",
      "TWM614130    [(名單模組, 3), (推薦名單, 2), (客戶名單, 2), (歷史推薦, 2), (...   \n",
      "TWM614128    [(儲存媒體, 3), (電子裝置, 2), (支付保險, 1), (處理器耦接, 1), ...   \n",
      "TWM614127    [(理賠案件, 6), (儲存媒體, 3), (員工狀態檔, 3), (電子裝置, 2), ...   \n",
      "TWM613667    [(職業代碼, 2), (資料輸出, 2), (推薦結果, 2), (推薦系統, 1), (...   \n",
      "TW202119399  [(區塊鏈, 8), (儲存單元, 3), (核心單元, 3), (保險商品, 3), (購...   \n",
      "...                                                        ...   \n",
      "TWM579353U   [(接收處理器, 3), (通訊模組, 2), (股票健診, 1), (進行資料, 1), ...   \n",
      "TWM573039U   [(定位資訊, 3), (服務據點, 2), (座標資訊, 2), (新型提出, 1), (...   \n",
      "TWM547715U   [(線上機器人, 1), (客服系統, 1), (裝置輸入, 1), (連結模組, 1), ...   \n",
      "TWM540337U   [(秘書系統, 2), (行動裝置, 2), (使用者, 2), (﻿本新型, 1), (推...   \n",
      "TWM536384U   [(交易條件, 4), (智能交易, 3), (控制模組, 3), (使用者, 2), (﻿...   \n",
      "\n",
      "                                                         摘要常用字  \\\n",
      "公開/公告號                                                           \n",
      "TWM614130    [(名單, 13), (模組, 9), (推薦, 5), (業務員, 4), (客戶, 4)...   \n",
      "TWM614128    [(時間點, 8), (核准, 5), (儲存, 4), (媒體, 3), (收發器, 3)...   \n",
      "TWM614127    [(案件, 7), (理賠, 6), (員工, 6), (儲存, 5), (包括, 3), ...   \n",
      "TWM613667    [(資料, 7), (模組, 7), (職業, 3), (代碼, 3), (推薦, 3), ...   \n",
      "TW202119399  [(單元, 15), (區塊, 8), (鏈, 8), (資料, 7), (合約, 6), ...   \n",
      "...                                                        ...   \n",
      "TWM579353U   [(系統, 4), (處理器, 4), (股票, 3), (接收, 3), (指令, 3),...   \n",
      "TWM573039U   [(服務, 5), (資訊, 5), (定位, 4), (據點, 3), (應用, 2), ...   \n",
      "TWM547715U   [(模組, 4), (資料, 4), (裝置, 2), (輸入, 2), (連結, 2), ...   \n",
      "TWM540337U   [(模組, 7), (行動, 5), (理財, 3), (新型, 2), (秘書, 2), ...   \n",
      "TWM536384U   [(交易, 13), (單元, 6), (資料, 6), (模組, 6), (條件, 5),...   \n",
      "\n",
      "                                                        TF_IDF  \n",
      "公開/公告號                                                          \n",
      "TWM614130    [(資料輸出, 0.04), (紀錄資料庫, 0.04), (產製系統, 0.04), (歷...  \n",
      "TWM614128    [(電子裝置, 0.27), (通過收發器, 0.22), (處理器耦接, 0.22), (...  \n",
      "TWM614127    [(電子裝置, 0.08), (通過收發器, 0.07), (輸出結果, 0.08), (複...  \n",
      "TWM613667    [(資料輸出, -0.09), (資料接收, 0.0), (詞組進行, 0.0), (職業小...  \n",
      "TW202119399  [(進行一致性, 0.02), (購買資料, 0.0), (資料進行, 0.02), (資料...  \n",
      "...                                                        ...  \n",
      "TWM579353U   [(進行資料, 0.08), (進行系統, 0.08), (通訊模組, 0.08), (資訊...  \n",
      "TWM573039U   [(服務項目, 0.15), (服務據點, 0.2), (新型提出, 0.15), (提供服...  \n",
      "TWM547715U   [(連結模組, 0.2), (輸出資料, 0.2), (輸出模組, 0.2), (解析輸入,...  \n",
      "TWM540337U   [(﻿本新型, 0.07), (電腦看盤, 0.07), (行動裝置, 0.05), (自選...  \n",
      "TWM536384U   [(﻿本新型, 0.12), (電腦通訊, 0.12), (模組訊號, 0.12), (條件...  \n",
      "\n",
      "[118 rows x 10 columns]\n",
      "富邦金控 is done\n"
     ]
    },
    {
     "output_type": "stream",
     "name": "stderr",
     "text": [
      "\n",
      "<ipython-input-81-48a7f93a7c58>:29: FutureWarning: As the xlwt package is no longer maintained, the xlwt engine will be removed in a future version of pandas. This is the only engine in pandas that supports writing in the xls format. Install openpyxl and write to an xlsx file instead. You can set the option io.excel.xls.writer to 'xlwt' to silence this warning. While this option is deprecated and will also raise a warning, it can be globally set and the warning suppressed.\n",
      "  pd.DataFrame(bank).to_excel(result)\n"
     ]
    }
   ],
   "metadata": {}
  },
  {
   "cell_type": "code",
   "execution_count": null,
   "source": [],
   "outputs": [],
   "metadata": {}
  }
 ],
 "metadata": {
  "kernelspec": {
   "name": "python3",
   "display_name": "Python 3.8.8 64-bit ('base': conda)"
  },
  "language_info": {
   "codemirror_mode": {
    "name": "ipython",
    "version": 3
   },
   "file_extension": ".py",
   "mimetype": "text/x-python",
   "name": "python",
   "nbconvert_exporter": "python",
   "pygments_lexer": "ipython3",
   "version": "3.8.8"
  },
  "interpreter": {
   "hash": "dca0ade3e726a953b501b15e8e990130d2b7799f14cfd9f4271676035ebe5511"
  }
 },
 "nbformat": 4,
 "nbformat_minor": 5
}