{
 "cells": [
  {
   "cell_type": "code",
   "execution_count": 1,
   "source": [
    "from ckip_transformers.nlp import CkipWordSegmenter, CkipPosTagger, CkipNerChunker\n",
    "import pandas as pd\n",
    "from pandas import ExcelWriter\n",
    "from collections import Counter\n",
    "import math\n",
    "\n",
    "print(\"Initializing drivers ... WS\")\n",
    "ws_driver = CkipWordSegmenter(level=2)\n",
    "print(\"Initializing drivers ... POS\")\n",
    "pos_driver = CkipPosTagger(level=2)\n",
    "print(\"Initializing drivers ... NER\")\n",
    "ner_driver = CkipNerChunker(level=2)\n",
    "print(\"Initializing drivers ... done\")\n",
    "print()\n"
   ],
   "outputs": [
    {
     "output_type": "stream",
     "name": "stdout",
     "text": [
      "Initializing drivers ... WS\n",
      "Initializing drivers ... POS\n",
      "Initializing drivers ... NER\n",
      "Initializing drivers ... done\n",
      "\n"
     ]
    }
   ],
   "metadata": {}
  },
  {
   "cell_type": "code",
   "execution_count": 12,
   "source": [
    "# Input text\n",
    "fileName=\"兆豐金\"\n",
    "filename = \"./_target/\"+fileName+\".xls\"\n",
    "result=\"./_target/\"+fileName+\"reslt.xls\"\n",
    "file = pd.read_excel(filename)\n",
    "print(len(file))\n",
    "print(file.head(1))\n",
    "\n"
   ],
   "outputs": [
    {
     "output_type": "stream",
     "name": "stdout",
     "text": [
      "420\n",
      "        公開/公告號    公開/公告日          申請號       申請日  \\\n",
      "0  TW202125386  20210701  TW108146201  20191217   \n",
      "\n",
      "                                                專利名稱  \\\n",
      "0  銀行內部之信用風險評估系統及其方法INTERNAL SYSTEM OF BANK FOR C...   \n",
      "\n",
      "                               申請人  \\\n",
      "0  臺灣銀行股份有限公司; BANK OF TAIWAN (TW)   \n",
      "\n",
      "                                                  摘要  \\\n",
      "0  一種銀行內部之信用風險評估系統，包括：一資料管理裝置及一評估裝置。上述資料管理裝置，包括一內...   \n",
      "\n",
      "                                        IPC 引用專利  被參考次數  \n",
      "0  G06Q 40/08(2012.01); G06Q 10/06(2012.01)    0    0.0  \n"
     ]
    }
   ],
   "metadata": {}
  },
  {
   "cell_type": "code",
   "execution_count": 13,
   "source": [
    "var=file[\"摘要\"]\n",
    "name=file[\"專利名稱\"]\n",
    "sort_key=[]\n",
    "sort_words=[]\n",
    "for i in range (len(file)) :\n",
    "    text =[var[i]]\n",
    "    sent_cnt=0\n",
    "    \n",
    "    self_list=[]## get combine word \n",
    "    common_list=[]## get the most common word \n",
    "    document=[]\n",
    "    #Run pipeline\n",
    "    #print(\"Running pipeline ... WS\")\n",
    "    ws = ws_driver(text)\n",
    "    #print(\"Running pipeline ... POS\")\n",
    "    pos = pos_driver(ws)\n",
    "    #print(\"Running pipeline ... NER\")\n",
    "    \n",
    "    ner = ner_driver(text)\n",
    "    \n",
    "    print(\"Running pipeline ... done\")\n",
    "    \n",
    "    print()\n",
    "    def pack_ws_pos_sentece(sentence_ws, sentence_pos):\n",
    "        assert len(sentence_ws) == len(sentence_pos)\n",
    "        res = []\n",
    "             \n",
    "        ## 字詞的組合 根據屬性表將名詞-> 專有名詞 來增加字詞的特殊性\n",
    "        pre_pos=''\n",
    "        pre_ws=''\n",
    "        for word_ws, word_pos in zip(sentence_ws, sentence_pos):\n",
    "            ## 寫的好爛... 可以透過語言結構做優化\n",
    "            res.append(f\"{word_ws}({word_pos})\")\n",
    "            \n",
    "            if(word_pos==\"Na\" or \"V\" in word_pos):\n",
    "                common_list.append(word_ws)\n",
    "                \n",
    "            if((word_pos == \"Na\"or word_pos==\"VC\") and pre_pos!='' ):\n",
    "            # use \n",
    "                Nb=f\"{pre_ws}{word_ws}\"\n",
    "                #print(Nb)\n",
    "                self_list.append(pre_ws+word_ws)\n",
    "                #res.append(f\"{Nb}(Nb)\")\n",
    "                pre_pos=\"\"\n",
    "                pre_ws=\"\"\n",
    "                    \n",
    "            else :\n",
    "                ## memorizing\n",
    "                if(word_pos==\"VC\" or word_pos==\"VD\" or word_pos==\"Na\" or word_pos==\"Nb\"):\n",
    "                    pre_pos=word_pos\n",
    "                    pre_ws=word_ws\n",
    "                    \n",
    "                else :\n",
    "                    pre_pos=''\n",
    "                    pre_ws=''\n",
    "                    #res.append(f\"{word_ws}({word_pos})\")\n",
    "            if(word_pos==\"PERIODCATEGORY\" or word_pos==\"SEMICOLONCATEGORY\"):\n",
    "                global sent_cnt,document\n",
    "                sent_cnt+=1\n",
    "                #print(word_ws+\"\"+str(sent_cnt))\n",
    "                \n",
    "                document.append(res)\n",
    "            \n",
    "        return \"\\u3000\".join(res)\n",
    "    \n",
    "    \n",
    "    ## zip指標的標記\n",
    "    for sentence, sentence_ws, sentence_pos, sentence_ner in zip(text, ws, pos, ner):\n",
    "        #print(pos)\n",
    "        pack_ws_pos_sentece(sentence_ws, sentence_pos)\n",
    "    sort_key.append(Counter(self_list).most_common(10))\n",
    "\n",
    "    sort_words.append(Counter(common_list).most_common(10))\n",
    "    print(name[i])\n",
    "    print(\"done\")\n",
    "    #print(sentence)\n",
    "    print(\"------------\")\n",
    "#     print(sort_key[i])\n",
    "#     print(\"------------\")\n",
    "#     print(sort_words[i])\n",
    "#     for words in sort_key:\n",
    "#         _TF=(words[1]/len(pos)) \n",
    "#         _IDF=math.log(words[1]/sent_cnt)\n",
    "#         print(words[0])\n",
    "#         print(_TF*_IDF)\n",
    "#         print()\n",
    "        #print(+str(TF_IDF))\n",
    "\n",
    "    # for entity in sentence_ner:\n",
    "    #     print(entity)\n",
    "    print()\n",
    "    del text\n",
    "    del self_list,common_list,document \n"
   ],
   "outputs": [
    {
     "output_type": "stream",
     "name": "stderr",
     "text": [
      "Tokenization: 100%|██████████| 1/1 [00:00<00:00, 380.68it/s]\n",
      "Inference: 100%|██████████| 1/1 [00:03<00:00,  3.86s/it]\n",
      "Tokenization: 100%|██████████| 1/1 [00:00<00:00, 502.49it/s]\n",
      "Inference: 100%|██████████| 1/1 [00:23<00:00, 23.85s/it]\n",
      "Tokenization: 100%|██████████| 1/1 [00:00<00:00, 88.50it/s]\n",
      "Inference: 100%|██████████| 1/1 [00:03<00:00,  3.54s/it]\n",
      "Tokenization: 100%|██████████| 1/1 [00:00<00:00, 302.77it/s]\n",
      "Inference:   0%|          | 0/1 [00:00<?, ?it/s]"
     ]
    },
    {
     "output_type": "stream",
     "name": "stdout",
     "text": [
      "Running pipeline ... done\n",
      "\n",
      "銀行內部之信用風險評估系統及其方法INTERNAL SYSTEM OF BANK FOR CREIDT RISK EVLUATION AND METHOHD THEREOF\n",
      "done\n",
      "------------\n",
      "\n"
     ]
    },
    {
     "output_type": "stream",
     "name": "stderr",
     "text": [
      "Inference: 100%|██████████| 1/1 [00:02<00:00,  2.40s/it]\n",
      "Tokenization: 100%|██████████| 1/1 [00:00<00:00, 614.64it/s]\n",
      "Inference: 100%|██████████| 1/1 [00:11<00:00, 11.68s/it]\n",
      "Tokenization: 100%|██████████| 1/1 [00:00<00:00, 396.66it/s]\n",
      "Inference: 100%|██████████| 1/1 [00:02<00:00,  2.32s/it]\n",
      "Tokenization: 100%|██████████| 1/1 [00:00<00:00, 823.54it/s]\n",
      "Inference:   0%|          | 0/1 [00:00<?, ?it/s]"
     ]
    },
    {
     "output_type": "stream",
     "name": "stdout",
     "text": [
      "Running pipeline ... done\n",
      "\n",
      "金融機構之特定商家推薦系統及其方法SPECIFIC MERCHANT RECOMMENDATION SYSTEM OF FINANCIAL INSTITUTIONS AND METHOD THEREOF\n",
      "done\n",
      "------------\n",
      "\n"
     ]
    },
    {
     "output_type": "stream",
     "name": "stderr",
     "text": [
      "Inference: 100%|██████████| 1/1 [00:02<00:00,  2.38s/it]\n",
      "Tokenization: 100%|██████████| 1/1 [00:00<00:00, 932.90it/s]\n",
      "Inference: 100%|██████████| 1/1 [00:07<00:00,  7.49s/it]\n",
      "Tokenization: 100%|██████████| 1/1 [00:00<00:00, 803.20it/s]\n",
      "Inference: 100%|██████████| 1/1 [00:02<00:00,  2.41s/it]\n",
      "Tokenization: 100%|██████████| 1/1 [00:00<00:00, 742.88it/s]\n",
      "Inference:   0%|          | 0/1 [00:00<?, ?it/s]"
     ]
    },
    {
     "output_type": "stream",
     "name": "stdout",
     "text": [
      "Running pipeline ... done\n",
      "\n",
      "個人化服務之約定扣繳帳戶管理系統PERSONALIZED SERVICE AGREEMENT WITHHOLDING ACCOUNT MANAGEMENT SYSTEM\n",
      "done\n",
      "------------\n",
      "\n"
     ]
    },
    {
     "output_type": "stream",
     "name": "stderr",
     "text": [
      "Inference: 100%|██████████| 1/1 [00:03<00:00,  3.54s/it]\n",
      "Tokenization: 100%|██████████| 1/1 [00:00<00:00, 811.59it/s]\n",
      "Inference: 100%|██████████| 1/1 [00:15<00:00, 15.77s/it]\n",
      "Tokenization: 100%|██████████| 1/1 [00:00<00:00, 226.13it/s]\n",
      "Inference: 100%|██████████| 1/1 [00:03<00:00,  3.54s/it]\n",
      "Tokenization: 100%|██████████| 1/1 [00:00<00:00, 670.23it/s]\n",
      "Inference:   0%|          | 0/1 [00:00<?, ?it/s]"
     ]
    },
    {
     "output_type": "stream",
     "name": "stdout",
     "text": [
      "Running pipeline ... done\n",
      "\n",
      "洗錢防制法疑似案例輔助判斷系統MONEY LAUNDERING PREVENTION LAW AND SUSPECTED CASE AID JUDGMENT SYSTEM\n",
      "done\n",
      "------------\n",
      "\n"
     ]
    },
    {
     "output_type": "stream",
     "name": "stderr",
     "text": [
      "Inference: 100%|██████████| 1/1 [00:03<00:00,  3.47s/it]\n",
      "Tokenization: 100%|██████████| 1/1 [00:00<00:00, 705.28it/s]\n",
      "Inference: 100%|██████████| 1/1 [00:24<00:00, 24.07s/it]\n",
      "Tokenization: 100%|██████████| 1/1 [00:00<00:00, 63.93it/s]\n",
      "Inference: 100%|██████████| 1/1 [00:03<00:00,  3.51s/it]\n",
      "Tokenization: 100%|██████████| 1/1 [00:00<00:00, 996.04it/s]\n",
      "Inference:   0%|          | 0/1 [00:00<?, ?it/s]"
     ]
    },
    {
     "output_type": "stream",
     "name": "stdout",
     "text": [
      "Running pipeline ... done\n",
      "\n",
      "自動匯兌系統及其方法AUTOMATIC EXCHANGE SYSTEM AND METHOD THEREOF\n",
      "done\n",
      "------------\n",
      "\n"
     ]
    },
    {
     "output_type": "stream",
     "name": "stderr",
     "text": [
      "Inference: 100%|██████████| 1/1 [00:02<00:00,  2.38s/it]\n",
      "Tokenization: 100%|██████████| 1/1 [00:00<00:00, 1615.68it/s]\n",
      "Inference: 100%|██████████| 1/1 [00:05<00:00,  5.15s/it]\n",
      "Tokenization: 100%|██████████| 1/1 [00:00<00:00, 807.68it/s]\n",
      "Inference: 100%|██████████| 1/1 [00:02<00:00,  2.39s/it]\n",
      "Tokenization: 100%|██████████| 1/1 [00:00<00:00, 660.94it/s]\n",
      "Inference:   0%|          | 0/1 [00:00<?, ?it/s]"
     ]
    },
    {
     "output_type": "stream",
     "name": "stdout",
     "text": [
      "Running pipeline ... done\n",
      "\n",
      "跨銀行的申貸系統及其方法CROSS-BANK LOAN APPLICATION SYSTEM AND METHOD THEREOF\n",
      "done\n",
      "------------\n",
      "\n"
     ]
    },
    {
     "output_type": "stream",
     "name": "stderr",
     "text": [
      "Inference: 100%|██████████| 1/1 [00:03<00:00,  3.53s/it]\n",
      "Tokenization: 100%|██████████| 1/1 [00:00<00:00, 706.71it/s]\n",
      "Inference: 100%|██████████| 1/1 [00:26<00:00, 26.51s/it]\n",
      "Tokenization: 100%|██████████| 1/1 [00:00<00:00, 76.79it/s]\n",
      "Inference: 100%|██████████| 1/1 [00:03<00:00,  3.52s/it]\n",
      "Tokenization: 100%|██████████| 1/1 [00:00<00:00, 781.35it/s]\n",
      "Inference:   0%|          | 0/1 [00:00<?, ?it/s]"
     ]
    },
    {
     "output_type": "stream",
     "name": "stdout",
     "text": [
      "Running pipeline ... done\n",
      "\n",
      "身份管理與授權系統及其方法SYSTEM OF IDENTITY MANAGEMENT AND AUTHORIZATION AND METHOD THEREOF\n",
      "done\n",
      "------------\n",
      "\n"
     ]
    },
    {
     "output_type": "stream",
     "name": "stderr",
     "text": [
      "Inference: 100%|██████████| 1/1 [00:02<00:00,  2.64s/it]\n",
      "Tokenization: 100%|██████████| 1/1 [00:00<00:00, 906.68it/s]\n",
      "Inference: 100%|██████████| 1/1 [00:19<00:00, 19.19s/it]\n",
      "Tokenization: 100%|██████████| 1/1 [00:00<00:00, 242.61it/s]\n",
      "Inference: 100%|██████████| 1/1 [00:02<00:00,  2.45s/it]\n",
      "Tokenization: 100%|██████████| 1/1 [00:00<00:00, 525.54it/s]\n",
      "Inference:   0%|          | 0/1 [00:00<?, ?it/s]"
     ]
    },
    {
     "output_type": "stream",
     "name": "stdout",
     "text": [
      "Running pipeline ... done\n",
      "\n",
      "貿易融資文件黑名單掃瞄辨識系統及其方法TRADE FINANCE DOCUMENT SANCTION LIST SCAN IDENTIFICATION SYSTEM AND METHOD THEREOF\n",
      "done\n",
      "------------\n",
      "\n"
     ]
    },
    {
     "output_type": "stream",
     "name": "stderr",
     "text": [
      "Inference: 100%|██████████| 1/1 [00:04<00:00,  4.76s/it]\n",
      "Tokenization: 100%|██████████| 1/1 [00:00<00:00, 744.46it/s]\n",
      "Inference: 100%|██████████| 1/1 [00:18<00:00, 18.18s/it]\n",
      "Tokenization: 100%|██████████| 1/1 [00:00<00:00, 98.28it/s]\n",
      "Inference: 100%|██████████| 1/1 [00:04<00:00,  4.82s/it]\n",
      "Tokenization: 100%|██████████| 1/1 [00:00<00:00, 1145.36it/s]\n",
      "Inference:   0%|          | 0/1 [00:00<?, ?it/s]"
     ]
    },
    {
     "output_type": "stream",
     "name": "stdout",
     "text": [
      "Running pipeline ... done\n",
      "\n",
      "銀行聯合貸款區塊鏈系統BLOCKCHAIN SYSTEM FOR BANK JOINT LOANS\n",
      "done\n",
      "------------\n",
      "\n"
     ]
    },
    {
     "output_type": "stream",
     "name": "stderr",
     "text": [
      "Inference: 100%|██████████| 1/1 [00:02<00:00,  2.39s/it]\n",
      "Tokenization: 100%|██████████| 1/1 [00:00<00:00, 1529.09it/s]\n",
      "Inference: 100%|██████████| 1/1 [00:10<00:00, 10.01s/it]\n",
      "Tokenization: 100%|██████████| 1/1 [00:00<00:00, 371.87it/s]\n",
      "Inference: 100%|██████████| 1/1 [00:02<00:00,  2.44s/it]\n",
      "Tokenization: 100%|██████████| 1/1 [00:00<00:00, 5377.31it/s]\n",
      "Inference:   0%|          | 0/1 [00:00<?, ?it/s]"
     ]
    },
    {
     "output_type": "stream",
     "name": "stdout",
     "text": [
      "Running pipeline ... done\n",
      "\n",
      "智慧帳號辨識系統及其方法SMART ACCOUNT IDENTIFICATION SYSTEM AND METHOD THEREOF\n",
      "done\n",
      "------------\n",
      "\n"
     ]
    },
    {
     "output_type": "stream",
     "name": "stderr",
     "text": [
      "Inference: 100%|██████████| 1/1 [00:00<00:00,  4.09it/s]\n",
      "Tokenization: 100%|██████████| 1/1 [00:00<00:00, 2252.58it/s]\n",
      "Inference: 100%|██████████| 1/1 [00:00<00:00,  3.11it/s]\n",
      "Tokenization: 100%|██████████| 1/1 [00:00<00:00, 3728.27it/s]\n",
      "Inference: 100%|██████████| 1/1 [00:00<00:00,  4.61it/s]\n",
      "Tokenization: 100%|██████████| 1/1 [00:00<00:00, 1912.59it/s]\n",
      "Inference:   0%|          | 0/1 [00:00<?, ?it/s]"
     ]
    },
    {
     "output_type": "stream",
     "name": "stdout",
     "text": [
      "Running pipeline ... done\n",
      "\n",
      "銀行自動化填寫購買外幣表單方法\n",
      "done\n",
      "------------\n",
      "\n"
     ]
    },
    {
     "output_type": "stream",
     "name": "stderr",
     "text": [
      "Inference: 100%|██████████| 1/1 [00:00<00:00,  2.34it/s]\n",
      "Tokenization: 100%|██████████| 1/1 [00:00<00:00, 2618.17it/s]\n",
      "Inference: 100%|██████████| 1/1 [00:00<00:00,  1.38it/s]\n",
      "Tokenization: 100%|██████████| 1/1 [00:00<00:00, 1389.30it/s]\n",
      "Inference: 100%|██████████| 1/1 [00:00<00:00,  2.19it/s]\n",
      "Tokenization: 100%|██████████| 1/1 [00:00<00:00, 2178.86it/s]\n",
      "Inference:   0%|          | 0/1 [00:00<?, ?it/s]"
     ]
    },
    {
     "output_type": "stream",
     "name": "stdout",
     "text": [
      "Running pipeline ... done\n",
      "\n",
      "運用虛擬實境、手勢辨識及自然語言處理技術應用於金融交易與客服處理方法\n",
      "done\n",
      "------------\n",
      "\n"
     ]
    },
    {
     "output_type": "stream",
     "name": "stderr",
     "text": [
      "Inference: 100%|██████████| 1/1 [00:00<00:00,  3.10it/s]\n",
      "Tokenization: 100%|██████████| 1/1 [00:00<00:00, 2032.12it/s]\n",
      "Inference: 100%|██████████| 1/1 [00:00<00:00,  2.59it/s]\n",
      "Tokenization: 100%|██████████| 1/1 [00:00<00:00, 3310.42it/s]\n",
      "Inference: 100%|██████████| 1/1 [00:00<00:00,  3.28it/s]\n",
      "Tokenization: 100%|██████████| 1/1 [00:00<00:00, 563.15it/s]\n",
      "Inference:   0%|          | 0/1 [00:00<?, ?it/s]"
     ]
    },
    {
     "output_type": "stream",
     "name": "stdout",
     "text": [
      "Running pipeline ... done\n",
      "\n",
      "理專及客戶生活圈配適方法\n",
      "done\n",
      "------------\n",
      "\n"
     ]
    },
    {
     "output_type": "stream",
     "name": "stderr",
     "text": [
      "Inference: 100%|██████████| 1/1 [00:02<00:00,  2.40s/it]\n",
      "Tokenization: 100%|██████████| 1/1 [00:00<00:00, 1292.15it/s]\n",
      "Inference: 100%|██████████| 1/1 [00:28<00:00, 28.92s/it]\n",
      "Tokenization: 100%|██████████| 1/1 [00:00<00:00, 79.59it/s]\n",
      "Inference: 100%|██████████| 1/1 [00:02<00:00,  2.48s/it]\n",
      "Tokenization: 100%|██████████| 1/1 [00:00<00:00, 875.64it/s]\n",
      "Inference:   0%|          | 0/1 [00:00<?, ?it/s]"
     ]
    },
    {
     "output_type": "stream",
     "name": "stdout",
     "text": [
      "Running pipeline ... done\n",
      "\n",
      "實體貨幣拍賣系統及其拍賣方法SYSTEM FOR AUCTION OF MATERIAL MONEY AND AUCTION METHOD THEREOF\n",
      "done\n",
      "------------\n",
      "\n"
     ]
    },
    {
     "output_type": "stream",
     "name": "stderr",
     "text": [
      "Inference: 100%|██████████| 1/1 [00:02<00:00,  2.70s/it]\n",
      "Tokenization: 100%|██████████| 1/1 [00:00<00:00, 712.83it/s]\n",
      "Inference: 100%|██████████| 1/1 [00:10<00:00, 10.17s/it]\n",
      "Tokenization: 100%|██████████| 1/1 [00:00<00:00, 741.96it/s]\n",
      "Inference: 100%|██████████| 1/1 [00:02<00:00,  2.45s/it]\n",
      "Tokenization: 100%|██████████| 1/1 [00:00<00:00, 643.99it/s]\n",
      "Inference:   0%|          | 0/1 [00:00<?, ?it/s]"
     ]
    },
    {
     "output_type": "stream",
     "name": "stdout",
     "text": [
      "Running pipeline ... done\n",
      "\n",
      "銀行臨櫃智慧辨識輸入系統及其方法SMART IDENTIFICATION INPUT SYSTEM FOR BANK COUNTERS AND METHOD THEREOF\n",
      "done\n",
      "------------\n",
      "\n"
     ]
    },
    {
     "output_type": "stream",
     "name": "stderr",
     "text": [
      "Inference: 100%|██████████| 1/1 [00:03<00:00,  3.67s/it]\n",
      "Tokenization: 100%|██████████| 1/1 [00:00<00:00, 455.80it/s]\n",
      "Inference: 100%|██████████| 1/1 [00:09<00:00,  9.72s/it]\n",
      "Tokenization: 100%|██████████| 1/1 [00:00<00:00, 417.59it/s]\n",
      "Inference: 100%|██████████| 1/1 [00:03<00:00,  3.74s/it]\n",
      "Tokenization: 100%|██████████| 1/1 [00:00<00:00, 2160.90it/s]\n",
      "Inference:   0%|          | 0/1 [00:00<?, ?it/s]"
     ]
    },
    {
     "output_type": "stream",
     "name": "stdout",
     "text": [
      "Running pipeline ... done\n",
      "\n",
      "傳票掃描自動檢核系統及其方法VOUCHER SCANNING AND AUTOMATIC VERIFICATION SYSTEM AND METHOD THEREOF\n",
      "done\n",
      "------------\n",
      "\n"
     ]
    },
    {
     "output_type": "stream",
     "name": "stderr",
     "text": [
      "Inference: 100%|██████████| 1/1 [00:00<00:00,  2.82it/s]\n",
      "Tokenization: 100%|██████████| 1/1 [00:00<00:00, 1880.01it/s]\n",
      "Inference: 100%|██████████| 1/1 [00:00<00:00,  2.14it/s]\n",
      "Tokenization: 100%|██████████| 1/1 [00:00<00:00, 2216.86it/s]\n",
      "Inference: 100%|██████████| 1/1 [00:00<00:00,  2.83it/s]\n",
      "Tokenization: 100%|██████████| 1/1 [00:00<00:00, 1592.37it/s]\n",
      "Inference:   0%|          | 0/1 [00:00<?, ?it/s]"
     ]
    },
    {
     "output_type": "stream",
     "name": "stdout",
     "text": [
      "Running pipeline ... done\n",
      "\n",
      "語音金融商品推薦與管理方法\n",
      "done\n",
      "------------\n",
      "\n"
     ]
    },
    {
     "output_type": "stream",
     "name": "stderr",
     "text": [
      "Inference: 100%|██████████| 1/1 [00:00<00:00,  1.78it/s]\n",
      "Tokenization: 100%|██████████| 1/1 [00:00<00:00, 1642.25it/s]\n",
      "Inference: 100%|██████████| 1/1 [00:01<00:00,  1.02s/it]\n",
      "Tokenization: 100%|██████████| 1/1 [00:00<00:00, 2519.10it/s]\n",
      "Inference: 100%|██████████| 1/1 [00:00<00:00,  1.77it/s]\n",
      "Tokenization: 100%|██████████| 1/1 [00:00<00:00, 801.20it/s]\n",
      "Inference:   0%|          | 0/1 [00:00<?, ?it/s]"
     ]
    },
    {
     "output_type": "stream",
     "name": "stdout",
     "text": [
      "Running pipeline ... done\n",
      "\n",
      "使用擴增實境以及衛星定位系統應用於買屋／租屋資訊即時查詢方法\n",
      "done\n",
      "------------\n",
      "\n"
     ]
    },
    {
     "output_type": "stream",
     "name": "stderr",
     "text": [
      "Inference: 100%|██████████| 1/1 [00:00<00:00,  1.83it/s]\n",
      "Tokenization: 100%|██████████| 1/1 [00:00<00:00, 1232.89it/s]\n",
      "Inference: 100%|██████████| 1/1 [00:00<00:00,  1.22it/s]\n",
      "Tokenization: 100%|██████████| 1/1 [00:00<00:00, 1610.10it/s]\n",
      "Inference: 100%|██████████| 1/1 [00:00<00:00,  1.77it/s]\n",
      "Tokenization: 100%|██████████| 1/1 [00:00<00:00, 2618.17it/s]\n",
      "Inference:   0%|          | 0/1 [00:00<?, ?it/s]"
     ]
    },
    {
     "output_type": "stream",
     "name": "stdout",
     "text": [
      "Running pipeline ... done\n",
      "\n",
      "政府採購網押標金之收款流程線上化及交易流程優化之方法\n",
      "done\n",
      "------------\n",
      "\n"
     ]
    },
    {
     "output_type": "stream",
     "name": "stderr",
     "text": [
      "Inference: 100%|██████████| 1/1 [00:00<00:00,  3.14it/s]\n",
      "Tokenization: 100%|██████████| 1/1 [00:00<00:00, 2882.68it/s]\n",
      "Inference: 100%|██████████| 1/1 [00:00<00:00,  2.44it/s]\n",
      "Tokenization: 100%|██████████| 1/1 [00:00<00:00, 3292.23it/s]\n",
      "Inference: 100%|██████████| 1/1 [00:00<00:00,  3.06it/s]\n",
      "Tokenization: 100%|██████████| 1/1 [00:00<00:00, 212.18it/s]\n",
      "Inference:   0%|          | 0/1 [00:00<?, ?it/s]"
     ]
    },
    {
     "output_type": "stream",
     "name": "stdout",
     "text": [
      "Running pipeline ... done\n",
      "\n",
      "穿戴裝置或行動裝置之風險評估方法\n",
      "done\n",
      "------------\n",
      "\n"
     ]
    },
    {
     "output_type": "stream",
     "name": "stderr",
     "text": [
      "Inference: 100%|██████████| 1/1 [00:00<00:00,  1.93it/s]\n",
      "Tokenization: 100%|██████████| 1/1 [00:00<00:00, 1377.44it/s]\n",
      "Inference: 100%|██████████| 1/1 [00:01<00:00,  1.26s/it]\n",
      "Tokenization: 100%|██████████| 1/1 [00:00<00:00, 2746.76it/s]\n",
      "Inference: 100%|██████████| 1/1 [00:00<00:00,  2.04it/s]\n",
      "Tokenization: 100%|██████████| 1/1 [00:00<00:00, 1915.21it/s]\n",
      "Inference:   0%|          | 0/1 [00:00<?, ?it/s]"
     ]
    },
    {
     "output_type": "stream",
     "name": "stdout",
     "text": [
      "Running pipeline ... done\n",
      "\n",
      "數位平台客製化功能推薦方法\n",
      "done\n",
      "------------\n",
      "\n"
     ]
    },
    {
     "output_type": "stream",
     "name": "stderr",
     "text": [
      "Inference: 100%|██████████| 1/1 [00:00<00:00,  1.74it/s]\n",
      "Tokenization: 100%|██████████| 1/1 [00:00<00:00, 988.06it/s]\n",
      "Inference: 100%|██████████| 1/1 [00:00<00:00,  1.13it/s]\n",
      "Tokenization: 100%|██████████| 1/1 [00:00<00:00, 1204.57it/s]\n",
      "Inference: 100%|██████████| 1/1 [00:00<00:00,  1.63it/s]\n",
      "Tokenization: 100%|██████████| 1/1 [00:00<00:00, 1005.35it/s]\n",
      "Inference:   0%|          | 0/1 [00:00<?, ?it/s]"
     ]
    },
    {
     "output_type": "stream",
     "name": "stdout",
     "text": [
      "Running pipeline ... done\n",
      "\n",
      "運用擴增實境與影像辨識技術於團體線上逛街購物方法\n",
      "done\n",
      "------------\n",
      "\n"
     ]
    },
    {
     "output_type": "stream",
     "name": "stderr",
     "text": [
      "Inference: 100%|██████████| 1/1 [00:02<00:00,  2.57s/it]\n",
      "Tokenization: 100%|██████████| 1/1 [00:00<00:00, 1700.85it/s]\n",
      "Inference: 100%|██████████| 1/1 [00:08<00:00,  8.69s/it]\n",
      "Tokenization: 100%|██████████| 1/1 [00:00<00:00, 759.29it/s]\n",
      "Inference: 100%|██████████| 1/1 [00:02<00:00,  2.53s/it]\n",
      "Tokenization: 100%|██████████| 1/1 [00:00<00:00, 487.99it/s]\n",
      "Inference:   0%|          | 0/1 [00:00<?, ?it/s]"
     ]
    },
    {
     "output_type": "stream",
     "name": "stdout",
     "text": [
      "Running pipeline ... done\n",
      "\n",
      "個人化信用交易裝置DEVICE OF PERSONALIIZED CREDIT BUSINESS\n",
      "done\n",
      "------------\n",
      "\n"
     ]
    },
    {
     "output_type": "stream",
     "name": "stderr",
     "text": [
      "Inference: 100%|██████████| 1/1 [00:02<00:00,  2.51s/it]\n",
      "Tokenization: 100%|██████████| 1/1 [00:00<00:00, 1108.72it/s]\n",
      "Inference: 100%|██████████| 1/1 [00:05<00:00,  5.34s/it]\n",
      "Tokenization: 100%|██████████| 1/1 [00:00<00:00, 759.42it/s]\n",
      "Inference: 100%|██████████| 1/1 [00:02<00:00,  2.84s/it]\n",
      "Tokenization: 100%|██████████| 1/1 [00:00<00:00, 2045.00it/s]\n",
      "Inference:   0%|          | 0/1 [00:00<?, ?it/s]"
     ]
    },
    {
     "output_type": "stream",
     "name": "stdout",
     "text": [
      "Running pipeline ... done\n",
      "\n",
      "銀行的跨行業務基金的系統INTERBANK BUSINESS FUND SYSTEM\n",
      "done\n",
      "------------\n",
      "\n"
     ]
    },
    {
     "output_type": "stream",
     "name": "stderr",
     "text": [
      "Inference: 100%|██████████| 1/1 [00:00<00:00,  1.17it/s]\n",
      "Tokenization: 100%|██████████| 1/1 [00:00<00:00, 1087.17it/s]\n",
      "Inference: 100%|██████████| 1/1 [00:01<00:00,  1.73s/it]\n",
      "Tokenization: 100%|██████████| 1/1 [00:00<00:00, 2052.01it/s]\n",
      "Inference: 100%|██████████| 1/1 [00:00<00:00,  1.26it/s]\n",
      "Tokenization: 100%|██████████| 1/1 [00:00<00:00, 1761.57it/s]\n",
      "Inference:   0%|          | 0/1 [00:00<?, ?it/s]"
     ]
    },
    {
     "output_type": "stream",
     "name": "stdout",
     "text": [
      "Running pipeline ... done\n",
      "\n",
      "中央機關收款作業導入行動支付的線上付款方法\n",
      "done\n",
      "------------\n",
      "\n"
     ]
    },
    {
     "output_type": "stream",
     "name": "stderr",
     "text": [
      "Inference: 100%|██████████| 1/1 [00:00<00:00,  2.36it/s]\n",
      "Tokenization: 100%|██████████| 1/1 [00:00<00:00, 2028.19it/s]\n",
      "Inference: 100%|██████████| 1/1 [00:00<00:00,  1.22it/s]\n",
      "Tokenization: 100%|██████████| 1/1 [00:00<00:00, 2709.50it/s]\n",
      "Inference: 100%|██████████| 1/1 [00:00<00:00,  2.17it/s]\n",
      "Tokenization: 100%|██████████| 1/1 [00:00<00:00, 794.83it/s]\n",
      "Inference:   0%|          | 0/1 [00:00<?, ?it/s]"
     ]
    },
    {
     "output_type": "stream",
     "name": "stdout",
     "text": [
      "Running pipeline ... done\n",
      "\n",
      "定位支付方法\n",
      "done\n",
      "------------\n",
      "\n"
     ]
    },
    {
     "output_type": "stream",
     "name": "stderr",
     "text": [
      "Inference: 100%|██████████| 1/1 [00:00<00:00,  1.78it/s]\n",
      "Tokenization: 100%|██████████| 1/1 [00:00<00:00, 822.41it/s]\n",
      "Inference: 100%|██████████| 1/1 [00:01<00:00,  1.31s/it]\n",
      "Tokenization: 100%|██████████| 1/1 [00:00<00:00, 2221.56it/s]\n",
      "Inference: 100%|██████████| 1/1 [00:00<00:00,  1.76it/s]\n",
      "Tokenization: 100%|██████████| 1/1 [00:00<00:00, 843.92it/s]\n",
      "Inference:   0%|          | 0/1 [00:00<?, ?it/s]"
     ]
    },
    {
     "output_type": "stream",
     "name": "stdout",
     "text": [
      "Running pipeline ... done\n",
      "\n",
      "手寫支付方法\n",
      "done\n",
      "------------\n",
      "\n"
     ]
    },
    {
     "output_type": "stream",
     "name": "stderr",
     "text": [
      "Inference: 100%|██████████| 1/1 [00:02<00:00,  2.88s/it]\n",
      "Tokenization: 100%|██████████| 1/1 [00:00<00:00, 1037.17it/s]\n",
      "Inference: 100%|██████████| 1/1 [00:04<00:00,  4.27s/it]\n",
      "Tokenization: 100%|██████████| 1/1 [00:00<00:00, 1088.30it/s]\n",
      "Inference: 100%|██████████| 1/1 [00:02<00:00,  2.75s/it]\n",
      "Tokenization: 100%|██████████| 1/1 [00:00<00:00, 825.16it/s]\n",
      "Inference:   0%|          | 0/1 [00:00<?, ?it/s]"
     ]
    },
    {
     "output_type": "stream",
     "name": "stdout",
     "text": [
      "Running pipeline ... done\n",
      "\n",
      "海外分行洗錢防制整合系統及方法OVERSEAS BRANCH ANTI-MONEY LAUNDERING INTEGRATED SYSTEM AND METHOD THEREOF\n",
      "done\n",
      "------------\n",
      "\n"
     ]
    },
    {
     "output_type": "stream",
     "name": "stderr",
     "text": [
      "Inference: 100%|██████████| 1/1 [00:02<00:00,  2.81s/it]\n",
      "Tokenization: 100%|██████████| 1/1 [00:00<00:00, 1127.50it/s]\n",
      "Inference: 100%|██████████| 1/1 [00:05<00:00,  5.11s/it]\n",
      "Tokenization: 100%|██████████| 1/1 [00:00<00:00, 822.90it/s]\n",
      "Inference: 100%|██████████| 1/1 [00:02<00:00,  2.45s/it]\n",
      "Tokenization: 100%|██████████| 1/1 [00:00<00:00, 847.33it/s]\n",
      "Inference:   0%|          | 0/1 [00:00<?, ?it/s]"
     ]
    },
    {
     "output_type": "stream",
     "name": "stdout",
     "text": [
      "Running pipeline ... done\n",
      "\n",
      "身分認證方法METHOD FOR IDENTITY CERTIFICATION\n",
      "done\n",
      "------------\n",
      "\n"
     ]
    },
    {
     "output_type": "stream",
     "name": "stderr",
     "text": [
      "Inference: 100%|██████████| 1/1 [00:02<00:00,  2.50s/it]\n",
      "Tokenization: 100%|██████████| 1/1 [00:00<00:00, 1258.04it/s]\n",
      "Inference: 100%|██████████| 1/1 [00:05<00:00,  5.68s/it]\n",
      "Tokenization: 100%|██████████| 1/1 [00:00<00:00, 682.11it/s]\n",
      "Inference: 100%|██████████| 1/1 [00:02<00:00,  2.48s/it]\n",
      "Tokenization: 100%|██████████| 1/1 [00:00<00:00, 940.64it/s]\n",
      "Inference:   0%|          | 0/1 [00:00<?, ?it/s]"
     ]
    },
    {
     "output_type": "stream",
     "name": "stdout",
     "text": [
      "Running pipeline ... done\n",
      "\n",
      "線上預約兌換新鈔系統及其方法ON-LINE PRE-ORDER FOR EXCHANGING NEW BILL SYSTEM AND METHOD THEREOF\n",
      "done\n",
      "------------\n",
      "\n"
     ]
    },
    {
     "output_type": "stream",
     "name": "stderr",
     "text": [
      "Inference: 100%|██████████| 1/1 [00:02<00:00,  2.45s/it]\n",
      "Tokenization: 100%|██████████| 1/1 [00:00<00:00, 1081.01it/s]\n",
      "Inference: 100%|██████████| 1/1 [00:03<00:00,  3.79s/it]\n",
      "Tokenization: 100%|██████████| 1/1 [00:00<00:00, 742.88it/s]\n",
      "Inference: 100%|██████████| 1/1 [00:02<00:00,  2.40s/it]\n",
      "Tokenization: 100%|██████████| 1/1 [00:00<00:00, 2888.64it/s]\n",
      "Inference:   0%|          | 0/1 [00:00<?, ?it/s]"
     ]
    },
    {
     "output_type": "stream",
     "name": "stdout",
     "text": [
      "Running pipeline ... done\n",
      "\n",
      "網路攻擊分析方法NETWORK ATTACK ANALYSIS METHOD\n",
      "done\n",
      "------------\n",
      "\n"
     ]
    },
    {
     "output_type": "stream",
     "name": "stderr",
     "text": [
      "Inference: 100%|██████████| 1/1 [00:00<00:00,  1.77it/s]\n",
      "Tokenization: 100%|██████████| 1/1 [00:00<00:00, 2657.99it/s]\n",
      "Inference: 100%|██████████| 1/1 [00:00<00:00,  1.04it/s]\n",
      "Tokenization: 100%|██████████| 1/1 [00:00<00:00, 2570.04it/s]\n",
      "Inference: 100%|██████████| 1/1 [00:00<00:00,  1.79it/s]\n",
      "Tokenization: 100%|██████████| 1/1 [00:00<00:00, 814.90it/s]\n",
      "Inference:   0%|          | 0/1 [00:00<?, ?it/s]"
     ]
    },
    {
     "output_type": "stream",
     "name": "stdout",
     "text": [
      "Running pipeline ... done\n",
      "\n",
      "滲透測試個案建議方法及系統\n",
      "done\n",
      "------------\n",
      "\n"
     ]
    },
    {
     "output_type": "stream",
     "name": "stderr",
     "text": [
      "Inference: 100%|██████████| 1/1 [00:02<00:00,  2.41s/it]\n",
      "Tokenization: 100%|██████████| 1/1 [00:00<00:00, 1169.63it/s]\n",
      "Inference: 100%|██████████| 1/1 [00:07<00:00,  7.27s/it]\n",
      "Tokenization: 100%|██████████| 1/1 [00:00<00:00, 809.55it/s]\n",
      "Inference: 100%|██████████| 1/1 [00:02<00:00,  2.56s/it]\n",
      "Tokenization: 100%|██████████| 1/1 [00:00<00:00, 1064.81it/s]\n",
      "Inference:   0%|          | 0/1 [00:00<?, ?it/s]"
     ]
    },
    {
     "output_type": "stream",
     "name": "stdout",
     "text": [
      "Running pipeline ... done\n",
      "\n",
      "導引網頁的方法、中台系統及電腦程式產品METHOD FOR WEBPAGE NAVIGATION, INTERMEDIARY SYSTEM AND COMPUTER PROGRAM PRODUCT\n",
      "done\n",
      "------------\n",
      "\n"
     ]
    },
    {
     "output_type": "stream",
     "name": "stderr",
     "text": [
      "Inference: 100%|██████████| 1/1 [00:02<00:00,  2.50s/it]\n",
      "Tokenization: 100%|██████████| 1/1 [00:00<00:00, 1305.01it/s]\n",
      "Inference: 100%|██████████| 1/1 [00:03<00:00,  3.90s/it]\n",
      "Tokenization: 100%|██████████| 1/1 [00:00<00:00, 933.52it/s]\n",
      "Inference: 100%|██████████| 1/1 [00:02<00:00,  2.44s/it]\n",
      "Tokenization: 100%|██████████| 1/1 [00:00<00:00, 517.30it/s]\n",
      "Inference:   0%|          | 0/1 [00:00<?, ?it/s]"
     ]
    },
    {
     "output_type": "stream",
     "name": "stdout",
     "text": [
      "Running pipeline ... done\n",
      "\n",
      "網路攻擊分析方法NETWORK ATTACK ANALYSIS METHOD\n",
      "done\n",
      "------------\n",
      "\n"
     ]
    },
    {
     "output_type": "stream",
     "name": "stderr",
     "text": [
      "Inference: 100%|██████████| 1/1 [00:04<00:00,  4.84s/it]\n",
      "Tokenization: 100%|██████████| 1/1 [00:00<00:00, 811.12it/s]\n",
      "Inference: 100%|██████████| 1/1 [00:19<00:00, 19.19s/it]\n",
      "Tokenization: 100%|██████████| 1/1 [00:00<00:00,  3.07it/s]\n",
      "Inference: 100%|██████████| 1/1 [00:04<00:00,  4.94s/it]\n",
      "Tokenization: 100%|██████████| 1/1 [00:00<00:00, 477.11it/s]\n",
      "Inference:   0%|          | 0/1 [00:00<?, ?it/s]"
     ]
    },
    {
     "output_type": "stream",
     "name": "stdout",
     "text": [
      "Running pipeline ... done\n",
      "\n",
      "繳費方法Method for making payment\n",
      "done\n",
      "------------\n",
      "\n"
     ]
    },
    {
     "output_type": "stream",
     "name": "stderr",
     "text": [
      "Inference: 100%|██████████| 1/1 [00:03<00:00,  3.65s/it]\n",
      "Tokenization: 100%|██████████| 1/1 [00:00<00:00, 799.98it/s]\n",
      "Inference: 100%|██████████| 1/1 [00:10<00:00, 10.41s/it]\n",
      "Tokenization: 100%|██████████| 1/1 [00:00<00:00, 299.96it/s]\n",
      "Inference: 100%|██████████| 1/1 [00:03<00:00,  3.89s/it]\n",
      "Tokenization: 100%|██████████| 1/1 [00:00<00:00, 491.42it/s]\n",
      "Inference:   0%|          | 0/1 [00:00<?, ?it/s]"
     ]
    },
    {
     "output_type": "stream",
     "name": "stdout",
     "text": [
      "Running pipeline ... done\n",
      "\n",
      "企金大數據貸款方法Big data loaning method for corporate finance\n",
      "done\n",
      "------------\n",
      "\n"
     ]
    },
    {
     "output_type": "stream",
     "name": "stderr",
     "text": [
      "Inference: 100%|██████████| 1/1 [00:05<00:00,  5.04s/it]\n",
      "Tokenization: 100%|██████████| 1/1 [00:00<00:00, 320.10it/s]\n",
      "Inference: 100%|██████████| 1/1 [00:25<00:00, 25.52s/it]\n",
      "Tokenization: 100%|██████████| 1/1 [00:00<00:00, 60.46it/s]\n",
      "Inference: 100%|██████████| 1/1 [00:05<00:00,  5.17s/it]\n",
      "Tokenization: 100%|██████████| 1/1 [00:00<00:00, 740.13it/s]\n",
      "Inference:   0%|          | 0/1 [00:00<?, ?it/s]"
     ]
    },
    {
     "output_type": "stream",
     "name": "stdout",
     "text": [
      "Running pipeline ... done\n",
      "\n",
      "記憶密碼方法Method for memorizing passcode\n",
      "done\n",
      "------------\n",
      "\n"
     ]
    },
    {
     "output_type": "stream",
     "name": "stderr",
     "text": [
      "Inference: 100%|██████████| 1/1 [00:02<00:00,  2.43s/it]\n",
      "Tokenization: 100%|██████████| 1/1 [00:00<00:00, 926.92it/s]\n",
      "Inference: 100%|██████████| 1/1 [00:04<00:00,  4.38s/it]\n",
      "Tokenization: 100%|██████████| 1/1 [00:00<00:00, 916.59it/s]\n",
      "Inference: 100%|██████████| 1/1 [00:02<00:00,  2.37s/it]\n",
      "Tokenization: 100%|██████████| 1/1 [00:00<00:00, 1408.43it/s]\n",
      "Inference:   0%|          | 0/1 [00:00<?, ?it/s]"
     ]
    },
    {
     "output_type": "stream",
     "name": "stdout",
     "text": [
      "Running pipeline ... done\n",
      "\n",
      "會計資訊發送提醒方法REMINDING METHOD FOR DELIVERING ACCOUNTING INFORMATION\n",
      "done\n",
      "------------\n",
      "\n"
     ]
    },
    {
     "output_type": "stream",
     "name": "stderr",
     "text": [
      "Inference: 100%|██████████| 1/1 [00:02<00:00,  2.33s/it]\n",
      "Tokenization: 100%|██████████| 1/1 [00:00<00:00, 1440.85it/s]\n",
      "Inference: 100%|██████████| 1/1 [00:03<00:00,  3.56s/it]\n",
      "Tokenization: 100%|██████████| 1/1 [00:00<00:00, 1119.97it/s]\n",
      "Inference: 100%|██████████| 1/1 [00:02<00:00,  2.38s/it]\n",
      "Tokenization: 100%|██████████| 1/1 [00:00<00:00, 486.13it/s]\n",
      "Inference:   0%|          | 0/1 [00:00<?, ?it/s]"
     ]
    },
    {
     "output_type": "stream",
     "name": "stdout",
     "text": [
      "Running pipeline ... done\n",
      "\n",
      "行動支付團體合照付款方法Mobile payment method by group photo taking\n",
      "done\n",
      "------------\n",
      "\n"
     ]
    },
    {
     "output_type": "stream",
     "name": "stderr",
     "text": [
      "Inference: 100%|██████████| 1/1 [00:03<00:00,  3.71s/it]\n",
      "Tokenization: 100%|██████████| 1/1 [00:00<00:00, 755.19it/s]\n",
      "Inference: 100%|██████████| 1/1 [00:29<00:00, 29.67s/it]\n",
      "Tokenization: 100%|██████████| 1/1 [00:00<00:00, 129.60it/s]\n",
      "Inference: 100%|██████████| 1/1 [00:03<00:00,  3.73s/it]\n",
      "Tokenization: 100%|██████████| 1/1 [00:00<00:00, 979.52it/s]\n",
      "Inference:   0%|          | 0/1 [00:00<?, ?it/s]"
     ]
    },
    {
     "output_type": "stream",
     "name": "stdout",
     "text": [
      "Running pipeline ... done\n",
      "\n",
      "企業現金存入自動櫃員機的銷對帳提升方法Method for improving write-off of corporate cash deposit in ATM\n",
      "done\n",
      "------------\n",
      "\n"
     ]
    },
    {
     "output_type": "stream",
     "name": "stderr",
     "text": [
      "Inference: 100%|██████████| 1/1 [00:02<00:00,  2.44s/it]\n",
      "Tokenization: 100%|██████████| 1/1 [00:00<00:00, 687.14it/s]\n",
      "Inference: 100%|██████████| 1/1 [00:03<00:00,  3.81s/it]\n",
      "Tokenization: 100%|██████████| 1/1 [00:00<00:00, 799.98it/s]\n",
      "Inference: 100%|██████████| 1/1 [00:02<00:00,  2.41s/it]\n",
      "Tokenization: 100%|██████████| 1/1 [00:00<00:00, 786.33it/s]\n",
      "Inference:   0%|          | 0/1 [00:00<?, ?it/s]"
     ]
    },
    {
     "output_type": "stream",
     "name": "stdout",
     "text": [
      "Running pipeline ... done\n",
      "\n",
      "應用全球定位系統於無卡提款業務之方法Method for applying global positioning system to cardless withdrawal service\n",
      "done\n",
      "------------\n",
      "\n"
     ]
    },
    {
     "output_type": "stream",
     "name": "stderr",
     "text": [
      "Inference: 100%|██████████| 1/1 [00:02<00:00,  2.47s/it]\n",
      "Tokenization: 100%|██████████| 1/1 [00:00<00:00, 1253.15it/s]\n",
      "Inference: 100%|██████████| 1/1 [00:08<00:00,  8.26s/it]\n",
      "Tokenization: 100%|██████████| 1/1 [00:00<00:00, 762.74it/s]\n",
      "Inference: 100%|██████████| 1/1 [00:02<00:00,  2.45s/it]\n",
      "Tokenization: 100%|██████████| 1/1 [00:00<00:00, 866.59it/s]\n",
      "Inference:   0%|          | 0/1 [00:00<?, ?it/s]"
     ]
    },
    {
     "output_type": "stream",
     "name": "stdout",
     "text": [
      "Running pipeline ... done\n",
      "\n",
      "無卡提款方法Cardless cash withdrawal method\n",
      "done\n",
      "------------\n",
      "\n"
     ]
    },
    {
     "output_type": "stream",
     "name": "stderr",
     "text": [
      "Inference: 100%|██████████| 1/1 [00:02<00:00,  2.51s/it]\n",
      "Tokenization: 100%|██████████| 1/1 [00:00<00:00, 1023.75it/s]\n",
      "Inference: 100%|██████████| 1/1 [00:07<00:00,  7.91s/it]\n",
      "Tokenization: 100%|██████████| 1/1 [00:00<00:00, 847.51it/s]\n",
      "Inference: 100%|██████████| 1/1 [00:02<00:00,  2.65s/it]\n",
      "Tokenization: 100%|██████████| 1/1 [00:00<00:00, 658.24it/s]\n",
      "Inference:   0%|          | 0/1 [00:00<?, ?it/s]"
     ]
    },
    {
     "output_type": "stream",
     "name": "stdout",
     "text": [
      "Running pipeline ... done\n",
      "\n",
      "應用行動裝置GPS系統於出勤差旅報帳之方法Method of using mobile device GPS system for attendance and business travel reimbursement\n",
      "done\n",
      "------------\n",
      "\n"
     ]
    },
    {
     "output_type": "stream",
     "name": "stderr",
     "text": [
      "Inference: 100%|██████████| 1/1 [00:03<00:00,  3.73s/it]\n",
      "Tokenization: 100%|██████████| 1/1 [00:00<00:00, 731.48it/s]\n",
      "Inference: 100%|██████████| 1/1 [00:15<00:00, 15.76s/it]\n",
      "Tokenization: 100%|██████████| 1/1 [00:00<00:00, 220.16it/s]\n",
      "Inference: 100%|██████████| 1/1 [00:04<00:00,  4.11s/it]\n",
      "Tokenization: 100%|██████████| 1/1 [00:00<00:00, 752.48it/s]\n",
      "Inference:   0%|          | 0/1 [00:00<?, ?it/s]"
     ]
    },
    {
     "output_type": "stream",
     "name": "stdout",
     "text": [
      "Running pipeline ... done\n",
      "\n",
      "以自行定義之圖形檔做為登入網路銀行之強化驗證之方法Method for enhancing verification by using self-defined graphics file to log in online banking\n",
      "done\n",
      "------------\n",
      "\n"
     ]
    },
    {
     "output_type": "stream",
     "name": "stderr",
     "text": [
      "Inference: 100%|██████████| 1/1 [00:02<00:00,  2.56s/it]\n",
      "Tokenization: 100%|██████████| 1/1 [00:00<00:00, 934.77it/s]\n",
      "Inference: 100%|██████████| 1/1 [00:07<00:00,  7.34s/it]\n",
      "Tokenization: 100%|██████████| 1/1 [00:00<00:00, 635.79it/s]\n",
      "Inference: 100%|██████████| 1/1 [00:02<00:00,  2.88s/it]\n",
      "Tokenization: 100%|██████████| 1/1 [00:00<00:00, 647.27it/s]\n",
      "Inference:   0%|          | 0/1 [00:00<?, ?it/s]"
     ]
    },
    {
     "output_type": "stream",
     "name": "stdout",
     "text": [
      "Running pipeline ... done\n",
      "\n",
      "跨應用服務之安控應用方法Applied method of security control for cross application function\n",
      "done\n",
      "------------\n",
      "\n"
     ]
    },
    {
     "output_type": "stream",
     "name": "stderr",
     "text": [
      "Inference: 100%|██████████| 1/1 [00:03<00:00,  3.85s/it]\n",
      "Tokenization: 100%|██████████| 1/1 [00:00<00:00, 520.51it/s]\n",
      "Inference: 100%|██████████| 1/1 [00:14<00:00, 14.15s/it]\n",
      "Tokenization: 100%|██████████| 1/1 [00:00<00:00, 129.41it/s]\n",
      "Inference: 100%|██████████| 1/1 [00:04<00:00,  4.11s/it]\n",
      "Tokenization: 100%|██████████| 1/1 [00:00<00:00, 938.11it/s]\n",
      "Inference:   0%|          | 0/1 [00:00<?, ?it/s]"
     ]
    },
    {
     "output_type": "stream",
     "name": "stdout",
     "text": [
      "Running pipeline ... done\n",
      "\n",
      "行動網路銀行應用程式之用戶登入位置GPS偵測警示方法GPS detection and warning method for user login location of mobile online banking applications\n",
      "done\n",
      "------------\n",
      "\n"
     ]
    },
    {
     "output_type": "stream",
     "name": "stderr",
     "text": [
      "Inference: 100%|██████████| 1/1 [00:02<00:00,  2.55s/it]\n",
      "Tokenization: 100%|██████████| 1/1 [00:00<00:00, 1354.75it/s]\n",
      "Inference: 100%|██████████| 1/1 [00:05<00:00,  5.54s/it]\n",
      "Tokenization: 100%|██████████| 1/1 [00:00<00:00, 621.10it/s]\n",
      "Inference: 100%|██████████| 1/1 [00:02<00:00,  2.41s/it]\n",
      "Tokenization: 100%|██████████| 1/1 [00:00<00:00, 535.94it/s]\n",
      "Inference:   0%|          | 0/1 [00:00<?, ?it/s]"
     ]
    },
    {
     "output_type": "stream",
     "name": "stdout",
     "text": [
      "Running pipeline ... done\n",
      "\n",
      "網路交易認證方法ONLINE TRADING CERTIFICATION METHOD\n",
      "done\n",
      "------------\n",
      "\n"
     ]
    },
    {
     "output_type": "stream",
     "name": "stderr",
     "text": [
      "Inference: 100%|██████████| 1/1 [00:02<00:00,  2.49s/it]\n",
      "Tokenization: 100%|██████████| 1/1 [00:00<00:00, 966.21it/s]\n",
      "Inference: 100%|██████████| 1/1 [00:05<00:00,  5.56s/it]\n",
      "Tokenization: 100%|██████████| 1/1 [00:00<00:00, 459.80it/s]\n",
      "Inference: 100%|██████████| 1/1 [00:02<00:00,  2.47s/it]\n",
      "Tokenization: 100%|██████████| 1/1 [00:00<00:00, 338.41it/s]\n",
      "Inference:   0%|          | 0/1 [00:00<?, ?it/s]"
     ]
    },
    {
     "output_type": "stream",
     "name": "stdout",
     "text": [
      "Running pipeline ... done\n",
      "\n",
      "交易監控方法Transaction monitoring method\n",
      "done\n",
      "------------\n",
      "\n"
     ]
    },
    {
     "output_type": "stream",
     "name": "stderr",
     "text": [
      "Inference: 100%|██████████| 1/1 [00:06<00:00,  6.20s/it]\n",
      "Tokenization: 100%|██████████| 1/1 [00:00<00:00, 459.10it/s]\n",
      "Inference: 100%|██████████| 1/1 [00:36<00:00, 36.92s/it]\n",
      "Tokenization: 100%|██████████| 1/1 [00:00<00:00, 103.18it/s]\n",
      "Inference: 100%|██████████| 1/1 [00:06<00:00,  6.32s/it]\n",
      "Tokenization: 100%|██████████| 1/1 [00:00<00:00, 541.13it/s]\n",
      "Inference:   0%|          | 0/1 [00:00<?, ?it/s]"
     ]
    },
    {
     "output_type": "stream",
     "name": "stdout",
     "text": [
      "Running pipeline ... done\n",
      "\n",
      "交易資料語音分析檢核之方法Method for voice analysis and verification of transaction data\n",
      "done\n",
      "------------\n",
      "\n"
     ]
    },
    {
     "output_type": "stream",
     "name": "stderr",
     "text": [
      "Inference: 100%|██████████| 1/1 [00:03<00:00,  3.87s/it]\n",
      "Tokenization: 100%|██████████| 1/1 [00:00<00:00, 671.73it/s]\n",
      "Inference: 100%|██████████| 1/1 [00:14<00:00, 14.26s/it]\n",
      "Tokenization: 100%|██████████| 1/1 [00:00<00:00, 223.71it/s]\n",
      "Inference: 100%|██████████| 1/1 [00:03<00:00,  3.66s/it]\n",
      "Tokenization: 100%|██████████| 1/1 [00:00<00:00, 1541.46it/s]\n",
      "Inference:   0%|          | 0/1 [00:00<?, ?it/s]"
     ]
    },
    {
     "output_type": "stream",
     "name": "stdout",
     "text": [
      "Running pipeline ... done\n",
      "\n",
      "車牌付款方法License plate payment method\n",
      "done\n",
      "------------\n",
      "\n"
     ]
    },
    {
     "output_type": "stream",
     "name": "stderr",
     "text": [
      "Inference: 100%|██████████| 1/1 [00:00<00:00,  1.06it/s]\n",
      "Tokenization: 100%|██████████| 1/1 [00:00<00:00, 2452.81it/s]\n",
      "Inference: 100%|██████████| 1/1 [00:01<00:00,  1.96s/it]\n",
      "Tokenization: 100%|██████████| 1/1 [00:00<00:00, 1904.77it/s]\n",
      "Inference: 100%|██████████| 1/1 [00:00<00:00,  1.06it/s]\n",
      "Tokenization: 100%|██████████| 1/1 [00:00<00:00, 578.68it/s]\n",
      "Inference:   0%|          | 0/1 [00:00<?, ?it/s]"
     ]
    },
    {
     "output_type": "stream",
     "name": "stdout",
     "text": [
      "Running pipeline ... done\n",
      "\n",
      "授信貸放評估之評分等第模擬系統AN EVALUATION OF CREDIT AND LOAN RATING OF SIMULATION SYSTEMS\n",
      "done\n",
      "------------\n",
      "\n"
     ]
    },
    {
     "output_type": "stream",
     "name": "stderr",
     "text": [
      "Inference: 100%|██████████| 1/1 [00:03<00:00,  3.89s/it]\n",
      "Tokenization: 100%|██████████| 1/1 [00:00<00:00, 127.34it/s]\n",
      "Inference: 100%|██████████| 1/1 [00:09<00:00,  9.99s/it]\n",
      "Tokenization: 100%|██████████| 1/1 [00:00<00:00, 294.11it/s]\n",
      "Inference: 100%|██████████| 1/1 [00:03<00:00,  3.76s/it]\n",
      "Tokenization: 100%|██████████| 1/1 [00:00<00:00, 664.50it/s]\n",
      "Inference:   0%|          | 0/1 [00:00<?, ?it/s]"
     ]
    },
    {
     "output_type": "stream",
     "name": "stdout",
     "text": [
      "Running pipeline ... done\n",
      "\n",
      "投資管理系統及方法INVESTMENT MANAGEMENT SYSTEM AND METHOD\n",
      "done\n",
      "------------\n",
      "\n"
     ]
    },
    {
     "output_type": "stream",
     "name": "stderr",
     "text": [
      "Inference: 100%|██████████| 1/1 [00:03<00:00,  3.89s/it]\n",
      "Tokenization: 100%|██████████| 1/1 [00:00<00:00, 911.61it/s]\n",
      "Inference: 100%|██████████| 1/1 [00:14<00:00, 14.03s/it]\n",
      "Tokenization: 100%|██████████| 1/1 [00:00<00:00, 271.39it/s]\n",
      "Inference: 100%|██████████| 1/1 [00:03<00:00,  3.70s/it]\n",
      "Tokenization: 100%|██████████| 1/1 [00:00<00:00, 943.39it/s]\n",
      "Inference:   0%|          | 0/1 [00:00<?, ?it/s]"
     ]
    },
    {
     "output_type": "stream",
     "name": "stdout",
     "text": [
      "Running pipeline ... done\n",
      "\n",
      "資訊服務可用性管理方法及系統Information service availability management method and system\n",
      "done\n",
      "------------\n",
      "\n"
     ]
    },
    {
     "output_type": "stream",
     "name": "stderr",
     "text": [
      "Inference: 100%|██████████| 1/1 [00:02<00:00,  2.58s/it]\n",
      "Tokenization: 100%|██████████| 1/1 [00:00<00:00, 1125.08it/s]\n",
      "Inference: 100%|██████████| 1/1 [00:02<00:00,  2.61s/it]\n",
      "Tokenization: 100%|██████████| 1/1 [00:00<00:00, 992.97it/s]\n",
      "Inference: 100%|██████████| 1/1 [00:02<00:00,  2.41s/it]\n",
      "Tokenization: 100%|██████████| 1/1 [00:00<00:00, 590.25it/s]\n",
      "Inference:   0%|          | 0/1 [00:00<?, ?it/s]"
     ]
    },
    {
     "output_type": "stream",
     "name": "stdout",
     "text": [
      "Running pipeline ... done\n",
      "\n",
      "自動櫃員機結合電子發票兌換裝置AUTOMATED TELLER MACHINE INCORPORATED WITH EXCHANGING RECEIPT LOTTERY DEVICE\n",
      "done\n",
      "------------\n",
      "\n"
     ]
    },
    {
     "output_type": "stream",
     "name": "stderr",
     "text": [
      "Inference: 100%|██████████| 1/1 [00:03<00:00,  3.69s/it]\n",
      "Tokenization: 100%|██████████| 1/1 [00:00<00:00, 926.71it/s]\n",
      "Inference: 100%|██████████| 1/1 [00:08<00:00,  8.04s/it]\n",
      "Tokenization: 100%|██████████| 1/1 [00:00<00:00, 623.87it/s]\n",
      "Inference: 100%|██████████| 1/1 [00:03<00:00,  3.74s/it]\n",
      "Tokenization: 100%|██████████| 1/1 [00:00<00:00, 1628.86it/s]\n",
      "Inference:   0%|          | 0/1 [00:00<?, ?it/s]"
     ]
    },
    {
     "output_type": "stream",
     "name": "stdout",
     "text": [
      "Running pipeline ... done\n",
      "\n",
      "行動裝置轉帳系統及其轉帳方法Mobile device money transfer system and money transfer method thereof\n",
      "done\n",
      "------------\n",
      "\n"
     ]
    },
    {
     "output_type": "stream",
     "name": "stderr",
     "text": [
      "Inference: 100%|██████████| 1/1 [00:01<00:00,  1.08s/it]\n",
      "Tokenization: 100%|██████████| 1/1 [00:00<00:00, 2565.32it/s]\n",
      "Inference: 100%|██████████| 1/1 [00:02<00:00,  2.53s/it]\n",
      "Tokenization: 100%|██████████| 1/1 [00:00<00:00, 1723.92it/s]\n",
      "Inference: 100%|██████████| 1/1 [00:01<00:00,  1.03s/it]\n",
      "Tokenization: 100%|██████████| 1/1 [00:00<00:00, 561.79it/s]\n",
      "Inference:   0%|          | 0/1 [00:00<?, ?it/s]"
     ]
    },
    {
     "output_type": "stream",
     "name": "stdout",
     "text": [
      "Running pipeline ... done\n",
      "\n",
      "信用風險壓力測試系統Credit risk stress test system\n",
      "done\n",
      "------------\n",
      "\n"
     ]
    },
    {
     "output_type": "stream",
     "name": "stderr",
     "text": [
      "Inference: 100%|██████████| 1/1 [00:02<00:00,  2.46s/it]\n",
      "Tokenization: 100%|██████████| 1/1 [00:00<00:00, 825.81it/s]\n",
      "Inference: 100%|██████████| 1/1 [00:09<00:00,  9.82s/it]\n",
      "Tokenization: 100%|██████████| 1/1 [00:00<00:00, 165.27it/s]\n",
      "Inference: 100%|██████████| 1/1 [00:02<00:00,  2.46s/it]\n",
      "Tokenization: 100%|██████████| 1/1 [00:00<00:00, 316.55it/s]\n",
      "Inference:   0%|          | 0/1 [00:00<?, ?it/s]"
     ]
    },
    {
     "output_type": "stream",
     "name": "stdout",
     "text": [
      "Running pipeline ... done\n",
      "\n",
      "團購系統Group buying system\n",
      "done\n",
      "------------\n",
      "\n"
     ]
    },
    {
     "output_type": "stream",
     "name": "stderr",
     "text": [
      "Inference: 100%|██████████| 1/1 [00:07<00:00,  7.63s/it]\n",
      "Tokenization: 100%|██████████| 1/1 [00:00<00:00, 383.29it/s]\n",
      "Inference: 100%|██████████| 1/1 [00:30<00:00, 30.12s/it]\n",
      "Tokenization: 100%|██████████| 1/1 [00:00<00:00, 53.96it/s]\n",
      "Inference: 100%|██████████| 1/1 [00:08<00:00,  8.93s/it]\n",
      "Tokenization: 100%|██████████| 1/1 [00:00<00:00, 631.67it/s]\n",
      "Inference:   0%|          | 0/1 [00:00<?, ?it/s]"
     ]
    },
    {
     "output_type": "stream",
     "name": "stdout",
     "text": [
      "Running pipeline ... done\n",
      "\n",
      "整合客戶往來明細之客製化帳本及家庭帳本系統THE SYSTEM OF APPLYING CUSTOMER TRANSACTION DETAILS TO CUSTOMIZED LEDGER AND HOUSEHOLD LEDGER\n",
      "done\n",
      "------------\n",
      "\n"
     ]
    },
    {
     "output_type": "stream",
     "name": "stderr",
     "text": [
      "Inference: 100%|██████████| 1/1 [00:03<00:00,  3.85s/it]\n",
      "Tokenization: 100%|██████████| 1/1 [00:00<00:00, 723.53it/s]\n",
      "Inference: 100%|██████████| 1/1 [00:11<00:00, 11.24s/it]\n",
      "Tokenization: 100%|██████████| 1/1 [00:00<00:00, 239.63it/s]\n",
      "Inference: 100%|██████████| 1/1 [00:03<00:00,  3.85s/it]\n",
      "Tokenization: 100%|██████████| 1/1 [00:00<00:00, 772.29it/s]\n",
      "Inference:   0%|          | 0/1 [00:00<?, ?it/s]"
     ]
    },
    {
     "output_type": "stream",
     "name": "stdout",
     "text": [
      "Running pipeline ... done\n",
      "\n",
      "網路銀行系統及其控制方法Online banking system and control method thereof\n",
      "done\n",
      "------------\n",
      "\n"
     ]
    },
    {
     "output_type": "stream",
     "name": "stderr",
     "text": [
      "Inference: 100%|██████████| 1/1 [00:03<00:00,  3.73s/it]\n",
      "Tokenization: 100%|██████████| 1/1 [00:00<00:00, 1256.16it/s]\n",
      "Inference: 100%|██████████| 1/1 [00:19<00:00, 19.10s/it]\n",
      "Tokenization: 100%|██████████| 1/1 [00:00<00:00, 304.80it/s]\n",
      "Inference: 100%|██████████| 1/1 [00:03<00:00,  3.96s/it]\n",
      "Tokenization: 100%|██████████| 1/1 [00:00<00:00, 934.56it/s]\n",
      "Inference:   0%|          | 0/1 [00:00<?, ?it/s]"
     ]
    },
    {
     "output_type": "stream",
     "name": "stdout",
     "text": [
      "Running pipeline ... done\n",
      "\n",
      "應用程式登入方法和應用程式登入系統LOGIN APPLICATION METHOD AND LOGIN APPLICATION SYSTEM\n",
      "done\n",
      "------------\n",
      "\n"
     ]
    },
    {
     "output_type": "stream",
     "name": "stderr",
     "text": [
      "Inference: 100%|██████████| 1/1 [00:01<00:00,  1.35s/it]\n",
      "Tokenization: 100%|██████████| 1/1 [00:00<00:00, 878.57it/s]\n",
      "Inference: 100%|██████████| 1/1 [00:03<00:00,  3.53s/it]\n",
      "Tokenization: 100%|██████████| 1/1 [00:00<00:00, 1045.96it/s]\n",
      "Inference: 100%|██████████| 1/1 [00:01<00:00,  1.31s/it]\n",
      "Tokenization: 100%|██████████| 1/1 [00:00<00:00, 772.86it/s]\n",
      "Inference:   0%|          | 0/1 [00:00<?, ?it/s]"
     ]
    },
    {
     "output_type": "stream",
     "name": "stdout",
     "text": [
      "Running pipeline ... done\n",
      "\n",
      "跨行帳號的金融授權系統及其款項代收、扣款授權方法FINANCIAL AUTHORIZATION SYSTEM FOR CROSS-BANK ACCOUNTS AND METHOD FOR COLLECTION AND DEDUCTION\n",
      "done\n",
      "------------\n",
      "\n"
     ]
    },
    {
     "output_type": "stream",
     "name": "stderr",
     "text": [
      "Inference: 100%|██████████| 1/1 [00:02<00:00,  2.74s/it]\n",
      "Tokenization: 100%|██████████| 1/1 [00:00<00:00, 1036.40it/s]\n",
      "Inference: 100%|██████████| 1/1 [00:05<00:00,  5.74s/it]\n",
      "Tokenization: 100%|██████████| 1/1 [00:00<00:00, 641.33it/s]\n",
      "Inference: 100%|██████████| 1/1 [00:02<00:00,  2.52s/it]\n",
      "Tokenization: 100%|██████████| 1/1 [00:00<00:00, 539.11it/s]\n",
      "Inference:   0%|          | 0/1 [00:00<?, ?it/s]"
     ]
    },
    {
     "output_type": "stream",
     "name": "stdout",
     "text": [
      "Running pipeline ... done\n",
      "\n",
      "指導型串接交易管理及追蹤作業系統Guided cascade transaction management and tracking operation system\n",
      "done\n",
      "------------\n",
      "\n"
     ]
    },
    {
     "output_type": "stream",
     "name": "stderr",
     "text": [
      "Inference: 100%|██████████| 1/1 [00:03<00:00,  3.94s/it]\n",
      "Tokenization: 100%|██████████| 1/1 [00:00<00:00, 788.70it/s]\n",
      "Inference: 100%|██████████| 1/1 [00:12<00:00, 12.97s/it]\n",
      "Tokenization: 100%|██████████| 1/1 [00:00<00:00, 340.01it/s]\n",
      "Inference: 100%|██████████| 1/1 [00:04<00:00,  4.20s/it]\n",
      "Tokenization: 100%|██████████| 1/1 [00:00<00:00, 199.32it/s]\n",
      "Inference:   0%|          | 0/1 [00:00<?, ?it/s]"
     ]
    },
    {
     "output_type": "stream",
     "name": "stdout",
     "text": [
      "Running pipeline ... done\n",
      "\n",
      "帳號自動化管理系統ACCOUNT AUTOMATION MANAGEMENT SYSTEM\n",
      "done\n",
      "------------\n",
      "\n"
     ]
    },
    {
     "output_type": "stream",
     "name": "stderr",
     "text": [
      "Inference: 100%|██████████| 1/1 [00:03<00:00,  3.99s/it]\n",
      "Tokenization: 100%|██████████| 1/1 [00:00<00:00, 772.01it/s]\n",
      "Inference: 100%|██████████| 1/1 [00:22<00:00, 22.48s/it]\n",
      "Tokenization: 100%|██████████| 1/1 [00:00<00:00, 301.10it/s]\n",
      "Inference: 100%|██████████| 1/1 [00:03<00:00,  3.89s/it]\n",
      "Tokenization: 100%|██████████| 1/1 [00:00<00:00, 606.46it/s]\n",
      "Inference:   0%|          | 0/1 [00:00<?, ?it/s]"
     ]
    },
    {
     "output_type": "stream",
     "name": "stdout",
     "text": [
      "Running pipeline ... done\n",
      "\n",
      "黃金現貨交易、保管及轉換提領實體黃金系統及其方法SYSTEM FOR SPOT TRADING, CUSTODY AND WITHDRAWAL OF PHYSICAL GOLD, AND METHOD THEREOF\n",
      "done\n",
      "------------\n",
      "\n"
     ]
    },
    {
     "output_type": "stream",
     "name": "stderr",
     "text": [
      "Inference: 100%|██████████| 1/1 [00:03<00:00,  3.61s/it]\n",
      "Tokenization: 100%|██████████| 1/1 [00:00<00:00, 1069.43it/s]\n",
      "Inference: 100%|██████████| 1/1 [00:09<00:00,  9.64s/it]\n",
      "Tokenization: 100%|██████████| 1/1 [00:00<00:00, 371.21it/s]\n",
      "Inference: 100%|██████████| 1/1 [00:03<00:00,  3.70s/it]\n",
      "Tokenization: 100%|██████████| 1/1 [00:00<00:00, 327.58it/s]\n",
      "Inference:   0%|          | 0/1 [00:00<?, ?it/s]"
     ]
    },
    {
     "output_type": "stream",
     "name": "stdout",
     "text": [
      "Running pipeline ... done\n",
      "\n",
      "不動產交易紀錄系統及方法Real estate transaction record system and method\n",
      "done\n",
      "------------\n",
      "\n"
     ]
    },
    {
     "output_type": "stream",
     "name": "stderr",
     "text": [
      "Inference: 100%|██████████| 1/1 [00:03<00:00,  3.89s/it]\n",
      "Tokenization: 100%|██████████| 1/1 [00:00<00:00, 780.63it/s]\n",
      "Inference: 100%|██████████| 1/1 [00:26<00:00, 26.81s/it]\n",
      "Tokenization: 100%|██████████| 1/1 [00:00<00:00, 81.21it/s]\n",
      "Inference: 100%|██████████| 1/1 [00:03<00:00,  3.79s/it]\n",
      "Tokenization: 100%|██████████| 1/1 [00:00<00:00, 787.37it/s]\n",
      "Inference:   0%|          | 0/1 [00:00<?, ?it/s]"
     ]
    },
    {
     "output_type": "stream",
     "name": "stdout",
     "text": [
      "Running pipeline ... done\n",
      "\n",
      "行動支付子帳戶系統MOBILE PAYMENT SUB-ACCOUNT SYSTEM\n",
      "done\n",
      "------------\n",
      "\n"
     ]
    },
    {
     "output_type": "stream",
     "name": "stderr",
     "text": [
      "Inference: 100%|██████████| 1/1 [00:02<00:00,  2.70s/it]\n",
      "Tokenization: 100%|██████████| 1/1 [00:00<00:00, 770.87it/s]\n",
      "Inference: 100%|██████████| 1/1 [00:04<00:00,  4.22s/it]\n",
      "Tokenization: 100%|██████████| 1/1 [00:00<00:00, 1095.40it/s]\n",
      "Inference: 100%|██████████| 1/1 [00:02<00:00,  2.66s/it]\n",
      "Tokenization: 100%|██████████| 1/1 [00:00<00:00, 439.93it/s]\n",
      "Inference:   0%|          | 0/1 [00:00<?, ?it/s]"
     ]
    },
    {
     "output_type": "stream",
     "name": "stdout",
     "text": [
      "Running pipeline ... done\n",
      "\n",
      "於雲端確認動支與否之帳戶動支同意系統及其方法CONFIRMATION OF WHETHER OR NOT TO ACTIVATE THE ACCOUNT MOVEMENT SUPPORT SYSTEM AND METHOD THEREOF IN THE CLOUD\n",
      "done\n",
      "------------\n",
      "\n"
     ]
    },
    {
     "output_type": "stream",
     "name": "stderr",
     "text": [
      "Inference: 100%|██████████| 1/1 [00:04<00:00,  4.85s/it]\n",
      "Tokenization: 100%|██████████| 1/1 [00:00<00:00, 706.71it/s]\n",
      "Inference: 100%|██████████| 1/1 [00:11<00:00, 11.45s/it]\n",
      "Tokenization: 100%|██████████| 1/1 [00:00<00:00, 237.07it/s]\n",
      "Inference: 100%|██████████| 1/1 [00:05<00:00,  5.05s/it]\n",
      "Tokenization: 100%|██████████| 1/1 [00:00<00:00, 819.52it/s]\n",
      "Inference:   0%|          | 0/1 [00:00<?, ?it/s]"
     ]
    },
    {
     "output_type": "stream",
     "name": "stdout",
     "text": [
      "Running pipeline ... done\n",
      "\n",
      "市場風險壓力測試系統及方法MARKET RISK STRESS TEST SYSTEM AND METHOD\n",
      "done\n",
      "------------\n",
      "\n"
     ]
    },
    {
     "output_type": "stream",
     "name": "stderr",
     "text": [
      "Inference: 100%|██████████| 1/1 [00:02<00:00,  2.52s/it]\n",
      "Tokenization: 100%|██████████| 1/1 [00:00<00:00, 1280.70it/s]\n",
      "Inference: 100%|██████████| 1/1 [00:04<00:00,  4.35s/it]\n",
      "Tokenization: 100%|██████████| 1/1 [00:00<00:00, 1209.08it/s]\n",
      "Inference: 100%|██████████| 1/1 [00:02<00:00,  2.57s/it]\n",
      "Tokenization: 100%|██████████| 1/1 [00:00<00:00, 633.68it/s]\n",
      "Inference:   0%|          | 0/1 [00:00<?, ?it/s]"
     ]
    },
    {
     "output_type": "stream",
     "name": "stdout",
     "text": [
      "Running pipeline ... done\n",
      "\n",
      "一站式繳費代收系統及其方法INTEGRATED PAYMENT COLLECTION SYSTEM AND METHOD THEREOF\n",
      "done\n",
      "------------\n",
      "\n"
     ]
    },
    {
     "output_type": "stream",
     "name": "stderr",
     "text": [
      "Inference: 100%|██████████| 1/1 [00:03<00:00,  3.74s/it]\n",
      "Tokenization: 100%|██████████| 1/1 [00:00<00:00, 983.19it/s]\n",
      "Inference: 100%|██████████| 1/1 [00:09<00:00,  9.26s/it]\n",
      "Tokenization: 100%|██████████| 1/1 [00:00<00:00, 604.63it/s]\n",
      "Inference: 100%|██████████| 1/1 [00:03<00:00,  3.72s/it]\n",
      "Tokenization: 100%|██████████| 1/1 [00:00<00:00, 639.77it/s]\n",
      "Inference:   0%|          | 0/1 [00:00<?, ?it/s]"
     ]
    },
    {
     "output_type": "stream",
     "name": "stdout",
     "text": [
      "Running pipeline ... done\n",
      "\n",
      "關稅配額發證系統及方法Tariff quota certificate issuing system and method\n",
      "done\n",
      "------------\n",
      "\n"
     ]
    },
    {
     "output_type": "stream",
     "name": "stderr",
     "text": [
      "Inference: 100%|██████████| 1/1 [00:03<00:00,  3.70s/it]\n",
      "Tokenization: 100%|██████████| 1/1 [00:00<00:00, 995.09it/s]\n",
      "Inference: 100%|██████████| 1/1 [00:08<00:00,  8.01s/it]\n",
      "Tokenization: 100%|██████████| 1/1 [00:00<00:00, 685.90it/s]\n",
      "Inference: 100%|██████████| 1/1 [00:03<00:00,  3.84s/it]\n",
      "Tokenization: 100%|██████████| 1/1 [00:00<00:00, 549.14it/s]\n",
      "Inference:   0%|          | 0/1 [00:00<?, ?it/s]"
     ]
    },
    {
     "output_type": "stream",
     "name": "stdout",
     "text": [
      "Running pipeline ... done\n",
      "\n",
      "核配系統及關稅配額核配管理方法Verified allocation system and tariff quota allocation management method\n",
      "done\n",
      "------------\n",
      "\n"
     ]
    },
    {
     "output_type": "stream",
     "name": "stderr",
     "text": [
      "Inference: 100%|██████████| 1/1 [00:04<00:00,  4.96s/it]\n",
      "Tokenization: 100%|██████████| 1/1 [00:00<00:00, 730.97it/s]\n",
      "Inference: 100%|██████████| 1/1 [00:15<00:00, 15.37s/it]\n",
      "Tokenization: 100%|██████████| 1/1 [00:00<00:00, 235.30it/s]\n",
      "Inference: 100%|██████████| 1/1 [00:05<00:00,  5.02s/it]\n",
      "Tokenization: 100%|██████████| 1/1 [00:00<00:00, 649.78it/s]\n",
      "Inference:   0%|          | 0/1 [00:00<?, ?it/s]"
     ]
    },
    {
     "output_type": "stream",
     "name": "stdout",
     "text": [
      "Running pipeline ... done\n",
      "\n",
      "程式執行分析系統及其方法PROGRAM EXECUTION ANALYSIS SYSTEM AND METHOD THEREOF\n",
      "done\n",
      "------------\n",
      "\n"
     ]
    },
    {
     "output_type": "stream",
     "name": "stderr",
     "text": [
      "Inference: 100%|██████████| 1/1 [00:03<00:00,  3.71s/it]\n",
      "Tokenization: 100%|██████████| 1/1 [00:00<00:00, 698.70it/s]\n",
      "Inference: 100%|██████████| 1/1 [00:12<00:00, 12.57s/it]\n",
      "Tokenization: 100%|██████████| 1/1 [00:00<00:00, 219.88it/s]\n",
      "Inference: 100%|██████████| 1/1 [00:03<00:00,  3.66s/it]\n",
      "Tokenization: 100%|██████████| 1/1 [00:00<00:00, 587.85it/s]\n",
      "Inference:   0%|          | 0/1 [00:00<?, ?it/s]"
     ]
    },
    {
     "output_type": "stream",
     "name": "stdout",
     "text": [
      "Running pipeline ... done\n",
      "\n",
      "保險管理方法、系統及電腦程式產品INSURANCE MANAGEMENT METHOD, SYSTEM THEREOF AND COMPUTER APPLICATION\n",
      "done\n",
      "------------\n",
      "\n"
     ]
    },
    {
     "output_type": "stream",
     "name": "stderr",
     "text": [
      "Inference: 100%|██████████| 1/1 [00:03<00:00,  3.65s/it]\n",
      "Tokenization: 100%|██████████| 1/1 [00:00<00:00, 758.19it/s]\n",
      "Inference: 100%|██████████| 1/1 [00:12<00:00, 12.86s/it]\n",
      "Tokenization: 100%|██████████| 1/1 [00:00<00:00, 205.59it/s]\n",
      "Inference: 100%|██████████| 1/1 [00:03<00:00,  3.71s/it]\n",
      "Tokenization: 100%|██████████| 1/1 [00:00<00:00, 656.49it/s]\n",
      "Inference:   0%|          | 0/1 [00:00<?, ?it/s]"
     ]
    },
    {
     "output_type": "stream",
     "name": "stdout",
     "text": [
      "Running pipeline ... done\n",
      "\n",
      "限量商品的發售方法、系統及電腦程式產品METHOD FOR SELLING LIMITED PRODUCTS, SYSTEM THEREOF AND COMPUTER APPLICATION\n",
      "done\n",
      "------------\n",
      "\n"
     ]
    },
    {
     "output_type": "stream",
     "name": "stderr",
     "text": [
      "Inference: 100%|██████████| 1/1 [00:03<00:00,  3.71s/it]\n",
      "Tokenization: 100%|██████████| 1/1 [00:00<00:00, 1036.14it/s]\n",
      "Inference: 100%|██████████| 1/1 [00:17<00:00, 17.86s/it]\n",
      "Tokenization: 100%|██████████| 1/1 [00:00<00:00, 269.47it/s]\n",
      "Inference: 100%|██████████| 1/1 [00:03<00:00,  3.70s/it]\n",
      "Tokenization: 100%|██████████| 1/1 [00:00<00:00, 594.60it/s]\n",
      "Inference:   0%|          | 0/1 [00:00<?, ?it/s]"
     ]
    },
    {
     "output_type": "stream",
     "name": "stdout",
     "text": [
      "Running pipeline ... done\n",
      "\n",
      "個人銀行自動記帳系統及方法PERSONAL BANK AUTOMATIC BILLING SYSTEM AND METHOD\n",
      "done\n",
      "------------\n",
      "\n"
     ]
    },
    {
     "output_type": "stream",
     "name": "stderr",
     "text": [
      "Inference: 100%|██████████| 1/1 [00:03<00:00,  3.97s/it]\n",
      "Tokenization: 100%|██████████| 1/1 [00:00<00:00, 132.84it/s]\n",
      "Inference: 100%|██████████| 1/1 [00:27<00:00, 27.68s/it]\n",
      "Tokenization: 100%|██████████| 1/1 [00:00<00:00, 83.98it/s]\n",
      "Inference: 100%|██████████| 1/1 [00:03<00:00,  3.72s/it]\n",
      "Tokenization: 100%|██████████| 1/1 [00:00<00:00, 667.99it/s]\n",
      "Inference:   0%|          | 0/1 [00:00<?, ?it/s]"
     ]
    },
    {
     "output_type": "stream",
     "name": "stdout",
     "text": [
      "Running pipeline ... done\n",
      "\n",
      "藉由行動裝置結合感應式金融卡驗證網路銀行服務之系統及其方法SYSTEM AND METHOD FOR VERIFYING ONLINE BANKING SERVICE BY USING MOBILE DEVICE COMBINED WITH INDUCTIVE FINANCIAL CARD\n",
      "done\n",
      "------------\n",
      "\n"
     ]
    },
    {
     "output_type": "stream",
     "name": "stderr",
     "text": [
      "Inference: 100%|██████████| 1/1 [00:02<00:00,  2.58s/it]\n",
      "Tokenization: 100%|██████████| 1/1 [00:00<00:00, 1024.50it/s]\n",
      "Inference: 100%|██████████| 1/1 [00:07<00:00,  7.64s/it]\n",
      "Tokenization: 100%|██████████| 1/1 [00:00<00:00, 613.47it/s]\n",
      "Inference: 100%|██████████| 1/1 [00:02<00:00,  2.50s/it]\n",
      "Tokenization: 100%|██████████| 1/1 [00:00<00:00, 774.57it/s]\n",
      "Inference:   0%|          | 0/1 [00:00<?, ?it/s]"
     ]
    },
    {
     "output_type": "stream",
     "name": "stdout",
     "text": [
      "Running pipeline ... done\n",
      "\n",
      "自動偵測繳費編碼之繳費機台及其繳費機工作流程AUTOMATICALLY DETECT THE CODED PAYMENT MACHINE AND ITS PAYMENT MACHINE WORKFLOW\n",
      "done\n",
      "------------\n",
      "\n"
     ]
    },
    {
     "output_type": "stream",
     "name": "stderr",
     "text": [
      "Inference: 100%|██████████| 1/1 [00:02<00:00,  2.54s/it]\n",
      "Tokenization: 100%|██████████| 1/1 [00:00<00:00, 1033.08it/s]\n",
      "Inference: 100%|██████████| 1/1 [00:11<00:00, 11.40s/it]\n",
      "Tokenization: 100%|██████████| 1/1 [00:00<00:00, 419.85it/s]\n",
      "Inference: 100%|██████████| 1/1 [00:02<00:00,  2.84s/it]\n",
      "Tokenization: 100%|██████████| 1/1 [00:00<00:00, 692.47it/s]\n",
      "Inference:   0%|          | 0/1 [00:00<?, ?it/s]"
     ]
    },
    {
     "output_type": "stream",
     "name": "stdout",
     "text": [
      "Running pipeline ... done\n",
      "\n",
      "土地或建物之貸款輔助評估系統及其方法LAND OR BUILDING LOAN ASSISTED EVALUATION SYSTEM AND METHOD THEREOF\n",
      "done\n",
      "------------\n",
      "\n"
     ]
    },
    {
     "output_type": "stream",
     "name": "stderr",
     "text": [
      "Inference: 100%|██████████| 1/1 [00:02<00:00,  2.49s/it]\n",
      "Tokenization: 100%|██████████| 1/1 [00:00<00:00, 1570.31it/s]\n",
      "Inference: 100%|██████████| 1/1 [00:09<00:00,  9.74s/it]\n",
      "Tokenization: 100%|██████████| 1/1 [00:00<00:00, 888.81it/s]\n",
      "Inference: 100%|██████████| 1/1 [00:02<00:00,  3.00s/it]\n",
      "Tokenization: 100%|██████████| 1/1 [00:00<00:00, 1132.37it/s]\n",
      "Inference:   0%|          | 0/1 [00:00<?, ?it/s]"
     ]
    },
    {
     "output_type": "stream",
     "name": "stdout",
     "text": [
      "Running pipeline ... done\n",
      "\n",
      "自動化線上客服系統及其運作方法AUTOMATED ONLINE CUSTOMER SERVICE SYSTEM AND METHOD THEREOF\n",
      "done\n",
      "------------\n",
      "\n"
     ]
    },
    {
     "output_type": "stream",
     "name": "stderr",
     "text": [
      "Inference: 100%|██████████| 1/1 [00:02<00:00,  2.88s/it]\n",
      "Tokenization: 100%|██████████| 1/1 [00:00<00:00, 422.30it/s]\n",
      "Inference: 100%|██████████| 1/1 [00:08<00:00,  8.49s/it]\n",
      "Tokenization: 100%|██████████| 1/1 [00:00<00:00, 558.05it/s]\n",
      "Inference: 100%|██████████| 1/1 [00:03<00:00,  3.15s/it]\n",
      "Tokenization: 100%|██████████| 1/1 [00:00<00:00, 436.27it/s]\n",
      "Inference:   0%|          | 0/1 [00:00<?, ?it/s]"
     ]
    },
    {
     "output_type": "stream",
     "name": "stdout",
     "text": [
      "Running pipeline ... done\n",
      "\n",
      "個人化開銷彙整系統及其方法PERSONALIZED SPENDING AND COLLECTING SYSTEM AND METHOD THEREOF\n",
      "done\n",
      "------------\n",
      "\n"
     ]
    },
    {
     "output_type": "stream",
     "name": "stderr",
     "text": [
      "Inference: 100%|██████████| 1/1 [00:04<00:00,  4.24s/it]\n",
      "Tokenization: 100%|██████████| 1/1 [00:00<00:00, 878.76it/s]\n",
      "Inference: 100%|██████████| 1/1 [00:14<00:00, 14.23s/it]\n",
      "Tokenization: 100%|██████████| 1/1 [00:00<00:00, 183.09it/s]\n",
      "Inference: 100%|██████████| 1/1 [00:04<00:00,  4.36s/it]\n",
      "Tokenization: 100%|██████████| 1/1 [00:00<00:00, 385.47it/s]\n",
      "Inference:   0%|          | 0/1 [00:00<?, ?it/s]"
     ]
    },
    {
     "output_type": "stream",
     "name": "stdout",
     "text": [
      "Running pipeline ... done\n",
      "\n",
      "現金流入庫管理系統與方法、現金流管理系統與方法Cash flow warehousing management system and method, cash flow management system and method\n",
      "done\n",
      "------------\n",
      "\n"
     ]
    },
    {
     "output_type": "stream",
     "name": "stderr",
     "text": [
      "Inference: 100%|██████████| 1/1 [00:04<00:00,  4.09s/it]\n",
      "Tokenization: 100%|██████████| 1/1 [00:00<00:00, 561.19it/s]\n",
      "Inference: 100%|██████████| 1/1 [00:18<00:00, 18.55s/it]\n",
      "Tokenization: 100%|██████████| 1/1 [00:00<00:00, 207.18it/s]\n",
      "Inference: 100%|██████████| 1/1 [00:04<00:00,  4.41s/it]\n",
      "Tokenization: 100%|██████████| 1/1 [00:00<00:00, 836.19it/s]\n",
      "Inference:   0%|          | 0/1 [00:00<?, ?it/s]"
     ]
    },
    {
     "output_type": "stream",
     "name": "stdout",
     "text": [
      "Running pipeline ... done\n",
      "\n",
      "電子票券系統及電子票券使用方法Electronic ticket system and method for using electronic ticket\n",
      "done\n",
      "------------\n",
      "\n"
     ]
    },
    {
     "output_type": "stream",
     "name": "stderr",
     "text": [
      "Inference: 100%|██████████| 1/1 [00:01<00:00,  1.27s/it]\n",
      "Tokenization: 100%|██████████| 1/1 [00:00<00:00, 1804.78it/s]\n",
      "Inference: 100%|██████████| 1/1 [00:02<00:00,  2.68s/it]\n",
      "Tokenization: 100%|██████████| 1/1 [00:00<00:00, 1481.56it/s]\n",
      "Inference: 100%|██████████| 1/1 [00:01<00:00,  1.53s/it]\n",
      "Tokenization: 100%|██████████| 1/1 [00:00<00:00, 317.17it/s]\n",
      "Inference:   0%|          | 0/1 [00:00<?, ?it/s]"
     ]
    },
    {
     "output_type": "stream",
     "name": "stdout",
     "text": [
      "Running pipeline ... done\n",
      "\n",
      "個人化繳費通知系統及其方法PERSONALIZED PAYMENT NOTIFICATION SYSTEM AND METHOD THEREOF\n",
      "done\n",
      "------------\n",
      "\n"
     ]
    },
    {
     "output_type": "stream",
     "name": "stderr",
     "text": [
      "Inference: 100%|██████████| 1/1 [00:03<00:00,  3.13s/it]\n",
      "Tokenization: 100%|██████████| 1/1 [00:00<00:00, 1043.62it/s]\n",
      "Inference: 100%|██████████| 1/1 [00:04<00:00,  4.58s/it]\n",
      "Tokenization: 100%|██████████| 1/1 [00:00<00:00, 197.68it/s]\n",
      "Inference: 100%|██████████| 1/1 [00:03<00:00,  3.81s/it]\n",
      "Tokenization: 100%|██████████| 1/1 [00:00<00:00, 608.66it/s]\n",
      "Inference:   0%|          | 0/1 [00:00<?, ?it/s]"
     ]
    },
    {
     "output_type": "stream",
     "name": "stdout",
     "text": [
      "Running pipeline ... done\n",
      "\n",
      "可供線上買賣之外匯投資系統及其方法FOREIGN EXCHANGE INVESTMENT SYSTEM AND METHOD FOR ONLINE TRADING\n",
      "done\n",
      "------------\n",
      "\n"
     ]
    },
    {
     "output_type": "stream",
     "name": "stderr",
     "text": [
      "Inference: 100%|██████████| 1/1 [00:02<00:00,  2.83s/it]\n",
      "Tokenization: 100%|██████████| 1/1 [00:00<00:00, 1078.78it/s]\n",
      "Inference: 100%|██████████| 1/1 [00:06<00:00,  6.70s/it]\n",
      "Tokenization: 100%|██████████| 1/1 [00:00<00:00, 81.08it/s]\n",
      "Inference: 100%|██████████| 1/1 [00:03<00:00,  3.33s/it]\n",
      "Tokenization: 100%|██████████| 1/1 [00:00<00:00, 389.59it/s]\n",
      "Inference:   0%|          | 0/1 [00:00<?, ?it/s]"
     ]
    },
    {
     "output_type": "stream",
     "name": "stdout",
     "text": [
      "Running pipeline ... done\n",
      "\n",
      "提供線上取得個人化信貸資料之試算系統及其方法A TRIAL CALCULATION SYSTEM AND METHOD FOR OBTAINING PERSONALIZED CREDIT INFORMATION ONLINE\n",
      "done\n",
      "------------\n",
      "\n"
     ]
    },
    {
     "output_type": "stream",
     "name": "stderr",
     "text": [
      "Inference: 100%|██████████| 1/1 [00:03<00:00,  3.03s/it]\n",
      "Tokenization: 100%|██████████| 1/1 [00:00<00:00, 664.39it/s]\n",
      "Inference: 100%|██████████| 1/1 [00:06<00:00,  6.29s/it]\n",
      "Tokenization: 100%|██████████| 1/1 [00:00<00:00, 720.05it/s]\n",
      "Inference: 100%|██████████| 1/1 [00:03<00:00,  3.47s/it]\n",
      "Tokenization: 100%|██████████| 1/1 [00:00<00:00, 422.09it/s]\n",
      "Inference:   0%|          | 0/1 [00:00<?, ?it/s]"
     ]
    },
    {
     "output_type": "stream",
     "name": "stdout",
     "text": [
      "Running pipeline ... done\n",
      "\n",
      "可設定虛擬錢包攜帶金額之行動支付系統A MOBILE PAYMENT SYSTEM THAT CAN SET THE VIRTUAL WALLET CARRYING AMOUNT\n",
      "done\n",
      "------------\n",
      "\n"
     ]
    },
    {
     "output_type": "stream",
     "name": "stderr",
     "text": [
      "Inference: 100%|██████████| 1/1 [00:02<00:00,  2.98s/it]\n",
      "Tokenization: 100%|██████████| 1/1 [00:00<00:00, 1642.25it/s]\n",
      "Inference: 100%|██████████| 1/1 [00:12<00:00, 12.47s/it]\n",
      "Tokenization: 100%|██████████| 1/1 [00:00<00:00, 177.43it/s]\n",
      "Inference: 100%|██████████| 1/1 [00:03<00:00,  3.66s/it]\n",
      "Tokenization: 100%|██████████| 1/1 [00:00<00:00, 302.86it/s]\n",
      "Inference:   0%|          | 0/1 [00:00<?, ?it/s]"
     ]
    },
    {
     "output_type": "stream",
     "name": "stdout",
     "text": [
      "Running pipeline ... done\n",
      "\n",
      "自助式各國貨幣兌換機及其兌換方法SELF-SERVICE CURRENCY CONVERTOR AND CONVERSION METHOD\n",
      "done\n",
      "------------\n",
      "\n"
     ]
    },
    {
     "output_type": "stream",
     "name": "stderr",
     "text": [
      "Inference: 100%|██████████| 1/1 [00:04<00:00,  4.89s/it]\n",
      "Tokenization: 100%|██████████| 1/1 [00:00<00:00, 393.83it/s]\n",
      "Inference: 100%|██████████| 1/1 [00:18<00:00, 18.83s/it]\n",
      "Tokenization: 100%|██████████| 1/1 [00:00<00:00, 308.54it/s]\n",
      "Inference: 100%|██████████| 1/1 [00:03<00:00,  3.92s/it]\n",
      "Tokenization: 100%|██████████| 1/1 [00:00<00:00, 711.74it/s]\n",
      "Inference:   0%|          | 0/1 [00:00<?, ?it/s]"
     ]
    },
    {
     "output_type": "stream",
     "name": "stdout",
     "text": [
      "Running pipeline ... done\n",
      "\n",
      "線上銷帳方法METHOD OF ONLINE WRITING OFF\n",
      "done\n",
      "------------\n",
      "\n"
     ]
    },
    {
     "output_type": "stream",
     "name": "stderr",
     "text": [
      "Inference: 100%|██████████| 1/1 [00:01<00:00,  1.45s/it]\n",
      "Tokenization: 100%|██████████| 1/1 [00:00<00:00, 676.72it/s]\n",
      "Inference: 100%|██████████| 1/1 [00:04<00:00,  4.29s/it]\n",
      "Tokenization: 100%|██████████| 1/1 [00:00<00:00, 1147.87it/s]\n",
      "Inference: 100%|██████████| 1/1 [00:01<00:00,  1.28s/it]\n",
      "Tokenization: 100%|██████████| 1/1 [00:00<00:00, 440.35it/s]\n",
      "Inference:   0%|          | 0/1 [00:00<?, ?it/s]"
     ]
    },
    {
     "output_type": "stream",
     "name": "stdout",
     "text": [
      "Running pipeline ... done\n",
      "\n",
      "浮動式活期存款利率調變系統暨調變方法Floating Demand Deposit Interest Rate Modulation System and Modulation Method\n",
      "done\n",
      "------------\n",
      "\n"
     ]
    },
    {
     "output_type": "stream",
     "name": "stderr",
     "text": [
      "Inference: 100%|██████████| 1/1 [00:02<00:00,  2.55s/it]\n",
      "Tokenization: 100%|██████████| 1/1 [00:00<00:00, 862.85it/s]\n",
      "Inference: 100%|██████████| 1/1 [00:07<00:00,  7.72s/it]\n",
      "Tokenization: 100%|██████████| 1/1 [00:00<00:00, 736.88it/s]\n",
      "Inference: 100%|██████████| 1/1 [00:02<00:00,  2.69s/it]\n",
      "Tokenization: 100%|██████████| 1/1 [00:00<00:00, 1045.96it/s]\n",
      "Inference:   0%|          | 0/1 [00:00<?, ?it/s]"
     ]
    },
    {
     "output_type": "stream",
     "name": "stdout",
     "text": [
      "Running pipeline ... done\n",
      "\n",
      "一種智慧取號系統及其運作方法A Smart Number Taking System and Number Taking Method Thereof\n",
      "done\n",
      "------------\n",
      "\n"
     ]
    },
    {
     "output_type": "stream",
     "name": "stderr",
     "text": [
      "Inference: 100%|██████████| 1/1 [00:02<00:00,  2.59s/it]\n",
      "Tokenization: 100%|██████████| 1/1 [00:00<00:00, 530.25it/s]\n",
      "Inference: 100%|██████████| 1/1 [00:04<00:00,  4.77s/it]\n",
      "Tokenization: 100%|██████████| 1/1 [00:00<00:00, 570.03it/s]\n",
      "Inference: 100%|██████████| 1/1 [00:02<00:00,  2.59s/it]\n",
      "Tokenization: 100%|██████████| 1/1 [00:00<00:00, 406.82it/s]\n",
      "Inference:   0%|          | 0/1 [00:00<?, ?it/s]"
     ]
    },
    {
     "output_type": "stream",
     "name": "stdout",
     "text": [
      "Running pipeline ... done\n",
      "\n",
      "銀行內部風險評估暨自動產出稽核排程之系統及其方法Assessment Internal Risk in Bank and Automatic Output Audit Scheduling System and Method\n",
      "done\n",
      "------------\n",
      "\n"
     ]
    },
    {
     "output_type": "stream",
     "name": "stderr",
     "text": [
      "Inference: 100%|██████████| 1/1 [00:03<00:00,  3.91s/it]\n",
      "Tokenization: 100%|██████████| 1/1 [00:00<00:00, 424.14it/s]\n",
      "Inference: 100%|██████████| 1/1 [00:07<00:00,  7.85s/it]\n",
      "Tokenization: 100%|██████████| 1/1 [00:00<00:00, 314.06it/s]\n",
      "Inference: 100%|██████████| 1/1 [00:03<00:00,  3.96s/it]\n",
      "Tokenization: 100%|██████████| 1/1 [00:00<00:00, 553.70it/s]\n",
      "Inference:   0%|          | 0/1 [00:00<?, ?it/s]"
     ]
    },
    {
     "output_type": "stream",
     "name": "stdout",
     "text": [
      "Running pipeline ... done\n",
      "\n",
      "ｅ寫字檯辦理代收票據金融服務之方法Financial service method for collecting bills at e-writing desk\n",
      "done\n",
      "------------\n",
      "\n"
     ]
    },
    {
     "output_type": "stream",
     "name": "stderr",
     "text": [
      "Inference: 100%|██████████| 1/1 [00:03<00:00,  3.81s/it]\n",
      "Tokenization: 100%|██████████| 1/1 [00:00<00:00, 1209.08it/s]\n",
      "Inference: 100%|██████████| 1/1 [00:08<00:00,  8.44s/it]\n",
      "Tokenization: 100%|██████████| 1/1 [00:00<00:00, 657.11it/s]\n",
      "Inference: 100%|██████████| 1/1 [00:03<00:00,  3.96s/it]\n",
      "Tokenization: 100%|██████████| 1/1 [00:00<00:00, 677.92it/s]\n",
      "Inference:   0%|          | 0/1 [00:00<?, ?it/s]"
     ]
    },
    {
     "output_type": "stream",
     "name": "stdout",
     "text": [
      "Running pipeline ... done\n",
      "\n",
      "跨行提領貴金屬方法和跨行提領貴金屬系統CROSS-BANK PRECIOUS METAL WITHDRAW PROCESSING METHOD AND SYSTEM\n",
      "done\n",
      "------------\n",
      "\n"
     ]
    },
    {
     "output_type": "stream",
     "name": "stderr",
     "text": [
      "Inference: 100%|██████████| 1/1 [00:02<00:00,  2.71s/it]\n",
      "Tokenization: 100%|██████████| 1/1 [00:00<00:00, 914.99it/s]\n",
      "Inference: 100%|██████████| 1/1 [00:05<00:00,  5.84s/it]\n",
      "Tokenization: 100%|██████████| 1/1 [00:00<00:00, 679.35it/s]\n",
      "Inference: 100%|██████████| 1/1 [00:02<00:00,  2.66s/it]\n",
      "Tokenization: 100%|██████████| 1/1 [00:00<00:00, 1015.32it/s]\n",
      "Inference:   0%|          | 0/1 [00:00<?, ?it/s]"
     ]
    },
    {
     "output_type": "stream",
     "name": "stdout",
     "text": [
      "Running pipeline ... done\n",
      "\n",
      "開放伺服器帳號登入管理程序之方法Method of account login and management process for open server\n",
      "done\n",
      "------------\n",
      "\n"
     ]
    },
    {
     "output_type": "stream",
     "name": "stderr",
     "text": [
      "Inference: 100%|██████████| 1/1 [00:03<00:00,  3.41s/it]\n",
      "Tokenization: 100%|██████████| 1/1 [00:00<00:00, 740.26it/s]\n",
      "Inference: 100%|██████████| 1/1 [00:04<00:00,  4.40s/it]\n",
      "Tokenization: 100%|██████████| 1/1 [00:00<00:00, 684.45it/s]\n",
      "Inference: 100%|██████████| 1/1 [00:02<00:00,  2.44s/it]\n",
      "Tokenization: 100%|██████████| 1/1 [00:00<00:00, 440.49it/s]\n",
      "Inference:   0%|          | 0/1 [00:00<?, ?it/s]"
     ]
    },
    {
     "output_type": "stream",
     "name": "stdout",
     "text": [
      "Running pipeline ... done\n",
      "\n",
      "貸款申請方法和貸款申請處理系統LOAN APPLICATION METHOD OF AND LOAN APPLICATION PROCESSING SYSTEM\n",
      "done\n",
      "------------\n",
      "\n"
     ]
    },
    {
     "output_type": "stream",
     "name": "stderr",
     "text": [
      "Inference: 100%|██████████| 1/1 [00:03<00:00,  3.86s/it]\n",
      "Tokenization: 100%|██████████| 1/1 [00:00<00:00, 725.28it/s]\n",
      "Inference: 100%|██████████| 1/1 [00:31<00:00, 31.37s/it]\n",
      "Tokenization: 100%|██████████| 1/1 [00:00<00:00, 136.17it/s]\n",
      "Inference: 100%|██████████| 1/1 [00:03<00:00,  3.56s/it]\n",
      "Tokenization: 100%|██████████| 1/1 [00:00<00:00, 944.45it/s]\n",
      "Inference:   0%|          | 0/1 [00:00<?, ?it/s]"
     ]
    },
    {
     "output_type": "stream",
     "name": "stdout",
     "text": [
      "Running pipeline ... done\n",
      "\n",
      "貴金屬提領預約系統PRECIOUS METAL WITHDRAWAL RESERVATION SYSTEM\n",
      "done\n",
      "------------\n",
      "\n"
     ]
    },
    {
     "output_type": "stream",
     "name": "stderr",
     "text": [
      "Inference: 100%|██████████| 1/1 [00:02<00:00,  2.39s/it]\n",
      "Tokenization: 100%|██████████| 1/1 [00:00<00:00, 1245.71it/s]\n",
      "Inference: 100%|██████████| 1/1 [00:04<00:00,  4.15s/it]\n",
      "Tokenization: 100%|██████████| 1/1 [00:00<00:00, 736.49it/s]\n",
      "Inference: 100%|██████████| 1/1 [00:02<00:00,  2.47s/it]\n",
      "Tokenization: 100%|██████████| 1/1 [00:00<00:00, 769.74it/s]\n",
      "Inference:   0%|          | 0/1 [00:00<?, ?it/s]"
     ]
    },
    {
     "output_type": "stream",
     "name": "stdout",
     "text": [
      "Running pipeline ... done\n",
      "\n",
      "金資彙流整批入帳作業方法Funding resource confluence batch feeding operation method\n",
      "done\n",
      "------------\n",
      "\n"
     ]
    },
    {
     "output_type": "stream",
     "name": "stderr",
     "text": [
      "Inference: 100%|██████████| 1/1 [00:02<00:00,  2.47s/it]\n",
      "Tokenization: 100%|██████████| 1/1 [00:00<00:00, 638.21it/s]\n",
      "Inference: 100%|██████████| 1/1 [00:05<00:00,  5.25s/it]\n",
      "Tokenization: 100%|██████████| 1/1 [00:00<00:00, 767.48it/s]\n",
      "Inference: 100%|██████████| 1/1 [00:02<00:00,  2.37s/it]\n",
      "Tokenization: 100%|██████████| 1/1 [00:00<00:00, 793.62it/s]\n",
      "Inference:   0%|          | 0/1 [00:00<?, ?it/s]"
     ]
    },
    {
     "output_type": "stream",
     "name": "stdout",
     "text": [
      "Running pipeline ... done\n",
      "\n",
      "核心帳務主機監控方法Core banking host monitoring method\n",
      "done\n",
      "------------\n",
      "\n"
     ]
    },
    {
     "output_type": "stream",
     "name": "stderr",
     "text": [
      "Inference: 100%|██████████| 1/1 [00:02<00:00,  2.35s/it]\n",
      "Tokenization: 100%|██████████| 1/1 [00:00<00:00, 807.68it/s]\n",
      "Inference: 100%|██████████| 1/1 [00:05<00:00,  5.58s/it]\n",
      "Tokenization: 100%|██████████| 1/1 [00:00<00:00, 829.24it/s]\n",
      "Inference: 100%|██████████| 1/1 [00:02<00:00,  2.47s/it]\n",
      "Tokenization: 100%|██████████| 1/1 [00:00<00:00, 404.54it/s]\n",
      "Inference:   0%|          | 0/1 [00:00<?, ?it/s]"
     ]
    },
    {
     "output_type": "stream",
     "name": "stdout",
     "text": [
      "Running pipeline ... done\n",
      "\n",
      "電子文件與紙本文件影像資料整合處理方法Electronic document and paper document image data integration processing method\n",
      "done\n",
      "------------\n",
      "\n"
     ]
    },
    {
     "output_type": "stream",
     "name": "stderr",
     "text": [
      "Inference: 100%|██████████| 1/1 [00:03<00:00,  3.63s/it]\n",
      "Tokenization: 100%|██████████| 1/1 [00:00<00:00, 801.36it/s]\n",
      "Inference: 100%|██████████| 1/1 [00:11<00:00, 11.03s/it]\n",
      "Tokenization: 100%|██████████| 1/1 [00:00<00:00, 328.63it/s]\n",
      "Inference: 100%|██████████| 1/1 [00:03<00:00,  3.86s/it]\n",
      "Tokenization: 100%|██████████| 1/1 [00:00<00:00, 633.29it/s]\n",
      "Inference:   0%|          | 0/1 [00:00<?, ?it/s]"
     ]
    },
    {
     "output_type": "stream",
     "name": "stdout",
     "text": [
      "Running pipeline ... done\n",
      "\n",
      "預先通知存款客戶即將扣繳費稅資訊方法Method for providing advance notice of withholding taxes and fees to deposit account customers\n",
      "done\n",
      "------------\n",
      "\n"
     ]
    },
    {
     "output_type": "stream",
     "name": "stderr",
     "text": [
      "Inference: 100%|██████████| 1/1 [00:04<00:00,  4.05s/it]\n",
      "Tokenization: 100%|██████████| 1/1 [00:00<00:00, 962.66it/s]\n",
      "Inference: 100%|██████████| 1/1 [00:14<00:00, 14.66s/it]\n",
      "Tokenization: 100%|██████████| 1/1 [00:00<00:00, 263.08it/s]\n",
      "Inference: 100%|██████████| 1/1 [00:03<00:00,  3.85s/it]\n",
      "Tokenization: 100%|██████████| 1/1 [00:00<00:00, 784.42it/s]\n",
      "Inference:   0%|          | 0/1 [00:00<?, ?it/s]"
     ]
    },
    {
     "output_type": "stream",
     "name": "stdout",
     "text": [
      "Running pipeline ... done\n",
      "\n",
      "一鍵認證支付方法One-click authentication payment method\n",
      "done\n",
      "------------\n",
      "\n"
     ]
    },
    {
     "output_type": "stream",
     "name": "stderr",
     "text": [
      "Inference: 100%|██████████| 1/1 [00:02<00:00,  2.91s/it]\n",
      "Tokenization: 100%|██████████| 1/1 [00:00<00:00, 897.56it/s]\n",
      "Inference: 100%|██████████| 1/1 [00:05<00:00,  5.67s/it]\n",
      "Tokenization: 100%|██████████| 1/1 [00:00<00:00, 750.86it/s]\n",
      "Inference: 100%|██████████| 1/1 [00:02<00:00,  2.42s/it]\n",
      "Tokenization: 100%|██████████| 1/1 [00:00<00:00, 708.62it/s]\n",
      "Inference:   0%|          | 0/1 [00:00<?, ?it/s]"
     ]
    },
    {
     "output_type": "stream",
     "name": "stdout",
     "text": [
      "Running pipeline ... done\n",
      "\n",
      "利滾錢方法Method for making money with interests\n",
      "done\n",
      "------------\n",
      "\n"
     ]
    },
    {
     "output_type": "stream",
     "name": "stderr",
     "text": [
      "Inference: 100%|██████████| 1/1 [00:02<00:00,  2.43s/it]\n",
      "Tokenization: 100%|██████████| 1/1 [00:00<00:00, 684.56it/s]\n",
      "Inference: 100%|██████████| 1/1 [00:21<00:00, 21.37s/it]\n",
      "Tokenization: 100%|██████████| 1/1 [00:00<00:00, 285.48it/s]\n",
      "Inference: 100%|██████████| 1/1 [00:02<00:00,  2.40s/it]\n",
      "Tokenization: 100%|██████████| 1/1 [00:00<00:00, 539.67it/s]\n",
      "Inference:   0%|          | 0/1 [00:00<?, ?it/s]"
     ]
    },
    {
     "output_type": "stream",
     "name": "stdout",
     "text": [
      "Running pipeline ... done\n",
      "\n",
      "內容可索引之文件影像檔的建立方法及其索引方法Method for Creating and Indexing Document Image File Having Indexed Content\n",
      "done\n",
      "------------\n",
      "\n"
     ]
    },
    {
     "output_type": "stream",
     "name": "stderr",
     "text": [
      "Inference: 100%|██████████| 1/1 [00:03<00:00,  3.53s/it]\n",
      "Tokenization: 100%|██████████| 1/1 [00:00<00:00, 874.72it/s]\n",
      "Inference: 100%|██████████| 1/1 [00:16<00:00, 16.12s/it]\n",
      "Tokenization: 100%|██████████| 1/1 [00:00<00:00, 254.26it/s]\n",
      "Inference: 100%|██████████| 1/1 [00:03<00:00,  3.54s/it]\n",
      "Tokenization: 100%|██████████| 1/1 [00:00<00:00, 650.78it/s]\n",
      "Inference:   0%|          | 0/1 [00:00<?, ?it/s]"
     ]
    },
    {
     "output_type": "stream",
     "name": "stdout",
     "text": [
      "Running pipeline ... done\n",
      "\n",
      "黃金存摺轉帳方法與黃金跨行交易伺服器TRANSFER METHOD FOR GOLD PASSBOOK AND INTERBANK GOLD TRANSFER SERVER\n",
      "done\n",
      "------------\n",
      "\n"
     ]
    },
    {
     "output_type": "stream",
     "name": "stderr",
     "text": [
      "Inference: 100%|██████████| 1/1 [00:03<00:00,  3.56s/it]\n",
      "Tokenization: 100%|██████████| 1/1 [00:00<00:00, 759.98it/s]\n",
      "Inference: 100%|██████████| 1/1 [00:13<00:00, 13.70s/it]\n",
      "Tokenization: 100%|██████████| 1/1 [00:00<00:00, 325.01it/s]\n",
      "Inference: 100%|██████████| 1/1 [00:03<00:00,  3.66s/it]\n",
      "Tokenization: 100%|██████████| 1/1 [00:00<00:00, 673.03it/s]\n",
      "Inference:   0%|          | 0/1 [00:00<?, ?it/s]"
     ]
    },
    {
     "output_type": "stream",
     "name": "stdout",
     "text": [
      "Running pipeline ... done\n",
      "\n",
      "行動網銀交易認證方法及系統Mobile E-bank transaction authentication method and system\n",
      "done\n",
      "------------\n",
      "\n"
     ]
    },
    {
     "output_type": "stream",
     "name": "stderr",
     "text": [
      "Inference: 100%|██████████| 1/1 [00:03<00:00,  3.51s/it]\n",
      "Tokenization: 100%|██████████| 1/1 [00:00<00:00, 545.57it/s]\n",
      "Inference: 100%|██████████| 1/1 [00:08<00:00,  8.88s/it]\n",
      "Tokenization: 100%|██████████| 1/1 [00:00<00:00, 259.20it/s]\n",
      "Inference: 100%|██████████| 1/1 [00:03<00:00,  3.61s/it]\n",
      "Tokenization: 100%|██████████| 1/1 [00:00<00:00, 1133.90it/s]\n",
      "Inference:   0%|          | 0/1 [00:00<?, ?it/s]"
     ]
    },
    {
     "output_type": "stream",
     "name": "stdout",
     "text": [
      "Running pipeline ... done\n",
      "\n",
      "貴金屬交易方法及系統TRADING METHOD AND SYSTEM OF PRECIOUS METAL\n",
      "done\n",
      "------------\n",
      "\n"
     ]
    },
    {
     "output_type": "stream",
     "name": "stderr",
     "text": [
      "Inference: 100%|██████████| 1/1 [00:02<00:00,  2.39s/it]\n",
      "Tokenization: 100%|██████████| 1/1 [00:00<00:00, 1117.29it/s]\n",
      "Inference: 100%|██████████| 1/1 [00:03<00:00,  3.92s/it]\n",
      "Tokenization: 100%|██████████| 1/1 [00:00<00:00, 1154.82it/s]\n",
      "Inference: 100%|██████████| 1/1 [00:02<00:00,  2.48s/it]\n",
      "Tokenization: 100%|██████████| 1/1 [00:00<00:00, 893.55it/s]\n",
      "Inference:   0%|          | 0/1 [00:00<?, ?it/s]"
     ]
    },
    {
     "output_type": "stream",
     "name": "stdout",
     "text": [
      "Running pipeline ... done\n",
      "\n",
      "貴金屬購買方法和貴金屬購買系統PRECIOUS METAL PURCHASING METHOD AND PRECIOUS METAL PURCHASING SYSTEM\n",
      "done\n",
      "------------\n",
      "\n"
     ]
    },
    {
     "output_type": "stream",
     "name": "stderr",
     "text": [
      "Inference: 100%|██████████| 1/1 [00:02<00:00,  2.46s/it]\n",
      "Tokenization: 100%|██████████| 1/1 [00:00<00:00, 799.37it/s]\n",
      "Inference: 100%|██████████| 1/1 [00:03<00:00,  3.09s/it]\n",
      "Tokenization: 100%|██████████| 1/1 [00:00<00:00, 595.27it/s]\n",
      "Inference: 100%|██████████| 1/1 [00:02<00:00,  2.71s/it]\n",
      "Tokenization: 100%|██████████| 1/1 [00:00<00:00, 455.95it/s]\n",
      "Inference:   0%|          | 0/1 [00:00<?, ?it/s]"
     ]
    },
    {
     "output_type": "stream",
     "name": "stdout",
     "text": [
      "Running pipeline ... done\n",
      "\n",
      "自動電匯解款伺服器及其自動電匯解款方法SERVER AND METHOD FOR AUTOMATICALLY PROCESSING PAYMENT OF REMITTANCE\n",
      "done\n",
      "------------\n",
      "\n"
     ]
    },
    {
     "output_type": "stream",
     "name": "stderr",
     "text": [
      "Inference: 100%|██████████| 1/1 [00:02<00:00,  2.48s/it]\n",
      "Tokenization: 100%|██████████| 1/1 [00:00<00:00, 836.69it/s]\n",
      "Inference: 100%|██████████| 1/1 [00:07<00:00,  7.91s/it]\n",
      "Tokenization: 100%|██████████| 1/1 [00:00<00:00, 203.87it/s]\n",
      "Inference: 100%|██████████| 1/1 [00:02<00:00,  2.94s/it]\n",
      "Tokenization: 100%|██████████| 1/1 [00:00<00:00, 696.50it/s]\n",
      "Inference:   0%|          | 0/1 [00:00<?, ?it/s]"
     ]
    },
    {
     "output_type": "stream",
     "name": "stdout",
     "text": [
      "Running pipeline ... done\n",
      "\n",
      "電文自動列印系統及其自動列印方法SYSTEM AND MTHOD FOR MESSAGE AUTOMATIC PRINTING\n",
      "done\n",
      "------------\n",
      "\n"
     ]
    },
    {
     "output_type": "stream",
     "name": "stderr",
     "text": [
      "Inference: 100%|██████████| 1/1 [00:04<00:00,  4.29s/it]\n",
      "Tokenization: 100%|██████████| 1/1 [00:00<00:00, 592.42it/s]\n",
      "Inference: 100%|██████████| 1/1 [00:15<00:00, 15.90s/it]\n",
      "Tokenization: 100%|██████████| 1/1 [00:00<00:00, 315.57it/s]\n",
      "Inference: 100%|██████████| 1/1 [00:04<00:00,  4.45s/it]\n",
      "Tokenization: 100%|██████████| 1/1 [00:00<00:00, 408.01it/s]\n",
      "Inference:   0%|          | 0/1 [00:00<?, ?it/s]"
     ]
    },
    {
     "output_type": "stream",
     "name": "stdout",
     "text": [
      "Running pipeline ... done\n",
      "\n",
      "智慧銀行櫃檯交易服務方法及系統Smart banking over-the-counter service method and system\n",
      "done\n",
      "------------\n",
      "\n"
     ]
    },
    {
     "output_type": "stream",
     "name": "stderr",
     "text": [
      "Inference: 100%|██████████| 1/1 [00:03<00:00,  3.72s/it]\n",
      "Tokenization: 100%|██████████| 1/1 [00:00<00:00, 447.63it/s]\n",
      "Inference: 100%|██████████| 1/1 [00:09<00:00,  9.78s/it]\n",
      "Tokenization: 100%|██████████| 1/1 [00:00<00:00, 466.86it/s]\n",
      "Inference: 100%|██████████| 1/1 [00:03<00:00,  3.73s/it]\n",
      "Tokenization: 100%|██████████| 1/1 [00:00<00:00, 239.21it/s]\n",
      "Inference:   0%|          | 0/1 [00:00<?, ?it/s]"
     ]
    },
    {
     "output_type": "stream",
     "name": "stdout",
     "text": [
      "Running pipeline ... done\n",
      "\n",
      "語音取號方法及系統Voice number-taking method and system\n",
      "done\n",
      "------------\n",
      "\n"
     ]
    },
    {
     "output_type": "stream",
     "name": "stderr",
     "text": [
      "Inference: 100%|██████████| 1/1 [00:03<00:00,  3.61s/it]\n",
      "Tokenization: 100%|██████████| 1/1 [00:00<00:00, 799.22it/s]\n",
      "Inference: 100%|██████████| 1/1 [00:20<00:00, 20.18s/it]\n",
      "Tokenization: 100%|██████████| 1/1 [00:00<00:00, 309.20it/s]\n",
      "Inference: 100%|██████████| 1/1 [00:04<00:00,  4.29s/it]\n",
      "Tokenization: 100%|██████████| 1/1 [00:00<00:00, 783.10it/s]\n",
      "Inference:   0%|          | 0/1 [00:00<?, ?it/s]"
     ]
    },
    {
     "output_type": "stream",
     "name": "stdout",
     "text": [
      "Running pipeline ... done\n",
      "\n",
      "網路銀行帳戶的登入方法及應用該登入方法之網路銀行系統LOG-IN METHOD FOR NETWORK BANK ACCOUNT AND NETWOK BANK SYSTEM APPLY LOG-IN METHOD THEREOF\n",
      "done\n",
      "------------\n",
      "\n"
     ]
    },
    {
     "output_type": "stream",
     "name": "stderr",
     "text": [
      "Inference: 100%|██████████| 1/1 [00:02<00:00,  2.80s/it]\n",
      "Tokenization: 100%|██████████| 1/1 [00:00<00:00, 1350.82it/s]\n",
      "Inference: 100%|██████████| 1/1 [00:07<00:00,  7.15s/it]\n",
      "Tokenization: 100%|██████████| 1/1 [00:00<00:00, 805.82it/s]\n",
      "Inference: 100%|██████████| 1/1 [00:02<00:00,  2.49s/it]\n",
      "Tokenization: 100%|██████████| 1/1 [00:00<00:00, 727.80it/s]\n",
      "Inference:   0%|          | 0/1 [00:00<?, ?it/s]"
     ]
    },
    {
     "output_type": "stream",
     "name": "stdout",
     "text": [
      "Running pipeline ... done\n",
      "\n",
      "行動支付方法、行動支付查詢方法及行動支付的裝置綁定方法MOBILE PAYMENT METHOD, INQUIRY METHOD FOR MOBILE PAYMENT AND DEVICE BIDING METHOD FOR MOBILE PAYMENT\n",
      "done\n",
      "------------\n",
      "\n"
     ]
    },
    {
     "output_type": "stream",
     "name": "stderr",
     "text": [
      "Inference: 100%|██████████| 1/1 [00:04<00:00,  4.07s/it]\n",
      "Tokenization: 100%|██████████| 1/1 [00:00<00:00, 484.72it/s]\n",
      "Inference: 100%|██████████| 1/1 [00:04<00:00,  4.92s/it]\n",
      "Tokenization: 100%|██████████| 1/1 [00:00<00:00, 544.93it/s]\n",
      "Inference: 100%|██████████| 1/1 [00:03<00:00,  3.82s/it]\n",
      "Tokenization: 100%|██████████| 1/1 [00:00<00:00, 2057.04it/s]\n",
      "Inference:   0%|          | 0/1 [00:00<?, ?it/s]"
     ]
    },
    {
     "output_type": "stream",
     "name": "stdout",
     "text": [
      "Running pipeline ... done\n",
      "\n",
      "自然人憑證認證方法CITIZEN DIGITAL CERTIFICATE AUTHENTICATION METHOD\n",
      "done\n",
      "------------\n",
      "\n"
     ]
    },
    {
     "output_type": "stream",
     "name": "stderr",
     "text": [
      "Inference: 100%|██████████| 1/1 [00:00<00:00,  2.38it/s]\n",
      "Tokenization: 100%|██████████| 1/1 [00:00<00:00, 1783.29it/s]\n",
      "Inference: 100%|██████████| 1/1 [00:00<00:00,  1.54it/s]\n",
      "Tokenization: 100%|██████████| 1/1 [00:00<00:00, 1838.80it/s]\n",
      "Inference: 100%|██████████| 1/1 [00:00<00:00,  2.37it/s]\n",
      "Tokenization: 100%|██████████| 1/1 [00:00<00:00, 2487.72it/s]\n",
      "Inference:   0%|          | 0/1 [00:00<?, ?it/s]"
     ]
    },
    {
     "output_type": "stream",
     "name": "stdout",
     "text": [
      "Running pipeline ... done\n",
      "\n",
      "智慧存錢系統SMART DEPOSIT SYSTEM\n",
      "done\n",
      "------------\n",
      "\n"
     ]
    },
    {
     "output_type": "stream",
     "name": "stderr",
     "text": [
      "Inference: 100%|██████████| 1/1 [00:00<00:00,  1.80it/s]\n",
      "Tokenization: 100%|██████████| 1/1 [00:00<00:00, 979.52it/s]\n",
      "Inference: 100%|██████████| 1/1 [00:00<00:00,  1.28it/s]\n",
      "Tokenization: 100%|██████████| 1/1 [00:00<00:00, 2222.74it/s]\n",
      "Inference: 100%|██████████| 1/1 [00:00<00:00,  2.25it/s]\n",
      "Tokenization: 100%|██████████| 1/1 [00:00<00:00, 3718.35it/s]\n",
      "Inference:   0%|          | 0/1 [00:00<?, ?it/s]"
     ]
    },
    {
     "output_type": "stream",
     "name": "stdout",
     "text": [
      "Running pipeline ... done\n",
      "\n",
      "貨幣辨識系統CURRENCY RECOGNITION SYSTEM\n",
      "done\n",
      "------------\n",
      "\n"
     ]
    },
    {
     "output_type": "stream",
     "name": "stderr",
     "text": [
      "Inference: 100%|██████████| 1/1 [00:00<00:00,  2.65it/s]\n",
      "Tokenization: 100%|██████████| 1/1 [00:00<00:00, 3622.02it/s]\n",
      "Inference: 100%|██████████| 1/1 [00:00<00:00,  1.93it/s]\n",
      "Tokenization: 100%|██████████| 1/1 [00:00<00:00, 1358.70it/s]\n",
      "Inference: 100%|██████████| 1/1 [00:00<00:00,  1.77it/s]\n",
      "Tokenization: 100%|██████████| 1/1 [00:00<00:00, 2247.75it/s]\n",
      "Inference:   0%|          | 0/1 [00:00<?, ?it/s]"
     ]
    },
    {
     "output_type": "stream",
     "name": "stdout",
     "text": [
      "Running pipeline ... done\n",
      "\n",
      "網路銀行推播入帳系統ONLINE BANKING NOTIFICATION SYSTEM\n",
      "done\n",
      "------------\n",
      "\n"
     ]
    },
    {
     "output_type": "stream",
     "name": "stderr",
     "text": [
      "Inference: 100%|██████████| 1/1 [00:00<00:00,  2.28it/s]\n",
      "Tokenization: 100%|██████████| 1/1 [00:00<00:00, 889.94it/s]\n",
      "Inference: 100%|██████████| 1/1 [00:00<00:00,  1.47it/s]\n",
      "Tokenization: 100%|██████████| 1/1 [00:00<00:00, 3390.71it/s]\n",
      "Inference: 100%|██████████| 1/1 [00:00<00:00,  2.46it/s]\n",
      "Tokenization: 100%|██████████| 1/1 [00:00<00:00, 2864.96it/s]\n",
      "Inference:   0%|          | 0/1 [00:00<?, ?it/s]"
     ]
    },
    {
     "output_type": "stream",
     "name": "stdout",
     "text": [
      "Running pipeline ... done\n",
      "\n",
      "金融交易的身分識別系統\n",
      "done\n",
      "------------\n",
      "\n"
     ]
    },
    {
     "output_type": "stream",
     "name": "stderr",
     "text": [
      "Inference: 100%|██████████| 1/1 [00:00<00:00,  1.80it/s]\n",
      "Tokenization: 100%|██████████| 1/1 [00:00<00:00, 541.76it/s]\n",
      "Inference: 100%|██████████| 1/1 [00:01<00:00,  1.01s/it]\n",
      "Tokenization: 100%|██████████| 1/1 [00:00<00:00, 2062.10it/s]\n",
      "Inference: 100%|██████████| 1/1 [00:00<00:00,  1.73it/s]\n",
      "Tokenization: 100%|██████████| 1/1 [00:00<00:00, 1893.59it/s]\n",
      "Inference:   0%|          | 0/1 [00:00<?, ?it/s]"
     ]
    },
    {
     "output_type": "stream",
     "name": "stdout",
     "text": [
      "Running pipeline ... done\n",
      "\n",
      "金融帳戶交易控管系統及其方法FINANCIAL ACCOUNT TRANSACTION CONTROL SYSTEM AND METHOD THEREOF\n",
      "done\n",
      "------------\n",
      "\n"
     ]
    },
    {
     "output_type": "stream",
     "name": "stderr",
     "text": [
      "Inference: 100%|██████████| 1/1 [00:00<00:00,  1.69it/s]\n",
      "Tokenization: 100%|██████████| 1/1 [00:00<00:00, 1798.59it/s]\n",
      "Inference: 100%|██████████| 1/1 [00:00<00:00,  1.22it/s]\n",
      "Tokenization: 100%|██████████| 1/1 [00:00<00:00, 1644.83it/s]\n",
      "Inference: 100%|██████████| 1/1 [00:00<00:00,  1.70it/s]\n",
      "Tokenization: 100%|██████████| 1/1 [00:00<00:00, 4405.78it/s]\n",
      "Inference:   0%|          | 0/1 [00:00<?, ?it/s]"
     ]
    },
    {
     "output_type": "stream",
     "name": "stdout",
     "text": [
      "Running pipeline ... done\n",
      "\n",
      "政府採購網押標金之收款流程線上化及交易流程優化之方法\n",
      "done\n",
      "------------\n",
      "\n"
     ]
    },
    {
     "output_type": "stream",
     "name": "stderr",
     "text": [
      "Inference: 100%|██████████| 1/1 [00:00<00:00,  2.95it/s]\n",
      "Tokenization: 100%|██████████| 1/1 [00:00<00:00, 2680.07it/s]\n",
      "Inference: 100%|██████████| 1/1 [00:00<00:00,  2.31it/s]\n",
      "Tokenization: 100%|██████████| 1/1 [00:00<00:00, 1103.76it/s]\n",
      "Inference: 100%|██████████| 1/1 [00:00<00:00,  2.89it/s]\n",
      "Tokenization: 100%|██████████| 1/1 [00:00<00:00, 2434.30it/s]\n",
      "Inference:   0%|          | 0/1 [00:00<?, ?it/s]"
     ]
    },
    {
     "output_type": "stream",
     "name": "stdout",
     "text": [
      "Running pipeline ... done\n",
      "\n",
      "交易機台公平使用系統\n",
      "done\n",
      "------------\n",
      "\n"
     ]
    },
    {
     "output_type": "stream",
     "name": "stderr",
     "text": [
      "Inference: 100%|██████████| 1/1 [00:00<00:00,  1.70it/s]\n",
      "Tokenization: 100%|██████████| 1/1 [00:00<00:00, 3165.51it/s]\n",
      "Inference: 100%|██████████| 1/1 [00:01<00:00,  1.12s/it]\n",
      "Tokenization: 100%|██████████| 1/1 [00:00<00:00, 2626.36it/s]\n",
      "Inference: 100%|██████████| 1/1 [00:00<00:00,  1.76it/s]\n",
      "Tokenization: 100%|██████████| 1/1 [00:00<00:00, 2475.98it/s]\n",
      "Inference:   0%|          | 0/1 [00:00<?, ?it/s]"
     ]
    },
    {
     "output_type": "stream",
     "name": "stdout",
     "text": [
      "Running pipeline ... done\n",
      "\n",
      "外收資料之整合裝置\n",
      "done\n",
      "------------\n",
      "\n"
     ]
    },
    {
     "output_type": "stream",
     "name": "stderr",
     "text": [
      "Inference: 100%|██████████| 1/1 [00:00<00:00,  1.93it/s]\n",
      "Tokenization: 100%|██████████| 1/1 [00:00<00:00, 1410.32it/s]\n",
      "Inference: 100%|██████████| 1/1 [00:01<00:00,  1.07s/it]\n",
      "Tokenization: 100%|██████████| 1/1 [00:00<00:00, 1711.96it/s]\n",
      "Inference: 100%|██████████| 1/1 [00:00<00:00,  1.71it/s]\n",
      "Tokenization: 100%|██████████| 1/1 [00:00<00:00, 2939.25it/s]\n",
      "Inference:   0%|          | 0/1 [00:00<?, ?it/s]"
     ]
    },
    {
     "output_type": "stream",
     "name": "stdout",
     "text": [
      "Running pipeline ... done\n",
      "\n",
      "自動櫃員機滅菌裝置AUTOMATIC TELLER MACHINE STERILIZATION DEVICE\n",
      "done\n",
      "------------\n",
      "\n"
     ]
    },
    {
     "output_type": "stream",
     "name": "stderr",
     "text": [
      "Inference: 100%|██████████| 1/1 [00:00<00:00,  3.57it/s]\n",
      "Tokenization: 100%|██████████| 1/1 [00:00<00:00, 2299.51it/s]\n",
      "Inference: 100%|██████████| 1/1 [00:00<00:00,  2.55it/s]\n",
      "Tokenization: 100%|██████████| 1/1 [00:00<00:00, 3631.43it/s]\n",
      "Inference: 100%|██████████| 1/1 [00:00<00:00,  4.00it/s]\n",
      "Tokenization: 100%|██████████| 1/1 [00:00<00:00, 2941.31it/s]\n",
      "Inference:   0%|          | 0/1 [00:00<?, ?it/s]"
     ]
    },
    {
     "output_type": "stream",
     "name": "stdout",
     "text": [
      "Running pipeline ... done\n",
      "\n",
      "浮動式活期存款利率調變系統暨調變方法FLOATING DEMAND DEPOSIT INTEREST RATE MODULATION SYSTEM AND MODULATION METHOD\n",
      "done\n",
      "------------\n",
      "\n"
     ]
    },
    {
     "output_type": "stream",
     "name": "stderr",
     "text": [
      "Inference: 100%|██████████| 1/1 [00:00<00:00,  2.44it/s]\n",
      "Tokenization: 100%|██████████| 1/1 [00:00<00:00, 2375.03it/s]\n",
      "Inference: 100%|██████████| 1/1 [00:00<00:00,  1.73it/s]\n",
      "Tokenization: 100%|██████████| 1/1 [00:00<00:00, 3182.32it/s]\n",
      "Inference: 100%|██████████| 1/1 [00:00<00:00,  2.36it/s]\n",
      "Tokenization: 100%|██████████| 1/1 [00:00<00:00, 3106.89it/s]\n",
      "Inference:   0%|          | 0/1 [00:00<?, ?it/s]"
     ]
    },
    {
     "output_type": "stream",
     "name": "stdout",
     "text": [
      "Running pipeline ... done\n",
      "\n",
      "基於區塊鏈的交易系統\n",
      "done\n",
      "------------\n",
      "\n"
     ]
    },
    {
     "output_type": "stream",
     "name": "stderr",
     "text": [
      "Inference: 100%|██████████| 1/1 [00:00<00:00,  2.07it/s]\n",
      "Tokenization: 100%|██████████| 1/1 [00:00<00:00, 892.79it/s]\n",
      "Inference: 100%|██████████| 1/1 [00:00<00:00,  1.50it/s]\n",
      "Tokenization: 100%|██████████| 1/1 [00:00<00:00, 2023.30it/s]\n",
      "Inference: 100%|██████████| 1/1 [00:00<00:00,  1.94it/s]\n",
      "Tokenization: 100%|██████████| 1/1 [00:00<00:00, 2833.99it/s]\n",
      "Inference:   0%|          | 0/1 [00:00<?, ?it/s]"
     ]
    },
    {
     "output_type": "stream",
     "name": "stdout",
     "text": [
      "Running pipeline ... done\n",
      "\n",
      "票券辨識系統VOUCHER IDENTIFICATION SYSTEM\n",
      "done\n",
      "------------\n",
      "\n"
     ]
    },
    {
     "output_type": "stream",
     "name": "stderr",
     "text": [
      "Inference: 100%|██████████| 1/1 [00:00<00:00,  1.67it/s]\n",
      "Tokenization: 100%|██████████| 1/1 [00:00<00:00, 2428.66it/s]\n",
      "Inference: 100%|██████████| 1/1 [00:01<00:00,  1.07s/it]\n",
      "Tokenization: 100%|██████████| 1/1 [00:00<00:00, 1811.01it/s]\n",
      "Inference: 100%|██████████| 1/1 [00:00<00:00,  1.71it/s]\n",
      "Tokenization: 100%|██████████| 1/1 [00:00<00:00, 2785.06it/s]\n",
      "Inference:   0%|          | 0/1 [00:00<?, ?it/s]"
     ]
    },
    {
     "output_type": "stream",
     "name": "stdout",
     "text": [
      "Running pipeline ... done\n",
      "\n",
      "跨行金融交易系統\n",
      "done\n",
      "------------\n",
      "\n"
     ]
    },
    {
     "output_type": "stream",
     "name": "stderr",
     "text": [
      "Inference: 100%|██████████| 1/1 [00:00<00:00,  1.81it/s]\n",
      "Tokenization: 100%|██████████| 1/1 [00:00<00:00, 2028.19it/s]\n",
      "Inference: 100%|██████████| 1/1 [00:00<00:00,  1.08it/s]\n",
      "Tokenization: 100%|██████████| 1/1 [00:00<00:00, 2218.03it/s]\n",
      "Inference: 100%|██████████| 1/1 [00:00<00:00,  1.38it/s]\n",
      "Tokenization: 100%|██████████| 1/1 [00:00<00:00, 2074.33it/s]\n",
      "Inference:   0%|          | 0/1 [00:00<?, ?it/s]"
     ]
    },
    {
     "output_type": "stream",
     "name": "stdout",
     "text": [
      "Running pipeline ... done\n",
      "\n",
      "網路銀行結合通訊軟體推播登入系統ONLINE BANKING COMBINED WITH COMMUNICATION SOFTWARE LOGIN SYSTEM\n",
      "done\n",
      "------------\n",
      "\n"
     ]
    },
    {
     "output_type": "stream",
     "name": "stderr",
     "text": [
      "Inference: 100%|██████████| 1/1 [00:00<00:00,  1.60it/s]\n",
      "Tokenization: 100%|██████████| 1/1 [00:00<00:00, 1669.04it/s]\n",
      "Inference: 100%|██████████| 1/1 [00:01<00:00,  1.02s/it]\n",
      "Tokenization: 100%|██████████| 1/1 [00:00<00:00, 1259.55it/s]\n",
      "Inference: 100%|██████████| 1/1 [00:00<00:00,  1.68it/s]\n",
      "Tokenization: 100%|██████████| 1/1 [00:00<00:00, 3761.71it/s]\n",
      "Inference:   0%|          | 0/1 [00:00<?, ?it/s]"
     ]
    },
    {
     "output_type": "stream",
     "name": "stdout",
     "text": [
      "Running pipeline ... done\n",
      "\n",
      "滲透測試個案建議方法及系統\n",
      "done\n",
      "------------\n",
      "\n"
     ]
    },
    {
     "output_type": "stream",
     "name": "stderr",
     "text": [
      "Inference: 100%|██████████| 1/1 [00:00<00:00,  2.78it/s]\n",
      "Tokenization: 100%|██████████| 1/1 [00:00<00:00, 1575.03it/s]\n",
      "Inference: 100%|██████████| 1/1 [00:00<00:00,  1.80it/s]\n",
      "Tokenization: 100%|██████████| 1/1 [00:00<00:00, 2050.00it/s]\n",
      "Inference: 100%|██████████| 1/1 [00:00<00:00,  2.87it/s]\n",
      "Tokenization: 100%|██████████| 1/1 [00:00<00:00, 1611.33it/s]\n",
      "Inference:   0%|          | 0/1 [00:00<?, ?it/s]"
     ]
    },
    {
     "output_type": "stream",
     "name": "stdout",
     "text": [
      "Running pipeline ... done\n",
      "\n",
      "網路攻擊分析方法NETWORK ATTACK ANALYSIS METHOD\n",
      "done\n",
      "------------\n",
      "\n"
     ]
    },
    {
     "output_type": "stream",
     "name": "stderr",
     "text": [
      "Inference: 100%|██████████| 1/1 [00:00<00:00,  1.90it/s]\n",
      "Tokenization: 100%|██████████| 1/1 [00:00<00:00, 2449.94it/s]\n",
      "Inference: 100%|██████████| 1/1 [00:00<00:00,  1.38it/s]\n",
      "Tokenization: 100%|██████████| 1/1 [00:00<00:00, 1292.15it/s]\n",
      "Inference: 100%|██████████| 1/1 [00:00<00:00,  1.81it/s]\n",
      "Tokenization: 100%|██████████| 1/1 [00:00<00:00, 2091.92it/s]\n",
      "Inference:   0%|          | 0/1 [00:00<?, ?it/s]"
     ]
    },
    {
     "output_type": "stream",
     "name": "stdout",
     "text": [
      "Running pipeline ... done\n",
      "\n",
      "整合金融卡行動支付驗證之系統Integrated financial card mobile payment verification system\n",
      "done\n",
      "------------\n",
      "\n"
     ]
    },
    {
     "output_type": "stream",
     "name": "stderr",
     "text": [
      "Inference: 100%|██████████| 1/1 [00:00<00:00,  2.88it/s]\n",
      "Tokenization: 100%|██████████| 1/1 [00:00<00:00, 2951.66it/s]\n",
      "Inference: 100%|██████████| 1/1 [00:00<00:00,  1.76it/s]\n",
      "Tokenization: 100%|██████████| 1/1 [00:00<00:00, 3486.54it/s]\n",
      "Inference: 100%|██████████| 1/1 [00:00<00:00,  2.81it/s]\n",
      "Tokenization: 100%|██████████| 1/1 [00:00<00:00, 1700.16it/s]\n",
      "Inference:   0%|          | 0/1 [00:00<?, ?it/s]"
     ]
    },
    {
     "output_type": "stream",
     "name": "stdout",
     "text": [
      "Running pipeline ... done\n",
      "\n",
      "偽券幣警示系統Counterfeit currency warning system\n",
      "done\n",
      "------------\n",
      "\n"
     ]
    },
    {
     "output_type": "stream",
     "name": "stderr",
     "text": [
      "Inference: 100%|██████████| 1/1 [00:00<00:00,  1.87it/s]\n",
      "Tokenization: 100%|██████████| 1/1 [00:00<00:00, 1330.26it/s]\n",
      "Inference: 100%|██████████| 1/1 [00:00<00:00,  1.42it/s]\n",
      "Tokenization: 100%|██████████| 1/1 [00:00<00:00, 2746.76it/s]\n",
      "Inference: 100%|██████████| 1/1 [00:00<00:00,  1.91it/s]\n",
      "Tokenization: 100%|██████████| 1/1 [00:00<00:00, 2849.39it/s]\n",
      "Inference:   0%|          | 0/1 [00:00<?, ?it/s]"
     ]
    },
    {
     "output_type": "stream",
     "name": "stdout",
     "text": [
      "Running pipeline ... done\n",
      "\n",
      "代收服務即時更新系統Real-time update system for collection service\n",
      "done\n",
      "------------\n",
      "\n"
     ]
    },
    {
     "output_type": "stream",
     "name": "stderr",
     "text": [
      "Inference: 100%|██████████| 1/1 [00:00<00:00,  1.82it/s]\n",
      "Tokenization: 100%|██████████| 1/1 [00:00<00:00, 2078.45it/s]\n",
      "Inference: 100%|██████████| 1/1 [00:00<00:00,  1.21it/s]\n",
      "Tokenization: 100%|██████████| 1/1 [00:00<00:00, 2857.16it/s]\n",
      "Inference: 100%|██████████| 1/1 [00:00<00:00,  1.79it/s]\n",
      "Tokenization: 100%|██████████| 1/1 [00:00<00:00, 2680.07it/s]\n",
      "Inference:   0%|          | 0/1 [00:00<?, ?it/s]"
     ]
    },
    {
     "output_type": "stream",
     "name": "stdout",
     "text": [
      "Running pipeline ... done\n",
      "\n",
      "聲控操作裝置Voice-controlled operating apparatus\n",
      "done\n",
      "------------\n",
      "\n"
     ]
    },
    {
     "output_type": "stream",
     "name": "stderr",
     "text": [
      "Inference: 100%|██████████| 1/1 [00:00<00:00,  2.41it/s]\n",
      "Tokenization: 100%|██████████| 1/1 [00:00<00:00, 2398.12it/s]\n",
      "Inference: 100%|██████████| 1/1 [00:00<00:00,  1.67it/s]\n",
      "Tokenization: 100%|██████████| 1/1 [00:00<00:00, 604.19it/s]\n",
      "Inference: 100%|██████████| 1/1 [00:00<00:00,  2.42it/s]\n",
      "Tokenization: 100%|██████████| 1/1 [00:00<00:00, 3908.95it/s]\n",
      "Inference:   0%|          | 0/1 [00:00<?, ?it/s]"
     ]
    },
    {
     "output_type": "stream",
     "name": "stdout",
     "text": [
      "Running pipeline ... done\n",
      "\n",
      "貸款擔保品之法拍系統及其方法JUDICIAL SALE SYSTEM OF LOAN COLLATERAL AND METHOD THEREOF\n",
      "done\n",
      "------------\n",
      "\n"
     ]
    },
    {
     "output_type": "stream",
     "name": "stderr",
     "text": [
      "Inference: 100%|██████████| 1/1 [00:00<00:00,  3.94it/s]\n",
      "Tokenization: 100%|██████████| 1/1 [00:00<00:00, 4032.98it/s]\n",
      "Inference: 100%|██████████| 1/1 [00:00<00:00,  3.16it/s]\n",
      "Tokenization: 100%|██████████| 1/1 [00:00<00:00, 1521.88it/s]\n",
      "Inference: 100%|██████████| 1/1 [00:00<00:00,  4.29it/s]\n",
      "Tokenization: 100%|██████████| 1/1 [00:00<00:00, 2551.28it/s]\n",
      "Inference:   0%|          | 0/1 [00:00<?, ?it/s]"
     ]
    },
    {
     "output_type": "stream",
     "name": "stdout",
     "text": [
      "Running pipeline ... done\n",
      "\n",
      "行動支付團體合照付款方法\n",
      "done\n",
      "------------\n",
      "\n"
     ]
    },
    {
     "output_type": "stream",
     "name": "stderr",
     "text": [
      "Inference: 100%|██████████| 1/1 [00:00<00:00,  1.77it/s]\n",
      "Tokenization: 100%|██████████| 1/1 [00:00<00:00, 2803.68it/s]\n",
      "Inference: 100%|██████████| 1/1 [00:00<00:00,  1.28it/s]\n",
      "Tokenization: 100%|██████████| 1/1 [00:00<00:00, 2792.48it/s]\n",
      "Inference: 100%|██████████| 1/1 [00:00<00:00,  1.72it/s]\n",
      "Tokenization: 100%|██████████| 1/1 [00:00<00:00, 3650.40it/s]\n",
      "Inference:   0%|          | 0/1 [00:00<?, ?it/s]"
     ]
    },
    {
     "output_type": "stream",
     "name": "stdout",
     "text": [
      "Running pipeline ... done\n",
      "\n",
      "身份管理與授權系統及其方法SYSTEM OF IDENTITY MANAGEMENT AND AUTHORIZATION AND METHOD THEREOF\n",
      "done\n",
      "------------\n",
      "\n"
     ]
    },
    {
     "output_type": "stream",
     "name": "stderr",
     "text": [
      "Inference: 100%|██████████| 1/1 [00:00<00:00,  3.59it/s]\n",
      "Tokenization: 100%|██████████| 1/1 [00:00<00:00, 3401.71it/s]\n",
      "Inference: 100%|██████████| 1/1 [00:00<00:00,  3.13it/s]\n",
      "Tokenization: 100%|██████████| 1/1 [00:00<00:00, 3134.76it/s]\n",
      "Inference: 100%|██████████| 1/1 [00:00<00:00,  3.87it/s]\n",
      "Tokenization: 100%|██████████| 1/1 [00:00<00:00, 2213.35it/s]\n",
      "Inference:   0%|          | 0/1 [00:00<?, ?it/s]"
     ]
    },
    {
     "output_type": "stream",
     "name": "stdout",
     "text": [
      "Running pipeline ... done\n",
      "\n",
      "個人化繳費通知系統及其方法PERSONALIZED PAYMENT NOTIFICATION SYSTEM AND METHOD THEREOF\n",
      "done\n",
      "------------\n",
      "\n"
     ]
    },
    {
     "output_type": "stream",
     "name": "stderr",
     "text": [
      "Inference: 100%|██████████| 1/1 [00:00<00:00,  1.78it/s]\n",
      "Tokenization: 100%|██████████| 1/1 [00:00<00:00, 2666.44it/s]\n",
      "Inference: 100%|██████████| 1/1 [00:01<00:00,  1.03s/it]\n",
      "Tokenization: 100%|██████████| 1/1 [00:00<00:00, 1607.63it/s]\n",
      "Inference: 100%|██████████| 1/1 [00:00<00:00,  1.41it/s]\n",
      "Tokenization: 100%|██████████| 1/1 [00:00<00:00, 1834.78it/s]\n",
      "Inference:   0%|          | 0/1 [00:00<?, ?it/s]"
     ]
    },
    {
     "output_type": "stream",
     "name": "stdout",
     "text": [
      "Running pipeline ... done\n",
      "\n",
      "一種具有通訊軟體通知帳務資訊的系統System with communication software for notifying accounting information\n",
      "done\n",
      "------------\n",
      "\n"
     ]
    },
    {
     "output_type": "stream",
     "name": "stderr",
     "text": [
      "Inference: 100%|██████████| 1/1 [00:00<00:00,  1.67it/s]\n",
      "Tokenization: 100%|██████████| 1/1 [00:00<00:00, 3172.70it/s]\n",
      "Inference: 100%|██████████| 1/1 [00:00<00:00,  1.05it/s]\n",
      "Tokenization: 100%|██████████| 1/1 [00:00<00:00, 1489.98it/s]\n",
      "Inference: 100%|██████████| 1/1 [00:00<00:00,  1.52it/s]\n",
      "Tokenization: 100%|██████████| 1/1 [00:00<00:00, 1996.34it/s]\n",
      "Inference:   0%|          | 0/1 [00:00<?, ?it/s]"
     ]
    },
    {
     "output_type": "stream",
     "name": "stdout",
     "text": [
      "Running pipeline ... done\n",
      "\n",
      "出勤管控系統Attendance management system\n",
      "done\n",
      "------------\n",
      "\n"
     ]
    },
    {
     "output_type": "stream",
     "name": "stderr",
     "text": [
      "Inference: 100%|██████████| 1/1 [00:00<00:00,  1.23it/s]\n",
      "Tokenization: 100%|██████████| 1/1 [00:00<00:00, 2770.35it/s]\n",
      "Inference: 100%|██████████| 1/1 [00:01<00:00,  1.37s/it]\n",
      "Tokenization: 100%|██████████| 1/1 [00:00<00:00, 959.58it/s]\n",
      "Inference: 100%|██████████| 1/1 [00:00<00:00,  1.29it/s]\n",
      "Tokenization: 100%|██████████| 1/1 [00:00<00:00, 2096.10it/s]\n",
      "Inference:   0%|          | 0/1 [00:00<?, ?it/s]"
     ]
    },
    {
     "output_type": "stream",
     "name": "stdout",
     "text": [
      "Running pipeline ... done\n",
      "\n",
      "銀行聯合貸款區塊鏈系統BLOCKCHAIN SYSTEM FOR BANK JOINT LOANS\n",
      "done\n",
      "------------\n",
      "\n"
     ]
    },
    {
     "output_type": "stream",
     "name": "stderr",
     "text": [
      "Inference: 100%|██████████| 1/1 [00:00<00:00,  1.78it/s]\n",
      "Tokenization: 100%|██████████| 1/1 [00:00<00:00, 1510.92it/s]\n",
      "Inference: 100%|██████████| 1/1 [00:01<00:00,  1.20s/it]\n",
      "Tokenization: 100%|██████████| 1/1 [00:00<00:00, 2451.38it/s]\n",
      "Inference: 100%|██████████| 1/1 [00:00<00:00,  1.76it/s]\n",
      "Tokenization: 100%|██████████| 1/1 [00:00<00:00, 4048.56it/s]\n",
      "Inference:   0%|          | 0/1 [00:00<?, ?it/s]"
     ]
    },
    {
     "output_type": "stream",
     "name": "stdout",
     "text": [
      "Running pipeline ... done\n",
      "\n",
      "動態身分驗證系統Dynamic identity verification system\n",
      "done\n",
      "------------\n",
      "\n"
     ]
    },
    {
     "output_type": "stream",
     "name": "stderr",
     "text": [
      "Inference: 100%|██████████| 1/1 [00:00<00:00,  2.54it/s]\n",
      "Tokenization: 100%|██████████| 1/1 [00:00<00:00, 2425.86it/s]\n",
      "Inference: 100%|██████████| 1/1 [00:00<00:00,  1.94it/s]\n",
      "Tokenization: 100%|██████████| 1/1 [00:00<00:00, 3581.81it/s]\n",
      "Inference: 100%|██████████| 1/1 [00:00<00:00,  2.72it/s]\n",
      "Tokenization: 100%|██████████| 1/1 [00:00<00:00, 1567.38it/s]\n",
      "Inference:   0%|          | 0/1 [00:00<?, ?it/s]"
     ]
    },
    {
     "output_type": "stream",
     "name": "stdout",
     "text": [
      "Running pipeline ... done\n",
      "\n",
      "自動化流程績效評估系統AUTOMATED PROCESS PERFORMANCE EVALUATION SYSTEM\n",
      "done\n",
      "------------\n",
      "\n"
     ]
    },
    {
     "output_type": "stream",
     "name": "stderr",
     "text": [
      "Inference: 100%|██████████| 1/1 [00:00<00:00,  1.96it/s]\n",
      "Tokenization: 100%|██████████| 1/1 [00:00<00:00, 2364.32it/s]\n",
      "Inference: 100%|██████████| 1/1 [00:01<00:00,  1.17s/it]\n",
      "Tokenization: 100%|██████████| 1/1 [00:00<00:00, 1240.55it/s]\n",
      "Inference: 100%|██████████| 1/1 [00:00<00:00,  2.00it/s]\n",
      "Tokenization: 100%|██████████| 1/1 [00:00<00:00, 3021.83it/s]\n",
      "Inference:   0%|          | 0/1 [00:00<?, ?it/s]"
     ]
    },
    {
     "output_type": "stream",
     "name": "stdout",
     "text": [
      "Running pipeline ... done\n",
      "\n",
      "網路閘道器之監控及自動化錯誤處理裝置Monitoring and automatic error processing device of network gateway\n",
      "done\n",
      "------------\n",
      "\n"
     ]
    },
    {
     "output_type": "stream",
     "name": "stderr",
     "text": [
      "Inference: 100%|██████████| 1/1 [00:00<00:00,  1.90it/s]\n",
      "Tokenization: 100%|██████████| 1/1 [00:00<00:00, 2922.86it/s]\n",
      "Inference: 100%|██████████| 1/1 [00:01<00:00,  1.14s/it]\n",
      "Tokenization: 100%|██████████| 1/1 [00:00<00:00, 1652.60it/s]\n",
      "Inference: 100%|██████████| 1/1 [00:00<00:00,  1.90it/s]\n",
      "Tokenization: 100%|██████████| 1/1 [00:00<00:00, 2221.56it/s]\n",
      "Inference:   0%|          | 0/1 [00:00<?, ?it/s]"
     ]
    },
    {
     "output_type": "stream",
     "name": "stdout",
     "text": [
      "Running pipeline ... done\n",
      "\n",
      "多個虛擬主機之整合系統Integrated system of multiple virtual hosts\n",
      "done\n",
      "------------\n",
      "\n"
     ]
    },
    {
     "output_type": "stream",
     "name": "stderr",
     "text": [
      "Inference: 100%|██████████| 1/1 [00:00<00:00,  1.79it/s]\n",
      "Tokenization: 100%|██████████| 1/1 [00:00<00:00, 2538.92it/s]\n",
      "Inference: 100%|██████████| 1/1 [00:00<00:00,  1.26it/s]\n",
      "Tokenization: 100%|██████████| 1/1 [00:00<00:00, 1595.40it/s]\n",
      "Inference: 100%|██████████| 1/1 [00:00<00:00,  1.65it/s]\n",
      "Tokenization: 100%|██████████| 1/1 [00:00<00:00, 2198.27it/s]\n",
      "Inference:   0%|          | 0/1 [00:00<?, ?it/s]"
     ]
    },
    {
     "output_type": "stream",
     "name": "stdout",
     "text": [
      "Running pipeline ... done\n",
      "\n",
      "行動銀行服務申請及交易系統MOBILE BANK SERVICE APPLICATION AND TRANSACTION SYSTEM\n",
      "done\n",
      "------------\n",
      "\n"
     ]
    },
    {
     "output_type": "stream",
     "name": "stderr",
     "text": [
      "Inference: 100%|██████████| 1/1 [00:00<00:00,  1.75it/s]\n",
      "Tokenization: 100%|██████████| 1/1 [00:00<00:00, 1636.48it/s]\n",
      "Inference: 100%|██████████| 1/1 [00:00<00:00,  1.18it/s]\n",
      "Tokenization: 100%|██████████| 1/1 [00:00<00:00, 1340.89it/s]\n",
      "Inference: 100%|██████████| 1/1 [00:00<00:00,  1.75it/s]\n",
      "Tokenization: 100%|██████████| 1/1 [00:00<00:00, 1605.78it/s]\n",
      "Inference:   0%|          | 0/1 [00:00<?, ?it/s]"
     ]
    },
    {
     "output_type": "stream",
     "name": "stdout",
     "text": [
      "Running pipeline ... done\n",
      "\n",
      "個人資料授權系統Personal data authorization system\n",
      "done\n",
      "------------\n",
      "\n"
     ]
    },
    {
     "output_type": "stream",
     "name": "stderr",
     "text": [
      "Inference: 100%|██████████| 1/1 [00:00<00:00,  1.17it/s]\n",
      "Tokenization: 100%|██████████| 1/1 [00:00<00:00, 1592.37it/s]\n",
      "Inference: 100%|██████████| 1/1 [00:01<00:00,  1.30s/it]\n",
      "Tokenization: 100%|██████████| 1/1 [00:00<00:00, 2410.52it/s]\n",
      "Inference: 100%|██████████| 1/1 [00:00<00:00,  1.40it/s]\n",
      "Tokenization: 100%|██████████| 1/1 [00:00<00:00, 3398.95it/s]\n",
      "Inference:   0%|          | 0/1 [00:00<?, ?it/s]"
     ]
    },
    {
     "output_type": "stream",
     "name": "stdout",
     "text": [
      "Running pipeline ... done\n",
      "\n",
      "郵件發送及分析系統MAIL SENDING AND ANALYSIS SYSTEM\n",
      "done\n",
      "------------\n",
      "\n"
     ]
    },
    {
     "output_type": "stream",
     "name": "stderr",
     "text": [
      "Inference: 100%|██████████| 1/1 [00:00<00:00,  2.02it/s]\n",
      "Tokenization: 100%|██████████| 1/1 [00:00<00:00, 3204.20it/s]\n",
      "Inference: 100%|██████████| 1/1 [00:00<00:00,  1.18it/s]\n",
      "Tokenization: 100%|██████████| 1/1 [00:00<00:00, 3355.44it/s]\n",
      "Inference: 100%|██████████| 1/1 [00:00<00:00,  1.86it/s]\n",
      "Tokenization: 100%|██████████| 1/1 [00:00<00:00, 989.22it/s]\n",
      "Inference:   0%|          | 0/1 [00:00<?, ?it/s]"
     ]
    },
    {
     "output_type": "stream",
     "name": "stdout",
     "text": [
      "Running pipeline ... done\n",
      "\n",
      "適於辨識偽冒應用程式的應用程式比對系統Application matching system suitable for identifying counterfeit application\n",
      "done\n",
      "------------\n",
      "\n"
     ]
    },
    {
     "output_type": "stream",
     "name": "stderr",
     "text": [
      "Inference: 100%|██████████| 1/1 [00:00<00:00,  1.74it/s]\n",
      "Tokenization: 100%|██████████| 1/1 [00:00<00:00, 1940.91it/s]\n",
      "Inference: 100%|██████████| 1/1 [00:01<00:00,  1.14s/it]\n",
      "Tokenization: 100%|██████████| 1/1 [00:00<00:00, 1084.64it/s]\n",
      "Inference: 100%|██████████| 1/1 [00:00<00:00,  1.52it/s]\n",
      "Tokenization: 100%|██████████| 1/1 [00:00<00:00, 2709.50it/s]\n",
      "Inference:   0%|          | 0/1 [00:00<?, ?it/s]"
     ]
    },
    {
     "output_type": "stream",
     "name": "stdout",
     "text": [
      "Running pipeline ... done\n",
      "\n",
      "貸款違約損失率計算系統Loan loss rate calculation system\n",
      "done\n",
      "------------\n",
      "\n"
     ]
    },
    {
     "output_type": "stream",
     "name": "stderr",
     "text": [
      "Inference: 100%|██████████| 1/1 [00:00<00:00,  1.55it/s]\n",
      "Tokenization: 100%|██████████| 1/1 [00:00<00:00, 1457.87it/s]\n",
      "Inference: 100%|██████████| 1/1 [00:00<00:00,  1.19it/s]\n",
      "Tokenization: 100%|██████████| 1/1 [00:00<00:00, 1953.56it/s]\n",
      "Inference: 100%|██████████| 1/1 [00:00<00:00,  1.54it/s]\n",
      "Tokenization: 100%|██████████| 1/1 [00:00<00:00, 714.17it/s]\n",
      "Inference:   0%|          | 0/1 [00:00<?, ?it/s]"
     ]
    },
    {
     "output_type": "stream",
     "name": "stdout",
     "text": [
      "Running pipeline ... done\n",
      "\n",
      "貴金屬企金客戶交易及現貨提領系統TRADING AND SPOT WITHDRAWAL SYSTEM OF PRECIOUS METALS FOR CORPORATE FINANCIAL CUSTOMER\n",
      "done\n",
      "------------\n",
      "\n"
     ]
    },
    {
     "output_type": "stream",
     "name": "stderr",
     "text": [
      "Inference: 100%|██████████| 1/1 [00:00<00:00,  1.62it/s]\n",
      "Tokenization: 100%|██████████| 1/1 [00:00<00:00, 1620.67it/s]\n",
      "Inference: 100%|██████████| 1/1 [00:01<00:00,  1.14s/it]\n",
      "Tokenization: 100%|██████████| 1/1 [00:00<00:00, 1449.81it/s]\n",
      "Inference: 100%|██████████| 1/1 [00:00<00:00,  1.65it/s]\n",
      "Tokenization: 100%|██████████| 1/1 [00:00<00:00, 2221.56it/s]\n",
      "Inference:   0%|          | 0/1 [00:00<?, ?it/s]"
     ]
    },
    {
     "output_type": "stream",
     "name": "stdout",
     "text": [
      "Running pipeline ... done\n",
      "\n",
      "自動辨識帳單之繳費裝置Bill payment device capable of automatically identifying bill\n",
      "done\n",
      "------------\n",
      "\n"
     ]
    },
    {
     "output_type": "stream",
     "name": "stderr",
     "text": [
      "Inference: 100%|██████████| 1/1 [00:00<00:00,  1.65it/s]\n",
      "Tokenization: 100%|██████████| 1/1 [00:00<00:00, 2584.29it/s]\n",
      "Inference: 100%|██████████| 1/1 [00:00<00:00,  1.13it/s]\n",
      "Tokenization: 100%|██████████| 1/1 [00:00<00:00, 2235.77it/s]\n",
      "Inference: 100%|██████████| 1/1 [00:00<00:00,  1.62it/s]\n",
      "Tokenization: 100%|██████████| 1/1 [00:00<00:00, 1382.89it/s]\n",
      "Inference:   0%|          | 0/1 [00:00<?, ?it/s]"
     ]
    },
    {
     "output_type": "stream",
     "name": "stdout",
     "text": [
      "Running pipeline ... done\n",
      "\n",
      "平滑切換系統之測試裝置Testing apparatus for smooth switching system\n",
      "done\n",
      "------------\n",
      "\n"
     ]
    },
    {
     "output_type": "stream",
     "name": "stderr",
     "text": [
      "Inference: 100%|██████████| 1/1 [00:00<00:00,  1.73it/s]\n",
      "Tokenization: 100%|██████████| 1/1 [00:00<00:00, 1894.45it/s]\n",
      "Inference: 100%|██████████| 1/1 [00:00<00:00,  1.21it/s]\n",
      "Tokenization: 100%|██████████| 1/1 [00:00<00:00, 2462.89it/s]\n",
      "Inference: 100%|██████████| 1/1 [00:00<00:00,  1.63it/s]\n",
      "Tokenization: 100%|██████████| 1/1 [00:00<00:00, 1678.39it/s]\n",
      "Inference:   0%|          | 0/1 [00:00<?, ?it/s]"
     ]
    },
    {
     "output_type": "stream",
     "name": "stdout",
     "text": [
      "Running pipeline ... done\n",
      "\n",
      "行動查勤裝置Mobile checking-up device\n",
      "done\n",
      "------------\n",
      "\n"
     ]
    },
    {
     "output_type": "stream",
     "name": "stderr",
     "text": [
      "Inference: 100%|██████████| 1/1 [00:00<00:00,  1.62it/s]\n",
      "Tokenization: 100%|██████████| 1/1 [00:00<00:00, 2783.21it/s]\n",
      "Inference: 100%|██████████| 1/1 [00:00<00:00,  1.01it/s]\n",
      "Tokenization: 100%|██████████| 1/1 [00:00<00:00, 1030.04it/s]\n",
      "Inference: 100%|██████████| 1/1 [00:00<00:00,  1.62it/s]\n",
      "Tokenization: 100%|██████████| 1/1 [00:00<00:00, 280.37it/s]\n",
      "Inference:   0%|          | 0/1 [00:00<?, ?it/s]"
     ]
    },
    {
     "output_type": "stream",
     "name": "stdout",
     "text": [
      "Running pipeline ... done\n",
      "\n",
      "防止詐騙之語音辨識裝置Speech recognition device capable of preventing fraud\n",
      "done\n",
      "------------\n",
      "\n"
     ]
    },
    {
     "output_type": "stream",
     "name": "stderr",
     "text": [
      "Inference: 100%|██████████| 1/1 [00:03<00:00,  3.70s/it]\n",
      "Tokenization: 100%|██████████| 1/1 [00:00<00:00, 599.53it/s]\n",
      "Inference: 100%|██████████| 1/1 [00:20<00:00, 20.50s/it]\n",
      "Tokenization: 100%|██████████| 1/1 [00:00<00:00, 221.44it/s]\n",
      "Inference: 100%|██████████| 1/1 [00:03<00:00,  3.86s/it]\n",
      "Tokenization: 100%|██████████| 1/1 [00:00<00:00, 1925.76it/s]\n",
      "Inference:   0%|          | 0/1 [00:00<?, ?it/s]"
     ]
    },
    {
     "output_type": "stream",
     "name": "stdout",
     "text": [
      "Running pipeline ... done\n",
      "\n",
      "行動介面裝置MOBILE INTERFACE DEVICE\n",
      "done\n",
      "------------\n",
      "\n"
     ]
    },
    {
     "output_type": "stream",
     "name": "stderr",
     "text": [
      "Inference: 100%|██████████| 1/1 [00:00<00:00,  1.48it/s]\n",
      "Tokenization: 100%|██████████| 1/1 [00:00<00:00, 1259.17it/s]\n",
      "Inference: 100%|██████████| 1/1 [00:00<00:00,  1.10it/s]\n",
      "Tokenization: 100%|██████████| 1/1 [00:00<00:00, 2369.66it/s]\n",
      "Inference: 100%|██████████| 1/1 [00:00<00:00,  1.57it/s]\n",
      "Tokenization: 100%|██████████| 1/1 [00:00<00:00, 2283.24it/s]\n",
      "Inference:   0%|          | 0/1 [00:00<?, ?it/s]"
     ]
    },
    {
     "output_type": "stream",
     "name": "stdout",
     "text": [
      "Running pipeline ... done\n",
      "\n",
      "重覆交易之判斷裝置Determination device for repeated transaction\n",
      "done\n",
      "------------\n",
      "\n"
     ]
    },
    {
     "output_type": "stream",
     "name": "stderr",
     "text": [
      "Inference: 100%|██████████| 1/1 [00:00<00:00,  2.51it/s]\n",
      "Tokenization: 100%|██████████| 1/1 [00:00<00:00, 1763.79it/s]\n",
      "Inference: 100%|██████████| 1/1 [00:00<00:00,  1.76it/s]\n",
      "Tokenization: 100%|██████████| 1/1 [00:00<00:00, 2308.37it/s]\n",
      "Inference: 100%|██████████| 1/1 [00:00<00:00,  2.42it/s]\n",
      "Tokenization: 100%|██████████| 1/1 [00:00<00:00, 2364.32it/s]\n",
      "Inference:   0%|          | 0/1 [00:00<?, ?it/s]"
     ]
    },
    {
     "output_type": "stream",
     "name": "stdout",
     "text": [
      "Running pipeline ... done\n",
      "\n",
      "券幣管理裝置BANKNOTE MONEY MANAGEMENT DEVICE\n",
      "done\n",
      "------------\n",
      "\n"
     ]
    },
    {
     "output_type": "stream",
     "name": "stderr",
     "text": [
      "Inference: 100%|██████████| 1/1 [00:00<00:00,  3.27it/s]\n",
      "Tokenization: 100%|██████████| 1/1 [00:00<00:00, 3134.76it/s]\n",
      "Inference: 100%|██████████| 1/1 [00:00<00:00,  2.23it/s]\n",
      "Tokenization: 100%|██████████| 1/1 [00:00<00:00, 2362.99it/s]\n",
      "Inference: 100%|██████████| 1/1 [00:00<00:00,  3.43it/s]\n",
      "Tokenization: 100%|██████████| 1/1 [00:00<00:00, 774.57it/s]\n",
      "Inference:   0%|          | 0/1 [00:00<?, ?it/s]"
     ]
    },
    {
     "output_type": "stream",
     "name": "stdout",
     "text": [
      "Running pipeline ... done\n",
      "\n",
      "自動化線上客服系統及其運作方法AUTOMATED ONLINE CUSTOMER SERVICE SYSTEM AND METHOD THEREOF\n",
      "done\n",
      "------------\n",
      "\n"
     ]
    },
    {
     "output_type": "stream",
     "name": "stderr",
     "text": [
      "Inference: 100%|██████████| 1/1 [00:02<00:00,  2.50s/it]\n",
      "Tokenization: 100%|██████████| 1/1 [00:00<00:00, 1077.67it/s]\n",
      "Inference: 100%|██████████| 1/1 [00:04<00:00,  4.37s/it]\n",
      "Tokenization: 100%|██████████| 1/1 [00:00<00:00, 956.95it/s]\n",
      "Inference: 100%|██████████| 1/1 [00:02<00:00,  2.45s/it]\n",
      "Tokenization: 100%|██████████| 1/1 [00:00<00:00, 2753.98it/s]\n",
      "Inference:   0%|          | 0/1 [00:00<?, ?it/s]"
     ]
    },
    {
     "output_type": "stream",
     "name": "stdout",
     "text": [
      "Running pipeline ... done\n",
      "\n",
      "原油多元化交易系統CRUDE OIL DIVERSIFIED TRADING SYSTEM\n",
      "done\n",
      "------------\n",
      "\n"
     ]
    },
    {
     "output_type": "stream",
     "name": "stderr",
     "text": [
      "Inference: 100%|██████████| 1/1 [00:00<00:00,  1.72it/s]\n",
      "Tokenization: 100%|██████████| 1/1 [00:00<00:00, 3013.15it/s]\n",
      "Inference: 100%|██████████| 1/1 [00:00<00:00,  1.17it/s]\n",
      "Tokenization: 100%|██████████| 1/1 [00:00<00:00, 1792.44it/s]\n",
      "Inference: 100%|██████████| 1/1 [00:00<00:00,  1.68it/s]\n",
      "Tokenization: 100%|██████████| 1/1 [00:00<00:00, 2063.11it/s]\n",
      "Inference:   0%|          | 0/1 [00:00<?, ?it/s]"
     ]
    },
    {
     "output_type": "stream",
     "name": "stdout",
     "text": [
      "Running pipeline ... done\n",
      "\n",
      "整合產品供應鏈之媒合選購裝置Matching and purchasing device for integrating product supply chain\n",
      "done\n",
      "------------\n",
      "\n"
     ]
    },
    {
     "output_type": "stream",
     "name": "stderr",
     "text": [
      "Inference: 100%|██████████| 1/1 [00:00<00:00,  1.68it/s]\n",
      "Tokenization: 100%|██████████| 1/1 [00:00<00:00, 1672.37it/s]\n",
      "Inference: 100%|██████████| 1/1 [00:01<00:00,  1.02s/it]\n",
      "Tokenization: 100%|██████████| 1/1 [00:00<00:00, 2222.74it/s]\n",
      "Inference: 100%|██████████| 1/1 [00:00<00:00,  1.51it/s]\n",
      "Tokenization: 100%|██████████| 1/1 [00:00<00:00, 1492.63it/s]\n",
      "Inference:   0%|          | 0/1 [00:00<?, ?it/s]"
     ]
    },
    {
     "output_type": "stream",
     "name": "stdout",
     "text": [
      "Running pipeline ... done\n",
      "\n",
      "即時收送檔案管理裝置Real-time receiving and sending file management apparatus\n",
      "done\n",
      "------------\n",
      "\n"
     ]
    },
    {
     "output_type": "stream",
     "name": "stderr",
     "text": [
      "Inference: 100%|██████████| 1/1 [00:00<00:00,  1.91it/s]\n",
      "Tokenization: 100%|██████████| 1/1 [00:00<00:00, 2792.48it/s]\n",
      "Inference: 100%|██████████| 1/1 [00:00<00:00,  1.11it/s]\n",
      "Tokenization: 100%|██████████| 1/1 [00:00<00:00, 853.02it/s]\n",
      "Inference: 100%|██████████| 1/1 [00:00<00:00,  1.97it/s]\n",
      "Tokenization: 100%|██████████| 1/1 [00:00<00:00, 1334.92it/s]\n",
      "Inference:   0%|          | 0/1 [00:00<?, ?it/s]"
     ]
    },
    {
     "output_type": "stream",
     "name": "stdout",
     "text": [
      "Running pipeline ... done\n",
      "\n",
      "數位印鑑資訊擷取裝置Digital seal information acquisition device\n",
      "done\n",
      "------------\n",
      "\n"
     ]
    },
    {
     "output_type": "stream",
     "name": "stderr",
     "text": [
      "Inference: 100%|██████████| 1/1 [00:02<00:00,  2.44s/it]\n",
      "Tokenization: 100%|██████████| 1/1 [00:00<00:00, 1232.89it/s]\n",
      "Inference: 100%|██████████| 1/1 [00:03<00:00,  3.47s/it]\n",
      "Tokenization: 100%|██████████| 1/1 [00:00<00:00, 1264.11it/s]\n",
      "Inference: 100%|██████████| 1/1 [00:02<00:00,  2.43s/it]\n",
      "Tokenization: 100%|██████████| 1/1 [00:00<00:00, 2816.86it/s]\n",
      "Inference:   0%|          | 0/1 [00:00<?, ?it/s]"
     ]
    },
    {
     "output_type": "stream",
     "name": "stdout",
     "text": [
      "Running pipeline ... done\n",
      "\n",
      "貴金屬預提延後決價交易系統PRECIOUS METAL PRE-DEFERRED PRICE DETERMINATAION TRANSACTION SYSTEM\n",
      "done\n",
      "------------\n",
      "\n"
     ]
    },
    {
     "output_type": "stream",
     "name": "stderr",
     "text": [
      "Inference: 100%|██████████| 1/1 [00:00<00:00,  1.73it/s]\n",
      "Tokenization: 100%|██████████| 1/1 [00:00<00:00, 1420.35it/s]\n",
      "Inference: 100%|██████████| 1/1 [00:00<00:00,  1.17it/s]\n",
      "Tokenization: 100%|██████████| 1/1 [00:00<00:00, 2309.64it/s]\n",
      "Inference: 100%|██████████| 1/1 [00:00<00:00,  1.75it/s]\n",
      "Tokenization: 100%|██████████| 1/1 [00:00<00:00, 1683.78it/s]\n",
      "Inference:   0%|          | 0/1 [00:00<?, ?it/s]"
     ]
    },
    {
     "output_type": "stream",
     "name": "stdout",
     "text": [
      "Running pipeline ... done\n",
      "\n",
      "外幣現鈔線上結匯自助取貨系統Self-service pickup system for online settlement of foreign currency cashing\n",
      "done\n",
      "------------\n",
      "\n"
     ]
    },
    {
     "output_type": "stream",
     "name": "stderr",
     "text": [
      "Inference: 100%|██████████| 1/1 [00:00<00:00,  1.82it/s]\n",
      "Tokenization: 100%|██████████| 1/1 [00:00<00:00, 1661.11it/s]\n",
      "Inference: 100%|██████████| 1/1 [00:00<00:00,  1.36it/s]\n",
      "Tokenization: 100%|██████████| 1/1 [00:00<00:00, 1905.64it/s]\n",
      "Inference: 100%|██████████| 1/1 [00:00<00:00,  1.82it/s]\n",
      "Tokenization: 100%|██████████| 1/1 [00:00<00:00, 2123.70it/s]\n",
      "Inference:   0%|          | 0/1 [00:00<?, ?it/s]"
     ]
    },
    {
     "output_type": "stream",
     "name": "stdout",
     "text": [
      "Running pipeline ... done\n",
      "\n",
      "貴金屬自動報價及拋補交易系統AUTOMATIC QUOTATION AND COVERED TRADING SYSTEM OF PRECIOUS METALS\n",
      "done\n",
      "------------\n",
      "\n"
     ]
    },
    {
     "output_type": "stream",
     "name": "stderr",
     "text": [
      "Inference: 100%|██████████| 1/1 [00:00<00:00,  1.71it/s]\n",
      "Tokenization: 100%|██████████| 1/1 [00:00<00:00, 1349.08it/s]\n",
      "Inference: 100%|██████████| 1/1 [00:00<00:00,  1.11it/s]\n",
      "Tokenization: 100%|██████████| 1/1 [00:00<00:00, 1071.62it/s]\n",
      "Inference: 100%|██████████| 1/1 [00:00<00:00,  1.72it/s]\n",
      "Tokenization: 100%|██████████| 1/1 [00:00<00:00, 2654.62it/s]\n",
      "Inference:   0%|          | 0/1 [00:00<?, ?it/s]"
     ]
    },
    {
     "output_type": "stream",
     "name": "stdout",
     "text": [
      "Running pipeline ... done\n",
      "\n",
      "批次資料處理及監控裝置Batch data processing and monitoring device\n",
      "done\n",
      "------------\n",
      "\n"
     ]
    },
    {
     "output_type": "stream",
     "name": "stderr",
     "text": [
      "Inference: 100%|██████████| 1/1 [00:00<00:00,  2.91it/s]\n",
      "Tokenization: 100%|██████████| 1/1 [00:00<00:00, 2666.44it/s]\n",
      "Inference: 100%|██████████| 1/1 [00:00<00:00,  1.76it/s]\n",
      "Tokenization: 100%|██████████| 1/1 [00:00<00:00, 3509.88it/s]\n",
      "Inference: 100%|██████████| 1/1 [00:00<00:00,  2.81it/s]\n",
      "Tokenization: 100%|██████████| 1/1 [00:00<00:00, 2746.76it/s]\n",
      "Inference:   0%|          | 0/1 [00:00<?, ?it/s]"
     ]
    },
    {
     "output_type": "stream",
     "name": "stdout",
     "text": [
      "Running pipeline ... done\n",
      "\n",
      "一種核心帳務主機的終端作業輔助裝置Terminal operation auxiliary device of core accounting host\n",
      "done\n",
      "------------\n",
      "\n"
     ]
    },
    {
     "output_type": "stream",
     "name": "stderr",
     "text": [
      "Inference: 100%|██████████| 1/1 [00:00<00:00,  2.64it/s]\n",
      "Tokenization: 100%|██████████| 1/1 [00:00<00:00, 2136.68it/s]\n",
      "Inference: 100%|██████████| 1/1 [00:00<00:00,  1.27it/s]\n",
      "Tokenization: 100%|██████████| 1/1 [00:00<00:00, 2501.08it/s]\n",
      "Inference: 100%|██████████| 1/1 [00:00<00:00,  2.59it/s]\n",
      "Tokenization: 100%|██████████| 1/1 [00:00<00:00, 1742.54it/s]\n",
      "Inference:   0%|          | 0/1 [00:00<?, ?it/s]"
     ]
    },
    {
     "output_type": "stream",
     "name": "stdout",
     "text": [
      "Running pipeline ... done\n",
      "\n",
      "金融優惠裝置FITNESS ACCOUNT\n",
      "done\n",
      "------------\n",
      "\n"
     ]
    },
    {
     "output_type": "stream",
     "name": "stderr",
     "text": [
      "Inference: 100%|██████████| 1/1 [00:00<00:00,  1.86it/s]\n",
      "Tokenization: 100%|██████████| 1/1 [00:00<00:00, 2227.46it/s]\n",
      "Inference: 100%|██████████| 1/1 [00:01<00:00,  1.01s/it]\n",
      "Tokenization: 100%|██████████| 1/1 [00:00<00:00, 996.27it/s]\n",
      "Inference: 100%|██████████| 1/1 [00:00<00:00,  1.53it/s]\n",
      "Tokenization: 100%|██████████| 1/1 [00:00<00:00, 670.23it/s]\n",
      "Inference:   0%|          | 0/1 [00:00<?, ?it/s]"
     ]
    },
    {
     "output_type": "stream",
     "name": "stdout",
     "text": [
      "Running pipeline ... done\n",
      "\n",
      "信用風險貸後主動評等系統Credit risk proactive rating system after loan\n",
      "done\n",
      "------------\n",
      "\n"
     ]
    },
    {
     "output_type": "stream",
     "name": "stderr",
     "text": [
      "Inference: 100%|██████████| 1/1 [00:03<00:00,  3.73s/it]\n",
      "Tokenization: 100%|██████████| 1/1 [00:00<00:00, 831.38it/s]\n",
      "Inference: 100%|██████████| 1/1 [00:23<00:00, 23.45s/it]\n",
      "Tokenization: 100%|██████████| 1/1 [00:00<00:00, 215.19it/s]\n",
      "Inference: 100%|██████████| 1/1 [00:03<00:00,  3.73s/it]\n",
      "Tokenization: 100%|██████████| 1/1 [00:00<00:00, 1559.80it/s]\n",
      "Inference:   0%|          | 0/1 [00:00<?, ?it/s]"
     ]
    },
    {
     "output_type": "stream",
     "name": "stdout",
     "text": [
      "Running pipeline ... done\n",
      "\n",
      "資訊處理系統INFORMATION PROCESSING SYSTEM\n",
      "done\n",
      "------------\n",
      "\n"
     ]
    },
    {
     "output_type": "stream",
     "name": "stderr",
     "text": [
      "Inference: 100%|██████████| 1/1 [00:00<00:00,  2.47it/s]\n",
      "Tokenization: 100%|██████████| 1/1 [00:00<00:00, 1222.47it/s]\n",
      "Inference: 100%|██████████| 1/1 [00:00<00:00,  2.55it/s]\n",
      "Tokenization: 100%|██████████| 1/1 [00:00<00:00, 3609.56it/s]\n",
      "Inference: 100%|██████████| 1/1 [00:00<00:00,  2.82it/s]\n",
      "Tokenization: 100%|██████████| 1/1 [00:00<00:00, 1709.17it/s]\n",
      "Inference:   0%|          | 0/1 [00:00<?, ?it/s]"
     ]
    },
    {
     "output_type": "stream",
     "name": "stdout",
     "text": [
      "Running pipeline ... done\n",
      "\n",
      "信用貸款自動審核與推薦裝置Credit loan auto-review and recommendation device\n",
      "done\n",
      "------------\n",
      "\n"
     ]
    },
    {
     "output_type": "stream",
     "name": "stderr",
     "text": [
      "Inference: 100%|██████████| 1/1 [00:00<00:00,  1.43it/s]\n",
      "Tokenization: 100%|██████████| 1/1 [00:00<00:00, 1430.53it/s]\n",
      "Inference: 100%|██████████| 1/1 [00:01<00:00,  1.54s/it]\n",
      "Tokenization: 100%|██████████| 1/1 [00:00<00:00, 1709.17it/s]\n",
      "Inference: 100%|██████████| 1/1 [00:00<00:00,  1.42it/s]\n",
      "Tokenization: 100%|██████████| 1/1 [00:00<00:00, 2666.44it/s]\n",
      "Inference:   0%|          | 0/1 [00:00<?, ?it/s]"
     ]
    },
    {
     "output_type": "stream",
     "name": "stdout",
     "text": [
      "Running pipeline ... done\n",
      "\n",
      "物流配送確認運送系統Logistics distribution confirmation delivery system\n",
      "done\n",
      "------------\n",
      "\n"
     ]
    },
    {
     "output_type": "stream",
     "name": "stderr",
     "text": [
      "Inference: 100%|██████████| 1/1 [00:00<00:00,  1.76it/s]\n",
      "Tokenization: 100%|██████████| 1/1 [00:00<00:00, 2557.50it/s]\n",
      "Inference: 100%|██████████| 1/1 [00:00<00:00,  1.06it/s]\n",
      "Tokenization: 100%|██████████| 1/1 [00:00<00:00, 1121.17it/s]\n",
      "Inference: 100%|██████████| 1/1 [00:00<00:00,  1.46it/s]\n",
      "Tokenization: 100%|██████████| 1/1 [00:00<00:00, 2688.66it/s]\n",
      "Inference:   0%|          | 0/1 [00:00<?, ?it/s]"
     ]
    },
    {
     "output_type": "stream",
     "name": "stdout",
     "text": [
      "Running pipeline ... done\n",
      "\n",
      "更生帳務管理系統Reorganization accounting management system\n",
      "done\n",
      "------------\n",
      "\n"
     ]
    },
    {
     "output_type": "stream",
     "name": "stderr",
     "text": [
      "Inference: 100%|██████████| 1/1 [00:00<00:00,  2.21it/s]\n",
      "Tokenization: 100%|██████████| 1/1 [00:00<00:00, 1364.45it/s]\n",
      "Inference: 100%|██████████| 1/1 [00:00<00:00,  1.31it/s]\n",
      "Tokenization: 100%|██████████| 1/1 [00:00<00:00, 3095.43it/s]\n",
      "Inference: 100%|██████████| 1/1 [00:00<00:00,  2.20it/s]\n",
      "Tokenization: 100%|██████████| 1/1 [00:00<00:00, 1829.18it/s]\n",
      "Inference:   0%|          | 0/1 [00:00<?, ?it/s]"
     ]
    },
    {
     "output_type": "stream",
     "name": "stdout",
     "text": [
      "Running pipeline ... done\n",
      "\n",
      "政府及公司股東會選舉投票裝置Voting device for election of government and company shareholders meeting\n",
      "done\n",
      "------------\n",
      "\n"
     ]
    },
    {
     "output_type": "stream",
     "name": "stderr",
     "text": [
      "Inference: 100%|██████████| 1/1 [00:00<00:00,  2.01it/s]\n",
      "Tokenization: 100%|██████████| 1/1 [00:00<00:00, 1555.75it/s]\n",
      "Inference: 100%|██████████| 1/1 [00:00<00:00,  1.18it/s]\n",
      "Tokenization: 100%|██████████| 1/1 [00:00<00:00, 2457.12it/s]\n",
      "Inference: 100%|██████████| 1/1 [00:00<00:00,  1.77it/s]\n",
      "Tokenization: 100%|██████████| 1/1 [00:00<00:00, 1246.82it/s]\n",
      "Inference:   0%|          | 0/1 [00:00<?, ?it/s]"
     ]
    },
    {
     "output_type": "stream",
     "name": "stdout",
     "text": [
      "Running pipeline ... done\n",
      "\n",
      "資訊服務可用性管理方法及系統\n",
      "done\n",
      "------------\n",
      "\n"
     ]
    },
    {
     "output_type": "stream",
     "name": "stderr",
     "text": [
      "Inference: 100%|██████████| 1/1 [00:00<00:00,  1.51it/s]\n",
      "Tokenization: 100%|██████████| 1/1 [00:00<00:00, 2187.95it/s]\n",
      "Inference: 100%|██████████| 1/1 [00:01<00:00,  1.01s/it]\n",
      "Tokenization: 100%|██████████| 1/1 [00:00<00:00, 1503.33it/s]\n",
      "Inference: 100%|██████████| 1/1 [00:00<00:00,  1.58it/s]\n",
      "Tokenization: 100%|██████████| 1/1 [00:00<00:00, 2403.61it/s]\n",
      "Inference:   0%|          | 0/1 [00:00<?, ?it/s]"
     ]
    },
    {
     "output_type": "stream",
     "name": "stdout",
     "text": [
      "Running pipeline ... done\n",
      "\n",
      "外幣現鈔地圖系統Foreign currency cash map system\n",
      "done\n",
      "------------\n",
      "\n"
     ]
    },
    {
     "output_type": "stream",
     "name": "stderr",
     "text": [
      "Inference: 100%|██████████| 1/1 [00:00<00:00,  2.39it/s]\n",
      "Tokenization: 100%|██████████| 1/1 [00:00<00:00, 2898.62it/s]\n",
      "Inference: 100%|██████████| 1/1 [00:00<00:00,  1.30it/s]\n",
      "Tokenization: 100%|██████████| 1/1 [00:00<00:00, 3175.10it/s]\n",
      "Inference: 100%|██████████| 1/1 [00:00<00:00,  2.46it/s]\n",
      "Tokenization: 100%|██████████| 1/1 [00:00<00:00, 2045.00it/s]\n",
      "Inference:   0%|          | 0/1 [00:00<?, ?it/s]"
     ]
    },
    {
     "output_type": "stream",
     "name": "stdout",
     "text": [
      "Running pipeline ... done\n",
      "\n",
      "應用全球定位系統於無卡提款業務之方法\n",
      "done\n",
      "------------\n",
      "\n"
     ]
    },
    {
     "output_type": "stream",
     "name": "stderr",
     "text": [
      "Inference: 100%|██████████| 1/1 [00:00<00:00,  1.79it/s]\n",
      "Tokenization: 100%|██████████| 1/1 [00:00<00:00, 2304.56it/s]\n",
      "Inference: 100%|██████████| 1/1 [00:00<00:00,  1.11it/s]\n",
      "Tokenization: 100%|██████████| 1/1 [00:00<00:00, 2732.45it/s]\n",
      "Inference: 100%|██████████| 1/1 [00:00<00:00,  1.73it/s]\n",
      "Tokenization: 100%|██████████| 1/1 [00:00<00:00, 2816.86it/s]\n",
      "Inference:   0%|          | 0/1 [00:00<?, ?it/s]"
     ]
    },
    {
     "output_type": "stream",
     "name": "stdout",
     "text": [
      "Running pipeline ... done\n",
      "\n",
      "貸款核准層級分類系統Loan approval level classification system\n",
      "done\n",
      "------------\n",
      "\n"
     ]
    },
    {
     "output_type": "stream",
     "name": "stderr",
     "text": [
      "Inference: 100%|██████████| 1/1 [00:00<00:00,  1.75it/s]\n",
      "Tokenization: 100%|██████████| 1/1 [00:00<00:00, 1814.15it/s]\n",
      "Inference: 100%|██████████| 1/1 [00:00<00:00,  1.11it/s]\n",
      "Tokenization: 100%|██████████| 1/1 [00:00<00:00, 1689.89it/s]\n",
      "Inference: 100%|██████████| 1/1 [00:00<00:00,  1.69it/s]\n",
      "Tokenization: 100%|██████████| 1/1 [00:00<00:00, 1675.04it/s]\n",
      "Inference:   0%|          | 0/1 [00:00<?, ?it/s]"
     ]
    },
    {
     "output_type": "stream",
     "name": "stdout",
     "text": [
      "Running pipeline ... done\n",
      "\n",
      "姓名編碼比對裝置NAME ENCODING AND COMPARISON DEVICE\n",
      "done\n",
      "------------\n",
      "\n"
     ]
    },
    {
     "output_type": "stream",
     "name": "stderr",
     "text": [
      "Inference: 100%|██████████| 1/1 [00:00<00:00,  1.72it/s]\n",
      "Tokenization: 100%|██████████| 1/1 [00:00<00:00, 2768.52it/s]\n",
      "Inference: 100%|██████████| 1/1 [00:00<00:00,  1.08it/s]\n",
      "Tokenization: 100%|██████████| 1/1 [00:00<00:00, 2880.70it/s]\n",
      "Inference: 100%|██████████| 1/1 [00:00<00:00,  1.69it/s]\n",
      "Tokenization: 100%|██████████| 1/1 [00:00<00:00, 2207.53it/s]\n",
      "Inference:   0%|          | 0/1 [00:00<?, ?it/s]"
     ]
    },
    {
     "output_type": "stream",
     "name": "stdout",
     "text": [
      "Running pipeline ... done\n",
      "\n",
      "前置協商帳務管理系統Pre-negotiation accounting management system\n",
      "done\n",
      "------------\n",
      "\n"
     ]
    },
    {
     "output_type": "stream",
     "name": "stderr",
     "text": [
      "Inference: 100%|██████████| 1/1 [00:00<00:00,  1.89it/s]\n",
      "Tokenization: 100%|██████████| 1/1 [00:00<00:00, 1926.64it/s]\n",
      "Inference: 100%|██████████| 1/1 [00:01<00:00,  1.05s/it]\n",
      "Tokenization: 100%|██████████| 1/1 [00:00<00:00, 1661.11it/s]\n",
      "Inference: 100%|██████████| 1/1 [00:00<00:00,  1.68it/s]\n",
      "Tokenization: 100%|██████████| 1/1 [00:00<00:00, 3412.78it/s]\n",
      "Inference:   0%|          | 0/1 [00:00<?, ?it/s]"
     ]
    },
    {
     "output_type": "stream",
     "name": "stdout",
     "text": [
      "Running pipeline ... done\n",
      "\n",
      "線上票據預處理服務系統ONLINE BILL PRE-PROCESSING SERVICE SYSTEM\n",
      "done\n",
      "------------\n",
      "\n"
     ]
    },
    {
     "output_type": "stream",
     "name": "stderr",
     "text": [
      "Inference: 100%|██████████| 1/1 [00:00<00:00,  1.96it/s]\n",
      "Tokenization: 100%|██████████| 1/1 [00:00<00:00, 2755.78it/s]\n",
      "Inference: 100%|██████████| 1/1 [00:00<00:00,  1.65it/s]\n",
      "Tokenization: 100%|██████████| 1/1 [00:00<00:00, 1508.20it/s]\n",
      "Inference: 100%|██████████| 1/1 [00:00<00:00,  2.14it/s]\n",
      "Tokenization: 100%|██████████| 1/1 [00:00<00:00, 2198.27it/s]\n",
      "Inference:   0%|          | 0/1 [00:00<?, ?it/s]"
     ]
    },
    {
     "output_type": "stream",
     "name": "stdout",
     "text": [
      "Running pipeline ... done\n",
      "\n",
      "貸款評估系統Loan evaluation system\n",
      "done\n",
      "------------\n",
      "\n"
     ]
    },
    {
     "output_type": "stream",
     "name": "stderr",
     "text": [
      "Inference: 100%|██████████| 1/1 [00:00<00:00,  2.15it/s]\n",
      "Tokenization: 100%|██████████| 1/1 [00:00<00:00, 2331.46it/s]\n",
      "Inference: 100%|██████████| 1/1 [00:00<00:00,  1.08it/s]\n",
      "Tokenization: 100%|██████████| 1/1 [00:00<00:00, 2898.62it/s]\n",
      "Inference: 100%|██████████| 1/1 [00:00<00:00,  1.98it/s]\n",
      "Tokenization: 100%|██████████| 1/1 [00:00<00:00, 1733.18it/s]\n",
      "Inference:   0%|          | 0/1 [00:00<?, ?it/s]"
     ]
    },
    {
     "output_type": "stream",
     "name": "stdout",
     "text": [
      "Running pipeline ... done\n",
      "\n",
      "授信預警機制管理系統Crediting early warning mechanism management system\n",
      "done\n",
      "------------\n",
      "\n"
     ]
    },
    {
     "output_type": "stream",
     "name": "stderr",
     "text": [
      "Inference: 100%|██████████| 1/1 [00:00<00:00,  1.75it/s]\n",
      "Tokenization: 100%|██████████| 1/1 [00:00<00:00, 2132.34it/s]\n",
      "Inference: 100%|██████████| 1/1 [00:01<00:00,  1.24s/it]\n",
      "Tokenization: 100%|██████████| 1/1 [00:00<00:00, 2183.40it/s]\n",
      "Inference: 100%|██████████| 1/1 [00:00<00:00,  1.62it/s]\n",
      "Tokenization: 100%|██████████| 1/1 [00:00<00:00, 563.37it/s]\n",
      "Inference:   0%|          | 0/1 [00:00<?, ?it/s]"
     ]
    },
    {
     "output_type": "stream",
     "name": "stdout",
     "text": [
      "Running pipeline ... done\n",
      "\n",
      "應用於車用系統之語音取號系統Voice number taking system applied to car system\n",
      "done\n",
      "------------\n",
      "\n"
     ]
    },
    {
     "output_type": "stream",
     "name": "stderr",
     "text": [
      "Inference: 100%|██████████| 1/1 [00:02<00:00,  2.50s/it]\n",
      "Tokenization: 100%|██████████| 1/1 [00:00<00:00, 1487.87it/s]\n",
      "Inference: 100%|██████████| 1/1 [00:23<00:00, 23.47s/it]\n",
      "Tokenization: 100%|██████████| 1/1 [00:00<00:00, 97.71it/s]\n",
      "Inference: 100%|██████████| 1/1 [00:02<00:00,  2.49s/it]\n",
      "Tokenization: 100%|██████████| 1/1 [00:00<00:00, 1726.76it/s]\n",
      "Inference:   0%|          | 0/1 [00:00<?, ?it/s]"
     ]
    },
    {
     "output_type": "stream",
     "name": "stdout",
     "text": [
      "Running pipeline ... done\n",
      "\n",
      "保險給付詐保風險評估裝置INSURANCE PAYMENT FRAUD RISK EVLUATION DEVICE\n",
      "done\n",
      "------------\n",
      "\n"
     ]
    },
    {
     "output_type": "stream",
     "name": "stderr",
     "text": [
      "Inference: 100%|██████████| 1/1 [00:00<00:00,  2.42it/s]\n",
      "Tokenization: 100%|██████████| 1/1 [00:00<00:00, 1584.55it/s]\n",
      "Inference: 100%|██████████| 1/1 [00:00<00:00,  1.44it/s]\n",
      "Tokenization: 100%|██████████| 1/1 [00:00<00:00, 1291.75it/s]\n",
      "Inference: 100%|██████████| 1/1 [00:00<00:00,  2.70it/s]\n",
      "Tokenization: 100%|██████████| 1/1 [00:00<00:00, 1550.00it/s]\n",
      "Inference:   0%|          | 0/1 [00:00<?, ?it/s]"
     ]
    },
    {
     "output_type": "stream",
     "name": "stdout",
     "text": [
      "Running pipeline ... done\n",
      "\n",
      "政風管理防弊裝置Anti-fraud device for ethic management\n",
      "done\n",
      "------------\n",
      "\n"
     ]
    },
    {
     "output_type": "stream",
     "name": "stderr",
     "text": [
      "Inference: 100%|██████████| 1/1 [00:00<00:00,  1.50it/s]\n",
      "Tokenization: 100%|██████████| 1/1 [00:00<00:00, 587.60it/s]\n",
      "Inference: 100%|██████████| 1/1 [00:01<00:00,  1.39s/it]\n",
      "Tokenization: 100%|██████████| 1/1 [00:00<00:00, 1776.49it/s]\n",
      "Inference: 100%|██████████| 1/1 [00:00<00:00,  1.47it/s]\n",
      "Tokenization: 100%|██████████| 1/1 [00:00<00:00, 720.92it/s]\n",
      "Inference:   0%|          | 0/1 [00:00<?, ?it/s]"
     ]
    },
    {
     "output_type": "stream",
     "name": "stdout",
     "text": [
      "Running pipeline ... done\n",
      "\n",
      "防搶警示裝置Anti-robbing warning device\n",
      "done\n",
      "------------\n",
      "\n"
     ]
    },
    {
     "output_type": "stream",
     "name": "stderr",
     "text": [
      "Inference: 100%|██████████| 1/1 [00:00<00:00,  2.16it/s]\n",
      "Tokenization: 100%|██████████| 1/1 [00:00<00:00, 2555.94it/s]\n",
      "Inference: 100%|██████████| 1/1 [00:00<00:00,  1.39it/s]\n",
      "Tokenization: 100%|██████████| 1/1 [00:00<00:00, 2639.59it/s]\n",
      "Inference: 100%|██████████| 1/1 [00:00<00:00,  2.12it/s]\n",
      "Tokenization: 100%|██████████| 1/1 [00:00<00:00, 300.67it/s]\n",
      "Inference:   0%|          | 0/1 [00:00<?, ?it/s]"
     ]
    },
    {
     "output_type": "stream",
     "name": "stdout",
     "text": [
      "Running pipeline ... done\n",
      "\n",
      "客戶額度即時管理裝置Customer quota real-time management device\n",
      "done\n",
      "------------\n",
      "\n"
     ]
    },
    {
     "output_type": "stream",
     "name": "stderr",
     "text": [
      "Inference: 100%|██████████| 1/1 [00:03<00:00,  3.79s/it]\n",
      "Tokenization: 100%|██████████| 1/1 [00:00<00:00, 888.06it/s]\n",
      "Inference: 100%|██████████| 1/1 [00:27<00:00, 27.31s/it]\n",
      "Tokenization: 100%|██████████| 1/1 [00:00<00:00, 79.68it/s]\n",
      "Inference: 100%|██████████| 1/1 [00:03<00:00,  3.62s/it]\n",
      "Tokenization: 100%|██████████| 1/1 [00:00<00:00, 1213.63it/s]\n",
      "Inference:   0%|          | 0/1 [00:00<?, ?it/s]"
     ]
    },
    {
     "output_type": "stream",
     "name": "stdout",
     "text": [
      "Running pipeline ... done\n",
      "\n",
      "風險評估模型建立系統RISK EVALUATION MODEL BUILDING SYSTEM\n",
      "done\n",
      "------------\n",
      "\n"
     ]
    },
    {
     "output_type": "stream",
     "name": "stderr",
     "text": [
      "Inference: 100%|██████████| 1/1 [00:00<00:00,  1.24it/s]\n",
      "Tokenization: 100%|██████████| 1/1 [00:00<00:00, 2097.15it/s]\n",
      "Inference: 100%|██████████| 1/1 [00:01<00:00,  1.20s/it]\n",
      "Tokenization: 100%|██████████| 1/1 [00:00<00:00, 2091.92it/s]\n",
      "Inference: 100%|██████████| 1/1 [00:00<00:00,  1.34it/s]\n",
      "Tokenization: 100%|██████████| 1/1 [00:00<00:00, 3398.95it/s]\n",
      "Inference:   0%|          | 0/1 [00:00<?, ?it/s]"
     ]
    },
    {
     "output_type": "stream",
     "name": "stdout",
     "text": [
      "Running pipeline ... done\n",
      "\n",
      "外匯交易帳務輔助管理裝置Foreign exchange transaction accounting auxiliary management device\n",
      "done\n",
      "------------\n",
      "\n"
     ]
    },
    {
     "output_type": "stream",
     "name": "stderr",
     "text": [
      "Inference: 100%|██████████| 1/1 [00:00<00:00,  2.25it/s]\n",
      "Tokenization: 100%|██████████| 1/1 [00:00<00:00, 2432.89it/s]\n",
      "Inference: 100%|██████████| 1/1 [00:00<00:00,  1.33it/s]\n",
      "Tokenization: 100%|██████████| 1/1 [00:00<00:00, 1956.30it/s]\n",
      "Inference: 100%|██████████| 1/1 [00:00<00:00,  2.11it/s]\n",
      "Tokenization: 100%|██████████| 1/1 [00:00<00:00, 3097.71it/s]\n",
      "Inference:   0%|          | 0/1 [00:00<?, ?it/s]"
     ]
    },
    {
     "output_type": "stream",
     "name": "stdout",
     "text": [
      "Running pipeline ... done\n",
      "\n",
      "超商存款作業系統Convenient store deposit operating system\n",
      "done\n",
      "------------\n",
      "\n"
     ]
    },
    {
     "output_type": "stream",
     "name": "stderr",
     "text": [
      "Inference: 100%|██████████| 1/1 [00:00<00:00,  2.69it/s]\n",
      "Tokenization: 100%|██████████| 1/1 [00:00<00:00, 2053.01it/s]\n",
      "Inference: 100%|██████████| 1/1 [00:00<00:00,  1.84it/s]\n",
      "Tokenization: 100%|██████████| 1/1 [00:00<00:00, 2062.10it/s]\n",
      "Inference: 100%|██████████| 1/1 [00:00<00:00,  2.69it/s]\n",
      "Tokenization: 100%|██████████| 1/1 [00:00<00:00, 597.05it/s]\n",
      "Inference:   0%|          | 0/1 [00:00<?, ?it/s]"
     ]
    },
    {
     "output_type": "stream",
     "name": "stdout",
     "text": [
      "Running pipeline ... done\n",
      "\n",
      "預填匯款系統Pre-filled remittance system\n",
      "done\n",
      "------------\n",
      "\n"
     ]
    },
    {
     "output_type": "stream",
     "name": "stderr",
     "text": [
      "Inference: 100%|██████████| 1/1 [00:01<00:00,  1.01s/it]\n",
      "Tokenization: 100%|██████████| 1/1 [00:00<00:00, 1094.26it/s]\n",
      "Inference: 100%|██████████| 1/1 [00:05<00:00,  5.11s/it]\n",
      "Tokenization: 100%|██████████| 1/1 [00:00<00:00, 1865.79it/s]\n",
      "Inference: 100%|██████████| 1/1 [00:01<00:00,  1.03s/it]\n",
      "Tokenization: 100%|██████████| 1/1 [00:00<00:00, 1494.23it/s]\n",
      "Inference:   0%|          | 0/1 [00:00<?, ?it/s]"
     ]
    },
    {
     "output_type": "stream",
     "name": "stdout",
     "text": [
      "Running pipeline ... done\n",
      "\n",
      "流動性風險評估系統LIQUIDITY RISK ASSESSMENT SYSTEM\n",
      "done\n",
      "------------\n",
      "\n"
     ]
    },
    {
     "output_type": "stream",
     "name": "stderr",
     "text": [
      "Inference: 100%|██████████| 1/1 [00:00<00:00,  1.40it/s]\n",
      "Tokenization: 100%|██████████| 1/1 [00:00<00:00, 2207.53it/s]\n",
      "Inference: 100%|██████████| 1/1 [00:01<00:00,  1.18s/it]\n",
      "Tokenization: 100%|██████████| 1/1 [00:00<00:00, 2398.12it/s]\n",
      "Inference: 100%|██████████| 1/1 [00:00<00:00,  1.40it/s]\n",
      "Tokenization: 100%|██████████| 1/1 [00:00<00:00, 3979.42it/s]\n",
      "Inference:   0%|          | 0/1 [00:00<?, ?it/s]"
     ]
    },
    {
     "output_type": "stream",
     "name": "stdout",
     "text": [
      "Running pipeline ... done\n",
      "\n",
      "程式執行分析系統及其方法PROGRAM EXECUTION ANALYSIS SYSTEM AND METHOD THEREOF\n",
      "done\n",
      "------------\n",
      "\n"
     ]
    },
    {
     "output_type": "stream",
     "name": "stderr",
     "text": [
      "Inference: 100%|██████████| 1/1 [00:00<00:00,  3.29it/s]\n",
      "Tokenization: 100%|██████████| 1/1 [00:00<00:00, 3584.88it/s]\n",
      "Inference: 100%|██████████| 1/1 [00:00<00:00,  1.85it/s]\n",
      "Tokenization: 100%|██████████| 1/1 [00:00<00:00, 1700.16it/s]\n",
      "Inference: 100%|██████████| 1/1 [00:00<00:00,  3.10it/s]\n",
      "Tokenization: 100%|██████████| 1/1 [00:00<00:00, 710.54it/s]\n",
      "Inference:   0%|          | 0/1 [00:00<?, ?it/s]"
     ]
    },
    {
     "output_type": "stream",
     "name": "stdout",
     "text": [
      "Running pipeline ... done\n",
      "\n",
      "個人化開銷彙整系統及其方法PERSONALIZED SPENDING AND COLLECTING SYSTEM AND METHOD THEREOF\n",
      "done\n",
      "------------\n",
      "\n"
     ]
    },
    {
     "output_type": "stream",
     "name": "stderr",
     "text": [
      "Inference: 100%|██████████| 1/1 [00:03<00:00,  3.61s/it]\n",
      "Tokenization: 100%|██████████| 1/1 [00:00<00:00, 989.92it/s]\n",
      "Inference: 100%|██████████| 1/1 [00:11<00:00, 11.29s/it]\n",
      "Tokenization: 100%|██████████| 1/1 [00:00<00:00, 351.11it/s]\n",
      "Inference: 100%|██████████| 1/1 [00:03<00:00,  3.71s/it]\n",
      "Tokenization: 100%|██████████| 1/1 [00:00<00:00, 744.60it/s]\n",
      "Inference:   0%|          | 0/1 [00:00<?, ?it/s]"
     ]
    },
    {
     "output_type": "stream",
     "name": "stdout",
     "text": [
      "Running pipeline ... done\n",
      "\n",
      "指靜脈辨識風險評估裝置FINGER VEIN IDENTIFICATION RISK ASSESSMENT DEVICE\n",
      "done\n",
      "------------\n",
      "\n"
     ]
    },
    {
     "output_type": "stream",
     "name": "stderr",
     "text": [
      "Inference: 100%|██████████| 1/1 [00:03<00:00,  3.78s/it]\n",
      "Tokenization: 100%|██████████| 1/1 [00:00<00:00, 1015.57it/s]\n",
      "Inference: 100%|██████████| 1/1 [00:13<00:00, 13.05s/it]\n",
      "Tokenization: 100%|██████████| 1/1 [00:00<00:00, 240.55it/s]\n",
      "Inference: 100%|██████████| 1/1 [00:03<00:00,  3.72s/it]\n",
      "Tokenization: 100%|██████████| 1/1 [00:00<00:00, 780.05it/s]\n",
      "Inference:   0%|          | 0/1 [00:00<?, ?it/s]"
     ]
    },
    {
     "output_type": "stream",
     "name": "stdout",
     "text": [
      "Running pipeline ... done\n",
      "\n",
      "金融業務審核之整合系統FINANCIAL BUSINESS REVIEW INTEGRATION SYSTEM\n",
      "done\n",
      "------------\n",
      "\n"
     ]
    },
    {
     "output_type": "stream",
     "name": "stderr",
     "text": [
      "Inference: 100%|██████████| 1/1 [00:02<00:00,  2.46s/it]\n",
      "Tokenization: 100%|██████████| 1/1 [00:00<00:00, 789.89it/s]\n",
      "Inference: 100%|██████████| 1/1 [00:11<00:00, 11.54s/it]\n",
      "Tokenization: 100%|██████████| 1/1 [00:00<00:00, 256.41it/s]\n",
      "Inference: 100%|██████████| 1/1 [00:02<00:00,  2.52s/it]\n",
      "Tokenization: 100%|██████████| 1/1 [00:00<00:00, 701.86it/s]\n",
      "Inference:   0%|          | 0/1 [00:00<?, ?it/s]"
     ]
    },
    {
     "output_type": "stream",
     "name": "stdout",
     "text": [
      "Running pipeline ... done\n",
      "\n",
      "金融業務的承辦審核整合系統FINANCIAL BUSINESS UNDERTAKING AND REVIEW INTEGRATION SYSTEM\n",
      "done\n",
      "------------\n",
      "\n"
     ]
    },
    {
     "output_type": "stream",
     "name": "stderr",
     "text": [
      "Inference: 100%|██████████| 1/1 [00:02<00:00,  2.48s/it]\n",
      "Tokenization: 100%|██████████| 1/1 [00:00<00:00, 896.03it/s]\n",
      "Inference: 100%|██████████| 1/1 [00:06<00:00,  6.60s/it]\n",
      "Tokenization: 100%|██████████| 1/1 [00:00<00:00, 704.81it/s]\n",
      "Inference: 100%|██████████| 1/1 [00:02<00:00,  2.60s/it]\n",
      "Tokenization: 100%|██████████| 1/1 [00:00<00:00, 729.95it/s]\n",
      "Inference:   0%|          | 0/1 [00:00<?, ?it/s]"
     ]
    },
    {
     "output_type": "stream",
     "name": "stdout",
     "text": [
      "Running pipeline ... done\n",
      "\n",
      "計算服務層級協議量測範圍內之可處理時間的系統及裝置SYSTEM AND DEVICE OF CALCULATING PROCESSING TIME WITHIN SERVICE LEVEL AGREEMENT MEASUREMENT RANGE\n",
      "done\n",
      "------------\n",
      "\n"
     ]
    },
    {
     "output_type": "stream",
     "name": "stderr",
     "text": [
      "Inference: 100%|██████████| 1/1 [00:03<00:00,  3.75s/it]\n",
      "Tokenization: 100%|██████████| 1/1 [00:00<00:00, 992.03it/s]\n",
      "Inference: 100%|██████████| 1/1 [00:26<00:00, 26.80s/it]\n",
      "Tokenization: 100%|██████████| 1/1 [00:00<00:00, 80.85it/s]\n",
      "Inference: 100%|██████████| 1/1 [00:03<00:00,  3.53s/it]\n",
      "Tokenization: 100%|██████████| 1/1 [00:00<00:00, 658.76it/s]\n",
      "Inference:   0%|          | 0/1 [00:00<?, ?it/s]"
     ]
    },
    {
     "output_type": "stream",
     "name": "stdout",
     "text": [
      "Running pipeline ... done\n",
      "\n",
      "金融交易之密碼鍵入取代系統FINANCIAL TRANSACTION SYSTEM WITHOUT ENTERING THE PASSWORD\n",
      "done\n",
      "------------\n",
      "\n"
     ]
    },
    {
     "output_type": "stream",
     "name": "stderr",
     "text": [
      "Inference: 100%|██████████| 1/1 [00:02<00:00,  2.39s/it]\n",
      "Tokenization: 100%|██████████| 1/1 [00:00<00:00, 664.08it/s]\n",
      "Inference: 100%|██████████| 1/1 [00:07<00:00,  7.34s/it]\n",
      "Tokenization: 100%|██████████| 1/1 [00:00<00:00, 774.57it/s]\n",
      "Inference: 100%|██████████| 1/1 [00:02<00:00,  2.42s/it]\n",
      "Tokenization: 100%|██████████| 1/1 [00:00<00:00, 2396.75it/s]\n",
      "Inference:   0%|          | 0/1 [00:00<?, ?it/s]"
     ]
    },
    {
     "output_type": "stream",
     "name": "stdout",
     "text": [
      "Running pipeline ... done\n",
      "\n",
      "個人化服務之約定扣繳帳戶管理系統PERSONALIZED SERVICE AGREEMENT WITHHOLDING ACCOUNT MANAGEMENT SYSTEM\n",
      "done\n",
      "------------\n",
      "\n"
     ]
    },
    {
     "output_type": "stream",
     "name": "stderr",
     "text": [
      "Inference: 100%|██████████| 1/1 [00:00<00:00,  1.81it/s]\n",
      "Tokenization: 100%|██████████| 1/1 [00:00<00:00, 1832.37it/s]\n",
      "Inference: 100%|██████████| 1/1 [00:00<00:00,  1.02it/s]\n",
      "Tokenization: 100%|██████████| 1/1 [00:00<00:00, 2012.62it/s]\n",
      "Inference: 100%|██████████| 1/1 [00:00<00:00,  1.86it/s]\n",
      "Tokenization: 100%|██████████| 1/1 [00:00<00:00, 1005.83it/s]\n",
      "Inference:   0%|          | 0/1 [00:00<?, ?it/s]"
     ]
    },
    {
     "output_type": "stream",
     "name": "stdout",
     "text": [
      "Running pipeline ... done\n",
      "\n",
      "設備強化順序分析系統Equipment strengthening sequence analysis system\n",
      "done\n",
      "------------\n",
      "\n"
     ]
    },
    {
     "output_type": "stream",
     "name": "stderr",
     "text": [
      "Inference: 100%|██████████| 1/1 [00:02<00:00,  2.41s/it]\n",
      "Tokenization: 100%|██████████| 1/1 [00:00<00:00, 1096.26it/s]\n",
      "Inference: 100%|██████████| 1/1 [00:06<00:00,  6.81s/it]\n",
      "Tokenization: 100%|██████████| 1/1 [00:00<00:00, 778.31it/s]\n",
      "Inference: 100%|██████████| 1/1 [00:02<00:00,  2.50s/it]\n",
      "Tokenization: 100%|██████████| 1/1 [00:00<00:00, 307.21it/s]\n",
      "Inference:   0%|          | 0/1 [00:00<?, ?it/s]"
     ]
    },
    {
     "output_type": "stream",
     "name": "stdout",
     "text": [
      "Running pipeline ... done\n",
      "\n",
      "線上申辦文件兩階段簽核處理裝置TWO-STAGE SINGING PROCESSING DEVICE FOR ONLINE APPLICATION DOCUMENTS\n",
      "done\n",
      "------------\n",
      "\n"
     ]
    },
    {
     "output_type": "stream",
     "name": "stderr",
     "text": [
      "Inference: 100%|██████████| 1/1 [00:03<00:00,  3.69s/it]\n",
      "Tokenization: 100%|██████████| 1/1 [00:00<00:00, 691.10it/s]\n",
      "Inference: 100%|██████████| 1/1 [00:17<00:00, 17.02s/it]\n",
      "Tokenization: 100%|██████████| 1/1 [00:00<00:00, 237.53it/s]\n",
      "Inference: 100%|██████████| 1/1 [00:03<00:00,  3.68s/it]\n",
      "Tokenization: 100%|██████████| 1/1 [00:00<00:00, 505.58it/s]\n",
      "Inference:   0%|          | 0/1 [00:00<?, ?it/s]"
     ]
    },
    {
     "output_type": "stream",
     "name": "stdout",
     "text": [
      "Running pipeline ... done\n",
      "\n",
      "金融交易之操作者授權系統OPERATOR AUTHORIZATION SYSTEM FOR FINANCIAL TRANSACTIONS\n",
      "done\n",
      "------------\n",
      "\n"
     ]
    },
    {
     "output_type": "stream",
     "name": "stderr",
     "text": [
      "Inference: 100%|██████████| 1/1 [00:03<00:00,  3.63s/it]\n",
      "Tokenization: 100%|██████████| 1/1 [00:00<00:00, 636.95it/s]\n",
      "Inference: 100%|██████████| 1/1 [00:23<00:00, 23.76s/it]\n",
      "Tokenization: 100%|██████████| 1/1 [00:00<00:00, 70.18it/s]\n",
      "Inference: 100%|██████████| 1/1 [00:03<00:00,  3.67s/it]\n",
      "Tokenization: 100%|██████████| 1/1 [00:00<00:00, 1691.93it/s]\n",
      "Inference:   0%|          | 0/1 [00:00<?, ?it/s]"
     ]
    },
    {
     "output_type": "stream",
     "name": "stdout",
     "text": [
      "Running pipeline ... done\n",
      "\n",
      "代收費稅款項系統A TAX PAYMENT COLLECTION SYSTEM\n",
      "done\n",
      "------------\n",
      "\n"
     ]
    },
    {
     "output_type": "stream",
     "name": "stderr",
     "text": [
      "Inference: 100%|██████████| 1/1 [00:00<00:00,  1.79it/s]\n",
      "Tokenization: 100%|██████████| 1/1 [00:00<00:00, 2046.00it/s]\n",
      "Inference: 100%|██████████| 1/1 [00:00<00:00,  1.01it/s]\n",
      "Tokenization: 100%|██████████| 1/1 [00:00<00:00, 2464.34it/s]\n",
      "Inference: 100%|██████████| 1/1 [00:00<00:00,  2.03it/s]\n",
      "Tokenization: 100%|██████████| 1/1 [00:00<00:00, 1394.38it/s]\n",
      "Inference:   0%|          | 0/1 [00:00<?, ?it/s]"
     ]
    },
    {
     "output_type": "stream",
     "name": "stdout",
     "text": [
      "Running pipeline ... done\n",
      "\n",
      "資訊系統Information system\n",
      "done\n",
      "------------\n",
      "\n"
     ]
    },
    {
     "output_type": "stream",
     "name": "stderr",
     "text": [
      "Inference: 100%|██████████| 1/1 [00:00<00:00,  2.43it/s]\n",
      "Tokenization: 100%|██████████| 1/1 [00:00<00:00, 837.52it/s]\n",
      "Inference: 100%|██████████| 1/1 [00:00<00:00,  1.26it/s]\n",
      "Tokenization: 100%|██████████| 1/1 [00:00<00:00, 2568.47it/s]\n",
      "Inference: 100%|██████████| 1/1 [00:00<00:00,  1.90it/s]\n",
      "Tokenization: 100%|██████████| 1/1 [00:00<00:00, 688.72it/s]\n",
      "Inference:   0%|          | 0/1 [00:00<?, ?it/s]"
     ]
    },
    {
     "output_type": "stream",
     "name": "stdout",
     "text": [
      "Running pipeline ... done\n",
      "\n",
      "土地或建物之貸款輔助評估系統及其方法LAND OR BUILDING LOAN ASSISTED EVALUATION SYSTEM AND METHOD THEREOF\n",
      "done\n",
      "------------\n",
      "\n"
     ]
    },
    {
     "output_type": "stream",
     "name": "stderr",
     "text": [
      "Inference: 100%|██████████| 1/1 [00:03<00:00,  3.62s/it]\n",
      "Tokenization: 100%|██████████| 1/1 [00:00<00:00, 968.21it/s]\n",
      "Inference: 100%|██████████| 1/1 [00:21<00:00, 21.61s/it]\n",
      "Tokenization: 100%|██████████| 1/1 [00:00<00:00, 230.36it/s]\n",
      "Inference: 100%|██████████| 1/1 [00:05<00:00,  5.08s/it]\n",
      "Tokenization: 100%|██████████| 1/1 [00:00<00:00, 395.73it/s]\n",
      "Inference:   0%|          | 0/1 [00:00<?, ?it/s]"
     ]
    },
    {
     "output_type": "stream",
     "name": "stdout",
     "text": [
      "Running pipeline ... done\n",
      "\n",
      "外幣購兌系統FOREIGN CURRENCY EXCHANGE SYSTEM\n",
      "done\n",
      "------------\n",
      "\n"
     ]
    },
    {
     "output_type": "stream",
     "name": "stderr",
     "text": [
      "Inference: 100%|██████████| 1/1 [00:05<00:00,  5.35s/it]\n",
      "Tokenization: 100%|██████████| 1/1 [00:00<00:00, 706.71it/s]\n",
      "Inference: 100%|██████████| 1/1 [00:13<00:00, 13.91s/it]\n",
      "Tokenization: 100%|██████████| 1/1 [00:00<00:00, 256.86it/s]\n",
      "Inference: 100%|██████████| 1/1 [00:03<00:00,  3.58s/it]\n",
      "Tokenization: 100%|██████████| 1/1 [00:00<00:00, 1521.88it/s]\n",
      "Inference:   0%|          | 0/1 [00:00<?, ?it/s]"
     ]
    },
    {
     "output_type": "stream",
     "name": "stdout",
     "text": [
      "Running pipeline ... done\n",
      "\n",
      "金融帳戶交易控管系統FINANCIAL ACCOUNT TRANSACTION CONTROL SYSTEM\n",
      "done\n",
      "------------\n",
      "\n"
     ]
    },
    {
     "output_type": "stream",
     "name": "stderr",
     "text": [
      "Inference: 100%|██████████| 1/1 [00:01<00:00,  1.15s/it]\n",
      "Tokenization: 100%|██████████| 1/1 [00:00<00:00, 2057.04it/s]\n",
      "Inference: 100%|██████████| 1/1 [00:05<00:00,  5.43s/it]\n",
      "Tokenization: 100%|██████████| 1/1 [00:00<00:00, 984.12it/s]\n",
      "Inference: 100%|██████████| 1/1 [00:01<00:00,  1.21s/it]\n",
      "Tokenization: 100%|██████████| 1/1 [00:00<00:00, 783.25it/s]\n",
      "Inference:   0%|          | 0/1 [00:00<?, ?it/s]"
     ]
    },
    {
     "output_type": "stream",
     "name": "stdout",
     "text": [
      "Running pipeline ... done\n",
      "\n",
      "實現貸款擔保品的智能系統INTELLIGENT SYSTEM OF IMPLEMENTING LOAN COLLATERAL\n",
      "done\n",
      "------------\n",
      "\n"
     ]
    },
    {
     "output_type": "stream",
     "name": "stderr",
     "text": [
      "Inference: 100%|██████████| 1/1 [00:02<00:00,  2.51s/it]\n",
      "Tokenization: 100%|██████████| 1/1 [00:00<00:00, 997.93it/s]\n",
      "Inference: 100%|██████████| 1/1 [00:04<00:00,  4.64s/it]\n",
      "Tokenization: 100%|██████████| 1/1 [00:00<00:00, 1318.96it/s]\n",
      "Inference: 100%|██████████| 1/1 [00:02<00:00,  2.64s/it]\n",
      "Tokenization: 100%|██████████| 1/1 [00:00<00:00, 2150.93it/s]\n",
      "Inference:   0%|          | 0/1 [00:00<?, ?it/s]"
     ]
    },
    {
     "output_type": "stream",
     "name": "stdout",
     "text": [
      "Running pipeline ... done\n",
      "\n",
      "貿易融資文件黑名單掃瞄辨識系統TRADE FINANCE DOCUMENT SANCTION LIST SCAN IDENTIFICATION SYSTEM\n",
      "done\n",
      "------------\n",
      "\n"
     ]
    },
    {
     "output_type": "stream",
     "name": "stderr",
     "text": [
      "Inference: 100%|██████████| 1/1 [00:00<00:00,  2.84it/s]\n",
      "Tokenization: 100%|██████████| 1/1 [00:00<00:00, 3557.51it/s]\n",
      "Inference: 100%|██████████| 1/1 [00:00<00:00,  1.06it/s]\n",
      "Tokenization: 100%|██████████| 1/1 [00:00<00:00, 2611.65it/s]\n",
      "Inference: 100%|██████████| 1/1 [00:00<00:00,  2.82it/s]\n",
      "Tokenization: 100%|██████████| 1/1 [00:00<00:00, 702.68it/s]\n",
      "Inference:   0%|          | 0/1 [00:00<?, ?it/s]"
     ]
    },
    {
     "output_type": "stream",
     "name": "stdout",
     "text": [
      "Running pipeline ... done\n",
      "\n",
      "銀行自動化填寫購買外幣表單裝置Bank automatic foreign currency purchase form filling device\n",
      "done\n",
      "------------\n",
      "\n"
     ]
    },
    {
     "output_type": "stream",
     "name": "stderr",
     "text": [
      "Inference: 100%|██████████| 1/1 [00:00<00:00,  1.42it/s]\n",
      "Tokenization: 100%|██████████| 1/1 [00:00<00:00, 1478.95it/s]\n",
      "Inference: 100%|██████████| 1/1 [00:01<00:00,  1.36s/it]\n",
      "Tokenization: 100%|██████████| 1/1 [00:00<00:00, 1529.65it/s]\n",
      "Inference: 100%|██████████| 1/1 [00:00<00:00,  1.53it/s]\n",
      "Tokenization: 100%|██████████| 1/1 [00:00<00:00, 1834.78it/s]\n",
      "Inference:   0%|          | 0/1 [00:00<?, ?it/s]"
     ]
    },
    {
     "output_type": "stream",
     "name": "stdout",
     "text": [
      "Running pipeline ... done\n",
      "\n",
      "使用擴增實境以及衛星定位系統應用於買屋/租屋資訊即時查詢裝置Use of augmented reality and satellite positioning system applicable to real-time query device for real estate purchase/rental information\n",
      "done\n",
      "------------\n",
      "\n"
     ]
    },
    {
     "output_type": "stream",
     "name": "stderr",
     "text": [
      "Inference: 100%|██████████| 1/1 [00:00<00:00,  1.42it/s]\n",
      "Tokenization: 100%|██████████| 1/1 [00:00<00:00, 2511.56it/s]\n",
      "Inference: 100%|██████████| 1/1 [00:01<00:00,  1.39s/it]\n",
      "Tokenization: 100%|██████████| 1/1 [00:00<00:00, 1369.79it/s]\n",
      "Inference: 100%|██████████| 1/1 [00:00<00:00,  1.59it/s]\n",
      "Tokenization: 100%|██████████| 1/1 [00:00<00:00, 818.88it/s]\n",
      "Inference:   0%|          | 0/1 [00:00<?, ?it/s]"
     ]
    },
    {
     "output_type": "stream",
     "name": "stdout",
     "text": [
      "Running pipeline ... done\n",
      "\n",
      "電子票券系統及電子票券使用方法\n",
      "done\n",
      "------------\n",
      "\n"
     ]
    },
    {
     "output_type": "stream",
     "name": "stderr",
     "text": [
      "Inference: 100%|██████████| 1/1 [00:02<00:00,  2.60s/it]\n",
      "Tokenization: 100%|██████████| 1/1 [00:00<00:00, 1536.38it/s]\n",
      "Inference: 100%|██████████| 1/1 [00:05<00:00,  5.78s/it]\n",
      "Tokenization: 100%|██████████| 1/1 [00:00<00:00, 920.01it/s]\n",
      "Inference: 100%|██████████| 1/1 [00:02<00:00,  2.78s/it]\n",
      "Tokenization: 100%|██████████| 1/1 [00:00<00:00, 608.66it/s]\n",
      "Inference:   0%|          | 0/1 [00:00<?, ?it/s]"
     ]
    },
    {
     "output_type": "stream",
     "name": "stdout",
     "text": [
      "Running pipeline ... done\n",
      "\n",
      "一種平帳檢查系統及裝置A SYSTEM AND A DEVICE FOR CHECKING FINANCIAL BALANCE\n",
      "done\n",
      "------------\n",
      "\n"
     ]
    },
    {
     "output_type": "stream",
     "name": "stderr",
     "text": [
      "Inference: 100%|██████████| 1/1 [00:04<00:00,  4.15s/it]\n",
      "Tokenization: 100%|██████████| 1/1 [00:00<00:00, 586.86it/s]\n",
      "Inference: 100%|██████████| 1/1 [00:23<00:00, 23.41s/it]\n",
      "Tokenization: 100%|██████████| 1/1 [00:00<00:00, 90.33it/s]\n",
      "Inference: 100%|██████████| 1/1 [00:03<00:00,  3.85s/it]\n",
      "Tokenization: 100%|██████████| 1/1 [00:00<00:00, 891.46it/s]\n",
      "Inference:   0%|          | 0/1 [00:00<?, ?it/s]"
     ]
    },
    {
     "output_type": "stream",
     "name": "stdout",
     "text": [
      "Running pipeline ... done\n",
      "\n",
      "客製化紅利回饋配比的建議裝置CUSTOMIZED REWARD RATIO SUGGESTION DEVICE\n",
      "done\n",
      "------------\n",
      "\n"
     ]
    },
    {
     "output_type": "stream",
     "name": "stderr",
     "text": [
      "Inference: 100%|██████████| 1/1 [00:02<00:00,  2.55s/it]\n",
      "Tokenization: 100%|██████████| 1/1 [00:00<00:00, 1058.37it/s]\n",
      "Inference: 100%|██████████| 1/1 [00:05<00:00,  5.23s/it]\n",
      "Tokenization: 100%|██████████| 1/1 [00:00<00:00, 917.59it/s]\n",
      "Inference: 100%|██████████| 1/1 [00:02<00:00,  2.43s/it]\n",
      "Tokenization: 100%|██████████| 1/1 [00:00<00:00, 1245.34it/s]\n",
      "Inference:   0%|          | 0/1 [00:00<?, ?it/s]"
     ]
    },
    {
     "output_type": "stream",
     "name": "stdout",
     "text": [
      "Running pipeline ... done\n",
      "\n",
      "銀行的跨行業務基金的系統INTERBANK BUSINESS FUND SYSTEM\n",
      "done\n",
      "------------\n",
      "\n"
     ]
    },
    {
     "output_type": "stream",
     "name": "stderr",
     "text": [
      "Inference: 100%|██████████| 1/1 [00:02<00:00,  2.52s/it]\n",
      "Tokenization: 100%|██████████| 1/1 [00:00<00:00, 915.79it/s]\n",
      "Inference: 100%|██████████| 1/1 [00:03<00:00,  3.52s/it]\n",
      "Tokenization: 100%|██████████| 1/1 [00:00<00:00, 1594.79it/s]\n",
      "Inference: 100%|██████████| 1/1 [00:02<00:00,  2.39s/it]\n",
      "Tokenization: 100%|██████████| 1/1 [00:00<00:00, 2409.13it/s]\n",
      "Inference:   0%|          | 0/1 [00:00<?, ?it/s]"
     ]
    },
    {
     "output_type": "stream",
     "name": "stdout",
     "text": [
      "Running pipeline ... done\n",
      "\n",
      "資訊服務表單整合裝置INFORMATION SERVICE FORM INTEGRATION DEVICE\n",
      "done\n",
      "------------\n",
      "\n"
     ]
    },
    {
     "output_type": "stream",
     "name": "stderr",
     "text": [
      "Inference: 100%|██████████| 1/1 [00:00<00:00,  1.74it/s]\n",
      "Tokenization: 100%|██████████| 1/1 [00:00<00:00, 1005.11it/s]\n",
      "Inference: 100%|██████████| 1/1 [00:01<00:00,  1.22s/it]\n",
      "Tokenization: 100%|██████████| 1/1 [00:00<00:00, 1891.03it/s]\n",
      "Inference: 100%|██████████| 1/1 [00:00<00:00,  1.74it/s]\n",
      "Tokenization: 100%|██████████| 1/1 [00:00<00:00, 791.08it/s]\n",
      "Inference:   0%|          | 0/1 [00:00<?, ?it/s]"
     ]
    },
    {
     "output_type": "stream",
     "name": "stdout",
     "text": [
      "Running pipeline ... done\n",
      "\n",
      "資金轉撥計價作業系統FUND TRANSFER PRICING OPERATION SYSTEM\n",
      "done\n",
      "------------\n",
      "\n"
     ]
    },
    {
     "output_type": "stream",
     "name": "stderr",
     "text": [
      "Inference: 100%|██████████| 1/1 [00:02<00:00,  2.43s/it]\n",
      "Tokenization: 100%|██████████| 1/1 [00:00<00:00, 856.33it/s]\n",
      "Inference: 100%|██████████| 1/1 [00:16<00:00, 16.28s/it]\n",
      "Tokenization: 100%|██████████| 1/1 [00:00<00:00, 217.67it/s]\n",
      "Inference: 100%|██████████| 1/1 [00:02<00:00,  2.43s/it]\n",
      "Tokenization: 100%|██████████| 1/1 [00:00<00:00, 1140.07it/s]\n",
      "Inference:   0%|          | 0/1 [00:00<?, ?it/s]"
     ]
    },
    {
     "output_type": "stream",
     "name": "stdout",
     "text": [
      "Running pipeline ... done\n",
      "\n",
      "防制交易詐騙的即時放行及警示系統REAL-TIME APPROVAL AND NOTIFICATION SYSTEM OF ANTI-FRAUD FOR FINANCIAL TRANSACTION\n",
      "done\n",
      "------------\n",
      "\n"
     ]
    },
    {
     "output_type": "stream",
     "name": "stderr",
     "text": [
      "Inference: 100%|██████████| 1/1 [00:02<00:00,  2.38s/it]\n",
      "Tokenization: 100%|██████████| 1/1 [00:00<00:00, 1179.50it/s]\n",
      "Inference: 100%|██████████| 1/1 [00:05<00:00,  5.24s/it]\n",
      "Tokenization: 100%|██████████| 1/1 [00:00<00:00, 715.26it/s]\n",
      "Inference: 100%|██████████| 1/1 [00:02<00:00,  2.40s/it]\n",
      "Tokenization: 100%|██████████| 1/1 [00:00<00:00, 533.02it/s]\n",
      "Inference:   0%|          | 0/1 [00:00<?, ?it/s]"
     ]
    },
    {
     "output_type": "stream",
     "name": "stdout",
     "text": [
      "Running pipeline ... done\n",
      "\n",
      "跨銀行的申貸系統CROSS-BANK LOAN APPLICATION SYSTEM\n",
      "done\n",
      "------------\n",
      "\n"
     ]
    },
    {
     "output_type": "stream",
     "name": "stderr",
     "text": [
      "Inference: 100%|██████████| 1/1 [00:03<00:00,  3.62s/it]\n",
      "Tokenization: 100%|██████████| 1/1 [00:00<00:00, 956.08it/s]\n",
      "Inference: 100%|██████████| 1/1 [00:28<00:00, 28.19s/it]\n",
      "Tokenization: 100%|██████████| 1/1 [00:00<00:00, 73.26it/s]\n",
      "Inference: 100%|██████████| 1/1 [00:03<00:00,  3.65s/it]\n",
      "Tokenization: 100%|██████████| 1/1 [00:00<00:00, 393.68it/s]\n",
      "Inference:   0%|          | 0/1 [00:00<?, ?it/s]"
     ]
    },
    {
     "output_type": "stream",
     "name": "stdout",
     "text": [
      "Running pipeline ... done\n",
      "\n",
      "身份管理與授權裝置DEVICE OF IDENTITY MANAGEMENT AND AUTHORIZATION\n",
      "done\n",
      "------------\n",
      "\n"
     ]
    },
    {
     "output_type": "stream",
     "name": "stderr",
     "text": [
      "Inference: 100%|██████████| 1/1 [00:04<00:00,  4.83s/it]\n",
      "Tokenization: 100%|██████████| 1/1 [00:00<00:00, 613.38it/s]\n",
      "Inference: 100%|██████████| 1/1 [00:17<00:00, 17.62s/it]\n",
      "Tokenization: 100%|██████████| 1/1 [00:00<00:00, 307.03it/s]\n",
      "Inference: 100%|██████████| 1/1 [00:04<00:00,  4.87s/it]\n",
      "Tokenization: 100%|██████████| 1/1 [00:00<00:00, 2100.30it/s]\n",
      "Inference:   0%|          | 0/1 [00:00<?, ?it/s]"
     ]
    },
    {
     "output_type": "stream",
     "name": "stdout",
     "text": [
      "Running pipeline ... done\n",
      "\n",
      "銀行聯合貸款區塊鏈系統BLOCKCHAIN SYSTEM FOR BANK JOINT LOANS\n",
      "done\n",
      "------------\n",
      "\n"
     ]
    },
    {
     "output_type": "stream",
     "name": "stderr",
     "text": [
      "Inference: 100%|██████████| 1/1 [00:00<00:00,  1.70it/s]\n",
      "Tokenization: 100%|██████████| 1/1 [00:00<00:00, 1659.14it/s]\n",
      "Inference: 100%|██████████| 1/1 [00:01<00:00,  1.13s/it]\n",
      "Tokenization: 100%|██████████| 1/1 [00:00<00:00, 2115.13it/s]\n",
      "Inference: 100%|██████████| 1/1 [00:00<00:00,  1.79it/s]\n",
      "Tokenization: 100%|██████████| 1/1 [00:00<00:00, 3155.98it/s]\n",
      "Inference:   0%|          | 0/1 [00:00<?, ?it/s]"
     ]
    },
    {
     "output_type": "stream",
     "name": "stdout",
     "text": [
      "Running pipeline ... done\n",
      "\n",
      "區塊鏈融資銀行競標裝置Blockchain financing bank bidding device\n",
      "done\n",
      "------------\n",
      "\n"
     ]
    },
    {
     "output_type": "stream",
     "name": "stderr",
     "text": [
      "Inference: 100%|██████████| 1/1 [00:00<00:00,  3.71it/s]\n",
      "Tokenization: 100%|██████████| 1/1 [00:00<00:00, 3744.91it/s]\n",
      "Inference: 100%|██████████| 1/1 [00:00<00:00,  2.87it/s]\n",
      "Tokenization: 100%|██████████| 1/1 [00:00<00:00, 3609.56it/s]\n",
      "Inference: 100%|██████████| 1/1 [00:00<00:00,  3.74it/s]\n",
      "Tokenization: 100%|██████████| 1/1 [00:00<00:00, 772.86it/s]\n",
      "Inference:   0%|          | 0/1 [00:00<?, ?it/s]"
     ]
    },
    {
     "output_type": "stream",
     "name": "stdout",
     "text": [
      "Running pipeline ... done\n",
      "\n",
      "一站式繳費代收系統及其方法INTEGRATED PAYMENT COLLECTION SYSTEM AND METHOD THEREOF\n",
      "done\n",
      "------------\n",
      "\n"
     ]
    },
    {
     "output_type": "stream",
     "name": "stderr",
     "text": [
      "Inference: 100%|██████████| 1/1 [00:02<00:00,  2.47s/it]\n",
      "Tokenization: 100%|██████████| 1/1 [00:00<00:00, 965.32it/s]\n",
      "Inference: 100%|██████████| 1/1 [00:14<00:00, 14.88s/it]\n",
      "Tokenization: 100%|██████████| 1/1 [00:00<00:00, 238.88it/s]\n",
      "Inference: 100%|██████████| 1/1 [00:02<00:00,  2.39s/it]\n",
      "Tokenization: 100%|██████████| 1/1 [00:00<00:00, 853.37it/s]\n",
      "Inference:   0%|          | 0/1 [00:00<?, ?it/s]"
     ]
    },
    {
     "output_type": "stream",
     "name": "stdout",
     "text": [
      "Running pipeline ... done\n",
      "\n",
      "異業結合商家點數兌換黃金的系統SYSTEM FOR EXCHANGING GOLD WITH MERCHANT POINTS IN DIFFERENT INDUSTRIES\n",
      "done\n",
      "------------\n",
      "\n"
     ]
    },
    {
     "output_type": "stream",
     "name": "stderr",
     "text": [
      "Inference: 100%|██████████| 1/1 [00:02<00:00,  2.36s/it]\n",
      "Tokenization: 100%|██████████| 1/1 [00:00<00:00, 1196.32it/s]\n",
      "Inference: 100%|██████████| 1/1 [00:25<00:00, 25.18s/it]\n",
      "Tokenization: 100%|██████████| 1/1 [00:00<00:00, 70.74it/s]\n",
      "Inference: 100%|██████████| 1/1 [00:02<00:00,  2.44s/it]\n",
      "Tokenization: 100%|██████████| 1/1 [00:00<00:00, 3079.52it/s]\n",
      "Inference:   0%|          | 0/1 [00:00<?, ?it/s]"
     ]
    },
    {
     "output_type": "stream",
     "name": "stdout",
     "text": [
      "Running pipeline ... done\n",
      "\n",
      "貸款擔保品之法拍系統JUDICIAL SALE SYSTEM OF LOAN COLLATERAL\n",
      "done\n",
      "------------\n",
      "\n"
     ]
    },
    {
     "output_type": "stream",
     "name": "stderr",
     "text": [
      "Inference: 100%|██████████| 1/1 [00:00<00:00,  1.73it/s]\n",
      "Tokenization: 100%|██████████| 1/1 [00:00<00:00, 1436.90it/s]\n",
      "Inference: 100%|██████████| 1/1 [00:00<00:00,  1.16it/s]\n",
      "Tokenization: 100%|██████████| 1/1 [00:00<00:00, 2718.28it/s]\n",
      "Inference: 100%|██████████| 1/1 [00:00<00:00,  1.95it/s]\n",
      "Tokenization: 100%|██████████| 1/1 [00:00<00:00, 735.71it/s]\n",
      "Inference:   0%|          | 0/1 [00:00<?, ?it/s]"
     ]
    },
    {
     "output_type": "stream",
     "name": "stdout",
     "text": [
      "Running pipeline ... done\n",
      "\n",
      "電子表單產生裝置ELECTRONIC FORM GENERATING DEVICE\n",
      "done\n",
      "------------\n",
      "\n"
     ]
    },
    {
     "output_type": "stream",
     "name": "stderr",
     "text": [
      "Inference: 100%|██████████| 1/1 [00:00<00:00,  1.58it/s]\n",
      "Tokenization: 100%|██████████| 1/1 [00:00<00:00, 1552.87it/s]\n",
      "Inference: 100%|██████████| 1/1 [00:01<00:00,  1.19s/it]\n",
      "Tokenization: 100%|██████████| 1/1 [00:00<00:00, 1146.92it/s]\n",
      "Inference: 100%|██████████| 1/1 [00:00<00:00,  1.63it/s]\n",
      "Tokenization: 100%|██████████| 1/1 [00:00<00:00, 604.37it/s]\n",
      "Inference:   0%|          | 0/1 [00:00<?, ?it/s]"
     ]
    },
    {
     "output_type": "stream",
     "name": "stdout",
     "text": [
      "Running pipeline ... done\n",
      "\n",
      "運用虛擬實境、手勢辨識及自然語言處理技術應用於金融交易與客服處理裝置Financial transaction and customer service processing device with application of virtual reality, gesture recognition and natural language processing technology\n",
      "done\n",
      "------------\n",
      "\n"
     ]
    },
    {
     "output_type": "stream",
     "name": "stderr",
     "text": [
      "Inference: 100%|██████████| 1/1 [00:02<00:00,  2.64s/it]\n",
      "Tokenization: 100%|██████████| 1/1 [00:00<00:00, 807.06it/s]\n",
      "Inference: 100%|██████████| 1/1 [00:30<00:00, 30.20s/it]\n",
      "Tokenization: 100%|██████████| 1/1 [00:00<00:00, 58.16it/s]\n",
      "Inference: 100%|██████████| 1/1 [00:02<00:00,  2.52s/it]\n",
      "Tokenization: 100%|██████████| 1/1 [00:00<00:00, 2028.19it/s]\n",
      "Inference:   0%|          | 0/1 [00:00<?, ?it/s]"
     ]
    },
    {
     "output_type": "stream",
     "name": "stdout",
     "text": [
      "Running pipeline ... done\n",
      "\n",
      "實體貨幣拍賣裝置DEVICE FOR AUCTION OF MATERIAL MONEY\n",
      "done\n",
      "------------\n",
      "\n"
     ]
    },
    {
     "output_type": "stream",
     "name": "stderr",
     "text": [
      "Inference: 100%|██████████| 1/1 [00:00<00:00,  2.15it/s]\n",
      "Tokenization: 100%|██████████| 1/1 [00:00<00:00, 2590.68it/s]\n",
      "Inference: 100%|██████████| 1/1 [00:00<00:00,  1.12it/s]\n",
      "Tokenization: 100%|██████████| 1/1 [00:00<00:00, 2216.86it/s]\n",
      "Inference: 100%|██████████| 1/1 [00:00<00:00,  2.29it/s]\n",
      "Tokenization: 100%|██████████| 1/1 [00:00<00:00, 706.23it/s]\n",
      "Inference:   0%|          | 0/1 [00:00<?, ?it/s]"
     ]
    },
    {
     "output_type": "stream",
     "name": "stdout",
     "text": [
      "Running pipeline ... done\n",
      "\n",
      "穿戴裝置或行動裝置之風險評估裝置Risk assessment device for wearable device or mobile device\n",
      "done\n",
      "------------\n",
      "\n"
     ]
    },
    {
     "output_type": "stream",
     "name": "stderr",
     "text": [
      "Inference: 100%|██████████| 1/1 [00:02<00:00,  2.50s/it]\n",
      "Tokenization: 100%|██████████| 1/1 [00:00<00:00, 944.03it/s]\n",
      "Inference: 100%|██████████| 1/1 [00:09<00:00,  9.09s/it]\n",
      "Tokenization: 100%|██████████| 1/1 [00:00<00:00, 854.06it/s]\n",
      "Inference: 100%|██████████| 1/1 [00:02<00:00,  2.46s/it]\n",
      "Tokenization: 100%|██████████| 1/1 [00:00<00:00, 3521.67it/s]\n",
      "Inference:   0%|          | 0/1 [00:00<?, ?it/s]"
     ]
    },
    {
     "output_type": "stream",
     "name": "stdout",
     "text": [
      "Running pipeline ... done\n",
      "\n",
      "個人化信用交易裝置DEVICE OF PERSONALIIZED CREDIT BUSINESS\n",
      "done\n",
      "------------\n",
      "\n"
     ]
    },
    {
     "output_type": "stream",
     "name": "stderr",
     "text": [
      "Inference: 100%|██████████| 1/1 [00:00<00:00,  2.54it/s]\n",
      "Tokenization: 100%|██████████| 1/1 [00:00<00:00, 3039.35it/s]\n",
      "Inference: 100%|██████████| 1/1 [00:00<00:00,  2.11it/s]\n",
      "Tokenization: 100%|██████████| 1/1 [00:00<00:00, 2584.29it/s]\n",
      "Inference: 100%|██████████| 1/1 [00:00<00:00,  2.21it/s]\n",
      "Tokenization: 100%|██████████| 1/1 [00:00<00:00, 690.65it/s]\n",
      "Inference:   0%|          | 0/1 [00:00<?, ?it/s]"
     ]
    },
    {
     "output_type": "stream",
     "name": "stdout",
     "text": [
      "Running pipeline ... done\n",
      "\n",
      "財富管理系統Wealth management system\n",
      "done\n",
      "------------\n",
      "\n"
     ]
    },
    {
     "output_type": "stream",
     "name": "stderr",
     "text": [
      "Inference: 100%|██████████| 1/1 [00:02<00:00,  2.52s/it]\n",
      "Tokenization: 100%|██████████| 1/1 [00:00<00:00, 591.75it/s]\n",
      "Inference: 100%|██████████| 1/1 [00:04<00:00,  4.15s/it]\n",
      "Tokenization: 100%|██████████| 1/1 [00:00<00:00, 609.37it/s]\n",
      "Inference: 100%|██████████| 1/1 [00:02<00:00,  2.45s/it]\n",
      "Tokenization: 100%|██████████| 1/1 [00:00<00:00, 3320.91it/s]\n",
      "Inference:   0%|          | 0/1 [00:00<?, ?it/s]"
     ]
    },
    {
     "output_type": "stream",
     "name": "stdout",
     "text": [
      "Running pipeline ... done\n",
      "\n",
      "海外分行洗錢防制整合系統OVERSEAS BRANCH ANTI-MONEY LAUNDERING INTEGRATED SYSTEM AND METHOD THEREOF\n",
      "done\n",
      "------------\n",
      "\n"
     ]
    },
    {
     "output_type": "stream",
     "name": "stderr",
     "text": [
      "Inference: 100%|██████████| 1/1 [00:00<00:00,  3.84it/s]\n",
      "Tokenization: 100%|██████████| 1/1 [00:00<00:00, 3175.10it/s]\n",
      "Inference: 100%|██████████| 1/1 [00:00<00:00,  2.57it/s]\n",
      "Tokenization: 100%|██████████| 1/1 [00:00<00:00, 2949.58it/s]\n",
      "Inference: 100%|██████████| 1/1 [00:00<00:00,  3.85it/s]\n",
      "Tokenization: 100%|██████████| 1/1 [00:00<00:00, 2531.26it/s]\n",
      "Inference:   0%|          | 0/1 [00:00<?, ?it/s]"
     ]
    },
    {
     "output_type": "stream",
     "name": "stdout",
     "text": [
      "Running pipeline ... done\n",
      "\n",
      "跨行帳號的金融授權系統及其款項代收、扣款授權方法FINANCIAL AUTHORIZATION SYSTEM FOR CROSS-BANK ACCOUNTS AND METHOD FOR COLLECTION AND DEDUCTION\n",
      "done\n",
      "------------\n",
      "\n"
     ]
    },
    {
     "output_type": "stream",
     "name": "stderr",
     "text": [
      "Inference: 100%|██████████| 1/1 [00:00<00:00,  2.44it/s]\n",
      "Tokenization: 100%|██████████| 1/1 [00:00<00:00, 3050.40it/s]\n",
      "Inference: 100%|██████████| 1/1 [00:00<00:00,  2.04it/s]\n",
      "Tokenization: 100%|██████████| 1/1 [00:00<00:00, 3236.35it/s]\n",
      "Inference: 100%|██████████| 1/1 [00:00<00:00,  2.58it/s]\n",
      "Tokenization: 100%|██████████| 1/1 [00:00<00:00, 648.57it/s]\n",
      "Inference:   0%|          | 0/1 [00:00<?, ?it/s]"
     ]
    },
    {
     "output_type": "stream",
     "name": "stdout",
     "text": [
      "Running pipeline ... done\n",
      "\n",
      "指導型串接交易管理及追蹤作業系統\n",
      "done\n",
      "------------\n",
      "\n"
     ]
    },
    {
     "output_type": "stream",
     "name": "stderr",
     "text": [
      "Inference: 100%|██████████| 1/1 [00:03<00:00,  3.55s/it]\n",
      "Tokenization: 100%|██████████| 1/1 [00:00<00:00, 874.18it/s]\n",
      "Inference: 100%|██████████| 1/1 [00:12<00:00, 12.47s/it]\n",
      "Tokenization: 100%|██████████| 1/1 [00:00<00:00, 353.74it/s]\n",
      "Inference: 100%|██████████| 1/1 [00:03<00:00,  3.79s/it]\n",
      "Tokenization: 100%|██████████| 1/1 [00:00<00:00, 577.01it/s]\n",
      "Inference:   0%|          | 0/1 [00:00<?, ?it/s]"
     ]
    },
    {
     "output_type": "stream",
     "name": "stdout",
     "text": [
      "Running pipeline ... done\n",
      "\n",
      "基金整合交易系統FUND INTEGRATED TRADING SYSTEM\n",
      "done\n",
      "------------\n",
      "\n"
     ]
    },
    {
     "output_type": "stream",
     "name": "stderr",
     "text": [
      "Inference: 100%|██████████| 1/1 [00:00<00:00,  1.44it/s]\n",
      "Tokenization: 100%|██████████| 1/1 [00:00<00:00, 1192.24it/s]\n",
      "Inference: 100%|██████████| 1/1 [00:01<00:00,  1.11s/it]\n",
      "Tokenization: 100%|██████████| 1/1 [00:00<00:00, 1301.77it/s]\n",
      "Inference: 100%|██████████| 1/1 [00:00<00:00,  1.67it/s]\n",
      "Tokenization: 100%|██████████| 1/1 [00:00<00:00, 2746.76it/s]\n",
      "Inference:   0%|          | 0/1 [00:00<?, ?it/s]"
     ]
    },
    {
     "output_type": "stream",
     "name": "stdout",
     "text": [
      "Running pipeline ... done\n",
      "\n",
      "報表管理系統Report management system\n",
      "done\n",
      "------------\n",
      "\n"
     ]
    },
    {
     "output_type": "stream",
     "name": "stderr",
     "text": [
      "Inference: 100%|██████████| 1/1 [00:00<00:00,  1.60it/s]\n",
      "Tokenization: 100%|██████████| 1/1 [00:00<00:00, 1576.81it/s]\n",
      "Inference: 100%|██████████| 1/1 [00:01<00:00,  1.04s/it]\n",
      "Tokenization: 100%|██████████| 1/1 [00:00<00:00, 2000.14it/s]\n",
      "Inference: 100%|██████████| 1/1 [00:00<00:00,  2.10it/s]\n",
      "Tokenization: 100%|██████████| 1/1 [00:00<00:00, 654.13it/s]\n",
      "Inference:   0%|          | 0/1 [00:00<?, ?it/s]"
     ]
    },
    {
     "output_type": "stream",
     "name": "stdout",
     "text": [
      "Running pipeline ... done\n",
      "\n",
      "外部投資資料整合系統External investment information integration system\n",
      "done\n",
      "------------\n",
      "\n"
     ]
    },
    {
     "output_type": "stream",
     "name": "stderr",
     "text": [
      "Inference: 100%|██████████| 1/1 [00:00<00:00,  1.95it/s]\n",
      "Tokenization: 100%|██████████| 1/1 [00:00<00:00, 2283.24it/s]\n",
      "Inference: 100%|██████████| 1/1 [00:00<00:00,  1.11it/s]\n",
      "Tokenization: 100%|██████████| 1/1 [00:00<00:00, 1462.96it/s]\n",
      "Inference: 100%|██████████| 1/1 [00:00<00:00,  1.96it/s]\n",
      "Tokenization: 100%|██████████| 1/1 [00:00<00:00, 758.19it/s]\n",
      "Inference:   0%|          | 0/1 [00:00<?, ?it/s]"
     ]
    },
    {
     "output_type": "stream",
     "name": "stdout",
     "text": [
      "Running pipeline ... done\n",
      "\n",
      "外界交易平台資料轉換暨自動傳檔系統External trading platform data conversion and automatic file transfer system\n",
      "done\n",
      "------------\n",
      "\n"
     ]
    },
    {
     "output_type": "stream",
     "name": "stderr",
     "text": [
      "Inference: 100%|██████████| 1/1 [00:02<00:00,  2.55s/it]\n",
      "Tokenization: 100%|██████████| 1/1 [00:00<00:00, 1547.71it/s]\n",
      "Inference: 100%|██████████| 1/1 [00:10<00:00, 10.36s/it]\n",
      "Tokenization: 100%|██████████| 1/1 [00:00<00:00, 741.44it/s]\n",
      "Inference: 100%|██████████| 1/1 [00:02<00:00,  2.52s/it]\n",
      "Tokenization: 100%|██████████| 1/1 [00:00<00:00, 2584.29it/s]\n",
      "Inference:   0%|          | 0/1 [00:00<?, ?it/s]"
     ]
    },
    {
     "output_type": "stream",
     "name": "stdout",
     "text": [
      "Running pipeline ... done\n",
      "\n",
      "銀行臨櫃智慧辨識輸入裝置SMART IDENTIFICATION INPUT DEVICE FOR BANK COUNTERS\n",
      "done\n",
      "------------\n",
      "\n"
     ]
    },
    {
     "output_type": "stream",
     "name": "stderr",
     "text": [
      "Inference: 100%|██████████| 1/1 [00:00<00:00,  1.41it/s]\n",
      "Tokenization: 100%|██████████| 1/1 [00:00<00:00, 558.72it/s]\n",
      "Inference: 100%|██████████| 1/1 [00:01<00:00,  1.34s/it]\n",
      "Tokenization: 100%|██████████| 1/1 [00:00<00:00, 2048.00it/s]\n",
      "Inference: 100%|██████████| 1/1 [00:00<00:00,  1.75it/s]\n",
      "Tokenization: 100%|██████████| 1/1 [00:00<00:00, 721.54it/s]\n",
      "Inference:   0%|          | 0/1 [00:00<?, ?it/s]"
     ]
    },
    {
     "output_type": "stream",
     "name": "stdout",
     "text": [
      "Running pipeline ... done\n",
      "\n",
      "數位平台客製化功能推薦裝置Digital platform customized function recommendation device\n",
      "done\n",
      "------------\n",
      "\n"
     ]
    },
    {
     "output_type": "stream",
     "name": "stderr",
     "text": [
      "Inference: 100%|██████████| 1/1 [00:02<00:00,  2.64s/it]\n",
      "Tokenization: 100%|██████████| 1/1 [00:00<00:00, 360.99it/s]\n",
      "Inference: 100%|██████████| 1/1 [00:06<00:00,  6.16s/it]\n",
      "Tokenization: 100%|██████████| 1/1 [00:00<00:00, 864.27it/s]\n",
      "Inference: 100%|██████████| 1/1 [00:02<00:00,  2.48s/it]\n",
      "Tokenization: 100%|██████████| 1/1 [00:00<00:00, 836.85it/s]\n",
      "Inference:   0%|          | 0/1 [00:00<?, ?it/s]"
     ]
    },
    {
     "output_type": "stream",
     "name": "stdout",
     "text": [
      "Running pipeline ... done\n",
      "\n",
      "線上預約兌換新鈔裝置ON-LINE PRE-ORDER FOR EXCHANGING NEW BILL DEVICE\n",
      "done\n",
      "------------\n",
      "\n"
     ]
    },
    {
     "output_type": "stream",
     "name": "stderr",
     "text": [
      "Inference: 100%|██████████| 1/1 [00:02<00:00,  2.62s/it]\n",
      "Tokenization: 100%|██████████| 1/1 [00:00<00:00, 687.82it/s]\n",
      "Inference: 100%|██████████| 1/1 [00:27<00:00, 27.16s/it]\n",
      "Tokenization: 100%|██████████| 1/1 [00:00<00:00, 58.57it/s]\n",
      "Inference: 100%|██████████| 1/1 [00:02<00:00,  2.38s/it]\n",
      "Tokenization: 100%|██████████| 1/1 [00:00<00:00, 735.84it/s]\n",
      "Inference:   0%|          | 0/1 [00:00<?, ?it/s]"
     ]
    },
    {
     "output_type": "stream",
     "name": "stdout",
     "text": [
      "Running pipeline ... done\n",
      "\n",
      "市場風險之計提資本矯正系統SYSTEM OF MARKET RISK CHARGE CORRECTION\n",
      "done\n",
      "------------\n",
      "\n"
     ]
    },
    {
     "output_type": "stream",
     "name": "stderr",
     "text": [
      "Inference: 100%|██████████| 1/1 [00:02<00:00,  2.41s/it]\n",
      "Tokenization: 100%|██████████| 1/1 [00:00<00:00, 626.20it/s]\n",
      "Inference: 100%|██████████| 1/1 [00:10<00:00, 10.00s/it]\n",
      "Tokenization: 100%|██████████| 1/1 [00:00<00:00, 365.90it/s]\n",
      "Inference: 100%|██████████| 1/1 [00:02<00:00,  2.45s/it]\n",
      "Tokenization: 100%|██████████| 1/1 [00:00<00:00, 403.76it/s]\n",
      "Inference:   0%|          | 0/1 [00:00<?, ?it/s]"
     ]
    },
    {
     "output_type": "stream",
     "name": "stdout",
     "text": [
      "Running pipeline ... done\n",
      "\n",
      "智慧帳號辨識系統SMART ACCOUNT IDENTIFICATION SYSTEM\n",
      "done\n",
      "------------\n",
      "\n"
     ]
    },
    {
     "output_type": "stream",
     "name": "stderr",
     "text": [
      "Inference: 100%|██████████| 1/1 [00:00<00:00,  1.53it/s]\n",
      "Tokenization: 100%|██████████| 1/1 [00:00<00:00, 1079.89it/s]\n",
      "Inference: 100%|██████████| 1/1 [00:01<00:00,  1.21s/it]\n",
      "Tokenization: 100%|██████████| 1/1 [00:00<00:00, 482.60it/s]\n",
      "Inference: 100%|██████████| 1/1 [00:00<00:00,  1.46it/s]\n",
      "Tokenization: 100%|██████████| 1/1 [00:00<00:00, 1927.53it/s]\n",
      "Inference:   0%|          | 0/1 [00:00<?, ?it/s]"
     ]
    },
    {
     "output_type": "stream",
     "name": "stdout",
     "text": [
      "Running pipeline ... done\n",
      "\n",
      "政府採購網押標金之收款流程線上化及交易流程優化之裝置Device for online collection and transaction process optimization of bid bond of government procurement net\n",
      "done\n",
      "------------\n",
      "\n"
     ]
    },
    {
     "output_type": "stream",
     "name": "stderr",
     "text": [
      "Inference: 100%|██████████| 1/1 [00:00<00:00,  1.18it/s]\n",
      "Tokenization: 100%|██████████| 1/1 [00:00<00:00, 1538.63it/s]\n",
      "Inference: 100%|██████████| 1/1 [00:01<00:00,  1.68s/it]\n",
      "Tokenization: 100%|██████████| 1/1 [00:00<00:00, 1597.83it/s]\n",
      "Inference: 100%|██████████| 1/1 [00:00<00:00,  1.18it/s]\n",
      "Tokenization: 100%|██████████| 1/1 [00:00<00:00, 419.81it/s]\n",
      "Inference:   0%|          | 0/1 [00:00<?, ?it/s]"
     ]
    },
    {
     "output_type": "stream",
     "name": "stdout",
     "text": [
      "Running pipeline ... done\n",
      "\n",
      "中央機關收款作業導入行動支付的線上付款裝置Online payment device for the introduction of mobile payment in the collection operation of the central authority\n",
      "done\n",
      "------------\n",
      "\n"
     ]
    },
    {
     "output_type": "stream",
     "name": "stderr",
     "text": [
      "Inference: 100%|██████████| 1/1 [00:03<00:00,  3.85s/it]\n",
      "Tokenization: 100%|██████████| 1/1 [00:00<00:00, 817.44it/s]\n",
      "Inference: 100%|██████████| 1/1 [00:33<00:00, 33.08s/it]\n",
      "Tokenization: 100%|██████████| 1/1 [00:00<00:00, 69.33it/s]\n",
      "Inference: 100%|██████████| 1/1 [00:03<00:00,  3.60s/it]\n",
      "Tokenization: 100%|██████████| 1/1 [00:00<00:00, 774.57it/s]\n",
      "Inference:   0%|          | 0/1 [00:00<?, ?it/s]"
     ]
    },
    {
     "output_type": "stream",
     "name": "stdout",
     "text": [
      "Running pipeline ... done\n",
      "\n",
      "聯合貸款風險評估裝置JOINT LOAN RISK EVLUATION DEVICE\n",
      "done\n",
      "------------\n",
      "\n"
     ]
    },
    {
     "output_type": "stream",
     "name": "stderr",
     "text": [
      "Inference: 100%|██████████| 1/1 [00:02<00:00,  2.45s/it]\n",
      "Tokenization: 100%|██████████| 1/1 [00:00<00:00, 417.22it/s]\n",
      "Inference: 100%|██████████| 1/1 [00:03<00:00,  3.60s/it]\n",
      "Tokenization: 100%|██████████| 1/1 [00:00<00:00, 640.55it/s]\n",
      "Inference: 100%|██████████| 1/1 [00:02<00:00,  2.56s/it]\n",
      "Tokenization: 100%|██████████| 1/1 [00:00<00:00, 581.01it/s]\n",
      "Inference:   0%|          | 0/1 [00:00<?, ?it/s]"
     ]
    },
    {
     "output_type": "stream",
     "name": "stdout",
     "text": [
      "Running pipeline ... done\n",
      "\n",
      "檔案自動訂閱派送系統AUTOMATIC FILE SUBSCRIPTION DELIVERY SYSTEM\n",
      "done\n",
      "------------\n",
      "\n"
     ]
    },
    {
     "output_type": "stream",
     "name": "stderr",
     "text": [
      "Inference: 100%|██████████| 1/1 [00:03<00:00,  3.64s/it]\n",
      "Tokenization: 100%|██████████| 1/1 [00:00<00:00, 767.34it/s]\n",
      "Inference: 100%|██████████| 1/1 [00:25<00:00, 25.03s/it]\n",
      "Tokenization: 100%|██████████| 1/1 [00:00<00:00, 74.14it/s]\n",
      "Inference: 100%|██████████| 1/1 [00:03<00:00,  3.59s/it]\n",
      "Tokenization: 100%|██████████| 1/1 [00:00<00:00, 939.16it/s]\n",
      "Inference:   0%|          | 0/1 [00:00<?, ?it/s]"
     ]
    },
    {
     "output_type": "stream",
     "name": "stdout",
     "text": [
      "Running pipeline ... done\n",
      "\n",
      "銀行內部之信用風險評估系統INTERNAL SYSTEM OF BANK FOR CREIDT RISK EVLUATION\n",
      "done\n",
      "------------\n",
      "\n"
     ]
    },
    {
     "output_type": "stream",
     "name": "stderr",
     "text": [
      "Inference: 100%|██████████| 1/1 [00:02<00:00,  2.45s/it]\n",
      "Tokenization: 100%|██████████| 1/1 [00:00<00:00, 706.23it/s]\n",
      "Inference: 100%|██████████| 1/1 [00:11<00:00, 11.26s/it]\n",
      "Tokenization: 100%|██████████| 1/1 [00:00<00:00, 290.18it/s]\n",
      "Inference: 100%|██████████| 1/1 [00:02<00:00,  2.48s/it]\n",
      "Tokenization: 100%|██████████| 1/1 [00:00<00:00, 642.71it/s]\n",
      "Inference:   0%|          | 0/1 [00:00<?, ?it/s]"
     ]
    },
    {
     "output_type": "stream",
     "name": "stdout",
     "text": [
      "Running pipeline ... done\n",
      "\n",
      "金融機構之特定商家推薦裝置SPECIFIC MERCHANT RECOMMENDATION DEVICE OF FINANCIAL INSTITUTIONS\n",
      "done\n",
      "------------\n",
      "\n"
     ]
    },
    {
     "output_type": "stream",
     "name": "stderr",
     "text": [
      "Inference: 100%|██████████| 1/1 [00:03<00:00,  3.63s/it]\n",
      "Tokenization: 100%|██████████| 1/1 [00:00<00:00, 819.04it/s]\n",
      "Inference: 100%|██████████| 1/1 [00:30<00:00, 30.65s/it]\n",
      "Tokenization: 100%|██████████| 1/1 [00:00<00:00, 89.82it/s]\n",
      "Inference: 100%|██████████| 1/1 [00:03<00:00,  3.65s/it]\n",
      "Tokenization: 100%|██████████| 1/1 [00:00<00:00, 932.07it/s]\n",
      "Inference:   0%|          | 0/1 [00:00<?, ?it/s]"
     ]
    },
    {
     "output_type": "stream",
     "name": "stdout",
     "text": [
      "Running pipeline ... done\n",
      "\n",
      "浮動匯率報價裝置QUOTATION DEVICE OF FLEXIBLE EXCHANGE RATE\n",
      "done\n",
      "------------\n",
      "\n"
     ]
    },
    {
     "output_type": "stream",
     "name": "stderr",
     "text": [
      "Inference: 100%|██████████| 1/1 [00:00<00:00,  1.88it/s]\n",
      "Tokenization: 100%|██████████| 1/1 [00:00<00:00, 1415.08it/s]\n",
      "Inference: 100%|██████████| 1/1 [00:01<00:00,  1.28s/it]\n",
      "Tokenization: 100%|██████████| 1/1 [00:00<00:00, 1338.75it/s]\n",
      "Inference: 100%|██████████| 1/1 [00:00<00:00,  1.96it/s]\n",
      "Tokenization: 100%|██████████| 1/1 [00:00<00:00, 562.39it/s]\n",
      "Inference:   0%|          | 0/1 [00:00<?, ?it/s]"
     ]
    },
    {
     "output_type": "stream",
     "name": "stdout",
     "text": [
      "Running pipeline ... done\n",
      "\n",
      "語音金融商品推薦與管理裝置Voice financial product recommendation and management device\n",
      "done\n",
      "------------\n",
      "\n"
     ]
    },
    {
     "output_type": "stream",
     "name": "stderr",
     "text": [
      "Inference: 100%|██████████| 1/1 [00:00<00:00,  1.48it/s]\n",
      "Tokenization: 100%|██████████| 1/1 [00:00<00:00, 1018.28it/s]\n",
      "Inference: 100%|██████████| 1/1 [00:01<00:00,  1.39s/it]\n",
      "Tokenization: 100%|██████████| 1/1 [00:00<00:00, 1721.80it/s]\n",
      "Inference: 100%|██████████| 1/1 [00:00<00:00,  1.54it/s]\n",
      "Tokenization: 100%|██████████| 1/1 [00:00<00:00, 1572.67it/s]\n",
      "Inference:   0%|          | 0/1 [00:00<?, ?it/s]"
     ]
    },
    {
     "output_type": "stream",
     "name": "stdout",
     "text": [
      "Running pipeline ... done\n",
      "\n",
      "運用擴增實境與影像辨識技術於團體線上逛街購物裝置Group online shopping device using augmented reality and image recognition technology\n",
      "done\n",
      "------------\n",
      "\n"
     ]
    },
    {
     "output_type": "stream",
     "name": "stderr",
     "text": [
      "Inference: 100%|██████████| 1/1 [00:00<00:00,  1.41it/s]\n",
      "Tokenization: 100%|██████████| 1/1 [00:00<00:00, 1520.23it/s]\n",
      "Inference: 100%|██████████| 1/1 [00:01<00:00,  1.40s/it]\n",
      "Tokenization: 100%|██████████| 1/1 [00:00<00:00, 2075.36it/s]\n",
      "Inference: 100%|██████████| 1/1 [00:00<00:00,  1.41it/s]\n",
      "Tokenization: 100%|██████████| 1/1 [00:00<00:00, 728.30it/s]\n",
      "Inference:   0%|          | 0/1 [00:00<?, ?it/s]"
     ]
    },
    {
     "output_type": "stream",
     "name": "stdout",
     "text": [
      "Running pipeline ... done\n",
      "\n",
      "市場風險壓力測試系統及方法MARKET RISK STRESS TEST SYSTEM AND METHOD\n",
      "done\n",
      "------------\n",
      "\n"
     ]
    },
    {
     "output_type": "stream",
     "name": "stderr",
     "text": [
      "Inference: 100%|██████████| 1/1 [00:03<00:00,  3.72s/it]\n",
      "Tokenization: 100%|██████████| 1/1 [00:00<00:00, 714.29it/s]\n",
      "Inference: 100%|██████████| 1/1 [00:09<00:00,  9.91s/it]\n",
      "Tokenization: 100%|██████████| 1/1 [00:00<00:00, 326.91it/s]\n",
      "Inference: 100%|██████████| 1/1 [00:04<00:00,  4.01s/it]\n",
      "Tokenization: 100%|██████████| 1/1 [00:00<00:00, 3806.08it/s]\n",
      "Inference:   0%|          | 0/1 [00:00<?, ?it/s]"
     ]
    },
    {
     "output_type": "stream",
     "name": "stdout",
     "text": [
      "Running pipeline ... done\n",
      "\n",
      "傳票掃描自動檢核裝置VOUCHER SCANNING AND AUTOMATIC VERIFICATION DEVICE\n",
      "done\n",
      "------------\n",
      "\n"
     ]
    },
    {
     "output_type": "stream",
     "name": "stderr",
     "text": [
      "Inference: 100%|██████████| 1/1 [00:00<00:00,  3.36it/s]\n",
      "Tokenization: 100%|██████████| 1/1 [00:00<00:00, 3106.89it/s]\n",
      "Inference: 100%|██████████| 1/1 [00:00<00:00,  2.34it/s]\n",
      "Tokenization: 100%|██████████| 1/1 [00:00<00:00, 2434.30it/s]\n",
      "Inference: 100%|██████████| 1/1 [00:00<00:00,  3.74it/s]\n",
      "Tokenization: 100%|██████████| 1/1 [00:00<00:00, 2409.13it/s]\n",
      "Inference:   0%|          | 0/1 [00:00<?, ?it/s]"
     ]
    },
    {
     "output_type": "stream",
     "name": "stdout",
     "text": [
      "Running pipeline ... done\n",
      "\n",
      "提升電子簽名軌跡辨識率之系統System for improving recognition rate of electronic signature trajectory\n",
      "done\n",
      "------------\n",
      "\n"
     ]
    },
    {
     "output_type": "stream",
     "name": "stderr",
     "text": [
      "Inference: 100%|██████████| 1/1 [00:00<00:00,  1.85it/s]\n",
      "Tokenization: 100%|██████████| 1/1 [00:00<00:00, 1519.68it/s]\n",
      "Inference: 100%|██████████| 1/1 [00:01<00:00,  1.09s/it]\n",
      "Tokenization: 100%|██████████| 1/1 [00:00<00:00, 1424.70it/s]\n",
      "Inference: 100%|██████████| 1/1 [00:00<00:00,  2.13it/s]\n",
      "Tokenization: 100%|██████████| 1/1 [00:00<00:00, 3266.59it/s]\n",
      "Inference:   0%|          | 0/1 [00:00<?, ?it/s]"
     ]
    },
    {
     "output_type": "stream",
     "name": "stdout",
     "text": [
      "Running pipeline ... done\n",
      "\n",
      "授信覆審系統Credit review system\n",
      "done\n",
      "------------\n",
      "\n"
     ]
    },
    {
     "output_type": "stream",
     "name": "stderr",
     "text": [
      "Inference: 100%|██████████| 1/1 [00:00<00:00,  2.15it/s]\n",
      "Tokenization: 100%|██████████| 1/1 [00:00<00:00, 1695.35it/s]\n",
      "Inference: 100%|██████████| 1/1 [00:00<00:00,  1.03it/s]\n",
      "Tokenization: 100%|██████████| 1/1 [00:00<00:00, 3374.34it/s]\n",
      "Inference: 100%|██████████| 1/1 [00:00<00:00,  1.98it/s]\n",
      "Tokenization: 100%|██████████| 1/1 [00:00<00:00, 2816.86it/s]\n",
      "Inference:   0%|          | 0/1 [00:00<?, ?it/s]"
     ]
    },
    {
     "output_type": "stream",
     "name": "stdout",
     "text": [
      "Running pipeline ... done\n",
      "\n",
      "授信貸後追蹤考核系統Loan tracking assessment system\n",
      "done\n",
      "------------\n",
      "\n"
     ]
    },
    {
     "output_type": "stream",
     "name": "stderr",
     "text": [
      "Inference: 100%|██████████| 1/1 [00:00<00:00,  2.43it/s]\n",
      "Tokenization: 100%|██████████| 1/1 [00:00<00:00, 1797.82it/s]\n",
      "Inference: 100%|██████████| 1/1 [00:00<00:00,  1.68it/s]\n",
      "Tokenization: 100%|██████████| 1/1 [00:00<00:00, 3401.71it/s]\n",
      "Inference: 100%|██████████| 1/1 [00:00<00:00,  2.49it/s]\n",
      "Tokenization: 100%|██████████| 1/1 [00:00<00:00, 1663.75it/s]\n",
      "Inference:   0%|          | 0/1 [00:00<?, ?it/s]"
     ]
    },
    {
     "output_type": "stream",
     "name": "stdout",
     "text": [
      "Running pipeline ... done\n",
      "\n",
      "理專及客戶生活圈配適裝置Financial specialist and customer living circle fitting device\n",
      "done\n",
      "------------\n",
      "\n"
     ]
    },
    {
     "output_type": "stream",
     "name": "stderr",
     "text": [
      "Inference: 100%|██████████| 1/1 [00:00<00:00,  1.76it/s]\n",
      "Tokenization: 100%|██████████| 1/1 [00:00<00:00, 2723.57it/s]\n",
      "Inference: 100%|██████████| 1/1 [00:00<00:00,  1.20it/s]\n",
      "Tokenization: 100%|██████████| 1/1 [00:00<00:00, 2716.52it/s]\n",
      "Inference: 100%|██████████| 1/1 [00:00<00:00,  1.87it/s]\n",
      "Tokenization: 100%|██████████| 1/1 [00:00<00:00, 2045.00it/s]\n",
      "Inference:   0%|          | 0/1 [00:00<?, ?it/s]"
     ]
    },
    {
     "output_type": "stream",
     "name": "stdout",
     "text": [
      "Running pipeline ... done\n",
      "\n",
      "理財錄音系統Finance audio-recording system\n",
      "done\n",
      "------------\n",
      "\n"
     ]
    },
    {
     "output_type": "stream",
     "name": "stderr",
     "text": [
      "Inference: 100%|██████████| 1/1 [00:00<00:00,  1.93it/s]\n",
      "Tokenization: 100%|██████████| 1/1 [00:00<00:00, 2025.26it/s]\n",
      "Inference: 100%|██████████| 1/1 [00:01<00:00,  1.14s/it]\n",
      "Tokenization: 100%|██████████| 1/1 [00:00<00:00, 2584.29it/s]\n",
      "Inference: 100%|██████████| 1/1 [00:00<00:00,  1.97it/s]\n",
      "Tokenization: 100%|██████████| 1/1 [00:00<00:00, 2247.75it/s]\n",
      "Inference:   0%|          | 0/1 [00:00<?, ?it/s]"
     ]
    },
    {
     "output_type": "stream",
     "name": "stdout",
     "text": [
      "Running pipeline ... done\n",
      "\n",
      "定位支付裝置Positioning payment device\n",
      "done\n",
      "------------\n",
      "\n"
     ]
    },
    {
     "output_type": "stream",
     "name": "stderr",
     "text": [
      "Inference: 100%|██████████| 1/1 [00:00<00:00,  2.01it/s]\n",
      "Tokenization: 100%|██████████| 1/1 [00:00<00:00, 2707.75it/s]\n",
      "Inference: 100%|██████████| 1/1 [00:00<00:00,  1.13it/s]\n",
      "Tokenization: 100%|██████████| 1/1 [00:00<00:00, 2816.86it/s]\n",
      "Inference: 100%|██████████| 1/1 [00:00<00:00,  1.94it/s]\n",
      "Tokenization: 100%|██████████| 1/1 [00:00<00:00, 4048.56it/s]\n",
      "Inference:   0%|          | 0/1 [00:00<?, ?it/s]"
     ]
    },
    {
     "output_type": "stream",
     "name": "stdout",
     "text": [
      "Running pipeline ... done\n",
      "\n",
      "手寫支付裝置Handwriting payment device\n",
      "done\n",
      "------------\n",
      "\n"
     ]
    },
    {
     "output_type": "stream",
     "name": "stderr",
     "text": [
      "Inference: 100%|██████████| 1/1 [00:00<00:00,  2.95it/s]\n",
      "Tokenization: 100%|██████████| 1/1 [00:00<00:00, 2695.57it/s]\n",
      "Inference: 100%|██████████| 1/1 [00:00<00:00,  1.62it/s]\n",
      "Tokenization: 100%|██████████| 1/1 [00:00<00:00, 2457.12it/s]\n",
      "Inference: 100%|██████████| 1/1 [00:00<00:00,  2.41it/s]\n",
      "Tokenization: 100%|██████████| 1/1 [00:00<00:00, 1499.57it/s]\n",
      "Inference:   0%|          | 0/1 [00:00<?, ?it/s]"
     ]
    },
    {
     "output_type": "stream",
     "name": "stdout",
     "text": [
      "Running pipeline ... done\n",
      "\n",
      "金融商品銷售人員資格維護系統Financial commodity sales personnel qualification maintenance system\n",
      "done\n",
      "------------\n",
      "\n"
     ]
    },
    {
     "output_type": "stream",
     "name": "stderr",
     "text": [
      "Inference: 100%|██████████| 1/1 [00:00<00:00,  2.25it/s]\n",
      "Tokenization: 100%|██████████| 1/1 [00:00<00:00, 2900.63it/s]\n",
      "Inference: 100%|██████████| 1/1 [00:00<00:00,  1.14it/s]\n",
      "Tokenization: 100%|██████████| 1/1 [00:00<00:00, 3509.88it/s]\n",
      "Inference: 100%|██████████| 1/1 [00:00<00:00,  2.82it/s]\n",
      "Tokenization: 100%|██████████| 1/1 [00:00<00:00, 1880.01it/s]\n",
      "Inference:   0%|          | 0/1 [00:00<?, ?it/s]"
     ]
    },
    {
     "output_type": "stream",
     "name": "stdout",
     "text": [
      "Running pipeline ... done\n",
      "\n",
      "資安檢測系統Information security detection system\n",
      "done\n",
      "------------\n",
      "\n"
     ]
    },
    {
     "output_type": "stream",
     "name": "stderr",
     "text": [
      "Inference: 100%|██████████| 1/1 [00:00<00:00,  2.14it/s]\n",
      "Tokenization: 100%|██████████| 1/1 [00:00<00:00, 1244.97it/s]\n",
      "Inference: 100%|██████████| 1/1 [00:00<00:00,  1.01it/s]\n",
      "Tokenization: 100%|██████████| 1/1 [00:00<00:00, 1222.83it/s]\n",
      "Inference: 100%|██████████| 1/1 [00:00<00:00,  1.72it/s]\n",
      "Tokenization: 100%|██████████| 1/1 [00:00<00:00, 1715.46it/s]\n",
      "Inference:   0%|          | 0/1 [00:00<?, ?it/s]"
     ]
    },
    {
     "output_type": "stream",
     "name": "stdout",
     "text": [
      "Running pipeline ... done\n",
      "\n",
      "網路攻擊分析系統Cyber attack analysis system\n",
      "done\n",
      "------------\n",
      "\n"
     ]
    },
    {
     "output_type": "stream",
     "name": "stderr",
     "text": [
      "Inference: 100%|██████████| 1/1 [00:00<00:00,  1.21it/s]\n",
      "Tokenization: 100%|██████████| 1/1 [00:00<00:00, 722.53it/s]\n",
      "Inference: 100%|██████████| 1/1 [00:01<00:00,  1.05s/it]\n",
      "Tokenization: 100%|██████████| 1/1 [00:00<00:00, 1134.82it/s]\n",
      "Inference: 100%|██████████| 1/1 [00:00<00:00,  1.30it/s]\n",
      "Tokenization: 100%|██████████| 1/1 [00:00<00:00, 1340.03it/s]\n",
      "Inference:   0%|          | 0/1 [00:00<?, ?it/s]"
     ]
    },
    {
     "output_type": "stream",
     "name": "stdout",
     "text": [
      "Running pipeline ... done\n",
      "\n",
      "行動支付子帳戶系統MOBILE PAYMENT SUB-ACCOUNT SYSTEM\n",
      "done\n",
      "------------\n",
      "\n"
     ]
    },
    {
     "output_type": "stream",
     "name": "stderr",
     "text": [
      "Inference: 100%|██████████| 1/1 [00:00<00:00,  2.03it/s]\n",
      "Tokenization: 100%|██████████| 1/1 [00:00<00:00, 594.85it/s]\n",
      "Inference: 100%|██████████| 1/1 [00:00<00:00,  1.11it/s]\n",
      "Tokenization: 100%|██████████| 1/1 [00:00<00:00, 3390.71it/s]\n",
      "Inference: 100%|██████████| 1/1 [00:00<00:00,  2.02it/s]\n",
      "Tokenization: 100%|██████████| 1/1 [00:00<00:00, 1132.68it/s]\n",
      "Inference:   0%|          | 0/1 [00:00<?, ?it/s]"
     ]
    },
    {
     "output_type": "stream",
     "name": "stdout",
     "text": [
      "Running pipeline ... done\n",
      "\n",
      "自動偵測繳費編碼之繳費機台及其繳費機工作流程AUTOMATICALLY DETECT THE CODED PAYMENT MACHINE AND ITS PAYMENT MACHINE WORKFLOW\n",
      "done\n",
      "------------\n",
      "\n"
     ]
    },
    {
     "output_type": "stream",
     "name": "stderr",
     "text": [
      "Inference: 100%|██████████| 1/1 [00:00<00:00,  2.59it/s]\n",
      "Tokenization: 100%|██████████| 1/1 [00:00<00:00, 2987.40it/s]\n",
      "Inference: 100%|██████████| 1/1 [00:00<00:00,  1.75it/s]\n",
      "Tokenization: 100%|██████████| 1/1 [00:00<00:00, 1227.12it/s]\n",
      "Inference: 100%|██████████| 1/1 [00:00<00:00,  2.76it/s]\n",
      "Tokenization: 100%|██████████| 1/1 [00:00<00:00, 2959.99it/s]\n",
      "Inference:   0%|          | 0/1 [00:00<?, ?it/s]"
     ]
    },
    {
     "output_type": "stream",
     "name": "stdout",
     "text": [
      "Running pipeline ... done\n",
      "\n",
      "可供線上買賣之外匯投資系統及其方法FOREIGN EXCHANGE INVESTMENT SYSTEM AND METHOD FOR ONLINE TRADING\n",
      "done\n",
      "------------\n",
      "\n"
     ]
    },
    {
     "output_type": "stream",
     "name": "stderr",
     "text": [
      "Inference: 100%|██████████| 1/1 [00:00<00:00,  1.89it/s]\n",
      "Tokenization: 100%|██████████| 1/1 [00:00<00:00, 2968.37it/s]\n",
      "Inference: 100%|██████████| 1/1 [00:01<00:00,  1.11s/it]\n",
      "Tokenization: 100%|██████████| 1/1 [00:00<00:00, 2914.74it/s]\n",
      "Inference: 100%|██████████| 1/1 [00:00<00:00,  1.95it/s]\n",
      "Tokenization: 100%|██████████| 1/1 [00:00<00:00, 3313.04it/s]\n",
      "Inference:   0%|          | 0/1 [00:00<?, ?it/s]"
     ]
    },
    {
     "output_type": "stream",
     "name": "stdout",
     "text": [
      "Running pipeline ... done\n",
      "\n",
      "線上智慧手機打卡確認裝置Online smart phone check-in confirmation device\n",
      "done\n",
      "------------\n",
      "\n"
     ]
    },
    {
     "output_type": "stream",
     "name": "stderr",
     "text": [
      "Inference: 100%|██████████| 1/1 [00:00<00:00,  2.21it/s]\n",
      "Tokenization: 100%|██████████| 1/1 [00:00<00:00, 2053.01it/s]\n",
      "Inference: 100%|██████████| 1/1 [00:00<00:00,  1.69it/s]\n",
      "Tokenization: 100%|██████████| 1/1 [00:00<00:00, 3355.44it/s]\n",
      "Inference: 100%|██████████| 1/1 [00:00<00:00,  2.20it/s]\n",
      "Tokenization: 100%|██████████| 1/1 [00:00<00:00, 1054.91it/s]\n",
      "Inference:   0%|          | 0/1 [00:00<?, ?it/s]"
     ]
    },
    {
     "output_type": "stream",
     "name": "stdout",
     "text": [
      "Running pipeline ... done\n",
      "\n",
      "生理訊號感測筆與具有生理訊號感測功能之書寫系統Physiological signal sensing pen and writing system with physiological signal sensing function\n",
      "done\n",
      "------------\n",
      "\n"
     ]
    },
    {
     "output_type": "stream",
     "name": "stderr",
     "text": [
      "Inference: 100%|██████████| 1/1 [00:00<00:00,  1.82it/s]\n",
      "Tokenization: 100%|██████████| 1/1 [00:00<00:00, 2004.93it/s]\n",
      "Inference: 100%|██████████| 1/1 [00:01<00:00,  1.47s/it]\n",
      "Tokenization: 100%|██████████| 1/1 [00:00<00:00, 1618.17it/s]\n",
      "Inference: 100%|██████████| 1/1 [00:00<00:00,  1.80it/s]\n",
      "Tokenization: 100%|██████████| 1/1 [00:00<00:00, 1672.37it/s]\n",
      "Inference:   0%|          | 0/1 [00:00<?, ?it/s]"
     ]
    },
    {
     "output_type": "stream",
     "name": "stdout",
     "text": [
      "Running pipeline ... done\n",
      "\n",
      "結合就學貸款之學雜費繳費單產製裝置Tuition and miscellaneous fee payment billing system combined with school loan\n",
      "done\n",
      "------------\n",
      "\n"
     ]
    },
    {
     "output_type": "stream",
     "name": "stderr",
     "text": [
      "Inference: 100%|██████████| 1/1 [00:00<00:00,  1.77it/s]\n",
      "Tokenization: 100%|██████████| 1/1 [00:00<00:00, 3039.35it/s]\n",
      "Inference: 100%|██████████| 1/1 [00:00<00:00,  1.09it/s]\n",
      "Tokenization: 100%|██████████| 1/1 [00:00<00:00, 1763.05it/s]\n",
      "Inference: 100%|██████████| 1/1 [00:00<00:00,  1.62it/s]\n",
      "Tokenization: 100%|██████████| 1/1 [00:00<00:00, 2067.18it/s]\n",
      "Inference:   0%|          | 0/1 [00:00<?, ?it/s]"
     ]
    },
    {
     "output_type": "stream",
     "name": "stdout",
     "text": [
      "Running pipeline ... done\n",
      "\n",
      "線上註冊系統Online registration system\n",
      "done\n",
      "------------\n",
      "\n"
     ]
    },
    {
     "output_type": "stream",
     "name": "stderr",
     "text": [
      "Inference: 100%|██████████| 1/1 [00:00<00:00,  1.86it/s]\n",
      "Tokenization: 100%|██████████| 1/1 [00:00<00:00, 2695.57it/s]\n",
      "Inference: 100%|██████████| 1/1 [00:01<00:00,  1.02s/it]\n",
      "Tokenization: 100%|██████████| 1/1 [00:00<00:00, 2922.86it/s]\n",
      "Inference: 100%|██████████| 1/1 [00:00<00:00,  1.78it/s]\n",
      "Tokenization: 100%|██████████| 1/1 [00:00<00:00, 744.07it/s]\n",
      "Inference:   0%|          | 0/1 [00:00<?, ?it/s]"
     ]
    },
    {
     "output_type": "stream",
     "name": "stdout",
     "text": [
      "Running pipeline ... done\n",
      "\n",
      "導引網頁的中台系統WEBPAGE NAVIGATION INTERMEDIARY SYSTEM\n",
      "done\n",
      "------------\n",
      "\n"
     ]
    },
    {
     "output_type": "stream",
     "name": "stderr",
     "text": [
      "Inference: 100%|██████████| 1/1 [00:03<00:00,  3.86s/it]\n",
      "Tokenization: 100%|██████████| 1/1 [00:00<00:00, 998.17it/s]\n",
      "Inference: 100%|██████████| 1/1 [00:19<00:00, 19.17s/it]\n",
      "Tokenization: 100%|██████████| 1/1 [00:00<00:00, 186.60it/s]\n",
      "Inference: 100%|██████████| 1/1 [00:04<00:00,  4.80s/it]\n",
      "Tokenization: 100%|██████████| 1/1 [00:00<00:00, 760.39it/s]\n",
      "Inference:   0%|          | 0/1 [00:00<?, ?it/s]"
     ]
    },
    {
     "output_type": "stream",
     "name": "stdout",
     "text": [
      "Running pipeline ... done\n",
      "\n",
      "洗錢防制法疑似案例輔助判斷系統MONEY LAUNDERING PREVENTION LAW AND SUSPECTED CASE AID JUDGMENT SYSTEM\n",
      "done\n",
      "------------\n",
      "\n"
     ]
    },
    {
     "output_type": "stream",
     "name": "stderr",
     "text": [
      "Inference: 100%|██████████| 1/1 [00:00<00:00,  1.00it/s]\n",
      "Tokenization: 100%|██████████| 1/1 [00:00<00:00, 353.09it/s]\n",
      "Inference: 100%|██████████| 1/1 [00:01<00:00,  1.17s/it]\n",
      "Tokenization: 100%|██████████| 1/1 [00:00<00:00, 1984.06it/s]\n",
      "Inference: 100%|██████████| 1/1 [00:00<00:00,  1.33it/s]\n",
      "Tokenization: 100%|██████████| 1/1 [00:00<00:00, 1353.00it/s]\n",
      "Inference:   0%|          | 0/1 [00:00<?, ?it/s]"
     ]
    },
    {
     "output_type": "stream",
     "name": "stdout",
     "text": [
      "Running pipeline ... done\n",
      "\n",
      "自動催收貸款及代位償還計算裝置DEVICE OF AUTOMATIC LOAN COLLECTION AND CALCULATION FOR THE PREPAYMENT IN SUBROGATION\n",
      "done\n",
      "------------\n",
      "\n"
     ]
    },
    {
     "output_type": "stream",
     "name": "stderr",
     "text": [
      "Inference: 100%|██████████| 1/1 [00:00<00:00,  1.38it/s]\n",
      "Tokenization: 100%|██████████| 1/1 [00:00<00:00, 1019.27it/s]\n",
      "Inference: 100%|██████████| 1/1 [00:01<00:00,  1.08s/it]\n",
      "Tokenization: 100%|██████████| 1/1 [00:00<00:00, 1281.88it/s]\n",
      "Inference: 100%|██████████| 1/1 [00:00<00:00,  1.67it/s]\n",
      "Tokenization: 100%|██████████| 1/1 [00:00<00:00, 607.96it/s]\n",
      "Inference:   0%|          | 0/1 [00:00<?, ?it/s]"
     ]
    },
    {
     "output_type": "stream",
     "name": "stdout",
     "text": [
      "Running pipeline ... done\n",
      "\n",
      "滲透測試個案建議系統Penetration testing for case suggestion system\n",
      "done\n",
      "------------\n",
      "\n"
     ]
    },
    {
     "output_type": "stream",
     "name": "stderr",
     "text": [
      "Inference: 100%|██████████| 1/1 [00:04<00:00,  4.13s/it]\n",
      "Tokenization: 100%|██████████| 1/1 [00:00<00:00, 715.39it/s]\n",
      "Inference: 100%|██████████| 1/1 [00:09<00:00,  9.33s/it]\n",
      "Tokenization: 100%|██████████| 1/1 [00:00<00:00, 278.78it/s]\n",
      "Inference: 100%|██████████| 1/1 [00:03<00:00,  3.56s/it]\n",
      "Tokenization: 100%|██████████| 1/1 [00:00<00:00, 2023.30it/s]\n",
      "Inference:   0%|          | 0/1 [00:00<?, ?it/s]"
     ]
    },
    {
     "output_type": "stream",
     "name": "stdout",
     "text": [
      "Running pipeline ... done\n",
      "\n",
      "具指紋辨識功能之銀行內部系統身份認證裝置BANK INTERNAL SYSTEM IDENTITY AUTHENTICATION DEVICE WITH FINGERPRINT IDENTIFICATION FUNCTION\n",
      "done\n",
      "------------\n",
      "\n"
     ]
    },
    {
     "output_type": "stream",
     "name": "stderr",
     "text": [
      "Inference: 100%|██████████| 1/1 [00:00<00:00,  1.78it/s]\n",
      "Tokenization: 100%|██████████| 1/1 [00:00<00:00, 2128.01it/s]\n",
      "Inference: 100%|██████████| 1/1 [00:00<00:00,  1.24it/s]\n",
      "Tokenization: 100%|██████████| 1/1 [00:00<00:00, 2582.70it/s]\n",
      "Inference: 100%|██████████| 1/1 [00:00<00:00,  1.64it/s]\n",
      "Tokenization: 100%|██████████| 1/1 [00:00<00:00, 1683.78it/s]\n",
      "Inference:   0%|          | 0/1 [00:00<?, ?it/s]"
     ]
    },
    {
     "output_type": "stream",
     "name": "stdout",
     "text": [
      "Running pipeline ... done\n",
      "\n",
      "消費者債務清理系統Consumer debt clearing system\n",
      "done\n",
      "------------\n",
      "\n"
     ]
    },
    {
     "output_type": "stream",
     "name": "stderr",
     "text": [
      "Inference: 100%|██████████| 1/1 [00:00<00:00,  1.72it/s]\n",
      "Tokenization: 100%|██████████| 1/1 [00:00<00:00, 1636.48it/s]\n",
      "Inference: 100%|██████████| 1/1 [00:00<00:00,  1.09it/s]\n",
      "Tokenization: 100%|██████████| 1/1 [00:00<00:00, 1271.00it/s]\n",
      "Inference: 100%|██████████| 1/1 [00:00<00:00,  1.54it/s]\n",
      "Tokenization: 100%|██████████| 1/1 [00:00<00:00, 1059.70it/s]\n",
      "Inference:   0%|          | 0/1 [00:00<?, ?it/s]"
     ]
    },
    {
     "output_type": "stream",
     "name": "stdout",
     "text": [
      "Running pipeline ... done\n",
      "\n",
      "待辦事項管理系統To-do management system\n",
      "done\n",
      "------------\n",
      "\n"
     ]
    },
    {
     "output_type": "stream",
     "name": "stderr",
     "text": [
      "Inference: 100%|██████████| 1/1 [00:00<00:00,  1.00it/s]\n",
      "Tokenization: 100%|██████████| 1/1 [00:00<00:00, 1663.75it/s]\n",
      "Inference: 100%|██████████| 1/1 [00:02<00:00,  2.28s/it]\n",
      "Tokenization: 100%|██████████| 1/1 [00:00<00:00, 1303.39it/s]\n",
      "Inference: 100%|██████████| 1/1 [00:00<00:00,  1.24it/s]\n",
      "Tokenization: 100%|██████████| 1/1 [00:00<00:00, 1321.04it/s]\n",
      "Inference:   0%|          | 0/1 [00:00<?, ?it/s]"
     ]
    },
    {
     "output_type": "stream",
     "name": "stdout",
     "text": [
      "Running pipeline ... done\n",
      "\n",
      "繳費裝置Payment device\n",
      "done\n",
      "------------\n",
      "\n"
     ]
    },
    {
     "output_type": "stream",
     "name": "stderr",
     "text": [
      "Inference: 100%|██████████| 1/1 [00:00<00:00,  1.28it/s]\n",
      "Tokenization: 100%|██████████| 1/1 [00:00<00:00, 1446.81it/s]\n",
      "Inference: 100%|██████████| 1/1 [00:01<00:00,  1.17s/it]\n",
      "Tokenization: 100%|██████████| 1/1 [00:00<00:00, 2050.00it/s]\n",
      "Inference: 100%|██████████| 1/1 [00:00<00:00,  1.27it/s]\n",
      "Tokenization: 100%|██████████| 1/1 [00:00<00:00, 2922.86it/s]\n",
      "Inference:   0%|          | 0/1 [00:00<?, ?it/s]"
     ]
    },
    {
     "output_type": "stream",
     "name": "stdout",
     "text": [
      "Running pipeline ... done\n",
      "\n",
      "身分認證系統Identity verification system\n",
      "done\n",
      "------------\n",
      "\n"
     ]
    },
    {
     "output_type": "stream",
     "name": "stderr",
     "text": [
      "Inference: 100%|██████████| 1/1 [00:00<00:00,  1.81it/s]\n",
      "Tokenization: 100%|██████████| 1/1 [00:00<00:00, 1834.78it/s]\n",
      "Inference: 100%|██████████| 1/1 [00:01<00:00,  1.48s/it]\n",
      "Tokenization: 100%|██████████| 1/1 [00:00<00:00, 2748.56it/s]\n",
      "Inference: 100%|██████████| 1/1 [00:00<00:00,  1.79it/s]\n",
      "Tokenization: 100%|██████████| 1/1 [00:00<00:00, 2589.08it/s]\n",
      "Inference:   0%|          | 0/1 [00:00<?, ?it/s]"
     ]
    },
    {
     "output_type": "stream",
     "name": "stdout",
     "text": [
      "Running pipeline ... done\n",
      "\n",
      "無卡提款裝置Cardless withdrawal device\n",
      "done\n",
      "------------\n",
      "\n"
     ]
    },
    {
     "output_type": "stream",
     "name": "stderr",
     "text": [
      "Inference: 100%|██████████| 1/1 [00:00<00:00,  2.34it/s]\n",
      "Tokenization: 100%|██████████| 1/1 [00:00<00:00, 2841.67it/s]\n",
      "Inference: 100%|██████████| 1/1 [00:01<00:00,  1.20s/it]\n",
      "Tokenization: 100%|██████████| 1/1 [00:00<00:00, 2753.98it/s]\n",
      "Inference: 100%|██████████| 1/1 [00:00<00:00,  2.36it/s]\n",
      "Tokenization: 100%|██████████| 1/1 [00:00<00:00, 2187.95it/s]\n",
      "Inference:   0%|          | 0/1 [00:00<?, ?it/s]"
     ]
    },
    {
     "output_type": "stream",
     "name": "stdout",
     "text": [
      "Running pipeline ... done\n",
      "\n",
      "交易監控裝置Transaction monitoring device\n",
      "done\n",
      "------------\n",
      "\n"
     ]
    },
    {
     "output_type": "stream",
     "name": "stderr",
     "text": [
      "Inference: 100%|██████████| 1/1 [00:00<00:00,  1.41it/s]\n",
      "Tokenization: 100%|██████████| 1/1 [00:00<00:00, 2770.35it/s]\n",
      "Inference: 100%|██████████| 1/1 [00:01<00:00,  1.20s/it]\n",
      "Tokenization: 100%|██████████| 1/1 [00:00<00:00, 1729.61it/s]\n",
      "Inference: 100%|██████████| 1/1 [00:00<00:00,  1.61it/s]\n",
      "Tokenization: 100%|██████████| 1/1 [00:00<00:00, 725.66it/s]\n",
      "Inference:   0%|          | 0/1 [00:00<?, ?it/s]"
     ]
    },
    {
     "output_type": "stream",
     "name": "stdout",
     "text": [
      "Running pipeline ... done\n",
      "\n",
      "用自然人憑證進行就學貸款續借申請裝置Apparatus for applying for renewal of school loan with natural person credentials\n",
      "done\n",
      "------------\n",
      "\n"
     ]
    },
    {
     "output_type": "stream",
     "name": "stderr",
     "text": [
      "Inference: 100%|██████████| 1/1 [00:00<00:00,  2.92it/s]\n",
      "Tokenization: 100%|██████████| 1/1 [00:00<00:00, 3204.20it/s]\n",
      "Inference: 100%|██████████| 1/1 [00:00<00:00,  2.21it/s]\n",
      "Tokenization: 100%|██████████| 1/1 [00:00<00:00, 3833.92it/s]\n",
      "Inference: 100%|██████████| 1/1 [00:00<00:00,  2.95it/s]\n",
      "Tokenization: 100%|██████████| 1/1 [00:00<00:00, 1650.65it/s]\n",
      "Inference:   0%|          | 0/1 [00:00<?, ?it/s]"
     ]
    },
    {
     "output_type": "stream",
     "name": "stdout",
     "text": [
      "Running pipeline ... done\n",
      "\n",
      "一種智慧取號系統及其運作方法A SMART NUMBER TAKING SYSTEM AND NUMBER TAKING METHOD THEREOF\n",
      "done\n",
      "------------\n",
      "\n"
     ]
    },
    {
     "output_type": "stream",
     "name": "stderr",
     "text": [
      "Inference: 100%|██████████| 1/1 [00:00<00:00,  1.84it/s]\n",
      "Tokenization: 100%|██████████| 1/1 [00:00<00:00, 2807.43it/s]\n",
      "Inference: 100%|██████████| 1/1 [00:01<00:00,  1.24s/it]\n",
      "Tokenization: 100%|██████████| 1/1 [00:00<00:00, 1927.53it/s]\n",
      "Inference: 100%|██████████| 1/1 [00:00<00:00,  1.95it/s]\n",
      "Tokenization: 100%|██████████| 1/1 [00:00<00:00, 2826.35it/s]\n",
      "Inference:   0%|          | 0/1 [00:00<?, ?it/s]"
     ]
    },
    {
     "output_type": "stream",
     "name": "stdout",
     "text": [
      "Running pipeline ... done\n",
      "\n",
      "企金大數據貸款裝置Enterprise GOLD big data loan device\n",
      "done\n",
      "------------\n",
      "\n"
     ]
    },
    {
     "output_type": "stream",
     "name": "stderr",
     "text": [
      "Inference: 100%|██████████| 1/1 [00:00<00:00,  2.74it/s]\n",
      "Tokenization: 100%|██████████| 1/1 [00:00<00:00, 1956.30it/s]\n",
      "Inference: 100%|██████████| 1/1 [00:00<00:00,  1.24it/s]\n",
      "Tokenization: 100%|██████████| 1/1 [00:00<00:00, 2770.35it/s]\n",
      "Inference: 100%|██████████| 1/1 [00:00<00:00,  2.74it/s]\n",
      "Tokenization: 100%|██████████| 1/1 [00:00<00:00, 2761.23it/s]\n",
      "Inference:   0%|          | 0/1 [00:00<?, ?it/s]"
     ]
    },
    {
     "output_type": "stream",
     "name": "stdout",
     "text": [
      "Running pipeline ... done\n",
      "\n",
      "記憶密碼裝置Memory password device\n",
      "done\n",
      "------------\n",
      "\n"
     ]
    },
    {
     "output_type": "stream",
     "name": "stderr",
     "text": [
      "Inference: 100%|██████████| 1/1 [00:00<00:00,  1.89it/s]\n",
      "Tokenization: 100%|██████████| 1/1 [00:00<00:00, 1496.90it/s]\n",
      "Inference: 100%|██████████| 1/1 [00:00<00:00,  1.12it/s]\n",
      "Tokenization: 100%|██████████| 1/1 [00:00<00:00, 566.95it/s]\n",
      "Inference: 100%|██████████| 1/1 [00:00<00:00,  1.71it/s]\n",
      "Tokenization: 100%|██████████| 1/1 [00:00<00:00, 1111.07it/s]\n",
      "Inference:   0%|          | 0/1 [00:00<?, ?it/s]"
     ]
    },
    {
     "output_type": "stream",
     "name": "stdout",
     "text": [
      "Running pipeline ... done\n",
      "\n",
      "財務困窘警示系統Financial distress alert system\n",
      "done\n",
      "------------\n",
      "\n"
     ]
    },
    {
     "output_type": "stream",
     "name": "stderr",
     "text": [
      "Inference: 100%|██████████| 1/1 [00:00<00:00,  1.27it/s]\n",
      "Tokenization: 100%|██████████| 1/1 [00:00<00:00, 1779.51it/s]\n",
      "Inference: 100%|██████████| 1/1 [00:01<00:00,  1.28s/it]\n",
      "Tokenization: 100%|██████████| 1/1 [00:00<00:00, 2104.52it/s]\n",
      "Inference: 100%|██████████| 1/1 [00:00<00:00,  1.36it/s]\n",
      "Tokenization: 100%|██████████| 1/1 [00:00<00:00, 2511.56it/s]\n",
      "Inference:   0%|          | 0/1 [00:00<?, ?it/s]"
     ]
    },
    {
     "output_type": "stream",
     "name": "stdout",
     "text": [
      "Running pipeline ... done\n",
      "\n",
      "租賃合約作業系統Rental contract operating system\n",
      "done\n",
      "------------\n",
      "\n"
     ]
    },
    {
     "output_type": "stream",
     "name": "stderr",
     "text": [
      "Inference: 100%|██████████| 1/1 [00:00<00:00,  1.78it/s]\n",
      "Tokenization: 100%|██████████| 1/1 [00:00<00:00, 2966.27it/s]\n",
      "Inference: 100%|██████████| 1/1 [00:00<00:00,  1.07it/s]\n",
      "Tokenization: 100%|██████████| 1/1 [00:00<00:00, 3206.65it/s]\n",
      "Inference: 100%|██████████| 1/1 [00:00<00:00,  1.85it/s]\n",
      "Tokenization: 100%|██████████| 1/1 [00:00<00:00, 2032.12it/s]\n",
      "Inference:   0%|          | 0/1 [00:00<?, ?it/s]"
     ]
    },
    {
     "output_type": "stream",
     "name": "stdout",
     "text": [
      "Running pipeline ... done\n",
      "\n",
      "橫向溝通考核系統Lateral communication assessment system\n",
      "done\n",
      "------------\n",
      "\n"
     ]
    },
    {
     "output_type": "stream",
     "name": "stderr",
     "text": [
      "Inference: 100%|██████████| 1/1 [00:00<00:00,  2.54it/s]\n",
      "Tokenization: 100%|██████████| 1/1 [00:00<00:00, 3214.03it/s]\n",
      "Inference: 100%|██████████| 1/1 [00:01<00:00,  1.25s/it]\n",
      "Tokenization: 100%|██████████| 1/1 [00:00<00:00, 2959.99it/s]\n",
      "Inference: 100%|██████████| 1/1 [00:00<00:00,  2.39it/s]\n",
      "Tokenization: 100%|██████████| 1/1 [00:00<00:00, 1553.45it/s]\n",
      "Inference:   0%|          | 0/1 [00:00<?, ?it/s]"
     ]
    },
    {
     "output_type": "stream",
     "name": "stdout",
     "text": [
      "Running pipeline ... done\n",
      "\n",
      "核心帳務主機監控方法\n",
      "done\n",
      "------------\n",
      "\n"
     ]
    },
    {
     "output_type": "stream",
     "name": "stderr",
     "text": [
      "Inference: 100%|██████████| 1/1 [00:00<00:00,  2.11it/s]\n",
      "Tokenization: 100%|██████████| 1/1 [00:00<00:00, 896.22it/s]\n",
      "Inference: 100%|██████████| 1/1 [00:01<00:00,  1.24s/it]\n",
      "Tokenization: 100%|██████████| 1/1 [00:00<00:00, 2951.66it/s]\n",
      "Inference: 100%|██████████| 1/1 [00:00<00:00,  2.28it/s]\n",
      "Tokenization: 100%|██████████| 1/1 [00:00<00:00, 2445.66it/s]\n",
      "Inference:   0%|          | 0/1 [00:00<?, ?it/s]"
     ]
    },
    {
     "output_type": "stream",
     "name": "stdout",
     "text": [
      "Running pipeline ... done\n",
      "\n",
      "行動支付團體合照付款電子裝置Payment electronic device of mobile payment group photo\n",
      "done\n",
      "------------\n",
      "\n"
     ]
    },
    {
     "output_type": "stream",
     "name": "stderr",
     "text": [
      "Inference: 100%|██████████| 1/1 [00:00<00:00,  2.16it/s]\n",
      "Tokenization: 100%|██████████| 1/1 [00:00<00:00, 2785.06it/s]\n",
      "Inference: 100%|██████████| 1/1 [00:01<00:00,  1.03s/it]\n",
      "Tokenization: 100%|██████████| 1/1 [00:00<00:00, 2711.25it/s]\n",
      "Inference: 100%|██████████| 1/1 [00:00<00:00,  2.14it/s]\n",
      "Tokenization: 100%|██████████| 1/1 [00:00<00:00, 3226.39it/s]\n",
      "Inference:   0%|          | 0/1 [00:00<?, ?it/s]"
     ]
    },
    {
     "output_type": "stream",
     "name": "stdout",
     "text": [
      "Running pipeline ... done\n",
      "\n",
      "應用全球定位系統之無卡提款業務裝置Cardless withdrawal service device using global positioning system\n",
      "done\n",
      "------------\n",
      "\n"
     ]
    },
    {
     "output_type": "stream",
     "name": "stderr",
     "text": [
      "Inference: 100%|██████████| 1/1 [00:00<00:00,  2.65it/s]\n",
      "Tokenization: 100%|██████████| 1/1 [00:00<00:00, 2849.39it/s]\n",
      "Inference: 100%|██████████| 1/1 [00:00<00:00,  1.70it/s]\n",
      "Tokenization: 100%|██████████| 1/1 [00:00<00:00, 3446.43it/s]\n",
      "Inference: 100%|██████████| 1/1 [00:00<00:00,  2.59it/s]\n",
      "Tokenization: 100%|██████████| 1/1 [00:00<00:00, 1933.75it/s]\n",
      "Inference:   0%|          | 0/1 [00:00<?, ?it/s]"
     ]
    },
    {
     "output_type": "stream",
     "name": "stdout",
     "text": [
      "Running pipeline ... done\n",
      "\n",
      "跨應用服務之安控應用裝置Security application device across application services\n",
      "done\n",
      "------------\n",
      "\n"
     ]
    },
    {
     "output_type": "stream",
     "name": "stderr",
     "text": [
      "Inference: 100%|██████████| 1/1 [00:00<00:00,  1.37it/s]\n",
      "Tokenization: 100%|██████████| 1/1 [00:00<00:00, 1402.31it/s]\n",
      "Inference: 100%|██████████| 1/1 [00:01<00:00,  1.87s/it]\n",
      "Tokenization: 100%|██████████| 1/1 [00:00<00:00, 1711.96it/s]\n",
      "Inference: 100%|██████████| 1/1 [00:00<00:00,  1.22it/s]\n",
      "Tokenization: 100%|██████████| 1/1 [00:00<00:00, 2462.89it/s]\n",
      "Inference:   0%|          | 0/1 [00:00<?, ?it/s]"
     ]
    },
    {
     "output_type": "stream",
     "name": "stdout",
     "text": [
      "Running pipeline ... done\n",
      "\n",
      "行動網路銀行應用程式用戶登入位置GPS偵測警示裝置User login location GPS detection alert device of mobile internet banking application\n",
      "done\n",
      "------------\n",
      "\n"
     ]
    },
    {
     "output_type": "stream",
     "name": "stderr",
     "text": [
      "Inference: 100%|██████████| 1/1 [00:00<00:00,  1.57it/s]\n",
      "Tokenization: 100%|██████████| 1/1 [00:00<00:00, 3030.57it/s]\n",
      "Inference: 100%|██████████| 1/1 [00:01<00:00,  1.08s/it]\n",
      "Tokenization: 100%|██████████| 1/1 [00:00<00:00, 1128.71it/s]\n",
      "Inference: 100%|██████████| 1/1 [00:00<00:00,  1.56it/s]\n",
      "Tokenization: 100%|██████████| 1/1 [00:00<00:00, 3483.64it/s]\n",
      "Inference:   0%|          | 0/1 [00:00<?, ?it/s]"
     ]
    },
    {
     "output_type": "stream",
     "name": "stdout",
     "text": [
      "Running pipeline ... done\n",
      "\n",
      "金融資料分析系統Financial data analysis system\n",
      "done\n",
      "------------\n",
      "\n"
     ]
    },
    {
     "output_type": "stream",
     "name": "stderr",
     "text": [
      "Inference: 100%|██████████| 1/1 [00:00<00:00,  2.01it/s]\n",
      "Tokenization: 100%|██████████| 1/1 [00:00<00:00, 2576.35it/s]\n",
      "Inference: 100%|██████████| 1/1 [00:00<00:00,  1.14it/s]\n",
      "Tokenization: 100%|██████████| 1/1 [00:00<00:00, 2352.39it/s]\n",
      "Inference: 100%|██████████| 1/1 [00:00<00:00,  1.43it/s]\n",
      "Tokenization: 100%|██████████| 1/1 [00:00<00:00, 1436.41it/s]\n",
      "Inference:   0%|          | 0/1 [00:00<?, ?it/s]"
     ]
    },
    {
     "output_type": "stream",
     "name": "stdout",
     "text": [
      "Running pipeline ... done\n",
      "\n",
      "金融商品評價資料調整系統Financial commodity evaluation data adjustment system\n",
      "done\n",
      "------------\n",
      "\n"
     ]
    },
    {
     "output_type": "stream",
     "name": "stderr",
     "text": [
      "Inference: 100%|██████████| 1/1 [00:00<00:00,  1.12it/s]\n",
      "Tokenization: 100%|██████████| 1/1 [00:00<00:00, 1416.52it/s]\n",
      "Inference: 100%|██████████| 1/1 [00:01<00:00,  1.18s/it]\n",
      "Tokenization: 100%|██████████| 1/1 [00:00<00:00, 1855.89it/s]\n",
      "Inference: 100%|██████████| 1/1 [00:00<00:00,  1.78it/s]\n",
      "Tokenization: 100%|██████████| 1/1 [00:00<00:00, 2036.07it/s]\n",
      "Inference:   0%|          | 0/1 [00:00<?, ?it/s]"
     ]
    },
    {
     "output_type": "stream",
     "name": "stdout",
     "text": [
      "Running pipeline ... done\n",
      "\n",
      "金融系統資料轉換裝置FINANCIAL SYSTEM DATA CONVERSION DEVICE\n",
      "done\n",
      "------------\n",
      "\n"
     ]
    },
    {
     "output_type": "stream",
     "name": "stderr",
     "text": [
      "Inference: 100%|██████████| 1/1 [00:00<00:00,  1.94it/s]\n",
      "Tokenization: 100%|██████████| 1/1 [00:00<00:00, 875.09it/s]\n",
      "Inference: 100%|██████████| 1/1 [00:00<00:00,  1.28it/s]\n",
      "Tokenization: 100%|██████████| 1/1 [00:00<00:00, 3292.23it/s]\n",
      "Inference: 100%|██████████| 1/1 [00:00<00:00,  1.89it/s]\n",
      "Tokenization: 100%|██████████| 1/1 [00:00<00:00, 2335.36it/s]\n",
      "Inference:   0%|          | 0/1 [00:00<?, ?it/s]"
     ]
    },
    {
     "output_type": "stream",
     "name": "stdout",
     "text": [
      "Running pipeline ... done\n",
      "\n",
      "資料管理系統A data management system\n",
      "done\n",
      "------------\n",
      "\n"
     ]
    },
    {
     "output_type": "stream",
     "name": "stderr",
     "text": [
      "Inference: 100%|██████████| 1/1 [00:00<00:00,  4.72it/s]\n",
      "Tokenization: 100%|██████████| 1/1 [00:00<00:00, 1987.82it/s]\n",
      "Inference: 100%|██████████| 1/1 [00:00<00:00,  3.70it/s]\n",
      "Tokenization: 100%|██████████| 1/1 [00:00<00:00, 4760.84it/s]\n",
      "Inference: 100%|██████████| 1/1 [00:00<00:00,  5.08it/s]\n",
      "Tokenization: 100%|██████████| 1/1 [00:00<00:00, 1156.09it/s]\n",
      "Inference:   0%|          | 0/1 [00:00<?, ?it/s]"
     ]
    },
    {
     "output_type": "stream",
     "name": "stdout",
     "text": [
      "Running pipeline ... done\n",
      "\n",
      "擔保品鑑估擴增實境系統Collateral assessment and augmented reality system\n",
      "done\n",
      "------------\n",
      "\n"
     ]
    },
    {
     "output_type": "stream",
     "name": "stderr",
     "text": [
      "Inference: 100%|██████████| 1/1 [00:00<00:00,  1.42it/s]\n",
      "Tokenization: 100%|██████████| 1/1 [00:00<00:00, 2462.89it/s]\n",
      "Inference: 100%|██████████| 1/1 [00:01<00:00,  1.06s/it]\n",
      "Tokenization: 100%|██████████| 1/1 [00:00<00:00, 1036.14it/s]\n",
      "Inference: 100%|██████████| 1/1 [00:00<00:00,  1.43it/s]\n",
      "Tokenization: 100%|██████████| 1/1 [00:00<00:00, 4629.47it/s]\n",
      "Inference:   0%|          | 0/1 [00:00<?, ?it/s]"
     ]
    },
    {
     "output_type": "stream",
     "name": "stdout",
     "text": [
      "Running pipeline ... done\n",
      "\n",
      "就學貸款申貸作業系統Operating system for applying student loan\n",
      "done\n",
      "------------\n",
      "\n"
     ]
    },
    {
     "output_type": "stream",
     "name": "stderr",
     "text": [
      "Inference: 100%|██████████| 1/1 [00:00<00:00,  2.45it/s]\n",
      "Tokenization: 100%|██████████| 1/1 [00:00<00:00, 3751.61it/s]\n",
      "Inference: 100%|██████████| 1/1 [00:00<00:00,  2.02it/s]\n",
      "Tokenization: 100%|██████████| 1/1 [00:00<00:00, 988.06it/s]\n",
      "Inference: 100%|██████████| 1/1 [00:00<00:00,  2.55it/s]\n",
      "Tokenization: 100%|██████████| 1/1 [00:00<00:00, 1540.89it/s]\n",
      "Inference:   0%|          | 0/1 [00:00<?, ?it/s]"
     ]
    },
    {
     "output_type": "stream",
     "name": "stdout",
     "text": [
      "Running pipeline ... done\n",
      "\n",
      "會計資訊發送提醒系統Accounting information sending reminder system\n",
      "done\n",
      "------------\n",
      "\n"
     ]
    },
    {
     "output_type": "stream",
     "name": "stderr",
     "text": [
      "Inference: 100%|██████████| 1/1 [00:00<00:00,  2.08it/s]\n",
      "Tokenization: 100%|██████████| 1/1 [00:00<00:00, 1215.04it/s]\n",
      "Inference: 100%|██████████| 1/1 [00:01<00:00,  1.27s/it]\n",
      "Tokenization: 100%|██████████| 1/1 [00:00<00:00, 2711.25it/s]\n",
      "Inference: 100%|██████████| 1/1 [00:00<00:00,  1.96it/s]\n",
      "Tokenization: 100%|██████████| 1/1 [00:00<00:00, 1801.68it/s]\n",
      "Inference:   0%|          | 0/1 [00:00<?, ?it/s]"
     ]
    },
    {
     "output_type": "stream",
     "name": "stdout",
     "text": [
      "Running pipeline ... done\n",
      "\n",
      "應用行動裝置GPS系統於出勤差旅報帳之裝置Device for applying mobile device GPS system to attending travel payment\n",
      "done\n",
      "------------\n",
      "\n"
     ]
    },
    {
     "output_type": "stream",
     "name": "stderr",
     "text": [
      "Inference: 100%|██████████| 1/1 [00:00<00:00,  1.58it/s]\n",
      "Tokenization: 100%|██████████| 1/1 [00:00<00:00, 1526.87it/s]\n",
      "Inference: 100%|██████████| 1/1 [00:01<00:00,  1.21s/it]\n",
      "Tokenization: 100%|██████████| 1/1 [00:00<00:00, 3134.76it/s]\n",
      "Inference: 100%|██████████| 1/1 [00:00<00:00,  1.74it/s]\n",
      "Tokenization: 100%|██████████| 1/1 [00:00<00:00, 1535.81it/s]\n",
      "Inference:   0%|          | 0/1 [00:00<?, ?it/s]"
     ]
    },
    {
     "output_type": "stream",
     "name": "stdout",
     "text": [
      "Running pipeline ... done\n",
      "\n",
      "金融服務憑證管理系統FINANCIAL SERVICE CERTIFICATE MANAGEMENT SYSTEM\n",
      "done\n",
      "------------\n",
      "\n"
     ]
    },
    {
     "output_type": "stream",
     "name": "stderr",
     "text": [
      "Inference: 100%|██████████| 1/1 [00:00<00:00,  1.69it/s]\n",
      "Tokenization: 100%|██████████| 1/1 [00:00<00:00, 1832.37it/s]\n",
      "Inference: 100%|██████████| 1/1 [00:01<00:00,  1.41s/it]\n",
      "Tokenization: 100%|██████████| 1/1 [00:00<00:00, 2169.84it/s]\n",
      "Inference: 100%|██████████| 1/1 [00:00<00:00,  1.71it/s]\n",
      "Tokenization: 100%|██████████| 1/1 [00:00<00:00, 1371.58it/s]\n",
      "Inference:   0%|          | 0/1 [00:00<?, ?it/s]"
     ]
    },
    {
     "output_type": "stream",
     "name": "stdout",
     "text": [
      "Running pipeline ... done\n",
      "\n",
      "基金保管存款餘額比對系統Fund custody deposit balance comparison system\n",
      "done\n",
      "------------\n",
      "\n"
     ]
    },
    {
     "output_type": "stream",
     "name": "stderr",
     "text": [
      "Inference: 100%|██████████| 1/1 [00:00<00:00,  1.51it/s]\n",
      "Tokenization: 100%|██████████| 1/1 [00:00<00:00, 1567.38it/s]\n",
      "Inference: 100%|██████████| 1/1 [00:01<00:00,  1.57s/it]\n",
      "Tokenization: 100%|██████████| 1/1 [00:00<00:00, 946.15it/s]\n",
      "Inference: 100%|██████████| 1/1 [00:00<00:00,  1.51it/s]\n",
      "Tokenization: 100%|██████████| 1/1 [00:00<00:00, 1319.38it/s]\n",
      "Inference:   0%|          | 0/1 [00:00<?, ?it/s]"
     ]
    },
    {
     "output_type": "stream",
     "name": "stdout",
     "text": [
      "Running pipeline ... done\n",
      "\n",
      "基金保管股票庫存比對系統Fund custody stock inventory comparison system\n",
      "done\n",
      "------------\n",
      "\n"
     ]
    },
    {
     "output_type": "stream",
     "name": "stderr",
     "text": [
      "Inference: 100%|██████████| 1/1 [00:02<00:00,  2.46s/it]\n",
      "Tokenization: 100%|██████████| 1/1 [00:00<00:00, 1207.69it/s]\n",
      "Inference: 100%|██████████| 1/1 [00:02<00:00,  2.94s/it]\n",
      "Tokenization: 100%|██████████| 1/1 [00:00<00:00, 1081.84it/s]\n",
      "Inference: 100%|██████████| 1/1 [00:02<00:00,  2.45s/it]\n",
      "Tokenization: 100%|██████████| 1/1 [00:00<00:00, 732.63it/s]\n",
      "Inference:   0%|          | 0/1 [00:00<?, ?it/s]"
     ]
    },
    {
     "output_type": "stream",
     "name": "stdout",
     "text": [
      "Running pipeline ... done\n",
      "\n",
      "整合客戶往來明細之客製化帳本及家庭帳本系統THE SYSTEM OF APPLYING CUSTOMER TRANSACTION DETAILS TO CUSTOMIZED LEDGER AND HOUSEHOLD LEDGER\n",
      "done\n",
      "------------\n",
      "\n"
     ]
    },
    {
     "output_type": "stream",
     "name": "stderr",
     "text": [
      "Inference: 100%|██████████| 1/1 [00:00<00:00,  1.43it/s]\n",
      "Tokenization: 100%|██████████| 1/1 [00:00<00:00, 2105.57it/s]\n",
      "Inference: 100%|██████████| 1/1 [00:01<00:00,  1.47s/it]\n",
      "Tokenization: 100%|██████████| 1/1 [00:00<00:00, 532.54it/s]\n",
      "Inference: 100%|██████████| 1/1 [00:00<00:00,  1.38it/s]\n",
      "Tokenization: 100%|██████████| 1/1 [00:00<00:00, 1883.39it/s]\n",
      "Inference:   0%|          | 0/1 [00:00<?, ?it/s]"
     ]
    },
    {
     "output_type": "stream",
     "name": "stdout",
     "text": [
      "Running pipeline ... done\n",
      "\n",
      "企業現金存入自動櫃員機的銷對帳提升裝置Account reconciliation improving device for enterprise cash deposit using ATM\n",
      "done\n",
      "------------\n",
      "\n"
     ]
    },
    {
     "output_type": "stream",
     "name": "stderr",
     "text": [
      "Inference: 100%|██████████| 1/1 [00:00<00:00,  1.43it/s]\n",
      "Tokenization: 100%|██████████| 1/1 [00:00<00:00, 2331.46it/s]\n",
      "Inference: 100%|██████████| 1/1 [00:02<00:00,  2.21s/it]\n",
      "Tokenization: 100%|██████████| 1/1 [00:00<00:00, 2673.23it/s]\n",
      "Inference: 100%|██████████| 1/1 [00:00<00:00,  1.48it/s]\n",
      "Tokenization: 100%|██████████| 1/1 [00:00<00:00, 2880.70it/s]\n",
      "Inference:   0%|          | 0/1 [00:00<?, ?it/s]"
     ]
    },
    {
     "output_type": "stream",
     "name": "stdout",
     "text": [
      "Running pipeline ... done\n",
      "\n",
      "以自行定義之圖形檔做為登入網路銀行之強化驗證之裝置Device for enhancing verification of logging in internet banking by using self-defined graphic file\n",
      "done\n",
      "------------\n",
      "\n"
     ]
    },
    {
     "output_type": "stream",
     "name": "stderr",
     "text": [
      "Inference: 100%|██████████| 1/1 [00:00<00:00,  1.52it/s]\n",
      "Tokenization: 100%|██████████| 1/1 [00:00<00:00, 3134.76it/s]\n",
      "Inference: 100%|██████████| 1/1 [00:01<00:00,  1.25s/it]\n",
      "Tokenization: 100%|██████████| 1/1 [00:00<00:00, 1697.41it/s]\n",
      "Inference: 100%|██████████| 1/1 [00:00<00:00,  1.58it/s]\n",
      "Tokenization: 100%|██████████| 1/1 [00:00<00:00, 2525.17it/s]\n",
      "Inference:   0%|          | 0/1 [00:00<?, ?it/s]"
     ]
    },
    {
     "output_type": "stream",
     "name": "stdout",
     "text": [
      "Running pipeline ... done\n",
      "\n",
      "匯款系統REMITTANCE SYSTEM\n",
      "done\n",
      "------------\n",
      "\n"
     ]
    },
    {
     "output_type": "stream",
     "name": "stderr",
     "text": [
      "Inference: 100%|██████████| 1/1 [00:00<00:00,  2.16it/s]\n",
      "Tokenization: 100%|██████████| 1/1 [00:00<00:00, 1387.46it/s]\n",
      "Inference: 100%|██████████| 1/1 [00:00<00:00,  1.43it/s]\n",
      "Tokenization: 100%|██████████| 1/1 [00:00<00:00, 3344.74it/s]\n",
      "Inference: 100%|██████████| 1/1 [00:00<00:00,  2.22it/s]\n",
      "Tokenization: 100%|██████████| 1/1 [00:00<00:00, 2974.68it/s]\n",
      "Inference:   0%|          | 0/1 [00:00<?, ?it/s]"
     ]
    },
    {
     "output_type": "stream",
     "name": "stdout",
     "text": [
      "Running pipeline ... done\n",
      "\n",
      "網路交易認證系統Online transaction authentication system\n",
      "done\n",
      "------------\n",
      "\n"
     ]
    },
    {
     "output_type": "stream",
     "name": "stderr",
     "text": [
      "Inference: 100%|██████████| 1/1 [00:00<00:00,  1.76it/s]\n",
      "Tokenization: 100%|██████████| 1/1 [00:00<00:00, 1626.33it/s]\n",
      "Inference: 100%|██████████| 1/1 [00:00<00:00,  1.42it/s]\n",
      "Tokenization: 100%|██████████| 1/1 [00:00<00:00, 2118.34it/s]\n",
      "Inference: 100%|██████████| 1/1 [00:00<00:00,  1.73it/s]\n",
      "Tokenization: 100%|██████████| 1/1 [00:00<00:00, 4181.76it/s]\n",
      "Inference:   0%|          | 0/1 [00:00<?, ?it/s]"
     ]
    },
    {
     "output_type": "stream",
     "name": "stdout",
     "text": [
      "Running pipeline ... done\n",
      "\n",
      "關稅配額發證系統及方法\n",
      "done\n",
      "------------\n",
      "\n"
     ]
    },
    {
     "output_type": "stream",
     "name": "stderr",
     "text": [
      "Inference: 100%|██████████| 1/1 [00:00<00:00,  3.12it/s]\n",
      "Tokenization: 100%|██████████| 1/1 [00:00<00:00, 3045.97it/s]\n",
      "Inference: 100%|██████████| 1/1 [00:00<00:00,  1.47it/s]\n",
      "Tokenization: 100%|██████████| 1/1 [00:00<00:00, 3175.10it/s]\n",
      "Inference: 100%|██████████| 1/1 [00:00<00:00,  3.14it/s]\n",
      "Tokenization: 100%|██████████| 1/1 [00:00<00:00, 766.92it/s]\n",
      "Inference:   0%|          | 0/1 [00:00<?, ?it/s]"
     ]
    },
    {
     "output_type": "stream",
     "name": "stdout",
     "text": [
      "Running pipeline ... done\n",
      "\n",
      "趣味號碼拍賣裝置Funny number auction device\n",
      "done\n",
      "------------\n",
      "\n"
     ]
    },
    {
     "output_type": "stream",
     "name": "stderr",
     "text": [
      "Inference: 100%|██████████| 1/1 [00:02<00:00,  2.42s/it]\n",
      "Tokenization: 100%|██████████| 1/1 [00:00<00:00, 1652.60it/s]\n",
      "Inference: 100%|██████████| 1/1 [00:02<00:00,  2.92s/it]\n",
      "Tokenization: 100%|██████████| 1/1 [00:00<00:00, 790.48it/s]\n",
      "Inference: 100%|██████████| 1/1 [00:02<00:00,  2.40s/it]\n",
      "Tokenization: 100%|██████████| 1/1 [00:00<00:00, 4485.89it/s]\n",
      "Inference:   0%|          | 0/1 [00:00<?, ?it/s]"
     ]
    },
    {
     "output_type": "stream",
     "name": "stdout",
     "text": [
      "Running pipeline ... done\n",
      "\n",
      "自動櫃員機結合電子發票兌換裝置AUTOMATED TELLER MACHINE INCORPORATED WITH EXCHANGING RECEIPT LOTTERY DEVICE\n",
      "done\n",
      "------------\n",
      "\n"
     ]
    },
    {
     "output_type": "stream",
     "name": "stderr",
     "text": [
      "Inference: 100%|██████████| 1/1 [00:00<00:00,  2.86it/s]\n",
      "Tokenization: 100%|██████████| 1/1 [00:00<00:00, 1873.29it/s]\n",
      "Inference: 100%|██████████| 1/1 [00:00<00:00,  1.73it/s]\n",
      "Tokenization: 100%|██████████| 1/1 [00:00<00:00, 4258.18it/s]\n",
      "Inference: 100%|██████████| 1/1 [00:00<00:00,  2.40it/s]\n",
      "Tokenization: 100%|██████████| 1/1 [00:00<00:00, 786.78it/s]\n",
      "Inference:   0%|          | 0/1 [00:00<?, ?it/s]"
     ]
    },
    {
     "output_type": "stream",
     "name": "stdout",
     "text": [
      "Running pipeline ... done\n",
      "\n",
      "客戶資料自動整合系統Customer data automatic integration system\n",
      "done\n",
      "------------\n",
      "\n"
     ]
    },
    {
     "output_type": "stream",
     "name": "stderr",
     "text": [
      "Inference: 100%|██████████| 1/1 [00:00<00:00,  1.61it/s]\n",
      "Tokenization: 100%|██████████| 1/1 [00:00<00:00, 2227.46it/s]\n",
      "Inference: 100%|██████████| 1/1 [00:01<00:00,  1.07s/it]\n",
      "Tokenization: 100%|██████████| 1/1 [00:00<00:00, 2890.63it/s]\n",
      "Inference: 100%|██████████| 1/1 [00:00<00:00,  1.61it/s]\n",
      "Tokenization: 100%|██████████| 1/1 [00:00<00:00, 2036.07it/s]\n",
      "Inference:   0%|          | 0/1 [00:00<?, ?it/s]"
     ]
    },
    {
     "output_type": "stream",
     "name": "stdout",
     "text": [
      "Running pipeline ... done\n",
      "\n",
      "保險管理方法、系統及電腦程式產品INSURANCE MANAGEMENT METHOD, SYSTEM THEREOF AND COMPUTER APPLICATION\n",
      "done\n",
      "------------\n",
      "\n"
     ]
    },
    {
     "output_type": "stream",
     "name": "stderr",
     "text": [
      "Inference: 100%|██████████| 1/1 [00:00<00:00,  1.61it/s]\n",
      "Tokenization: 100%|██████████| 1/1 [00:00<00:00, 2652.94it/s]\n",
      "Inference: 100%|██████████| 1/1 [00:00<00:00,  1.05it/s]\n",
      "Tokenization: 100%|██████████| 1/1 [00:00<00:00, 1301.77it/s]\n",
      "Inference: 100%|██████████| 1/1 [00:00<00:00,  1.62it/s]\n",
      "Tokenization: 100%|██████████| 1/1 [00:00<00:00, 2618.17it/s]\n",
      "Inference:   0%|          | 0/1 [00:00<?, ?it/s]"
     ]
    },
    {
     "output_type": "stream",
     "name": "stdout",
     "text": [
      "Running pipeline ... done\n",
      "\n",
      "職務資訊顯示系統Job description display system\n",
      "done\n",
      "------------\n",
      "\n"
     ]
    },
    {
     "output_type": "stream",
     "name": "stderr",
     "text": [
      "Inference: 100%|██████████| 1/1 [00:00<00:00,  1.93it/s]\n",
      "Tokenization: 100%|██████████| 1/1 [00:00<00:00, 1916.08it/s]\n",
      "Inference: 100%|██████████| 1/1 [00:00<00:00,  1.05it/s]\n",
      "Tokenization: 100%|██████████| 1/1 [00:00<00:00, 1422.76it/s]\n",
      "Inference: 100%|██████████| 1/1 [00:00<00:00,  1.72it/s]\n",
      "Tokenization: 100%|██████████| 1/1 [00:00<00:00, 1730.32it/s]\n",
      "Inference:   0%|          | 0/1 [00:00<?, ?it/s]"
     ]
    },
    {
     "output_type": "stream",
     "name": "stdout",
     "text": [
      "Running pipeline ... done\n",
      "\n",
      "多國語言水單產生系統Multi-language exchange memo generating system\n",
      "done\n",
      "------------\n",
      "\n"
     ]
    },
    {
     "output_type": "stream",
     "name": "stderr",
     "text": [
      "Inference: 100%|██████████| 1/1 [00:00<00:00,  1.84it/s]\n",
      "Tokenization: 100%|██████████| 1/1 [00:00<00:00, 1455.34it/s]\n",
      "Inference: 100%|██████████| 1/1 [00:00<00:00,  1.04it/s]\n",
      "Tokenization: 100%|██████████| 1/1 [00:00<00:00, 2507.06it/s]\n",
      "Inference: 100%|██████████| 1/1 [00:00<00:00,  1.83it/s]\n",
      "Tokenization: 100%|██████████| 1/1 [00:00<00:00, 2216.86it/s]\n",
      "Inference:   0%|          | 0/1 [00:00<?, ?it/s]"
     ]
    },
    {
     "output_type": "stream",
     "name": "stdout",
     "text": [
      "Running pipeline ... done\n",
      "\n",
      "行動通訊裝置Mobile communication apparatus\n",
      "done\n",
      "------------\n",
      "\n"
     ]
    },
    {
     "output_type": "stream",
     "name": "stderr",
     "text": [
      "Inference: 100%|██████████| 1/1 [00:00<00:00,  1.40it/s]\n",
      "Tokenization: 100%|██████████| 1/1 [00:00<00:00, 2122.62it/s]\n",
      "Inference: 100%|██████████| 1/1 [00:01<00:00,  1.50s/it]\n",
      "Tokenization: 100%|██████████| 1/1 [00:00<00:00, 2115.13it/s]\n",
      "Inference: 100%|██████████| 1/1 [00:00<00:00,  1.34it/s]\n",
      "Tokenization: 100%|██████████| 1/1 [00:00<00:00, 2226.28it/s]\n",
      "Inference:   0%|          | 0/1 [00:00<?, ?it/s]"
     ]
    },
    {
     "output_type": "stream",
     "name": "stdout",
     "text": [
      "Running pipeline ... done\n",
      "\n",
      "交易資料語音分析檢核之裝置Transaction data voice analysis and checking device\n",
      "done\n",
      "------------\n",
      "\n"
     ]
    },
    {
     "output_type": "stream",
     "name": "stderr",
     "text": [
      "Inference: 100%|██████████| 1/1 [00:00<00:00,  1.71it/s]\n",
      "Tokenization: 100%|██████████| 1/1 [00:00<00:00, 2222.74it/s]\n",
      "Inference: 100%|██████████| 1/1 [00:00<00:00,  1.24it/s]\n",
      "Tokenization: 100%|██████████| 1/1 [00:00<00:00, 1020.26it/s]\n",
      "Inference: 100%|██████████| 1/1 [00:00<00:00,  1.73it/s]\n",
      "Tokenization: 100%|██████████| 1/1 [00:00<00:00, 1742.54it/s]\n",
      "Inference:   0%|          | 0/1 [00:00<?, ?it/s]"
     ]
    },
    {
     "output_type": "stream",
     "name": "stdout",
     "text": [
      "Running pipeline ... done\n",
      "\n",
      "虛擬實境輔助交易系統Virtual reality auxiliary transaction system\n",
      "done\n",
      "------------\n",
      "\n"
     ]
    },
    {
     "output_type": "stream",
     "name": "stderr",
     "text": [
      "Inference: 100%|██████████| 1/1 [00:00<00:00,  1.76it/s]\n",
      "Tokenization: 100%|██████████| 1/1 [00:00<00:00, 2101.35it/s]\n",
      "Inference: 100%|██████████| 1/1 [00:01<00:00,  1.75s/it]\n",
      "Tokenization: 100%|██████████| 1/1 [00:00<00:00, 2145.42it/s]\n",
      "Inference: 100%|██████████| 1/1 [00:00<00:00,  1.63it/s]\n",
      "Tokenization: 100%|██████████| 1/1 [00:00<00:00, 2373.69it/s]\n",
      "Inference:   0%|          | 0/1 [00:00<?, ?it/s]"
     ]
    },
    {
     "output_type": "stream",
     "name": "stdout",
     "text": [
      "Running pipeline ... done\n",
      "\n",
      "車牌付款裝置License plate payment device\n",
      "done\n",
      "------------\n",
      "\n"
     ]
    },
    {
     "output_type": "stream",
     "name": "stderr",
     "text": [
      "Inference: 100%|██████████| 1/1 [00:00<00:00,  1.64it/s]\n",
      "Tokenization: 100%|██████████| 1/1 [00:00<00:00, 1123.88it/s]\n",
      "Inference: 100%|██████████| 1/1 [00:00<00:00,  1.22it/s]\n",
      "Tokenization: 100%|██████████| 1/1 [00:00<00:00, 2933.08it/s]\n",
      "Inference: 100%|██████████| 1/1 [00:00<00:00,  1.58it/s]\n",
      "Tokenization: 100%|██████████| 1/1 [00:00<00:00, 4485.89it/s]\n",
      "Inference:   0%|          | 0/1 [00:00<?, ?it/s]"
     ]
    },
    {
     "output_type": "stream",
     "name": "stdout",
     "text": [
      "Running pipeline ... done\n",
      "\n",
      "結匯系統Foreign currency exchange system\n",
      "done\n",
      "------------\n",
      "\n"
     ]
    },
    {
     "output_type": "stream",
     "name": "stderr",
     "text": [
      "Inference: 100%|██████████| 1/1 [00:00<00:00,  3.08it/s]\n",
      "Tokenization: 100%|██████████| 1/1 [00:00<00:00, 2763.05it/s]\n",
      "Inference: 100%|██████████| 1/1 [00:00<00:00,  1.84it/s]\n",
      "Tokenization: 100%|██████████| 1/1 [00:00<00:00, 1219.63it/s]\n",
      "Inference: 100%|██████████| 1/1 [00:00<00:00,  2.95it/s]\n",
      "Tokenization: 100%|██████████| 1/1 [00:00<00:00, 1633.30it/s]\n",
      "Inference:   0%|          | 0/1 [00:00<?, ?it/s]"
     ]
    },
    {
     "output_type": "stream",
     "name": "stdout",
     "text": [
      "Running pipeline ... done\n",
      "\n",
      "銀行內部風險評估暨自動產出稽核排程之系統及其方法ASSESSMENT INTERNAL RISK IN BANK AND AUTOMATIC OUTPUT AUDIT SCHEDULING SYSTEM AND METHOD\n",
      "done\n",
      "------------\n",
      "\n"
     ]
    },
    {
     "output_type": "stream",
     "name": "stderr",
     "text": [
      "Inference: 100%|██████████| 1/1 [00:00<00:00,  2.06it/s]\n",
      "Tokenization: 100%|██████████| 1/1 [00:00<00:00, 2410.52it/s]\n",
      "Inference: 100%|██████████| 1/1 [00:00<00:00,  1.18it/s]\n",
      "Tokenization: 100%|██████████| 1/1 [00:00<00:00, 2673.23it/s]\n",
      "Inference: 100%|██████████| 1/1 [00:00<00:00,  1.91it/s]\n",
      "Tokenization: 100%|██████████| 1/1 [00:00<00:00, 2321.14it/s]\n",
      "Inference:   0%|          | 0/1 [00:00<?, ?it/s]"
     ]
    },
    {
     "output_type": "stream",
     "name": "stdout",
     "text": [
      "Running pipeline ... done\n",
      "\n",
      "專戶管理系統ACCOUNT MANAGEMENT SYSTEM\n",
      "done\n",
      "------------\n",
      "\n"
     ]
    },
    {
     "output_type": "stream",
     "name": "stderr",
     "text": [
      "Inference: 100%|██████████| 1/1 [00:00<00:00,  1.65it/s]\n",
      "Tokenization: 100%|██████████| 1/1 [00:00<00:00, 1603.33it/s]\n",
      "Inference: 100%|██████████| 1/1 [00:01<00:00,  1.43s/it]\n",
      "Tokenization: 100%|██████████| 1/1 [00:00<00:00, 2257.43it/s]\n",
      "Inference: 100%|██████████| 1/1 [00:00<00:00,  1.66it/s]\n",
      "Tokenization: 100%|██████████| 1/1 [00:00<00:00, 1814.93it/s]\n",
      "Inference:   0%|          | 0/1 [00:00<?, ?it/s]"
     ]
    },
    {
     "output_type": "stream",
     "name": "stdout",
     "text": [
      "Running pipeline ... done\n",
      "\n",
      "防偽文檔系統ANTI-COUNTERFEITING DOCUMENT SYSTEM\n",
      "done\n",
      "------------\n",
      "\n"
     ]
    },
    {
     "output_type": "stream",
     "name": "stderr",
     "text": [
      "Inference: 100%|██████████| 1/1 [00:00<00:00,  1.65it/s]\n",
      "Tokenization: 100%|██████████| 1/1 [00:00<00:00, 2391.28it/s]\n",
      "Inference: 100%|██████████| 1/1 [00:01<00:00,  1.30s/it]\n",
      "Tokenization: 100%|██████████| 1/1 [00:00<00:00, 2118.34it/s]\n",
      "Inference: 100%|██████████| 1/1 [00:00<00:00,  1.64it/s]\n",
      "Tokenization: 100%|██████████| 1/1 [00:00<00:00, 2159.79it/s]\n",
      "Inference:   0%|          | 0/1 [00:00<?, ?it/s]"
     ]
    },
    {
     "output_type": "stream",
     "name": "stdout",
     "text": [
      "Running pipeline ... done\n",
      "\n",
      "提案管理系統Proposal management system\n",
      "done\n",
      "------------\n",
      "\n"
     ]
    },
    {
     "output_type": "stream",
     "name": "stderr",
     "text": [
      "Inference: 100%|██████████| 1/1 [00:00<00:00,  1.60it/s]\n",
      "Tokenization: 100%|██████████| 1/1 [00:00<00:00, 1582.76it/s]\n",
      "Inference: 100%|██████████| 1/1 [00:00<00:00,  1.05it/s]\n",
      "Tokenization: 100%|██████████| 1/1 [00:00<00:00, 1551.15it/s]\n",
      "Inference: 100%|██████████| 1/1 [00:00<00:00,  1.68it/s]\n",
      "Tokenization: 100%|██████████| 1/1 [00:00<00:00, 4500.33it/s]\n",
      "Inference:   0%|          | 0/1 [00:00<?, ?it/s]"
     ]
    },
    {
     "output_type": "stream",
     "name": "stdout",
     "text": [
      "Running pipeline ... done\n",
      "\n",
      "自動電匯解款伺服器SERVER FOR AUTOMATICALLY PROCESSING PAYMENT OF REMITTANCE\n",
      "done\n",
      "------------\n",
      "\n"
     ]
    },
    {
     "output_type": "stream",
     "name": "stderr",
     "text": [
      "Inference: 100%|██████████| 1/1 [00:00<00:00,  3.99it/s]\n",
      "Tokenization: 100%|██████████| 1/1 [00:00<00:00, 2741.38it/s]\n",
      "Inference: 100%|██████████| 1/1 [00:00<00:00,  2.54it/s]\n",
      "Tokenization: 100%|██████████| 1/1 [00:00<00:00, 4922.89it/s]\n",
      "Inference: 100%|██████████| 1/1 [00:00<00:00,  4.08it/s]\n",
      "Tokenization: 100%|██████████| 1/1 [00:00<00:00, 1769.75it/s]\n",
      "Inference:   0%|          | 0/1 [00:00<?, ?it/s]"
     ]
    },
    {
     "output_type": "stream",
     "name": "stdout",
     "text": [
      "Running pipeline ... done\n",
      "\n",
      "信用風險壓力測試系統Credit risk stress testing system\n",
      "done\n",
      "------------\n",
      "\n"
     ]
    },
    {
     "output_type": "stream",
     "name": "stderr",
     "text": [
      "Inference: 100%|██████████| 1/1 [00:00<00:00,  1.66it/s]\n",
      "Tokenization: 100%|██████████| 1/1 [00:00<00:00, 2597.09it/s]\n",
      "Inference: 100%|██████████| 1/1 [00:01<00:00,  1.23s/it]\n",
      "Tokenization: 100%|██████████| 1/1 [00:00<00:00, 2571.61it/s]\n",
      "Inference: 100%|██████████| 1/1 [00:00<00:00,  1.58it/s]\n",
      "Tokenization: 100%|██████████| 1/1 [00:00<00:00, 1865.79it/s]\n",
      "Inference:   0%|          | 0/1 [00:00<?, ?it/s]"
     ]
    },
    {
     "output_type": "stream",
     "name": "stdout",
     "text": [
      "Running pipeline ... done\n",
      "\n",
      "網路銀行系統Netwok bank system\n",
      "done\n",
      "------------\n",
      "\n"
     ]
    },
    {
     "output_type": "stream",
     "name": "stderr",
     "text": [
      "Inference: 100%|██████████| 1/1 [00:00<00:00,  1.90it/s]\n",
      "Tokenization: 100%|██████████| 1/1 [00:00<00:00, 2023.30it/s]\n",
      "Inference: 100%|██████████| 1/1 [00:01<00:00,  1.33s/it]\n",
      "Tokenization: 100%|██████████| 1/1 [00:00<00:00, 925.08it/s]\n",
      "Inference: 100%|██████████| 1/1 [00:00<00:00,  1.93it/s]\n",
      "Tokenization: 100%|██████████| 1/1 [00:00<00:00, 1715.46it/s]\n",
      "Inference:   0%|          | 0/1 [00:00<?, ?it/s]"
     ]
    },
    {
     "output_type": "stream",
     "name": "stdout",
     "text": [
      "Running pipeline ... done\n",
      "\n",
      "多憑證檢核功能之網路交易身分認證系統Network transaction identity authentication system with multi-certificate check function\n",
      "done\n",
      "------------\n",
      "\n"
     ]
    },
    {
     "output_type": "stream",
     "name": "stderr",
     "text": [
      "Inference: 100%|██████████| 1/1 [00:00<00:00,  1.72it/s]\n",
      "Tokenization: 100%|██████████| 1/1 [00:00<00:00, 1457.37it/s]\n",
      "Inference: 100%|██████████| 1/1 [00:01<00:00,  1.08s/it]\n",
      "Tokenization: 100%|██████████| 1/1 [00:00<00:00, 2855.21it/s]\n",
      "Inference: 100%|██████████| 1/1 [00:00<00:00,  1.68it/s]\n",
      "Tokenization: 100%|██████████| 1/1 [00:00<00:00, 4044.65it/s]\n",
      "Inference:   0%|          | 0/1 [00:00<?, ?it/s]"
     ]
    },
    {
     "output_type": "stream",
     "name": "stdout",
     "text": [
      "Running pipeline ... done\n",
      "\n",
      "應用程式登入系統LOGIN APPLICATION SYSTEM\n",
      "done\n",
      "------------\n",
      "\n"
     ]
    },
    {
     "output_type": "stream",
     "name": "stderr",
     "text": [
      "Inference: 100%|██████████| 1/1 [00:00<00:00,  3.68it/s]\n",
      "Tokenization: 100%|██████████| 1/1 [00:00<00:00, 1600.27it/s]\n",
      "Inference: 100%|██████████| 1/1 [00:00<00:00,  2.94it/s]\n",
      "Tokenization: 100%|██████████| 1/1 [00:00<00:00, 5152.71it/s]\n",
      "Inference: 100%|██████████| 1/1 [00:00<00:00,  4.36it/s]\n",
      "Tokenization: 100%|██████████| 1/1 [00:00<00:00, 2968.37it/s]\n",
      "Inference:   0%|          | 0/1 [00:00<?, ?it/s]"
     ]
    },
    {
     "output_type": "stream",
     "name": "stdout",
     "text": [
      "Running pipeline ... done\n",
      "\n",
      "授信貸放評估之評分等第模擬系統Rating and ranking simulation system for credit evaluation before loan\n",
      "done\n",
      "------------\n",
      "\n"
     ]
    },
    {
     "output_type": "stream",
     "name": "stderr",
     "text": [
      "Inference: 100%|██████████| 1/1 [00:00<00:00,  1.63it/s]\n",
      "Tokenization: 100%|██████████| 1/1 [00:00<00:00, 3151.24it/s]\n",
      "Inference: 100%|██████████| 1/1 [00:00<00:00,  1.00it/s]\n",
      "Tokenization: 100%|██████████| 1/1 [00:00<00:00, 871.82it/s]\n",
      "Inference: 100%|██████████| 1/1 [00:00<00:00,  1.78it/s]\n",
      "Tokenization: 100%|██████████| 1/1 [00:00<00:00, 2155.35it/s]\n",
      "Inference:   0%|          | 0/1 [00:00<?, ?it/s]"
     ]
    },
    {
     "output_type": "stream",
     "name": "stdout",
     "text": [
      "Running pipeline ... done\n",
      "\n",
      "網路銀行系統Netwok bank system\n",
      "done\n",
      "------------\n",
      "\n"
     ]
    },
    {
     "output_type": "stream",
     "name": "stderr",
     "text": [
      "Inference: 100%|██████████| 1/1 [00:00<00:00,  1.65it/s]\n",
      "Tokenization: 100%|██████████| 1/1 [00:00<00:00, 1818.08it/s]\n",
      "Inference: 100%|██████████| 1/1 [00:00<00:00,  1.10it/s]\n",
      "Tokenization: 100%|██████████| 1/1 [00:00<00:00, 2066.16it/s]\n",
      "Inference: 100%|██████████| 1/1 [00:00<00:00,  1.52it/s]\n",
      "Tokenization: 100%|██████████| 1/1 [00:00<00:00, 2551.28it/s]\n",
      "Inference:   0%|          | 0/1 [00:00<?, ?it/s]"
     ]
    },
    {
     "output_type": "stream",
     "name": "stdout",
     "text": [
      "Running pipeline ... done\n",
      "\n",
      "核配系統及關稅配額核配管理方法\n",
      "done\n",
      "------------\n",
      "\n"
     ]
    },
    {
     "output_type": "stream",
     "name": "stderr",
     "text": [
      "Inference: 100%|██████████| 1/1 [00:00<00:00,  1.57it/s]\n",
      "Tokenization: 100%|██████████| 1/1 [00:00<00:00, 1312.36it/s]\n",
      "Inference: 100%|██████████| 1/1 [00:01<00:00,  1.32s/it]\n",
      "Tokenization: 100%|██████████| 1/1 [00:00<00:00, 1321.04it/s]\n",
      "Inference: 100%|██████████| 1/1 [00:00<00:00,  1.74it/s]\n",
      "Tokenization: 100%|██████████| 1/1 [00:00<00:00, 4048.56it/s]\n",
      "Inference:   0%|          | 0/1 [00:00<?, ?it/s]"
     ]
    },
    {
     "output_type": "stream",
     "name": "stdout",
     "text": [
      "Running pipeline ... done\n",
      "\n",
      "現金流入庫管理系統與方法、現金流管理系統與方法\n",
      "done\n",
      "------------\n",
      "\n"
     ]
    },
    {
     "output_type": "stream",
     "name": "stderr",
     "text": [
      "Inference: 100%|██████████| 1/1 [00:00<00:00,  2.76it/s]\n",
      "Tokenization: 100%|██████████| 1/1 [00:00<00:00, 3830.41it/s]\n",
      "Inference: 100%|██████████| 1/1 [00:00<00:00,  1.54it/s]\n",
      "Tokenization: 100%|██████████| 1/1 [00:00<00:00, 3688.92it/s]\n",
      "Inference: 100%|██████████| 1/1 [00:00<00:00,  2.58it/s]\n",
      "Tokenization: 100%|██████████| 1/1 [00:00<00:00, 748.72it/s]\n",
      "Inference:   0%|          | 0/1 [00:00<?, ?it/s]"
     ]
    },
    {
     "output_type": "stream",
     "name": "stdout",
     "text": [
      "Running pipeline ... done\n",
      "\n",
      "投資管理系統Investment management system\n",
      "done\n",
      "------------\n",
      "\n"
     ]
    },
    {
     "output_type": "stream",
     "name": "stderr",
     "text": [
      "Inference: 100%|██████████| 1/1 [00:02<00:00,  2.41s/it]\n",
      "Tokenization: 100%|██████████| 1/1 [00:00<00:00, 914.19it/s]\n",
      "Inference: 100%|██████████| 1/1 [00:08<00:00,  8.13s/it]\n",
      "Tokenization: 100%|██████████| 1/1 [00:00<00:00, 330.26it/s]\n",
      "Inference: 100%|██████████| 1/1 [00:02<00:00,  2.53s/it]\n",
      "Tokenization: 100%|██████████| 1/1 [00:00<00:00, 1526.87it/s]\n",
      "Inference:   0%|          | 0/1 [00:00<?, ?it/s]"
     ]
    },
    {
     "output_type": "stream",
     "name": "stdout",
     "text": [
      "Running pipeline ... done\n",
      "\n",
      "客訴管理系統CUSTOMER COMPLAINT MANAGEMENT SYSTEM\n",
      "done\n",
      "------------\n",
      "\n"
     ]
    },
    {
     "output_type": "stream",
     "name": "stderr",
     "text": [
      "Inference: 100%|██████████| 1/1 [00:00<00:00,  1.70it/s]\n",
      "Tokenization: 100%|██████████| 1/1 [00:00<00:00, 1170.94it/s]\n",
      "Inference: 100%|██████████| 1/1 [00:00<00:00,  1.27it/s]\n",
      "Tokenization: 100%|██████████| 1/1 [00:00<00:00, 2078.45it/s]\n",
      "Inference: 100%|██████████| 1/1 [00:00<00:00,  1.97it/s]\n",
      "Tokenization: 100%|██████████| 1/1 [00:00<00:00, 2074.33it/s]\n",
      "Inference:   0%|          | 0/1 [00:00<?, ?it/s]"
     ]
    },
    {
     "output_type": "stream",
     "name": "stdout",
     "text": [
      "Running pipeline ... done\n",
      "\n",
      "資訊服務可用性管理系統Information service availability management system\n",
      "done\n",
      "------------\n",
      "\n"
     ]
    },
    {
     "output_type": "stream",
     "name": "stderr",
     "text": [
      "Inference: 100%|██████████| 1/1 [00:00<00:00,  1.90it/s]\n",
      "Tokenization: 100%|██████████| 1/1 [00:00<00:00, 1249.79it/s]\n",
      "Inference: 100%|██████████| 1/1 [00:00<00:00,  1.19it/s]\n",
      "Tokenization: 100%|██████████| 1/1 [00:00<00:00, 2024.28it/s]\n",
      "Inference: 100%|██████████| 1/1 [00:00<00:00,  1.78it/s]\n",
      "Tokenization: 100%|██████████| 1/1 [00:00<00:00, 1330.26it/s]\n",
      "Inference:   0%|          | 0/1 [00:00<?, ?it/s]"
     ]
    },
    {
     "output_type": "stream",
     "name": "stdout",
     "text": [
      "Running pipeline ... done\n",
      "\n",
      "行動裝置轉帳系統Mobile device fund transfer system\n",
      "done\n",
      "------------\n",
      "\n"
     ]
    },
    {
     "output_type": "stream",
     "name": "stderr",
     "text": [
      "Inference: 100%|██████████| 1/1 [00:00<00:00,  1.55it/s]\n",
      "Tokenization: 100%|██████████| 1/1 [00:00<00:00, 1280.31it/s]\n",
      "Inference: 100%|██████████| 1/1 [00:01<00:00,  1.11s/it]\n",
      "Tokenization: 100%|██████████| 1/1 [00:00<00:00, 1009.22it/s]\n",
      "Inference: 100%|██████████| 1/1 [00:00<00:00,  2.21it/s]\n",
      "Tokenization: 100%|██████████| 1/1 [00:00<00:00, 3144.16it/s]\n",
      "Inference:   0%|          | 0/1 [00:00<?, ?it/s]"
     ]
    },
    {
     "output_type": "stream",
     "name": "stdout",
     "text": [
      "Running pipeline ... done\n",
      "\n",
      "團購系統Group buying system\n",
      "done\n",
      "------------\n",
      "\n"
     ]
    },
    {
     "output_type": "stream",
     "name": "stderr",
     "text": [
      "Inference: 100%|██████████| 1/1 [00:00<00:00,  2.47it/s]\n",
      "Tokenization: 100%|██████████| 1/1 [00:00<00:00, 1851.79it/s]\n",
      "Inference: 100%|██████████| 1/1 [00:00<00:00,  2.00it/s]\n",
      "Tokenization: 100%|██████████| 1/1 [00:00<00:00, 2020.38it/s]\n",
      "Inference: 100%|██████████| 1/1 [00:00<00:00,  2.61it/s]\n",
      "Tokenization: 100%|██████████| 1/1 [00:00<00:00, 2048.00it/s]\n",
      "Inference:   0%|          | 0/1 [00:00<?, ?it/s]"
     ]
    },
    {
     "output_type": "stream",
     "name": "stdout",
     "text": [
      "Running pipeline ... done\n",
      "\n",
      "指導型串接交易管理及追蹤作業系統Guiding type concatenation transaction management and tracking operation system\n",
      "done\n",
      "------------\n",
      "\n"
     ]
    },
    {
     "output_type": "stream",
     "name": "stderr",
     "text": [
      "Inference: 100%|██████████| 1/1 [00:00<00:00,  1.63it/s]\n",
      "Tokenization: 100%|██████████| 1/1 [00:00<00:00, 1428.58it/s]\n",
      "Inference: 100%|██████████| 1/1 [00:01<00:00,  1.25s/it]\n",
      "Tokenization: 100%|██████████| 1/1 [00:00<00:00, 2481.84it/s]\n",
      "Inference: 100%|██████████| 1/1 [00:00<00:00,  1.55it/s]\n",
      "Tokenization: 100%|██████████| 1/1 [00:00<00:00, 2012.62it/s]\n",
      "Inference:   0%|          | 0/1 [00:00<?, ?it/s]"
     ]
    },
    {
     "output_type": "stream",
     "name": "stdout",
     "text": [
      "Running pipeline ... done\n",
      "\n",
      "不動產交易紀錄系統Real estate transaction record system\n",
      "done\n",
      "------------\n",
      "\n"
     ]
    },
    {
     "output_type": "stream",
     "name": "stderr",
     "text": [
      "Inference: 100%|██████████| 1/1 [00:00<00:00,  3.07it/s]\n",
      "Tokenization: 100%|██████████| 1/1 [00:00<00:00, 4002.20it/s]\n",
      "Inference: 100%|██████████| 1/1 [00:00<00:00,  2.75it/s]\n",
      "Tokenization: 100%|██████████| 1/1 [00:00<00:00, 2428.66it/s]\n",
      "Inference: 100%|██████████| 1/1 [00:00<00:00,  3.56it/s]\n",
      "Tokenization: 100%|██████████| 1/1 [00:00<00:00, 1061.58it/s]\n",
      "Inference:   0%|          | 0/1 [00:00<?, ?it/s]"
     ]
    },
    {
     "output_type": "stream",
     "name": "stdout",
     "text": [
      "Running pipeline ... done\n",
      "\n",
      "一站式繳費代收系統One-stop payment collection system\n",
      "done\n",
      "------------\n",
      "\n"
     ]
    },
    {
     "output_type": "stream",
     "name": "stderr",
     "text": [
      "Inference: 100%|██████████| 1/1 [00:01<00:00,  1.04s/it]\n",
      "Tokenization: 100%|██████████| 1/1 [00:00<00:00, 873.45it/s]\n",
      "Inference: 100%|██████████| 1/1 [00:03<00:00,  3.53s/it]\n",
      "Tokenization: 100%|██████████| 1/1 [00:00<00:00, 841.22it/s]\n",
      "Inference: 100%|██████████| 1/1 [00:01<00:00,  1.35s/it]\n",
      "Tokenization: 100%|██████████| 1/1 [00:00<00:00, 393.72it/s]\n",
      "Inference:   0%|          | 0/1 [00:00<?, ?it/s]"
     ]
    },
    {
     "output_type": "stream",
     "name": "stdout",
     "text": [
      "Running pipeline ... done\n",
      "\n",
      "跨行帳號的金融授權系統FINANCIAL AUTHORIZATION SYSTEM FOR CROSS-BANK ACCOUNTS\n",
      "done\n",
      "------------\n",
      "\n"
     ]
    },
    {
     "output_type": "stream",
     "name": "stderr",
     "text": [
      "Inference: 100%|██████████| 1/1 [00:04<00:00,  4.07s/it]\n",
      "Tokenization: 100%|██████████| 1/1 [00:00<00:00, 898.33it/s]\n",
      "Inference: 100%|██████████| 1/1 [00:24<00:00, 24.70s/it]\n",
      "Tokenization: 100%|██████████| 1/1 [00:00<00:00, 59.98it/s]\n",
      "Inference: 100%|██████████| 1/1 [00:04<00:00,  4.05s/it]\n",
      "Tokenization: 100%|██████████| 1/1 [00:00<00:00, 1501.72it/s]\n",
      "Inference:   0%|          | 0/1 [00:00<?, ?it/s]"
     ]
    },
    {
     "output_type": "stream",
     "name": "stdout",
     "text": [
      "Running pipeline ... done\n",
      "\n",
      "黃金現貨交易、保管及轉換提領實體黃金系統SYSTEM FOR SPOT TRADING, CUSTODY AND WITHDRAWAL OF PHYSICAL GOLD\n",
      "done\n",
      "------------\n",
      "\n"
     ]
    },
    {
     "output_type": "stream",
     "name": "stderr",
     "text": [
      "Inference: 100%|██████████| 1/1 [00:00<00:00,  1.33it/s]\n",
      "Tokenization: 100%|██████████| 1/1 [00:00<00:00, 1070.79it/s]\n",
      "Inference: 100%|██████████| 1/1 [00:01<00:00,  1.18s/it]\n",
      "Tokenization: 100%|██████████| 1/1 [00:00<00:00, 1449.31it/s]\n",
      "Inference: 100%|██████████| 1/1 [00:00<00:00,  1.41it/s]\n",
      "Tokenization: 100%|██████████| 1/1 [00:00<00:00, 1388.84it/s]\n",
      "Inference:   0%|          | 0/1 [00:00<?, ?it/s]"
     ]
    },
    {
     "output_type": "stream",
     "name": "stdout",
     "text": [
      "Running pipeline ... done\n",
      "\n",
      "帳號自動化管理系統Automatic account management system\n",
      "done\n",
      "------------\n",
      "\n"
     ]
    },
    {
     "output_type": "stream",
     "name": "stderr",
     "text": [
      "Inference: 100%|██████████| 1/1 [00:00<00:00,  1.69it/s]\n",
      "Tokenization: 100%|██████████| 1/1 [00:00<00:00, 2673.23it/s]\n",
      "Inference: 100%|██████████| 1/1 [00:00<00:00,  1.15it/s]\n",
      "Tokenization: 100%|██████████| 1/1 [00:00<00:00, 2208.69it/s]\n",
      "Inference: 100%|██████████| 1/1 [00:00<00:00,  1.67it/s]\n",
      "Tokenization: 100%|██████████| 1/1 [00:00<00:00, 1897.88it/s]\n",
      "Inference:   0%|          | 0/1 [00:00<?, ?it/s]"
     ]
    },
    {
     "output_type": "stream",
     "name": "stdout",
     "text": [
      "Running pipeline ... done\n",
      "\n",
      "貴金屬提領預約系統PRECIOUS METAL WITHDRAWAL RESERVATION SYSTEM\n",
      "done\n",
      "------------\n",
      "\n"
     ]
    },
    {
     "output_type": "stream",
     "name": "stderr",
     "text": [
      "Inference: 100%|██████████| 1/1 [00:00<00:00,  1.82it/s]\n",
      "Tokenization: 100%|██████████| 1/1 [00:00<00:00, 1296.94it/s]\n",
      "Inference: 100%|██████████| 1/1 [00:00<00:00,  1.22it/s]\n",
      "Tokenization: 100%|██████████| 1/1 [00:00<00:00, 985.27it/s]\n",
      "Inference: 100%|██████████| 1/1 [00:00<00:00,  1.86it/s]\n",
      "Tokenization: 100%|██████████| 1/1 [00:00<00:00, 1987.82it/s]\n",
      "Inference:   0%|          | 0/1 [00:00<?, ?it/s]"
     ]
    },
    {
     "output_type": "stream",
     "name": "stdout",
     "text": [
      "Running pipeline ... done\n",
      "\n",
      "內容可索引之文件影像檔的建立方法及其索引方法METHOD FOR CREATING AND INDEXING DOCUMENT IMAGE FILE HAVING INDEXED CONTENT\n",
      "done\n",
      "------------\n",
      "\n"
     ]
    },
    {
     "output_type": "stream",
     "name": "stderr",
     "text": [
      "Inference: 100%|██████████| 1/1 [00:00<00:00,  1.72it/s]\n",
      "Tokenization: 100%|██████████| 1/1 [00:00<00:00, 2132.34it/s]\n",
      "Inference: 100%|██████████| 1/1 [00:00<00:00,  1.17it/s]\n",
      "Tokenization: 100%|██████████| 1/1 [00:00<00:00, 2597.09it/s]\n",
      "Inference: 100%|██████████| 1/1 [00:00<00:00,  1.63it/s]\n",
      "Tokenization: 100%|██████████| 1/1 [00:00<00:00, 1484.18it/s]\n",
      "Inference:   0%|          | 0/1 [00:00<?, ?it/s]"
     ]
    },
    {
     "output_type": "stream",
     "name": "stdout",
     "text": [
      "Running pipeline ... done\n",
      "\n",
      "行動網銀交易認證方法及系統\n",
      "done\n",
      "------------\n",
      "\n"
     ]
    },
    {
     "output_type": "stream",
     "name": "stderr",
     "text": [
      "Inference: 100%|██████████| 1/1 [00:00<00:00,  1.49it/s]\n",
      "Tokenization: 100%|██████████| 1/1 [00:00<00:00, 2012.62it/s]\n",
      "Inference: 100%|██████████| 1/1 [00:00<00:00,  1.11it/s]\n",
      "Tokenization: 100%|██████████| 1/1 [00:00<00:00, 717.96it/s]\n",
      "Inference: 100%|██████████| 1/1 [00:00<00:00,  1.54it/s]\n",
      "Tokenization: 100%|██████████| 1/1 [00:00<00:00, 1267.54it/s]\n",
      "Inference:   0%|          | 0/1 [00:00<?, ?it/s]"
     ]
    },
    {
     "output_type": "stream",
     "name": "stdout",
     "text": [
      "Running pipeline ... done\n",
      "\n",
      "行動支付子帳戶系統Mobile payment sub-account system\n",
      "done\n",
      "------------\n",
      "\n"
     ]
    },
    {
     "output_type": "stream",
     "name": "stderr",
     "text": [
      "Inference: 100%|██████████| 1/1 [00:00<00:00,  1.33it/s]\n",
      "Tokenization: 100%|██████████| 1/1 [00:00<00:00, 1811.79it/s]\n",
      "Inference: 100%|██████████| 1/1 [00:01<00:00,  1.28s/it]\n",
      "Tokenization: 100%|██████████| 1/1 [00:00<00:00, 2331.46it/s]\n",
      "Inference: 100%|██████████| 1/1 [00:00<00:00,  1.25it/s]\n",
      "Tokenization: 100%|██████████| 1/1 [00:00<00:00, 4739.33it/s]\n",
      "Inference:   0%|          | 0/1 [00:00<?, ?it/s]"
     ]
    },
    {
     "output_type": "stream",
     "name": "stdout",
     "text": [
      "Running pipeline ... done\n",
      "\n",
      "程式執行分析系統Program execution analysis system\n",
      "done\n",
      "------------\n",
      "\n"
     ]
    },
    {
     "output_type": "stream",
     "name": "stderr",
     "text": [
      "Inference: 100%|██████████| 1/1 [00:00<00:00,  3.24it/s]\n",
      "Tokenization: 100%|██████████| 1/1 [00:00<00:00, 1295.34it/s]\n",
      "Inference: 100%|██████████| 1/1 [00:00<00:00,  2.10it/s]\n",
      "Tokenization: 100%|██████████| 1/1 [00:00<00:00, 1515.28it/s]\n",
      "Inference: 100%|██████████| 1/1 [00:00<00:00,  3.17it/s]\n",
      "Tokenization: 100%|██████████| 1/1 [00:00<00:00, 1589.96it/s]\n",
      "Inference:   0%|          | 0/1 [00:00<?, ?it/s]"
     ]
    },
    {
     "output_type": "stream",
     "name": "stdout",
     "text": [
      "Running pipeline ... done\n",
      "\n",
      "於雲端確認動支與否之帳戶動支同意系統Account transaction consent system for confirming transaction on the cloud\n",
      "done\n",
      "------------\n",
      "\n"
     ]
    },
    {
     "output_type": "stream",
     "name": "stderr",
     "text": [
      "Inference: 100%|██████████| 1/1 [00:00<00:00,  1.74it/s]\n",
      "Tokenization: 100%|██████████| 1/1 [00:00<00:00, 761.08it/s]\n",
      "Inference: 100%|██████████| 1/1 [00:00<00:00,  1.02it/s]\n",
      "Tokenization: 100%|██████████| 1/1 [00:00<00:00, 2058.05it/s]\n",
      "Inference: 100%|██████████| 1/1 [00:00<00:00,  1.82it/s]\n",
      "Tokenization: 100%|██████████| 1/1 [00:00<00:00, 3248.88it/s]\n",
      "Inference:   0%|          | 0/1 [00:00<?, ?it/s]"
     ]
    },
    {
     "output_type": "stream",
     "name": "stdout",
     "text": [
      "Running pipeline ... done\n",
      "\n",
      "保險管理系統Insurance management system\n",
      "done\n",
      "------------\n",
      "\n"
     ]
    },
    {
     "output_type": "stream",
     "name": "stderr",
     "text": [
      "Inference: 100%|██████████| 1/1 [00:00<00:00,  1.96it/s]\n",
      "Tokenization: 100%|██████████| 1/1 [00:00<00:00, 1814.93it/s]\n",
      "Inference: 100%|██████████| 1/1 [00:00<00:00,  1.08it/s]\n",
      "Tokenization: 100%|██████████| 1/1 [00:00<00:00, 2565.32it/s]\n",
      "Inference: 100%|██████████| 1/1 [00:00<00:00,  2.16it/s]\n",
      "Tokenization: 100%|██████████| 1/1 [00:00<00:00, 465.98it/s]\n",
      "Inference:   0%|          | 0/1 [00:00<?, ?it/s]"
     ]
    },
    {
     "output_type": "stream",
     "name": "stdout",
     "text": [
      "Running pipeline ... done\n",
      "\n",
      "一鍵認證支付方法\n",
      "done\n",
      "------------\n",
      "\n"
     ]
    },
    {
     "output_type": "stream",
     "name": "stderr",
     "text": [
      "Inference: 100%|██████████| 1/1 [00:03<00:00,  3.86s/it]\n",
      "Tokenization: 100%|██████████| 1/1 [00:00<00:00, 674.33it/s]\n",
      "Inference: 100%|██████████| 1/1 [00:18<00:00, 18.75s/it]\n",
      "Tokenization: 100%|██████████| 1/1 [00:00<00:00, 145.56it/s]\n",
      "Inference: 100%|██████████| 1/1 [00:04<00:00,  4.17s/it]\n",
      "Tokenization: 100%|██████████| 1/1 [00:00<00:00, 1036.40it/s]\n",
      "Inference:   0%|          | 0/1 [00:00<?, ?it/s]"
     ]
    },
    {
     "output_type": "stream",
     "name": "stdout",
     "text": [
      "Running pipeline ... done\n",
      "\n",
      "貴重金屬產品管理系統PRECIOUS METAL PRODUCT MANAGEMENT SYSTEM\n",
      "done\n",
      "------------\n",
      "\n"
     ]
    },
    {
     "output_type": "stream",
     "name": "stderr",
     "text": [
      "Inference: 100%|██████████| 1/1 [00:00<00:00,  1.65it/s]\n",
      "Tokenization: 100%|██████████| 1/1 [00:00<00:00, 2028.19it/s]\n",
      "Inference: 100%|██████████| 1/1 [00:00<00:00,  1.40it/s]\n",
      "Tokenization: 100%|██████████| 1/1 [00:00<00:00, 2571.61it/s]\n",
      "Inference: 100%|██████████| 1/1 [00:00<00:00,  1.72it/s]\n",
      "Tokenization: 100%|██████████| 1/1 [00:00<00:00, 1975.65it/s]\n",
      "Inference:   0%|          | 0/1 [00:00<?, ?it/s]"
     ]
    },
    {
     "output_type": "stream",
     "name": "stdout",
     "text": [
      "Running pipeline ... done\n",
      "\n",
      "關稅配額發證系統Tariff quota issuance system\n",
      "done\n",
      "------------\n",
      "\n"
     ]
    },
    {
     "output_type": "stream",
     "name": "stderr",
     "text": [
      "Inference: 100%|██████████| 1/1 [00:00<00:00,  1.84it/s]\n",
      "Tokenization: 100%|██████████| 1/1 [00:00<00:00, 499.98it/s]\n",
      "Inference: 100%|██████████| 1/1 [00:00<00:00,  1.12it/s]\n",
      "Tokenization: 100%|██████████| 1/1 [00:00<00:00, 2562.19it/s]\n",
      "Inference: 100%|██████████| 1/1 [00:00<00:00,  1.88it/s]\n",
      "Tokenization: 100%|██████████| 1/1 [00:00<00:00, 1450.81it/s]\n",
      "Inference:   0%|          | 0/1 [00:00<?, ?it/s]"
     ]
    },
    {
     "output_type": "stream",
     "name": "stdout",
     "text": [
      "Running pipeline ... done\n",
      "\n",
      "限量商品的發售系統LIMITED PRODUCTS SELLING SYSTEM\n",
      "done\n",
      "------------\n",
      "\n"
     ]
    },
    {
     "output_type": "stream",
     "name": "stderr",
     "text": [
      "Inference: 100%|██████████| 1/1 [00:00<00:00,  1.61it/s]\n",
      "Tokenization: 100%|██████████| 1/1 [00:00<00:00, 1949.93it/s]\n",
      "Inference: 100%|██████████| 1/1 [00:00<00:00,  1.07it/s]\n",
      "Tokenization: 100%|██████████| 1/1 [00:00<00:00, 1107.26it/s]\n",
      "Inference: 100%|██████████| 1/1 [00:00<00:00,  1.79it/s]\n",
      "Tokenization: 100%|██████████| 1/1 [00:00<00:00, 2841.67it/s]\n",
      "Inference:   0%|          | 0/1 [00:00<?, ?it/s]"
     ]
    },
    {
     "output_type": "stream",
     "name": "stdout",
     "text": [
      "Running pipeline ... done\n",
      "\n",
      "智慧銀行櫃檯交易服務方法及系統\n",
      "done\n",
      "------------\n",
      "\n"
     ]
    },
    {
     "output_type": "stream",
     "name": "stderr",
     "text": [
      "Inference: 100%|██████████| 1/1 [00:00<00:00,  1.45it/s]\n",
      "Tokenization: 100%|██████████| 1/1 [00:00<00:00, 1779.51it/s]\n",
      "Inference: 100%|██████████| 1/1 [00:01<00:00,  1.07s/it]\n",
      "Tokenization: 100%|██████████| 1/1 [00:00<00:00, 2933.08it/s]\n",
      "Inference: 100%|██████████| 1/1 [00:00<00:00,  1.76it/s]\n",
      "Tokenization: 100%|██████████| 1/1 [00:00<00:00, 4096.00it/s]\n",
      "Inference:   0%|          | 0/1 [00:00<?, ?it/s]"
     ]
    },
    {
     "output_type": "stream",
     "name": "stdout",
     "text": [
      "Running pipeline ... done\n",
      "\n",
      "個人銀行自動記帳系統Personal bank automatic billing system\n",
      "done\n",
      "------------\n",
      "\n"
     ]
    },
    {
     "output_type": "stream",
     "name": "stderr",
     "text": [
      "Inference: 100%|██████████| 1/1 [00:00<00:00,  2.29it/s]\n",
      "Tokenization: 100%|██████████| 1/1 [00:00<00:00, 1122.07it/s]\n",
      "Inference: 100%|██████████| 1/1 [00:00<00:00,  1.30it/s]\n",
      "Tokenization: 100%|██████████| 1/1 [00:00<00:00, 715.26it/s]\n",
      "Inference: 100%|██████████| 1/1 [00:00<00:00,  2.54it/s]\n",
      "Tokenization: 100%|██████████| 1/1 [00:00<00:00, 1248.30it/s]\n",
      "Inference:   0%|          | 0/1 [00:00<?, ?it/s]"
     ]
    },
    {
     "output_type": "stream",
     "name": "stdout",
     "text": [
      "Running pipeline ... done\n",
      "\n",
      "電子文件與紙本文件影像資料整合處理方法\n",
      "done\n",
      "------------\n",
      "\n"
     ]
    },
    {
     "output_type": "stream",
     "name": "stderr",
     "text": [
      "Inference: 100%|██████████| 1/1 [00:00<00:00,  1.32it/s]\n",
      "Tokenization: 100%|██████████| 1/1 [00:00<00:00, 1340.46it/s]\n",
      "Inference: 100%|██████████| 1/1 [00:01<00:00,  1.50s/it]\n",
      "Tokenization: 100%|██████████| 1/1 [00:00<00:00, 2376.38it/s]\n",
      "Inference: 100%|██████████| 1/1 [00:00<00:00,  1.33it/s]\n",
      "Tokenization: 100%|██████████| 1/1 [00:00<00:00, 1689.89it/s]\n",
      "Inference:   0%|          | 0/1 [00:00<?, ?it/s]"
     ]
    },
    {
     "output_type": "stream",
     "name": "stdout",
     "text": [
      "Running pipeline ... done\n",
      "\n",
      "市場風險壓力測試系統Market risk and stress test system\n",
      "done\n",
      "------------\n",
      "\n"
     ]
    },
    {
     "output_type": "stream",
     "name": "stderr",
     "text": [
      "Inference: 100%|██████████| 1/1 [00:00<00:00,  1.45it/s]\n",
      "Tokenization: 100%|██████████| 1/1 [00:00<00:00, 647.67it/s]\n",
      "Inference: 100%|██████████| 1/1 [00:00<00:00,  1.07it/s]\n",
      "Tokenization: 100%|██████████| 1/1 [00:00<00:00, 2597.09it/s]\n",
      "Inference: 100%|██████████| 1/1 [00:00<00:00,  1.65it/s]\n",
      "Tokenization: 100%|██████████| 1/1 [00:00<00:00, 1890.18it/s]\n",
      "Inference:   0%|          | 0/1 [00:00<?, ?it/s]"
     ]
    },
    {
     "output_type": "stream",
     "name": "stdout",
     "text": [
      "Running pipeline ... done\n",
      "\n",
      "核配系統Approved allocation system\n",
      "done\n",
      "------------\n",
      "\n"
     ]
    },
    {
     "output_type": "stream",
     "name": "stderr",
     "text": [
      "Inference: 100%|██████████| 1/1 [00:00<00:00,  1.70it/s]\n",
      "Tokenization: 100%|██████████| 1/1 [00:00<00:00, 2590.68it/s]\n",
      "Inference: 100%|██████████| 1/1 [00:00<00:00,  1.16it/s]\n",
      "Tokenization: 100%|██████████| 1/1 [00:00<00:00, 3116.12it/s]\n",
      "Inference: 100%|██████████| 1/1 [00:00<00:00,  1.82it/s]\n",
      "Tokenization: 100%|██████████| 1/1 [00:00<00:00, 4198.50it/s]\n",
      "Inference:   0%|          | 0/1 [00:00<?, ?it/s]"
     ]
    },
    {
     "output_type": "stream",
     "name": "stdout",
     "text": [
      "Running pipeline ... done\n",
      "\n",
      "網路銀行帳戶的登入方法及應用該登入方法之網路銀行系統LOG-IN METHOD FOR NETWORK BANK ACCOUNT AND NETWOK BANK SYSTEM APPLY LOG-IN METHOD THEREOF\n",
      "done\n",
      "------------\n",
      "\n"
     ]
    },
    {
     "output_type": "stream",
     "name": "stderr",
     "text": [
      "Inference: 100%|██████████| 1/1 [00:00<00:00,  3.21it/s]\n",
      "Tokenization: 100%|██████████| 1/1 [00:00<00:00, 4215.38it/s]\n",
      "Inference: 100%|██████████| 1/1 [00:00<00:00,  2.00it/s]\n",
      "Tokenization: 100%|██████████| 1/1 [00:00<00:00, 2941.31it/s]\n",
      "Inference: 100%|██████████| 1/1 [00:00<00:00,  3.25it/s]\n",
      "Tokenization: 100%|██████████| 1/1 [00:00<00:00, 2563.76it/s]\n",
      "Inference:   0%|          | 0/1 [00:00<?, ?it/s]"
     ]
    },
    {
     "output_type": "stream",
     "name": "stdout",
     "text": [
      "Running pipeline ... done\n",
      "\n",
      "個人化開銷彙整系統Personalized overhead summary system\n",
      "done\n",
      "------------\n",
      "\n"
     ]
    },
    {
     "output_type": "stream",
     "name": "stderr",
     "text": [
      "Inference: 100%|██████████| 1/1 [00:00<00:00,  3.25it/s]\n",
      "Tokenization: 100%|██████████| 1/1 [00:00<00:00, 3498.17it/s]\n",
      "Inference: 100%|██████████| 1/1 [00:00<00:00,  2.69it/s]\n",
      "Tokenization: 100%|██████████| 1/1 [00:00<00:00, 1724.63it/s]\n",
      "Inference: 100%|██████████| 1/1 [00:00<00:00,  3.26it/s]\n",
      "Tokenization: 100%|██████████| 1/1 [00:00<00:00, 2933.08it/s]\n",
      "Inference:   0%|          | 0/1 [00:00<?, ?it/s]"
     ]
    },
    {
     "output_type": "stream",
     "name": "stdout",
     "text": [
      "Running pipeline ... done\n",
      "\n",
      "自動化線上客服系統Automated online customer service system\n",
      "done\n",
      "------------\n",
      "\n"
     ]
    },
    {
     "output_type": "stream",
     "name": "stderr",
     "text": [
      "Inference: 100%|██████████| 1/1 [00:00<00:00,  1.96it/s]\n",
      "Tokenization: 100%|██████████| 1/1 [00:00<00:00, 1669.71it/s]\n",
      "Inference: 100%|██████████| 1/1 [00:00<00:00,  1.12it/s]\n",
      "Tokenization: 100%|██████████| 1/1 [00:00<00:00, 3134.76it/s]\n",
      "Inference: 100%|██████████| 1/1 [00:00<00:00,  1.99it/s]\n",
      "Tokenization: 100%|██████████| 1/1 [00:00<00:00, 3194.44it/s]\n",
      "Inference:   0%|          | 0/1 [00:00<?, ?it/s]"
     ]
    },
    {
     "output_type": "stream",
     "name": "stdout",
     "text": [
      "Running pipeline ... done\n",
      "\n",
      "土地或建物之貸款輔助評估系統Land or building loan assessment assistance system\n",
      "done\n",
      "------------\n",
      "\n"
     ]
    },
    {
     "output_type": "stream",
     "name": "stderr",
     "text": [
      "Inference: 100%|██████████| 1/1 [00:00<00:00,  2.18it/s]\n",
      "Tokenization: 100%|██████████| 1/1 [00:00<00:00, 637.34it/s]\n",
      "Inference: 100%|██████████| 1/1 [00:00<00:00,  1.07it/s]\n",
      "Tokenization: 100%|██████████| 1/1 [00:00<00:00, 2577.94it/s]\n",
      "Inference: 100%|██████████| 1/1 [00:00<00:00,  2.03it/s]\n",
      "Tokenization: 100%|██████████| 1/1 [00:00<00:00, 2525.17it/s]\n",
      "Inference:   0%|          | 0/1 [00:00<?, ?it/s]"
     ]
    },
    {
     "output_type": "stream",
     "name": "stdout",
     "text": [
      "Running pipeline ... done\n",
      "\n",
      "藉由行動裝置結合感應式金融卡驗證網路銀行服務之系統System for verifying online banking services with mobile devices in conjunction with inductive financial cards\n",
      "done\n",
      "------------\n",
      "\n"
     ]
    },
    {
     "output_type": "stream",
     "name": "stderr",
     "text": [
      "Inference: 100%|██████████| 1/1 [00:00<00:00,  2.60it/s]\n",
      "Tokenization: 100%|██████████| 1/1 [00:00<00:00, 3095.43it/s]\n",
      "Inference: 100%|██████████| 1/1 [00:00<00:00,  1.87it/s]\n",
      "Tokenization: 100%|██████████| 1/1 [00:00<00:00, 1795.51it/s]\n",
      "Inference: 100%|██████████| 1/1 [00:00<00:00,  2.71it/s]\n",
      "Tokenization: 100%|██████████| 1/1 [00:00<00:00, 1410.32it/s]\n",
      "Inference:   0%|          | 0/1 [00:00<?, ?it/s]"
     ]
    },
    {
     "output_type": "stream",
     "name": "stdout",
     "text": [
      "Running pipeline ... done\n",
      "\n",
      "自動偵測繳費編碼之繳費機台Payment machine with automatic detection of payment code\n",
      "done\n",
      "------------\n",
      "\n"
     ]
    },
    {
     "output_type": "stream",
     "name": "stderr",
     "text": [
      "Inference: 100%|██████████| 1/1 [00:00<00:00,  1.60it/s]\n",
      "Tokenization: 100%|██████████| 1/1 [00:00<00:00, 2313.46it/s]\n",
      "Inference: 100%|██████████| 1/1 [00:01<00:00,  1.34s/it]\n",
      "Tokenization: 100%|██████████| 1/1 [00:00<00:00, 1398.57it/s]\n",
      "Inference: 100%|██████████| 1/1 [00:00<00:00,  1.65it/s]\n",
      "Tokenization: 100%|██████████| 1/1 [00:00<00:00, 2091.92it/s]\n",
      "Inference:   0%|          | 0/1 [00:00<?, ?it/s]"
     ]
    },
    {
     "output_type": "stream",
     "name": "stdout",
     "text": [
      "Running pipeline ... done\n",
      "\n",
      "現金流管理系統Cash flow management system\n",
      "done\n",
      "------------\n",
      "\n"
     ]
    },
    {
     "output_type": "stream",
     "name": "stderr",
     "text": [
      "Inference: 100%|██████████| 1/1 [00:00<00:00,  1.56it/s]\n",
      "Tokenization: 100%|██████████| 1/1 [00:00<00:00, 963.32it/s]\n",
      "Inference: 100%|██████████| 1/1 [00:01<00:00,  1.28s/it]\n",
      "Tokenization: 100%|██████████| 1/1 [00:00<00:00, 2632.96it/s]\n",
      "Inference: 100%|██████████| 1/1 [00:00<00:00,  1.54it/s]\n",
      "Tokenization: 100%|██████████| 1/1 [00:00<00:00, 1097.41it/s]\n",
      "Inference:   0%|          | 0/1 [00:00<?, ?it/s]"
     ]
    },
    {
     "output_type": "stream",
     "name": "stdout",
     "text": [
      "Running pipeline ... done\n",
      "\n",
      "電子票券系統Electronic ticket system\n",
      "done\n",
      "------------\n",
      "\n"
     ]
    },
    {
     "output_type": "stream",
     "name": "stderr",
     "text": [
      "Inference: 100%|██████████| 1/1 [00:00<00:00,  1.56it/s]\n",
      "Tokenization: 100%|██████████| 1/1 [00:00<00:00, 2331.46it/s]\n",
      "Inference: 100%|██████████| 1/1 [00:01<00:00,  1.11s/it]\n",
      "Tokenization: 100%|██████████| 1/1 [00:00<00:00, 1492.10it/s]\n",
      "Inference: 100%|██████████| 1/1 [00:00<00:00,  1.46it/s]\n",
      "Tokenization: 100%|██████████| 1/1 [00:00<00:00, 2164.24it/s]\n",
      "Inference:   0%|          | 0/1 [00:00<?, ?it/s]"
     ]
    },
    {
     "output_type": "stream",
     "name": "stdout",
     "text": [
      "Running pipeline ... done\n",
      "\n",
      "線上理財服務系統ONLINE FINANCIAL SERVICE SYSTEM\n",
      "done\n",
      "------------\n",
      "\n"
     ]
    },
    {
     "output_type": "stream",
     "name": "stderr",
     "text": [
      "Inference: 100%|██████████| 1/1 [00:00<00:00,  2.20it/s]\n",
      "Tokenization: 100%|██████████| 1/1 [00:00<00:00, 1718.27it/s]\n",
      "Inference: 100%|██████████| 1/1 [00:00<00:00,  1.38it/s]\n",
      "Tokenization: 100%|██████████| 1/1 [00:00<00:00, 2486.25it/s]\n",
      "Inference: 100%|██████████| 1/1 [00:00<00:00,  2.59it/s]\n",
      "Tokenization: 100%|██████████| 1/1 [00:00<00:00, 4691.62it/s]\n",
      "Inference:   0%|          | 0/1 [00:00<?, ?it/s]"
     ]
    },
    {
     "output_type": "stream",
     "name": "stdout",
     "text": [
      "Running pipeline ... done\n",
      "\n",
      "提供線上取得個人化信貸資料之試算系統Trial balance system for allowing online access to personalized credit information\n",
      "done\n",
      "------------\n",
      "\n"
     ]
    },
    {
     "output_type": "stream",
     "name": "stderr",
     "text": [
      "Inference: 100%|██████████| 1/1 [00:00<00:00,  3.76it/s]\n",
      "Tokenization: 100%|██████████| 1/1 [00:00<00:00, 2492.16it/s]\n",
      "Inference: 100%|██████████| 1/1 [00:00<00:00,  2.06it/s]\n",
      "Tokenization: 100%|██████████| 1/1 [00:00<00:00, 3196.88it/s]\n",
      "Inference: 100%|██████████| 1/1 [00:00<00:00,  3.21it/s]\n",
      "Tokenization: 100%|██████████| 1/1 [00:00<00:00, 687.70it/s]\n",
      "Inference:   0%|          | 0/1 [00:00<?, ?it/s]"
     ]
    },
    {
     "output_type": "stream",
     "name": "stdout",
     "text": [
      "Running pipeline ... done\n",
      "\n",
      "自助式各國貨幣兌換機Self-service international currency exchange machine\n",
      "done\n",
      "------------\n",
      "\n"
     ]
    },
    {
     "output_type": "stream",
     "name": "stderr",
     "text": [
      "Inference: 100%|██████████| 1/1 [00:00<00:00,  4.17it/s]\n",
      "Tokenization: 100%|██████████| 1/1 [00:00<00:00, 970.90it/s]\n",
      "Inference: 100%|██████████| 1/1 [00:00<00:00,  2.81it/s]\n",
      "Tokenization: 100%|██████████| 1/1 [00:00<00:00, 2198.27it/s]\n",
      "Inference: 100%|██████████| 1/1 [00:00<00:00,  3.68it/s]\n",
      "Tokenization: 100%|██████████| 1/1 [00:00<00:00, 2201.73it/s]\n",
      "Inference:   0%|          | 0/1 [00:00<?, ?it/s]"
     ]
    },
    {
     "output_type": "stream",
     "name": "stdout",
     "text": [
      "Running pipeline ... done\n",
      "\n",
      "浮動式活期存款利率調變系統Floating demand deposit rate adjustment system\n",
      "done\n",
      "------------\n",
      "\n"
     ]
    },
    {
     "output_type": "stream",
     "name": "stderr",
     "text": [
      "Inference: 100%|██████████| 1/1 [00:00<00:00,  3.45it/s]\n",
      "Tokenization: 100%|██████████| 1/1 [00:00<00:00, 2646.25it/s]\n",
      "Inference: 100%|██████████| 1/1 [00:00<00:00,  2.78it/s]\n",
      "Tokenization: 100%|██████████| 1/1 [00:00<00:00, 3214.03it/s]\n",
      "Inference: 100%|██████████| 1/1 [00:00<00:00,  3.68it/s]\n",
      "Tokenization: 100%|██████████| 1/1 [00:00<00:00, 1492.63it/s]\n",
      "Inference:   0%|          | 0/1 [00:00<?, ?it/s]"
     ]
    },
    {
     "output_type": "stream",
     "name": "stdout",
     "text": [
      "Running pipeline ... done\n",
      "\n",
      "個人化繳費通知系統Personalized payment notification system\n",
      "done\n",
      "------------\n",
      "\n"
     ]
    },
    {
     "output_type": "stream",
     "name": "stderr",
     "text": [
      "Inference: 100%|██████████| 1/1 [00:00<00:00,  2.33it/s]\n",
      "Tokenization: 100%|██████████| 1/1 [00:00<00:00, 1391.15it/s]\n",
      "Inference: 100%|██████████| 1/1 [00:00<00:00,  1.37it/s]\n",
      "Tokenization: 100%|██████████| 1/1 [00:00<00:00, 3366.22it/s]\n",
      "Inference: 100%|██████████| 1/1 [00:00<00:00,  2.39it/s]\n",
      "Tokenization: 100%|██████████| 1/1 [00:00<00:00, 2256.22it/s]\n",
      "Inference:   0%|          | 0/1 [00:00<?, ?it/s]"
     ]
    },
    {
     "output_type": "stream",
     "name": "stdout",
     "text": [
      "Running pipeline ... done\n",
      "\n",
      "可設定虛擬錢包攜帶金額之行動支付系統Mobile payment system capable of setting amount of virtual wallet\n",
      "done\n",
      "------------\n",
      "\n"
     ]
    },
    {
     "output_type": "stream",
     "name": "stderr",
     "text": [
      "Inference: 100%|██████████| 1/1 [00:00<00:00,  3.14it/s]\n",
      "Tokenization: 100%|██████████| 1/1 [00:00<00:00, 3163.13it/s]\n",
      "Inference: 100%|██████████| 1/1 [00:00<00:00,  1.99it/s]\n",
      "Tokenization: 100%|██████████| 1/1 [00:00<00:00, 3390.71it/s]\n",
      "Inference: 100%|██████████| 1/1 [00:00<00:00,  3.28it/s]\n",
      "Tokenization: 100%|██████████| 1/1 [00:00<00:00, 5102.56it/s]\n",
      "Inference:   0%|          | 0/1 [00:00<?, ?it/s]"
     ]
    },
    {
     "output_type": "stream",
     "name": "stdout",
     "text": [
      "Running pipeline ... done\n",
      "\n",
      "銀行內部風險評估暨自動產出稽核排程之系統Bank internal risk assessment and automatic output audit scheduling system\n",
      "done\n",
      "------------\n",
      "\n"
     ]
    },
    {
     "output_type": "stream",
     "name": "stderr",
     "text": [
      "Inference: 100%|██████████| 1/1 [00:00<00:00,  3.68it/s]\n",
      "Tokenization: 100%|██████████| 1/1 [00:00<00:00, 3106.89it/s]\n",
      "Inference: 100%|██████████| 1/1 [00:00<00:00,  2.55it/s]\n",
      "Tokenization: 100%|██████████| 1/1 [00:00<00:00, 3165.51it/s]\n",
      "Inference: 100%|██████████| 1/1 [00:00<00:00,  3.95it/s]\n",
      "Tokenization: 100%|██████████| 1/1 [00:00<00:00, 3086.32it/s]\n",
      "Inference:   0%|          | 0/1 [00:00<?, ?it/s]"
     ]
    },
    {
     "output_type": "stream",
     "name": "stdout",
     "text": [
      "Running pipeline ... done\n",
      "\n",
      "可供線上買賣之外匯投資系統Foreign exchange investment system available for online trading\n",
      "done\n",
      "------------\n",
      "\n"
     ]
    },
    {
     "output_type": "stream",
     "name": "stderr",
     "text": [
      "Inference: 100%|██████████| 1/1 [00:00<00:00,  2.04it/s]\n",
      "Tokenization: 100%|██████████| 1/1 [00:00<00:00, 1582.16it/s]\n",
      "Inference: 100%|██████████| 1/1 [00:00<00:00,  1.37it/s]\n",
      "Tokenization: 100%|██████████| 1/1 [00:00<00:00, 1262.20it/s]\n",
      "Inference: 100%|██████████| 1/1 [00:00<00:00,  1.85it/s]\n",
      "Tokenization: 100%|██████████| 1/1 [00:00<00:00, 2597.09it/s]\n",
      "Inference:   0%|          | 0/1 [00:00<?, ?it/s]"
     ]
    },
    {
     "output_type": "stream",
     "name": "stdout",
     "text": [
      "Running pipeline ... done\n",
      "\n",
      "線上銷帳系統及銷帳整合平台Online debt cancellation system and debt cancellation integration platform\n",
      "done\n",
      "------------\n",
      "\n"
     ]
    },
    {
     "output_type": "stream",
     "name": "stderr",
     "text": [
      "Inference: 100%|██████████| 1/1 [00:00<00:00,  1.64it/s]\n",
      "Tokenization: 100%|██████████| 1/1 [00:00<00:00, 1766.02it/s]\n",
      "Inference: 100%|██████████| 1/1 [00:00<00:00,  1.01it/s]\n",
      "Tokenization: 100%|██████████| 1/1 [00:00<00:00, 3079.52it/s]\n",
      "Inference: 100%|██████████| 1/1 [00:00<00:00,  1.76it/s]\n",
      "Tokenization: 100%|██████████| 1/1 [00:00<00:00, 3236.35it/s]\n",
      "Inference:   0%|          | 0/1 [00:00<?, ?it/s]"
     ]
    },
    {
     "output_type": "stream",
     "name": "stdout",
     "text": [
      "Running pipeline ... done\n",
      "\n",
      "貸款申請處理系統LOAN APPLICATION PROCESSING SYSTEM\n",
      "done\n",
      "------------\n",
      "\n"
     ]
    },
    {
     "output_type": "stream",
     "name": "stderr",
     "text": [
      "Inference: 100%|██████████| 1/1 [00:00<00:00,  1.86it/s]\n",
      "Tokenization: 100%|██████████| 1/1 [00:00<00:00, 1923.11it/s]\n",
      "Inference: 100%|██████████| 1/1 [00:00<00:00,  1.09it/s]\n",
      "Tokenization: 100%|██████████| 1/1 [00:00<00:00, 2906.66it/s]\n",
      "Inference: 100%|██████████| 1/1 [00:00<00:00,  2.02it/s]\n",
      "Tokenization: 100%|██████████| 1/1 [00:00<00:00, 2115.13it/s]\n",
      "Inference:   0%|          | 0/1 [00:00<?, ?it/s]"
     ]
    },
    {
     "output_type": "stream",
     "name": "stdout",
     "text": [
      "Running pipeline ... done\n",
      "\n",
      "e寫字檯辦理代收票據金融服務系統Financial service system with e-writing desk for collection of bills\n",
      "done\n",
      "------------\n",
      "\n"
     ]
    },
    {
     "output_type": "stream",
     "name": "stderr",
     "text": [
      "Inference: 100%|██████████| 1/1 [00:00<00:00,  1.89it/s]\n",
      "Tokenization: 100%|██████████| 1/1 [00:00<00:00, 1252.78it/s]\n",
      "Inference: 100%|██████████| 1/1 [00:00<00:00,  1.14it/s]\n",
      "Tokenization: 100%|██████████| 1/1 [00:00<00:00, 808.31it/s]\n",
      "Inference: 100%|██████████| 1/1 [00:00<00:00,  1.89it/s]\n",
      "Tokenization: 100%|██████████| 1/1 [00:00<00:00, 4116.10it/s]\n",
      "Inference:   0%|          | 0/1 [00:00<?, ?it/s]"
     ]
    },
    {
     "output_type": "stream",
     "name": "stdout",
     "text": [
      "Running pipeline ... done\n",
      "\n",
      "語音取號方法及系統\n",
      "done\n",
      "------------\n",
      "\n"
     ]
    },
    {
     "output_type": "stream",
     "name": "stderr",
     "text": [
      "Inference: 100%|██████████| 1/1 [00:00<00:00,  3.11it/s]\n",
      "Tokenization: 100%|██████████| 1/1 [00:00<00:00, 2716.52it/s]\n",
      "Inference: 100%|██████████| 1/1 [00:00<00:00,  2.20it/s]\n",
      "Tokenization: 100%|██████████| 1/1 [00:00<00:00, 4132.32it/s]\n",
      "Inference: 100%|██████████| 1/1 [00:00<00:00,  3.08it/s]\n",
      "Tokenization: 100%|██████████| 1/1 [00:00<00:00, 2087.76it/s]\n",
      "Inference:   0%|          | 0/1 [00:00<?, ?it/s]"
     ]
    },
    {
     "output_type": "stream",
     "name": "stdout",
     "text": [
      "Running pipeline ... done\n",
      "\n",
      "一種智慧取號系統Intelligent take-a-number system\n",
      "done\n",
      "------------\n",
      "\n"
     ]
    },
    {
     "output_type": "stream",
     "name": "stderr",
     "text": [
      "Inference: 100%|██████████| 1/1 [00:00<00:00,  2.25it/s]\n",
      "Tokenization: 100%|██████████| 1/1 [00:00<00:00, 3472.11it/s]\n",
      "Inference: 100%|██████████| 1/1 [00:00<00:00,  1.39it/s]\n",
      "Tokenization: 100%|██████████| 1/1 [00:00<00:00, 3401.71it/s]\n",
      "Inference: 100%|██████████| 1/1 [00:00<00:00,  2.19it/s]\n",
      "Tokenization: 100%|██████████| 1/1 [00:00<00:00, 3744.91it/s]\n",
      "Inference:   0%|          | 0/1 [00:00<?, ?it/s]"
     ]
    },
    {
     "output_type": "stream",
     "name": "stdout",
     "text": [
      "Running pipeline ... done\n",
      "\n",
      "行動支付方法、行動支付查詢方法及行動支付的裝置綁定方法MOBILE PAYMENT METHOD, INQUIRY METHOD FOR MOBILE PAYMENT AND DEVICE BIDING METHOD FOR MOBILE PAYMENT\n",
      "done\n",
      "------------\n",
      "\n"
     ]
    },
    {
     "output_type": "stream",
     "name": "stderr",
     "text": [
      "Inference: 100%|██████████| 1/1 [00:00<00:00,  4.13it/s]\n",
      "Tokenization: 100%|██████████| 1/1 [00:00<00:00, 4877.10it/s]\n",
      "Inference: 100%|██████████| 1/1 [00:00<00:00,  2.55it/s]\n",
      "Tokenization: 100%|██████████| 1/1 [00:00<00:00, 3701.95it/s]\n",
      "Inference: 100%|██████████| 1/1 [00:00<00:00,  3.90it/s]\n",
      "Tokenization: 100%|██████████| 1/1 [00:00<00:00, 1137.90it/s]\n",
      "Inference:   0%|          | 0/1 [00:00<?, ?it/s]"
     ]
    },
    {
     "output_type": "stream",
     "name": "stdout",
     "text": [
      "Running pipeline ... done\n",
      "\n",
      "貸款申請處理系統Loan application processing system\n",
      "done\n",
      "------------\n",
      "\n"
     ]
    },
    {
     "output_type": "stream",
     "name": "stderr",
     "text": [
      "Inference: 100%|██████████| 1/1 [00:00<00:00,  1.35it/s]\n",
      "Tokenization: 100%|██████████| 1/1 [00:00<00:00, 2481.84it/s]\n",
      "Inference: 100%|██████████| 1/1 [00:01<00:00,  1.51s/it]\n",
      "Tokenization: 100%|██████████| 1/1 [00:00<00:00, 2291.97it/s]\n",
      "Inference: 100%|██████████| 1/1 [00:00<00:00,  1.34it/s]\n",
      "Tokenization: 100%|██████████| 1/1 [00:00<00:00, 3266.59it/s]\n",
      "Inference:   0%|          | 0/1 [00:00<?, ?it/s]"
     ]
    },
    {
     "output_type": "stream",
     "name": "stdout",
     "text": [
      "Running pipeline ... done\n",
      "\n",
      "帳戶餘額調撥金額及調撥電文自動化裝置Automatic device for processing account balance transfer amount and transferring electronic text\n",
      "done\n",
      "------------\n",
      "\n"
     ]
    },
    {
     "output_type": "stream",
     "name": "stderr",
     "text": [
      "Inference: 100%|██████████| 1/1 [00:00<00:00,  1.88it/s]\n",
      "Tokenization: 100%|██████████| 1/1 [00:00<00:00, 3066.01it/s]\n",
      "Inference: 100%|██████████| 1/1 [00:01<00:00,  1.08s/it]\n",
      "Tokenization: 100%|██████████| 1/1 [00:00<00:00, 2585.88it/s]\n",
      "Inference: 100%|██████████| 1/1 [00:00<00:00,  1.80it/s]\n",
      "Tokenization: 100%|██████████| 1/1 [00:00<00:00, 1508.20it/s]\n",
      "Inference:   0%|          | 0/1 [00:00<?, ?it/s]"
     ]
    },
    {
     "output_type": "stream",
     "name": "stdout",
     "text": [
      "Running pipeline ... done\n",
      "\n",
      "跨行提領貴金屬系統PRECIOUS METAL MANAGEMENT BANK HOST SYSTEM\n",
      "done\n",
      "------------\n",
      "\n"
     ]
    },
    {
     "output_type": "stream",
     "name": "stderr",
     "text": [
      "Inference: 100%|██████████| 1/1 [00:00<00:00,  1.80it/s]\n",
      "Tokenization: 100%|██████████| 1/1 [00:00<00:00, 3196.88it/s]\n",
      "Inference: 100%|██████████| 1/1 [00:00<00:00,  1.21it/s]\n",
      "Tokenization: 100%|██████████| 1/1 [00:00<00:00, 2849.39it/s]\n",
      "Inference: 100%|██████████| 1/1 [00:00<00:00,  1.75it/s]\n",
      "Tokenization: 100%|██████████| 1/1 [00:00<00:00, 1385.17it/s]\n",
      "Inference:   0%|          | 0/1 [00:00<?, ?it/s]"
     ]
    },
    {
     "output_type": "stream",
     "name": "stdout",
     "text": [
      "Running pipeline ... done\n",
      "\n",
      "開放伺服器帳號登入管理結構Open server login account management structure\n",
      "done\n",
      "------------\n",
      "\n"
     ]
    },
    {
     "output_type": "stream",
     "name": "stderr",
     "text": [
      "Inference: 100%|██████████| 1/1 [00:00<00:00,  4.04it/s]\n",
      "Tokenization: 100%|██████████| 1/1 [00:00<00:00, 3187.16it/s]\n",
      "Inference: 100%|██████████| 1/1 [00:00<00:00,  2.35it/s]\n",
      "Tokenization: 100%|██████████| 1/1 [00:00<00:00, 4310.69it/s]\n",
      "Inference: 100%|██████████| 1/1 [00:00<00:00,  4.10it/s]\n",
      "Tokenization: 100%|██████████| 1/1 [00:00<00:00, 600.99it/s]\n",
      "Inference:   0%|          | 0/1 [00:00<?, ?it/s]"
     ]
    },
    {
     "output_type": "stream",
     "name": "stdout",
     "text": [
      "Running pipeline ... done\n",
      "\n",
      "貸款申請處理系統Loan application processing system\n",
      "done\n",
      "------------\n",
      "\n"
     ]
    },
    {
     "output_type": "stream",
     "name": "stderr",
     "text": [
      "Inference: 100%|██████████| 1/1 [00:03<00:00,  3.69s/it]\n",
      "Tokenization: 100%|██████████| 1/1 [00:00<00:00, 821.93it/s]\n",
      "Inference: 100%|██████████| 1/1 [00:32<00:00, 32.03s/it]\n",
      "Tokenization: 100%|██████████| 1/1 [00:00<00:00, 135.87it/s]\n",
      "Inference: 100%|██████████| 1/1 [00:03<00:00,  3.63s/it]\n",
      "Tokenization: 100%|██████████| 1/1 [00:00<00:00, 2618.17it/s]\n",
      "Inference:   0%|          | 0/1 [00:00<?, ?it/s]"
     ]
    },
    {
     "output_type": "stream",
     "name": "stdout",
     "text": [
      "Running pipeline ... done\n",
      "\n",
      "貴金屬提領預約系統PRECIOUS METAL WITHDRAWAL RESERVATION SYSTEM\n",
      "done\n",
      "------------\n",
      "\n"
     ]
    },
    {
     "output_type": "stream",
     "name": "stderr",
     "text": [
      "Inference: 100%|██████████| 1/1 [00:00<00:00,  1.76it/s]\n",
      "Tokenization: 100%|██████████| 1/1 [00:00<00:00, 2618.17it/s]\n",
      "Inference: 100%|██████████| 1/1 [00:01<00:00,  1.43s/it]\n",
      "Tokenization: 100%|██████████| 1/1 [00:00<00:00, 2376.38it/s]\n",
      "Inference: 100%|██████████| 1/1 [00:00<00:00,  1.74it/s]\n",
      "Tokenization: 100%|██████████| 1/1 [00:00<00:00, 761.08it/s]\n",
      "Inference:   0%|          | 0/1 [00:00<?, ?it/s]"
     ]
    },
    {
     "output_type": "stream",
     "name": "stdout",
     "text": [
      "Running pipeline ... done\n",
      "\n",
      "特定金融資訊處理分析資料缺失裝置Data deficiency processing and analyzing device for specific financial information\n",
      "done\n",
      "------------\n",
      "\n"
     ]
    },
    {
     "output_type": "stream",
     "name": "stderr",
     "text": [
      "Inference: 100%|██████████| 1/1 [00:02<00:00,  2.43s/it]\n",
      "Tokenization: 100%|██████████| 1/1 [00:00<00:00, 825.16it/s]\n",
      "Inference: 100%|██████████| 1/1 [00:07<00:00,  7.20s/it]\n",
      "Tokenization: 100%|██████████| 1/1 [00:00<00:00, 777.73it/s]\n",
      "Inference: 100%|██████████| 1/1 [00:02<00:00,  2.36s/it]\n",
      "Tokenization: 100%|██████████| 1/1 [00:00<00:00, 4236.67it/s]\n",
      "Inference:   0%|          | 0/1 [00:00<?, ?it/s]"
     ]
    },
    {
     "output_type": "stream",
     "name": "stdout",
     "text": [
      "Running pipeline ... done\n",
      "\n",
      "黃金存摺交易系統GOLD PASSBOOK TRANSACTION SYSTEM\n",
      "done\n",
      "------------\n",
      "\n"
     ]
    },
    {
     "output_type": "stream",
     "name": "stderr",
     "text": [
      "Inference: 100%|██████████| 1/1 [00:00<00:00,  2.92it/s]\n",
      "Tokenization: 100%|██████████| 1/1 [00:00<00:00, 3165.51it/s]\n",
      "Inference: 100%|██████████| 1/1 [00:00<00:00,  2.05it/s]\n",
      "Tokenization: 100%|██████████| 1/1 [00:00<00:00, 3816.47it/s]\n",
      "Inference: 100%|██████████| 1/1 [00:00<00:00,  3.05it/s]\n",
      "Tokenization: 100%|██████████| 1/1 [00:00<00:00, 2232.20it/s]\n",
      "Inference:   0%|          | 0/1 [00:00<?, ?it/s]"
     ]
    },
    {
     "output_type": "stream",
     "name": "stdout",
     "text": [
      "Running pipeline ... done\n",
      "\n",
      "金資彙流整批入帳作業裝置Device for batch transferring operation of money\n",
      "done\n",
      "------------\n",
      "\n"
     ]
    },
    {
     "output_type": "stream",
     "name": "stderr",
     "text": [
      "Inference: 100%|██████████| 1/1 [00:00<00:00,  2.05it/s]\n",
      "Tokenization: 100%|██████████| 1/1 [00:00<00:00, 2639.59it/s]\n",
      "Inference: 100%|██████████| 1/1 [00:00<00:00,  1.01it/s]\n",
      "Tokenization: 100%|██████████| 1/1 [00:00<00:00, 2132.34it/s]\n",
      "Inference: 100%|██████████| 1/1 [00:00<00:00,  2.14it/s]\n",
      "Tokenization: 100%|██████████| 1/1 [00:00<00:00, 1972.86it/s]\n",
      "Inference:   0%|          | 0/1 [00:00<?, ?it/s]"
     ]
    },
    {
     "output_type": "stream",
     "name": "stdout",
     "text": [
      "Running pipeline ... done\n",
      "\n",
      "預先通知存款客戶即將扣繳費稅資訊結構Pre-notice deposit customers will be withholding tax information structure\n",
      "done\n",
      "------------\n",
      "\n"
     ]
    },
    {
     "output_type": "stream",
     "name": "stderr",
     "text": [
      "Inference: 100%|██████████| 1/1 [00:00<00:00,  2.27it/s]\n",
      "Tokenization: 100%|██████████| 1/1 [00:00<00:00, 3744.91it/s]\n",
      "Inference: 100%|██████████| 1/1 [00:00<00:00,  1.66it/s]\n",
      "Tokenization: 100%|██████████| 1/1 [00:00<00:00, 3116.12it/s]\n",
      "Inference: 100%|██████████| 1/1 [00:00<00:00,  2.14it/s]\n",
      "Tokenization: 100%|██████████| 1/1 [00:00<00:00, 1406.07it/s]\n",
      "Inference:   0%|          | 0/1 [00:00<?, ?it/s]"
     ]
    },
    {
     "output_type": "stream",
     "name": "stdout",
     "text": [
      "Running pipeline ... done\n",
      "\n",
      "利滾錢裝置Profit rolling device\n",
      "done\n",
      "------------\n",
      "\n"
     ]
    },
    {
     "output_type": "stream",
     "name": "stderr",
     "text": [
      "Inference: 100%|██████████| 1/1 [00:00<00:00,  1.74it/s]\n",
      "Tokenization: 100%|██████████| 1/1 [00:00<00:00, 2028.19it/s]\n",
      "Inference: 100%|██████████| 1/1 [00:00<00:00,  1.13it/s]\n",
      "Tokenization: 100%|██████████| 1/1 [00:00<00:00, 1256.53it/s]\n",
      "Inference: 100%|██████████| 1/1 [00:00<00:00,  1.76it/s]\n",
      "Tokenization: 100%|██████████| 1/1 [00:00<00:00, 2352.39it/s]\n",
      "Inference:   0%|          | 0/1 [00:00<?, ?it/s]"
     ]
    },
    {
     "output_type": "stream",
     "name": "stdout",
     "text": [
      "Running pipeline ... done\n",
      "\n",
      "核心帳務主機監控結構Core accounting host monitoring structure\n",
      "done\n",
      "------------\n",
      "\n"
     ]
    },
    {
     "output_type": "stream",
     "name": "stderr",
     "text": [
      "Inference: 100%|██████████| 1/1 [00:00<00:00,  1.90it/s]\n",
      "Tokenization: 100%|██████████| 1/1 [00:00<00:00, 2427.26it/s]\n",
      "Inference: 100%|██████████| 1/1 [00:00<00:00,  1.20it/s]\n",
      "Tokenization: 100%|██████████| 1/1 [00:00<00:00, 2396.75it/s]\n",
      "Inference: 100%|██████████| 1/1 [00:00<00:00,  1.93it/s]\n",
      "Tokenization: 100%|██████████| 1/1 [00:00<00:00, 1683.11it/s]\n",
      "Inference:   0%|          | 0/1 [00:00<?, ?it/s]"
     ]
    },
    {
     "output_type": "stream",
     "name": "stdout",
     "text": [
      "Running pipeline ... done\n",
      "\n",
      "電子文件與紙本文件影像資料整合處理裝置Electronic document and paper document image data integration processing device\n",
      "done\n",
      "------------\n",
      "\n"
     ]
    },
    {
     "output_type": "stream",
     "name": "stderr",
     "text": [
      "Inference: 100%|██████████| 1/1 [00:00<00:00,  1.79it/s]\n",
      "Tokenization: 100%|██████████| 1/1 [00:00<00:00, 1637.76it/s]\n",
      "Inference: 100%|██████████| 1/1 [00:01<00:00,  1.14s/it]\n",
      "Tokenization: 100%|██████████| 1/1 [00:00<00:00, 1328.15it/s]\n",
      "Inference: 100%|██████████| 1/1 [00:00<00:00,  1.81it/s]\n",
      "Tokenization: 100%|██████████| 1/1 [00:00<00:00, 1972.86it/s]\n",
      "Inference:   0%|          | 0/1 [00:00<?, ?it/s]"
     ]
    },
    {
     "output_type": "stream",
     "name": "stdout",
     "text": [
      "Running pipeline ... done\n",
      "\n",
      "一鍵認證支付裝置One-click authentication payment device\n",
      "done\n",
      "------------\n",
      "\n"
     ]
    },
    {
     "output_type": "stream",
     "name": "stderr",
     "text": [
      "Inference: 100%|██████████| 1/1 [00:00<00:00,  1.79it/s]\n",
      "Tokenization: 100%|██████████| 1/1 [00:00<00:00, 1597.83it/s]\n",
      "Inference: 100%|██████████| 1/1 [00:01<00:00,  1.18s/it]\n",
      "Tokenization: 100%|██████████| 1/1 [00:00<00:00, 2730.67it/s]\n",
      "Inference: 100%|██████████| 1/1 [00:00<00:00,  1.67it/s]\n",
      "Tokenization: 100%|██████████| 1/1 [00:00<00:00, 3182.32it/s]\n",
      "Inference:   0%|          | 0/1 [00:00<?, ?it/s]"
     ]
    },
    {
     "output_type": "stream",
     "name": "stdout",
     "text": [
      "Running pipeline ... done\n",
      "\n",
      "具全球資金調度功能的網銀系統Web banking system with function of global finance allocation\n",
      "done\n",
      "------------\n",
      "\n"
     ]
    },
    {
     "output_type": "stream",
     "name": "stderr",
     "text": [
      "Inference: 100%|██████████| 1/1 [00:00<00:00,  1.91it/s]\n",
      "Tokenization: 100%|██████████| 1/1 [00:00<00:00, 2570.04it/s]\n",
      "Inference: 100%|██████████| 1/1 [00:00<00:00,  1.34it/s]\n",
      "Tokenization: 100%|██████████| 1/1 [00:00<00:00, 3097.71it/s]\n",
      "Inference: 100%|██████████| 1/1 [00:00<00:00,  1.89it/s]\n",
      "Tokenization: 100%|██████████| 1/1 [00:00<00:00, 2730.67it/s]\n",
      "Inference:   0%|          | 0/1 [00:00<?, ?it/s]"
     ]
    },
    {
     "output_type": "stream",
     "name": "stdout",
     "text": [
      "Running pipeline ... done\n",
      "\n",
      "貴金屬多元化交易系統PRECIOUS METAL DIVERSIFICATION TRADING SYSTEM\n",
      "done\n",
      "------------\n",
      "\n"
     ]
    },
    {
     "output_type": "stream",
     "name": "stderr",
     "text": [
      "Inference: 100%|██████████| 1/1 [00:00<00:00,  1.83it/s]\n",
      "Tokenization: 100%|██████████| 1/1 [00:00<00:00, 2087.76it/s]\n",
      "Inference: 100%|██████████| 1/1 [00:00<00:00,  1.18it/s]\n",
      "Tokenization: 100%|██████████| 1/1 [00:00<00:00, 1302.17it/s]\n",
      "Inference: 100%|██████████| 1/1 [00:00<00:00,  1.79it/s]\n",
      "Tokenization: 100%|██████████| 1/1 [00:00<00:00, 2639.59it/s]\n",
      "Inference:   0%|          | 0/1 [00:00<?, ?it/s]"
     ]
    },
    {
     "output_type": "stream",
     "name": "stdout",
     "text": [
      "Running pipeline ... done\n",
      "\n",
      "資料庫連線管理系統Database link management system\n",
      "done\n",
      "------------\n",
      "\n"
     ]
    },
    {
     "output_type": "stream",
     "name": "stderr",
     "text": [
      "Inference: 100%|██████████| 1/1 [00:00<00:00,  1.96it/s]\n",
      "Tokenization: 100%|██████████| 1/1 [00:00<00:00, 1540.89it/s]\n",
      "Inference: 100%|██████████| 1/1 [00:00<00:00,  1.07it/s]\n",
      "Tokenization: 100%|██████████| 1/1 [00:00<00:00, 2434.30it/s]\n",
      "Inference: 100%|██████████| 1/1 [00:00<00:00,  1.98it/s]\n",
      "Tokenization: 100%|██████████| 1/1 [00:00<00:00, 3216.49it/s]\n",
      "Inference:   0%|          | 0/1 [00:00<?, ?it/s]"
     ]
    },
    {
     "output_type": "stream",
     "name": "stdout",
     "text": [
      "Running pipeline ... done\n",
      "\n",
      "貴金屬購買系統PRECIOUS METAL PURCHASING SYSTEM\n",
      "done\n",
      "------------\n",
      "\n"
     ]
    },
    {
     "output_type": "stream",
     "name": "stderr",
     "text": [
      "Inference: 100%|██████████| 1/1 [00:00<00:00,  1.86it/s]\n",
      "Tokenization: 100%|██████████| 1/1 [00:00<00:00, 2288.22it/s]\n",
      "Inference: 100%|██████████| 1/1 [00:00<00:00,  1.24it/s]\n",
      "Tokenization: 100%|██████████| 1/1 [00:00<00:00, 2680.07it/s]\n",
      "Inference: 100%|██████████| 1/1 [00:00<00:00,  1.77it/s]\n",
      "Tokenization: 100%|██████████| 1/1 [00:00<00:00, 2376.38it/s]\n",
      "Inference:   0%|          | 0/1 [00:00<?, ?it/s]"
     ]
    },
    {
     "output_type": "stream",
     "name": "stdout",
     "text": [
      "Running pipeline ... done\n",
      "\n",
      "行動網銀交易認證系統Authentication system of mobile banking transaction\n",
      "done\n",
      "------------\n",
      "\n"
     ]
    },
    {
     "output_type": "stream",
     "name": "stderr",
     "text": [
      "Inference: 100%|██████████| 1/1 [00:00<00:00,  1.65it/s]\n",
      "Tokenization: 100%|██████████| 1/1 [00:00<00:00, 2118.34it/s]\n",
      "Inference: 100%|██████████| 1/1 [00:01<00:00,  1.06s/it]\n",
      "Tokenization: 100%|██████████| 1/1 [00:00<00:00, 1251.66it/s]\n",
      "Inference: 100%|██████████| 1/1 [00:00<00:00,  1.74it/s]\n",
      "Tokenization: 100%|██████████| 1/1 [00:00<00:00, 748.45it/s]\n",
      "Inference:   0%|          | 0/1 [00:00<?, ?it/s]"
     ]
    },
    {
     "output_type": "stream",
     "name": "stdout",
     "text": [
      "Running pipeline ... done\n",
      "\n",
      "自然人憑證認證方法CITIZEN DIGITAL CERTIFICATE AUTHENTICATION METHOD\n",
      "done\n",
      "------------\n",
      "\n"
     ]
    },
    {
     "output_type": "stream",
     "name": "stderr",
     "text": [
      "Inference: 100%|██████████| 1/1 [00:03<00:00,  3.48s/it]\n",
      "Tokenization: 100%|██████████| 1/1 [00:00<00:00, 962.44it/s]\n",
      "Inference: 100%|██████████| 1/1 [00:20<00:00, 20.48s/it]\n",
      "Tokenization: 100%|██████████| 1/1 [00:00<00:00, 275.25it/s]\n",
      "Inference: 100%|██████████| 1/1 [00:03<00:00,  3.88s/it]\n",
      "Tokenization: 100%|██████████| 1/1 [00:00<00:00, 3030.57it/s]\n",
      "Inference:   0%|          | 0/1 [00:00<?, ?it/s]"
     ]
    },
    {
     "output_type": "stream",
     "name": "stdout",
     "text": [
      "Running pipeline ... done\n",
      "\n",
      "教育訓練管理系統EDUCATION AND TRAINING MANAGEMENT SYSTEM\n",
      "done\n",
      "------------\n",
      "\n"
     ]
    },
    {
     "output_type": "stream",
     "name": "stderr",
     "text": [
      "Inference: 100%|██████████| 1/1 [00:00<00:00,  1.72it/s]\n",
      "Tokenization: 100%|██████████| 1/1 [00:00<00:00, 2809.31it/s]\n",
      "Inference: 100%|██████████| 1/1 [00:00<00:00,  1.00it/s]\n",
      "Tokenization: 100%|██████████| 1/1 [00:00<00:00, 1818.08it/s]\n",
      "Inference: 100%|██████████| 1/1 [00:00<00:00,  1.76it/s]\n",
      "Tokenization: 100%|██████████| 1/1 [00:00<00:00, 1029.02it/s]\n",
      "Inference:   0%|          | 0/1 [00:00<?, ?it/s]"
     ]
    },
    {
     "output_type": "stream",
     "name": "stdout",
     "text": [
      "Running pipeline ... done\n",
      "\n",
      "網路銀行服務系統Online banking service system\n",
      "done\n",
      "------------\n",
      "\n"
     ]
    },
    {
     "output_type": "stream",
     "name": "stderr",
     "text": [
      "Inference: 100%|██████████| 1/1 [00:00<00:00,  1.75it/s]\n",
      "Tokenization: 100%|██████████| 1/1 [00:00<00:00, 1151.96it/s]\n",
      "Inference: 100%|██████████| 1/1 [00:01<00:00,  1.02s/it]\n",
      "Tokenization: 100%|██████████| 1/1 [00:00<00:00, 2739.58it/s]\n",
      "Inference: 100%|██████████| 1/1 [00:00<00:00,  1.81it/s]\n",
      "Tokenization: 100%|██████████| 1/1 [00:00<00:00, 1180.50it/s]\n",
      "Inference:   0%|          | 0/1 [00:00<?, ?it/s]"
     ]
    },
    {
     "output_type": "stream",
     "name": "stdout",
     "text": [
      "Running pipeline ... done\n",
      "\n",
      "網路銀行輸入登入資訊控管系統System for controlling login information input of online bank\n",
      "done\n",
      "------------\n",
      "\n"
     ]
    },
    {
     "output_type": "stream",
     "name": "stderr",
     "text": [
      "Inference: 100%|██████████| 1/1 [00:00<00:00,  1.74it/s]\n",
      "Tokenization: 100%|██████████| 1/1 [00:00<00:00, 2993.79it/s]\n",
      "Inference: 100%|██████████| 1/1 [00:01<00:00,  1.10s/it]\n",
      "Tokenization: 100%|██████████| 1/1 [00:00<00:00, 1742.54it/s]\n",
      "Inference: 100%|██████████| 1/1 [00:00<00:00,  1.78it/s]\n",
      "Tokenization: 100%|██████████| 1/1 [00:00<00:00, 2105.57it/s]\n",
      "Inference:   0%|          | 0/1 [00:00<?, ?it/s]"
     ]
    },
    {
     "output_type": "stream",
     "name": "stdout",
     "text": [
      "Running pipeline ... done\n",
      "\n",
      "貴金屬交易系統TRADING SYSTEM OF PRECIOUS METAL\n",
      "done\n",
      "------------\n",
      "\n"
     ]
    },
    {
     "output_type": "stream",
     "name": "stderr",
     "text": [
      "Inference: 100%|██████████| 1/1 [00:00<00:00,  2.07it/s]\n",
      "Tokenization: 100%|██████████| 1/1 [00:00<00:00, 2003.97it/s]\n",
      "Inference: 100%|██████████| 1/1 [00:00<00:00,  1.32it/s]\n",
      "Tokenization: 100%|██████████| 1/1 [00:00<00:00, 1984.06it/s]\n",
      "Inference: 100%|██████████| 1/1 [00:00<00:00,  2.02it/s]\n",
      "Tokenization: 100%|██████████| 1/1 [00:00<00:00, 2438.55it/s]\n",
      "Inference:   0%|          | 0/1 [00:00<?, ?it/s]"
     ]
    },
    {
     "output_type": "stream",
     "name": "stdout",
     "text": [
      "Running pipeline ... done\n",
      "\n",
      "貴金屬交易價格掛牌系統System for listing precious metal transaction prices\n",
      "done\n",
      "------------\n",
      "\n"
     ]
    },
    {
     "output_type": "stream",
     "name": "stderr",
     "text": [
      "Inference: 100%|██████████| 1/1 [00:00<00:00,  1.82it/s]\n",
      "Tokenization: 100%|██████████| 1/1 [00:00<00:00, 2058.05it/s]\n",
      "Inference: 100%|██████████| 1/1 [00:00<00:00,  1.25it/s]\n",
      "Tokenization: 100%|██████████| 1/1 [00:00<00:00, 2900.63it/s]\n",
      "Inference: 100%|██████████| 1/1 [00:00<00:00,  1.84it/s]\n",
      "Tokenization: 100%|██████████| 1/1 [00:00<00:00, 2716.52it/s]\n",
      "Inference:   0%|          | 0/1 [00:00<?, ?it/s]"
     ]
    },
    {
     "output_type": "stream",
     "name": "stdout",
     "text": [
      "Running pipeline ... done\n",
      "\n",
      "智慧銀行櫃檯交易服務系統Smart bank counter transaction service system\n",
      "done\n",
      "------------\n",
      "\n"
     ]
    },
    {
     "output_type": "stream",
     "name": "stderr",
     "text": [
      "Inference: 100%|██████████| 1/1 [00:00<00:00,  2.14it/s]\n",
      "Tokenization: 100%|██████████| 1/1 [00:00<00:00, 1923.11it/s]\n",
      "Inference: 100%|██████████| 1/1 [00:00<00:00,  1.15it/s]\n",
      "Tokenization: 100%|██████████| 1/1 [00:00<00:00, 3390.71it/s]\n",
      "Inference: 100%|██████████| 1/1 [00:00<00:00,  2.12it/s]\n",
      "Tokenization: 100%|██████████| 1/1 [00:00<00:00, 2462.89it/s]\n",
      "Inference:   0%|          | 0/1 [00:00<?, ?it/s]"
     ]
    },
    {
     "output_type": "stream",
     "name": "stdout",
     "text": [
      "Running pipeline ... done\n",
      "\n",
      "金融服務系統Financial service system\n",
      "done\n",
      "------------\n",
      "\n"
     ]
    },
    {
     "output_type": "stream",
     "name": "stderr",
     "text": [
      "Inference: 100%|██████████| 1/1 [00:00<00:00,  1.76it/s]\n",
      "Tokenization: 100%|██████████| 1/1 [00:00<00:00, 2501.08it/s]\n",
      "Inference: 100%|██████████| 1/1 [00:00<00:00,  1.16it/s]\n",
      "Tokenization: 100%|██████████| 1/1 [00:00<00:00, 3030.57it/s]\n",
      "Inference: 100%|██████████| 1/1 [00:00<00:00,  1.69it/s]\n",
      "Tokenization: 100%|██████████| 1/1 [00:00<00:00, 2857.16it/s]\n",
      "Inference:   0%|          | 0/1 [00:00<?, ?it/s]"
     ]
    },
    {
     "output_type": "stream",
     "name": "stdout",
     "text": [
      "Running pipeline ... done\n",
      "\n",
      "網路銀行系統NETWOK BANK SYSTEM\n",
      "done\n",
      "------------\n",
      "\n"
     ]
    },
    {
     "output_type": "stream",
     "name": "stderr",
     "text": [
      "Inference: 100%|██████████| 1/1 [00:00<00:00,  1.86it/s]\n",
      "Tokenization: 100%|██████████| 1/1 [00:00<00:00, 3039.35it/s]\n",
      "Inference: 100%|██████████| 1/1 [00:00<00:00,  1.16it/s]\n",
      "Tokenization: 100%|██████████| 1/1 [00:00<00:00, 1326.05it/s]\n",
      "Inference: 100%|██████████| 1/1 [00:00<00:00,  1.82it/s]\n",
      "Tokenization: 100%|██████████| 1/1 [00:00<00:00, 1215.39it/s]\n",
      "Inference:   0%|          | 0/1 [00:00<?, ?it/s]"
     ]
    },
    {
     "output_type": "stream",
     "name": "stdout",
     "text": [
      "Running pipeline ... done\n",
      "\n",
      "語音取號系統System of taking queue number by voice\n",
      "done\n",
      "------------\n",
      "\n"
     ]
    },
    {
     "output_type": "stream",
     "name": "stderr",
     "text": [
      "Inference: 100%|██████████| 1/1 [00:01<00:00,  1.02s/it]\n",
      "Tokenization: 100%|██████████| 1/1 [00:00<00:00, 1742.54it/s]\n",
      "Inference: 100%|██████████| 1/1 [00:02<00:00,  2.23s/it]\n",
      "Tokenization: 100%|██████████| 1/1 [00:00<00:00, 1584.55it/s]\n",
      "Inference: 100%|██████████| 1/1 [00:01<00:00,  1.02s/it]\n",
      "Tokenization: 100%|██████████| 1/1 [00:00<00:00, 3771.86it/s]\n",
      "Inference:   0%|          | 0/1 [00:00<?, ?it/s]"
     ]
    },
    {
     "output_type": "stream",
     "name": "stdout",
     "text": [
      "Running pipeline ... done\n",
      "\n",
      "資訊服務管理系統使用者介面\n",
      "done\n",
      "------------\n",
      "\n"
     ]
    },
    {
     "output_type": "stream",
     "name": "stderr",
     "text": [
      "Inference: 100%|██████████| 1/1 [00:00<00:00,  2.84it/s]\n",
      "Tokenization: 100%|██████████| 1/1 [00:00<00:00, 4152.78it/s]\n",
      "Inference: 100%|██████████| 1/1 [00:00<00:00,  1.97it/s]\n",
      "Tokenization: 100%|██████████| 1/1 [00:00<00:00, 3426.72it/s]\n",
      "Inference: 100%|██████████| 1/1 [00:00<00:00,  2.79it/s]\n",
      "Tokenization: 100%|██████████| 1/1 [00:00<00:00, 3258.98it/s]\n",
      "Inference:   0%|          | 0/1 [00:00<?, ?it/s]"
     ]
    },
    {
     "output_type": "stream",
     "name": "stdout",
     "text": [
      "Running pipeline ... done\n",
      "\n",
      "領帶夾\n",
      "done\n",
      "------------\n",
      "\n"
     ]
    },
    {
     "output_type": "stream",
     "name": "stderr",
     "text": [
      "Inference: 100%|██████████| 1/1 [00:00<00:00,  2.90it/s]\n",
      "Tokenization: 100%|██████████| 1/1 [00:00<00:00, 3412.78it/s]\n",
      "Inference: 100%|██████████| 1/1 [00:00<00:00,  2.17it/s]\n",
      "Tokenization: 100%|██████████| 1/1 [00:00<00:00, 2763.05it/s]\n",
      "Inference: 100%|██████████| 1/1 [00:00<00:00,  2.86it/s]\n",
      "Tokenization: 100%|██████████| 1/1 [00:00<00:00, 873.63it/s]\n",
      "Inference:   0%|          | 0/1 [00:00<?, ?it/s]"
     ]
    },
    {
     "output_type": "stream",
     "name": "stdout",
     "text": [
      "Running pipeline ... done\n",
      "\n",
      "顯示螢幕之圖像\n",
      "done\n",
      "------------\n",
      "\n"
     ]
    },
    {
     "output_type": "stream",
     "name": "stderr",
     "text": [
      "Inference: 100%|██████████| 1/1 [00:00<00:00,  1.31it/s]\n",
      "Tokenization: 100%|██████████| 1/1 [00:00<00:00, 463.20it/s]\n",
      "Inference: 100%|██████████| 1/1 [00:01<00:00,  1.71s/it]\n",
      "Tokenization: 100%|██████████| 1/1 [00:00<00:00, 2132.34it/s]\n",
      "Inference: 100%|██████████| 1/1 [00:00<00:00,  1.29it/s]"
     ]
    },
    {
     "output_type": "stream",
     "name": "stdout",
     "text": [
      "Running pipeline ... done\n",
      "\n",
      "舞獅寶寶公仔LION DANCE BABY FIGURINE\n",
      "done\n",
      "------------\n",
      "\n"
     ]
    },
    {
     "output_type": "stream",
     "name": "stderr",
     "text": [
      "\n"
     ]
    }
   ],
   "metadata": {
    "scrolled": true
   }
  },
  {
   "cell_type": "code",
   "execution_count": 14,
   "source": [
    "## export back to the file \n",
    "bank ={\"名稱\":name,\n",
    "        \"KEY\":sort_key,\n",
    "        \"WORD\":sort_words\n",
    "                }\n",
    "print (pd.DataFrame(bank))"
   ],
   "outputs": [
    {
     "output_type": "stream",
     "name": "stdout",
     "text": [
      "                                                    名稱  \\\n",
      "0    銀行內部之信用風險評估系統及其方法INTERNAL SYSTEM OF BANK FOR C...   \n",
      "1    金融機構之特定商家推薦系統及其方法SPECIFIC MERCHANT RECOMMENDAT...   \n",
      "2    個人化服務之約定扣繳帳戶管理系統PERSONALIZED SERVICE AGREEMENT...   \n",
      "3    洗錢防制法疑似案例輔助判斷系統MONEY LAUNDERING PREVENTION LAW...   \n",
      "4    自動匯兌系統及其方法AUTOMATIC EXCHANGE SYSTEM AND METHOD...   \n",
      "..                                                 ...   \n",
      "415       語音取號系統System of taking queue number by voice   \n",
      "416                                      資訊服務管理系統使用者介面   \n",
      "417                                                領帶夾   \n",
      "418                                            顯示螢幕之圖像   \n",
      "419                     舞獅寶寶公仔LION DANCE BABY FIGURINE   \n",
      "\n",
      "                                                   KEY  \\\n",
      "0    [(上述資料, 3), (信用資料, 3), (管理裝置, 2), (信用資料庫, 2), ...   \n",
      "1    [(外在環境, 2), (客戶消費, 2), (商家種類, 2), (金融機構, 1), (...   \n",
      "2    [(警示通知, 2), (帳戶設定, 2), (案提出, 1), (扣繳帳戶, 1), (管...   \n",
      "3    [(審核結果, 4), (數據分析, 3), (審核模組, 2), (案提出, 1), (案...   \n",
      "4    [(上述匯率, 6), (匯率報價, 1), (匯率接收, 1), (匯率限制, 1), (...   \n",
      "..                                                 ...   \n",
      "415  [(使用者, 4), (目標服務, 2), (目標答案, 2), (單元利用, 1), (語...   \n",
      "416  [(使用者, 4), (資訊服務, 2), (管理系統, 2), (設計圖式, 2), (前...   \n",
      "417  [(意象輪廓, 2), (物品用途, 1), (設計說明, 1), (本設計, 1), (...   \n",
      "418  [(意象輪廓, 2), (物品用途, 1), (設計說明, 1), (設計特點, 1), (...   \n",
      "419  [(寶寶公仔, 5), (本設計, 2), (物品用途, 1), (外觀設計, 1), (...   \n",
      "\n",
      "                                                  WORD  \n",
      "0    [(上述, 10), (資料, 9), (信用, 6), (裝置, 5), (評等, 5),...  \n",
      "1    [(商家, 5), (客戶, 4), (消費, 4), (推薦, 3), (外在, 3), ...  \n",
      "2    [(帳戶, 8), (模組, 6), (約定, 4), (額度, 4), (設定, 4), ...  \n",
      "3    [(模組, 8), (審核, 7), (人工, 5), (資料庫, 5), (分析, 5),...  \n",
      "4    [(匯率, 22), (上述, 13), (模組, 8), (即時, 6), (接收, 3)...  \n",
      "..                                                 ...  \n",
      "415  [(服務, 5), (語音, 4), (目標, 4), (使用, 4), (者, 4), (...  \n",
      "416  [(設計, 7), (使用, 6), (視圖, 6), (為, 5), (者, 4), (圖...  \n",
      "417  [(設計, 5), (意象, 4), (領帶夾, 3), (輪廓, 3), (飾片, 3),...  \n",
      "418  [(設計, 5), (意象, 4), (輪廓, 3), (物品, 2), (係, 2), (...  \n",
      "419  [(設計, 10), (舞獅, 8), (寶寶, 6), (玩偶, 6), (公仔, 5),...  \n",
      "\n",
      "[420 rows x 3 columns]\n"
     ]
    }
   ],
   "metadata": {}
  },
  {
   "cell_type": "code",
   "execution_count": 15,
   "source": [
    "pd.DataFrame(bank).to_excel(result)\n",
    "\n",
    "#pd.DataFrame(bank).to_excel(result)\n",
    "\n"
   ],
   "outputs": [
    {
     "output_type": "stream",
     "name": "stderr",
     "text": [
      "<ipython-input-15-e3ba4ddf6bf6>:1: FutureWarning: As the xlwt package is no longer maintained, the xlwt engine will be removed in a future version of pandas. This is the only engine in pandas that supports writing in the xls format. Install openpyxl and write to an xlsx file instead. You can set the option io.excel.xls.writer to 'xlwt' to silence this warning. While this option is deprecated and will also raise a warning, it can be globally set and the warning suppressed.\n",
      "  pd.DataFrame(bank).to_excel(result)\n"
     ]
    }
   ],
   "metadata": {}
  },
  {
   "cell_type": "code",
   "execution_count": null,
   "source": [],
   "outputs": [],
   "metadata": {}
  }
 ],
 "metadata": {
  "kernelspec": {
   "name": "python3",
   "display_name": "Python 3.8.8 64-bit ('base': conda)"
  },
  "language_info": {
   "codemirror_mode": {
    "name": "ipython",
    "version": 3
   },
   "file_extension": ".py",
   "mimetype": "text/x-python",
   "name": "python",
   "nbconvert_exporter": "python",
   "pygments_lexer": "ipython3",
   "version": "3.8.8"
  },
  "interpreter": {
   "hash": "dca0ade3e726a953b501b15e8e990130d2b7799f14cfd9f4271676035ebe5511"
  }
 },
 "nbformat": 4,
 "nbformat_minor": 5
}