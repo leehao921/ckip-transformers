{
 "cells": [
  {
   "cell_type": "code",
   "execution_count": 37,
   "id": "acf71f4d",
   "metadata": {},
   "outputs": [
    {
     "name": "stdout",
     "output_type": "stream",
     "text": [
      "Initializing drivers ... WS\n",
      "Initializing drivers ... POS\n",
      "Initializing drivers ... NER\n",
      "Initializing drivers ... done\n",
      "\n"
     ]
    }
   ],
   "source": [
    "from ckip_transformers.nlp import CkipWordSegmenter, CkipPosTagger, CkipNerChunker\n",
    "import pandas as pd\n",
    "from pandas import ExcelWriter\n",
    "from collections import Counter\n",
    "import math\n",
    "\n",
    "print(\"Initializing drivers ... WS\")\n",
    "ws_driver = CkipWordSegmenter(level=2)\n",
    "print(\"Initializing drivers ... POS\")\n",
    "pos_driver = CkipPosTagger(level=2)\n",
    "print(\"Initializing drivers ... NER\")\n",
    "ner_driver = CkipNerChunker(level=2)\n",
    "print(\"Initializing drivers ... done\")\n",
    "print()\n"
   ]
  },
  {
   "cell_type": "code",
   "execution_count": 38,
   "id": "3b8dad26",
   "metadata": {},
   "outputs": [
    {
     "name": "stdout",
     "output_type": "stream",
     "text": [
      "      公開/公告號    公開/公告日          申請號       申請日  \\\n",
      "0  TWM614130  20210701  TW110203678  20210406   \n",
      "1  TWM614128  20210701  TW110203633  20210401   \n",
      "2  TWM614127  20210701  TW110203632  20210401   \n",
      "\n",
      "                                                專利名稱  \\\n",
      "0  推薦名單產製系統SYSTEMS FOR GENERATING RECOMMENDATION ...   \n",
      "1  適於支付保險賠款的電子裝置ELECTRONIC DEVICE SUITABLE FOR PA...   \n",
      "2  適於分派理賠案件的電子裝置ELECTRONIC DEVICE SUITABLE FOR AS...   \n",
      "\n",
      "                                                 申請人  \\\n",
      "0  富邦人壽保險股份有限公司; FUBON LIFE INSURANCE CO., LTD. (TW)   \n",
      "1       富邦產物保險股份有限公司; FUBON INSURANCE CO., LTD. (TW)   \n",
      "2       富邦產物保險股份有限公司; FUBON INSURANCE CO., LTD. (TW)   \n",
      "\n",
      "                                                  摘要  \\\n",
      "0  ﻿一種推薦名單產製系統，系統包括一業務員資料庫、一登入模組、一名單模組、一第一客戶互動紀錄資...   \n",
      "1  ﻿提供一種適於支付保險賠款的電子裝置。所述電子裝置包括儲存媒體、收發器以及處理器。儲存媒體儲...   \n",
      "2  ﻿提供一種適於分派理賠案件的電子裝置。所述電子裝置包括收發器、儲存媒體以及處理器。儲存媒體儲...   \n",
      "\n",
      "                                        IPC 引用專利  被參考次數      證書號  \\\n",
      "0  G06Q 30/02(2012.01); G06Q 40/00(2012.01)  NaN    NaN  M614130   \n",
      "1  G06Q 20/08(2012.01); G06Q 40/08(2012.01)  NaN    NaN  M614128   \n",
      "2                       G06Q 50/00(2012.01)  NaN    NaN  M614127   \n",
      "\n",
      "                備註                                               專利範圍  \n",
      "0  相同的創作已於同日申請發明專利  1.一種推薦名單產製系統，係用於具儲存與計算功能之電子裝置，包括：一業務員資料庫，儲存複數個...  \n",
      "1              NaN  1.一種適於支付保險賠款的電子裝置，包括：一儲存媒體，儲存至少一付款時間點；一收發器；以及一...  \n",
      "2              NaN  1.一種適於分派理賠案件的電子裝置，包括：一收發器；一儲存媒體，儲存一機器學習模型，並儲存分...  \n"
     ]
    }
   ],
   "source": [
    "# Input text\n",
    "fileName=\"富邦金（日盛）\";\n",
    "filename = \"./_target/\"+fileName+\".xls\"\n",
    "result=\"./_target/\"+fileName+\"reslt.xls\"\n",
    "file = pd.read_excel(filename)\n",
    "print(file.head(3))\n"
   ]
  },
  {
   "cell_type": "code",
   "execution_count": 39,
   "id": "46294f3b",
   "metadata": {
    "scrolled": true
   },
   "outputs": [
    {
     "name": "stderr",
     "output_type": "stream",
     "text": [
      "Tokenization: 100%|██████████| 1/1 [00:00<00:00, 1364.45it/s]\n",
      "Inference: 100%|██████████| 1/1 [00:00<00:00,  1.87it/s]\n",
      "Tokenization: 100%|██████████| 1/1 [00:00<00:00, 2032.12it/s]\n",
      "Inference: 100%|██████████| 1/1 [00:00<00:00,  1.23it/s]\n",
      "Tokenization: 100%|██████████| 1/1 [00:00<00:00, 2207.53it/s]\n",
      "Inference: 100%|██████████| 1/1 [00:00<00:00,  2.04it/s]\n",
      "Tokenization: 100%|██████████| 1/1 [00:00<00:00, 2341.88it/s]\n",
      "Inference:   0%|          | 0/1 [00:00<?, ?it/s]"
     ]
    },
    {
     "name": "stdout",
     "output_type": "stream",
     "text": [
      "Running pipeline ... done\n",
      "\n",
      "推薦名單產製系統SYSTEMS FOR GENERATING RECOMMENDATION LIST\n",
      "done\n",
      "------------\n",
      "\n"
     ]
    },
    {
     "name": "stderr",
     "output_type": "stream",
     "text": [
      "Inference: 100%|██████████| 1/1 [00:00<00:00,  2.14it/s]\n",
      "Tokenization: 100%|██████████| 1/1 [00:00<00:00, 2359.00it/s]\n",
      "Inference: 100%|██████████| 1/1 [00:00<00:00,  1.58it/s]\n",
      "Tokenization: 100%|██████████| 1/1 [00:00<00:00, 2000.14it/s]\n",
      "Inference: 100%|██████████| 1/1 [00:00<00:00,  2.16it/s]\n",
      "Tokenization: 100%|██████████| 1/1 [00:00<00:00, 1944.51it/s]\n",
      "Inference:   0%|          | 0/1 [00:00<?, ?it/s]"
     ]
    },
    {
     "name": "stdout",
     "output_type": "stream",
     "text": [
      "Running pipeline ... done\n",
      "\n",
      "適於支付保險賠款的電子裝置ELECTRONIC DEVICE SUITABLE FOR PAYING INSURANCE INDEMNITIES\n",
      "done\n",
      "------------\n",
      "\n"
     ]
    },
    {
     "name": "stderr",
     "output_type": "stream",
     "text": [
      "Inference: 100%|██████████| 1/1 [00:00<00:00,  2.03it/s]\n",
      "Tokenization: 100%|██████████| 1/1 [00:00<00:00, 2439.97it/s]\n",
      "Inference: 100%|██████████| 1/1 [00:00<00:00,  1.28it/s]\n",
      "Tokenization: 100%|██████████| 1/1 [00:00<00:00, 2347.12it/s]\n",
      "Inference: 100%|██████████| 1/1 [00:00<00:00,  2.01it/s]\n",
      "Tokenization: 100%|██████████| 1/1 [00:00<00:00, 1851.79it/s]\n",
      "Inference:   0%|          | 0/1 [00:00<?, ?it/s]"
     ]
    },
    {
     "name": "stdout",
     "output_type": "stream",
     "text": [
      "Running pipeline ... done\n",
      "\n",
      "適於分派理賠案件的電子裝置ELECTRONIC DEVICE SUITABLE FOR ASSIGNING CLAIM CASES\n",
      "done\n",
      "------------\n",
      "\n"
     ]
    },
    {
     "name": "stderr",
     "output_type": "stream",
     "text": [
      "Inference: 100%|██████████| 1/1 [00:00<00:00,  2.55it/s]\n",
      "Tokenization: 100%|██████████| 1/1 [00:00<00:00, 4032.98it/s]\n",
      "Inference: 100%|██████████| 1/1 [00:00<00:00,  1.30it/s]\n",
      "Tokenization: 100%|██████████| 1/1 [00:00<00:00, 2313.46it/s]\n",
      "Inference: 100%|██████████| 1/1 [00:00<00:00,  2.57it/s]\n",
      "Tokenization: 100%|██████████| 1/1 [00:00<00:00, 629.78it/s]\n",
      "Inference:   0%|          | 0/1 [00:00<?, ?it/s]"
     ]
    },
    {
     "name": "stdout",
     "output_type": "stream",
     "text": [
      "Running pipeline ... done\n",
      "\n",
      "職業代碼推薦系統NUMERICAL JOB CODE RECOMMENDATION SYSTEM\n",
      "done\n",
      "------------\n",
      "\n"
     ]
    },
    {
     "name": "stderr",
     "output_type": "stream",
     "text": [
      "Inference: 100%|██████████| 1/1 [00:03<00:00,  3.51s/it]\n",
      "Tokenization: 100%|██████████| 1/1 [00:00<00:00, 933.52it/s]\n",
      "Inference: 100%|██████████| 1/1 [00:06<00:00,  6.70s/it]\n",
      "Tokenization: 100%|██████████| 1/1 [00:00<00:00, 588.51it/s]\n",
      "Inference: 100%|██████████| 1/1 [00:03<00:00,  3.47s/it]\n",
      "Tokenization: 100%|██████████| 1/1 [00:00<00:00, 2034.10it/s]\n",
      "Inference:   0%|          | 0/1 [00:00<?, ?it/s]"
     ]
    },
    {
     "name": "stdout",
     "output_type": "stream",
     "text": [
      "Running pipeline ... done\n",
      "\n",
      "基於區塊鏈之保險系統及其保險方法BLOCKCHAIN BASED INSURANCE SYSTEM AND METHOD THEREOF\n",
      "done\n",
      "------------\n",
      "\n"
     ]
    },
    {
     "name": "stderr",
     "output_type": "stream",
     "text": [
      "Inference: 100%|██████████| 1/1 [00:00<00:00,  2.04it/s]\n",
      "Tokenization: 100%|██████████| 1/1 [00:00<00:00, 2174.34it/s]\n",
      "Inference: 100%|██████████| 1/1 [00:00<00:00,  1.33it/s]\n",
      "Tokenization: 100%|██████████| 1/1 [00:00<00:00, 3068.25it/s]\n",
      "Inference: 100%|██████████| 1/1 [00:00<00:00,  2.07it/s]\n",
      "Tokenization: 100%|██████████| 1/1 [00:00<00:00, 852.50it/s]\n",
      "Inference:   0%|          | 0/1 [00:00<?, ?it/s]"
     ]
    },
    {
     "name": "stdout",
     "output_type": "stream",
     "text": [
      "Running pipeline ... done\n",
      "\n",
      "績效管理分析系統PERFORMANCE MANAGEMENT ANALYZING SYSTEM\n",
      "done\n",
      "------------\n",
      "\n"
     ]
    },
    {
     "name": "stderr",
     "output_type": "stream",
     "text": [
      "Inference: 100%|██████████| 1/1 [00:02<00:00,  2.32s/it]\n",
      "Tokenization: 100%|██████████| 1/1 [00:00<00:00, 1557.48it/s]\n",
      "Inference: 100%|██████████| 1/1 [00:04<00:00,  4.28s/it]\n",
      "Tokenization: 100%|██████████| 1/1 [00:00<00:00, 949.58it/s]\n",
      "Inference: 100%|██████████| 1/1 [00:02<00:00,  2.35s/it]\n",
      "Tokenization: 100%|██████████| 1/1 [00:00<00:00, 698.82it/s]\n",
      "Inference:   0%|          | 0/1 [00:00<?, ?it/s]"
     ]
    },
    {
     "name": "stdout",
     "output_type": "stream",
     "text": [
      "Running pipeline ... done\n",
      "\n",
      "表單內容辨識系統及其方法A SYSTEM AND METHOD FOR IDENTIFYING THE CONTENT OF TABLE\n",
      "done\n",
      "------------\n",
      "\n"
     ]
    },
    {
     "name": "stderr",
     "output_type": "stream",
     "text": [
      "Inference: 100%|██████████| 1/1 [00:03<00:00,  3.46s/it]\n",
      "Tokenization: 100%|██████████| 1/1 [00:00<00:00, 997.93it/s]\n",
      "Inference: 100%|██████████| 1/1 [00:10<00:00, 10.41s/it]\n",
      "Tokenization: 100%|██████████| 1/1 [00:00<00:00, 293.68it/s]\n",
      "Inference: 100%|██████████| 1/1 [00:03<00:00,  3.56s/it]\n",
      "Tokenization: 100%|██████████| 1/1 [00:00<00:00, 501.77it/s]\n",
      "Inference:   0%|          | 0/1 [00:00<?, ?it/s]"
     ]
    },
    {
     "name": "stdout",
     "output_type": "stream",
     "text": [
      "Running pipeline ... done\n",
      "\n",
      "依據使用者網路瀏覽紀錄的商品購買評估系統及其方法SYSTEM AND METHOD FOR PURCHASING EVALUATION BASED ON USER’S WEB BROWSING RECORD\n",
      "done\n",
      "------------\n",
      "\n"
     ]
    },
    {
     "name": "stderr",
     "output_type": "stream",
     "text": [
      "Inference: 100%|██████████| 1/1 [00:03<00:00,  3.53s/it]\n",
      "Tokenization: 100%|██████████| 1/1 [00:00<00:00, 893.55it/s]\n",
      "Inference: 100%|██████████| 1/1 [00:17<00:00, 17.57s/it]\n",
      "Tokenization: 100%|██████████| 1/1 [00:00<00:00, 108.80it/s]\n",
      "Inference: 100%|██████████| 1/1 [00:03<00:00,  3.58s/it]\n",
      "Tokenization: 100%|██████████| 1/1 [00:00<00:00, 532.00it/s]\n",
      "Inference:   0%|          | 0/1 [00:00<?, ?it/s]"
     ]
    },
    {
     "name": "stdout",
     "output_type": "stream",
     "text": [
      "Running pipeline ... done\n",
      "\n",
      "資產負債模擬分析系統ASSET AND LIABILITY SIMULATION ANALYSIS SYSTEM\n",
      "done\n",
      "------------\n",
      "\n"
     ]
    },
    {
     "name": "stderr",
     "output_type": "stream",
     "text": [
      "Inference: 100%|██████████| 1/1 [00:03<00:00,  3.61s/it]\n",
      "Tokenization: 100%|██████████| 1/1 [00:00<00:00, 662.71it/s]\n",
      "Inference: 100%|██████████| 1/1 [00:12<00:00, 12.76s/it]\n",
      "Tokenization: 100%|██████████| 1/1 [00:00<00:00, 246.74it/s]\n",
      "Inference: 100%|██████████| 1/1 [00:03<00:00,  3.60s/it]\n",
      "Tokenization: 100%|██████████| 1/1 [00:00<00:00, 594.94it/s]\n",
      "Inference:   0%|          | 0/1 [00:00<?, ?it/s]"
     ]
    },
    {
     "name": "stdout",
     "output_type": "stream",
     "text": [
      "Running pipeline ... done\n",
      "\n",
      "物資管理系統及其物資管理之方法MATERIAL MANAGEMENT SYSTEM AND MATERIAL MANAGEMENT METHOD THEREOF\n",
      "done\n",
      "------------\n",
      "\n"
     ]
    },
    {
     "name": "stderr",
     "output_type": "stream",
     "text": [
      "Inference: 100%|██████████| 1/1 [00:03<00:00,  3.50s/it]\n",
      "Tokenization: 100%|██████████| 1/1 [00:00<00:00, 881.90it/s]\n",
      "Inference: 100%|██████████| 1/1 [00:21<00:00, 21.47s/it]\n",
      "Tokenization: 100%|██████████| 1/1 [00:00<00:00, 56.71it/s]\n",
      "Inference: 100%|██████████| 1/1 [00:03<00:00,  3.52s/it]\n",
      "Tokenization: 100%|██████████| 1/1 [00:00<00:00, 567.80it/s]\n",
      "Inference:   0%|          | 0/1 [00:00<?, ?it/s]"
     ]
    },
    {
     "name": "stdout",
     "output_type": "stream",
     "text": [
      "Running pipeline ... done\n",
      "\n",
      "電子招標系統與方法SYSTEM AND METHOD OF ELECTRONIC TENDER\n",
      "done\n",
      "------------\n",
      "\n"
     ]
    },
    {
     "name": "stderr",
     "output_type": "stream",
     "text": [
      "Inference: 100%|██████████| 1/1 [00:03<00:00,  3.49s/it]\n",
      "Tokenization: 100%|██████████| 1/1 [00:00<00:00, 992.26it/s]\n",
      "Inference: 100%|██████████| 1/1 [00:21<00:00, 21.51s/it]\n",
      "Tokenization: 100%|██████████| 1/1 [00:00<00:00, 81.33it/s]\n",
      "Inference: 100%|██████████| 1/1 [00:03<00:00,  3.66s/it]\n",
      "Tokenization: 100%|██████████| 1/1 [00:00<00:00, 1675.04it/s]\n",
      "Inference:   0%|          | 0/1 [00:00<?, ?it/s]"
     ]
    },
    {
     "name": "stdout",
     "output_type": "stream",
     "text": [
      "Running pipeline ... done\n",
      "\n",
      "租賃管理系統及其方法RENTAL MANAGEMENT SYSTEM AND METHOD THEREOF\n",
      "done\n",
      "------------\n",
      "\n"
     ]
    },
    {
     "name": "stderr",
     "output_type": "stream",
     "text": [
      "Inference: 100%|██████████| 1/1 [00:00<00:00,  1.68it/s]\n",
      "Tokenization: 100%|██████████| 1/1 [00:00<00:00, 2702.52it/s]\n",
      "Inference: 100%|██████████| 1/1 [00:00<00:00,  1.44it/s]\n",
      "Tokenization: 100%|██████████| 1/1 [00:00<00:00, 1795.51it/s]\n",
      "Inference: 100%|██████████| 1/1 [00:00<00:00,  1.75it/s]\n",
      "Tokenization: 100%|██████████| 1/1 [00:00<00:00, 632.63it/s]\n",
      "Inference:   0%|          | 0/1 [00:00<?, ?it/s]"
     ]
    },
    {
     "name": "stdout",
     "output_type": "stream",
     "text": [
      "Running pipeline ... done\n",
      "\n",
      "線上申購系統及金融商品線上申購方法\n",
      "done\n",
      "------------\n",
      "\n"
     ]
    },
    {
     "name": "stderr",
     "output_type": "stream",
     "text": [
      "Inference: 100%|██████████| 1/1 [00:03<00:00,  3.54s/it]\n",
      "Tokenization: 100%|██████████| 1/1 [00:00<00:00, 1117.59it/s]\n",
      "Inference: 100%|██████████| 1/1 [00:13<00:00, 13.27s/it]\n",
      "Tokenization: 100%|██████████| 1/1 [00:00<00:00, 242.42it/s]\n",
      "Inference: 100%|██████████| 1/1 [00:03<00:00,  3.60s/it]\n",
      "Tokenization: 100%|██████████| 1/1 [00:00<00:00, 1772.74it/s]\n",
      "Inference:   0%|          | 0/1 [00:00<?, ?it/s]"
     ]
    },
    {
     "name": "stdout",
     "output_type": "stream",
     "text": [
      "Running pipeline ... done\n",
      "\n",
      "資料去識別化系統及其方法DATA DE-IDENTIFICATION SYSTEM AND METHOD THEREOF\n",
      "done\n",
      "------------\n",
      "\n"
     ]
    },
    {
     "name": "stderr",
     "output_type": "stream",
     "text": [
      "Inference: 100%|██████████| 1/1 [00:00<00:00,  1.61it/s]\n",
      "Tokenization: 100%|██████████| 1/1 [00:00<00:00, 1781.78it/s]\n",
      "Inference: 100%|██████████| 1/1 [00:01<00:00,  1.62s/it]\n",
      "Tokenization: 100%|██████████| 1/1 [00:00<00:00, 2551.28it/s]\n",
      "Inference: 100%|██████████| 1/1 [00:00<00:00,  1.64it/s]\n",
      "Tokenization: 100%|██████████| 1/1 [00:00<00:00, 1872.46it/s]\n",
      "Inference:   0%|          | 0/1 [00:00<?, ?it/s]"
     ]
    },
    {
     "name": "stdout",
     "output_type": "stream",
     "text": [
      "Running pipeline ... done\n",
      "\n",
      "跨行資金轉移系統Inter-bank fund transfer system\n",
      "done\n",
      "------------\n",
      "\n"
     ]
    },
    {
     "name": "stderr",
     "output_type": "stream",
     "text": [
      "Inference: 100%|██████████| 1/1 [00:00<00:00,  1.71it/s]\n",
      "Tokenization: 100%|██████████| 1/1 [00:00<00:00, 1825.20it/s]\n",
      "Inference: 100%|██████████| 1/1 [00:00<00:00,  1.25it/s]\n",
      "Tokenization: 100%|██████████| 1/1 [00:00<00:00, 2468.69it/s]\n",
      "Inference: 100%|██████████| 1/1 [00:00<00:00,  1.75it/s]\n",
      "Tokenization: 100%|██████████| 1/1 [00:00<00:00, 537.39it/s]\n",
      "Inference:   0%|          | 0/1 [00:00<?, ?it/s]"
     ]
    },
    {
     "name": "stdout",
     "output_type": "stream",
     "text": [
      "Running pipeline ... done\n",
      "\n",
      "區塊鏈金融交易系統Blockchain financial transaction system\n",
      "done\n",
      "------------\n",
      "\n"
     ]
    },
    {
     "name": "stderr",
     "output_type": "stream",
     "text": [
      "Inference: 100%|██████████| 1/1 [00:03<00:00,  3.54s/it]\n",
      "Tokenization: 100%|██████████| 1/1 [00:00<00:00, 914.79it/s]\n",
      "Inference: 100%|██████████| 1/1 [00:19<00:00, 19.09s/it]\n",
      "Tokenization: 100%|██████████| 1/1 [00:00<00:00,  4.84it/s]\n",
      "Inference: 100%|██████████| 1/1 [00:03<00:00,  3.52s/it]\n",
      "Tokenization: 100%|██████████| 1/1 [00:00<00:00, 1470.14it/s]\n",
      "Inference:   0%|          | 0/1 [00:00<?, ?it/s]"
     ]
    },
    {
     "name": "stdout",
     "output_type": "stream",
     "text": [
      "Running pipeline ... done\n",
      "\n",
      "智能客戶貼標裝置SMART CUSTOMER TAGGING DEVICE\n",
      "done\n",
      "------------\n",
      "\n"
     ]
    },
    {
     "name": "stderr",
     "output_type": "stream",
     "text": [
      "Inference: 100%|██████████| 1/1 [00:00<00:00,  1.79it/s]\n",
      "Tokenization: 100%|██████████| 1/1 [00:00<00:00, 2083.61it/s]\n",
      "Inference: 100%|██████████| 1/1 [00:01<00:00,  1.01s/it]\n",
      "Tokenization: 100%|██████████| 1/1 [00:00<00:00, 2505.56it/s]\n",
      "Inference: 100%|██████████| 1/1 [00:00<00:00,  1.73it/s]\n",
      "Tokenization: 100%|██████████| 1/1 [00:00<00:00, 2193.67it/s]\n",
      "Inference:   0%|          | 0/1 [00:00<?, ?it/s]"
     ]
    },
    {
     "name": "stdout",
     "output_type": "stream",
     "text": [
      "Running pipeline ... done\n",
      "\n",
      "證券行情監控系統Stock market monitoring system\n",
      "done\n",
      "------------\n",
      "\n"
     ]
    },
    {
     "name": "stderr",
     "output_type": "stream",
     "text": [
      "Inference: 100%|██████████| 1/1 [00:00<00:00,  2.34it/s]\n",
      "Tokenization: 100%|██████████| 1/1 [00:00<00:00, 2335.36it/s]\n",
      "Inference: 100%|██████████| 1/1 [00:00<00:00,  1.41it/s]\n",
      "Tokenization: 100%|██████████| 1/1 [00:00<00:00, 1474.79it/s]\n",
      "Inference: 100%|██████████| 1/1 [00:00<00:00,  2.31it/s]\n",
      "Tokenization: 100%|██████████| 1/1 [00:00<00:00, 750.73it/s]\n",
      "Inference:   0%|          | 0/1 [00:00<?, ?it/s]"
     ]
    },
    {
     "name": "stdout",
     "output_type": "stream",
     "text": [
      "Running pipeline ... done\n",
      "\n",
      "運用深度學習之長短期記憶模型輔助保險理賠系統及其方法SYSTEM AND METHOD FOR PROCESSING INSURANCE CLAIMS USING LONG SHORT-TERM MEMORY MODEL OF DEEP LEARNING\n",
      "done\n",
      "------------\n",
      "\n"
     ]
    },
    {
     "name": "stderr",
     "output_type": "stream",
     "text": [
      "Inference: 100%|██████████| 1/1 [00:02<00:00,  2.34s/it]\n",
      "Tokenization: 100%|██████████| 1/1 [00:00<00:00, 1064.00it/s]\n",
      "Inference: 100%|██████████| 1/1 [00:16<00:00, 16.05s/it]\n",
      "Tokenization: 100%|██████████| 1/1 [00:00<00:00, 277.71it/s]\n",
      "Inference: 100%|██████████| 1/1 [00:02<00:00,  2.35s/it]\n",
      "Tokenization: 100%|██████████| 1/1 [00:00<00:00, 714.17it/s]\n",
      "Inference:   0%|          | 0/1 [00:00<?, ?it/s]"
     ]
    },
    {
     "name": "stdout",
     "output_type": "stream",
     "text": [
      "Running pipeline ... done\n",
      "\n",
      "車禍事故之定責與定損系統及方法CLAIM ADJUSTMENT AND DAMAGE ASSESSMENT SYSTEM AND METHOD FOR MOTOR ACCIDENT\n",
      "done\n",
      "------------\n",
      "\n"
     ]
    },
    {
     "name": "stderr",
     "output_type": "stream",
     "text": [
      "Inference: 100%|██████████| 1/1 [00:02<00:00,  2.31s/it]\n",
      "Tokenization: 100%|██████████| 1/1 [00:00<00:00, 954.12it/s]\n",
      "Inference: 100%|██████████| 1/1 [00:05<00:00,  5.49s/it]\n",
      "Tokenization: 100%|██████████| 1/1 [00:00<00:00, 791.68it/s]\n",
      "Inference: 100%|██████████| 1/1 [00:02<00:00,  2.46s/it]\n",
      "Tokenization: 100%|██████████| 1/1 [00:00<00:00, 673.03it/s]\n",
      "Inference:   0%|          | 0/1 [00:00<?, ?it/s]"
     ]
    },
    {
     "name": "stdout",
     "output_type": "stream",
     "text": [
      "Running pipeline ... done\n",
      "\n",
      "運用深度學習之長短期記憶模型輔助保險理賠系統及其方法SYSTEM AND METHOD FOR PROCESSING INSURANCE CLAIMS USING LONG SHORT-TERM MEMORY MODEL OF DEEP LEARNING\n",
      "done\n",
      "------------\n",
      "\n"
     ]
    },
    {
     "name": "stderr",
     "output_type": "stream",
     "text": [
      "Inference: 100%|██████████| 1/1 [00:02<00:00,  2.35s/it]\n",
      "Tokenization: 100%|██████████| 1/1 [00:00<00:00, 1212.23it/s]\n",
      "Inference: 100%|██████████| 1/1 [00:08<00:00,  8.22s/it]\n",
      "Tokenization: 100%|██████████| 1/1 [00:00<00:00, 816.49it/s]\n",
      "Inference: 100%|██████████| 1/1 [00:02<00:00,  2.33s/it]\n",
      "Tokenization: 100%|██████████| 1/1 [00:00<00:00, 1652.60it/s]\n",
      "Inference:   0%|          | 0/1 [00:00<?, ?it/s]"
     ]
    },
    {
     "name": "stdout",
     "output_type": "stream",
     "text": [
      "Running pipeline ... done\n",
      "\n",
      "運用深度學習技術之保險理賠系統及其方法SYSTEM AND METHOD FOR DEEP LEARNING BASED INSURANCE CLAIMING\n",
      "done\n",
      "------------\n",
      "\n"
     ]
    },
    {
     "name": "stderr",
     "output_type": "stream",
     "text": [
      "Inference: 100%|██████████| 1/1 [00:00<00:00,  2.26it/s]\n",
      "Tokenization: 100%|██████████| 1/1 [00:00<00:00, 2380.42it/s]\n",
      "Inference: 100%|██████████| 1/1 [00:00<00:00,  1.16it/s]\n",
      "Tokenization: 100%|██████████| 1/1 [00:00<00:00, 2507.06it/s]\n",
      "Inference: 100%|██████████| 1/1 [00:00<00:00,  2.13it/s]\n",
      "Tokenization: 100%|██████████| 1/1 [00:00<00:00, 852.50it/s]\n",
      "Inference:   0%|          | 0/1 [00:00<?, ?it/s]"
     ]
    },
    {
     "name": "stdout",
     "output_type": "stream",
     "text": [
      "Running pipeline ... done\n",
      "\n",
      "車禍事故之定責與定損系統及方法CLAIM ADJUSTMENT AND DAMAGE ASSESSMENT SYSTEM AND METHOD FOR MOTOR ACCIDENT\n",
      "done\n",
      "------------\n",
      "\n"
     ]
    },
    {
     "name": "stderr",
     "output_type": "stream",
     "text": [
      "Inference: 100%|██████████| 1/1 [00:01<00:00,  1.42s/it]\n",
      "Tokenization: 100%|██████████| 1/1 [00:00<00:00, 240.69it/s]\n",
      "Inference: 100%|██████████| 1/1 [00:03<00:00,  3.36s/it]\n",
      "Tokenization: 100%|██████████| 1/1 [00:00<00:00, 970.68it/s]\n",
      "Inference: 100%|██████████| 1/1 [00:01<00:00,  1.16s/it]\n",
      "Tokenization: 100%|██████████| 1/1 [00:00<00:00, 600.90it/s]\n",
      "Inference:   0%|          | 0/1 [00:00<?, ?it/s]"
     ]
    },
    {
     "name": "stdout",
     "output_type": "stream",
     "text": [
      "Running pipeline ... done\n",
      "\n",
      "法令遵循管理系統及其方法A REGULATORY COMPLIANCE MANAGEMENT SYSTEM AND METHOD THEREOF\n",
      "done\n",
      "------------\n",
      "\n"
     ]
    },
    {
     "name": "stderr",
     "output_type": "stream",
     "text": [
      "Inference: 100%|██████████| 1/1 [00:02<00:00,  2.52s/it]\n",
      "Tokenization: 100%|██████████| 1/1 [00:00<00:00, 1043.88it/s]\n",
      "Inference: 100%|██████████| 1/1 [00:04<00:00,  4.77s/it]\n",
      "Tokenization: 100%|██████████| 1/1 [00:00<00:00, 731.99it/s]\n",
      "Inference: 100%|██████████| 1/1 [00:02<00:00,  2.39s/it]\n",
      "Tokenization: 100%|██████████| 1/1 [00:00<00:00, 647.17it/s]\n",
      "Inference:   0%|          | 0/1 [00:00<?, ?it/s]"
     ]
    },
    {
     "name": "stdout",
     "output_type": "stream",
     "text": [
      "Running pipeline ... done\n",
      "\n",
      "語意分析裝置SEMANTIC ANALYSIS DEVICE\n",
      "done\n",
      "------------\n",
      "\n"
     ]
    },
    {
     "name": "stderr",
     "output_type": "stream",
     "text": [
      "Inference: 100%|██████████| 1/1 [00:02<00:00,  2.37s/it]\n",
      "Tokenization: 100%|██████████| 1/1 [00:00<00:00, 1300.56it/s]\n",
      "Inference: 100%|██████████| 1/1 [00:08<00:00,  8.90s/it]\n",
      "Tokenization: 100%|██████████| 1/1 [00:00<00:00, 595.27it/s]\n",
      "Inference: 100%|██████████| 1/1 [00:02<00:00,  2.41s/it]\n",
      "Tokenization: 100%|██████████| 1/1 [00:00<00:00, 532.47it/s]\n",
      "Inference:   0%|          | 0/1 [00:00<?, ?it/s]"
     ]
    },
    {
     "name": "stdout",
     "output_type": "stream",
     "text": [
      "Running pipeline ... done\n",
      "\n",
      "保險資產估算方法及其系統INSURANCE ASSET ESTIMATION METHOD AND SYSTEM THEREOF\n",
      "done\n",
      "------------\n",
      "\n"
     ]
    },
    {
     "name": "stderr",
     "output_type": "stream",
     "text": [
      "Inference: 100%|██████████| 1/1 [00:03<00:00,  3.43s/it]\n",
      "Tokenization: 100%|██████████| 1/1 [00:00<00:00, 874.72it/s]\n",
      "Inference: 100%|██████████| 1/1 [00:19<00:00, 19.36s/it]\n",
      "Tokenization: 100%|██████████| 1/1 [00:00<00:00, 260.35it/s]\n",
      "Inference: 100%|██████████| 1/1 [00:03<00:00,  3.44s/it]\n",
      "Tokenization: 100%|██████████| 1/1 [00:00<00:00, 1557.48it/s]\n",
      "Inference:   0%|          | 0/1 [00:00<?, ?it/s]"
     ]
    },
    {
     "name": "stdout",
     "output_type": "stream",
     "text": [
      "Running pipeline ... done\n",
      "\n",
      "特權帳號管理系統PRIVILEGED ACCOUNT MANAGEMENT SYSTEM\n",
      "done\n",
      "------------\n",
      "\n"
     ]
    },
    {
     "name": "stderr",
     "output_type": "stream",
     "text": [
      "Inference: 100%|██████████| 1/1 [00:00<00:00,  1.85it/s]\n",
      "Tokenization: 100%|██████████| 1/1 [00:00<00:00, 1494.23it/s]\n",
      "Inference: 100%|██████████| 1/1 [00:00<00:00,  1.37it/s]\n",
      "Tokenization: 100%|██████████| 1/1 [00:00<00:00, 2007.80it/s]\n",
      "Inference: 100%|██████████| 1/1 [00:00<00:00,  1.92it/s]\n",
      "Tokenization: 100%|██████████| 1/1 [00:00<00:00, 1622.55it/s]\n",
      "Inference:   0%|          | 0/1 [00:00<?, ?it/s]"
     ]
    },
    {
     "name": "stdout",
     "output_type": "stream",
     "text": [
      "Running pipeline ... done\n",
      "\n",
      "具調節帳戶機制的證券投資系統Securities investment system with account adjustment mechanism\n",
      "done\n",
      "------------\n",
      "\n"
     ]
    },
    {
     "name": "stderr",
     "output_type": "stream",
     "text": [
      "Inference: 100%|██████████| 1/1 [00:00<00:00,  1.78it/s]\n",
      "Tokenization: 100%|██████████| 1/1 [00:00<00:00, 1621.30it/s]\n",
      "Inference: 100%|██████████| 1/1 [00:00<00:00,  1.36it/s]\n",
      "Tokenization: 100%|██████████| 1/1 [00:00<00:00, 1102.60it/s]\n",
      "Inference: 100%|██████████| 1/1 [00:00<00:00,  1.72it/s]\n",
      "Tokenization: 100%|██████████| 1/1 [00:00<00:00, 2040.03it/s]\n",
      "Inference:   0%|          | 0/1 [00:00<?, ?it/s]"
     ]
    },
    {
     "name": "stdout",
     "output_type": "stream",
     "text": [
      "Running pipeline ... done\n",
      "\n",
      "行動授權管理裝置及行動授權管理系統Mobile authorization management device and mobile authorization management system\n",
      "done\n",
      "------------\n",
      "\n"
     ]
    },
    {
     "name": "stderr",
     "output_type": "stream",
     "text": [
      "Inference: 100%|██████████| 1/1 [00:00<00:00,  1.88it/s]\n",
      "Tokenization: 100%|██████████| 1/1 [00:00<00:00, 1392.53it/s]\n",
      "Inference: 100%|██████████| 1/1 [00:00<00:00,  1.46it/s]\n",
      "Tokenization: 100%|██████████| 1/1 [00:00<00:00, 1146.92it/s]\n",
      "Inference: 100%|██████████| 1/1 [00:00<00:00,  1.82it/s]\n",
      "Tokenization: 100%|██████████| 1/1 [00:00<00:00, 2159.79it/s]\n",
      "Inference:   0%|          | 0/1 [00:00<?, ?it/s]"
     ]
    },
    {
     "name": "stdout",
     "output_type": "stream",
     "text": [
      "Running pipeline ... done\n",
      "\n",
      "行動銀行系統Mobile banking system\n",
      "done\n",
      "------------\n",
      "\n"
     ]
    },
    {
     "name": "stderr",
     "output_type": "stream",
     "text": [
      "Inference: 100%|██████████| 1/1 [00:00<00:00,  1.84it/s]\n",
      "Tokenization: 100%|██████████| 1/1 [00:00<00:00, 2833.99it/s]\n",
      "Inference: 100%|██████████| 1/1 [00:00<00:00,  1.15it/s]\n",
      "Tokenization: 100%|██████████| 1/1 [00:00<00:00, 2438.55it/s]\n",
      "Inference: 100%|██████████| 1/1 [00:00<00:00,  1.85it/s]\n",
      "Tokenization: 100%|██████████| 1/1 [00:00<00:00, 1844.46it/s]\n",
      "Inference:   0%|          | 0/1 [00:00<?, ?it/s]"
     ]
    },
    {
     "name": "stdout",
     "output_type": "stream",
     "text": [
      "Running pipeline ... done\n",
      "\n",
      "企業申貸評估系統Enterprise loan evaluation system\n",
      "done\n",
      "------------\n",
      "\n"
     ]
    },
    {
     "name": "stderr",
     "output_type": "stream",
     "text": [
      "Inference: 100%|██████████| 1/1 [00:00<00:00,  1.77it/s]\n",
      "Tokenization: 100%|██████████| 1/1 [00:00<00:00, 2603.54it/s]\n",
      "Inference: 100%|██████████| 1/1 [00:00<00:00,  1.08it/s]\n",
      "Tokenization: 100%|██████████| 1/1 [00:00<00:00, 2590.68it/s]\n",
      "Inference: 100%|██████████| 1/1 [00:00<00:00,  1.79it/s]\n",
      "Tokenization: 100%|██████████| 1/1 [00:00<00:00, 1763.79it/s]\n",
      "Inference:   0%|          | 0/1 [00:00<?, ?it/s]"
     ]
    },
    {
     "name": "stdout",
     "output_type": "stream",
     "text": [
      "Running pipeline ... done\n",
      "\n",
      "智慧獎勵系統Smart reward system\n",
      "done\n",
      "------------\n",
      "\n"
     ]
    },
    {
     "name": "stderr",
     "output_type": "stream",
     "text": [
      "Inference: 100%|██████████| 1/1 [00:00<00:00,  1.73it/s]\n",
      "Tokenization: 100%|██████████| 1/1 [00:00<00:00, 2481.84it/s]\n",
      "Inference: 100%|██████████| 1/1 [00:00<00:00,  1.15it/s]\n",
      "Tokenization: 100%|██████████| 1/1 [00:00<00:00, 1522.43it/s]\n",
      "Inference: 100%|██████████| 1/1 [00:00<00:00,  1.70it/s]\n",
      "Tokenization: 100%|██████████| 1/1 [00:00<00:00, 698.35it/s]\n",
      "Inference:   0%|          | 0/1 [00:00<?, ?it/s]"
     ]
    },
    {
     "name": "stdout",
     "output_type": "stream",
     "text": [
      "Running pipeline ... done\n",
      "\n",
      "金融商品篩選並揭示回測結果方法及系統\n",
      "done\n",
      "------------\n",
      "\n"
     ]
    },
    {
     "name": "stderr",
     "output_type": "stream",
     "text": [
      "Inference: 100%|██████████| 1/1 [00:03<00:00,  3.45s/it]\n",
      "Tokenization: 100%|██████████| 1/1 [00:00<00:00, 946.15it/s]\n",
      "Inference: 100%|██████████| 1/1 [00:12<00:00, 12.16s/it]\n",
      "Tokenization: 100%|██████████| 1/1 [00:00<00:00, 300.19it/s]\n",
      "Inference: 100%|██████████| 1/1 [00:03<00:00,  3.42s/it]\n",
      "Tokenization: 100%|██████████| 1/1 [00:00<00:00, 1379.25it/s]\n",
      "Inference:   0%|          | 0/1 [00:00<?, ?it/s]"
     ]
    },
    {
     "name": "stdout",
     "output_type": "stream",
     "text": [
      "Running pipeline ... done\n",
      "\n",
      "資料去識別化系統DATA DE-IDENTIFICATION SYSTEM\n",
      "done\n",
      "------------\n",
      "\n"
     ]
    },
    {
     "name": "stderr",
     "output_type": "stream",
     "text": [
      "Inference: 100%|██████████| 1/1 [00:00<00:00,  1.61it/s]\n",
      "Tokenization: 100%|██████████| 1/1 [00:00<00:00, 258.92it/s]\n",
      "Inference: 100%|██████████| 1/1 [00:01<00:00,  1.01s/it]\n",
      "Tokenization: 100%|██████████| 1/1 [00:00<00:00, 2414.68it/s]\n",
      "Inference: 100%|██████████| 1/1 [00:00<00:00,  1.72it/s]\n",
      "Tokenization: 100%|██████████| 1/1 [00:00<00:00, 707.18it/s]\n",
      "Inference:   0%|          | 0/1 [00:00<?, ?it/s]"
     ]
    },
    {
     "name": "stdout",
     "output_type": "stream",
     "text": [
      "Running pipeline ... done\n",
      "\n",
      "電子招標系統Electronic bidding system\n",
      "done\n",
      "------------\n",
      "\n"
     ]
    },
    {
     "name": "stderr",
     "output_type": "stream",
     "text": [
      "Inference: 100%|██████████| 1/1 [00:02<00:00,  2.35s/it]\n",
      "Tokenization: 100%|██████████| 1/1 [00:00<00:00, 999.12it/s]\n",
      "Inference: 100%|██████████| 1/1 [00:16<00:00, 16.40s/it]\n",
      "Tokenization: 100%|██████████| 1/1 [00:00<00:00, 331.02it/s]\n",
      "Inference: 100%|██████████| 1/1 [00:02<00:00,  2.34s/it]\n",
      "Tokenization: 100%|██████████| 1/1 [00:00<00:00, 2024.28it/s]\n",
      "Inference:   0%|          | 0/1 [00:00<?, ?it/s]"
     ]
    },
    {
     "name": "stdout",
     "output_type": "stream",
     "text": [
      "Running pipeline ... done\n",
      "\n",
      "折價券管理系統及其方法COUPON MANAGEMENT SYSTEM AND METHOD THEREOF\n",
      "done\n",
      "------------\n",
      "\n"
     ]
    },
    {
     "name": "stderr",
     "output_type": "stream",
     "text": [
      "Inference: 100%|██████████| 1/1 [00:00<00:00,  2.24it/s]\n",
      "Tokenization: 100%|██████████| 1/1 [00:00<00:00, 2732.45it/s]\n",
      "Inference: 100%|██████████| 1/1 [00:00<00:00,  1.25it/s]\n",
      "Tokenization: 100%|██████████| 1/1 [00:00<00:00, 2697.30it/s]\n",
      "Inference: 100%|██████████| 1/1 [00:00<00:00,  2.23it/s]\n",
      "Tokenization: 100%|██████████| 1/1 [00:00<00:00, 473.50it/s]\n",
      "Inference:   0%|          | 0/1 [00:00<?, ?it/s]"
     ]
    },
    {
     "name": "stdout",
     "output_type": "stream",
     "text": [
      "Running pipeline ... done\n",
      "\n",
      "工程規劃管理系統ENGINEERING PLANNING MANAGEMENT SYSTEM\n",
      "done\n",
      "------------\n",
      "\n"
     ]
    },
    {
     "name": "stderr",
     "output_type": "stream",
     "text": [
      "Inference: 100%|██████████| 1/1 [00:03<00:00,  3.54s/it]\n",
      "Tokenization: 100%|██████████| 1/1 [00:00<00:00, 890.32it/s]\n",
      "Inference: 100%|██████████| 1/1 [00:22<00:00, 22.93s/it]\n",
      "Tokenization: 100%|██████████| 1/1 [00:00<00:00, 94.30it/s]\n",
      "Inference: 100%|██████████| 1/1 [00:03<00:00,  3.61s/it]\n",
      "Tokenization: 100%|██████████| 1/1 [00:00<00:00, 578.37it/s]\n",
      "Inference:   0%|          | 0/1 [00:00<?, ?it/s]"
     ]
    },
    {
     "name": "stdout",
     "output_type": "stream",
     "text": [
      "Running pipeline ... done\n",
      "\n",
      "分散式車險評估系統及其方法DECENTRALIZED VEHICLE RISK ASSESSMENT SYSTEM AND METHOD THEREOF\n",
      "done\n",
      "------------\n",
      "\n"
     ]
    },
    {
     "name": "stderr",
     "output_type": "stream",
     "text": [
      "Inference: 100%|██████████| 1/1 [00:02<00:00,  2.44s/it]\n",
      "Tokenization: 100%|██████████| 1/1 [00:00<00:00, 1228.92it/s]\n",
      "Inference: 100%|██████████| 1/1 [00:08<00:00,  8.08s/it]\n",
      "Tokenization: 100%|██████████| 1/1 [00:00<00:00, 784.42it/s]\n",
      "Inference: 100%|██████████| 1/1 [00:02<00:00,  2.40s/it]\n",
      "Tokenization: 100%|██████████| 1/1 [00:00<00:00, 497.72it/s]\n",
      "Inference:   0%|          | 0/1 [00:00<?, ?it/s]"
     ]
    },
    {
     "name": "stdout",
     "output_type": "stream",
     "text": [
      "Running pipeline ... done\n",
      "\n",
      "用於遠端現場事故影像與身份驗證的系統與方法METHOD AND SYSTEM FOR VERIFYING REMOTE ACCIDENT SCENE IMAGE AND IDENTITY\n",
      "done\n",
      "------------\n",
      "\n"
     ]
    },
    {
     "name": "stderr",
     "output_type": "stream",
     "text": [
      "Inference: 100%|██████████| 1/1 [00:03<00:00,  3.64s/it]\n",
      "Tokenization: 100%|██████████| 1/1 [00:00<00:00, 585.55it/s]\n",
      "Inference: 100%|██████████| 1/1 [00:15<00:00, 15.66s/it]\n",
      "Tokenization: 100%|██████████| 1/1 [00:00<00:00, 201.13it/s]\n",
      "Inference: 100%|██████████| 1/1 [00:03<00:00,  3.55s/it]\n",
      "Tokenization: 100%|██████████| 1/1 [00:00<00:00, 687.25it/s]\n",
      "Inference:   0%|          | 0/1 [00:00<?, ?it/s]"
     ]
    },
    {
     "name": "stdout",
     "output_type": "stream",
     "text": [
      "Running pipeline ... done\n",
      "\n",
      "理賠審核流程控制裝置與方法DEVICE AND METHOD FOR CLAIMS REVIEWING PROCESS CONTROLLING\n",
      "done\n",
      "------------\n",
      "\n"
     ]
    },
    {
     "name": "stderr",
     "output_type": "stream",
     "text": [
      "Inference: 100%|██████████| 1/1 [00:02<00:00,  2.38s/it]\n",
      "Tokenization: 100%|██████████| 1/1 [00:00<00:00, 1003.18it/s]\n",
      "Inference: 100%|██████████| 1/1 [00:06<00:00,  6.92s/it]\n",
      "Tokenization: 100%|██████████| 1/1 [00:00<00:00, 786.19it/s]\n",
      "Inference: 100%|██████████| 1/1 [00:02<00:00,  2.38s/it]\n",
      "Tokenization: 100%|██████████| 1/1 [00:00<00:00, 1272.16it/s]\n",
      "Inference:   0%|          | 0/1 [00:00<?, ?it/s]"
     ]
    },
    {
     "name": "stdout",
     "output_type": "stream",
     "text": [
      "Running pipeline ... done\n",
      "\n",
      "電子裝置與自動化理賠方法ELECTRONIC DEVICE AND AUTOMATIC CLAIMS METHOD\n",
      "done\n",
      "------------\n",
      "\n"
     ]
    },
    {
     "name": "stderr",
     "output_type": "stream",
     "text": [
      "Inference: 100%|██████████| 1/1 [00:00<00:00,  1.76it/s]\n",
      "Tokenization: 100%|██████████| 1/1 [00:00<00:00, 2091.92it/s]\n",
      "Inference: 100%|██████████| 1/1 [00:00<00:00,  1.03it/s]\n",
      "Tokenization: 100%|██████████| 1/1 [00:00<00:00, 1194.96it/s]\n",
      "Inference: 100%|██████████| 1/1 [00:00<00:00,  1.71it/s]\n",
      "Tokenization: 100%|██████████| 1/1 [00:00<00:00, 2058.05it/s]\n",
      "Inference:   0%|          | 0/1 [00:00<?, ?it/s]"
     ]
    },
    {
     "name": "stdout",
     "output_type": "stream",
     "text": [
      "Running pipeline ... done\n",
      "\n",
      "企業財務曝險管理系統EXPOSURE MANAGEMENT SYSTEM OF CORPORATE FINANCE\n",
      "done\n",
      "------------\n",
      "\n"
     ]
    },
    {
     "name": "stderr",
     "output_type": "stream",
     "text": [
      "Inference: 100%|██████████| 1/1 [00:00<00:00,  1.98it/s]\n",
      "Tokenization: 100%|██████████| 1/1 [00:00<00:00, 2916.76it/s]\n",
      "Inference: 100%|██████████| 1/1 [00:00<00:00,  1.11it/s]\n",
      "Tokenization: 100%|██████████| 1/1 [00:00<00:00, 2590.68it/s]\n",
      "Inference: 100%|██████████| 1/1 [00:00<00:00,  2.01it/s]\n",
      "Tokenization: 100%|██████████| 1/1 [00:00<00:00, 482.38it/s]\n",
      "Inference:   0%|          | 0/1 [00:00<?, ?it/s]"
     ]
    },
    {
     "name": "stdout",
     "output_type": "stream",
     "text": [
      "Running pipeline ... done\n",
      "\n",
      "基於知識圖譜資料庫之商品推薦系統Commodity recommendation system based on knowledge graph database\n",
      "done\n",
      "------------\n",
      "\n"
     ]
    },
    {
     "name": "stderr",
     "output_type": "stream",
     "text": [
      "Inference: 100%|██████████| 1/1 [00:03<00:00,  3.51s/it]\n",
      "Tokenization: 100%|██████████| 1/1 [00:00<00:00, 844.60it/s]\n",
      "Inference: 100%|██████████| 1/1 [00:17<00:00, 17.05s/it]\n",
      "Tokenization: 100%|██████████| 1/1 [00:00<00:00, 210.12it/s]\n",
      "Inference: 100%|██████████| 1/1 [00:03<00:00,  3.49s/it]\n",
      "Tokenization: 100%|██████████| 1/1 [00:00<00:00, 569.80it/s]\n",
      "Inference:   0%|          | 0/1 [00:00<?, ?it/s]"
     ]
    },
    {
     "name": "stdout",
     "output_type": "stream",
     "text": [
      "Running pipeline ... done\n",
      "\n",
      "企業財務曝險管理系統EXPOSURE MANAGEMENT SYSTEM OF CORPORATE FINANCE\n",
      "done\n",
      "------------\n",
      "\n"
     ]
    },
    {
     "name": "stderr",
     "output_type": "stream",
     "text": [
      "Inference: 100%|██████████| 1/1 [00:03<00:00,  3.89s/it]\n",
      "Tokenization: 100%|██████████| 1/1 [00:00<00:00, 906.48it/s]\n",
      "Inference: 100%|██████████| 1/1 [00:06<00:00,  6.25s/it]\n",
      "Tokenization: 100%|██████████| 1/1 [00:00<00:00, 586.12it/s]\n",
      "Inference: 100%|██████████| 1/1 [00:03<00:00,  3.54s/it]\n",
      "Tokenization: 100%|██████████| 1/1 [00:00<00:00, 1821.23it/s]\n",
      "Inference:   0%|          | 0/1 [00:00<?, ?it/s]"
     ]
    },
    {
     "name": "stdout",
     "output_type": "stream",
     "text": [
      "Running pipeline ... done\n",
      "\n",
      "線上申購系統及金融商品線上申購方法Online subscription system and online subscription method of financial product\n",
      "done\n",
      "------------\n",
      "\n"
     ]
    },
    {
     "name": "stderr",
     "output_type": "stream",
     "text": [
      "Inference: 100%|██████████| 1/1 [00:00<00:00,  2.96it/s]\n",
      "Tokenization: 100%|██████████| 1/1 [00:00<00:00, 4369.07it/s]\n",
      "Inference: 100%|██████████| 1/1 [00:00<00:00,  2.18it/s]\n",
      "Tokenization: 100%|██████████| 1/1 [00:00<00:00, 3637.73it/s]\n",
      "Inference: 100%|██████████| 1/1 [00:00<00:00,  2.94it/s]\n",
      "Tokenization: 100%|██████████| 1/1 [00:00<00:00, 2341.88it/s]\n",
      "Inference:   0%|          | 0/1 [00:00<?, ?it/s]"
     ]
    },
    {
     "name": "stdout",
     "output_type": "stream",
     "text": [
      "Running pipeline ... done\n",
      "\n",
      "用於遠端現場事故影像與身份驗證的系統與方法METHOD AND SYSTEM FOR VERIFYING REMOTE ACCIDENT SCENE IMAGE AND IDENTITY\n",
      "done\n",
      "------------\n",
      "\n"
     ]
    },
    {
     "name": "stderr",
     "output_type": "stream",
     "text": [
      "Inference: 100%|██████████| 1/1 [00:00<00:00,  2.08it/s]\n",
      "Tokenization: 100%|██████████| 1/1 [00:00<00:00, 943.18it/s]\n",
      "Inference: 100%|██████████| 1/1 [00:00<00:00,  1.08it/s]\n",
      "Tokenization: 100%|██████████| 1/1 [00:00<00:00, 1042.58it/s]\n",
      "Inference: 100%|██████████| 1/1 [00:00<00:00,  2.09it/s]\n",
      "Tokenization: 100%|██████████| 1/1 [00:00<00:00, 1721.80it/s]\n",
      "Inference:   0%|          | 0/1 [00:00<?, ?it/s]"
     ]
    },
    {
     "name": "stdout",
     "output_type": "stream",
     "text": [
      "Running pipeline ... done\n",
      "\n",
      "文物件收發管理系統Document and article transceiving management system\n",
      "done\n",
      "------------\n",
      "\n"
     ]
    },
    {
     "name": "stderr",
     "output_type": "stream",
     "text": [
      "Inference: 100%|██████████| 1/1 [00:00<00:00,  1.58it/s]\n",
      "Tokenization: 100%|██████████| 1/1 [00:00<00:00, 1784.81it/s]\n",
      "Inference: 100%|██████████| 1/1 [00:01<00:00,  1.28s/it]\n",
      "Tokenization: 100%|██████████| 1/1 [00:00<00:00, 1557.48it/s]\n",
      "Inference: 100%|██████████| 1/1 [00:00<00:00,  1.75it/s]\n",
      "Tokenization: 100%|██████████| 1/1 [00:00<00:00, 3731.59it/s]\n",
      "Inference:   0%|          | 0/1 [00:00<?, ?it/s]"
     ]
    },
    {
     "name": "stdout",
     "output_type": "stream",
     "text": [
      "Running pipeline ... done\n",
      "\n",
      "基於區塊鏈之保險系統BLOCKCHAIN BASED INSURANCE SYSTEM\n",
      "done\n",
      "------------\n",
      "\n"
     ]
    },
    {
     "name": "stderr",
     "output_type": "stream",
     "text": [
      "Inference: 100%|██████████| 1/1 [00:00<00:00,  2.66it/s]\n",
      "Tokenization: 100%|██████████| 1/1 [00:00<00:00, 2657.99it/s]\n",
      "Inference: 100%|██████████| 1/1 [00:00<00:00,  1.71it/s]\n",
      "Tokenization: 100%|██████████| 1/1 [00:00<00:00, 1672.37it/s]\n",
      "Inference: 100%|██████████| 1/1 [00:00<00:00,  2.62it/s]\n",
      "Tokenization: 100%|██████████| 1/1 [00:00<00:00, 889.75it/s]\n",
      "Inference:   0%|          | 0/1 [00:00<?, ?it/s]"
     ]
    },
    {
     "name": "stdout",
     "output_type": "stream",
     "text": [
      "Running pipeline ... done\n",
      "\n",
      "表單內容辨識系統Form content identification system\n",
      "done\n",
      "------------\n",
      "\n"
     ]
    },
    {
     "name": "stderr",
     "output_type": "stream",
     "text": [
      "Inference: 100%|██████████| 1/1 [00:00<00:00,  1.66it/s]\n",
      "Tokenization: 100%|██████████| 1/1 [00:00<00:00, 2794.34it/s]\n",
      "Inference: 100%|██████████| 1/1 [00:00<00:00,  1.39it/s]\n",
      "Tokenization: 100%|██████████| 1/1 [00:00<00:00, 2525.17it/s]\n",
      "Inference: 100%|██████████| 1/1 [00:00<00:00,  1.77it/s]\n",
      "Tokenization: 100%|██████████| 1/1 [00:00<00:00, 1246.82it/s]\n",
      "Inference:   0%|          | 0/1 [00:00<?, ?it/s]"
     ]
    },
    {
     "name": "stdout",
     "output_type": "stream",
     "text": [
      "Running pipeline ... done\n",
      "\n",
      "租賃管理系統Lease management system\n",
      "done\n",
      "------------\n",
      "\n"
     ]
    },
    {
     "name": "stderr",
     "output_type": "stream",
     "text": [
      "Inference: 100%|██████████| 1/1 [00:00<00:00,  1.38it/s]\n",
      "Tokenization: 100%|██████████| 1/1 [00:00<00:00, 1811.01it/s]\n",
      "Inference: 100%|██████████| 1/1 [00:01<00:00,  1.77s/it]\n",
      "Tokenization: 100%|██████████| 1/1 [00:00<00:00, 2136.68it/s]\n",
      "Inference: 100%|██████████| 1/1 [00:00<00:00,  1.33it/s]\n",
      "Tokenization: 100%|██████████| 1/1 [00:00<00:00, 2242.94it/s]\n",
      "Inference:   0%|          | 0/1 [00:00<?, ?it/s]"
     ]
    },
    {
     "name": "stdout",
     "output_type": "stream",
     "text": [
      "Running pipeline ... done\n",
      "\n",
      "商品裝箱建議系統Commodity packing suggestion system\n",
      "done\n",
      "------------\n",
      "\n"
     ]
    },
    {
     "name": "stderr",
     "output_type": "stream",
     "text": [
      "Inference: 100%|██████████| 1/1 [00:00<00:00,  1.87it/s]\n",
      "Tokenization: 100%|██████████| 1/1 [00:00<00:00, 2299.51it/s]\n",
      "Inference: 100%|██████████| 1/1 [00:00<00:00,  1.26it/s]\n",
      "Tokenization: 100%|██████████| 1/1 [00:00<00:00, 2513.06it/s]\n",
      "Inference: 100%|██████████| 1/1 [00:00<00:00,  1.90it/s]\n",
      "Tokenization: 100%|██████████| 1/1 [00:00<00:00, 1042.84it/s]\n",
      "Inference:   0%|          | 0/1 [00:00<?, ?it/s]"
     ]
    },
    {
     "name": "stdout",
     "output_type": "stream",
     "text": [
      "Running pipeline ... done\n",
      "\n",
      "分散式車險評估系統及其方法DECENTRALIZED VEHICLE RISK ASSESSMENT SYSTEM AND METHOD THEREOF\n",
      "done\n",
      "------------\n",
      "\n"
     ]
    },
    {
     "name": "stderr",
     "output_type": "stream",
     "text": [
      "Inference: 100%|██████████| 1/1 [00:02<00:00,  2.40s/it]\n",
      "Tokenization: 100%|██████████| 1/1 [00:00<00:00, 1228.56it/s]\n",
      "Inference: 100%|██████████| 1/1 [00:07<00:00,  7.22s/it]\n",
      "Tokenization: 100%|██████████| 1/1 [00:00<00:00, 988.06it/s]\n",
      "Inference: 100%|██████████| 1/1 [00:02<00:00,  2.52s/it]\n",
      "Tokenization: 100%|██████████| 1/1 [00:00<00:00, 1267.16it/s]\n",
      "Inference:   0%|          | 0/1 [00:00<?, ?it/s]"
     ]
    },
    {
     "name": "stdout",
     "output_type": "stream",
     "text": [
      "Running pipeline ... done\n",
      "\n",
      "基於選購商品之保險推薦與購買系統SYSTEM FOR RECOMMENDING AND PURCHASING INSURANCE BASED ON SELECTED GOODS\n",
      "done\n",
      "------------\n",
      "\n"
     ]
    },
    {
     "name": "stderr",
     "output_type": "stream",
     "text": [
      "Inference: 100%|██████████| 1/1 [00:00<00:00,  1.89it/s]\n",
      "Tokenization: 100%|██████████| 1/1 [00:00<00:00, 1076.57it/s]\n",
      "Inference: 100%|██████████| 1/1 [00:00<00:00,  1.32it/s]\n",
      "Tokenization: 100%|██████████| 1/1 [00:00<00:00, 1770.50it/s]\n",
      "Inference: 100%|██████████| 1/1 [00:00<00:00,  1.92it/s]\n",
      "Tokenization: 100%|██████████| 1/1 [00:00<00:00, 842.57it/s]\n",
      "Inference:   0%|          | 0/1 [00:00<?, ?it/s]"
     ]
    },
    {
     "name": "stdout",
     "output_type": "stream",
     "text": [
      "Running pipeline ... done\n",
      "\n",
      "使用智能合約進行保險理賠之系統及其方法SYSTEM FOR USING SMART CONTRACTS FOR INSURANCE CLAIMS AND METHOD THEREOF\n",
      "done\n",
      "------------\n",
      "\n"
     ]
    },
    {
     "name": "stderr",
     "output_type": "stream",
     "text": [
      "Inference: 100%|██████████| 1/1 [00:00<00:00,  1.62it/s]\n",
      "Tokenization: 100%|██████████| 1/1 [00:00<00:00, 1545.43it/s]\n",
      "Inference: 100%|██████████| 1/1 [00:01<00:00,  1.11s/it]\n",
      "Tokenization: 100%|██████████| 1/1 [00:00<00:00, 2114.06it/s]\n",
      "Inference: 100%|██████████| 1/1 [00:00<00:00,  1.62it/s]\n",
      "Tokenization: 100%|██████████| 1/1 [00:00<00:00, 2304.56it/s]\n",
      "Inference:   0%|          | 0/1 [00:00<?, ?it/s]"
     ]
    },
    {
     "name": "stdout",
     "output_type": "stream",
     "text": [
      "Running pipeline ... done\n",
      "\n",
      "依據使用者網路瀏覽紀錄的商品購買評估系統Product purchase evaluation system based on user web browsing history\n",
      "done\n",
      "------------\n",
      "\n"
     ]
    },
    {
     "name": "stderr",
     "output_type": "stream",
     "text": [
      "Inference: 100%|██████████| 1/1 [00:00<00:00,  1.81it/s]\n",
      "Tokenization: 100%|██████████| 1/1 [00:00<00:00, 1387.01it/s]\n",
      "Inference: 100%|██████████| 1/1 [00:00<00:00,  1.14it/s]\n",
      "Tokenization: 100%|██████████| 1/1 [00:00<00:00, 1748.36it/s]\n",
      "Inference: 100%|██████████| 1/1 [00:00<00:00,  1.89it/s]\n",
      "Tokenization: 100%|██████████| 1/1 [00:00<00:00, 1718.27it/s]\n",
      "Inference:   0%|          | 0/1 [00:00<?, ?it/s]"
     ]
    },
    {
     "name": "stdout",
     "output_type": "stream",
     "text": [
      "Running pipeline ... done\n",
      "\n",
      "物資管理系統MATERIAL MANAGEMENT SYSTEM\n",
      "done\n",
      "------------\n",
      "\n"
     ]
    },
    {
     "name": "stderr",
     "output_type": "stream",
     "text": [
      "Inference: 100%|██████████| 1/1 [00:00<00:00,  1.76it/s]\n",
      "Tokenization: 100%|██████████| 1/1 [00:00<00:00, 1832.37it/s]\n",
      "Inference: 100%|██████████| 1/1 [00:00<00:00,  1.23it/s]\n",
      "Tokenization: 100%|██████████| 1/1 [00:00<00:00, 2396.75it/s]\n",
      "Inference: 100%|██████████| 1/1 [00:00<00:00,  1.76it/s]\n",
      "Tokenization: 100%|██████████| 1/1 [00:00<00:00, 1666.39it/s]\n",
      "Inference:   0%|          | 0/1 [00:00<?, ?it/s]"
     ]
    },
    {
     "name": "stdout",
     "output_type": "stream",
     "text": [
      "Running pipeline ... done\n",
      "\n",
      "業務聯繫表單管理系統Business contact form management system\n",
      "done\n",
      "------------\n",
      "\n"
     ]
    },
    {
     "name": "stderr",
     "output_type": "stream",
     "text": [
      "Inference: 100%|██████████| 1/1 [00:00<00:00,  1.69it/s]\n",
      "Tokenization: 100%|██████████| 1/1 [00:00<00:00, 3104.59it/s]\n",
      "Inference: 100%|██████████| 1/1 [00:00<00:00,  1.02it/s]\n",
      "Tokenization: 100%|██████████| 1/1 [00:00<00:00, 2597.09it/s]\n",
      "Inference: 100%|██████████| 1/1 [00:00<00:00,  1.72it/s]\n",
      "Tokenization: 100%|██████████| 1/1 [00:00<00:00, 2304.56it/s]\n",
      "Inference:   0%|          | 0/1 [00:00<?, ?it/s]"
     ]
    },
    {
     "name": "stdout",
     "output_type": "stream",
     "text": [
      "Running pipeline ... done\n",
      "\n",
      "文件請領作業與管理系統Document requesting operation and management system\n",
      "done\n",
      "------------\n",
      "\n"
     ]
    },
    {
     "name": "stderr",
     "output_type": "stream",
     "text": [
      "Inference: 100%|██████████| 1/1 [00:00<00:00,  2.31it/s]\n",
      "Tokenization: 100%|██████████| 1/1 [00:00<00:00, 2882.68it/s]\n",
      "Inference: 100%|██████████| 1/1 [00:00<00:00,  1.49it/s]\n",
      "Tokenization: 100%|██████████| 1/1 [00:00<00:00, 3269.14it/s]\n",
      "Inference: 100%|██████████| 1/1 [00:00<00:00,  2.31it/s]\n",
      "Tokenization: 100%|██████████| 1/1 [00:00<00:00, 2132.34it/s]\n",
      "Inference:   0%|          | 0/1 [00:00<?, ?it/s]"
     ]
    },
    {
     "name": "stdout",
     "output_type": "stream",
     "text": [
      "Running pipeline ... done\n",
      "\n",
      "商品出貨系統Commodity shipping system\n",
      "done\n",
      "------------\n",
      "\n"
     ]
    },
    {
     "name": "stderr",
     "output_type": "stream",
     "text": [
      "Inference: 100%|██████████| 1/1 [00:00<00:00,  1.76it/s]\n",
      "Tokenization: 100%|██████████| 1/1 [00:00<00:00, 1610.10it/s]\n",
      "Inference: 100%|██████████| 1/1 [00:01<00:00,  1.07s/it]\n",
      "Tokenization: 100%|██████████| 1/1 [00:00<00:00, 2122.62it/s]\n",
      "Inference: 100%|██████████| 1/1 [00:00<00:00,  1.69it/s]\n",
      "Tokenization: 100%|██████████| 1/1 [00:00<00:00, 1353.00it/s]\n",
      "Inference:   0%|          | 0/1 [00:00<?, ?it/s]"
     ]
    },
    {
     "name": "stdout",
     "output_type": "stream",
     "text": [
      "Running pipeline ... done\n",
      "\n",
      "企業風險評估與保險規劃系統及方法RISK ASSESSMENT AND INSURANCE PLANNING SYSTEM AND METHOD FOR INSURANCE OF ENTERPRISE\n",
      "done\n",
      "------------\n",
      "\n"
     ]
    },
    {
     "name": "stderr",
     "output_type": "stream",
     "text": [
      "Inference: 100%|██████████| 1/1 [00:00<00:00,  1.98it/s]\n",
      "Tokenization: 100%|██████████| 1/1 [00:00<00:00, 3116.12it/s]\n",
      "Inference: 100%|██████████| 1/1 [00:00<00:00,  1.51it/s]\n",
      "Tokenization: 100%|██████████| 1/1 [00:00<00:00, 2941.31it/s]\n",
      "Inference: 100%|██████████| 1/1 [00:00<00:00,  2.01it/s]\n",
      "Tokenization: 100%|██████████| 1/1 [00:00<00:00, 2069.22it/s]\n",
      "Inference:   0%|          | 0/1 [00:00<?, ?it/s]"
     ]
    },
    {
     "name": "stdout",
     "output_type": "stream",
     "text": [
      "Running pipeline ... done\n",
      "\n",
      "關係人查核系統Stakeholder review system\n",
      "done\n",
      "------------\n",
      "\n"
     ]
    },
    {
     "name": "stderr",
     "output_type": "stream",
     "text": [
      "Inference: 100%|██████████| 1/1 [00:00<00:00,  1.96it/s]\n",
      "Tokenization: 100%|██████████| 1/1 [00:00<00:00, 2293.22it/s]\n",
      "Inference: 100%|██████████| 1/1 [00:00<00:00,  1.50it/s]\n",
      "Tokenization: 100%|██████████| 1/1 [00:00<00:00, 1876.65it/s]\n",
      "Inference: 100%|██████████| 1/1 [00:00<00:00,  2.05it/s]\n",
      "Tokenization: 100%|██████████| 1/1 [00:00<00:00, 646.07it/s]\n",
      "Inference:   0%|          | 0/1 [00:00<?, ?it/s]"
     ]
    },
    {
     "name": "stdout",
     "output_type": "stream",
     "text": [
      "Running pipeline ... done\n",
      "\n",
      "折價券管理系統及其方法COUPON MANAGEMENT SYSTEM AND METHOD THEREOF\n",
      "done\n",
      "------------\n",
      "\n"
     ]
    },
    {
     "name": "stderr",
     "output_type": "stream",
     "text": [
      "Inference: 100%|██████████| 1/1 [00:02<00:00,  2.36s/it]\n",
      "Tokenization: 100%|██████████| 1/1 [00:00<00:00, 1087.17it/s]\n",
      "Inference: 100%|██████████| 1/1 [00:04<00:00,  4.61s/it]\n",
      "Tokenization: 100%|██████████| 1/1 [00:00<00:00, 578.37it/s]\n",
      "Inference: 100%|██████████| 1/1 [00:02<00:00,  2.42s/it]\n",
      "Tokenization: 100%|██████████| 1/1 [00:00<00:00, 403.53it/s]\n",
      "Inference:   0%|          | 0/1 [00:00<?, ?it/s]"
     ]
    },
    {
     "name": "stdout",
     "output_type": "stream",
     "text": [
      "Running pipeline ... done\n",
      "\n",
      "運用深度學習技術之保險理賠系統SYSTEM FOR DEEP LEARNING BASED INSURANCE CLAIMING\n",
      "done\n",
      "------------\n",
      "\n"
     ]
    },
    {
     "name": "stderr",
     "output_type": "stream",
     "text": [
      "Inference: 100%|██████████| 1/1 [00:02<00:00,  2.30s/it]\n",
      "Tokenization: 100%|██████████| 1/1 [00:00<00:00, 1430.04it/s]\n",
      "Inference: 100%|██████████| 1/1 [00:05<00:00,  5.56s/it]\n",
      "Tokenization: 100%|██████████| 1/1 [00:00<00:00, 850.25it/s]\n",
      "Inference: 100%|██████████| 1/1 [00:02<00:00,  2.34s/it]\n",
      "Tokenization: 100%|██████████| 1/1 [00:00<00:00, 698.24it/s]\n",
      "Inference:   0%|          | 0/1 [00:00<?, ?it/s]"
     ]
    },
    {
     "name": "stdout",
     "output_type": "stream",
     "text": [
      "Running pipeline ... done\n",
      "\n",
      "運用深度學習之長短期記憶模型輔助保險理賠系統SYSTEM FOR PROCESSING INSURANCE CLAIMS USING LONG-SHORT TERM MEMORY MODEL OF DEEP LEARNING\n",
      "done\n",
      "------------\n",
      "\n"
     ]
    },
    {
     "name": "stderr",
     "output_type": "stream",
     "text": [
      "Inference: 100%|██████████| 1/1 [00:02<00:00,  2.36s/it]\n",
      "Tokenization: 100%|██████████| 1/1 [00:00<00:00, 1949.03it/s]\n",
      "Inference: 100%|██████████| 1/1 [00:04<00:00,  4.14s/it]\n",
      "Tokenization: 100%|██████████| 1/1 [00:00<00:00, 1088.02it/s]\n",
      "Inference: 100%|██████████| 1/1 [00:02<00:00,  2.34s/it]\n",
      "Tokenization: 100%|██████████| 1/1 [00:00<00:00, 768.19it/s]\n",
      "Inference:   0%|          | 0/1 [00:00<?, ?it/s]"
     ]
    },
    {
     "name": "stdout",
     "output_type": "stream",
     "text": [
      "Running pipeline ... done\n",
      "\n",
      "簽名驗證系統SIGNATURE VERIFICATION SYSTEM\n",
      "done\n",
      "------------\n",
      "\n"
     ]
    },
    {
     "name": "stderr",
     "output_type": "stream",
     "text": [
      "Inference: 100%|██████████| 1/1 [00:02<00:00,  2.32s/it]\n",
      "Tokenization: 100%|██████████| 1/1 [00:00<00:00, 1127.50it/s]\n",
      "Inference: 100%|██████████| 1/1 [00:04<00:00,  4.36s/it]\n",
      "Tokenization: 100%|██████████| 1/1 [00:00<00:00, 853.19it/s]\n",
      "Inference: 100%|██████████| 1/1 [00:02<00:00,  2.38s/it]\n",
      "Tokenization: 100%|██████████| 1/1 [00:00<00:00, 663.66it/s]\n",
      "Inference:   0%|          | 0/1 [00:00<?, ?it/s]"
     ]
    },
    {
     "name": "stdout",
     "output_type": "stream",
     "text": [
      "Running pipeline ... done\n",
      "\n",
      "證件識別系統DOCUMENT VERIFICATION SYSTEM\n",
      "done\n",
      "------------\n",
      "\n"
     ]
    },
    {
     "name": "stderr",
     "output_type": "stream",
     "text": [
      "Inference: 100%|██████████| 1/1 [00:03<00:00,  3.53s/it]\n",
      "Tokenization: 100%|██████████| 1/1 [00:00<00:00, 1029.78it/s]\n",
      "Inference: 100%|██████████| 1/1 [00:08<00:00,  8.37s/it]\n",
      "Tokenization: 100%|██████████| 1/1 [00:00<00:00, 288.43it/s]\n",
      "Inference: 100%|██████████| 1/1 [00:03<00:00,  3.53s/it]\n",
      "Tokenization: 100%|██████████| 1/1 [00:00<00:00, 646.37it/s]\n",
      "Inference:   0%|          | 0/1 [00:00<?, ?it/s]"
     ]
    },
    {
     "name": "stdout",
     "output_type": "stream",
     "text": [
      "Running pipeline ... done\n",
      "\n",
      "資訊管理系統及方法SYSTEM AND METHOD FOR INFORMATION MANAGEMENT\n",
      "done\n",
      "------------\n",
      "\n"
     ]
    },
    {
     "name": "stderr",
     "output_type": "stream",
     "text": [
      "Inference: 100%|██████████| 1/1 [00:02<00:00,  2.36s/it]\n",
      "Tokenization: 100%|██████████| 1/1 [00:00<00:00, 1490.51it/s]\n",
      "Inference: 100%|██████████| 1/1 [00:08<00:00,  8.69s/it]\n",
      "Tokenization: 100%|██████████| 1/1 [00:00<00:00, 869.29it/s]\n",
      "Inference: 100%|██████████| 1/1 [00:02<00:00,  2.34s/it]\n",
      "Tokenization: 100%|██████████| 1/1 [00:00<00:00, 2122.62it/s]\n",
      "Inference:   0%|          | 0/1 [00:00<?, ?it/s]"
     ]
    },
    {
     "name": "stdout",
     "output_type": "stream",
     "text": [
      "Running pipeline ... done\n",
      "\n",
      "視訊會議邀請方法及視訊服務系統VIDEO CONFERENCE INVITING METHOD AND VIDEO CONFERENCE SERVICE SYSTEM\n",
      "done\n",
      "------------\n",
      "\n"
     ]
    },
    {
     "name": "stderr",
     "output_type": "stream",
     "text": [
      "Inference: 100%|██████████| 1/1 [00:00<00:00,  1.72it/s]\n",
      "Tokenization: 100%|██████████| 1/1 [00:00<00:00, 2385.84it/s]\n",
      "Inference: 100%|██████████| 1/1 [00:01<00:00,  1.13s/it]\n",
      "Tokenization: 100%|██████████| 1/1 [00:00<00:00, 2381.77it/s]\n",
      "Inference: 100%|██████████| 1/1 [00:00<00:00,  1.70it/s]\n",
      "Tokenization: 100%|██████████| 1/1 [00:00<00:00, 831.21it/s]\n",
      "Inference:   0%|          | 0/1 [00:00<?, ?it/s]"
     ]
    },
    {
     "name": "stdout",
     "output_type": "stream",
     "text": [
      "Running pipeline ... done\n",
      "\n",
      "訊號廣播系統Signal broadcasting system\n",
      "done\n",
      "------------\n",
      "\n"
     ]
    },
    {
     "name": "stderr",
     "output_type": "stream",
     "text": [
      "Inference: 100%|██████████| 1/1 [00:02<00:00,  2.38s/it]\n",
      "Tokenization: 100%|██████████| 1/1 [00:00<00:00, 1086.89it/s]\n",
      "Inference: 100%|██████████| 1/1 [00:05<00:00,  5.48s/it]\n",
      "Tokenization: 100%|██████████| 1/1 [00:00<00:00, 1406.54it/s]\n",
      "Inference: 100%|██████████| 1/1 [00:02<00:00,  2.31s/it]\n",
      "Tokenization: 100%|██████████| 1/1 [00:00<00:00, 536.84it/s]\n",
      "Inference:   0%|          | 0/1 [00:00<?, ?it/s]"
     ]
    },
    {
     "name": "stdout",
     "output_type": "stream",
     "text": [
      "Running pipeline ... done\n",
      "\n",
      "基於上下文文意之保單辨識及提取系統A CONTEXT-BASED POLICY IDENTIFICATION AND EXTRACTION SYSTEM\n",
      "done\n",
      "------------\n",
      "\n"
     ]
    },
    {
     "name": "stderr",
     "output_type": "stream",
     "text": [
      "Inference: 100%|██████████| 1/1 [00:03<00:00,  3.51s/it]\n",
      "Tokenization: 100%|██████████| 1/1 [00:00<00:00, 778.16it/s]\n",
      "Inference: 100%|██████████| 1/1 [00:17<00:00, 17.44s/it]\n",
      "Tokenization: 100%|██████████| 1/1 [00:00<00:00, 224.98it/s]\n",
      "Inference: 100%|██████████| 1/1 [00:03<00:00,  3.51s/it]\n",
      "Tokenization: 100%|██████████| 1/1 [00:00<00:00, 936.44it/s]\n",
      "Inference:   0%|          | 0/1 [00:00<?, ?it/s]"
     ]
    },
    {
     "name": "stdout",
     "output_type": "stream",
     "text": [
      "Running pipeline ... done\n",
      "\n",
      "企業財務曝險管理系統EXPOSURE MANAGEMENT SYSTEM OF CORPORATE FINANCE\n",
      "done\n",
      "------------\n",
      "\n"
     ]
    },
    {
     "name": "stderr",
     "output_type": "stream",
     "text": [
      "Inference: 100%|██████████| 1/1 [00:01<00:00,  1.11s/it]\n",
      "Tokenization: 100%|██████████| 1/1 [00:00<00:00, 1328.57it/s]\n",
      "Inference: 100%|██████████| 1/1 [00:03<00:00,  3.10s/it]\n",
      "Tokenization: 100%|██████████| 1/1 [00:00<00:00, 789.74it/s]\n",
      "Inference: 100%|██████████| 1/1 [00:01<00:00,  1.11s/it]\n",
      "Tokenization: 100%|██████████| 1/1 [00:00<00:00, 499.98it/s]\n",
      "Inference:   0%|          | 0/1 [00:00<?, ?it/s]"
     ]
    },
    {
     "name": "stdout",
     "output_type": "stream",
     "text": [
      "Running pipeline ... done\n",
      "\n",
      "法令遵循管理系統A REGULATORY COMPLIANCE MANAGEMENT SYSTEM\n",
      "done\n",
      "------------\n",
      "\n"
     ]
    },
    {
     "name": "stderr",
     "output_type": "stream",
     "text": [
      "Inference: 100%|██████████| 1/1 [00:03<00:00,  3.62s/it]\n",
      "Tokenization: 100%|██████████| 1/1 [00:00<00:00, 910.02it/s]\n",
      "Inference: 100%|██████████| 1/1 [00:15<00:00, 15.92s/it]\n",
      "Tokenization: 100%|██████████| 1/1 [00:00<00:00, 245.47it/s]\n",
      "Inference: 100%|██████████| 1/1 [00:03<00:00,  3.50s/it]\n",
      "Tokenization: 100%|██████████| 1/1 [00:00<00:00, 1039.48it/s]\n",
      "Inference:   0%|          | 0/1 [00:00<?, ?it/s]"
     ]
    },
    {
     "name": "stdout",
     "output_type": "stream",
     "text": [
      "Running pipeline ... done\n",
      "\n",
      "理賠審核流程控制裝置DEVICE FOR CLAIMS REVIEWING PROCESS CONTROLLING\n",
      "done\n",
      "------------\n",
      "\n"
     ]
    },
    {
     "name": "stderr",
     "output_type": "stream",
     "text": [
      "Inference: 100%|██████████| 1/1 [00:00<00:00,  1.79it/s]\n",
      "Tokenization: 100%|██████████| 1/1 [00:00<00:00, 1490.51it/s]\n",
      "Inference: 100%|██████████| 1/1 [00:01<00:00,  1.08s/it]\n",
      "Tokenization: 100%|██████████| 1/1 [00:00<00:00, 2421.65it/s]\n",
      "Inference: 100%|██████████| 1/1 [00:00<00:00,  1.80it/s]\n",
      "Tokenization: 100%|██████████| 1/1 [00:00<00:00, 587.85it/s]\n",
      "Inference:   0%|          | 0/1 [00:00<?, ?it/s]"
     ]
    },
    {
     "name": "stdout",
     "output_type": "stream",
     "text": [
      "Running pipeline ... done\n",
      "\n",
      "使用智能合約完成投保之系統及其方法SYSTEM FOR INSURING BASED ON SMART CONTRACTS AND METHOD THEREOF\n",
      "done\n",
      "------------\n",
      "\n"
     ]
    },
    {
     "name": "stderr",
     "output_type": "stream",
     "text": [
      "Inference: 100%|██████████| 1/1 [00:03<00:00,  3.57s/it]\n",
      "Tokenization: 100%|██████████| 1/1 [00:00<00:00, 408.17it/s]\n",
      "Inference: 100%|██████████| 1/1 [00:08<00:00,  8.62s/it]\n",
      "Tokenization: 100%|██████████| 1/1 [00:00<00:00, 209.12it/s]\n",
      "Inference: 100%|██████████| 1/1 [00:03<00:00,  3.61s/it]\n",
      "Tokenization: 100%|██████████| 1/1 [00:00<00:00, 2801.81it/s]\n",
      "Inference:   0%|          | 0/1 [00:00<?, ?it/s]"
     ]
    },
    {
     "name": "stdout",
     "output_type": "stream",
     "text": [
      "Running pipeline ... done\n",
      "\n",
      "車輛保險系統VEHICLE INSURANCE SYSTEM\n",
      "done\n",
      "------------\n",
      "\n"
     ]
    },
    {
     "name": "stderr",
     "output_type": "stream",
     "text": [
      "Inference: 100%|██████████| 1/1 [00:00<00:00,  2.72it/s]\n",
      "Tokenization: 100%|██████████| 1/1 [00:00<00:00, 3236.35it/s]\n",
      "Inference: 100%|██████████| 1/1 [00:00<00:00,  2.14it/s]\n",
      "Tokenization: 100%|██████████| 1/1 [00:00<00:00, 1709.87it/s]\n",
      "Inference: 100%|██████████| 1/1 [00:00<00:00,  2.74it/s]\n",
      "Tokenization: 100%|██████████| 1/1 [00:00<00:00, 1825.20it/s]\n",
      "Inference:   0%|          | 0/1 [00:00<?, ?it/s]"
     ]
    },
    {
     "name": "stdout",
     "output_type": "stream",
     "text": [
      "Running pipeline ... done\n",
      "\n",
      "報表產生系統Report generation system\n",
      "done\n",
      "------------\n",
      "\n"
     ]
    },
    {
     "name": "stderr",
     "output_type": "stream",
     "text": [
      "Inference: 100%|██████████| 1/1 [00:00<00:00,  1.92it/s]\n",
      "Tokenization: 100%|██████████| 1/1 [00:00<00:00, 2074.33it/s]\n",
      "Inference: 100%|██████████| 1/1 [00:00<00:00,  1.12it/s]\n",
      "Tokenization: 100%|██████████| 1/1 [00:00<00:00, 2208.69it/s]\n",
      "Inference: 100%|██████████| 1/1 [00:00<00:00,  1.86it/s]\n",
      "Tokenization: 100%|██████████| 1/1 [00:00<00:00, 2247.75it/s]\n",
      "Inference:   0%|          | 0/1 [00:00<?, ?it/s]"
     ]
    },
    {
     "name": "stdout",
     "output_type": "stream",
     "text": [
      "Running pipeline ... done\n",
      "\n",
      "網路主機服務監控系統Network host service monitoring system\n",
      "done\n",
      "------------\n",
      "\n"
     ]
    },
    {
     "name": "stderr",
     "output_type": "stream",
     "text": [
      "Inference: 100%|██████████| 1/1 [00:00<00:00,  1.71it/s]\n",
      "Tokenization: 100%|██████████| 1/1 [00:00<00:00, 3366.22it/s]\n",
      "Inference: 100%|██████████| 1/1 [00:01<00:00,  1.05s/it]\n",
      "Tokenization: 100%|██████████| 1/1 [00:00<00:00, 1644.83it/s]\n",
      "Inference: 100%|██████████| 1/1 [00:00<00:00,  1.65it/s]\n",
      "Tokenization: 100%|██████████| 1/1 [00:00<00:00, 673.89it/s]\n",
      "Inference:   0%|          | 0/1 [00:00<?, ?it/s]"
     ]
    },
    {
     "name": "stdout",
     "output_type": "stream",
     "text": [
      "Running pipeline ... done\n",
      "\n",
      "車輛保險系統VEHICLE INSURANCE SYSTEM\n",
      "done\n",
      "------------\n",
      "\n"
     ]
    },
    {
     "name": "stderr",
     "output_type": "stream",
     "text": [
      "Inference: 100%|██████████| 1/1 [00:03<00:00,  3.51s/it]\n",
      "Tokenization: 100%|██████████| 1/1 [00:00<00:00, 581.81it/s]\n",
      "Inference: 100%|██████████| 1/1 [00:08<00:00,  8.35s/it]\n",
      "Tokenization: 100%|██████████| 1/1 [00:00<00:00, 638.60it/s]\n",
      "Inference: 100%|██████████| 1/1 [00:03<00:00,  3.51s/it]\n",
      "Tokenization: 100%|██████████| 1/1 [00:00<00:00, 1938.22it/s]\n",
      "Inference:   0%|          | 0/1 [00:00<?, ?it/s]"
     ]
    },
    {
     "name": "stdout",
     "output_type": "stream",
     "text": [
      "Running pipeline ... done\n",
      "\n",
      "基於區塊鏈智能合約的應收帳款融資系統及其方法FINANCING SYSTEM FOR ACCOUNTS RECEIVABLE BASED ON BLOCKCHAIN SMART CONTRACT AND METHOD THEREOF\n",
      "done\n",
      "------------\n",
      "\n"
     ]
    },
    {
     "name": "stderr",
     "output_type": "stream",
     "text": [
      "Inference: 100%|██████████| 1/1 [00:00<00:00,  1.67it/s]\n",
      "Tokenization: 100%|██████████| 1/1 [00:00<00:00, 1430.04it/s]\n",
      "Inference: 100%|██████████| 1/1 [00:01<00:00,  1.34s/it]\n",
      "Tokenization: 100%|██████████| 1/1 [00:00<00:00, 1709.17it/s]\n",
      "Inference: 100%|██████████| 1/1 [00:00<00:00,  1.61it/s]\n",
      "Tokenization: 100%|██████████| 1/1 [00:00<00:00, 973.83it/s]\n",
      "Inference:   0%|          | 0/1 [00:00<?, ?it/s]"
     ]
    },
    {
     "name": "stdout",
     "output_type": "stream",
     "text": [
      "Running pipeline ... done\n",
      "\n",
      "利用生物特徵辨識的登入方法、行動通訊裝置及電腦可讀取紀錄媒體\n",
      "done\n",
      "------------\n",
      "\n"
     ]
    },
    {
     "name": "stderr",
     "output_type": "stream",
     "text": [
      "Inference: 100%|██████████| 1/1 [00:02<00:00,  2.39s/it]\n",
      "Tokenization: 100%|██████████| 1/1 [00:00<00:00, 1567.38it/s]\n",
      "Inference: 100%|██████████| 1/1 [00:08<00:00,  8.12s/it]\n",
      "Tokenization: 100%|██████████| 1/1 [00:00<00:00, 833.86it/s]\n",
      "Inference: 100%|██████████| 1/1 [00:02<00:00,  2.37s/it]\n",
      "Tokenization: 100%|██████████| 1/1 [00:00<00:00, 737.01it/s]\n",
      "Inference:   0%|          | 0/1 [00:00<?, ?it/s]"
     ]
    },
    {
     "name": "stdout",
     "output_type": "stream",
     "text": [
      "Running pipeline ... done\n",
      "\n",
      "用於遠端現場事故影像與身份驗證的系統SYSTEM FOR VERIFYING REMOTE ACCIDENT SCENE IMAGE AND IDENTITY\n",
      "done\n",
      "------------\n",
      "\n"
     ]
    },
    {
     "name": "stderr",
     "output_type": "stream",
     "text": [
      "Inference: 100%|██████████| 1/1 [00:02<00:00,  2.33s/it]\n",
      "Tokenization: 100%|██████████| 1/1 [00:00<00:00, 1135.44it/s]\n",
      "Inference: 100%|██████████| 1/1 [00:14<00:00, 14.21s/it]\n",
      "Tokenization: 100%|██████████| 1/1 [00:00<00:00, 372.99it/s]\n",
      "Inference: 100%|██████████| 1/1 [00:02<00:00,  2.45s/it]\n",
      "Tokenization: 100%|██████████| 1/1 [00:00<00:00, 1461.94it/s]\n",
      "Inference:   0%|          | 0/1 [00:00<?, ?it/s]"
     ]
    },
    {
     "name": "stdout",
     "output_type": "stream",
     "text": [
      "Running pipeline ... done\n",
      "\n",
      "電子裝置ELECTRONIC DEVICE\n",
      "done\n",
      "------------\n",
      "\n"
     ]
    },
    {
     "name": "stderr",
     "output_type": "stream",
     "text": [
      "Inference: 100%|██████████| 1/1 [00:00<00:00,  2.08it/s]\n",
      "Tokenization: 100%|██████████| 1/1 [00:00<00:00, 2763.05it/s]\n",
      "Inference: 100%|██████████| 1/1 [00:00<00:00,  1.44it/s]\n",
      "Tokenization: 100%|██████████| 1/1 [00:00<00:00, 2799.94it/s]\n",
      "Inference: 100%|██████████| 1/1 [00:00<00:00,  2.07it/s]\n",
      "Tokenization: 100%|██████████| 1/1 [00:00<00:00, 1715.46it/s]\n",
      "Inference:   0%|          | 0/1 [00:00<?, ?it/s]"
     ]
    },
    {
     "name": "stdout",
     "output_type": "stream",
     "text": [
      "Running pipeline ... done\n",
      "\n",
      "折價券管理系統Coupon management system\n",
      "done\n",
      "------------\n",
      "\n"
     ]
    },
    {
     "name": "stderr",
     "output_type": "stream",
     "text": [
      "Inference: 100%|██████████| 1/1 [00:00<00:00,  1.67it/s]\n",
      "Tokenization: 100%|██████████| 1/1 [00:00<00:00, 932.07it/s]\n",
      "Inference: 100%|██████████| 1/1 [00:01<00:00,  1.05s/it]\n",
      "Tokenization: 100%|██████████| 1/1 [00:00<00:00, 2470.14it/s]\n",
      "Inference: 100%|██████████| 1/1 [00:00<00:00,  1.60it/s]\n",
      "Tokenization: 100%|██████████| 1/1 [00:00<00:00, 436.91it/s]\n",
      "Inference:   0%|          | 0/1 [00:00<?, ?it/s]"
     ]
    },
    {
     "name": "stdout",
     "output_type": "stream",
     "text": [
      "Running pipeline ... done\n",
      "\n",
      "以歷史數據資料預先回測作為搜尋最佳選股條件的方法及選股系統\n",
      "done\n",
      "------------\n",
      "\n"
     ]
    },
    {
     "name": "stderr",
     "output_type": "stream",
     "text": [
      "Inference: 100%|██████████| 1/1 [00:03<00:00,  3.51s/it]\n",
      "Tokenization: 100%|██████████| 1/1 [00:00<00:00, 950.66it/s]\n",
      "Inference: 100%|██████████| 1/1 [00:20<00:00, 20.92s/it]\n",
      "Tokenization: 100%|██████████| 1/1 [00:00<00:00, 104.80it/s]\n",
      "Inference: 100%|██████████| 1/1 [00:03<00:00,  3.47s/it]\n",
      "Tokenization: 100%|██████████| 1/1 [00:00<00:00, 518.65it/s]\n",
      "Inference:   0%|          | 0/1 [00:00<?, ?it/s]"
     ]
    },
    {
     "name": "stdout",
     "output_type": "stream",
     "text": [
      "Running pipeline ... done\n",
      "\n",
      "分散式車險評估系統DECENTRALIZED VEHICLE RISK ASSESSMENT SYSTEM\n",
      "done\n",
      "------------\n",
      "\n"
     ]
    },
    {
     "name": "stderr",
     "output_type": "stream",
     "text": [
      "Inference: 100%|██████████| 1/1 [00:03<00:00,  3.43s/it]\n",
      "Tokenization: 100%|██████████| 1/1 [00:00<00:00, 689.17it/s]\n",
      "Inference: 100%|██████████| 1/1 [00:09<00:00,  9.85s/it]\n",
      "Tokenization: 100%|██████████| 1/1 [00:00<00:00, 194.32it/s]\n",
      "Inference: 100%|██████████| 1/1 [00:03<00:00,  3.47s/it]\n",
      "Tokenization: 100%|██████████| 1/1 [00:00<00:00, 555.24it/s]\n",
      "Inference:   0%|          | 0/1 [00:00<?, ?it/s]"
     ]
    },
    {
     "name": "stdout",
     "output_type": "stream",
     "text": [
      "Running pipeline ... done\n",
      "\n",
      "具多重密鑰的KYC資料標記之爭議救濟系統及其方法KNOW YOUR CUSTOMER (KYC) DATA MARKING DISPUTE RELIEF SYSTEM WITH MULTIPLE SECRET KEY AND METHOD THEREOF\n",
      "done\n",
      "------------\n",
      "\n"
     ]
    },
    {
     "name": "stderr",
     "output_type": "stream",
     "text": [
      "Inference: 100%|██████████| 1/1 [00:03<00:00,  3.54s/it]\n",
      "Tokenization: 100%|██████████| 1/1 [00:00<00:00, 942.33it/s]\n",
      "Inference: 100%|██████████| 1/1 [00:08<00:00,  8.10s/it]\n",
      "Tokenization: 100%|██████████| 1/1 [00:00<00:00, 587.85it/s]\n",
      "Inference: 100%|██████████| 1/1 [00:03<00:00,  3.51s/it]\n",
      "Tokenization: 100%|██████████| 1/1 [00:00<00:00, 675.30it/s]\n",
      "Inference:   0%|          | 0/1 [00:00<?, ?it/s]"
     ]
    },
    {
     "name": "stdout",
     "output_type": "stream",
     "text": [
      "Running pipeline ... done\n",
      "\n",
      "具隱密性的KYC資料共享系統及其方法KNOW YOUR CUSTOMER (KYC) DATA SHARING SYSTEM WITH PRIVACY AND METHOD THEREOF\n",
      "done\n",
      "------------\n",
      "\n"
     ]
    },
    {
     "name": "stderr",
     "output_type": "stream",
     "text": [
      "Inference: 100%|██████████| 1/1 [00:03<00:00,  3.48s/it]\n",
      "Tokenization: 100%|██████████| 1/1 [00:00<00:00, 685.34it/s]\n",
      "Inference: 100%|██████████| 1/1 [00:09<00:00,  9.05s/it]\n",
      "Tokenization: 100%|██████████| 1/1 [00:00<00:00, 223.36it/s]\n",
      "Inference: 100%|██████████| 1/1 [00:03<00:00,  3.55s/it]\n",
      "Tokenization: 100%|██████████| 1/1 [00:00<00:00, 1794.74it/s]\n",
      "Inference:   0%|          | 0/1 [00:00<?, ?it/s]"
     ]
    },
    {
     "name": "stdout",
     "output_type": "stream",
     "text": [
      "Running pipeline ... done\n",
      "\n",
      "具爭議救濟機制的KYC資料標記系統及其方法KNOW YOUR CUSTOMER (KYC) DATA MARKING SYSTEM WITH DISPUTE RELIEF MECHANISM AND METHOD THEREOF\n",
      "done\n",
      "------------\n",
      "\n"
     ]
    },
    {
     "name": "stderr",
     "output_type": "stream",
     "text": [
      "Inference: 100%|██████████| 1/1 [00:00<00:00,  1.85it/s]\n",
      "Tokenization: 100%|██████████| 1/1 [00:00<00:00, 2061.08it/s]\n",
      "Inference: 100%|██████████| 1/1 [00:00<00:00,  1.11it/s]\n",
      "Tokenization: 100%|██████████| 1/1 [00:00<00:00, 2739.58it/s]\n",
      "Inference: 100%|██████████| 1/1 [00:00<00:00,  1.88it/s]\n",
      "Tokenization: 100%|██████████| 1/1 [00:00<00:00, 1957.21it/s]\n",
      "Inference:   0%|          | 0/1 [00:00<?, ?it/s]"
     ]
    },
    {
     "name": "stdout",
     "output_type": "stream",
     "text": [
      "Running pipeline ... done\n",
      "\n",
      "基於區塊鏈智能合約的應收帳款融資系統及其方法FINANCING SYSTEM FOR ACCOUNTS RECEIVABLE BASED ON BLOCKCHAIN SMART CONTRACT AND METHOD THEREOF\n",
      "done\n",
      "------------\n",
      "\n"
     ]
    },
    {
     "name": "stderr",
     "output_type": "stream",
     "text": [
      "Inference: 100%|██████████| 1/1 [00:00<00:00,  2.15it/s]\n",
      "Tokenization: 100%|██████████| 1/1 [00:00<00:00, 3449.26it/s]\n",
      "Inference: 100%|██████████| 1/1 [00:00<00:00,  1.46it/s]\n",
      "Tokenization: 100%|██████████| 1/1 [00:00<00:00, 3050.40it/s]\n",
      "Inference: 100%|██████████| 1/1 [00:00<00:00,  2.09it/s]\n",
      "Tokenization: 100%|██████████| 1/1 [00:00<00:00, 1960.87it/s]\n",
      "Inference:   0%|          | 0/1 [00:00<?, ?it/s]"
     ]
    },
    {
     "name": "stdout",
     "output_type": "stream",
     "text": [
      "Running pipeline ... done\n",
      "\n",
      "具爭議救濟機制的KYC資料標記系統及其方法KNOW YOUR CUSTOMER (KYC) DATA MARKING SYSTEM WITH DISPUTE RELIEF MECHANISM AND METHOD THEREOF\n",
      "done\n",
      "------------\n",
      "\n"
     ]
    },
    {
     "name": "stderr",
     "output_type": "stream",
     "text": [
      "Inference: 100%|██████████| 1/1 [00:00<00:00,  1.75it/s]\n",
      "Tokenization: 100%|██████████| 1/1 [00:00<00:00, 1623.18it/s]\n",
      "Inference: 100%|██████████| 1/1 [00:00<00:00,  1.43it/s]\n",
      "Tokenization: 100%|██████████| 1/1 [00:00<00:00, 1736.05it/s]\n",
      "Inference: 100%|██████████| 1/1 [00:00<00:00,  1.73it/s]\n",
      "Tokenization: 100%|██████████| 1/1 [00:00<00:00, 1792.44it/s]\n",
      "Inference:   0%|          | 0/1 [00:00<?, ?it/s]"
     ]
    },
    {
     "name": "stdout",
     "output_type": "stream",
     "text": [
      "Running pipeline ... done\n",
      "\n",
      "線上申購系統Online subscription system\n",
      "done\n",
      "------------\n",
      "\n"
     ]
    },
    {
     "name": "stderr",
     "output_type": "stream",
     "text": [
      "Inference: 100%|██████████| 1/1 [00:00<00:00,  1.72it/s]\n",
      "Tokenization: 100%|██████████| 1/1 [00:00<00:00, 3125.41it/s]\n",
      "Inference: 100%|██████████| 1/1 [00:00<00:00,  1.26it/s]\n",
      "Tokenization: 100%|██████████| 1/1 [00:00<00:00, 2711.25it/s]\n",
      "Inference: 100%|██████████| 1/1 [00:00<00:00,  1.73it/s]\n",
      "Tokenization: 100%|██████████| 1/1 [00:00<00:00, 2071.26it/s]\n",
      "Inference:   0%|          | 0/1 [00:00<?, ?it/s]"
     ]
    },
    {
     "name": "stdout",
     "output_type": "stream",
     "text": [
      "Running pipeline ... done\n",
      "\n",
      "利用行動裝置應用程式的電子交易認證方法及系統\n",
      "done\n",
      "------------\n",
      "\n"
     ]
    },
    {
     "name": "stderr",
     "output_type": "stream",
     "text": [
      "Inference: 100%|██████████| 1/1 [00:00<00:00,  2.50it/s]\n",
      "Tokenization: 100%|██████████| 1/1 [00:00<00:00, 2321.14it/s]\n",
      "Inference: 100%|██████████| 1/1 [00:00<00:00,  2.01it/s]\n",
      "Tokenization: 100%|██████████| 1/1 [00:00<00:00, 2495.12it/s]\n",
      "Inference: 100%|██████████| 1/1 [00:00<00:00,  2.79it/s]\n",
      "Tokenization: 100%|██████████| 1/1 [00:00<00:00, 764.41it/s]\n",
      "Inference:   0%|          | 0/1 [00:00<?, ?it/s]"
     ]
    },
    {
     "name": "stdout",
     "output_type": "stream",
     "text": [
      "Running pipeline ... done\n",
      "\n",
      "基於區塊鏈用以提供金融端聯網之系統及其方法SYSTEM AND METHOD BASED ON BLOCKCHAIN FOR PROVIDING FINANCIAL END NETWORKING\n",
      "done\n",
      "------------\n",
      "\n"
     ]
    },
    {
     "name": "stderr",
     "output_type": "stream",
     "text": [
      "Inference: 100%|██████████| 1/1 [00:02<00:00,  2.32s/it]\n",
      "Tokenization: 100%|██████████| 1/1 [00:00<00:00, 1086.89it/s]\n",
      "Inference: 100%|██████████| 1/1 [00:05<00:00,  5.16s/it]\n",
      "Tokenization: 100%|██████████| 1/1 [00:00<00:00, 759.42it/s]\n",
      "Inference: 100%|██████████| 1/1 [00:02<00:00,  2.26s/it]\n",
      "Tokenization: 100%|██████████| 1/1 [00:00<00:00, 1869.12it/s]\n",
      "Inference:   0%|          | 0/1 [00:00<?, ?it/s]"
     ]
    },
    {
     "name": "stdout",
     "output_type": "stream",
     "text": [
      "Running pipeline ... done\n",
      "\n",
      "基於區塊鏈智能合約的KYC資料共享系統及其方法KNOW YOUR CUSTOMER (KYC) DATA SHARING SYSTEM BASED ON SMART CONTRACT ON BLOCKCHAIN AND METHOD THEREOF\n",
      "done\n",
      "------------\n",
      "\n"
     ]
    },
    {
     "name": "stderr",
     "output_type": "stream",
     "text": [
      "Inference: 100%|██████████| 1/1 [00:00<00:00,  1.99it/s]\n",
      "Tokenization: 100%|██████████| 1/1 [00:00<00:00, 1307.04it/s]\n",
      "Inference: 100%|██████████| 1/1 [00:00<00:00,  1.44it/s]\n",
      "Tokenization: 100%|██████████| 1/1 [00:00<00:00, 2985.27it/s]\n",
      "Inference: 100%|██████████| 1/1 [00:00<00:00,  1.83it/s]\n",
      "Tokenization: 100%|██████████| 1/1 [00:00<00:00, 3830.41it/s]\n",
      "Inference:   0%|          | 0/1 [00:00<?, ?it/s]"
     ]
    },
    {
     "name": "stdout",
     "output_type": "stream",
     "text": [
      "Running pipeline ... done\n",
      "\n",
      "具隱密性的KYC資料共享系統及其方法KNOW YOUR CUSTOMER (KYC) DATA SHARING SYSTEM WITH PRIVACY AND METHOD THEREOF\n",
      "done\n",
      "------------\n",
      "\n"
     ]
    },
    {
     "name": "stderr",
     "output_type": "stream",
     "text": [
      "Inference: 100%|██████████| 1/1 [00:00<00:00,  2.62it/s]\n",
      "Tokenization: 100%|██████████| 1/1 [00:00<00:00, 2866.92it/s]\n",
      "Inference: 100%|██████████| 1/1 [00:00<00:00,  2.04it/s]\n",
      "Tokenization: 100%|██████████| 1/1 [00:00<00:00, 1904.77it/s]\n",
      "Inference: 100%|██████████| 1/1 [00:00<00:00,  2.53it/s]\n",
      "Tokenization: 100%|██████████| 1/1 [00:00<00:00, 1937.32it/s]\n",
      "Inference:   0%|          | 0/1 [00:00<?, ?it/s]"
     ]
    },
    {
     "name": "stdout",
     "output_type": "stream",
     "text": [
      "Running pipeline ... done\n",
      "\n",
      "具監管機制的帳聯網系統及其實施方法ACCOUNT NETWORK SYSTEM WITH A REGULATORY MECHANISM AND ITS IMPLEMENTING METHOD\n",
      "done\n",
      "------------\n",
      "\n"
     ]
    },
    {
     "name": "stderr",
     "output_type": "stream",
     "text": [
      "Inference: 100%|██████████| 1/1 [00:00<00:00,  1.70it/s]\n",
      "Tokenization: 100%|██████████| 1/1 [00:00<00:00, 1945.41it/s]\n",
      "Inference: 100%|██████████| 1/1 [00:00<00:00,  1.20it/s]\n",
      "Tokenization: 100%|██████████| 1/1 [00:00<00:00, 1757.88it/s]\n",
      "Inference: 100%|██████████| 1/1 [00:00<00:00,  1.78it/s]\n",
      "Tokenization: 100%|██████████| 1/1 [00:00<00:00, 1891.03it/s]\n",
      "Inference:   0%|          | 0/1 [00:00<?, ?it/s]"
     ]
    },
    {
     "name": "stdout",
     "output_type": "stream",
     "text": [
      "Running pipeline ... done\n",
      "\n",
      "分散式集群服務系統及其動態資訊分派更新系統Decentralized cluster service system and dynamic information distribution update system thereof\n",
      "done\n",
      "------------\n",
      "\n"
     ]
    },
    {
     "name": "stderr",
     "output_type": "stream",
     "text": [
      "Inference: 100%|██████████| 1/1 [00:00<00:00,  1.64it/s]\n",
      "Tokenization: 100%|██████████| 1/1 [00:00<00:00, 1597.22it/s]\n",
      "Inference: 100%|██████████| 1/1 [00:01<00:00,  1.19s/it]\n",
      "Tokenization: 100%|██████████| 1/1 [00:00<00:00, 2551.28it/s]\n",
      "Inference: 100%|██████████| 1/1 [00:00<00:00,  1.65it/s]\n",
      "Tokenization: 100%|██████████| 1/1 [00:00<00:00, 1938.22it/s]\n",
      "Inference:   0%|          | 0/1 [00:00<?, ?it/s]"
     ]
    },
    {
     "name": "stdout",
     "output_type": "stream",
     "text": [
      "Running pipeline ... done\n",
      "\n",
      "系統登入方法及登入驗證裝置LOGIN METHOD AND LOGIN AUTHENTICATION DEVICE\n",
      "done\n",
      "------------\n",
      "\n"
     ]
    },
    {
     "name": "stderr",
     "output_type": "stream",
     "text": [
      "Inference: 100%|██████████| 1/1 [00:00<00:00,  1.82it/s]\n",
      "Tokenization: 100%|██████████| 1/1 [00:00<00:00, 2178.86it/s]\n",
      "Inference: 100%|██████████| 1/1 [00:00<00:00,  1.17it/s]\n",
      "Tokenization: 100%|██████████| 1/1 [00:00<00:00, 2304.56it/s]\n",
      "Inference: 100%|██████████| 1/1 [00:00<00:00,  1.77it/s]\n",
      "Tokenization: 100%|██████████| 1/1 [00:00<00:00, 578.68it/s]\n",
      "Inference:   0%|          | 0/1 [00:00<?, ?it/s]"
     ]
    },
    {
     "name": "stdout",
     "output_type": "stream",
     "text": [
      "Running pipeline ... done\n",
      "\n",
      "社群集體保險之風險評估系統A RISK EVALUATION SYSTEM FOR SOCIAL GROUP INSURANCE POLICY\n",
      "done\n",
      "------------\n",
      "\n"
     ]
    },
    {
     "name": "stderr",
     "output_type": "stream",
     "text": [
      "Inference: 100%|██████████| 1/1 [00:03<00:00,  3.52s/it]\n",
      "Tokenization: 100%|██████████| 1/1 [00:00<00:00, 700.33it/s]\n",
      "Inference: 100%|██████████| 1/1 [00:16<00:00, 16.91s/it]\n",
      "Tokenization: 100%|██████████| 1/1 [00:00<00:00, 207.34it/s]\n",
      "Inference: 100%|██████████| 1/1 [00:03<00:00,  3.45s/it]\n",
      "Tokenization: 100%|██████████| 1/1 [00:00<00:00, 569.88it/s]\n",
      "Inference:   0%|          | 0/1 [00:00<?, ?it/s]"
     ]
    },
    {
     "name": "stdout",
     "output_type": "stream",
     "text": [
      "Running pipeline ... done\n",
      "\n",
      "以歷史數據資料預先回測作為搜尋最佳選股條件的方法及選股系統Method for searching best stock selection conditions by backtesting historical data in advance and stock selection system\n",
      "done\n",
      "------------\n",
      "\n"
     ]
    },
    {
     "name": "stderr",
     "output_type": "stream",
     "text": [
      "Inference: 100%|██████████| 1/1 [00:03<00:00,  3.41s/it]\n",
      "Tokenization: 100%|██████████| 1/1 [00:00<00:00, 748.45it/s]\n",
      "Inference: 100%|██████████| 1/1 [00:14<00:00, 14.30s/it]\n",
      "Tokenization: 100%|██████████| 1/1 [00:00<00:00, 222.23it/s]\n",
      "Inference: 100%|██████████| 1/1 [00:03<00:00,  3.54s/it]\n",
      "Tokenization: 100%|██████████| 1/1 [00:00<00:00, 1497.43it/s]\n",
      "Inference:   0%|          | 0/1 [00:00<?, ?it/s]"
     ]
    },
    {
     "name": "stdout",
     "output_type": "stream",
     "text": [
      "Running pipeline ... done\n",
      "\n",
      "企業風險評估與保險規劃系統及方法RISK ASSESSMENT AND INSURANCE PLANNING SYSTEM AND METHOD FOR INSURANCE OF ENTERPRISE\n",
      "done\n",
      "------------\n",
      "\n"
     ]
    },
    {
     "name": "stderr",
     "output_type": "stream",
     "text": [
      "Inference: 100%|██████████| 1/1 [00:00<00:00,  1.72it/s]\n",
      "Tokenization: 100%|██████████| 1/1 [00:00<00:00, 2577.94it/s]\n",
      "Inference: 100%|██████████| 1/1 [00:00<00:00,  1.03it/s]\n",
      "Tokenization: 100%|██████████| 1/1 [00:00<00:00, 2570.04it/s]\n",
      "Inference: 100%|██████████| 1/1 [00:00<00:00,  1.75it/s]\n",
      "Tokenization: 100%|██████████| 1/1 [00:00<00:00, 573.07it/s]\n",
      "Inference:   0%|          | 0/1 [00:00<?, ?it/s]"
     ]
    },
    {
     "name": "stdout",
     "output_type": "stream",
     "text": [
      "Running pipeline ... done\n",
      "\n",
      "社群集體保險之行動管理系統MOBILE MANAGEMENT SYSTEM OF SOCIAL GROUP INSURANCEPOLICY\n",
      "done\n",
      "------------\n",
      "\n"
     ]
    },
    {
     "name": "stderr",
     "output_type": "stream",
     "text": [
      "Inference: 100%|██████████| 1/1 [00:03<00:00,  3.53s/it]\n",
      "Tokenization: 100%|██████████| 1/1 [00:00<00:00, 836.02it/s]\n",
      "Inference: 100%|██████████| 1/1 [00:12<00:00, 12.90s/it]\n",
      "Tokenization: 100%|██████████| 1/1 [00:00<00:00, 294.38it/s]\n",
      "Inference: 100%|██████████| 1/1 [00:03<00:00,  3.52s/it]\n",
      "Tokenization: 100%|██████████| 1/1 [00:00<00:00, 812.85it/s]\n",
      "Inference:   0%|          | 0/1 [00:00<?, ?it/s]"
     ]
    },
    {
     "name": "stdout",
     "output_type": "stream",
     "text": [
      "Running pipeline ... done\n",
      "\n",
      "金融商品篩選並揭示回測結果方法及系統Method and system to screen commodity and disclose the backtesting result\n",
      "done\n",
      "------------\n",
      "\n"
     ]
    },
    {
     "name": "stderr",
     "output_type": "stream",
     "text": [
      "Inference: 100%|██████████| 1/1 [00:02<00:00,  2.38s/it]\n",
      "Tokenization: 100%|██████████| 1/1 [00:00<00:00, 685.90it/s]\n",
      "Inference: 100%|██████████| 1/1 [00:09<00:00,  9.52s/it]\n",
      "Tokenization: 100%|██████████| 1/1 [00:00<00:00, 301.47it/s]\n",
      "Inference: 100%|██████████| 1/1 [00:02<00:00,  2.39s/it]\n",
      "Tokenization: 100%|██████████| 1/1 [00:00<00:00, 636.95it/s]\n",
      "Inference:   0%|          | 0/1 [00:00<?, ?it/s]"
     ]
    },
    {
     "name": "stdout",
     "output_type": "stream",
     "text": [
      "Running pipeline ... done\n",
      "\n",
      "使用智能合約進行保險理賠之系統及其方法SYSTEM FOR USING SMART CONTRACTS FOR INSURANCE CLAIMS AND METHOD THEREOF\n",
      "done\n",
      "------------\n",
      "\n"
     ]
    },
    {
     "name": "stderr",
     "output_type": "stream",
     "text": [
      "Inference: 100%|██████████| 1/1 [00:03<00:00,  3.56s/it]\n",
      "Tokenization: 100%|██████████| 1/1 [00:00<00:00, 840.21it/s]\n",
      "Inference: 100%|██████████| 1/1 [00:06<00:00,  6.81s/it]\n",
      "Tokenization: 100%|██████████| 1/1 [00:00<00:00, 696.96it/s]\n",
      "Inference: 100%|██████████| 1/1 [00:03<00:00,  3.48s/it]\n",
      "Tokenization: 100%|██████████| 1/1 [00:00<00:00, 544.64it/s]\n",
      "Inference:   0%|          | 0/1 [00:00<?, ?it/s]"
     ]
    },
    {
     "name": "stdout",
     "output_type": "stream",
     "text": [
      "Running pipeline ... done\n",
      "\n",
      "使用智能合約完成投保之系統及其方法SYSTEM FOR INSURING BASED ON SMART CONTRACTS AND METHOD THEREOF\n",
      "done\n",
      "------------\n",
      "\n"
     ]
    },
    {
     "name": "stderr",
     "output_type": "stream",
     "text": [
      "Inference: 100%|██████████| 1/1 [00:03<00:00,  3.45s/it]\n",
      "Tokenization: 100%|██████████| 1/1 [00:00<00:00, 873.27it/s]\n",
      "Inference: 100%|██████████| 1/1 [00:12<00:00, 12.67s/it]\n",
      "Tokenization: 100%|██████████| 1/1 [00:00<00:00, 190.83it/s]\n",
      "Inference: 100%|██████████| 1/1 [00:03<00:00,  3.54s/it]\n",
      "Tokenization: 100%|██████████| 1/1 [00:00<00:00, 611.33it/s]\n",
      "Inference:   0%|          | 0/1 [00:00<?, ?it/s]"
     ]
    },
    {
     "name": "stdout",
     "output_type": "stream",
     "text": [
      "Running pipeline ... done\n",
      "\n",
      "系統登入方法及登入驗證裝置LOGIN METHOD AND LOGIN AUTHENTICATION DEVICE\n",
      "done\n",
      "------------\n",
      "\n"
     ]
    },
    {
     "name": "stderr",
     "output_type": "stream",
     "text": [
      "Inference: 100%|██████████| 1/1 [00:03<00:00,  3.43s/it]\n",
      "Tokenization: 100%|██████████| 1/1 [00:00<00:00, 1016.31it/s]\n",
      "Inference: 100%|██████████| 1/1 [00:08<00:00,  8.31s/it]\n",
      "Tokenization: 100%|██████████| 1/1 [00:00<00:00, 293.35it/s]\n",
      "Inference: 100%|██████████| 1/1 [00:03<00:00,  3.56s/it]\n",
      "Tokenization: 100%|██████████| 1/1 [00:00<00:00, 659.59it/s]\n",
      "Inference:   0%|          | 0/1 [00:00<?, ?it/s]"
     ]
    },
    {
     "name": "stdout",
     "output_type": "stream",
     "text": [
      "Running pipeline ... done\n",
      "\n",
      "資訊管理系統SYSTEM FOR INFORMATION MANAGEMENT\n",
      "done\n",
      "------------\n",
      "\n"
     ]
    },
    {
     "name": "stderr",
     "output_type": "stream",
     "text": [
      "Inference: 100%|██████████| 1/1 [00:03<00:00,  3.50s/it]\n",
      "Tokenization: 100%|██████████| 1/1 [00:00<00:00, 884.13it/s]\n",
      "Inference: 100%|██████████| 1/1 [00:18<00:00, 18.82s/it]\n",
      "Tokenization: 100%|██████████| 1/1 [00:00<00:00, 258.81it/s]\n",
      "Inference: 100%|██████████| 1/1 [00:03<00:00,  3.54s/it]\n",
      "Tokenization: 100%|██████████| 1/1 [00:00<00:00, 1767.51it/s]\n",
      "Inference:   0%|          | 0/1 [00:00<?, ?it/s]"
     ]
    },
    {
     "name": "stdout",
     "output_type": "stream",
     "text": [
      "Running pipeline ... done\n",
      "\n",
      "客戶分析系統及其方法COSTUMER ANALYSIS SYSTEM AND METHOD\n",
      "done\n",
      "------------\n",
      "\n"
     ]
    },
    {
     "name": "stderr",
     "output_type": "stream",
     "text": [
      "Inference: 100%|██████████| 1/1 [00:00<00:00,  1.72it/s]\n",
      "Tokenization: 100%|██████████| 1/1 [00:00<00:00, 2457.12it/s]\n",
      "Inference: 100%|██████████| 1/1 [00:00<00:00,  1.05it/s]\n",
      "Tokenization: 100%|██████████| 1/1 [00:00<00:00, 2748.56it/s]\n",
      "Inference: 100%|██████████| 1/1 [00:00<00:00,  1.65it/s]\n",
      "Tokenization: 100%|██████████| 1/1 [00:00<00:00, 2152.03it/s]\n",
      "Inference:   0%|          | 0/1 [00:00<?, ?it/s]"
     ]
    },
    {
     "name": "stdout",
     "output_type": "stream",
     "text": [
      "Running pipeline ... done\n",
      "\n",
      "視訊服務系統Video service system\n",
      "done\n",
      "------------\n",
      "\n"
     ]
    },
    {
     "name": "stderr",
     "output_type": "stream",
     "text": [
      "Inference: 100%|██████████| 1/1 [00:00<00:00,  2.45it/s]\n",
      "Tokenization: 100%|██████████| 1/1 [00:00<00:00, 651.49it/s]\n",
      "Inference: 100%|██████████| 1/1 [00:00<00:00,  1.65it/s]\n",
      "Tokenization: 100%|██████████| 1/1 [00:00<00:00, 2916.76it/s]\n",
      "Inference: 100%|██████████| 1/1 [00:00<00:00,  2.32it/s]\n",
      "Tokenization: 100%|██████████| 1/1 [00:00<00:00, 2513.06it/s]\n",
      "Inference:   0%|          | 0/1 [00:00<?, ?it/s]"
     ]
    },
    {
     "name": "stdout",
     "output_type": "stream",
     "text": [
      "Running pipeline ... done\n",
      "\n",
      "基於區塊鏈智能合約的KYC資料共享系統及其方法KNOW YOUR CUSTOMER (KYC) DATA SHARING SYSTEM BASED ON SMART CONTRACT ON BLOCKCHAIN AND METHOD THEREOF\n",
      "done\n",
      "------------\n",
      "\n"
     ]
    },
    {
     "name": "stderr",
     "output_type": "stream",
     "text": [
      "Inference: 100%|██████████| 1/1 [00:00<00:00,  1.82it/s]\n",
      "Tokenization: 100%|██████████| 1/1 [00:00<00:00, 2777.68it/s]\n",
      "Inference: 100%|██████████| 1/1 [00:00<00:00,  1.40it/s]\n",
      "Tokenization: 100%|██████████| 1/1 [00:00<00:00, 1223.54it/s]\n",
      "Inference: 100%|██████████| 1/1 [00:00<00:00,  1.83it/s]\n",
      "Tokenization: 100%|██████████| 1/1 [00:00<00:00, 2216.86it/s]\n",
      "Inference:   0%|          | 0/1 [00:00<?, ?it/s]"
     ]
    },
    {
     "name": "stdout",
     "output_type": "stream",
     "text": [
      "Running pipeline ... done\n",
      "\n",
      "設定金融軟體的主畫面的方法、電腦可讀取的記錄媒體及可設定金融軟體的主畫面的行動通訊裝置\n",
      "done\n",
      "------------\n",
      "\n"
     ]
    },
    {
     "name": "stderr",
     "output_type": "stream",
     "text": [
      "Inference: 100%|██████████| 1/1 [00:00<00:00,  1.86it/s]\n",
      "Tokenization: 100%|██████████| 1/1 [00:00<00:00, 1546.00it/s]\n",
      "Inference: 100%|██████████| 1/1 [00:00<00:00,  1.12it/s]\n",
      "Tokenization: 100%|██████████| 1/1 [00:00<00:00, 2659.67it/s]\n",
      "Inference: 100%|██████████| 1/1 [00:00<00:00,  1.77it/s]\n",
      "Tokenization: 100%|██████████| 1/1 [00:00<00:00, 618.90it/s]\n",
      "Inference:   0%|          | 0/1 [00:00<?, ?it/s]"
     ]
    },
    {
     "name": "stdout",
     "output_type": "stream",
     "text": [
      "Running pipeline ... done\n",
      "\n",
      "依金融商品交易行動軟體的執行與連線狀況自動切換即時訊息通知模式的方法、行動裝置服務伺服端\n",
      "done\n",
      "------------\n",
      "\n"
     ]
    },
    {
     "name": "stderr",
     "output_type": "stream",
     "text": [
      "Inference: 100%|██████████| 1/1 [00:03<00:00,  3.51s/it]\n",
      "Tokenization: 100%|██████████| 1/1 [00:00<00:00, 1074.09it/s]\n",
      "Inference: 100%|██████████| 1/1 [00:11<00:00, 11.22s/it]\n",
      "Tokenization: 100%|██████████| 1/1 [00:00<00:00, 204.37it/s]\n",
      "Inference: 100%|██████████| 1/1 [00:03<00:00,  3.53s/it]\n",
      "Tokenization: 100%|██████████| 1/1 [00:00<00:00, 543.73it/s]\n",
      "Inference:   0%|          | 0/1 [00:00<?, ?it/s]"
     ]
    },
    {
     "name": "stdout",
     "output_type": "stream",
     "text": [
      "Running pipeline ... done\n",
      "\n",
      "社群集體保險之風險評估系統A RISK EVALUATION SYSTEM FOR SOCIAL GROUP INSURANCE POLICY\n",
      "done\n",
      "------------\n",
      "\n"
     ]
    },
    {
     "name": "stderr",
     "output_type": "stream",
     "text": [
      "Inference: 100%|██████████| 1/1 [00:03<00:00,  3.47s/it]\n",
      "Tokenization: 100%|██████████| 1/1 [00:00<00:00, 984.35it/s]\n",
      "Inference: 100%|██████████| 1/1 [00:20<00:00, 20.34s/it]\n",
      "Tokenization: 100%|██████████| 1/1 [00:00<00:00, 86.41it/s]\n",
      "Inference: 100%|██████████| 1/1 [00:03<00:00,  3.46s/it]\n",
      "Tokenization: 100%|██████████| 1/1 [00:00<00:00, 687.70it/s]\n",
      "Inference:   0%|          | 0/1 [00:00<?, ?it/s]"
     ]
    },
    {
     "name": "stdout",
     "output_type": "stream",
     "text": [
      "Running pipeline ... done\n",
      "\n",
      "社群集體保險之行動管理系統MOBILE MANAGEMENT SYSTEM OF SOCIAL GROUP INSURANCEPOLICY\n",
      "done\n",
      "------------\n",
      "\n"
     ]
    },
    {
     "name": "stderr",
     "output_type": "stream",
     "text": [
      "Inference: 100%|██████████| 1/1 [00:03<00:00,  3.46s/it]\n",
      "Tokenization: 100%|██████████| 1/1 [00:00<00:00, 873.27it/s]\n",
      "Inference: 100%|██████████| 1/1 [00:24<00:00, 24.34s/it]\n",
      "Tokenization: 100%|██████████| 1/1 [00:00<00:00, 64.61it/s]\n",
      "Inference: 100%|██████████| 1/1 [00:03<00:00,  3.50s/it]\n",
      "Tokenization: 100%|██████████| 1/1 [00:00<00:00, 1242.39it/s]\n",
      "Inference:   0%|          | 0/1 [00:00<?, ?it/s]"
     ]
    },
    {
     "name": "stdout",
     "output_type": "stream",
     "text": [
      "Running pipeline ... done\n",
      "\n",
      "分散式保險回饋系統DECENTRALIZED INSURANCE REWARD SYSTEM\n",
      "done\n",
      "------------\n",
      "\n"
     ]
    },
    {
     "name": "stderr",
     "output_type": "stream",
     "text": [
      "Inference: 100%|██████████| 1/1 [00:00<00:00,  2.20it/s]\n",
      "Tokenization: 100%|██████████| 1/1 [00:00<00:00, 2785.06it/s]\n",
      "Inference: 100%|██████████| 1/1 [00:00<00:00,  1.48it/s]\n",
      "Tokenization: 100%|██████████| 1/1 [00:00<00:00, 2253.79it/s]\n",
      "Inference: 100%|██████████| 1/1 [00:00<00:00,  2.20it/s]\n",
      "Tokenization: 100%|██████████| 1/1 [00:00<00:00, 725.78it/s]\n",
      "Inference:   0%|          | 0/1 [00:00<?, ?it/s]"
     ]
    },
    {
     "name": "stdout",
     "output_type": "stream",
     "text": [
      "Running pipeline ... done\n",
      "\n",
      "智能合約的實名帳戶建立系統及其方法REAL-NAME ACCOUNT GENERATING SYSTEM FOR SMART CONTRACT AND METHOD THEREOF\n",
      "done\n",
      "------------\n",
      "\n"
     ]
    },
    {
     "name": "stderr",
     "output_type": "stream",
     "text": [
      "Inference: 100%|██████████| 1/1 [00:02<00:00,  2.35s/it]\n",
      "Tokenization: 100%|██████████| 1/1 [00:00<00:00, 1358.70it/s]\n",
      "Inference: 100%|██████████| 1/1 [00:07<00:00,  7.44s/it]\n",
      "Tokenization: 100%|██████████| 1/1 [00:00<00:00, 785.01it/s]\n",
      "Inference: 100%|██████████| 1/1 [00:02<00:00,  2.33s/it]\n",
      "Tokenization: 100%|██████████| 1/1 [00:00<00:00, 3366.22it/s]\n",
      "Inference:   0%|          | 0/1 [00:00<?, ?it/s]"
     ]
    },
    {
     "name": "stdout",
     "output_type": "stream",
     "text": [
      "Running pipeline ... done\n",
      "\n",
      "車輛認證系統及其車輛認證之方法vehicle authentication system and vehicle authentication method thereof\n",
      "done\n",
      "------------\n",
      "\n"
     ]
    },
    {
     "name": "stderr",
     "output_type": "stream",
     "text": [
      "Inference: 100%|██████████| 1/1 [00:00<00:00,  2.42it/s]\n",
      "Tokenization: 100%|██████████| 1/1 [00:00<00:00, 2387.20it/s]\n",
      "Inference: 100%|██████████| 1/1 [00:00<00:00,  1.20it/s]\n",
      "Tokenization: 100%|██████████| 1/1 [00:00<00:00, 2826.35it/s]\n",
      "Inference: 100%|██████████| 1/1 [00:00<00:00,  2.49it/s]\n",
      "Tokenization: 100%|██████████| 1/1 [00:00<00:00, 545.57it/s]\n",
      "Inference:   0%|          | 0/1 [00:00<?, ?it/s]"
     ]
    },
    {
     "name": "stdout",
     "output_type": "stream",
     "text": [
      "Running pipeline ... done\n",
      "\n",
      "車輛認證系統及其車輛認證之方法VEHICLE AUTHENTICATION SYSTEM AND VEHICLE AUTHENTICATION METHOD THEREOF\n",
      "done\n",
      "------------\n",
      "\n"
     ]
    },
    {
     "name": "stderr",
     "output_type": "stream",
     "text": [
      "Inference: 100%|██████████| 1/1 [00:03<00:00,  3.49s/it]\n",
      "Tokenization: 100%|██████████| 1/1 [00:00<00:00, 721.54it/s]\n",
      "Inference: 100%|██████████| 1/1 [00:08<00:00,  8.79s/it]\n",
      "Tokenization: 100%|██████████| 1/1 [00:00<00:00, 292.33it/s]\n",
      "Inference: 100%|██████████| 1/1 [00:04<00:00,  4.02s/it]\n",
      "Tokenization: 100%|██████████| 1/1 [00:00<00:00, 865.70it/s]\n",
      "Inference:   0%|          | 0/1 [00:00<?, ?it/s]"
     ]
    },
    {
     "name": "stdout",
     "output_type": "stream",
     "text": [
      "Running pipeline ... done\n",
      "\n",
      "車輛保險系統VEHICLE INSURANCE SYSTEM\n",
      "done\n",
      "------------\n",
      "\n"
     ]
    },
    {
     "name": "stderr",
     "output_type": "stream",
     "text": [
      "Inference: 100%|██████████| 1/1 [00:02<00:00,  2.42s/it]\n",
      "Tokenization: 100%|██████████| 1/1 [00:00<00:00, 1321.04it/s]\n",
      "Inference: 100%|██████████| 1/1 [00:06<00:00,  6.47s/it]\n",
      "Tokenization: 100%|██████████| 1/1 [00:00<00:00, 836.85it/s]\n",
      "Inference: 100%|██████████| 1/1 [00:02<00:00,  2.31s/it]\n",
      "Tokenization: 100%|██████████| 1/1 [00:00<00:00, 505.89it/s]\n",
      "Inference:   0%|          | 0/1 [00:00<?, ?it/s]"
     ]
    },
    {
     "name": "stdout",
     "output_type": "stream",
     "text": [
      "Running pipeline ... done\n",
      "\n",
      "具監管機制的帳聯網系統及其實施方法ACCOUNT NETWORK SYSTEM WITH A REGULATORY MECHANISM AND ITS IMPLEMENTING METHOD\n",
      "done\n",
      "------------\n",
      "\n"
     ]
    },
    {
     "name": "stderr",
     "output_type": "stream",
     "text": [
      "Inference: 100%|██████████| 1/1 [00:02<00:00,  2.41s/it]\n",
      "Tokenization: 100%|██████████| 1/1 [00:00<00:00, 1005.83it/s]\n",
      "Inference: 100%|██████████| 1/1 [00:18<00:00, 18.11s/it]\n",
      "Tokenization: 100%|██████████| 1/1 [00:00<00:00, 296.42it/s]\n",
      "Inference: 100%|██████████| 1/1 [00:02<00:00,  2.38s/it]\n",
      "Tokenization: 100%|██████████| 1/1 [00:00<00:00, 2303.30it/s]\n",
      "Inference:   0%|          | 0/1 [00:00<?, ?it/s]"
     ]
    },
    {
     "name": "stdout",
     "output_type": "stream",
     "text": [
      "Running pipeline ... done\n",
      "\n",
      "借券媒合交易系統及其方法SECURITIES LENDING AND BORROWING MATCHING SYSTEM AND METHOD THEREOF\n",
      "done\n",
      "------------\n",
      "\n"
     ]
    },
    {
     "name": "stderr",
     "output_type": "stream",
     "text": [
      "Inference: 100%|██████████| 1/1 [00:00<00:00,  1.76it/s]\n",
      "Tokenization: 100%|██████████| 1/1 [00:00<00:00, 3059.30it/s]\n",
      "Inference: 100%|██████████| 1/1 [00:00<00:00,  1.11it/s]\n",
      "Tokenization: 100%|██████████| 1/1 [00:00<00:00, 2775.85it/s]\n",
      "Inference: 100%|██████████| 1/1 [00:00<00:00,  1.79it/s]\n",
      "Tokenization: 100%|██████████| 1/1 [00:00<00:00, 742.88it/s]\n",
      "Inference:   0%|          | 0/1 [00:00<?, ?it/s]"
     ]
    },
    {
     "name": "stdout",
     "output_type": "stream",
     "text": [
      "Running pipeline ... done\n",
      "\n",
      "分散式保險回饋系統DECENTRALIZED INSURANCE REWARD SYSTEM\n",
      "done\n",
      "------------\n",
      "\n"
     ]
    },
    {
     "name": "stderr",
     "output_type": "stream",
     "text": [
      "Inference: 100%|██████████| 1/1 [00:02<00:00,  2.31s/it]\n",
      "Tokenization: 100%|██████████| 1/1 [00:00<00:00, 953.25it/s]\n",
      "Inference: 100%|██████████| 1/1 [00:06<00:00,  6.18s/it]\n",
      "Tokenization: 100%|██████████| 1/1 [00:00<00:00, 553.41it/s]\n",
      "Inference: 100%|██████████| 1/1 [00:02<00:00,  2.37s/it]\n",
      "Tokenization: 100%|██████████| 1/1 [00:00<00:00, 626.11it/s]\n",
      "Inference:   0%|          | 0/1 [00:00<?, ?it/s]"
     ]
    },
    {
     "name": "stdout",
     "output_type": "stream",
     "text": [
      "Running pipeline ... done\n",
      "\n",
      "智能合約的實名帳戶建立系統及其方法REAL-NAME ACCOUNT GENERATING SYSTEM FOR SMART CONTRACT AND METHOD THEREOF\n",
      "done\n",
      "------------\n",
      "\n"
     ]
    },
    {
     "name": "stderr",
     "output_type": "stream",
     "text": [
      "Inference: 100%|██████████| 1/1 [00:03<00:00,  3.50s/it]\n",
      "Tokenization: 100%|██████████| 1/1 [00:00<00:00, 864.45it/s]\n",
      "Inference: 100%|██████████| 1/1 [00:18<00:00, 18.73s/it]\n",
      "Tokenization: 100%|██████████| 1/1 [00:00<00:00, 187.65it/s]\n",
      "Inference: 100%|██████████| 1/1 [00:03<00:00,  3.51s/it]\n",
      "Tokenization: 100%|██████████| 1/1 [00:00<00:00, 600.90it/s]\n",
      "Inference:   0%|          | 0/1 [00:00<?, ?it/s]"
     ]
    },
    {
     "name": "stdout",
     "output_type": "stream",
     "text": [
      "Running pipeline ... done\n",
      "\n",
      "利用生物特徵辨識的登入方法、行動通訊裝置及電腦可讀取紀錄媒體Login method using biometric identification, mobile communication device and computer-readable recording medium\n",
      "done\n",
      "------------\n",
      "\n"
     ]
    },
    {
     "name": "stderr",
     "output_type": "stream",
     "text": [
      "Inference: 100%|██████████| 1/1 [00:03<00:00,  3.47s/it]\n",
      "Tokenization: 100%|██████████| 1/1 [00:00<00:00, 954.99it/s]\n",
      "Inference: 100%|██████████| 1/1 [00:07<00:00,  7.30s/it]\n",
      "Tokenization: 100%|██████████| 1/1 [00:00<00:00, 639.77it/s]\n",
      "Inference: 100%|██████████| 1/1 [00:03<00:00,  3.52s/it]\n",
      "Tokenization: 100%|██████████| 1/1 [00:00<00:00, 599.10it/s]\n",
      "Inference:   0%|          | 0/1 [00:00<?, ?it/s]"
     ]
    },
    {
     "name": "stdout",
     "output_type": "stream",
     "text": [
      "Running pipeline ... done\n",
      "\n",
      "設定金融軟體的主畫面的方法、電腦可讀取的記錄媒體及可設定金融軟體的主畫面的行動通訊裝置Method for setting main screen of financial software, computer-readable recording medium, and mobile communication device capable of setting main screen of financial software\n",
      "done\n",
      "------------\n",
      "\n"
     ]
    },
    {
     "name": "stderr",
     "output_type": "stream",
     "text": [
      "Inference: 100%|██████████| 1/1 [00:03<00:00,  3.45s/it]\n",
      "Tokenization: 100%|██████████| 1/1 [00:00<00:00, 826.46it/s]\n",
      "Inference: 100%|██████████| 1/1 [00:09<00:00,  9.80s/it]\n",
      "Tokenization: 100%|██████████| 1/1 [00:00<00:00, 336.68it/s]\n",
      "Inference: 100%|██████████| 1/1 [00:03<00:00,  3.48s/it]\n",
      "Tokenization: 100%|██████████| 1/1 [00:00<00:00, 1305.01it/s]\n",
      "Inference:   0%|          | 0/1 [00:00<?, ?it/s]"
     ]
    },
    {
     "name": "stdout",
     "output_type": "stream",
     "text": [
      "Running pipeline ... done\n",
      "\n",
      "利用行動裝置應用程式的電子交易認證方法及系統Electronic transaction authentication method and system using mobile device application program\n",
      "done\n",
      "------------\n",
      "\n"
     ]
    },
    {
     "name": "stderr",
     "output_type": "stream",
     "text": [
      "Inference: 100%|██████████| 1/1 [00:00<00:00,  1.73it/s]\n",
      "Tokenization: 100%|██████████| 1/1 [00:00<00:00, 1579.78it/s]\n",
      "Inference: 100%|██████████| 1/1 [00:00<00:00,  1.24it/s]\n",
      "Tokenization: 100%|██████████| 1/1 [00:00<00:00, 2592.28it/s]\n",
      "Inference: 100%|██████████| 1/1 [00:00<00:00,  1.75it/s]\n",
      "Tokenization: 100%|██████████| 1/1 [00:00<00:00, 1960.87it/s]\n",
      "Inference:   0%|          | 0/1 [00:00<?, ?it/s]"
     ]
    },
    {
     "name": "stdout",
     "output_type": "stream",
     "text": [
      "Running pipeline ... done\n",
      "\n",
      "具多重密鑰的KYC資料標記之爭議救濟系統及其方法KNOW YOUR CUSTOMER (KYC) DATA MARKING DISPUTE RELIEF SYSTEM WITH MULTIPLE SECRET KEY AND METHOD THEREOF\n",
      "done\n",
      "------------\n",
      "\n"
     ]
    },
    {
     "name": "stderr",
     "output_type": "stream",
     "text": [
      "Inference: 100%|██████████| 1/1 [00:00<00:00,  1.91it/s]\n",
      "Tokenization: 100%|██████████| 1/1 [00:00<00:00, 2232.20it/s]\n",
      "Inference: 100%|██████████| 1/1 [00:00<00:00,  1.08it/s]\n",
      "Tokenization: 100%|██████████| 1/1 [00:00<00:00, 2746.76it/s]\n",
      "Inference: 100%|██████████| 1/1 [00:00<00:00,  1.83it/s]\n",
      "Tokenization: 100%|██████████| 1/1 [00:00<00:00, 2288.22it/s]\n",
      "Inference:   0%|          | 0/1 [00:00<?, ?it/s]"
     ]
    },
    {
     "name": "stdout",
     "output_type": "stream",
     "text": [
      "Running pipeline ... done\n",
      "\n",
      "資訊服務系統及其登入方法INFORMATION SERVICE SYSTEM AND LOGIN METHOD THEREOF\n",
      "done\n",
      "------------\n",
      "\n"
     ]
    },
    {
     "name": "stderr",
     "output_type": "stream",
     "text": [
      "Inference: 100%|██████████| 1/1 [00:00<00:00,  2.62it/s]\n",
      "Tokenization: 100%|██████████| 1/1 [00:00<00:00, 3095.43it/s]\n",
      "Inference: 100%|██████████| 1/1 [00:00<00:00,  1.95it/s]\n",
      "Tokenization: 100%|██████████| 1/1 [00:00<00:00, 3474.98it/s]\n",
      "Inference: 100%|██████████| 1/1 [00:00<00:00,  2.55it/s]\n",
      "Tokenization: 100%|██████████| 1/1 [00:00<00:00, 571.51it/s]\n",
      "Inference:   0%|          | 0/1 [00:00<?, ?it/s]"
     ]
    },
    {
     "name": "stdout",
     "output_type": "stream",
     "text": [
      "Running pipeline ... done\n",
      "\n",
      "分散式任務調度執行系統Distributed task scheduling execution system\n",
      "done\n",
      "------------\n",
      "\n"
     ]
    },
    {
     "name": "stderr",
     "output_type": "stream",
     "text": [
      "Inference: 100%|██████████| 1/1 [00:03<00:00,  3.49s/it]\n",
      "Tokenization: 100%|██████████| 1/1 [00:00<00:00, 874.91it/s]\n",
      "Inference: 100%|██████████| 1/1 [00:11<00:00, 11.58s/it]\n",
      "Tokenization: 100%|██████████| 1/1 [00:00<00:00, 271.37it/s]\n",
      "Inference: 100%|██████████| 1/1 [00:03<00:00,  3.50s/it]\n",
      "Tokenization: 100%|██████████| 1/1 [00:00<00:00, 591.41it/s]\n",
      "Inference:   0%|          | 0/1 [00:00<?, ?it/s]"
     ]
    },
    {
     "name": "stdout",
     "output_type": "stream",
     "text": [
      "Running pipeline ... done\n",
      "\n",
      "利用可支援多組指紋辨識的Android行動裝置登入僅能接受文字型態密碼伺服器的方法,Android行動裝置及電腦可讀取的紀錄媒體Method for logging in servers accepting text type password only by using Android mobile devices capable of supporting multiple sets of fingerprint recognition, Android mobile device, and computer readable record medium\n",
      "done\n",
      "------------\n",
      "\n"
     ]
    },
    {
     "name": "stderr",
     "output_type": "stream",
     "text": [
      "Inference: 100%|██████████| 1/1 [00:02<00:00,  2.34s/it]\n",
      "Tokenization: 100%|██████████| 1/1 [00:00<00:00, 992.26it/s]\n",
      "Inference: 100%|██████████| 1/1 [00:10<00:00, 10.62s/it]\n",
      "Tokenization: 100%|██████████| 1/1 [00:00<00:00, 334.79it/s]\n",
      "Inference: 100%|██████████| 1/1 [00:02<00:00,  2.36s/it]\n",
      "Tokenization: 100%|██████████| 1/1 [00:00<00:00, 580.13it/s]\n",
      "Inference:   0%|          | 0/1 [00:00<?, ?it/s]"
     ]
    },
    {
     "name": "stdout",
     "output_type": "stream",
     "text": [
      "Running pipeline ... done\n",
      "\n",
      "資訊服務系統及其登入方法INFORMATION SERVICE SYSTEM AND LOGIN METHOD THEREOF\n",
      "done\n",
      "------------\n",
      "\n"
     ]
    },
    {
     "name": "stderr",
     "output_type": "stream",
     "text": [
      "Inference: 100%|██████████| 1/1 [00:03<00:00,  3.51s/it]\n",
      "Tokenization: 100%|██████████| 1/1 [00:00<00:00, 945.09it/s]\n",
      "Inference: 100%|██████████| 1/1 [00:13<00:00, 13.56s/it]\n",
      "Tokenization: 100%|██████████| 1/1 [00:00<00:00, 204.87it/s]\n",
      "Inference: 100%|██████████| 1/1 [00:03<00:00,  3.53s/it]\n",
      "Tokenization: 100%|██████████| 1/1 [00:00<00:00, 579.64it/s]\n",
      "Inference:   0%|          | 0/1 [00:00<?, ?it/s]"
     ]
    },
    {
     "name": "stdout",
     "output_type": "stream",
     "text": [
      "Running pipeline ... done\n",
      "\n",
      "切換輸入模式的方法、行動通訊裝置及電腦可讀取媒體Method of switching input modes, mobile communication device and computer-readable medium\n",
      "done\n",
      "------------\n",
      "\n"
     ]
    },
    {
     "name": "stderr",
     "output_type": "stream",
     "text": [
      "Inference: 100%|██████████| 1/1 [00:03<00:00,  3.50s/it]\n",
      "Tokenization: 100%|██████████| 1/1 [00:00<00:00, 1117.29it/s]\n",
      "Inference: 100%|██████████| 1/1 [00:09<00:00,  9.25s/it]\n",
      "Tokenization: 100%|██████████| 1/1 [00:00<00:00, 244.67it/s]\n",
      "Inference: 100%|██████████| 1/1 [00:03<00:00,  3.53s/it]\n",
      "Tokenization: 100%|██████████| 1/1 [00:00<00:00, 746.72it/s]\n",
      "Inference:   0%|          | 0/1 [00:00<?, ?it/s]"
     ]
    },
    {
     "name": "stdout",
     "output_type": "stream",
     "text": [
      "Running pipeline ... done\n",
      "\n",
      "基於實體資產授信虛擬貨幣之系統及其方法VIRTUAL CURRENCY CREDITING SYSTEM BASED ON PHYSICAL ASSETS AND METHOD THEREOF\n",
      "done\n",
      "------------\n",
      "\n"
     ]
    },
    {
     "name": "stderr",
     "output_type": "stream",
     "text": [
      "Inference: 100%|██████████| 1/1 [00:02<00:00,  2.41s/it]\n",
      "Tokenization: 100%|██████████| 1/1 [00:00<00:00, 1129.93it/s]\n",
      "Inference: 100%|██████████| 1/1 [00:05<00:00,  5.60s/it]\n",
      "Tokenization: 100%|██████████| 1/1 [00:00<00:00, 900.07it/s]\n",
      "Inference: 100%|██████████| 1/1 [00:02<00:00,  2.34s/it]\n",
      "Tokenization: 100%|██████████| 1/1 [00:00<00:00, 2739.58it/s]\n",
      "Inference:   0%|          | 0/1 [00:00<?, ?it/s]"
     ]
    },
    {
     "name": "stdout",
     "output_type": "stream",
     "text": [
      "Running pipeline ... done\n",
      "\n",
      "基於區塊鏈用以提供金融端聯網之系統及其方法SYSTEM AND METHOD BASED ON BLOCKCHAIN FOR PROVIDING FINANCIAL END NETWORKING\n",
      "done\n",
      "------------\n",
      "\n"
     ]
    },
    {
     "name": "stderr",
     "output_type": "stream",
     "text": [
      "Inference: 100%|██████████| 1/1 [00:00<00:00,  2.99it/s]\n",
      "Tokenization: 100%|██████████| 1/1 [00:00<00:00, 3708.49it/s]\n",
      "Inference: 100%|██████████| 1/1 [00:00<00:00,  1.64it/s]\n",
      "Tokenization: 100%|██████████| 1/1 [00:00<00:00, 3472.11it/s]\n",
      "Inference: 100%|██████████| 1/1 [00:00<00:00,  3.13it/s]\n",
      "Tokenization: 100%|██████████| 1/1 [00:00<00:00, 1869.12it/s]\n",
      "Inference:   0%|          | 0/1 [00:00<?, ?it/s]"
     ]
    },
    {
     "name": "stdout",
     "output_type": "stream",
     "text": [
      "Running pipeline ... done\n",
      "\n",
      "自定義語音辨識結果的方法及行動裝置、電腦可讀取的紀錄媒體\n",
      "done\n",
      "------------\n",
      "\n"
     ]
    },
    {
     "name": "stderr",
     "output_type": "stream",
     "text": [
      "Inference: 100%|██████████| 1/1 [00:00<00:00,  2.86it/s]\n",
      "Tokenization: 100%|██████████| 1/1 [00:00<00:00, 3377.06it/s]\n",
      "Inference: 100%|██████████| 1/1 [00:00<00:00,  1.91it/s]\n",
      "Tokenization: 100%|██████████| 1/1 [00:00<00:00, 2139.95it/s]\n",
      "Inference: 100%|██████████| 1/1 [00:00<00:00,  2.74it/s]\n",
      "Tokenization: 100%|██████████| 1/1 [00:00<00:00, 844.60it/s]\n",
      "Inference:   0%|          | 0/1 [00:00<?, ?it/s]"
     ]
    },
    {
     "name": "stdout",
     "output_type": "stream",
     "text": [
      "Running pipeline ... done\n",
      "\n",
      "顯示螢幕的圖形化操作介面\n",
      "done\n",
      "------------\n",
      "\n"
     ]
    },
    {
     "name": "stderr",
     "output_type": "stream",
     "text": [
      "Inference: 100%|██████████| 1/1 [00:02<00:00,  2.37s/it]\n",
      "Tokenization: 100%|██████████| 1/1 [00:00<00:00, 1510.92it/s]\n",
      "Inference: 100%|██████████| 1/1 [00:05<00:00,  5.58s/it]\n",
      "Tokenization: 100%|██████████| 1/1 [00:00<00:00, 1165.41it/s]\n",
      "Inference: 100%|██████████| 1/1 [00:02<00:00,  2.33s/it]\n",
      "Tokenization: 100%|██████████| 1/1 [00:00<00:00, 503.10it/s]\n",
      "Inference:   0%|          | 0/1 [00:00<?, ?it/s]"
     ]
    },
    {
     "name": "stdout",
     "output_type": "stream",
     "text": [
      "Running pipeline ... done\n",
      "\n",
      "自定義語音辨識結果的方法及行動裝置、電腦可讀取的紀錄媒體Voice recognition result self-defining method, mobile device and computer-readable recording medium\n",
      "done\n",
      "------------\n",
      "\n"
     ]
    },
    {
     "name": "stderr",
     "output_type": "stream",
     "text": [
      "Inference: 100%|██████████| 1/1 [00:03<00:00,  3.53s/it]\n",
      "Tokenization: 100%|██████████| 1/1 [00:00<00:00, 944.45it/s]\n",
      "Inference: 100%|██████████| 1/1 [00:09<00:00,  9.39s/it]\n",
      "Tokenization: 100%|██████████| 1/1 [00:00<00:00, 272.55it/s]\n",
      "Inference: 100%|██████████| 1/1 [00:03<00:00,  3.51s/it]\n",
      "Tokenization: 100%|██████████| 1/1 [00:00<00:00, 1893.59it/s]\n",
      "Inference:   0%|          | 0/1 [00:00<?, ?it/s]"
     ]
    },
    {
     "name": "stdout",
     "output_type": "stream",
     "text": [
      "Running pipeline ... done\n",
      "\n",
      "依金融商品交易行動軟體的執行與連線狀況自動切換即時訊息通知模式的方法、行動裝置服務伺服端Method of automatically switching real-time message notification mode based on execution link states of financial merchandise transaction mobile software and mobile device service servo end\n",
      "done\n",
      "------------\n",
      "\n"
     ]
    },
    {
     "name": "stderr",
     "output_type": "stream",
     "text": [
      "Inference: 100%|██████████| 1/1 [00:00<00:00,  1.85it/s]\n",
      "Tokenization: 100%|██████████| 1/1 [00:00<00:00, 2325.00it/s]\n",
      "Inference: 100%|██████████| 1/1 [00:00<00:00,  1.17it/s]\n",
      "Tokenization: 100%|██████████| 1/1 [00:00<00:00, 3041.55it/s]\n",
      "Inference: 100%|██████████| 1/1 [00:00<00:00,  1.87it/s]\n",
      "Tokenization: 100%|██████████| 1/1 [00:00<00:00, 589.00it/s]\n",
      "Inference:   0%|          | 0/1 [00:00<?, ?it/s]"
     ]
    },
    {
     "name": "stdout",
     "output_type": "stream",
     "text": [
      "Running pipeline ... done\n",
      "\n",
      "基於實體資產授信虛擬貨幣之系統及其方法VIRTUAL CURRENCY CREDITING SYSTEM BASED ON PHYSICAL ASSETS AND METHOD THEREOF\n",
      "done\n",
      "------------\n",
      "\n"
     ]
    },
    {
     "name": "stderr",
     "output_type": "stream",
     "text": [
      "Inference: 100%|██████████| 1/1 [00:03<00:00,  3.45s/it]\n",
      "Tokenization: 100%|██████████| 1/1 [00:00<00:00, 896.79it/s]\n",
      "Inference: 100%|██████████| 1/1 [00:20<00:00, 20.67s/it]\n",
      "Tokenization: 100%|██████████| 1/1 [00:00<00:00, 89.85it/s]\n",
      "Inference: 100%|██████████| 1/1 [00:03<00:00,  3.49s/it]\n",
      "Tokenization: 100%|██████████| 1/1 [00:00<00:00, 640.16it/s]\n",
      "Inference:   0%|          | 0/1 [00:00<?, ?it/s]"
     ]
    },
    {
     "name": "stdout",
     "output_type": "stream",
     "text": [
      "Running pipeline ... done\n",
      "\n",
      "社群集體保險之行動管理系統MOBILE MANAGEMENT SYSTEM OF SOCIAL GROUP INSURANCEPOLICY\n",
      "done\n",
      "------------\n",
      "\n"
     ]
    },
    {
     "name": "stderr",
     "output_type": "stream",
     "text": [
      "Inference: 100%|██████████| 1/1 [00:03<00:00,  3.43s/it]\n",
      "Tokenization: 100%|██████████| 1/1 [00:00<00:00, 916.59it/s]\n",
      "Inference: 100%|██████████| 1/1 [00:23<00:00, 23.57s/it]\n",
      "Tokenization: 100%|██████████| 1/1 [00:00<00:00, 75.59it/s]\n",
      "Inference: 100%|██████████| 1/1 [00:03<00:00,  3.47s/it]\n",
      "Tokenization: 100%|██████████| 1/1 [00:00<00:00, 462.74it/s]\n",
      "Inference:   0%|          | 0/1 [00:00<?, ?it/s]"
     ]
    },
    {
     "name": "stdout",
     "output_type": "stream",
     "text": [
      "Running pipeline ... done\n",
      "\n",
      "分散式保險回饋系統DECENTRALIZED INSURANCE REWARD SYSTEM\n",
      "done\n",
      "------------\n",
      "\n"
     ]
    },
    {
     "name": "stderr",
     "output_type": "stream",
     "text": [
      "Inference: 100%|██████████| 1/1 [00:03<00:00,  3.40s/it]\n",
      "Tokenization: 100%|██████████| 1/1 [00:00<00:00, 825.16it/s]\n",
      "Inference: 100%|██████████| 1/1 [00:09<00:00,  9.72s/it]\n",
      "Tokenization: 100%|██████████| 1/1 [00:00<00:00, 262.82it/s]\n",
      "Inference: 100%|██████████| 1/1 [00:03<00:00,  3.54s/it]\n",
      "Tokenization: 100%|██████████| 1/1 [00:00<00:00, 529.05it/s]\n",
      "Inference:   0%|          | 0/1 [00:00<?, ?it/s]"
     ]
    },
    {
     "name": "stdout",
     "output_type": "stream",
     "text": [
      "Running pipeline ... done\n",
      "\n",
      "以語音操控金融軟體的方法及行動裝置、電腦可讀取的紀錄媒體Method for operating financial software through voice and mobile device and computer readable recording medium\n",
      "done\n",
      "------------\n",
      "\n"
     ]
    },
    {
     "name": "stderr",
     "output_type": "stream",
     "text": [
      "Inference: 100%|██████████| 1/1 [00:03<00:00,  3.49s/it]\n",
      "Tokenization: 100%|██████████| 1/1 [00:00<00:00, 1028.77it/s]\n",
      "Inference: 100%|██████████| 1/1 [00:10<00:00, 10.97s/it]\n",
      "Tokenization: 100%|██████████| 1/1 [00:00<00:00, 263.49it/s]\n",
      "Inference: 100%|██████████| 1/1 [00:03<00:00,  3.50s/it]\n",
      "Tokenization: 100%|██████████| 1/1 [00:00<00:00, 2251.37it/s]\n",
      "Inference:   0%|          | 0/1 [00:00<?, ?it/s]"
     ]
    },
    {
     "name": "stdout",
     "output_type": "stream",
     "text": [
      "Running pipeline ... done\n",
      "\n",
      "社群集體保險之風險評估系統A RISK EVALUATION SYSTEM FOR SOCIAL GROUP INSURANCE POLICY\n",
      "done\n",
      "------------\n",
      "\n"
     ]
    },
    {
     "name": "stderr",
     "output_type": "stream",
     "text": [
      "Inference: 100%|██████████| 1/1 [00:00<00:00,  1.56it/s]\n",
      "Tokenization: 100%|██████████| 1/1 [00:00<00:00, 2718.28it/s]\n",
      "Inference: 100%|██████████| 1/1 [00:00<00:00,  1.00it/s]\n",
      "Tokenization: 100%|██████████| 1/1 [00:00<00:00, 2183.40it/s]\n",
      "Inference: 100%|██████████| 1/1 [00:00<00:00,  1.57it/s]\n",
      "Tokenization: 100%|██████████| 1/1 [00:00<00:00, 1855.07it/s]\n",
      "Inference:   0%|          | 0/1 [00:00<?, ?it/s]"
     ]
    },
    {
     "name": "stdout",
     "output_type": "stream",
     "text": [
      "Running pipeline ... done\n",
      "\n",
      "登入驗證裝置Login verification device\n",
      "done\n",
      "------------\n",
      "\n"
     ]
    },
    {
     "name": "stderr",
     "output_type": "stream",
     "text": [
      "Inference: 100%|██████████| 1/1 [00:00<00:00,  1.78it/s]\n",
      "Tokenization: 100%|██████████| 1/1 [00:00<00:00, 1510.37it/s]\n",
      "Inference: 100%|██████████| 1/1 [00:01<00:00,  1.20s/it]\n",
      "Tokenization: 100%|██████████| 1/1 [00:00<00:00, 2681.78it/s]\n",
      "Inference: 100%|██████████| 1/1 [00:00<00:00,  1.79it/s]\n",
      "Tokenization: 100%|██████████| 1/1 [00:00<00:00, 664.39it/s]\n",
      "Inference:   0%|          | 0/1 [00:00<?, ?it/s]"
     ]
    },
    {
     "name": "stdout",
     "output_type": "stream",
     "text": [
      "Running pipeline ... done\n",
      "\n",
      "切換輸入模式的方法、行動通訊裝置及電腦可讀取媒體\n",
      "done\n",
      "------------\n",
      "\n"
     ]
    },
    {
     "name": "stderr",
     "output_type": "stream",
     "text": [
      "Inference: 100%|██████████| 1/1 [00:03<00:00,  3.47s/it]\n",
      "Tokenization: 100%|██████████| 1/1 [00:00<00:00, 1027.51it/s]\n",
      "Inference: 100%|██████████| 1/1 [00:18<00:00, 18.36s/it]\n",
      "Tokenization: 100%|██████████| 1/1 [00:00<00:00, 233.43it/s]\n",
      "Inference: 100%|██████████| 1/1 [00:03<00:00,  3.45s/it]\n",
      "Tokenization: 100%|██████████| 1/1 [00:00<00:00, 2105.57it/s]\n",
      "Inference:   0%|          | 0/1 [00:00<?, ?it/s]"
     ]
    },
    {
     "name": "stdout",
     "output_type": "stream",
     "text": [
      "Running pipeline ... done\n",
      "\n",
      "客戶分析系統COSTUMER ANALYSIS SYSTEM\n",
      "done\n",
      "------------\n",
      "\n"
     ]
    },
    {
     "name": "stderr",
     "output_type": "stream",
     "text": [
      "Inference: 100%|██████████| 1/1 [00:00<00:00,  1.96it/s]\n",
      "Tokenization: 100%|██████████| 1/1 [00:00<00:00, 2041.02it/s]\n",
      "Inference: 100%|██████████| 1/1 [00:00<00:00,  1.60it/s]\n",
      "Tokenization: 100%|██████████| 1/1 [00:00<00:00, 1683.78it/s]\n",
      "Inference: 100%|██████████| 1/1 [00:00<00:00,  2.03it/s]\n",
      "Tokenization: 100%|██████████| 1/1 [00:00<00:00, 2082.57it/s]\n",
      "Inference:   0%|          | 0/1 [00:00<?, ?it/s]"
     ]
    },
    {
     "name": "stdout",
     "output_type": "stream",
     "text": [
      "Running pipeline ... done\n",
      "\n",
      "可設定金融軟體的主畫面的行動通訊裝置Mobile communication device capable of setting main picture of financial software\n",
      "done\n",
      "------------\n",
      "\n"
     ]
    },
    {
     "name": "stderr",
     "output_type": "stream",
     "text": [
      "Inference: 100%|██████████| 1/1 [00:00<00:00,  1.77it/s]\n",
      "Tokenization: 100%|██████████| 1/1 [00:00<00:00, 2040.03it/s]\n",
      "Inference: 100%|██████████| 1/1 [00:00<00:00,  1.12it/s]\n",
      "Tokenization: 100%|██████████| 1/1 [00:00<00:00, 2146.52it/s]\n",
      "Inference: 100%|██████████| 1/1 [00:00<00:00,  1.74it/s]\n",
      "Tokenization: 100%|██████████| 1/1 [00:00<00:00, 2519.10it/s]\n",
      "Inference:   0%|          | 0/1 [00:00<?, ?it/s]"
     ]
    },
    {
     "name": "stdout",
     "output_type": "stream",
     "text": [
      "Running pipeline ... done\n",
      "\n",
      "借券媒合交易系統SECURITIES LENDING AND BORROWING MATCHING SYSTEM\n",
      "done\n",
      "------------\n",
      "\n"
     ]
    },
    {
     "name": "stderr",
     "output_type": "stream",
     "text": [
      "Inference: 100%|██████████| 1/1 [00:00<00:00,  1.81it/s]\n",
      "Tokenization: 100%|██████████| 1/1 [00:00<00:00, 2931.03it/s]\n",
      "Inference: 100%|██████████| 1/1 [00:00<00:00,  1.12it/s]\n",
      "Tokenization: 100%|██████████| 1/1 [00:00<00:00, 1547.71it/s]\n",
      "Inference: 100%|██████████| 1/1 [00:00<00:00,  1.81it/s]\n",
      "Tokenization: 100%|██████████| 1/1 [00:00<00:00, 1918.71it/s]\n",
      "Inference:   0%|          | 0/1 [00:00<?, ?it/s]"
     ]
    },
    {
     "name": "stdout",
     "output_type": "stream",
     "text": [
      "Running pipeline ... done\n",
      "\n",
      "車輛認證系統Vehicle certification system\n",
      "done\n",
      "------------\n",
      "\n"
     ]
    },
    {
     "name": "stderr",
     "output_type": "stream",
     "text": [
      "Inference: 100%|██████████| 1/1 [00:00<00:00,  1.75it/s]\n",
      "Tokenization: 100%|██████████| 1/1 [00:00<00:00, 1945.41it/s]\n",
      "Inference: 100%|██████████| 1/1 [00:00<00:00,  1.32it/s]\n",
      "Tokenization: 100%|██████████| 1/1 [00:00<00:00, 2659.67it/s]\n",
      "Inference: 100%|██████████| 1/1 [00:00<00:00,  1.78it/s]\n",
      "Tokenization: 100%|██████████| 1/1 [00:00<00:00, 1934.64it/s]\n",
      "Inference:   0%|          | 0/1 [00:00<?, ?it/s]"
     ]
    },
    {
     "name": "stdout",
     "output_type": "stream",
     "text": [
      "Running pipeline ... done\n",
      "\n",
      "利用行動裝置應用程式的電子交易認證系統Authentication system of electronic transaction utilizing mobile device application\n",
      "done\n",
      "------------\n",
      "\n"
     ]
    },
    {
     "name": "stderr",
     "output_type": "stream",
     "text": [
      "Inference: 100%|██████████| 1/1 [00:00<00:00,  1.79it/s]\n",
      "Tokenization: 100%|██████████| 1/1 [00:00<00:00, 2097.15it/s]\n",
      "Inference: 100%|██████████| 1/1 [00:00<00:00,  1.03it/s]\n",
      "Tokenization: 100%|██████████| 1/1 [00:00<00:00, 2336.66it/s]\n",
      "Inference: 100%|██████████| 1/1 [00:00<00:00,  1.81it/s]\n",
      "Tokenization: 100%|██████████| 1/1 [00:00<00:00, 1404.66it/s]\n",
      "Inference:   0%|          | 0/1 [00:00<?, ?it/s]"
     ]
    },
    {
     "name": "stdout",
     "output_type": "stream",
     "text": [
      "Running pipeline ... done\n",
      "\n",
      "可攜式電子裝置Portable electronic apparatus\n",
      "done\n",
      "------------\n",
      "\n"
     ]
    },
    {
     "name": "stderr",
     "output_type": "stream",
     "text": [
      "Inference: 100%|██████████| 1/1 [00:00<00:00,  1.75it/s]\n",
      "Tokenization: 100%|██████████| 1/1 [00:00<00:00, 1700.85it/s]\n",
      "Inference: 100%|██████████| 1/1 [00:01<00:00,  1.24s/it]\n",
      "Tokenization: 100%|██████████| 1/1 [00:00<00:00, 1795.51it/s]\n",
      "Inference: 100%|██████████| 1/1 [00:00<00:00,  1.75it/s]\n",
      "Tokenization: 100%|██████████| 1/1 [00:00<00:00, 1890.18it/s]\n",
      "Inference:   0%|          | 0/1 [00:00<?, ?it/s]"
     ]
    },
    {
     "name": "stdout",
     "output_type": "stream",
     "text": [
      "Running pipeline ... done\n",
      "\n",
      "以語音操控金融軟體的方法及行動裝置、電腦可讀取的紀錄媒體\n",
      "done\n",
      "------------\n",
      "\n"
     ]
    },
    {
     "name": "stderr",
     "output_type": "stream",
     "text": [
      "Inference: 100%|██████████| 1/1 [00:00<00:00,  1.62it/s]\n",
      "Tokenization: 100%|██████████| 1/1 [00:00<00:00, 1915.21it/s]\n",
      "Inference: 100%|██████████| 1/1 [00:00<00:00,  1.03it/s]\n",
      "Tokenization: 100%|██████████| 1/1 [00:00<00:00, 2590.68it/s]\n",
      "Inference: 100%|██████████| 1/1 [00:00<00:00,  1.61it/s]\n",
      "Tokenization: 100%|██████████| 1/1 [00:00<00:00, 1783.29it/s]\n",
      "Inference:   0%|          | 0/1 [00:00<?, ?it/s]"
     ]
    },
    {
     "name": "stdout",
     "output_type": "stream",
     "text": [
      "Running pipeline ... done\n",
      "\n",
      "利用可支援多組指紋辨識的Android行動裝置登入僅能接受文字型態密碼伺服器的方法,Android行動裝置及電腦可讀取的紀錄媒體\n",
      "done\n",
      "------------\n",
      "\n"
     ]
    },
    {
     "name": "stderr",
     "output_type": "stream",
     "text": [
      "Inference: 100%|██████████| 1/1 [00:00<00:00,  1.67it/s]\n",
      "Tokenization: 100%|██████████| 1/1 [00:00<00:00, 1763.79it/s]\n",
      "Inference: 100%|██████████| 1/1 [00:01<00:00,  1.05s/it]\n",
      "Tokenization: 100%|██████████| 1/1 [00:00<00:00, 2369.66it/s]\n",
      "Inference: 100%|██████████| 1/1 [00:00<00:00,  1.69it/s]\n",
      "Tokenization: 100%|██████████| 1/1 [00:00<00:00, 500.22it/s]\n",
      "Inference:   0%|          | 0/1 [00:00<?, ?it/s]"
     ]
    },
    {
     "name": "stdout",
     "output_type": "stream",
     "text": [
      "Running pipeline ... done\n",
      "\n",
      "金融商品交易方法與系統\n",
      "done\n",
      "------------\n",
      "\n"
     ]
    },
    {
     "name": "stderr",
     "output_type": "stream",
     "text": [
      "Inference: 100%|██████████| 1/1 [00:03<00:00,  3.44s/it]\n",
      "Tokenization: 100%|██████████| 1/1 [00:00<00:00, 887.31it/s]\n",
      "Inference: 100%|██████████| 1/1 [00:16<00:00, 16.04s/it]\n",
      "Tokenization: 100%|██████████| 1/1 [00:00<00:00, 219.30it/s]\n",
      "Inference: 100%|██████████| 1/1 [00:03<00:00,  3.46s/it]\n",
      "Tokenization: 100%|██████████| 1/1 [00:00<00:00, 2174.34it/s]\n",
      "Inference:   0%|          | 0/1 [00:00<?, ?it/s]"
     ]
    },
    {
     "name": "stdout",
     "output_type": "stream",
     "text": [
      "Running pipeline ... done\n",
      "\n",
      "金融商品交易方法與系統Financial commodity transaction method and system\n",
      "done\n",
      "------------\n",
      "\n"
     ]
    },
    {
     "name": "stderr",
     "output_type": "stream",
     "text": [
      "Inference: 100%|██████████| 1/1 [00:00<00:00,  2.20it/s]\n",
      "Tokenization: 100%|██████████| 1/1 [00:00<00:00, 976.56it/s]\n",
      "Inference: 100%|██████████| 1/1 [00:00<00:00,  1.61it/s]\n",
      "Tokenization: 100%|██████████| 1/1 [00:00<00:00, 2365.65it/s]\n",
      "Inference: 100%|██████████| 1/1 [00:00<00:00,  2.00it/s]\n",
      "Tokenization: 100%|██████████| 1/1 [00:00<00:00, 776.29it/s]\n",
      "Inference:   0%|          | 0/1 [00:00<?, ?it/s]"
     ]
    },
    {
     "name": "stdout",
     "output_type": "stream",
     "text": [
      "Running pipeline ... done\n",
      "\n",
      "紫外線感光性樹脂組成物以及其用途ULTRAVIOLET SENSITIVE RESIN COMPOSITION AND ITS USE\n",
      "done\n",
      "------------\n",
      "\n"
     ]
    },
    {
     "name": "stderr",
     "output_type": "stream",
     "text": [
      "Inference: 100%|██████████| 1/1 [00:02<00:00,  2.73s/it]\n",
      "Tokenization: 100%|██████████| 1/1 [00:00<00:00, 1418.43it/s]\n",
      "Inference: 100%|██████████| 1/1 [00:04<00:00,  4.14s/it]\n",
      "Tokenization: 100%|██████████| 1/1 [00:00<00:00, 895.84it/s]\n",
      "Inference: 100%|██████████| 1/1 [00:02<00:00,  2.52s/it]\n",
      "Tokenization: 100%|██████████| 1/1 [00:00<00:00, 2012.62it/s]\n",
      "Inference:   0%|          | 0/1 [00:00<?, ?it/s]"
     ]
    },
    {
     "name": "stdout",
     "output_type": "stream",
     "text": [
      "Running pipeline ... done\n",
      "\n",
      "紫外線感光性樹脂組成物以及其用途ULTRAVIOLET SENSITIVE RESIN COMPOSITION AND ITS USE\n",
      "done\n",
      "------------\n",
      "\n"
     ]
    },
    {
     "name": "stderr",
     "output_type": "stream",
     "text": [
      "Inference: 100%|██████████| 1/1 [00:00<00:00,  1.35it/s]\n",
      "Tokenization: 100%|██████████| 1/1 [00:00<00:00, 2486.25it/s]\n",
      "Inference: 100%|██████████| 1/1 [00:01<00:00,  1.14s/it]\n",
      "Tokenization: 100%|██████████| 1/1 [00:00<00:00, 1222.47it/s]\n",
      "Inference: 100%|██████████| 1/1 [00:00<00:00,  1.32it/s]\n",
      "Tokenization: 100%|██████████| 1/1 [00:00<00:00, 2122.62it/s]\n",
      "Inference:   0%|          | 0/1 [00:00<?, ?it/s]"
     ]
    },
    {
     "name": "stdout",
     "output_type": "stream",
     "text": [
      "Running pipeline ... done\n",
      "\n",
      "自黏式保護膠膜構造Structure of self-adhesive type plastic protection film\n",
      "done\n",
      "------------\n",
      "\n"
     ]
    },
    {
     "name": "stderr",
     "output_type": "stream",
     "text": [
      "Inference: 100%|██████████| 1/1 [00:00<00:00,  1.57it/s]\n",
      "Tokenization: 100%|██████████| 1/1 [00:00<00:00, 1855.89it/s]\n",
      "Inference: 100%|██████████| 1/1 [00:01<00:00,  1.01s/it]\n",
      "Tokenization: 100%|██████████| 1/1 [00:00<00:00, 1968.23it/s]\n",
      "Inference: 100%|██████████| 1/1 [00:00<00:00,  1.57it/s]\n",
      "Tokenization: 100%|██████████| 1/1 [00:00<00:00, 1044.92it/s]\n",
      "Inference:   0%|          | 0/1 [00:00<?, ?it/s]"
     ]
    },
    {
     "name": "stdout",
     "output_type": "stream",
     "text": [
      "Running pipeline ... done\n",
      "\n",
      "無基材式雙面膠帶Double coated tape without carrier\n",
      "done\n",
      "------------\n",
      "\n"
     ]
    },
    {
     "name": "stderr",
     "output_type": "stream",
     "text": [
      "Inference: 100%|██████████| 1/1 [00:02<00:00,  2.38s/it]\n",
      "Tokenization: 100%|██████████| 1/1 [00:00<00:00, 1092.84it/s]\n",
      "Inference: 100%|██████████| 1/1 [00:03<00:00,  3.14s/it]\n",
      "Tokenization: 100%|██████████| 1/1 [00:00<00:00, 946.80it/s]\n",
      "Inference: 100%|██████████| 1/1 [00:02<00:00,  2.31s/it]\n",
      "Tokenization: 100%|██████████| 1/1 [00:00<00:00, 1639.68it/s]\n",
      "Inference:   0%|          | 0/1 [00:00<?, ?it/s]"
     ]
    },
    {
     "name": "stdout",
     "output_type": "stream",
     "text": [
      "Running pipeline ... done\n",
      "\n",
      "風險評估系統及方法,及其電腦可讀取媒體SYSTEM AND METHOD FOR RISK ASSESSMENT\n",
      "done\n",
      "------------\n",
      "\n"
     ]
    },
    {
     "name": "stderr",
     "output_type": "stream",
     "text": [
      "Inference: 100%|██████████| 1/1 [00:00<00:00,  2.18it/s]\n",
      "Tokenization: 100%|██████████| 1/1 [00:00<00:00, 3095.43it/s]\n",
      "Inference: 100%|██████████| 1/1 [00:00<00:00,  1.33it/s]\n",
      "Tokenization: 100%|██████████| 1/1 [00:00<00:00, 2872.81it/s]\n",
      "Inference: 100%|██████████| 1/1 [00:00<00:00,  2.24it/s]\n",
      "Tokenization: 100%|██████████| 1/1 [00:00<00:00, 1285.41it/s]\n",
      "Inference:   0%|          | 0/1 [00:00<?, ?it/s]"
     ]
    },
    {
     "name": "stdout",
     "output_type": "stream",
     "text": [
      "Running pipeline ... done\n",
      "\n",
      "無基材式雙面膠帶Substrate-less double-sided tape\n",
      "done\n",
      "------------\n",
      "\n"
     ]
    },
    {
     "name": "stderr",
     "output_type": "stream",
     "text": [
      "Inference: 100%|██████████| 1/1 [00:00<00:00,  1.22it/s]\n",
      "Tokenization: 100%|██████████| 1/1 [00:00<00:00, 1503.33it/s]\n",
      "Inference: 100%|██████████| 1/1 [00:01<00:00,  1.55s/it]\n",
      "Tokenization: 100%|██████████| 1/1 [00:00<00:00, 1217.86it/s]\n",
      "Inference: 100%|██████████| 1/1 [00:00<00:00,  1.21it/s]\n",
      "Tokenization: 100%|██████████| 1/1 [00:00<00:00, 2557.50it/s]\n",
      "Inference:   0%|          | 0/1 [00:00<?, ?it/s]"
     ]
    },
    {
     "name": "stdout",
     "output_type": "stream",
     "text": [
      "Running pipeline ... done\n",
      "\n",
      "光(影)碟片表面彩裝之貼紙構造Adhesive paper structure for the CD surface decoration\n",
      "done\n",
      "------------\n",
      "\n"
     ]
    },
    {
     "name": "stderr",
     "output_type": "stream",
     "text": [
      "Inference: 100%|██████████| 1/1 [00:00<00:00,  2.05it/s]\n",
      "Tokenization: 100%|██████████| 1/1 [00:00<00:00, 1805.55it/s]\n",
      "Inference: 100%|██████████| 1/1 [00:01<00:00,  1.25s/it]\n",
      "Tokenization: 100%|██████████| 1/1 [00:00<00:00, 1414.61it/s]\n",
      "Inference: 100%|██████████| 1/1 [00:00<00:00,  2.11it/s]\n",
      "Tokenization: 100%|██████████| 1/1 [00:00<00:00, 1814.15it/s]\n",
      "Inference:   0%|          | 0/1 [00:00<?, ?it/s]"
     ]
    },
    {
     "name": "stdout",
     "output_type": "stream",
     "text": [
      "Running pipeline ... done\n",
      "\n",
      "智能股票影像辨識及選股系統\n",
      "done\n",
      "------------\n",
      "\n"
     ]
    },
    {
     "name": "stderr",
     "output_type": "stream",
     "text": [
      "Inference: 100%|██████████| 1/1 [00:00<00:00,  2.01it/s]\n",
      "Tokenization: 100%|██████████| 1/1 [00:00<00:00, 2404.99it/s]\n",
      "Inference: 100%|██████████| 1/1 [00:00<00:00,  1.46it/s]\n",
      "Tokenization: 100%|██████████| 1/1 [00:00<00:00, 2118.34it/s]\n",
      "Inference: 100%|██████████| 1/1 [00:00<00:00,  2.00it/s]\n",
      "Tokenization: 100%|██████████| 1/1 [00:00<00:00, 2024.28it/s]\n",
      "Inference:   0%|          | 0/1 [00:00<?, ?it/s]"
     ]
    },
    {
     "name": "stdout",
     "output_type": "stream",
     "text": [
      "Running pipeline ... done\n",
      "\n",
      "基於執行名義中斷時效提醒之自動繕狀及自動傳送的系統Automatic documents assistance and automatic transmission system for reminding interruption of prescription based on entitlement foreclosure\n",
      "done\n",
      "------------\n",
      "\n"
     ]
    },
    {
     "name": "stderr",
     "output_type": "stream",
     "text": [
      "Inference: 100%|██████████| 1/1 [00:00<00:00,  1.88it/s]\n",
      "Tokenization: 100%|██████████| 1/1 [00:00<00:00, 2304.56it/s]\n",
      "Inference: 100%|██████████| 1/1 [00:00<00:00,  1.38it/s]\n",
      "Tokenization: 100%|██████████| 1/1 [00:00<00:00, 1236.16it/s]\n",
      "Inference: 100%|██████████| 1/1 [00:00<00:00,  1.89it/s]\n",
      "Tokenization: 100%|██████████| 1/1 [00:00<00:00, 2492.16it/s]\n",
      "Inference:   0%|          | 0/1 [00:00<?, ?it/s]"
     ]
    },
    {
     "name": "stdout",
     "output_type": "stream",
     "text": [
      "Running pipeline ... done\n",
      "\n",
      "跨裝置認證進行非約定帳戶轉帳之網路銀行系統Internet banking system for cross-device authentication to carry out non-predesignated account transfer\n",
      "done\n",
      "------------\n",
      "\n"
     ]
    },
    {
     "name": "stderr",
     "output_type": "stream",
     "text": [
      "Inference: 100%|██████████| 1/1 [00:00<00:00,  2.10it/s]\n",
      "Tokenization: 100%|██████████| 1/1 [00:00<00:00, 2309.64it/s]\n",
      "Inference: 100%|██████████| 1/1 [00:00<00:00,  1.42it/s]\n",
      "Tokenization: 100%|██████████| 1/1 [00:00<00:00, 2792.48it/s]\n",
      "Inference: 100%|██████████| 1/1 [00:00<00:00,  2.10it/s]\n",
      "Tokenization: 100%|██████████| 1/1 [00:00<00:00, 2236.96it/s]\n",
      "Inference:   0%|          | 0/1 [00:00<?, ?it/s]"
     ]
    },
    {
     "name": "stdout",
     "output_type": "stream",
     "text": [
      "Running pipeline ... done\n",
      "\n",
      "訴訟收文智慧辨識影像作業系統Operation system for intelligent image identification of litigation receipts\n",
      "done\n",
      "------------\n",
      "\n"
     ]
    },
    {
     "name": "stderr",
     "output_type": "stream",
     "text": [
      "Inference: 100%|██████████| 1/1 [00:00<00:00,  2.76it/s]\n",
      "Tokenization: 100%|██████████| 1/1 [00:00<00:00, 1911.72it/s]\n",
      "Inference: 100%|██████████| 1/1 [00:00<00:00,  1.62it/s]\n",
      "Tokenization: 100%|██████████| 1/1 [00:00<00:00, 2777.68it/s]\n",
      "Inference: 100%|██████████| 1/1 [00:00<00:00,  2.83it/s]\n",
      "Tokenization: 100%|██████████| 1/1 [00:00<00:00, 2216.86it/s]\n",
      "Inference:   0%|          | 0/1 [00:00<?, ?it/s]"
     ]
    },
    {
     "name": "stdout",
     "output_type": "stream",
     "text": [
      "Running pipeline ... done\n",
      "\n",
      "智能股利系統Smart dividend system\n",
      "done\n",
      "------------\n",
      "\n"
     ]
    },
    {
     "name": "stderr",
     "output_type": "stream",
     "text": [
      "Inference: 100%|██████████| 1/1 [00:00<00:00,  2.70it/s]\n",
      "Tokenization: 100%|██████████| 1/1 [00:00<00:00, 2590.68it/s]\n",
      "Inference: 100%|██████████| 1/1 [00:00<00:00,  1.62it/s]\n",
      "Tokenization: 100%|██████████| 1/1 [00:00<00:00, 2597.09it/s]\n",
      "Inference: 100%|██████████| 1/1 [00:00<00:00,  2.69it/s]\n",
      "Tokenization: 100%|██████████| 1/1 [00:00<00:00, 2357.68it/s]\n",
      "Inference:   0%|          | 0/1 [00:00<?, ?it/s]"
     ]
    },
    {
     "name": "stdout",
     "output_type": "stream",
     "text": [
      "Running pipeline ... done\n",
      "\n",
      "財報優選系統Financial report optimization system\n",
      "done\n",
      "------------\n",
      "\n"
     ]
    },
    {
     "name": "stderr",
     "output_type": "stream",
     "text": [
      "Inference: 100%|██████████| 1/1 [00:00<00:00,  1.49it/s]\n",
      "Tokenization: 100%|██████████| 1/1 [00:00<00:00, 1584.55it/s]\n",
      "Inference: 100%|██████████| 1/1 [00:01<00:00,  1.36s/it]\n",
      "Tokenization: 100%|██████████| 1/1 [00:00<00:00, 1976.58it/s]\n",
      "Inference: 100%|██████████| 1/1 [00:00<00:00,  1.44it/s]\n",
      "Tokenization: 100%|██████████| 1/1 [00:00<00:00, 2597.09it/s]\n",
      "Inference:   0%|          | 0/1 [00:00<?, ?it/s]"
     ]
    },
    {
     "name": "stdout",
     "output_type": "stream",
     "text": [
      "Running pipeline ... done\n",
      "\n",
      "合理股票評價運算裝置Reasonable stock evaluation arithmetic device\n",
      "done\n",
      "------------\n",
      "\n"
     ]
    },
    {
     "name": "stderr",
     "output_type": "stream",
     "text": [
      "Inference: 100%|██████████| 1/1 [00:00<00:00,  2.09it/s]\n",
      "Tokenization: 100%|██████████| 1/1 [00:00<00:00, 2115.13it/s]\n",
      "Inference: 100%|██████████| 1/1 [00:00<00:00,  1.25it/s]\n",
      "Tokenization: 100%|██████████| 1/1 [00:00<00:00, 1880.01it/s]\n",
      "Inference: 100%|██████████| 1/1 [00:00<00:00,  2.06it/s]\n",
      "Tokenization: 100%|██████████| 1/1 [00:00<00:00, 2695.57it/s]\n",
      "Inference:   0%|          | 0/1 [00:00<?, ?it/s]"
     ]
    },
    {
     "name": "stdout",
     "output_type": "stream",
     "text": [
      "Running pipeline ... done\n",
      "\n",
      "組合式快捷下單系統Combined type quick ordering system\n",
      "done\n",
      "------------\n",
      "\n"
     ]
    },
    {
     "name": "stderr",
     "output_type": "stream",
     "text": [
      "Inference: 100%|██████████| 1/1 [00:00<00:00,  3.04it/s]\n",
      "Tokenization: 100%|██████████| 1/1 [00:00<00:00, 3923.58it/s]\n",
      "Inference: 100%|██████████| 1/1 [00:00<00:00,  1.65it/s]\n",
      "Tokenization: 100%|██████████| 1/1 [00:00<00:00, 3472.11it/s]\n",
      "Inference: 100%|██████████| 1/1 [00:00<00:00,  3.06it/s]\n",
      "Tokenization: 100%|██████████| 1/1 [00:00<00:00, 2420.26it/s]\n",
      "Inference:   0%|          | 0/1 [00:00<?, ?it/s]"
     ]
    },
    {
     "name": "stdout",
     "output_type": "stream",
     "text": [
      "Running pipeline ... done\n",
      "\n",
      "股票趨勢鎖利系統Stock trend profit securing system\n",
      "done\n",
      "------------\n",
      "\n"
     ]
    },
    {
     "name": "stderr",
     "output_type": "stream",
     "text": [
      "Inference: 100%|██████████| 1/1 [00:00<00:00,  2.75it/s]\n",
      "Tokenization: 100%|██████████| 1/1 [00:00<00:00, 3480.75it/s]\n",
      "Inference: 100%|██████████| 1/1 [00:01<00:00,  1.05s/it]\n",
      "Tokenization: 100%|██████████| 1/1 [00:00<00:00, 2597.09it/s]\n",
      "Inference: 100%|██████████| 1/1 [00:00<00:00,  2.68it/s]\n",
      "Tokenization: 100%|██████████| 1/1 [00:00<00:00, 600.56it/s]\n",
      "Inference:   0%|          | 0/1 [00:00<?, ?it/s]"
     ]
    },
    {
     "name": "stdout",
     "output_type": "stream",
     "text": [
      "Running pipeline ... done\n",
      "\n",
      "股票健診系統Stock health check system\n",
      "done\n",
      "------------\n",
      "\n"
     ]
    },
    {
     "name": "stderr",
     "output_type": "stream",
     "text": [
      "Inference: 100%|██████████| 1/1 [00:02<00:00,  2.35s/it]\n",
      "Tokenization: 100%|██████████| 1/1 [00:00<00:00, 1127.20it/s]\n",
      "Inference: 100%|██████████| 1/1 [00:06<00:00,  6.18s/it]\n",
      "Tokenization: 100%|██████████| 1/1 [00:00<00:00, 1008.00it/s]\n",
      "Inference: 100%|██████████| 1/1 [00:02<00:00,  2.33s/it]\n",
      "Tokenization: 100%|██████████| 1/1 [00:00<00:00, 1494.76it/s]\n",
      "Inference:   0%|          | 0/1 [00:00<?, ?it/s]"
     ]
    },
    {
     "name": "stdout",
     "output_type": "stream",
     "text": [
      "Running pipeline ... done\n",
      "\n",
      "智能推播服務系統與裝置SMART PUSHING SERVICE SYSTEM AND DEVICE\n",
      "done\n",
      "------------\n",
      "\n"
     ]
    },
    {
     "name": "stderr",
     "output_type": "stream",
     "text": [
      "Inference: 100%|██████████| 1/1 [00:01<00:00,  1.06s/it]\n",
      "Tokenization: 100%|██████████| 1/1 [00:00<00:00, 2069.22it/s]\n",
      "Inference: 100%|██████████| 1/1 [00:02<00:00,  2.60s/it]\n",
      "Tokenization: 100%|██████████| 1/1 [00:00<00:00, 1524.09it/s]\n",
      "Inference: 100%|██████████| 1/1 [00:01<00:00,  1.09s/it]\n",
      "Tokenization: 100%|██████████| 1/1 [00:00<00:00, 2416.07it/s]\n",
      "Inference:   0%|          | 0/1 [00:00<?, ?it/s]"
     ]
    },
    {
     "name": "stdout",
     "output_type": "stream",
     "text": [
      "Running pipeline ... done\n",
      "\n",
      "線上機器人客服系統ONLINE ROBOT CUSTOMER SERVICE SYSTEM\n",
      "done\n",
      "------------\n",
      "\n"
     ]
    },
    {
     "name": "stderr",
     "output_type": "stream",
     "text": [
      "Inference: 100%|██████████| 1/1 [00:00<00:00,  1.82it/s]\n",
      "Tokenization: 100%|██████████| 1/1 [00:00<00:00, 561.49it/s]\n",
      "Inference: 100%|██████████| 1/1 [00:01<00:00,  1.40s/it]\n",
      "Tokenization: 100%|██████████| 1/1 [00:00<00:00, 2763.05it/s]\n",
      "Inference: 100%|██████████| 1/1 [00:00<00:00,  1.99it/s]\n",
      "Tokenization: 100%|██████████| 1/1 [00:00<00:00, 2964.17it/s]\n",
      "Inference:   0%|          | 0/1 [00:00<?, ?it/s]"
     ]
    },
    {
     "name": "stdout",
     "output_type": "stream",
     "text": [
      "Running pipeline ... done\n",
      "\n",
      "行動理財秘書系統Mobile financial management secretary system\n",
      "done\n",
      "------------\n",
      "\n"
     ]
    },
    {
     "name": "stderr",
     "output_type": "stream",
     "text": [
      "Inference: 100%|██████████| 1/1 [00:00<00:00,  1.72it/s]\n",
      "Tokenization: 100%|██████████| 1/1 [00:00<00:00, 3533.53it/s]\n",
      "Inference: 100%|██████████| 1/1 [00:01<00:00,  1.17s/it]\n",
      "Tokenization: 100%|██████████| 1/1 [00:00<00:00, 1288.97it/s]\n",
      "Inference: 100%|██████████| 1/1 [00:00<00:00,  1.66it/s]"
     ]
    },
    {
     "name": "stdout",
     "output_type": "stream",
     "text": [
      "Running pipeline ... done\n",
      "\n",
      "雲端智能交易系統Cloud smart trading system\n",
      "done\n",
      "------------\n",
      "\n"
     ]
    },
    {
     "name": "stderr",
     "output_type": "stream",
     "text": [
      "\n"
     ]
    }
   ],
   "source": [
    "var=file[\"摘要\"]\n",
    "name=file[\"專利名稱\"]\n",
    "sort_key=[]\n",
    "sort_words=[]\n",
    "for i in range (len(file)) :\n",
    "    text =[var[i]]\n",
    "    sent_cnt=0\n",
    "    \n",
    "    self_list=[]## get combine word \n",
    "    common_list=[]## get the most common word \n",
    "    document=[]\n",
    "    #Run pipeline\n",
    "    #print(\"Running pipeline ... WS\")\n",
    "    ws = ws_driver(text)\n",
    "    #print(\"Running pipeline ... POS\")\n",
    "    pos = pos_driver(ws)\n",
    "    #print(\"Running pipeline ... NER\")\n",
    "    \n",
    "    ner = ner_driver(text)\n",
    "    \n",
    "    print(\"Running pipeline ... done\")\n",
    "    \n",
    "    print()\n",
    "    def pack_ws_pos_sentece(sentence_ws, sentence_pos):\n",
    "        assert len(sentence_ws) == len(sentence_pos)\n",
    "        res = []\n",
    "             \n",
    "        ## 字詞的組合 根據屬性表將名詞-> 專有名詞 來增加字詞的特殊性\n",
    "        pre_pos=''\n",
    "        pre_ws=''\n",
    "        for word_ws, word_pos in zip(sentence_ws, sentence_pos):\n",
    "            ## 寫的好爛... 可以透過語言結構做優化\n",
    "            res.append(f\"{word_ws}({word_pos})\")\n",
    "            \n",
    "            if(word_pos==\"Na\" or \"V\" in word_pos):\n",
    "                common_list.append(word_ws)\n",
    "                \n",
    "            if((word_pos == \"Na\"or word_pos==\"VC\") and pre_pos!='' ):\n",
    "            # use \n",
    "                Nb=f\"{pre_ws}{word_ws}\"\n",
    "                #print(Nb)\n",
    "                self_list.append(pre_ws+word_ws)\n",
    "                #res.append(f\"{Nb}(Nb)\")\n",
    "                pre_pos=\"\"\n",
    "                pre_ws=\"\"\n",
    "                    \n",
    "            else :\n",
    "                ## memorizing\n",
    "                if(word_pos==\"VC\" or word_pos==\"VD\" or word_pos==\"Na\" or word_pos==\"Nb\"):\n",
    "                    pre_pos=word_pos\n",
    "                    pre_ws=word_ws\n",
    "                    \n",
    "                else :\n",
    "                    pre_pos=''\n",
    "                    pre_ws=''\n",
    "                    #res.append(f\"{word_ws}({word_pos})\")\n",
    "            if(word_pos==\"PERIODCATEGORY\" or word_pos==\"SEMICOLONCATEGORY\"):\n",
    "                global sent_cnt,document\n",
    "                sent_cnt+=1\n",
    "                #print(word_ws+\"\"+str(sent_cnt))\n",
    "                \n",
    "                document.append(res)\n",
    "            \n",
    "        return \"\\u3000\".join(res)\n",
    "    \n",
    "    \n",
    "    ## zip指標的標記\n",
    "    for sentence, sentence_ws, sentence_pos, sentence_ner in zip(text, ws, pos, ner):\n",
    "        #print(pos)\n",
    "        pack_ws_pos_sentece(sentence_ws, sentence_pos)\n",
    "    \n",
    "\n",
    "\n",
    "    sort_key.append(Counter(self_list).most_common(10))\n",
    "\n",
    "    sort_words.append(Counter(common_list).most_common(10))\n",
    "    print(name[i])\n",
    "    print(\"done\")\n",
    "    #print(sentence)\n",
    "    print(\"------------\")\n",
    "#     print(sort_key[i])\n",
    "#     print(\"------------\")\n",
    "#     print(sort_words[i])\n",
    "#     for words in sort_key:\n",
    "#         _TF=(words[1]/len(pos)) \n",
    "#         _IDF=math.log(words[1]/sent_cnt)\n",
    "#         print(words[0])\n",
    "#         print(_TF*_IDF)\n",
    "#         print()\n",
    "        #print(+str(TF_IDF))\n",
    "\n",
    "    # for entity in sentence_ner:\n",
    "    #     print(entity)\n",
    "    print()\n",
    "    del text\n",
    "    del self_list,common_list,document \n"
   ]
  },
  {
   "cell_type": "code",
   "execution_count": 40,
   "id": "6169ec83",
   "metadata": {},
   "outputs": [
    {
     "name": "stdout",
     "output_type": "stream",
     "text": [
      "                                                    名稱  \\\n",
      "0    推薦名單產製系統SYSTEMS FOR GENERATING RECOMMENDATION ...   \n",
      "1    適於支付保險賠款的電子裝置ELECTRONIC DEVICE SUITABLE FOR PA...   \n",
      "2    適於分派理賠案件的電子裝置ELECTRONIC DEVICE SUITABLE FOR AS...   \n",
      "3     職業代碼推薦系統NUMERICAL JOB CODE RECOMMENDATION SYSTEM   \n",
      "4    基於區塊鏈之保險系統及其保險方法BLOCKCHAIN BASED INSURANCE SYS...   \n",
      "..                                                 ...   \n",
      "171                    股票健診系統Stock health check system   \n",
      "172  智能推播服務系統與裝置SMART PUSHING SERVICE SYSTEM AND DE...   \n",
      "173      線上機器人客服系統ONLINE ROBOT CUSTOMER SERVICE SYSTEM   \n",
      "174  行動理財秘書系統Mobile financial management secretary ...   \n",
      "175                 雲端智能交易系統Cloud smart trading system   \n",
      "\n",
      "                                                   KEY  \\\n",
      "0    [(名單模組, 3), (推薦名單, 2), (客戶名單, 2), (歷史推薦, 2), (...   \n",
      "1    [(儲存媒體, 3), (電子裝置, 2), (支付保險, 1), (處理器耦接, 1), ...   \n",
      "2    [(理賠案件, 6), (儲存媒體, 3), (員工狀態檔, 3), (電子裝置, 2), ...   \n",
      "3    [(職業代碼, 2), (資料輸出, 2), (推薦結果, 2), (推薦系統, 1), (...   \n",
      "4    [(區塊鏈, 8), (儲存單元, 3), (核心單元, 3), (保險商品, 3), (購...   \n",
      "..                                                 ...   \n",
      "171  [(接收處理器, 3), (通訊模組, 2), (股票健診, 1), (進行資料, 1), ...   \n",
      "172  [(定位資訊, 3), (服務據點, 2), (座標資訊, 2), (新型提出, 1), (...   \n",
      "173  [(線上機器人, 1), (客服系統, 1), (裝置輸入, 1), (連結模組, 1), ...   \n",
      "174  [(秘書系統, 2), (行動裝置, 2), (使用者, 2), (﻿本新型, 1), (推...   \n",
      "175  [(交易條件, 4), (智能交易, 3), (控制模組, 3), (使用者, 2), (﻿...   \n",
      "\n",
      "                                                  WORD  \n",
      "0    [(名單, 13), (模組, 9), (推薦, 5), (業務員, 4), (客戶, 4)...  \n",
      "1    [(時間點, 8), (核准, 5), (儲存, 4), (媒體, 3), (收發器, 3)...  \n",
      "2    [(案件, 7), (理賠, 6), (員工, 6), (儲存, 5), (包括, 3), ...  \n",
      "3    [(資料, 7), (模組, 7), (職業, 3), (代碼, 3), (推薦, 3), ...  \n",
      "4    [(單元, 15), (區塊, 8), (鏈, 8), (資料, 7), (合約, 6), ...  \n",
      "..                                                 ...  \n",
      "171  [(系統, 4), (處理器, 4), (股票, 3), (接收, 3), (指令, 3),...  \n",
      "172  [(服務, 5), (資訊, 5), (定位, 4), (據點, 3), (應用, 2), ...  \n",
      "173  [(模組, 4), (資料, 4), (裝置, 2), (輸入, 2), (連結, 2), ...  \n",
      "174  [(模組, 7), (行動, 5), (理財, 3), (新型, 2), (秘書, 2), ...  \n",
      "175  [(交易, 13), (單元, 6), (資料, 6), (模組, 6), (條件, 5),...  \n",
      "\n",
      "[176 rows x 3 columns]\n"
     ]
    }
   ],
   "source": [
    "## export back to the file \n",
    "bank ={\"名稱\":name,\n",
    "        \"KEY\":sort_key,\n",
    "        \"WORD\":sort_words\n",
    "                }\n",
    "print (pd.DataFrame(bank))"
   ]
  },
  {
   "cell_type": "code",
   "execution_count": 41,
   "id": "6a387502",
   "metadata": {},
   "outputs": [
    {
     "name": "stderr",
     "output_type": "stream",
     "text": [
      "<ipython-input-41-e3ba4ddf6bf6>:1: FutureWarning: As the xlwt package is no longer maintained, the xlwt engine will be removed in a future version of pandas. This is the only engine in pandas that supports writing in the xls format. Install openpyxl and write to an xlsx file instead. You can set the option io.excel.xls.writer to 'xlwt' to silence this warning. While this option is deprecated and will also raise a warning, it can be globally set and the warning suppressed.\n",
      "  pd.DataFrame(bank).to_excel(result)\n"
     ]
    }
   ],
   "source": [
    "pd.DataFrame(bank).to_excel(result)\n",
    "\n",
    "#pd.DataFrame(bank).to_excel(result)\n",
    "\n"
   ]
  },
  {
   "cell_type": "code",
   "execution_count": null,
   "id": "f9840a9f",
   "metadata": {},
   "outputs": [],
   "source": []
  }
 ],
 "metadata": {
  "kernelspec": {
   "display_name": "Python 3",
   "language": "python",
   "name": "python3"
  },
  "language_info": {
   "codemirror_mode": {
    "name": "ipython",
    "version": 3
   },
   "file_extension": ".py",
   "mimetype": "text/x-python",
   "name": "python",
   "nbconvert_exporter": "python",
   "pygments_lexer": "ipython3",
   "version": "3.8.8"
  }
 },
 "nbformat": 4,
 "nbformat_minor": 5
}
