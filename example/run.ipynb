{
 "cells": [
  {
   "cell_type": "code",
   "execution_count": 2,
   "id": "5a48fe59",
   "metadata": {},
   "outputs": [
    {
     "name": "stdout",
     "output_type": "stream",
     "text": [
      "Initializing drivers ... WS\n",
      "Initializing drivers ... POS\n",
      "Initializing drivers ... NER\n",
      "Initializing drivers ... done\n",
      "\n"
     ]
    }
   ],
   "source": [
    "from ckip_transformers.nlp import CkipWordSegmenter, CkipPosTagger, CkipNerChunker\n",
    "import pandas as pd\n",
    "from pandas import ExcelWriter\n",
    "from collections import Counter\n",
    "import math\n",
    "\n",
    "print(\"Initializing drivers ... WS\")\n",
    "ws_driver = CkipWordSegmenter(level=2)\n",
    "print(\"Initializing drivers ... POS\")\n",
    "pos_driver = CkipPosTagger(level=2)\n",
    "print(\"Initializing drivers ... NER\")\n",
    "ner_driver = CkipNerChunker(level=2)\n",
    "print(\"Initializing drivers ... done\")\n",
    "print()\n"
   ]
  },
  {
   "cell_type": "code",
   "execution_count": 9,
   "id": "4e218ceb",
   "metadata": {},
   "outputs": [
    {
     "name": "stdout",
     "output_type": "stream",
     "text": [
      "8\n",
      "         公開/公告號    公開/公告日          申請號       申請日  \\\n",
      "0  TW201915891A  20190416  TW106133599  20170929   \n",
      "\n",
      "                                                專利名稱  \\\n",
      "0  利率遞減型還款系統Interest rate declining repayment system   \n",
      "\n",
      "                                                申請人  \\\n",
      "0  凱基商業銀行股份有限公司; KGI COMMERCIAL BANK CO., LTD. (TW)   \n",
      "\n",
      "                                                  摘要                  IPC  \\\n",
      "0  一種利率遞減型還款系統包含一個終端機及一個電腦主機，該電腦主機包括一個儲存單元及一個處理單元...  G06Q 40/02(2012.01)   \n",
      "\n",
      "   引用專利  被參考次數  \n",
      "0   NaN    NaN  \n"
     ]
    }
   ],
   "source": [
    "# Input text\n",
    "fileName=\"開發金\"\n",
    "filename = \"./_target/\"+fileName+\".xls\"\n",
    "result=\"./_target/\"+fileName+\"reslt.xls\"\n",
    "file = pd.read_excel(filename)\n",
    "print(len(file))\n",
    "print(file.head(1))\n",
    "\n"
   ]
  },
  {
   "cell_type": "code",
   "execution_count": 52,
   "id": "d6327cdd",
   "metadata": {
    "scrolled": true
   },
   "outputs": [
    {
     "name": "stderr",
     "output_type": "stream",
     "text": [
      "Tokenization: 100%|██████████| 1/1 [00:00<00:00, 397.79it/s]\n",
      "Inference: 100%|██████████| 1/1 [00:03<00:00,  3.67s/it]\n",
      "Tokenization: 100%|██████████| 1/1 [00:00<00:00, 794.38it/s]\n",
      "Inference: 100%|██████████| 1/1 [00:23<00:00, 23.65s/it]\n",
      "Tokenization: 100%|██████████| 1/1 [00:00<00:00, 53.23it/s]\n",
      "Inference: 100%|██████████| 1/1 [00:03<00:00,  3.42s/it]"
     ]
    },
    {
     "name": "stdout",
     "output_type": "stream",
     "text": [
      "Running pipeline ... done\n",
      "\n",
      "利率遞減型還款系統Interest rate declining repayment system\n",
      "done\n",
      "-----weighting-------\n",
      "還款\n",
      "2.4327906486489863\n",
      "\n"
     ]
    },
    {
     "name": "stderr",
     "output_type": "stream",
     "text": [
      "\n"
     ]
    },
    {
     "ename": "TypeError",
     "evalue": "'float' object is not iterable",
     "output_type": "error",
     "traceback": [
      "\u001b[0;31m---------------------------------------------------------------------------\u001b[0m",
      "\u001b[0;31mTypeError\u001b[0m                                 Traceback (most recent call last)",
      "\u001b[0;32m<ipython-input-52-027d30190f53>\u001b[0m in \u001b[0;36m<module>\u001b[0;34m\u001b[0m\n\u001b[1;32m     87\u001b[0m         \u001b[0mprint\u001b[0m\u001b[0;34m(\u001b[0m\u001b[0mabs\u001b[0m\u001b[0;34m(\u001b[0m\u001b[0m_TF\u001b[0m\u001b[0;34m*\u001b[0m\u001b[0m_IDF\u001b[0m\u001b[0;34m)\u001b[0m\u001b[0;34m)\u001b[0m\u001b[0;34m\u001b[0m\u001b[0;34m\u001b[0m\u001b[0m\n\u001b[1;32m     88\u001b[0m         \u001b[0mprint\u001b[0m\u001b[0;34m(\u001b[0m\u001b[0;34m)\u001b[0m\u001b[0;34m\u001b[0m\u001b[0;34m\u001b[0m\u001b[0m\n\u001b[0;32m---> 89\u001b[0;31m         \u001b[0mweight\u001b[0m\u001b[0;34m=\u001b[0m\u001b[0mzip\u001b[0m\u001b[0;34m(\u001b[0m\u001b[0mwords\u001b[0m\u001b[0;34m[\u001b[0m\u001b[0;36m0\u001b[0m\u001b[0;34m]\u001b[0m\u001b[0;34m,\u001b[0m\u001b[0mabs\u001b[0m\u001b[0;34m(\u001b[0m\u001b[0m_TF\u001b[0m\u001b[0;34m*\u001b[0m\u001b[0m_IDF\u001b[0m\u001b[0;34m)\u001b[0m\u001b[0;34m)\u001b[0m\u001b[0;34m\u001b[0m\u001b[0;34m\u001b[0m\u001b[0m\n\u001b[0m\u001b[1;32m     90\u001b[0m \u001b[0;34m\u001b[0m\u001b[0m\n\u001b[1;32m     91\u001b[0m     \u001b[0;31m# for entity in sentence_ner:\u001b[0m\u001b[0;34m\u001b[0m\u001b[0;34m\u001b[0m\u001b[0;34m\u001b[0m\u001b[0m\n",
      "\u001b[0;31mTypeError\u001b[0m: 'float' object is not iterable"
     ]
    }
   ],
   "source": [
    "var=file[\"摘要\"]\n",
    "name=file[\"專利名稱\"]\n",
    "sort_key=[]\n",
    "sort_words=[]\n",
    "for i in range (3) :\n",
    "   \n",
    "    text =[var[i]]\n",
    "    sent_cnt=0\n",
    "    \n",
    "    self_list=[]## get combine word \n",
    "    common_list=[]## get the most common word \n",
    "    document=[]\n",
    "    #Run pipeline\n",
    "    #print(\"Running pipeline ... WS\")\n",
    "    ws = ws_driver(text)\n",
    "    #print(\"Running pipeline ... POS\")\n",
    "    pos = pos_driver(ws)\n",
    "    #print(\"Running pipeline ... NER\")\n",
    "    \n",
    "    ner = ner_driver(text)\n",
    "    \n",
    "    print(\"Running pipeline ... done\")\n",
    "    \n",
    "    print()\n",
    "    def pack_ws_pos_sentece(sentence_ws, sentence_pos):\n",
    "        assert len(sentence_ws) == len(sentence_pos)\n",
    "        res = []\n",
    "             \n",
    "        ## 字詞的組合 根據屬性表將名詞-> 專有名詞 來增加字詞的特殊性\n",
    "        pre_pos=''\n",
    "        pre_ws=''\n",
    "        for word_ws, word_pos in zip(sentence_ws, sentence_pos):\n",
    "            ## 寫的好爛... 可以透過語言結構做優化\n",
    "            res.append(f\"{word_ws}({word_pos})\")\n",
    "            \n",
    "            if(word_pos==\"Na\" or \"V\" in word_pos):\n",
    "                common_list.append(word_ws)\n",
    "                \n",
    "            if((word_pos == \"Na\"or word_pos==\"VC\") and pre_pos!='' ):\n",
    "            # use \n",
    "                Nb=f\"{pre_ws}{word_ws}\"\n",
    "                #print(Nb)\n",
    "                self_list.append(pre_ws+word_ws)\n",
    "                #res.append(f\"{Nb}(Nb)\")\n",
    "                pre_pos=\"\"\n",
    "                pre_ws=\"\"\n",
    "                    \n",
    "            else :\n",
    "                ## memorizing\n",
    "                if(word_pos==\"VC\" or word_pos==\"VD\" or word_pos==\"Na\" or word_pos==\"Nb\"):\n",
    "                    pre_pos=word_pos\n",
    "                    pre_ws=word_ws\n",
    "                    \n",
    "                else :\n",
    "                    pre_pos=''\n",
    "                    pre_ws=''\n",
    "                    #res.append(f\"{word_ws}({word_pos})\")\n",
    "            if(word_pos==\"PERIODCATEGORY\" or word_pos==\"SEMICOLONCATEGORY\"):\n",
    "                global sent_cnt,document\n",
    "                sent_cnt+=1\n",
    "                #print(word_ws+\"\"+str(sent_cnt))\n",
    "                \n",
    "                document.append(res)\n",
    "            \n",
    "        return \"\\u3000\".join(res)\n",
    "    \n",
    "    \n",
    "    ## zip指標的標記\n",
    "    for sentence, sentence_ws, sentence_pos, sentence_ner in zip(text, ws, pos, ner):\n",
    "        #print(pos)\n",
    "        pack_ws_pos_sentece(sentence_ws, sentence_pos)\n",
    "        #-----------------------------------------------#\n",
    "    sort_key.append(Counter(self_list).most_common(20))\n",
    "    sort_words.append(Counter(common_list).most_common(20))\n",
    "    print(name[i])\n",
    "    print(\"done\")\n",
    "    #print(sentence)\n",
    "    print(\"-----weighting-------\")\n",
    "#     print(sort_key[i])\n",
    "#     print(\"------------\")\n",
    "#     print(sort_words[i])\n",
    "    weight=[]\n",
    "    for words in sort_words[i]:\n",
    "        _TF=(words[1]/len(pos)) \n",
    "        _IDF=math.log(words[1]/sent_cnt)\n",
    "        print(words[0])\n",
    "        print(abs(_TF*_IDF))\n",
    "        print()\n",
    "        weight=zip(words[0],abs(_TF*_IDF))\n",
    "    \n",
    "    # for entity in sentence_ner:\n",
    "    print(weight)\n",
    "    print(\"----storing------\")\n",
    "    del text\n",
    "    del self_list,common_list,document \n"
   ]
  },
  {
   "cell_type": "code",
   "execution_count": 49,
   "id": "62838530",
   "metadata": {},
   "outputs": [
    {
     "name": "stdout",
     "output_type": "stream",
     "text": [
      "{'系統': 2.4327906486489863, '交易': 1.1157177565710488, '控制': 1.1157177565710488, '係': 1.1157177565710488, '模組': 1.1157177565710488, '金融': 0.8630462173553427, '商品': 0.8630462173553427, '策略': 0.8630462173553427, '行動': 0.8630462173553427, '裝置': 0.8630462173553427, '電訊': 0.8630462173553427, '連接': 0.8630462173553427, '通訊': 0.8630462173553427, '查看': 1.3862943611198906, '電腦': 1.3862943611198906, '主機': 1.3862943611198906, '供以': 1.3862943611198906, '運行': 1.3862943611198906, '有': 1.3862943611198906, '創作': 1.3862943611198906}\n"
     ]
    }
   ],
   "source": [
    "## export back to the file \n",
    "\n",
    "print(weight)\n"
   ]
  },
  {
   "cell_type": "code",
   "execution_count": 51,
   "id": "ffadea4c",
   "metadata": {},
   "outputs": [
    {
     "ename": "ValueError",
     "evalue": "Mixing dicts with non-Series may lead to ambiguous ordering.",
     "output_type": "error",
     "traceback": [
      "\u001b[0;31m---------------------------------------------------------------------------\u001b[0m",
      "\u001b[0;31mValueError\u001b[0m                                Traceback (most recent call last)",
      "\u001b[0;32m<ipython-input-51-2bc11aa18882>\u001b[0m in \u001b[0;36m<module>\u001b[0;34m\u001b[0m\n\u001b[1;32m      4\u001b[0m \u001b[0;34m\u001b[0m\u001b[0m\n\u001b[1;32m      5\u001b[0m                 }\n\u001b[0;32m----> 6\u001b[0;31m \u001b[0mprint\u001b[0m \u001b[0;34m(\u001b[0m\u001b[0mpd\u001b[0m\u001b[0;34m.\u001b[0m\u001b[0mDataFrame\u001b[0m\u001b[0;34m(\u001b[0m\u001b[0mbank\u001b[0m\u001b[0;34m)\u001b[0m\u001b[0;34m)\u001b[0m\u001b[0;34m\u001b[0m\u001b[0;34m\u001b[0m\u001b[0m\n\u001b[0m\u001b[1;32m      7\u001b[0m \u001b[0;34m\u001b[0m\u001b[0m\n\u001b[1;32m      8\u001b[0m \u001b[0mpd\u001b[0m\u001b[0;34m.\u001b[0m\u001b[0mDataFrame\u001b[0m\u001b[0;34m(\u001b[0m\u001b[0mbank\u001b[0m\u001b[0;34m)\u001b[0m\u001b[0;34m.\u001b[0m\u001b[0mto_excel\u001b[0m\u001b[0;34m(\u001b[0m\u001b[0mresult\u001b[0m\u001b[0;34m)\u001b[0m\u001b[0;34m\u001b[0m\u001b[0;34m\u001b[0m\u001b[0m\n",
      "\u001b[0;32m/opt/anaconda3/lib/python3.8/site-packages/pandas/core/frame.py\u001b[0m in \u001b[0;36m__init__\u001b[0;34m(self, data, index, columns, dtype, copy)\u001b[0m\n\u001b[1;32m    612\u001b[0m         \u001b[0;32melif\u001b[0m \u001b[0misinstance\u001b[0m\u001b[0;34m(\u001b[0m\u001b[0mdata\u001b[0m\u001b[0;34m,\u001b[0m \u001b[0mdict\u001b[0m\u001b[0;34m)\u001b[0m\u001b[0;34m:\u001b[0m\u001b[0;34m\u001b[0m\u001b[0;34m\u001b[0m\u001b[0m\n\u001b[1;32m    613\u001b[0m             \u001b[0;31m# GH#38939 de facto copy defaults to False only in non-dict cases\u001b[0m\u001b[0;34m\u001b[0m\u001b[0;34m\u001b[0m\u001b[0;34m\u001b[0m\u001b[0m\n\u001b[0;32m--> 614\u001b[0;31m             \u001b[0mmgr\u001b[0m \u001b[0;34m=\u001b[0m \u001b[0mdict_to_mgr\u001b[0m\u001b[0;34m(\u001b[0m\u001b[0mdata\u001b[0m\u001b[0;34m,\u001b[0m \u001b[0mindex\u001b[0m\u001b[0;34m,\u001b[0m \u001b[0mcolumns\u001b[0m\u001b[0;34m,\u001b[0m \u001b[0mdtype\u001b[0m\u001b[0;34m=\u001b[0m\u001b[0mdtype\u001b[0m\u001b[0;34m,\u001b[0m \u001b[0mcopy\u001b[0m\u001b[0;34m=\u001b[0m\u001b[0mcopy\u001b[0m\u001b[0;34m,\u001b[0m \u001b[0mtyp\u001b[0m\u001b[0;34m=\u001b[0m\u001b[0mmanager\u001b[0m\u001b[0;34m)\u001b[0m\u001b[0;34m\u001b[0m\u001b[0;34m\u001b[0m\u001b[0m\n\u001b[0m\u001b[1;32m    615\u001b[0m         \u001b[0;32melif\u001b[0m \u001b[0misinstance\u001b[0m\u001b[0;34m(\u001b[0m\u001b[0mdata\u001b[0m\u001b[0;34m,\u001b[0m \u001b[0mma\u001b[0m\u001b[0;34m.\u001b[0m\u001b[0mMaskedArray\u001b[0m\u001b[0;34m)\u001b[0m\u001b[0;34m:\u001b[0m\u001b[0;34m\u001b[0m\u001b[0;34m\u001b[0m\u001b[0m\n\u001b[1;32m    616\u001b[0m             \u001b[0;32mimport\u001b[0m \u001b[0mnumpy\u001b[0m\u001b[0;34m.\u001b[0m\u001b[0mma\u001b[0m\u001b[0;34m.\u001b[0m\u001b[0mmrecords\u001b[0m \u001b[0;32mas\u001b[0m \u001b[0mmrecords\u001b[0m\u001b[0;34m\u001b[0m\u001b[0;34m\u001b[0m\u001b[0m\n",
      "\u001b[0;32m/opt/anaconda3/lib/python3.8/site-packages/pandas/core/internals/construction.py\u001b[0m in \u001b[0;36mdict_to_mgr\u001b[0;34m(data, index, columns, dtype, typ, copy)\u001b[0m\n\u001b[1;32m    460\u001b[0m         \u001b[0;31m# TODO: can we get rid of the dt64tz special case above?\u001b[0m\u001b[0;34m\u001b[0m\u001b[0;34m\u001b[0m\u001b[0;34m\u001b[0m\u001b[0m\n\u001b[1;32m    461\u001b[0m \u001b[0;34m\u001b[0m\u001b[0m\n\u001b[0;32m--> 462\u001b[0;31m     return arrays_to_mgr(\n\u001b[0m\u001b[1;32m    463\u001b[0m         \u001b[0marrays\u001b[0m\u001b[0;34m,\u001b[0m \u001b[0mdata_names\u001b[0m\u001b[0;34m,\u001b[0m \u001b[0mindex\u001b[0m\u001b[0;34m,\u001b[0m \u001b[0mcolumns\u001b[0m\u001b[0;34m,\u001b[0m \u001b[0mdtype\u001b[0m\u001b[0;34m=\u001b[0m\u001b[0mdtype\u001b[0m\u001b[0;34m,\u001b[0m \u001b[0mtyp\u001b[0m\u001b[0;34m=\u001b[0m\u001b[0mtyp\u001b[0m\u001b[0;34m,\u001b[0m \u001b[0mconsolidate\u001b[0m\u001b[0;34m=\u001b[0m\u001b[0mcopy\u001b[0m\u001b[0;34m\u001b[0m\u001b[0;34m\u001b[0m\u001b[0m\n\u001b[1;32m    464\u001b[0m     )\n",
      "\u001b[0;32m/opt/anaconda3/lib/python3.8/site-packages/pandas/core/internals/construction.py\u001b[0m in \u001b[0;36marrays_to_mgr\u001b[0;34m(arrays, arr_names, index, columns, dtype, verify_integrity, typ, consolidate)\u001b[0m\n\u001b[1;32m    115\u001b[0m         \u001b[0;31m# figure out the index, if necessary\u001b[0m\u001b[0;34m\u001b[0m\u001b[0;34m\u001b[0m\u001b[0;34m\u001b[0m\u001b[0m\n\u001b[1;32m    116\u001b[0m         \u001b[0;32mif\u001b[0m \u001b[0mindex\u001b[0m \u001b[0;32mis\u001b[0m \u001b[0;32mNone\u001b[0m\u001b[0;34m:\u001b[0m\u001b[0;34m\u001b[0m\u001b[0;34m\u001b[0m\u001b[0m\n\u001b[0;32m--> 117\u001b[0;31m             \u001b[0mindex\u001b[0m \u001b[0;34m=\u001b[0m \u001b[0m_extract_index\u001b[0m\u001b[0;34m(\u001b[0m\u001b[0marrays\u001b[0m\u001b[0;34m)\u001b[0m\u001b[0;34m\u001b[0m\u001b[0;34m\u001b[0m\u001b[0m\n\u001b[0m\u001b[1;32m    118\u001b[0m         \u001b[0;32melse\u001b[0m\u001b[0;34m:\u001b[0m\u001b[0;34m\u001b[0m\u001b[0;34m\u001b[0m\u001b[0m\n\u001b[1;32m    119\u001b[0m             \u001b[0mindex\u001b[0m \u001b[0;34m=\u001b[0m \u001b[0mensure_index\u001b[0m\u001b[0;34m(\u001b[0m\u001b[0mindex\u001b[0m\u001b[0;34m)\u001b[0m\u001b[0;34m\u001b[0m\u001b[0;34m\u001b[0m\u001b[0m\n",
      "\u001b[0;32m/opt/anaconda3/lib/python3.8/site-packages/pandas/core/internals/construction.py\u001b[0m in \u001b[0;36m_extract_index\u001b[0;34m(data)\u001b[0m\n\u001b[1;32m    624\u001b[0m \u001b[0;34m\u001b[0m\u001b[0m\n\u001b[1;32m    625\u001b[0m             \u001b[0;32mif\u001b[0m \u001b[0mhave_dicts\u001b[0m\u001b[0;34m:\u001b[0m\u001b[0;34m\u001b[0m\u001b[0;34m\u001b[0m\u001b[0m\n\u001b[0;32m--> 626\u001b[0;31m                 raise ValueError(\n\u001b[0m\u001b[1;32m    627\u001b[0m                     \u001b[0;34m\"Mixing dicts with non-Series may lead to ambiguous ordering.\"\u001b[0m\u001b[0;34m\u001b[0m\u001b[0;34m\u001b[0m\u001b[0m\n\u001b[1;32m    628\u001b[0m                 )\n",
      "\u001b[0;31mValueError\u001b[0m: Mixing dicts with non-Series may lead to ambiguous ordering."
     ]
    }
   ],
   "source": [
    "bank ={\n",
    "        \"KEY\":sort_key,\n",
    "        \"WORD\":weight,\n",
    "        \n",
    "                }\n",
    "print (pd.DataFrame(bank))\n",
    "\n",
    "pd.DataFrame(bank).to_excel(result)\n",
    "\n"
   ]
  },
  {
   "cell_type": "code",
   "execution_count": null,
   "id": "9eb5c82f",
   "metadata": {},
   "outputs": [],
   "source": []
  }
 ],
 "metadata": {
  "interpreter": {
   "hash": "dca0ade3e726a953b501b15e8e990130d2b7799f14cfd9f4271676035ebe5511"
  },
  "kernelspec": {
   "display_name": "Python 3",
   "language": "python",
   "name": "python3"
  },
  "language_info": {
   "codemirror_mode": {
    "name": "ipython",
    "version": 3
   },
   "file_extension": ".py",
   "mimetype": "text/x-python",
   "name": "python",
   "nbconvert_exporter": "python",
   "pygments_lexer": "ipython3",
   "version": "3.8.8"
  }
 },
 "nbformat": 4,
 "nbformat_minor": 5
}
