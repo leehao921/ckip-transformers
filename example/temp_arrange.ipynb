{
 "cells": [
  {
   "cell_type": "code",
   "execution_count": 1,
   "source": [
    "# Input text\n",
    "from collections import Counter\n",
    "from pandas import ExcelWriter\n",
    "import pandas as pd\n",
    "from datetime import datetime\n",
    "\n",
    "fileName = \"開發金\"\n",
    "filename = \"./_target/\"+fileName+\".xls\"\n",
    "result = \"./_target/\"+fileName+\"reslt.xls\"\n",
    "file = pd.read_excel(filename)\n",
    "result_file = pd.read_excel(result)\n",
    "print(len(file))\n",
    "print(result_file.head(1))\n",
    "print(file.head(1))\n",
    "\n",
    "ori_time=file[\"申請日\"]\n",
    "date=[]\n",
    "for i in ori_time:\n",
    "    s=str(i)\n",
    "    date.append(s[0:4]+'/'+s[4:6]+'/'+s[6:8])\n",
    "    #(datetime(year=int(), month=int(s[4:6]), day=int(s[6:8])))\n",
    "print((date))\n"
   ],
   "outputs": [
    {
     "output_type": "stream",
     "name": "stdout",
     "text": [
      "8\n",
      "   Unnamed: 0                                                 名稱  \\\n",
      "0           0  利率遞減型還款系統Interest rate declining repayment system   \n",
      "\n",
      "                                                 KEY  \\\n",
      "0  [('電腦主機', 3), ('儲存單元', 2), ('處理單元', 2), ('修正利率...   \n",
      "\n",
      "                                                WORD  \n",
      "0  [('還款', 6), ('利率', 5), ('單元', 4), ('客戶', 4), (...  \n",
      "         公開/公告號    公開/公告日          申請號       申請日  \\\n",
      "0  TW201915891A  20190416  TW106133599  20170929   \n",
      "\n",
      "                                                專利名稱  \\\n",
      "0  利率遞減型還款系統Interest rate declining repayment system   \n",
      "\n",
      "                                                申請人  \\\n",
      "0  凱基商業銀行股份有限公司; KGI COMMERCIAL BANK CO., LTD. (TW)   \n",
      "\n",
      "                                                  摘要                  IPC  \\\n",
      "0  一種利率遞減型還款系統包含一個終端機及一個電腦主機，該電腦主機包括一個儲存單元及一個處理單元...  G06Q 40/02(2012.01)   \n",
      "\n",
      "   引用專利  被參考次數  \n",
      "0   NaN    NaN  \n",
      "['2017/09/29', '2016/12/09', '2020/07/27', '2020/07/13', '2020/06/18', '2018/11/01', '2017/09/29', '2016/12/09']\n"
     ]
    }
   ],
   "metadata": {}
  },
  {
   "cell_type": "code",
   "execution_count": 2,
   "source": [
    "bank ={\n",
    "        \"ID\":file[\"公開/公告號\"],\n",
    "        \"申請日\":date,\n",
    "        \"名稱\":file[\"專利名稱\"],\n",
    "        \"申請人\":file[\"申請人\"],\n",
    "        \"IPC\":file[\"IPC\"],\n",
    "        \"引用專利\":file[\"引用專利\"],\n",
    "        \"被參考次數\":file[\"被參考次數\"],    \n",
    "        \"專利摘要\":file[\"摘要\"],\n",
    "        \"摘要關鍵字\":result_file[\"KEY\"],\n",
    "        \"摘要常用字\":result_file[\"WORD\"],\n",
    "        }\n",
    "print (pd.DataFrame(bank))\n",
    "pd.DataFrame(bank).to_excel(result)\n"
   ],
   "outputs": [
    {
     "output_type": "stream",
     "name": "stdout",
     "text": [
      "             ID         申請日  \\\n",
      "0  TW201915891A  2017/09/29   \n",
      "1  TW201822116A  2016/12/09   \n",
      "2    TWM605596U  2020/07/27   \n",
      "3    TWM602259U  2020/07/13   \n",
      "4    TWM600911U  2020/06/18   \n",
      "5    TWM578844U  2018/11/01   \n",
      "6    TWM553848U  2017/09/29   \n",
      "7    TWM538200U  2016/12/09   \n",
      "\n",
      "                                                  名稱  \\\n",
      "0  利率遞減型還款系統Interest rate declining repayment system   \n",
      "1          信託金流處理系統Trust cash flow processing system   \n",
      "2  用於遠距查看及調整金融商品交易策略之遠端控制系統Remote control system ...   \n",
      "3     視訊投保系統Video-based insurance application system   \n",
      "4  用於業務員教育訓練之智能教練系統Intelligent coaching system fo...   \n",
      "5  人工智慧應用於保險服務之建立標籤庫及行銷系統Establishing user tag li...   \n",
      "6  利率遞減型還款系統Repayment system of decreasing intere...   \n",
      "7      信託金流處理系統Trust monetary flow processing system   \n",
      "\n",
      "                                                 申請人  \\\n",
      "0   凱基商業銀行股份有限公司; KGI COMMERCIAL BANK CO., LTD. (TW)   \n",
      "1      凱基商業銀行股份有限公司; KGI COMMERCIAL BANK CO LTD (TW)   \n",
      "2           凱基證券股份有限公司; KGI SECURITIES CO. LTD. (TW)   \n",
      "3  中國人壽保險股份有限公司; CHINA LIFE INSURANCE CO., LTD. (TW)   \n",
      "4  中國人壽保險股份有限公司; CHINA LIFE INSURANCE CO., LTD. (TW)   \n",
      "5  中國人壽保險股份有限公司; CHINA LIFE INSURANCE CO., LTD. (TW)   \n",
      "6   凱基商業銀行股份有限公司; KGI COMMERCIAL BANK CO., LTD. (TW)   \n",
      "7   凱基商業銀行股份有限公司; KGI COMMERCIAL BANK CO., LTD. (TW)   \n",
      "\n",
      "                                        IPC  引用專利  被參考次數  \\\n",
      "0                       G06Q 40/02(2012.01)   NaN    NaN   \n",
      "1  G06Q 40/02(2012.01); G06Q 40/08(2012.01)   NaN    NaN   \n",
      "2                       G06Q 40/00(2012.01)   NaN    NaN   \n",
      "3                       G06Q 40/08(2012.01)   NaN    NaN   \n",
      "4  G06Q 50/20(2012.01); G09B 19/00(2012.01)   NaN    NaN   \n",
      "5                       G06Q 40/08(2012.01)   NaN    NaN   \n",
      "6                       G06Q 40/02(2012.01)   NaN    NaN   \n",
      "7                       G06Q 40/02(2012.01)   NaN    2.0   \n",
      "\n",
      "                                                專利摘要  \\\n",
      "0  一種利率遞減型還款系統包含一個終端機及一個電腦主機，該電腦主機包括一個儲存單元及一個處理單元...   \n",
      "1  一種信託金流處理系統，包含一信託金流平台、一信用徵審模組、一銀行端伺服器、及一動撥模組。該信...   \n",
      "2  ﻿本創作揭露一種用於遠距查看及調整金融商品交易策略之遠端控制系統，其係裝設於行動裝置，行動裝...   \n",
      "3  ﻿本創作提供一種視訊投保系統，其至少包含一伺服器，該伺服器包含：一演示模組，基於使用者指令啟...   \n",
      "4  ﻿本創作提供一種用於業務員教育訓練之智能教練系統，其至少包含一伺服器，該伺服器包含：一資料蒐...   \n",
      "5  ﻿本創作提供一種人工智慧應用於保險服務之建立標籤庫及行銷系統，包含：一客戶資料整合模組，係收...   \n",
      "6  ﻿一種利率遞減型還款系統包含一個終端機及一個電腦主機，該電腦主機包括一個儲存單元及一個處理單...   \n",
      "7  ﻿一種信託金流處理系統，包含一信託金流平台、一信用徵審模組、一銀行端伺服器、及一動撥模組。該...   \n",
      "\n",
      "                                               摘要關鍵字  \\\n",
      "0  [('電腦主機', 3), ('儲存單元', 2), ('處理單元', 2), ('修正利率...   \n",
      "1  [('金流平台', 3), ('信用徵審', 2), ('信用分數', 2), ('金流處理...   \n",
      "2  [('控制系統', 4), ('通訊模組', 3), ('行動裝置', 2), ('交易系統...   \n",
      "3  [('交易模組', 5), ('前述保險', 4), ('指令啟動', 3), ('保險模組...   \n",
      "4  [('智能教練', 2), ('變數資訊', 2), ('行銷流程', 2), ('業務員教...   \n",
      "5  [('客戶行為', 2), ('人工智慧', 1), ('保險服務', 1), ('建立標籤...   \n",
      "6  [('電腦主機', 3), ('儲存單元', 2), ('處理單元', 2), ('修正利率...   \n",
      "7  [('金流平台', 3), ('信用徵審', 2), ('屬性變數', 2), ('信用分數...   \n",
      "\n",
      "                                               摘要常用字  \n",
      "0  [('還款', 6), ('利率', 5), ('單元', 4), ('客戶', 4), (...  \n",
      "1  [('信用', 5), ('模組', 5), ('金流', 4), ('平台', 4), (...  \n",
      "2  [('系統', 6), ('交易', 5), ('控制', 5), ('係', 5), ('...  \n",
      "3  [('模組', 19), ('前述', 8), ('保險', 7), ('指令', 5), ...  \n",
      "4  [('模組', 7), ('行銷', 5), ('模型', 5), ('業務員', 4), ...  \n",
      "5  [('客戶', 6), ('模組', 5), ('行銷', 4), ('係', 4), ('...  \n",
      "6  [('還款', 6), ('利率', 5), ('單元', 4), ('客戶', 4), (...  \n",
      "7  [('信用', 5), ('模組', 5), ('金流', 4), ('平台', 4), (...  \n"
     ]
    },
    {
     "output_type": "stream",
     "name": "stderr",
     "text": [
      "<ipython-input-2-4f9233dda3f2>:14: FutureWarning: As the xlwt package is no longer maintained, the xlwt engine will be removed in a future version of pandas. This is the only engine in pandas that supports writing in the xls format. Install openpyxl and write to an xlsx file instead. You can set the option io.excel.xls.writer to 'xlwt' to silence this warning. While this option is deprecated and will also raise a warning, it can be globally set and the warning suppressed.\n",
      "  pd.DataFrame(bank).to_excel(result)\n"
     ]
    }
   ],
   "metadata": {}
  },
  {
   "cell_type": "code",
   "execution_count": null,
   "source": [],
   "outputs": [],
   "metadata": {}
  }
 ],
 "metadata": {
  "orig_nbformat": 4,
  "language_info": {
   "name": "python",
   "version": "3.8.8",
   "mimetype": "text/x-python",
   "codemirror_mode": {
    "name": "ipython",
    "version": 3
   },
   "pygments_lexer": "ipython3",
   "nbconvert_exporter": "python",
   "file_extension": ".py"
  },
  "kernelspec": {
   "name": "python3",
   "display_name": "Python 3.8.8 64-bit ('base': conda)"
  },
  "interpreter": {
   "hash": "dca0ade3e726a953b501b15e8e990130d2b7799f14cfd9f4271676035ebe5511"
  }
 },
 "nbformat": 4,
 "nbformat_minor": 2
}