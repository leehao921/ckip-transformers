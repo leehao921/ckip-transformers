{
 "cells": [
  {
   "cell_type": "code",
   "execution_count": 51,
   "source": [
    "import ast \n",
    "from collections import Counter\n",
    "from pandas import ExcelWriter\n",
    "import pandas as pd\n",
    "\n",
    "\n",
    "fileName = \"開發金\"\n",
    "filename = \"./_target/\"+fileName+\"result.xls\"\n",
    "file = pd.read_excel(filename)\n",
    "print(len(file))\n",
    "print(file.head(1))"
   ],
   "outputs": [
    {
     "output_type": "stream",
     "name": "stdout",
     "text": [
      "8\n",
      "   Unnamed: 0            ID         申請日  \\\n",
      "0           0  TW201915891A  2017/09/29   \n",
      "\n",
      "                                                  名稱  \\\n",
      "0  利率遞減型還款系統Interest rate declining repayment system   \n",
      "\n",
      "                                                申請人                  IPC  \\\n",
      "0  凱基商業銀行股份有限公司; KGI COMMERCIAL BANK CO., LTD. (TW)  G06Q 40/02(2012.01)   \n",
      "\n",
      "   引用專利  被參考次數                                               專利摘要  \\\n",
      "0   NaN    NaN  一種利率遞減型還款系統包含一個終端機及一個電腦主機，該電腦主機包括一個儲存單元及一個處理單元...   \n",
      "\n",
      "                                               摘要關鍵字  \\\n",
      "0  [('電腦主機', 3), ('儲存單元', 2), ('處理單元', 2), ('修正利率...   \n",
      "\n",
      "                                               摘要常用字  \n",
      "0  [('還款', 6), ('利率', 5), ('單元', 4), ('客戶', 4), (...  \n"
     ]
    }
   ],
   "metadata": {}
  },
  {
   "cell_type": "code",
   "execution_count": 53,
   "source": [
    "\n",
    "with open('dictionary.json') as jsondata:\n",
    "    data = json.load(jsondata)\n",
    "    print(data)\n",
    "\n",
    "print(\"---------I am dic-----------\")\n",
    "#//ready=list(,file[\"摘要常用字\"]))\n",
    "for patnet_name,patents in zip(file['名稱'],file[\"摘要常用字\"]):\n",
    "    # ! convert string to list\n",
    "    # ? since the file convert to string while it is in xls format\n",
    "    patent=ast.literal_eval(patents)\n",
    "    weight=[0,0,0]\n",
    "    avg=[0,0,0]\n",
    "    for element in patent:\n",
    "# * ------------------------------------------------\n",
    "        if element[0] in data['管理']['技術']:\n",
    "            weight[0]+=1\n",
    "            # //rint(patnet_name+\"in 管理\")\n",
    "        if element[0] in data['管理']['優化']:\n",
    "            weight[0]+=1\n",
    "            # //print(patnet_name+\"in 管理優化\")\n",
    "# * ------------------------------------------------\n",
    "        if element[0] in data['服務']['技術']:\n",
    "            weight[1]+=1\n",
    "            # //print(patnet_name+\"in 服務\")\n",
    "        if element[0] in data['服務']['優化']:\n",
    "            weight[1]+=1\n",
    "            # //print(patnet_name+\"in 服務優化\")\n",
    "# * ------------------------------------------------\n",
    "        if element[0] in data['分析']['優化']:\n",
    "            # //print(patnet_name+\"in 分析\")\n",
    "            weight[2]+=1\n",
    "        if element[0] in data['分析']['優化']:\n",
    "            # //print(patnet_name+\"in 分析優化\")\n",
    "            weight[2]+=1\n",
    "# * ------------------------------------------------\n",
    "    sum=(weight[0]+weight[1]+weight[2])\n",
    "    if sum == 0:\n",
    "        sum=1\n",
    "    avg=[weight[0]/sum,weight[1]/sum,weight[2]/sum]\n",
    "    print(patnet_name)\n",
    "   \n",
    "    print(f\"服務{avg[0]}||管理{avg[1]}||技術{avg[2]}\")\n",
    "    print ('-----------')\n"
   ],
   "outputs": [
    {
     "output_type": "stream",
     "name": "stdout",
     "text": [
      "{'服務': {'技術': ['商業方法', '瀏覽', '介面', '網路', '服務', '客服', '交易', '支付', '登入', '自然人', '行動', '線上', '個人化', '實體', '操作', '交易', '預警'], '優化': ['方便', '簡易', '快速', '通知', '建議', '直覺化', '簡化']}, '管理': {'技術': ['資料庫', '系統', '數據', '安全', '管理', '控管', '區塊鏈', '整合', '平台', '排程', '維護', '資料', '交換', '架設', '設計', '設備', '電子', '標籤'], '優化': ['自動化', '結果', '優化', '效能', '安全性', '效率', '隱密性', '整合']}, '分析': {'技術': ['處理', '演算法', '行銷', '評估', '風險', '分析', '機器', '學習', '智慧', '調變', '保險', '處理', '運用', '辨識', '計算', '判斷'], '優化': ['精準', '效益', '個人化']}}\n",
      "---------I am dic-----------\n",
      "利率遞減型還款系統Interest rate declining repayment system\n",
      "服務1.0||管理0.0||技術0.0\n",
      "-----------\n",
      "信託金流處理系統Trust cash flow processing system\n",
      "服務1.0||管理0.0||技術0.0\n",
      "-----------\n",
      "用於遠距查看及調整金融商品交易策略之遠端控制系統Remote control system for remote viewing and adjustment of financial commodity trading strategies\n",
      "服務0.3333333333333333||管理0.6666666666666666||技術0.0\n",
      "-----------\n",
      "視訊投保系統Video-based insurance application system\n",
      "服務0.5||管理0.5||技術0.0\n",
      "-----------\n",
      "用於業務員教育訓練之智能教練系統Intelligent coaching system for salesman education and training\n",
      "服務1.0||管理0.0||技術0.0\n",
      "-----------\n",
      "人工智慧應用於保險服務之建立標籤庫及行銷系統Establishing user tag library and marketing system by applying artificial intelligence to insurance service\n",
      "服務0.625||管理0.125||技術0.25\n",
      "-----------\n",
      "利率遞減型還款系統Repayment system of decreasing interest rate\n",
      "服務1.0||管理0.0||技術0.0\n",
      "-----------\n",
      "信託金流處理系統Trust monetary flow processing system\n",
      "服務1.0||管理0.0||技術0.0\n",
      "-----------\n"
     ]
    }
   ],
   "metadata": {}
  },
  {
   "cell_type": "code",
   "execution_count": null,
   "source": [],
   "outputs": [],
   "metadata": {}
  },
  {
   "cell_type": "code",
   "execution_count": null,
   "source": [],
   "outputs": [],
   "metadata": {}
  }
 ],
 "metadata": {
  "orig_nbformat": 4,
  "language_info": {
   "name": "python",
   "version": "3.8.8",
   "mimetype": "text/x-python",
   "codemirror_mode": {
    "name": "ipython",
    "version": 3
   },
   "pygments_lexer": "ipython3",
   "nbconvert_exporter": "python",
   "file_extension": ".py"
  },
  "kernelspec": {
   "name": "python3",
   "display_name": "Python 3.8.8 64-bit ('base': conda)"
  },
  "interpreter": {
   "hash": "dca0ade3e726a953b501b15e8e990130d2b7799f14cfd9f4271676035ebe5511"
  }
 },
 "nbformat": 4,
 "nbformat_minor": 2
}