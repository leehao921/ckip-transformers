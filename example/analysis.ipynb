{
 "cells": [
  {
   "cell_type": "code",
   "execution_count": 16,
   "source": [
    "import ast \n",
    "from collections import Counter\n",
    "from pandas import ExcelWriter\n",
    "import pandas as pd\n",
    "import json\n",
    "\n",
    "fileName = \"開發金\"\n",
    "filename=\"./_target/\"+fileName+\"reslut.xls\"\n",
    "file = pd.read_excel(filename)\n",
    "print(len(file))\n",
    "print(file.head(1))"
   ],
   "outputs": [
    {
     "output_type": "stream",
     "name": "stdout",
     "text": [
      "6\n",
      "       公開/公告號         申請日                                                 名稱  \\\n",
      "0  TWM605596U  2020/07/27  用於遠距查看及調整金融商品交易策略之遠端控制系統Remote control system ...   \n",
      "\n",
      "                                        申請人                  IPC  引用專利  被參考次數  \\\n",
      "0  凱基證券股份有限公司; KGI SECURITIES CO. LTD. (TW)  G06Q 40/00(2012.01)   NaN    NaN   \n",
      "\n",
      "                                                專利摘要  \\\n",
      "0  ﻿本創作揭露一種用於遠距查看及調整金融商品交易策略之遠端控制系統，其係裝設於行動裝置，行動裝...   \n",
      "\n",
      "                                               摘要關鍵字  \\\n",
      "0  [('控制系統', 4), ('通訊模組', 3), ('行動裝置', 2), ('交易系統...   \n",
      "\n",
      "                                               摘要常用字  \\\n",
      "0  [('系統', 6), ('交易', 5), ('控制', 5), ('係', 5), ('...   \n",
      "\n",
      "                                              TF_IDF  \\\n",
      "0  [('電腦主機', 0.06), ('金融商品', 0.06), ('通訊模組', 0.04...   \n",
      "\n",
      "                               tending property  \n",
      "0  {'管理': 0.0, '服務': 100.0, '分析': 0.0}       服務  \n"
     ]
    }
   ],
   "metadata": {}
  },
  {
   "cell_type": "code",
   "execution_count": 19,
   "source": [
    "tend=file[\"property\"]\n",
    "pie=Counter(tend)\n",
    "import matplotlib.pyplot as plt\n",
    "import numpy as np\n",
    "plt.rcParams['font.sans-serif'] = ['Heiti TC']\n",
    "\n",
    "labels = []\n",
    "sizes = []\n",
    "for x, y in pie.items():\n",
    "    labels.append(x)\n",
    "    sizes.append(y)\n",
    "\n",
    "# Plot\n",
    "mycolors = [\"#A6A5A4\", \"#3C3D3E\", \"#D8D7D7\"]\n",
    "separated = (.1,0,0)\n",
    "match_max=max(sizes)\n",
    "match_min=min(sizes)\n",
    "def autoSplit(match_max,match_min):\n",
    "    explode=()# * it is a tuple \n",
    "    for i in sizes:\n",
    "        if  i == match_max :\n",
    "            explode=explode+(0.1,) # we can chain up a tuple by using +\n",
    "        elif i == match_min :\n",
    "            explode=explode+(0.2,)\n",
    "        else :\n",
    "            explode=explode+(0,)\n",
    "    return explode\n",
    "explode = autoSplit(match_max,match_min)\n",
    "\n",
    "plt.pie(sizes, labels=labels,shadow = True,autopct='%1.1f%%',startangle=90,colors=mycolors,explode=explode)\n",
    "\n",
    "plt.axis('equal')\n",
    "plt.legend(title=fileName)\n",
    "plt.show()"
   ],
   "outputs": [
    {
     "output_type": "display_data",
     "data": {
      "text/plain": [
       "<Figure size 432x288 with 1 Axes>"
      ],
      "image/png": "[encoded data removed]"
     },
     "metadata": {}
    }
   ],
   "metadata": {}
  },
  {
   "cell_type": "code",
   "execution_count": null,
   "source": [],
   "outputs": [],
   "metadata": {}
  }
 ],
 "metadata": {
  "orig_nbformat": 4,
  "language_info": {
   "name": "python",
   "version": "3.8.8",
   "mimetype": "text/x-python",
   "codemirror_mode": {
    "name": "ipython",
    "version": 3
   },
   "pygments_lexer": "ipython3",
   "nbconvert_exporter": "python",
   "file_extension": ".py"
  },
  "kernelspec": {
   "name": "python3",
   "display_name": "Python 3.8.8 64-bit ('base': conda)"
  },
  "interpreter": {
   "hash": "dca0ade3e726a953b501b15e8e990130d2b7799f14cfd9f4271676035ebe5511"
  }
 },
 "nbformat": 4,
 "nbformat_minor": 2
}