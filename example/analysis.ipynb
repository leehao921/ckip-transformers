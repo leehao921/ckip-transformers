{
 "cells": [
  {
   "cell_type": "code",
   "execution_count": 2,
   "source": [
    "import ast \n",
    "from collections import Counter\n",
    "from pandas import ExcelWriter\n",
    "import pandas as pd\n",
    "import json\n",
    "\n",
    "fileName = \"新光金控\"\n",
    "filename=\"./_target/\"+fileName+\"reslut.xls\"\n",
    "file = pd.read_excel(filename)\n",
    "print(len(file))\n",
    "print(file.head(1))"
   ],
   "outputs": [
    {
     "output_type": "stream",
     "name": "stdout",
     "text": [
      "38\n",
      "   Unnamed: 0       公開/公告號         申請日  \\\n",
      "0           0  TW202117622  2019/10/16   \n",
      "\n",
      "                                                  名稱  \\\n",
      "0  業務處理系統、方法及其電腦程式產品BUSINESS PROCESS SYSTEM, METH...   \n",
      "\n",
      "                                                 申請人  \\\n",
      "0  臺灣新光商業銀行股份有限公司; TAIWAN SHIN KONG COMMERCIAL BA...   \n",
      "\n",
      "                                                 IPC 引用專利  被參考次數  \\\n",
      "0  G06Q 20/08(2012.01); G06Q 20/18(2012.01); G06F...  NaN    NaN   \n",
      "\n",
      "                                                專利摘要  \\\n",
      "0  一種業務處理方法及其系統，用於一業務提供者依據一業務請求產生對應之一業務資訊碼給一使用者後，...   \n",
      "\n",
      "                                               摘要關鍵字  \\\n",
      "0  [('機台設備', 3), ('提供者', 2), ('使用者', 2), ('服務類型',...   \n",
      "\n",
      "                                               摘要常用字  \\\n",
      "0  [('業務', 14), ('請求', 6), ('對應', 5), ('者', 4), (...   \n",
      "\n",
      "                                              TF_IDF  \\\n",
      "0  [('提供者', 0.12), ('使用者', 0.12), ('服務類型', 0.12),...   \n",
      "\n",
      "                                tending property  \n",
      "0  {'管理': 11.0, '服務': 78.0, '分析': 11.0}       服務  \n"
     ]
    }
   ],
   "metadata": {}
  },
  {
   "cell_type": "code",
   "execution_count": 7,
   "source": [
    "tend=file[\"property\"]\n",
    "pie=Counter(tend)\n",
    "import matplotlib.pyplot as plt\n",
    "import numpy as np\n",
    "plt.rcParams['font.sans-serif'] = ['Heiti TC']\n",
    "\n",
    "labels = []\n",
    "sizes = []\n",
    "for x, y in pie.items():\n",
    "    labels.append(x)\n",
    "    sizes.append(y)\n",
    "\n",
    "# Plot\n",
    "mycolors = [\"#A6A5A4\", \"#3C3D3E\", \"#D8D7D7\"]\n",
    "separated = (.1,0,0)\n",
    "\n",
    "plt.pie(sizes, labels=labels,shadow = True,autopct='%1.1f%%',startangle=90,colors=mycolors,explode=separated)\n",
    "\n",
    "\n",
    "plt.axis('equal')\n",
    "plt.legend(title=fileName)\n",
    "plt.show()"
   ],
   "outputs": [
    {
     "output_type": "display_data",
     "data": {
      "text/plain": [
       "<Figure size 432x288 with 1 Axes>"
      ],
      "image/png": "[encoded data removed]"
     },
     "metadata": {}
    }
   ],
   "metadata": {}
  },
  {
   "cell_type": "code",
   "execution_count": null,
   "source": [],
   "outputs": [],
   "metadata": {}
  }
 ],
 "metadata": {
  "orig_nbformat": 4,
  "language_info": {
   "name": "python",
   "version": "3.8.8",
   "mimetype": "text/x-python",
   "codemirror_mode": {
    "name": "ipython",
    "version": 3
   },
   "pygments_lexer": "ipython3",
   "nbconvert_exporter": "python",
   "file_extension": ".py"
  },
  "kernelspec": {
   "name": "python3",
   "display_name": "Python 3.8.8 64-bit ('base': conda)"
  },
  "interpreter": {
   "hash": "dca0ade3e726a953b501b15e8e990130d2b7799f14cfd9f4271676035ebe5511"
  }
 },
 "nbformat": 4,
 "nbformat_minor": 2
}