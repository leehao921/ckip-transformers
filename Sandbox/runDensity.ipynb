{
 "cells": [
  {
   "cell_type": "code",
   "execution_count": 1,
   "source": [
    "import ast \n",
    "from collections import Counter\n",
    "from pandas import ExcelWriter\n",
    "import pandas as pd\n",
    "import json\n",
    "\n",
    "def load(fileName):\n",
    "    filename=\"./_target/\"+fileName+\"reslut.xls\"\n",
    "    file = pd.read_excel(filename)\n",
    "    print(fileName+\" \"+str(len(file)))\n",
    "    \n",
    "    return file.set_index(\"公開/公告號\")"
   ],
   "outputs": [],
   "metadata": {}
  },
  {
   "cell_type": "code",
   "execution_count": 2,
   "source": [
    "def run_file(file):\n",
    "    with open('dictionary.json') as jsondata:\n",
    "        data = json.load(jsondata)\n",
    "        # //print(data)\n",
    "    # print(\"---------I am dic-----------\")\n",
    "    #//ready=list(,file[\"摘要常用字\"]))\n",
    "    tending=[]\n",
    "\n",
    "    for patnet_name,patents,Classification,patent_info in zip(file['名稱'],file[\"摘要常用字\"],file[\"TF_IDF\"],file[\"專利摘要\"]):\n",
    "        # ! convert string to list\n",
    "        # ? since the file convert to string while it is in xls format\n",
    "        patent=ast.literal_eval(patents)\n",
    "        weight=[0,0,0]\n",
    "        avg=[0,0,0]\n",
    "        debug={}\n",
    "        tmp_1=[]\n",
    "        tmp_2=[]\n",
    "        tmp_3=[]\n",
    "        # print(type(patent))\n",
    "        for element in patent:\n",
    "    # * ------------------------------------------------\n",
    "            if element[0] in data['管理']['技術']:\n",
    "                weight[0]+=0.5*element[1]\n",
    "                ##print(element[0]+\"in 管理\")\n",
    "                tmp_1.append(element[0])\n",
    "            if element[0] in data['管理']['優化']:\n",
    "                weight[0]+=0.5*element[1]\n",
    "                ##print(element[0]+\"in 管理優化\")\n",
    "                tmp_1.append(element[0])\n",
    "    # * ------------------------------------------------\n",
    "            if element[0] in data['服務']['技術']:\n",
    "                weight[1]+=0.5*element[1]\n",
    "                ##print(element[0]+\"in 服務\")\n",
    "                tmp_2.append(element[0])\n",
    "            if element[0] in data['服務']['優化']:\n",
    "                weight[1]+=0.5*element[1]\n",
    "                ##print(element[0]+\"in 服務優化\")\n",
    "                tmp_2.append(element[0])\n",
    "    # * ------------------------------------------------\n",
    "            if element[0] in data['分析']['技術']:\n",
    "                ##print(element[0]+\"in 分析\")\n",
    "                weight[2]+=0.5*element[1]\n",
    "                tmp_3.append(element[0])\n",
    "            if element[0] in data['分析']['優化']:\n",
    "                ##print(element[0]+\"in 分析優化\")\n",
    "                weight[2]+=0.5*element[1]\n",
    "                tmp_3.append(element[0])\n",
    "    # * ------------------------------------------------\n",
    "        debug['分析']=tmp_3\n",
    "        debug['服務']=tmp_2\n",
    "        debug['管理']=tmp_1\n",
    "        sum=(weight[0]+weight[1]+weight[2])\n",
    "        if sum == 0:\n",
    "            sum=1\n",
    "            float(\"{:.2f}\".format(weight[0]/sum))\n",
    "        avg=[float(\"{:.2f}\".format(weight[0]/sum)),float(\"{:.2f}\".format(weight[1]/sum)),float(\"{:.2f}\".format(weight[2]/sum))]\n",
    "        tending.append({\"管理\":avg[0]*100,\"服務\":avg[1]*100,\"分析\":avg[2]*100})\n",
    "        \n",
    "        # print(patnet_name)\n",
    "        # print(patent_info)\n",
    "        # print(debug)\n",
    "        # print(f\"管理{avg[0]*100}%||服務{avg[1]*100}%||分析{avg[2]*100}%\")\n",
    "        # print(Classification)\n",
    "        # print(patents)\n",
    "        # ! _TF_IDF=float(\"{:.2f}\".format(_TF*_IDF))\n",
    "        # print ('-----------')\n",
    "    file[\"tending\"]=tending\n",
    "    \n"
   ],
   "outputs": [],
   "metadata": {}
  },
  {
   "cell_type": "code",
   "execution_count": 3,
   "source": [
    "def file_done(file):\n",
    "    tmp=file[\"tending\"]\n",
    "    tend=[]\n",
    "    for i in tmp :\n",
    "        trend=max(i.keys(), key=(lambda key: i[key]))\n",
    "        # //print (trend) \n",
    "        tend.append(trend)\n",
    "        #//print (tend)\n",
    "    file[\"property\"]=tend\n",
    "    # print(tend)\n",
    "    # print(file)"
   ],
   "outputs": [],
   "metadata": {}
  },
  {
   "cell_type": "code",
   "execution_count": 4,
   "source": [
    "def processing(file):\n",
    "    for i in file[\"TF_IDF\"]:\n",
    "        print (type(i))\n"
   ],
   "outputs": [],
   "metadata": {}
  },
  {
   "cell_type": "code",
   "execution_count": 5,
   "source": [
    "# for i in [\"中信金控\",\"兆豐金控\",\"台新金控\",\"台灣金融控股\",\"國泰金控\",\"第一金控\",\"玉山金控\",\"富邦金控\",\"新光金控\"]:\n",
    "\n",
    "for i in [\"新光金控\"]:\n",
    "    file=load(i)\n",
    "    run_file(file)\n",
    "    file_done(file)\n",
    "    pd.DataFrame(file).to_excel(\"./_target/\"+i+\"reslut.xls\")\n",
    "    # processing(file)\n",
    "    print(i+\" is done\")\n"
   ],
   "outputs": [
    {
     "output_type": "stream",
     "name": "stdout",
     "text": [
      "新光金控 38\n",
      "新光金控 is done\n"
     ]
    },
    {
     "output_type": "stream",
     "name": "stderr",
     "text": [
      "<ipython-input-5-73ce214eceb5>:7: FutureWarning: As the xlwt package is no longer maintained, the xlwt engine will be removed in a future version of pandas. This is the only engine in pandas that supports writing in the xls format. Install openpyxl and write to an xlsx file instead. You can set the option io.excel.xls.writer to 'xlwt' to silence this warning. While this option is deprecated and will also raise a warning, it can be globally set and the warning suppressed.\n",
      "  pd.DataFrame(file).to_excel(\"./_target/\"+i+\"reslut.xls\")\n"
     ]
    }
   ],
   "metadata": {}
  },
  {
   "cell_type": "code",
   "execution_count": null,
   "source": [],
   "outputs": [],
   "metadata": {}
  }
 ],
 "metadata": {
  "orig_nbformat": 4,
  "language_info": {
   "name": "python",
   "version": "3.8.8",
   "mimetype": "text/x-python",
   "codemirror_mode": {
    "name": "ipython",
    "version": 3
   },
   "pygments_lexer": "ipython3",
   "nbconvert_exporter": "python",
   "file_extension": ".py"
  },
  "kernelspec": {
   "name": "python3",
   "display_name": "Python 3.8.8 64-bit ('base': conda)"
  },
  "interpreter": {
   "hash": "dca0ade3e726a953b501b15e8e990130d2b7799f14cfd9f4271676035ebe5511"
  }
 },
 "nbformat": 4,
 "nbformat_minor": 2
}