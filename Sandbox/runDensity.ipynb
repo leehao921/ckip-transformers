{
 "cells": [
  {
   "cell_type": "code",
   "execution_count": 5,
   "source": [
    "import ast \n",
    "from collections import Counter\n",
    "from pandas import ExcelWriter\n",
    "import pandas as pd\n",
    "import json\n",
    "\n",
    "def load(fileName):\n",
    "    filename=\"./_target/\"+fileName+\"reslut.xls\"\n",
    "    file = pd.read_excel(filename)\n",
    "    print(fileName+\" \"+str(len(file)))\n",
    "    \n",
    "    return file.set_index(\"公開/公告號\")"
   ],
   "outputs": [],
   "metadata": {}
  },
  {
   "cell_type": "code",
   "execution_count": 27,
   "source": [
    "def run_file(file):\n",
    "    with open('dictionary.json') as jsondata:\n",
    "        data = json.load(jsondata)\n",
    "        # //print(data)\n",
    "    # print(\"---------I am dic-----------\")\n",
    "    #//ready=list(,file[\"摘要常用字\"]))\n",
    "    tending=[]\n",
    "\n",
    "    for patnet_name,patents,Classification,patent_info in zip(file['名稱'],file[\"摘要常用字\"],file[\"TF_IDF\"],file[\"專利摘要\"]):\n",
    "        # ! convert string to list\n",
    "        # ? since the file convert to string while it is in xls format\n",
    "        patent=ast.literal_eval(patents)\n",
    "        weight=[0,0,0]\n",
    "        avg=[0,0,0]\n",
    "        debug={}\n",
    "        tmp_1=[]\n",
    "        tmp_2=[]\n",
    "        tmp_3=[]\n",
    "        # print(type(patent))\n",
    "        for element in patent:\n",
    "    # * ------------------------------------------------\n",
    "            if element[0] in data['管理']['技術']:\n",
    "                weight[0]+=0.5*element[1]\n",
    "                ##print(element[0]+\"in 管理\")\n",
    "                tmp_1.append(element[0])\n",
    "            if element[0] in data['管理']['優化']:\n",
    "                weight[0]+=0.5*element[1]\n",
    "                ##print(element[0]+\"in 管理優化\")\n",
    "                tmp_1.append(element[0])\n",
    "    # * ------------------------------------------------\n",
    "            if element[0] in data['服務']['技術']:\n",
    "                weight[1]+=0.5*element[1]\n",
    "                ##print(element[0]+\"in 服務\")\n",
    "                tmp_2.append(element[0])\n",
    "            if element[0] in data['服務']['優化']:\n",
    "                weight[1]+=0.5*element[1]\n",
    "                ##print(element[0]+\"in 服務優化\")\n",
    "                tmp_2.append(element[0])\n",
    "    # * ------------------------------------------------\n",
    "            if element[0] in data['分析']['技術']:\n",
    "                ##print(element[0]+\"in 分析\")\n",
    "                weight[2]+=0.5*element[1]\n",
    "                tmp_3.append(element[0])\n",
    "            if element[0] in data['分析']['優化']:\n",
    "                ##print(element[0]+\"in 分析優化\")\n",
    "                weight[2]+=0.5*element[1]\n",
    "                tmp_3.append(element[0])\n",
    "    # * ------------------------------------------------\n",
    "        debug['分析']=tmp_3\n",
    "        debug['服務']=tmp_2\n",
    "        debug['管理']=tmp_1\n",
    "        sum=(weight[0]+weight[1]+weight[2])\n",
    "        if sum == 0:\n",
    "            sum=1\n",
    "            float(\"{:.2f}\".format(weight[0]/sum))\n",
    "        avg=[float(\"{:.2f}\".format(weight[0]/sum)),float(\"{:.2f}\".format(weight[1]/sum)),float(\"{:.2f}\".format(weight[2]/sum))]\n",
    "        tending.append({\"管理\":avg[0]*100,\"服務\":avg[1]*100,\"分析\":avg[2]*100})\n",
    "        \n",
    "        print(patnet_name)\n",
    "       \n",
    "        print(patent_info)\n",
    "        print(f\"管理{avg[0]*100}%||服務{avg[1]*100}%||分析{avg[2]*100}%\")\n",
    "        print(Classification)\n",
    "        print(debug)   \n",
    "        print(patents)\n",
    "\n",
    "        # ! _TF_IDF=float(\"{:.2f}\".format(_TF*_IDF))\n",
    "        print ('-----------')\n",
    "    file[\"tending\"]=tending\n",
    "    \n"
   ],
   "outputs": [],
   "metadata": {}
  },
  {
   "cell_type": "code",
   "execution_count": 28,
   "source": [
    "def file_done(file):\n",
    "    tmp=file[\"tending\"]\n",
    "    tend=[]\n",
    "    for i in tmp :\n",
    "        trend=max(i.keys(), key=(lambda key: i[key]))\n",
    "        # //print (trend) \n",
    "        tend.append(trend)\n",
    "        #//print (tend)\n",
    "    file[\"property\"]=tend\n",
    "    # print(tend)\n",
    "    # print(file)"
   ],
   "outputs": [],
   "metadata": {}
  },
  {
   "cell_type": "code",
   "execution_count": 25,
   "source": [
    "def processing(file):\n",
    "    for i in file[\"TF_IDF\"]:\n",
    "        print (type(i))\n"
   ],
   "outputs": [],
   "metadata": {}
  },
  {
   "cell_type": "code",
   "execution_count": 26,
   "source": [
    "# for i in [\"中信金控\",\"兆豐金控\",\"台新金控\",\"台灣金融控股\",\"國泰金控\",\"第一金控\",\"玉山金控\",\"富邦金控\",\"新光金控\"]:\n",
    "\n",
    "for i in [\"開發金\"]:\n",
    "    file=load(i)\n",
    "    run_file(file)\n",
    "    file_done(file)\n",
    "    pd.DataFrame(file).to_excel(\"./_target/\"+i+\"reslut.xls\")\n",
    "    # processing(file)\n",
    "    print(i+\" is done\")\n",
    "    \n"
   ],
   "outputs": [
    {
     "output_type": "stream",
     "name": "stdout",
     "text": [
      "開發金 6\n",
      "用於遠距查看及調整金融商品交易策略之遠端控制系統Remote control system for remote viewing and adjustment of financial commodity trading strategies\n",
      "{'分析': [], '服務': ['交易', '行動', '裝置', '通訊'], '管理': []}\n",
      "﻿本創作揭露一種用於遠距查看及調整金融商品交易策略之遠端控制系統，其係裝設於行動裝置，行動裝置係透過伺服器而與電腦主機電訊連接，而遠端控制系統僅供以查看及控制電腦主機內所運行之交易系統，交易系統則運行有預先設定之金融商品交易策略，遠端控制系統包含：一通訊模組，其係供以接收或傳送指令或資訊；一顯示模組，其係與通訊模組電訊連接；及一控制模組，其係與通訊模組電訊連接。如此一來，透過遠端控制系統之設置，使用者便可以在任何有網路的地方都能利用行動裝置自由新增、刪除或變更自己原先所設定好之金融商品交易策略。\n",
      "管理0.0%||服務100.0%||分析0.0%\n",
      "[('電腦主機', 0.06), ('金融商品', 0.06), ('通訊模組', 0.04), ('調整金融', 0.06), ('行動裝置', 0.06), ('控制電腦', 0.06), ('控制系統', 0.0), ('商品交易', 0.06), ('創作揭露', 0.06), ('利用行動', 0.06), ('傳送指令', 0.06), ('使用者', 0.06), ('交易系統', 0.06), ('交易策略', 0.06)]\n",
      "視訊投保系統Video-based insurance application system\n",
      "{'分析': ['保險', '處理'], '服務': ['交易'], '管理': []}\n",
      "﻿本創作提供一種視訊投保系統，其至少包含一伺服器，該伺服器包含：一演示模組，基於使用者指令啟動一操作介面；一保險模組，係連接前述演示模組，基於前述演示模組之指令啟動處理投保流程；一交易模組，係連接前述保險模組，基於前述保險模組之指令啟動處理繳費流程；一身分認證模組，係連接前述演示模組、保險模組及交易模組，基於前述演示模組、保險模組及交易模組之指令驗證使用者資訊；及一儲存模組，係連接前述保險模組及交易模組，基於前述保險模組及交易模組之指令儲存投保資訊。本創作之系統藉由結合生物辨識及視訊技術，達成簡化投保流程之功效。\n",
      "管理0.0%||服務36.0%||分析64.0%\n",
      "[('視訊投保', 0.07), ('視訊技術', 0.07), ('生物辨識', 0.07), ('演示模組', 0.07), ('操作介面', 0.07), ('指令啟動', 0.08), ('指令儲存', 0.07), ('前述演示', 0.07), ('前述保險', 0.06), ('儲存模組', 0.07), ('保險模組', 0.08), ('使用者', 0.09), ('交易模組', 0.04)]\n",
      "用於業務員教育訓練之智能教練系統Intelligent coaching system for salesman education and training\n",
      "{'分析': ['行銷', '預測', '分析'], '服務': ['行銷'], '管理': ['資料']}\n",
      "﻿本創作提供一種用於業務員教育訓練之智能教練系統，其至少包含一伺服器，該伺服器包含：一資料蒐集模組，蒐集業務員行銷之變數資訊；一模型建構模組，藉由前述資料蒐集模組所蒐集之變數資訊進行數據整理及模型訓練後建構智能教練模型；一預測分析模組，藉由前述模型建構模組所建立之智能教練模型分析並預測行銷流程；及一聊天機器人模組，根據前述預測模組所預測之行銷流程，傳送業務員指導訊息。本創作之系統可幫助業務員行銷能力的提升，推進客戶的行銷階段。\n",
      "管理11.0%||服務28.000000000000004%||分析61.0%\n",
      "[('進行數據', 0.06), ('資料蒐集', 0.06), ('變數資訊', 0.07), ('行銷流程', 0.07), ('蒐集模組', 0.06), ('蒐集業務員', 0.06), ('機器人模組', 0.06), ('模型訓練', 0.06), ('模型建構', 0.06), ('模型分析', 0.06), ('業務員教育', 0.06), ('智能教練', 0.07), ('教練模型', 0.06), ('建構模組', 0.06), ('建構智能', 0.06), ('前述資料', 0.06), ('前述模型', 0.06), ('分析模組', 0.06), ('傳送業務員', 0.06), ('\\x7f本創作', 0.06)]\n",
      "人工智慧應用於保險服務之建立標籤庫及行銷系統Establishing user tag library and marketing system by applying artificial intelligence to insurance service\n",
      "{'分析': ['行銷', '保險', '分析', '精準'], '服務': ['行銷', '提供', '建議'], '管理': ['標籤', '整合', '整合', '資料']}\n",
      "﻿本創作提供一種人工智慧應用於保險服務之建立標籤庫及行銷系統，包含：一客戶資料整合模組，係收集與整合儲存客戶行為資訊至伺服器；一AI標籤分析模組，係對前述客戶資料整合模組所儲存之客戶行為資訊進行分析，從而生產客戶標籤；一標籤倉儲管理模組，係將前述標籤之生成自動化並管控其生命週期之標籤庫；一行銷決策模組，係將前述標籤庫內的資訊透過演算法生成行銷名單或即時建議。本創作之系統讓保險業者可以更精準的掌握客戶屬性與需求，在對的時間點能即時提供銷售通路更精準的行銷建議與溝通。\n",
      "管理40.0%||服務27.0%||分析33.0%\n",
      "[('資訊進行', 0.06), ('資料整合', 0.06), ('行銷系統', 0.06), ('行銷決策', 0.06), ('行銷名單', 0.06), ('管理模組', 0.06), ('生產客戶', 0.06), ('生命週期', 0.06), ('標籤分析', 0.06), ('標籤倉儲', 0.06), ('整合模組', 0.06), ('整合儲存', 0.06), ('建立標籤庫', 0.06), ('客戶資料', 0.06), ('客戶行為', 0.07), ('前述標籤庫', 0.06), ('前述標籤', 0.06), ('前述客戶', 0.06), ('保險服務', 0.06), ('人工智慧', 0.06)]\n",
      "利率遞減型還款系統Repayment system of decreasing interest rate\n",
      "{'分析': ['處理'], '服務': [], '管理': ['資料']}\n",
      "﻿一種利率遞減型還款系統包含一個終端機及一個電腦主機，該電腦主機包括一個儲存單元及一個處理單元。該處理單元電連接該儲存單元，並電連接該終端機以接收一個還款資料，並根據在一個第二預定區間內的多個還款資料及多個預定還款金額，計算在該第二預定區間之後的一個修正利率，進而對應產生在該第二預定區間之後的多個修正還款金額。該修正利率小於或等於該初始預定利率。藉由該電腦主機判斷客戶是否發生延遲還款，主動針對信用良好的客戶調降貸款利率，不但能夠提高優良客戶的保留，也能對於信用較差的客戶保有預警機制。\n",
      "管理50.0%||服務0.0%||分析50.0%\n",
      "[('預警機制', 0.12), ('電腦主機', 0.07), ('貸款利率', 0.12), ('處理單元', 0.12), ('利率遞減型', 0.12), ('儲存單元', 0.12), ('修正利率', 0.12)]\n",
      "信託金流處理系統Trust monetary flow processing system\n",
      "{'分析': ['處理'], '服務': [], '管理': ['平台', '資料']}\n",
      "﻿一種信託金流處理系統，包含一信託金流平台、一信用徵審模組、一銀行端伺服器、及一動撥模組。該信託金流平台接收來自一網貸平台的一借款人資料。該信用徵審模組接收多個屬性變數資料，並至少根據該等屬性變數資料的數量，選擇多個權重係數組合之其中一者，以計算對應一借款人的一信用分數。當該信用徵審模組判斷該信用分數大於一優良臨界值時，該信託金流平台控制該動撥模組指示該銀行伺服器將對應一借款數量的一指定款項匯入一第一金錢信託專戶，以供該借款人領取。\n",
      "管理88.0%||服務0.0%||分析12.0%\n",
      "[('金流處理', 0.08), ('金流平台', 0.05), ('計算對應', 0.08), ('網貸平台', 0.08), ('款項匯入', 0.08), ('權重係數', 0.08), ('模組接收', 0.08), ('屬性變數', 0.08), ('動撥模組', 0.08), ('借款人領取', 0.08), ('借款人資料', 0.08), ('信用徵審', 0.08), ('信用分數', 0.08)]\n",
      "開發金 is done\n"
     ]
    },
    {
     "output_type": "stream",
     "name": "stderr",
     "text": [
      "<ipython-input-26-6eb35156f7e4>:7: FutureWarning: As the xlwt package is no longer maintained, the xlwt engine will be removed in a future version of pandas. This is the only engine in pandas that supports writing in the xls format. Install openpyxl and write to an xlsx file instead. You can set the option io.excel.xls.writer to 'xlwt' to silence this warning. While this option is deprecated and will also raise a warning, it can be globally set and the warning suppressed.\n",
      "  pd.DataFrame(file).to_excel(\"./_target/\"+i+\"reslut.xls\")\n"
     ]
    }
   ],
   "metadata": {}
  },
  {
   "cell_type": "code",
   "execution_count": null,
   "source": [],
   "outputs": [],
   "metadata": {}
  }
 ],
 "metadata": {
  "orig_nbformat": 4,
  "language_info": {
   "name": "python",
   "version": "3.8.8",
   "mimetype": "text/x-python",
   "codemirror_mode": {
    "name": "ipython",
    "version": 3
   },
   "pygments_lexer": "ipython3",
   "nbconvert_exporter": "python",
   "file_extension": ".py"
  },
  "kernelspec": {
   "name": "python3",
   "display_name": "Python 3.8.8 64-bit ('base': conda)"
  },
  "interpreter": {
   "hash": "dca0ade3e726a953b501b15e8e990130d2b7799f14cfd9f4271676035ebe5511"
  }
 },
 "nbformat": 4,
 "nbformat_minor": 2
}