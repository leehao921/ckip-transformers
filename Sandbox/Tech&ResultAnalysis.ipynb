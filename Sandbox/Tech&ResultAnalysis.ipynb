{
 "cells": [
  {
   "cell_type": "code",
   "execution_count": 1,
   "source": [
    "import ast \n",
    "from collections import Counter\n",
    "from pandas import ExcelWriter\n",
    "import pandas as pd\n",
    "import json\n",
    "\n",
    "def load(fileName):\n",
    "    filename=\"./_target/\"+fileName+\"reslut.xls\"\n",
    "    file = pd.read_excel(filename)\n",
    "    print(fileName+\" \"+str(len(file)))\n",
    "    \n",
    "    return file.set_index(\"公開/公告號\")"
   ],
   "outputs": [],
   "metadata": {}
  },
  {
   "cell_type": "code",
   "execution_count": 2,
   "source": [
    "for i in [\"中信金控\",\"兆豐金控\",\"台新金控\",\"台灣金融控股\",\"國泰金控\",\"第一金控\",\"玉山金控\",\"富邦金控\",\"新光金控\"]:\n",
    "\n",
    "#for i in [\"玉山金控\"]:\n",
    "    file=load(i)\n",
    "    # run_file(file)\n",
    "    # file_done(file)\n",
    "    # pd.DataFrame(file).to_excel(\"./_target/\"+i+\"reslut.xls\")\n",
    "    print(i+\" is done\")"
   ],
   "outputs": [
    {
     "output_type": "stream",
     "name": "stdout",
     "text": [
      "中信金控 300\n",
      "中信金控 is done\n",
      "兆豐金控 302\n",
      "兆豐金控 is done\n",
      "台新金控 76\n",
      "台新金控 is done\n",
      "台灣金融控股 340\n",
      "台灣金融控股 is done\n",
      "國泰金控 160\n",
      "國泰金控 is done\n",
      "第一金控 114\n",
      "第一金控 is done\n",
      "玉山金控 74\n",
      "玉山金控 is done\n",
      "土地銀行 270\n",
      "土地銀行 is done\n",
      "富邦金控 118\n",
      "富邦金控 is done\n",
      "開發金 6\n",
      "開發金 is done\n",
      "新光金控 38\n",
      "新光金控 is done\n"
     ]
    }
   ],
   "metadata": {}
  }
 ],
 "metadata": {
  "orig_nbformat": 4,
  "language_info": {
   "name": "python",
   "version": "3.8.8",
   "mimetype": "text/x-python",
   "codemirror_mode": {
    "name": "ipython",
    "version": 3
   },
   "pygments_lexer": "ipython3",
   "nbconvert_exporter": "python",
   "file_extension": ".py"
  },
  "kernelspec": {
   "name": "python3",
   "display_name": "Python 3.8.8 64-bit ('base': conda)"
  },
  "interpreter": {
   "hash": "dca0ade3e726a953b501b15e8e990130d2b7799f14cfd9f4271676035ebe5511"
  }
 },
 "nbformat": 4,
 "nbformat_minor": 2
}