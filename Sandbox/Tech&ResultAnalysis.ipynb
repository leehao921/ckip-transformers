{
 "cells": [
  {
   "cell_type": "code",
   "execution_count": 118,
   "source": [
    "import ast \n",
    "from collections import Counter\n",
    "from pandas import ExcelWriter\n",
    "import pandas as pd\n",
    "import json\n",
    "\n",
    "def load(fileName):\n",
    "    # fileName=\"新光金控\"\n",
    "    # filename=\"./_target/\"+fileName+\"reslut.xls\"\n",
    "    filename=\"./_target/\"+fileName+\".xlsx\"\n",
    "    file = pd.read_excel(filename)\n",
    "    print(fileName+\" \"+str(len(file)))\n",
    "\n",
    "    # print(file.head())\n",
    "    return file.set_index(\"公開/公告號\")"
   ],
   "outputs": [],
   "metadata": {}
  },
  {
   "cell_type": "code",
   "execution_count": 119,
   "source": [
    "def processing(file,target):\n",
    "\n",
    "\n",
    "# print(getKeys) \n",
    "    global ser_cnt,man_cnt,ana_cnt\n",
    "    serve=[]\n",
    "    ser_cnt=0\n",
    "    mange=[]\n",
    "    man_cnt=0\n",
    "    analy=[]\n",
    "    ana_cnt=0\n",
    "    for i,j,k in zip(file[\"TF_IDF\"],file[\"property\"],file[\"摘要關鍵字\"]) :\n",
    "        content=ast.literal_eval(k)\n",
    "        TF_IDF=ast.literal_eval(i)\n",
    "        if(j==\"服務\"):\n",
    "            ser_cnt+=1\n",
    "            for key in TF_IDF:\n",
    "                # print(key[1])\n",
    "                if(key[1]!=0):\n",
    "                    serve.append(key[0])\n",
    "                    # print(key)\n",
    "        if(j==\"管理\"):\n",
    "            man_cnt+=1\n",
    "            # mange.extend(content)\n",
    "            for key in content:\n",
    "                if(key[1]!=0):\n",
    "                    mange.append(key[0])\n",
    "        if(j==\"分析\"):\n",
    "            ana_cnt+=1\n",
    "            # analy.extend(content)\n",
    "            for key in content:\n",
    "                if(key[1]!=0):\n",
    "                    analy.append(key[0])\n",
    "    # print(serve)\n",
    "    Sum_serce=[]\n",
    "    weight_serce=[]\n",
    "    Sum_mange=[]\n",
    "    weight_mange=[]\n",
    "    Sum_analy=[]\n",
    "    weight_analy=[]\n",
    "    Sum_serce=Counter(serve).most_common(200)\n",
    "    Sum_mange=Counter(mange).most_common(200)\n",
    "    Sum_analy=Counter(analy).most_common(200)\n",
    "    for i in Sum_serce:\n",
    "        weight=float(\"{:.2f}\".format((i[1]/ser_cnt)*100))\n",
    "        weight_serce.append((i[0],weight))\n",
    "    for i in Sum_mange:\n",
    "        weight=float(\"{:.2f}\".format((i[1]/man_cnt)*100))\n",
    "        weight_mange.append((i[0],weight))\n",
    "    for i in Sum_analy:\n",
    "        weight=float(\"{:.2f}\".format((i[1]/ana_cnt)*100))\n",
    "        weight_analy.append((i[0],weight))\n",
    "\n",
    "    print()\n",
    "    # print(Sum_mange)\n",
    "    # print()\n",
    "    # print(Sum_analy)\n",
    "    df={}\n",
    "    df={\n",
    "        \"服務\":weight_serce,\n",
    "        \"管理\":weight_mange,\n",
    "        \"分析\":weight_analy\n",
    "    }\n",
    "    print(pd.DataFrame(df))\n",
    "    # file.to_excel(\"./_target/\"+target+\"_reslut.xls\", sheet_name = 'ori')\n",
    "    pd.DataFrame(df).to_excel(\"./_target/\"+target+\"_reslut.xls\", sheet_name = '趨向')\n",
    "\n",
    "    \n",
    "\n",
    "\n",
    "#sumServ=Counter(serve).most_common(20)\n",
    "# print(serve)\n",
    "\n"
   ],
   "outputs": [],
   "metadata": {}
  },
  {
   "cell_type": "code",
   "execution_count": 120,
   "source": [
    "# for i in [\"中信金控\",\"兆豐金控\",\"富邦金控\",\"台灣金融控股\",\"國泰金控\",\"第一金控\",\"玉山金控\",\"台新金控\",\"新光金控\"]:\n",
    "for i in[\"專利彙整\"]:\n",
    "\n",
    "# for i in[\"台新金控\"]:\n",
    "    file=load(i)\n",
    "    processing(file,i)\n",
    "    print(i+\" is done\")"
   ],
   "outputs": [
    {
     "output_type": "stream",
     "name": "stdout",
     "text": [
      "台新金控 76\n",
      "\n",
      "                服務              管理               分析\n",
      "0     (使用者, 43.64)   (金融機構, 46.67)     (使用者, 83.33)\n",
      "1     (軟體產品, 40.0)   (電子裝置, 46.67)    (行動裝置, 33.33)\n",
      "2    (行動裝置, 32.73)    (使用者, 46.67)    (軟體產品, 33.33)\n",
      "3     (交易模組, 20.0)    (儲存複數, 40.0)     (者帳號, 33.33)\n",
      "4    (﻿本創作, 18.18)   (徵審主機, 33.33)   (伺服器接收, 33.33)\n",
      "5    (電子裝置, 14.55)   (影像元件, 33.33)    (組合使用, 33.33)\n",
      "6   (伺服器電性, 14.55)   (身份辨識, 33.33)    (原碼內容, 33.33)\n",
      "7    (交易資訊, 12.73)   (身分辨識, 26.67)   (伺服器取得, 33.33)\n",
      "8   (伺服器通訊, 12.73)   (影線元件, 26.67)    (取得使用, 33.33)\n",
      "9    (金融機構, 10.91)   (﻿本創作, 26.67)    (方法組合, 33.33)\n",
      "10   (輸入元件, 10.91)   (帳號傳遞至, 20.0)    (使用金鑰, 33.33)\n",
      "11   (密碼設定, 10.91)    (帳號辨識, 20.0)    (金融資訊, 16.67)\n",
      "12   (儲存子模組, 9.09)   (影像檔進行, 20.0)    (分析主機, 16.67)\n",
      "13    (交易系統, 7.27)    (汽車貸款, 20.0)    (機器學習, 16.67)\n",
      "14    (網路主機, 7.27)    (管理系統, 20.0)    (輸出模組, 16.67)\n",
      "15    (儲存複數, 7.27)   (帳號傳遞, 13.33)    (使用機器, 16.67)\n",
      "16    (執行交易, 7.27)  (借款人資訊, 13.33)    (金融分析, 16.67)\n",
      "17    (儲存模組, 7.27)   (進行徵審, 13.33)    (資訊擷取, 16.67)\n",
      "18   (幫助持卡人, 7.27)   (運算模組, 13.33)  (網際網路擷取, 16.67)\n",
      "19   (設定金融卡, 7.27)   (接收模組, 13.33)    (進行機器, 16.67)\n",
      "台新金控 is done\n"
     ]
    },
    {
     "output_type": "stream",
     "name": "stderr",
     "text": [
      "<ipython-input-119-fac3b8d4c507>:66: FutureWarning: As the xlwt package is no longer maintained, the xlwt engine will be removed in a future version of pandas. This is the only engine in pandas that supports writing in the xls format. Install openpyxl and write to an xlsx file instead. You can set the option io.excel.xls.writer to 'xlwt' to silence this warning. While this option is deprecated and will also raise a warning, it can be globally set and the warning suppressed.\n",
      "  pd.DataFrame(df).to_excel(\"./_target/\"+target+\"_reslut.xls\", sheet_name = '趨向')\n"
     ]
    }
   ],
   "metadata": {}
  },
  {
   "cell_type": "code",
   "execution_count": null,
   "source": [],
   "outputs": [],
   "metadata": {}
  }
 ],
 "metadata": {
  "orig_nbformat": 4,
  "language_info": {
   "name": "python",
   "version": "3.8.8",
   "mimetype": "text/x-python",
   "codemirror_mode": {
    "name": "ipython",
    "version": 3
   },
   "pygments_lexer": "ipython3",
   "nbconvert_exporter": "python",
   "file_extension": ".py"
  },
  "kernelspec": {
   "name": "python3",
   "display_name": "Python 3.8.8 64-bit ('base': conda)"
  },
  "interpreter": {
   "hash": "dca0ade3e726a953b501b15e8e990130d2b7799f14cfd9f4271676035ebe5511"
  }
 },
 "nbformat": 4,
 "nbformat_minor": 2
}